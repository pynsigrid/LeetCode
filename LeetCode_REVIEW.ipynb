{
 "cells": [
  {
   "cell_type": "markdown",
   "metadata": {},
   "source": [
    "## 15.三数之和\n",
    "20200818\n",
    "\n",
    "暴力搜索、优化的暴力搜索、双指针法\n"
   ]
  },
  {
   "cell_type": "markdown",
   "metadata": {},
   "source": [
    "### 暴力搜索"
   ]
  },
  {
   "cell_type": "markdown",
   "metadata": {
    "ExecuteTime": {
     "end_time": "2020-08-18T02:02:36.866257Z",
     "start_time": "2020-08-18T02:02:36.861485Z"
    }
   },
   "source": [
    "1. 不重复的三次遍历\n",
    "2. ans中结果不重复\n",
    "3. 时间复杂度$O(n^3)$"
   ]
  },
  {
   "cell_type": "code",
   "execution_count": 22,
   "metadata": {
    "ExecuteTime": {
     "end_time": "2020-08-18T02:04:35.462526Z",
     "start_time": "2020-08-18T02:04:35.457399Z"
    }
   },
   "outputs": [],
   "source": [
    "def threeSum(nums):\n",
    "#     nums.sort()\n",
    "    ans = []\n",
    "    for a in range(len(nums)):\n",
    "#         print(f'a={nums[a]}')\n",
    "        for b in range(a+1, len(nums)):\n",
    "#             print(f'b={nums[b]}')\n",
    "            for c in range(b+1, len(nums)):\n",
    "                if nums[a]+nums[b]+nums[c]==0:\n",
    "                    lista = [nums[a], nums[b], nums[c]]\n",
    "                    lista.sort()\n",
    "                    if lista not in ans:\n",
    "                        ans.append(lista)\n",
    "#                     ans.append([nums[a], nums[b], nums[c]])\n",
    "    return ans\n",
    "    "
   ]
  },
  {
   "cell_type": "markdown",
   "metadata": {},
   "source": [
    "### 双指针\n",
    "1. 利用有序数组的顺序遍历\n",
    "2. 时间复杂度$O(n^2)$"
   ]
  },
  {
   "cell_type": "code",
   "execution_count": 46,
   "metadata": {
    "ExecuteTime": {
     "end_time": "2020-08-18T02:29:36.037489Z",
     "start_time": "2020-08-18T02:29:36.031667Z"
    }
   },
   "outputs": [],
   "source": [
    "def threeSum(nums):\n",
    "    nums.sort()\n",
    "    ans = []\n",
    "    for a in range(len(nums)):\n",
    "        left, right = a+1, len(nums)-1\n",
    "        while left < right:\n",
    "#             print(f'left, right = {left}, {right}')\n",
    "            if nums[left]+nums[right] < nums[a]*(-1):\n",
    "                left += 1\n",
    "            elif nums[left]+nums[right] > nums[a]*(-1):\n",
    "                right -= 1\n",
    "            else:\n",
    "                lista = [nums[a], nums[left], nums[right]]\n",
    "                if lista not in ans:\n",
    "                    ans.append(lista)\n",
    "#                 break  # break方法无法全部遍历\n",
    "                left += 1\n",
    "                right -= 1\n",
    "    return ans\n",
    "    "
   ]
  },
  {
   "cell_type": "markdown",
   "metadata": {},
   "source": [
    "### 优化的双指针\n",
    "1. 去重\n",
    "2. 去除不可能的方案"
   ]
  },
  {
   "cell_type": "code",
   "execution_count": 57,
   "metadata": {
    "ExecuteTime": {
     "end_time": "2020-08-18T02:54:06.262428Z",
     "start_time": "2020-08-18T02:54:06.255016Z"
    }
   },
   "outputs": [],
   "source": [
    "def threeSum(nums):\n",
    "    nums.sort()\n",
    "    ans = []\n",
    "    for a in range(len(nums)):\n",
    "        if nums[a] > 0: return ans  # 去除不可能的方案\n",
    "        if a > 0 and nums[a] == nums[a-1]:continue  # 去重\n",
    "        left, right = a+1, len(nums)-1\n",
    "        while left < right:\n",
    "#             print(f'left, right = {left}, {right}')\n",
    "            if nums[left]+nums[right] < nums[a]*(-1):\n",
    "                left += 1\n",
    "            elif nums[left]+nums[right] > nums[a]*(-1):\n",
    "                right -= 1\n",
    "            else:\n",
    "                lista = [nums[a], nums[left], nums[right]]\n",
    "                if lista not in ans:\n",
    "                    ans.append(lista)\n",
    "                while(left<right and nums[left]==nums[left+1]):  # 去重\n",
    "                    left += 1\n",
    "                while(left<right and nums[right]==nums[right-1]):  # 去重\n",
    "                    right -= 1\n",
    "                left += 1\n",
    "                right -= 1\n",
    "    return ans\n",
    "    "
   ]
  },
  {
   "cell_type": "code",
   "execution_count": 58,
   "metadata": {
    "ExecuteTime": {
     "end_time": "2020-08-18T02:54:06.387317Z",
     "start_time": "2020-08-18T02:54:06.383196Z"
    }
   },
   "outputs": [
    {
     "data": {
      "text/plain": [
       "[[-1, -1, 2], [-1, 0, 1]]"
      ]
     },
     "execution_count": 58,
     "metadata": {},
     "output_type": "execute_result"
    }
   ],
   "source": [
    "nums = [-1, 0, 1, 2, -1, -4]\n",
    "threeSum(nums)"
   ]
  },
  {
   "cell_type": "markdown",
   "metadata": {},
   "source": [
    "## 盛水最多的容器\n",
    "20200819、20200831"
   ]
  },
  {
   "cell_type": "markdown",
   "metadata": {},
   "source": [
    "### 暴力搜索"
   ]
  },
  {
   "cell_type": "code",
   "execution_count": 3,
   "metadata": {
    "ExecuteTime": {
     "end_time": "2020-08-19T14:13:20.168701Z",
     "start_time": "2020-08-19T14:13:20.163871Z"
    }
   },
   "outputs": [],
   "source": [
    "def maxArea(height):\n",
    "    max_vol = 0\n",
    "    for i in range(len(height)):\n",
    "        for j in range(i+1, len(height)):\n",
    "            vol = (j-i)*min(height[i], height[j])\n",
    "            max_vol = max(max_vol, vol)\n",
    "    return max_vol"
   ]
  },
  {
   "cell_type": "markdown",
   "metadata": {},
   "source": [
    "### 优化的暴力搜索：反向遍历"
   ]
  },
  {
   "cell_type": "code",
   "execution_count": 29,
   "metadata": {
    "ExecuteTime": {
     "end_time": "2020-08-19T14:24:00.390492Z",
     "start_time": "2020-08-19T14:24:00.384561Z"
    }
   },
   "outputs": [],
   "source": [
    "def maxArea(height):\n",
    "    max_vol = 0\n",
    "    for i in range(len(height)):\n",
    "        if height[i]<height[i-1]:continue\n",
    "        for j in range(len(height)-1, i, -1):\n",
    "#             print(i, j)\n",
    "            if j<len(height)-2:\n",
    "                if height[j]<height[j+1]:\n",
    "                    continue\n",
    "            vol = (j-i)*min(height[i], height[j])\n",
    "            max_vol = max(max_vol, vol)\n",
    "    return max_vol"
   ]
  },
  {
   "cell_type": "markdown",
   "metadata": {},
   "source": [
    "### 双指针\n",
    "非有序数组也可以使用双指针，利用指针实现大小比较"
   ]
  },
  {
   "cell_type": "code",
   "execution_count": 33,
   "metadata": {
    "ExecuteTime": {
     "end_time": "2020-08-19T14:27:58.233949Z",
     "start_time": "2020-08-19T14:27:58.228385Z"
    }
   },
   "outputs": [],
   "source": [
    "def maxArea(height):\n",
    "    max_vol = 0\n",
    "    left, right = 0, len(height)-1\n",
    "    while left<right:\n",
    "        cur_vol = (right-left)*min(height[right], height[left])\n",
    "        max_vol = max(max_vol, cur_vol)\n",
    "#         print(leftrightght)\n",
    "        if height[left]<height[right]:\n",
    "            left+=1\n",
    "        else:\n",
    "            right-=1\n",
    "    return max_vol"
   ]
  },
  {
   "cell_type": "code",
   "execution_count": 34,
   "metadata": {
    "ExecuteTime": {
     "end_time": "2020-08-19T14:27:58.430873Z",
     "start_time": "2020-08-19T14:27:58.424006Z"
    },
    "scrolled": true
   },
   "outputs": [
    {
     "name": "stdout",
     "output_type": "stream",
     "text": [
      "0 8\n",
      "1 8\n",
      "1 7\n",
      "1 6\n",
      "1 5\n",
      "1 4\n",
      "1 3\n",
      "1 2\n"
     ]
    },
    {
     "data": {
      "text/plain": [
       "49"
      ]
     },
     "execution_count": 34,
     "metadata": {},
     "output_type": "execute_result"
    }
   ],
   "source": [
    "height = [1, 8, 6, 2, 5, 4, 8, 3, 7]\n",
    "maxArea(height)"
   ]
  },
  {
   "cell_type": "markdown",
   "metadata": {},
   "source": [
    "## 33. 搜索旋转排序数组"
   ]
  },
  {
   "cell_type": "markdown",
   "metadata": {},
   "source": [
    "题目要求的$O(logn)$复杂度想到二分查找的方法。\n",
    "\n",
    "由于二分查找的前提的数组有序，因此在设置双指针开始查找之前增建一个状态的判断：左/右子数组是否为有序数组\n"
   ]
  },
  {
   "cell_type": "code",
   "execution_count": 14,
   "metadata": {
    "ExecuteTime": {
     "end_time": "2020-08-25T03:19:49.706277Z",
     "start_time": "2020-08-25T03:19:49.693819Z"
    }
   },
   "outputs": [],
   "source": [
    "class Solution(object):\n",
    "    def search(self, nums, target):\n",
    "        \"\"\"\n",
    "        :type nums: List[int]\n",
    "        :type target: int\n",
    "        :rtype: int\n",
    "        \"\"\"\n",
    "\n",
    "        if len(nums)<=0: return None\n",
    "        left, right = 0, len(nums)-1\n",
    "        while left <= right:\n",
    "            mid = (right-left)//2+left\n",
    "            if nums[mid] == nums[left]: return mid\n",
    "            elif nums[mid] > nums[left]:\n",
    "                if nums[left]<=target<=nums[mid]:\n",
    "                    target_idx = findTarget(nums, target, left, right=mid)\n",
    "                    return target_idx\n",
    "                else:\n",
    "                    left = mid+1\n",
    "            else:\n",
    "                if nums[mid]<=target<=nums[right]:\n",
    "                    target_idx = findTarget(nums, target, mid+1, right)\n",
    "                    return target_idx\n",
    "                else:\n",
    "                    right = mid+1\n",
    "                \n",
    "    def findTarget(self, nums, target, left, right):    \n",
    "        while left <= right:\n",
    "            mid = (right-left)//2+left\n",
    "            if nums[mid] == target:\n",
    "                return mid\n",
    "            elif nums[mid] > target:\n",
    "                right = mid+1\n",
    "            else:\n",
    "                left = mid+1\n",
    "        return -1\n"
   ]
  },
  {
   "cell_type": "code",
   "execution_count": 15,
   "metadata": {
    "ExecuteTime": {
     "end_time": "2020-08-25T03:19:49.930523Z",
     "start_time": "2020-08-25T03:19:49.923333Z"
    },
    "scrolled": true
   },
   "outputs": [
    {
     "data": {
      "text/plain": [
       "6"
      ]
     },
     "execution_count": 15,
     "metadata": {},
     "output_type": "execute_result"
    }
   ],
   "source": [
    "nums = [7,0,1,2,3,4,5,6]\n",
    "target = 5\n",
    "a = Solution()\n",
    "a.search(nums, target)"
   ]
  },
  {
   "cell_type": "markdown",
   "metadata": {},
   "source": [
    "## 34. 排序数组查找左右边界"
   ]
  },
  {
   "cell_type": "markdown",
   "metadata": {},
   "source": [
    "与题33类似的是也是二分查找的变形。\n",
    "\n",
    "增建的状态：\n",
    "1. 找到target对象，\n",
    "2. 继续在target周围搜索第一个最后一个出现target的位置"
   ]
  },
  {
   "cell_type": "code",
   "execution_count": 1,
   "metadata": {
    "ExecuteTime": {
     "end_time": "2020-08-21T06:09:53.860493Z",
     "start_time": "2020-08-21T06:09:53.848561Z"
    }
   },
   "outputs": [],
   "source": [
    "class Solution(object):\n",
    "    def searchRange(self, nums, target):\n",
    "        return [self.left_bound(nums, target), self.right_bound(nums, target)]\n",
    "    \n",
    "    def left_bound(self, nums, target):\n",
    "        left, right = 0, len(nums)-1\n",
    "        while left <= right:\n",
    "            mid = (right-left)//2+left\n",
    "            if nums[mid] == target:\n",
    "                right = mid-1\n",
    "            elif nums[mid] > target:\n",
    "                right = mid-1\n",
    "            else:\n",
    "                left = mid+1\n",
    "        if nums[left]==target:\n",
    "            return left\n",
    "        else:\n",
    "            return -1\n",
    "        \n",
    "    def right_bound(self, nums, target):\n",
    "        left, right = 0, len(nums)-1\n",
    "        while left <= right:\n",
    "            mid = (right-left)//2+left\n",
    "            if nums[mid] == target:\n",
    "                left = mid+1\n",
    "            elif nums[mid] > target:\n",
    "                right = mid-1\n",
    "            else:\n",
    "                left = mid+1\n",
    "        if nums[right]==target:\n",
    "            return right\n",
    "        else:\n",
    "            return -1"
   ]
  },
  {
   "cell_type": "code",
   "execution_count": 13,
   "metadata": {
    "ExecuteTime": {
     "end_time": "2020-08-29T03:02:32.918539Z",
     "start_time": "2020-08-29T03:02:32.911239Z"
    }
   },
   "outputs": [],
   "source": [
    "class Solution(object):\n",
    "    def searchRange(self, nums, target):\n",
    "        return [self.left_bound(nums, target), self.right_bound(nums, target)]\n",
    "    \n",
    "    def left_bound(self, nums, target):\n",
    "        left, right = 0, len(nums)-1\n",
    "        while left <= right:\n",
    "            mid = (right-left)//2+left\n",
    "            if nums[mid] == target:\n",
    "                right = mid - 1\n",
    "            elif nums[mid] > target:\n",
    "                right = mid - 1\n",
    "            else:\n",
    "                left = mid + 1\n",
    "                \n",
    "        if nums[left]==target:\n",
    "            return left\n",
    "        else:\n",
    "            return -1\n",
    "        \n",
    "    def right_bound(self, nums, target):\n",
    "        left, right = 0, len(nums)-1\n",
    "        while left <= right:\n",
    "            mid = (right-left)//2+left\n",
    "            if nums[mid] == target:\n",
    "                left = mid + 1\n",
    "            elif nums[mid] < target:\n",
    "                left = mid + 1\n",
    "            else:\n",
    "                right = mid - 1\n",
    "\n",
    "        if nums[right]==target:\n",
    "            return right\n",
    "        else:\n",
    "            return -1"
   ]
  },
  {
   "cell_type": "code",
   "execution_count": 14,
   "metadata": {
    "ExecuteTime": {
     "end_time": "2020-08-29T03:02:33.426014Z",
     "start_time": "2020-08-29T03:02:33.421661Z"
    }
   },
   "outputs": [
    {
     "data": {
      "text/plain": [
       "[3, 4]"
      ]
     },
     "execution_count": 14,
     "metadata": {},
     "output_type": "execute_result"
    }
   ],
   "source": [
    "nums = [5,7,7,8,8,10]\n",
    "target = 8\n",
    "a = Solution()\n",
    "a.searchRange(nums, target)"
   ]
  },
  {
   "cell_type": "markdown",
   "metadata": {},
   "source": [
    "## 48. 旋转图像"
   ]
  },
  {
   "cell_type": "markdown",
   "metadata": {},
   "source": [
    "20200822\n",
    "\n",
    "trick：\n",
    "1. 每一圈完成遍历：p1、p2指向顶角\n",
    "2. 旋转的实现：$matrix[p1][p1+a] = matrix[p2-a][p1]$...\n",
    "3. 一圈完成后，收缩：p1 += 1;p2 -= 1"
   ]
  },
  {
   "cell_type": "code",
   "execution_count": 12,
   "metadata": {
    "ExecuteTime": {
     "end_time": "2020-08-22T14:17:34.412034Z",
     "start_time": "2020-08-22T14:17:34.406053Z"
    }
   },
   "outputs": [],
   "source": [
    "class Solution(object):\n",
    "    def rotate(self, matrix):\n",
    "        \"\"\"\n",
    "        :type matrix: List[List[int]]\n",
    "        :rtype: None Do not return anything, modify matrix in-place instead.\n",
    "        \"\"\"\n",
    "        p1, p2 = 0, len(matrix)-1\n",
    "        a = 0\n",
    "        while p1 < p2:\n",
    "            for a in range(0, p2-p1):\n",
    "#                 print(a, matrix[p1][p1+a])\n",
    "                temp = matrix[p1][p1+a]\n",
    "                matrix[p1][p1+a] = matrix[p2-a][p1]\n",
    "                matrix[p2-a][p1] = matrix[p2][p2-a]\n",
    "                matrix[p2][p2-a] = matrix[p1+a][p2]\n",
    "                matrix[p1+a][p2] = temp\n",
    "            p1 += 1\n",
    "            p2 -= 1\n",
    "                \n",
    "        return matrix"
   ]
  },
  {
   "cell_type": "code",
   "execution_count": 13,
   "metadata": {
    "ExecuteTime": {
     "end_time": "2020-08-22T14:17:34.596604Z",
     "start_time": "2020-08-22T14:17:34.589440Z"
    },
    "scrolled": false
   },
   "outputs": [
    {
     "data": {
      "text/plain": [
       "[[7, 4, 1], [8, 5, 2], [9, 6, 3]]"
      ]
     },
     "execution_count": 13,
     "metadata": {},
     "output_type": "execute_result"
    }
   ],
   "source": [
    "matrix = [\n",
    "  [1,2,3],\n",
    "  [4,5,6],\n",
    "  [7,8,9]\n",
    "]\n",
    "a = Solution()\n",
    "a.rotate(matrix)"
   ]
  },
  {
   "cell_type": "markdown",
   "metadata": {},
   "source": [
    "## 283. 移动零"
   ]
  },
  {
   "cell_type": "code",
   "execution_count": 2,
   "metadata": {
    "ExecuteTime": {
     "end_time": "2020-08-27T02:50:53.959062Z",
     "start_time": "2020-08-27T02:50:53.952641Z"
    }
   },
   "outputs": [],
   "source": [
    "class Solution(object):\n",
    "    def moveZeroes(self, nums):\n",
    "        \"\"\"\n",
    "        :type nums: List[int]\n",
    "        :rtype: None Do not return anything, modify nums in-place instead.\n",
    "        \"\"\"\n",
    "        j = 0\n",
    "        for i in range(len(nums)):\n",
    "            if nums[i] != 0:\n",
    "                nums[j] = nums[i]\n",
    "                if i != j:\n",
    "                    nums[i] = 0\n",
    "                j += 1\n",
    "        return nums"
   ]
  },
  {
   "cell_type": "code",
   "execution_count": 3,
   "metadata": {
    "ExecuteTime": {
     "end_time": "2020-08-27T02:50:54.179385Z",
     "start_time": "2020-08-27T02:50:54.165036Z"
    },
    "scrolled": true
   },
   "outputs": [
    {
     "data": {
      "text/plain": [
       "[1, 2, 1, 4, 0, 0]"
      ]
     },
     "execution_count": 3,
     "metadata": {},
     "output_type": "execute_result"
    }
   ],
   "source": [
    "nums = [1, 2, 0, 1, 0, 4]\n",
    "a = Solution()\n",
    "a.moveZeroes(nums)"
   ]
  },
  {
   "cell_type": "markdown",
   "metadata": {},
   "source": [
    "## 26. 删除排序数组的重复项"
   ]
  },
  {
   "cell_type": "code",
   "execution_count": 8,
   "metadata": {
    "ExecuteTime": {
     "end_time": "2020-08-27T07:00:45.779258Z",
     "start_time": "2020-08-27T07:00:45.772673Z"
    }
   },
   "outputs": [],
   "source": [
    "class Solution(object):\n",
    "    def removeDuplicates(self, nums):\n",
    "        \"\"\"\n",
    "        :type nums: List[int]\n",
    "        :rtype: int\n",
    "        \"\"\"\n",
    "        i = 0\n",
    "        for j in range(len(nums)):\n",
    "            if nums[i] != nums[j]:\n",
    "                i += 1\n",
    "                nums[i] = nums[j]\n",
    "        nums = nums[:i+1]\n",
    "        return i+1\n",
    "    \n",
    "                "
   ]
  },
  {
   "cell_type": "code",
   "execution_count": 11,
   "metadata": {
    "ExecuteTime": {
     "end_time": "2020-08-27T07:00:55.637756Z",
     "start_time": "2020-08-27T07:00:55.630066Z"
    }
   },
   "outputs": [
    {
     "data": {
      "text/plain": [
       "5"
      ]
     },
     "execution_count": 11,
     "metadata": {},
     "output_type": "execute_result"
    }
   ],
   "source": [
    "nums = [0,0,1,1,1,2,2,3,3,4]\n",
    "a = Solution()\n",
    "a.removeDuplicates(nums)"
   ]
  },
  {
   "cell_type": "markdown",
   "metadata": {},
   "source": [
    "## 55. 跳跃游戏"
   ]
  },
  {
   "cell_type": "markdown",
   "metadata": {},
   "source": [
    "### 动态规划\n",
    "1. 最优子解：$nums[:-1]$可以走通\n",
    "2. 状态：$dp[i] = T/F$ 表示该步能否走通\n",
    "3. 状态转移方程：最长步数>=最小跨越距离( 上一个可以走的通的位置-当前位置)$nums[i] >= idx-i$"
   ]
  },
  {
   "cell_type": "code",
   "execution_count": 12,
   "metadata": {
    "ExecuteTime": {
     "end_time": "2020-09-01T08:32:02.281012Z",
     "start_time": "2020-09-01T08:32:02.274206Z"
    }
   },
   "outputs": [],
   "source": [
    "class Solution(object):\n",
    "    def canJump(self, nums):\n",
    "        \"\"\"\n",
    "        :type nums: List[int]\n",
    "        :rtype: bool\n",
    "        \"\"\"\n",
    "        idx = len(nums)-1\n",
    "        dp = [False] * len(nums)\n",
    "        for i in range(len(nums)-1, -1, -1):\n",
    "            if nums[i] >= idx-i:\n",
    "                idx = i\n",
    "#                 print(i)\n",
    "                dp[i] = True\n",
    "        return dp[0]"
   ]
  },
  {
   "cell_type": "code",
   "execution_count": 13,
   "metadata": {
    "ExecuteTime": {
     "end_time": "2020-09-01T08:32:02.479034Z",
     "start_time": "2020-09-01T08:32:02.472559Z"
    }
   },
   "outputs": [
    {
     "data": {
      "text/plain": [
       "True"
      ]
     },
     "execution_count": 13,
     "metadata": {},
     "output_type": "execute_result"
    }
   ],
   "source": [
    "nums = [2, 3, 1, 0, 4]\n",
    "a = Solution()\n",
    "a.canJump(nums)"
   ]
  },
  {
   "cell_type": "markdown",
   "metadata": {},
   "source": [
    "## 56. 合并区间"
   ]
  },
  {
   "cell_type": "markdown",
   "metadata": {},
   "source": [
    "### 下标运算\n",
    "1. 不在原有的interval上操作：下标会乱\n",
    "2. 如果大于：替换；如果小于：添加"
   ]
  },
  {
   "cell_type": "code",
   "execution_count": 22,
   "metadata": {
    "ExecuteTime": {
     "end_time": "2020-09-02T03:31:59.630435Z",
     "start_time": "2020-09-02T03:31:59.621766Z"
    }
   },
   "outputs": [],
   "source": [
    "class Solution(object):\n",
    "    def merge(self, intervals):\n",
    "        \"\"\"\n",
    "        :type intervals: List[List[int]]\n",
    "        :rtype: List[List[int]]\n",
    "        \"\"\"\n",
    "        if len(intervals) == 0: return []\n",
    "        ans = [intervals[0]]\n",
    "        res = [intervals[0]]\n",
    "        for i in range(1, len(intervals)):\n",
    "            ans = res[-1]\n",
    "            if res[-1][1] >= intervals[i][0]:\n",
    "                ans = [res[-1][0], intervals[i][1]]\n",
    "                res[-1] = ans\n",
    "            else:\n",
    "                ans = intervals[i]\n",
    "                res.append(ans)\n",
    "        return res\n",
    "    "
   ]
  },
  {
   "cell_type": "code",
   "execution_count": 24,
   "metadata": {
    "ExecuteTime": {
     "end_time": "2020-09-02T03:32:14.055486Z",
     "start_time": "2020-09-02T03:32:14.048288Z"
    }
   },
   "outputs": [
    {
     "data": {
      "text/plain": [
       "[[1, 6], [8, 10], [15, 18]]"
      ]
     },
     "execution_count": 24,
     "metadata": {},
     "output_type": "execute_result"
    }
   ],
   "source": [
    "intervals = [[1,3],[2,6],[8,10],[15,18]]\n",
    "a = Solution()\n",
    "a.merge(intervals)"
   ]
  },
  {
   "cell_type": "markdown",
   "metadata": {},
   "source": [
    "## 121. 买卖股票的最佳时机"
   ]
  },
  {
   "cell_type": "markdown",
   "metadata": {},
   "source": [
    "### 动态规划\n",
    "使用动态规划方法求解股票问题：\n",
    "1. 最优子解：前一天的最大化收益dp[i-1]\n",
    "2. 状态：$dp[i][k][0/1]$:i表示天数，k表示可以买入的次数，0/1表示没有持有股票/持有股票\n",
    "3. 转移矩阵：$dp[i][k][0] = max(dp[i-1][k][0], dp[i-1][k][1]+prices[i])$ \n",
    "$dp[i][k][1] = max(dp[i-1][k][1], dp[i-1][k-1][1]-prices[i])$\n",
    "4. 边界条件：$dp[0][k][0] = 0$, $dp[0][k][1] = -prices[0]$, $dp[i][0][0] = 0$, $dp[i][0][1] = NAN$\n",
    "该题是只允许买卖一次的情况，因此k=1，将上述转移矩阵化简得：$dp[i][0] = max(dp[i-1][0], dp[i-1][1]+prices[i])$ \n",
    "$dp[i][1] = max(dp[i-1][1], -prices[i])$"
   ]
  },
  {
   "cell_type": "code",
   "execution_count": 1,
   "metadata": {
    "ExecuteTime": {
     "end_time": "2020-09-03T03:31:28.965437Z",
     "start_time": "2020-09-03T03:31:28.959347Z"
    }
   },
   "outputs": [],
   "source": [
    "class Solution(object):\n",
    "    def maxProfit(self, prices):\n",
    "        \"\"\"\n",
    "        :type prices: List[int]\n",
    "        :rtype: int\n",
    "        \"\"\"\n",
    "        dp = [[0]*2]*len(prices)\n",
    "        dp[0][0], dp[0][1]= 0, -prices[0]\n",
    "        for i in range(len(prices)):\n",
    "            dp[i][0] = max(dp[i-1][0], dp[i-1][1]+prices[i])\n",
    "            dp[i][1] = max(dp[i-1][1], -prices[i])\n",
    "        return dp[-1][0]"
   ]
  },
  {
   "cell_type": "code",
   "execution_count": 2,
   "metadata": {
    "ExecuteTime": {
     "end_time": "2020-09-03T03:31:45.694038Z",
     "start_time": "2020-09-03T03:31:45.680959Z"
    }
   },
   "outputs": [
    {
     "data": {
      "text/plain": [
       "5"
      ]
     },
     "execution_count": 2,
     "metadata": {},
     "output_type": "execute_result"
    }
   ],
   "source": [
    "prices = [7,1,5,3,6,4]\n",
    "a = Solution()\n",
    "a.maxProfit(prices)"
   ]
  },
  {
   "cell_type": "markdown",
   "metadata": {},
   "source": [
    "### "
   ]
  },
  {
   "cell_type": "code",
   "execution_count": null,
   "metadata": {},
   "outputs": [],
   "source": [
    "class Solution(object):\n",
    "    def maxProfit(self, prices):\n",
    "        \"\"\"\n",
    "        :type prices: List[int]\n",
    "        :rtype: int\n",
    "        \"\"\"\n",
    "        dp = [[0]*2]*len(prices)\n",
    "        dp[0][0], dp[0][1]= 0, -prices[0]\n",
    "        for i in range(len(prices)):\n",
    "            dp[i][0] = max(dp[i-1][0], dp[i-1][1]+prices[i])\n",
    "            dp[i][1] = max(dp[i-1][1], -prices[i])\n",
    "        return dp[-1][0]"
   ]
  },
  {
   "cell_type": "code",
   "execution_count": null,
   "metadata": {},
   "outputs": [],
   "source": [
    "class Solution(object):\n",
    "    def maxProfit(self, prices):\n",
    "        \"\"\"\n",
    "        :type prices: List[int]\n",
    "        :rtype: int\n",
    "        \"\"\"\n",
    "        dp = [[0]*2]*len(prices)\n",
    "        dp[0][0], dp[0][1]= 0, -prices[0]\n",
    "        for i in range(len(prices)):\n",
    "            dp[i][0] = max(dp[i-1][0], dp[i-1][1]+prices[i])\n",
    "            dp[i][1] = max(dp[i-1][1], -prices[i])\n",
    "        return dp[-1][0]"
   ]
  },
  {
   "cell_type": "markdown",
   "metadata": {},
   "source": [
    "## 62. 不同路径"
   ]
  },
  {
   "cell_type": "markdown",
   "metadata": {},
   "source": [
    "### 动态规划\n",
    "1. 最优子解：目标点可以由该点上一点向下走一步和该点左一点向右走一步到达\n",
    "2. 状态$dp[i][j]$表示该$(i, j)$坐标点路线的个数\n",
    "3. 转移方程：$dp[i][j]=dp[i][j-1]+dp[i-1][j]$"
   ]
  },
  {
   "cell_type": "code",
   "execution_count": 2,
   "metadata": {
    "ExecuteTime": {
     "end_time": "2020-09-10T01:37:03.428542Z",
     "start_time": "2020-09-10T01:37:03.421478Z"
    }
   },
   "outputs": [],
   "source": [
    "class Solution(object):\n",
    "    def uniquePaths(self, m, n):\n",
    "        \"\"\"\n",
    "        :type m: int\n",
    "        :type n: int\n",
    "        :rtype: int\n",
    "        \"\"\"\n",
    "        dp = list()\n",
    "        dp = [[1]*m] + [[1] + [0]*(m-1)]*(n-1)\n",
    "        for i in range(1, n):\n",
    "            for j in range(1, m):\n",
    "                dp[i][j] = dp[i-1][j] + dp[i][j-1]\n",
    "        return dp[-1][-1]"
   ]
  },
  {
   "cell_type": "code",
   "execution_count": 3,
   "metadata": {
    "ExecuteTime": {
     "end_time": "2020-09-10T01:37:03.621695Z",
     "start_time": "2020-09-10T01:37:03.612146Z"
    }
   },
   "outputs": [
    {
     "data": {
      "text/plain": [
       "28"
      ]
     },
     "execution_count": 3,
     "metadata": {},
     "output_type": "execute_result"
    }
   ],
   "source": [
    "a = Solution()\n",
    "a.uniquePaths(m=7, n=3)"
   ]
  },
  {
   "cell_type": "markdown",
   "metadata": {},
   "source": [
    "## 79. 单词搜索"
   ]
  },
  {
   "cell_type": "markdown",
   "metadata": {},
   "source": [
    "### 递归+DFS\n",
    "1. 终止条件：(1)找到全部word:len(word)=0;(2)找到了边界:i/j<0/>=len(board)\n",
    "2. ⚠️前面走过的点要置0\n",
    "3. 递归部分self.DFS(前、后、左、右): \n",
    "\n",
    "⚠️完成递归主体时的顺序: 先返回内部的T/F，再返回外部的T/F\n",
    "\n",
    "ans = self.DFS(前、后、左、右)\n",
    "\n",
    "return ans\n"
   ]
  },
  {
   "cell_type": "code",
   "execution_count": 7,
   "metadata": {
    "ExecuteTime": {
     "end_time": "2020-09-13T13:15:13.152164Z",
     "start_time": "2020-09-13T13:15:13.140897Z"
    }
   },
   "outputs": [],
   "source": [
    "class Solution:\n",
    "    def exist(self, board, word):\n",
    "        if len(word) == 0: return False\n",
    "        if len(board) == 0: return False\n",
    "        for i in range(len(board)):\n",
    "            for j in range(len(board[0])):\n",
    "                if self.DFS(board, word, i, j):\n",
    "                    return True\n",
    "        return False\n",
    "    \n",
    "    def DFS(self, word, board, i, j):\n",
    "        if len(word) == 0: return True\n",
    "        if i<0 or i>=len(board) or j<0 or j>=len(board[0]) or board[i][j]!=word[0]: return False\n",
    "        \n",
    "        tmp = board[i][j]\n",
    "        board[i][j] = '0'\n",
    "        ans = self.DFS(word[1:], board, i+1, j) or self.DFS(word[1:], board, i-1, j) or self.DFS(word[1:], board, i, j+1) or self.DFS(word[1:], board, i, j-1)\n",
    "        board[i][j] = tmp\n",
    "        return ans"
   ]
  },
  {
   "cell_type": "code",
   "execution_count": 19,
   "metadata": {
    "ExecuteTime": {
     "end_time": "2020-09-13T13:26:53.834543Z",
     "start_time": "2020-09-13T13:26:53.826801Z"
    }
   },
   "outputs": [
    {
     "data": {
      "text/plain": [
       "False"
      ]
     },
     "execution_count": 19,
     "metadata": {},
     "output_type": "execute_result"
    }
   ],
   "source": [
    "word = 'SE'\n",
    "board =[\n",
    "  ['A','B','C','E'],\n",
    "  ['S','F','C','S'],\n",
    "  ['A','D','E','E']\n",
    "]\n",
    "a = Solution()\n",
    "a.exist(word, board)"
   ]
  },
  {
   "cell_type": "markdown",
   "metadata": {},
   "source": [
    "## 238. 除自身以外数组的乘积"
   ]
  },
  {
   "cell_type": "markdown",
   "metadata": {},
   "source": [
    "### 前后累乘\n",
    "利用list记录从前往后到第i个数字时的累乘积和从后往前到第i个数字时的累乘积，再对应下标相乘得到结果\n",
    "\n",
    "时间复杂度：$O(3n)$\n",
    "\n",
    "空间复杂度：$O(2n)$, 不算输出list占用的空间"
   ]
  },
  {
   "cell_type": "code",
   "execution_count": 24,
   "metadata": {
    "ExecuteTime": {
     "end_time": "2020-09-13T13:32:09.339708Z",
     "start_time": "2020-09-13T13:32:09.330886Z"
    }
   },
   "outputs": [],
   "source": [
    "class Solution(object):\n",
    "    def productExceptSelf(self, nums):\n",
    "        \"\"\"\n",
    "        :type nums: List[int]\n",
    "        :rtype: List[int]\n",
    "        \"\"\"\n",
    "        n = len(nums)\n",
    "        output, front, back = [1 for _ in range(len(nums))], [1 for _ in range(len(nums))], [1 for _ in range(len(nums))]\n",
    "        for i in range(1, n):\n",
    "            front[i] = front[i-1]*nums[i-1]\n",
    "        for j in range(n-2, -1, -1):\n",
    "            back[j] = back[j+1]*nums[j+1]\n",
    "        for k in range(n):\n",
    "            output[k] = front[k]*back[k]\n",
    "        return output\n",
    "            "
   ]
  },
  {
   "cell_type": "markdown",
   "metadata": {},
   "source": [
    "### 动态规划\n",
    "优化前后累乘的方法，从而减少计算复杂度\n",
    "\n",
    "时间复杂度：$O(2n)$\n",
    "\n",
    "空间复杂度：$O(1)$, 不算输出list占用的空间"
   ]
  },
  {
   "cell_type": "code",
   "execution_count": 26,
   "metadata": {
    "ExecuteTime": {
     "end_time": "2020-09-13T13:33:31.618119Z",
     "start_time": "2020-09-13T13:33:31.611476Z"
    }
   },
   "outputs": [],
   "source": [
    "class Solution(object):\n",
    "    def productExceptSelf(self, nums):\n",
    "        \"\"\"\n",
    "        :type nums: List[int]\n",
    "        :rtype: List[int]\n",
    "        \"\"\"\n",
    "        n = len(nums)\n",
    "        output, front, back = [1 for _ in range(len(nums))], 1, 1\n",
    "        for i in range(1, n):\n",
    "            front *= nums[i-1]\n",
    "            output[i] *= front\n",
    "        for j in range(n-2, -1, -1):\n",
    "            back *= nums[j+1]\n",
    "            output[j] *= back\n",
    "        \n",
    "        return output\n",
    "            "
   ]
  },
  {
   "cell_type": "code",
   "execution_count": 27,
   "metadata": {
    "ExecuteTime": {
     "end_time": "2020-09-13T13:33:31.827314Z",
     "start_time": "2020-09-13T13:33:31.821419Z"
    }
   },
   "outputs": [
    {
     "data": {
      "text/plain": [
       "[24, 12, 8, 6]"
      ]
     },
     "execution_count": 27,
     "metadata": {},
     "output_type": "execute_result"
    }
   ],
   "source": [
    "nums = [1, 2, 3, 4]\n",
    "a = Solution()\n",
    "a.productExceptSelf(nums)"
   ]
  },
  {
   "cell_type": "code",
   "execution_count": null,
   "metadata": {},
   "outputs": [],
   "source": []
  }
 ],
 "metadata": {
  "kernelspec": {
   "display_name": "Python 3",
   "language": "python",
   "name": "python3"
  },
  "language_info": {
   "codemirror_mode": {
    "name": "ipython",
    "version": 3
   },
   "file_extension": ".py",
   "mimetype": "text/x-python",
   "name": "python",
   "nbconvert_exporter": "python",
   "pygments_lexer": "ipython3",
   "version": "3.7.6"
  },
  "toc": {
   "base_numbering": 1,
   "nav_menu": {},
   "number_sections": true,
   "sideBar": true,
   "skip_h1_title": false,
   "title_cell": "Table of Contents",
   "title_sidebar": "Contents",
   "toc_cell": false,
   "toc_position": {
    "height": "calc(100% - 180px)",
    "left": "10px",
    "top": "150px",
    "width": "165px"
   },
   "toc_section_display": true,
   "toc_window_display": true
  },
  "varInspector": {
   "cols": {
    "lenName": 16,
    "lenType": 16,
    "lenVar": 40
   },
   "kernels_config": {
    "python": {
     "delete_cmd_postfix": "",
     "delete_cmd_prefix": "del ",
     "library": "var_list.py",
     "varRefreshCmd": "print(var_dic_list())"
    },
    "r": {
     "delete_cmd_postfix": ") ",
     "delete_cmd_prefix": "rm(",
     "library": "var_list.r",
     "varRefreshCmd": "cat(var_dic_list()) "
    }
   },
   "types_to_exclude": [
    "module",
    "function",
    "builtin_function_or_method",
    "instance",
    "_Feature"
   ],
   "window_display": false
  }
 },
 "nbformat": 4,
 "nbformat_minor": 4
}
