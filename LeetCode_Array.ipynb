{
 "cells": [
  {
   "cell_type": "markdown",
   "metadata": {},
   "source": [
    "## 283:移动零"
   ]
  },
  {
   "cell_type": "markdown",
   "metadata": {},
   "source": [
    "### 解题思路\n",
    "方法1：遍历，遇到0跳过，后面的向前移动\n",
    "\n",
    "### 代码\n",
    "\n",
    "```python\n",
    "class Solution(object):\n",
    "    def moveZeroes(self, nums):\n",
    "        \"\"\"\n",
    "        :type nums: List[int]\n",
    "        :rtype: None Do not return anything, modify nums in-place instead.\n",
    "        \"\"\"\n",
    "        j = 0\n",
    "        for i in range(len(nums)):\n",
    "            if nums[i] != 0:\n",
    "                nums[j] = nums[i]\n",
    "                if i != j:\n",
    "                    nums[i] = 0\n",
    "                j += 1\n",
    "        return nums\n",
    "```\n",
    "\n",
    "### 解题思路\n",
    "方法2：另外一个数组记录非零项和出现零的次数。（该方法不满足小注上面：不开新数组的要求，但是此方法是本人第一个想到、最简单的方法）\n",
    "\n",
    "### 代码"
   ]
  },
  {
   "cell_type": "code",
   "execution_count": 6,
   "metadata": {
    "ExecuteTime": {
     "end_time": "2020-07-08T09:01:31.852942Z",
     "start_time": "2020-07-08T09:01:31.841976Z"
    }
   },
   "outputs": [],
   "source": [
    "def moveZeroes(nums):\n",
    "    \"\"\"\n",
    "    :type nums: List[int]\n",
    "    :rtype: None Do not return anything, modify nums in-place instead.\n",
    "    \"\"\"\n",
    "    lens = len(nums)\n",
    "    count = 0\n",
    "    for i in range(lens):\n",
    "        if nums[i] != 0:\n",
    "            nums[i], nums[count] = nums[count], nums[i]\n",
    "            count += 1\n",
    "    return nums"
   ]
  },
  {
   "cell_type": "code",
   "execution_count": 7,
   "metadata": {
    "ExecuteTime": {
     "end_time": "2020-07-08T09:01:32.162163Z",
     "start_time": "2020-07-08T09:01:32.134902Z"
    }
   },
   "outputs": [
    {
     "data": {
      "text/plain": [
       "[1, 3, 5, 9, 0]"
      ]
     },
     "execution_count": 7,
     "metadata": {},
     "output_type": "execute_result"
    }
   ],
   "source": [
    "lista = [1, 3, 0, 5, 9]\n",
    "moveZeroes(lista)"
   ]
  },
  {
   "cell_type": "code",
   "execution_count": null,
   "metadata": {},
   "outputs": [],
   "source": []
  },
  {
   "cell_type": "markdown",
   "metadata": {},
   "source": [
    "## 26: 删除排序数组中的重复项"
   ]
  },
  {
   "cell_type": "markdown",
   "metadata": {},
   "source": [
    "### 新增存储空间的方法"
   ]
  },
  {
   "cell_type": "code",
   "execution_count": 14,
   "metadata": {
    "ExecuteTime": {
     "end_time": "2020-07-08T09:23:45.742408Z",
     "start_time": "2020-07-08T09:23:45.735936Z"
    }
   },
   "outputs": [],
   "source": [
    "def removeDuplicates(nums):\n",
    "    \"\"\"\n",
    "    :type nums: List[int]\n",
    "    :rtype: int\n",
    "    \"\"\"\n",
    "    new = list()\n",
    "    for i in nums:\n",
    "        if i not in new:\n",
    "            new.append(i)\n",
    "    return len(new)"
   ]
  },
  {
   "cell_type": "markdown",
   "metadata": {},
   "source": [
    "### 前后比较pop的方法\n",
    "题干划重点：有序数组，不增加额外空间\n",
    "1. 由于pop改变数组长度，该方法不能用for loop索引下标\n",
    "2. 目前只能解决两个重复的问题，三个数字重复不可"
   ]
  },
  {
   "cell_type": "code",
   "execution_count": 92,
   "metadata": {
    "ExecuteTime": {
     "end_time": "2020-07-09T01:31:29.783553Z",
     "start_time": "2020-07-09T01:31:29.774785Z"
    }
   },
   "outputs": [],
   "source": [
    "def removeDuplicates(nums):\n",
    "    \"\"\"\n",
    "    :type nums: List[int]\n",
    "    :rtype: int\n",
    "    \"\"\"\n",
    "    i = 0\n",
    "    while i < len(nums):\n",
    "        if nums[i-1] == nums[i]:\n",
    "            nums.pop(i-1)\n",
    "        i += 1\n",
    "    return nums"
   ]
  },
  {
   "cell_type": "markdown",
   "metadata": {},
   "source": [
    "### 双指针方法\n",
    "i用于nums计算，j用于试探"
   ]
  },
  {
   "cell_type": "code",
   "execution_count": 106,
   "metadata": {
    "ExecuteTime": {
     "end_time": "2020-07-09T02:34:34.324218Z",
     "start_time": "2020-07-09T02:34:34.315221Z"
    }
   },
   "outputs": [],
   "source": [
    "def removeDuplicates(nums):\n",
    "    \"\"\"\n",
    "    :type nums: List[int]\n",
    "    :rtype: int\n",
    "    \"\"\"\n",
    "    i = 0\n",
    "    for j in range(1, len(nums)):\n",
    "        if nums[i] != nums[j]:\n",
    "            i += 1\n",
    "            nums[i] = nums[j]\n",
    "    print(nums)\n",
    "#     return nums[:i+1]\n",
    "    return i+1"
   ]
  },
  {
   "cell_type": "code",
   "execution_count": 108,
   "metadata": {
    "ExecuteTime": {
     "end_time": "2020-07-09T02:34:40.901377Z",
     "start_time": "2020-07-09T02:34:40.891333Z"
    },
    "scrolled": true
   },
   "outputs": [
    {
     "name": "stdout",
     "output_type": "stream",
     "text": [
      "[1, 2, 2]\n"
     ]
    },
    {
     "data": {
      "text/plain": [
       "2"
      ]
     },
     "execution_count": 108,
     "metadata": {},
     "output_type": "execute_result"
    }
   ],
   "source": [
    "nums = [1, 1, 2]\n",
    "removeDuplicates(nums)"
   ]
  },
  {
   "cell_type": "markdown",
   "metadata": {},
   "source": [
    "## 118. 杨辉三角"
   ]
  },
  {
   "cell_type": "markdown",
   "metadata": {},
   "source": [
    "### 方法1"
   ]
  },
  {
   "cell_type": "code",
   "execution_count": 90,
   "metadata": {
    "ExecuteTime": {
     "end_time": "2020-07-21T07:42:39.155284Z",
     "start_time": "2020-07-21T07:42:39.137769Z"
    },
    "scrolled": true
   },
   "outputs": [
    {
     "data": {
      "text/plain": [
       "[[1, 0, 0], [1, 1, 0], [1, 2, 1], [1, 3, 3, 1], [1, 4, 6, 4, 1]]"
      ]
     },
     "execution_count": 90,
     "metadata": {},
     "output_type": "execute_result"
    }
   ],
   "source": [
    "n = 5\n",
    "yh = [[None for _ in range(n)] for _ in range(n)]\n",
    "for i in range(n):\n",
    "    yh[i][0], yh[i][i] = 1, 1\n",
    "\n",
    "    for j in range(1, n-1):\n",
    "        yh[i][j] = yh[i-1][j] + yh[i-1][j-1] if yh[i-1][j] or yh[i-1][j-1] is not None else 0\n",
    "for i in range(n):\n",
    "    yh[i].remove(0) if 0 in yh[i] else None\n",
    "\n",
    "    yh[i].remove(None) if None in yh[i] else 0\n",
    "    \n",
    "\n",
    "yh"
   ]
  },
  {
   "cell_type": "code",
   "execution_count": 81,
   "metadata": {
    "ExecuteTime": {
     "end_time": "2020-07-21T07:40:01.789685Z",
     "start_time": "2020-07-21T07:40:01.780372Z"
    }
   },
   "outputs": [
    {
     "data": {
      "text/plain": [
       "[[1], [1, 1], [1, 2, 1]]"
      ]
     },
     "execution_count": 81,
     "metadata": {},
     "output_type": "execute_result"
    }
   ],
   "source": [
    "for i in range(n):\n",
    "    yh[i].remove(0) if 0 in yh[i] else None\n",
    "yh"
   ]
  },
  {
   "cell_type": "code",
   "execution_count": 61,
   "metadata": {
    "ExecuteTime": {
     "end_time": "2020-07-21T07:33:54.584025Z",
     "start_time": "2020-07-21T07:33:54.572804Z"
    }
   },
   "outputs": [
    {
     "data": {
      "text/plain": [
       "[[1, 0], [1, 1], [1, 2, 1], [1, 3, 3, 1], [1, 4, 6, 4, 1]]"
      ]
     },
     "execution_count": 61,
     "metadata": {},
     "output_type": "execute_result"
    }
   ],
   "source": [
    "for i in range(n):\n",
    "    yh[i].remove(0) if 0 in yh[i] else 0\n",
    "    yh[i].remove(None) if None in yh[i] else None\n",
    "\n",
    "yh"
   ]
  },
  {
   "cell_type": "markdown",
   "metadata": {},
   "source": [
    "### 方法2\n"
   ]
  },
  {
   "cell_type": "code",
   "execution_count": 93,
   "metadata": {
    "ExecuteTime": {
     "end_time": "2020-07-21T07:48:23.252851Z",
     "start_time": "2020-07-21T07:48:23.240679Z"
    }
   },
   "outputs": [
    {
     "data": {
      "text/plain": [
       "[[1], [1, 1], [1, 2, 1], [1, 3, 3, 1], [1, 4, 6, 4, 1]]"
      ]
     },
     "execution_count": 93,
     "metadata": {},
     "output_type": "execute_result"
    }
   ],
   "source": [
    "def generate(numRows: int):\n",
    "    r = [[1]]\n",
    "    for i in range(1, numRows):\n",
    "        r.append([1] + [sum(r[-1][j:j+2]) for j in range(i)])\n",
    "    return numRows and r or []\n",
    "generate(5)"
   ]
  },
  {
   "cell_type": "markdown",
   "metadata": {},
   "source": [
    "### 方法3"
   ]
  },
  {
   "cell_type": "code",
   "execution_count": 99,
   "metadata": {
    "ExecuteTime": {
     "end_time": "2020-07-21T08:13:18.401765Z",
     "start_time": "2020-07-21T08:13:18.386464Z"
    }
   },
   "outputs": [
    {
     "data": {
      "text/plain": [
       "[[1], [1, 1], [1, 2, 1], [1, 3, 3, 1], [1, 4, 6, 4, 1]]"
      ]
     },
     "execution_count": 99,
     "metadata": {},
     "output_type": "execute_result"
    }
   ],
   "source": [
    "def generate(numRows):\n",
    "    yh = []\n",
    "    for i in range(numRows):\n",
    "        cur = [None for _ in range(i+1)]\n",
    "        cur[0], cur[-1] = 1, 1\n",
    "        for k in range(1, i):\n",
    "            cur[k] = yh[i-1][k-1] + yh[i-1][k]\n",
    "        yh.append(cur)\n",
    "    return yh\n",
    "generate(5)"
   ]
  },
  {
   "cell_type": "markdown",
   "metadata": {},
   "source": [
    "## 169. 多数元素"
   ]
  },
  {
   "cell_type": "markdown",
   "metadata": {},
   "source": [
    "### 方法1"
   ]
  },
  {
   "cell_type": "code",
   "execution_count": 124,
   "metadata": {
    "ExecuteTime": {
     "end_time": "2020-07-21T09:00:49.482353Z",
     "start_time": "2020-07-21T09:00:49.469405Z"
    }
   },
   "outputs": [],
   "source": [
    "def majorityElement(nums):\n",
    "    cnt = [[], []]\n",
    "    for i in range(len(nums)):\n",
    "        if nums[i] not in cnt[0]:\n",
    "            cnt[0].append(nums[i])\n",
    "            cnt[1].append(0)\n",
    "            idx = cnt[0].index(nums[i])\n",
    "            cnt[1][idx] += 1\n",
    "        else:\n",
    "            idx = cnt[0].index(nums[i])\n",
    "            cnt[1][idx] += 1\n",
    "    for i in range(len(cnt[0])):\n",
    "        if cnt[1][i] >= len(cnt[0])/2:\n",
    "            return cnt[0][i] \n",
    "        else:\n",
    "            return None\n",
    "nums = [1, 1, 3, 4, 5, 2, 4, 5, 5, 5, 5, 5]\n",
    "majorityElement(nums)"
   ]
  },
  {
   "cell_type": "code",
   "execution_count": 103,
   "metadata": {
    "ExecuteTime": {
     "end_time": "2020-07-21T08:49:35.933724Z",
     "start_time": "2020-07-21T08:49:35.923773Z"
    }
   },
   "outputs": [
    {
     "data": {
      "text/plain": [
       "[[1], []]"
      ]
     },
     "execution_count": 103,
     "metadata": {},
     "output_type": "execute_result"
    }
   ],
   "source": [
    "cnt = [[], []]\n",
    "cnt[0].append(1)\n",
    "cnt"
   ]
  },
  {
   "cell_type": "markdown",
   "metadata": {},
   "source": [
    "## 189. 旋转数组"
   ]
  },
  {
   "cell_type": "markdown",
   "metadata": {},
   "source": [
    "### 切片"
   ]
  },
  {
   "cell_type": "code",
   "execution_count": 10,
   "metadata": {
    "ExecuteTime": {
     "end_time": "2020-07-24T01:38:15.582875Z",
     "start_time": "2020-07-24T01:38:15.574523Z"
    }
   },
   "outputs": [
    {
     "data": {
      "text/plain": [
       "[5, 6, 7, 1, 2, 3, 4]"
      ]
     },
     "execution_count": 10,
     "metadata": {},
     "output_type": "execute_result"
    }
   ],
   "source": [
    "nums = [1, 2, 3, 4, 5, 6, 7]\n",
    "rotate(nums, 3)"
   ]
  },
  {
   "cell_type": "code",
   "execution_count": null,
   "metadata": {},
   "outputs": [],
   "source": [
    "class Solution(object):\n",
    "    def rotate(self, nums, k):\n",
    "        \"\"\"\n",
    "        :type nums: List[int]\n",
    "        :type k: int\n",
    "        :rtype: None Do not return anything, modify nums in-place instead.\n",
    "        \"\"\"\n",
    "        # nums[:] =  nums[-k:] + nums[:-k]\n",
    "        # \"nums = \"是开新变量，“nums[:] = ”是原地址引用!!!\n",
    "        nums[:] = nums[-(k%len(nums)):] + nums[:-(k%len(nums))]"
   ]
  },
  {
   "cell_type": "markdown",
   "metadata": {},
   "source": [
    "### 反转"
   ]
  },
  {
   "cell_type": "code",
   "execution_count": 34,
   "metadata": {
    "ExecuteTime": {
     "end_time": "2020-07-24T02:16:00.174417Z",
     "start_time": "2020-07-24T02:16:00.168275Z"
    }
   },
   "outputs": [],
   "source": [
    "def rotate(nums, k):\n",
    "    nums[:] = nums[::-1]\n",
    "    nums[:k] = nums[:k][::-1]\n",
    "    nums[k:] = nums[k:][::-1]\n",
    "    return nums"
   ]
  },
  {
   "cell_type": "markdown",
   "metadata": {},
   "source": [
    "Python 旋转数组：切片/3次反转/交换"
   ]
  },
  {
   "cell_type": "markdown",
   "metadata": {},
   "source": [
    "### 插入\n"
   ]
  },
  {
   "cell_type": "code",
   "execution_count": 38,
   "metadata": {
    "ExecuteTime": {
     "end_time": "2020-07-24T02:18:18.255228Z",
     "start_time": "2020-07-24T02:18:18.249142Z"
    }
   },
   "outputs": [],
   "source": [
    "def rotate(nums, k):\n",
    "    for i in range(k%len(nums)):\n",
    "        nums.insert(0, nums.pop())\n",
    "    return nums"
   ]
  },
  {
   "cell_type": "code",
   "execution_count": 41,
   "metadata": {
    "ExecuteTime": {
     "end_time": "2020-07-24T03:12:45.973241Z",
     "start_time": "2020-07-24T03:12:45.965274Z"
    }
   },
   "outputs": [
    {
     "data": {
      "text/plain": [
       "[5, 6, 7, 1, 2, 3, 4]"
      ]
     },
     "execution_count": 41,
     "metadata": {},
     "output_type": "execute_result"
    }
   ],
   "source": [
    "nums = [1, 2, 3, 4, 5, 6, 7]\n",
    "rotate(nums, 3)\n"
   ]
  },
  {
   "cell_type": "markdown",
   "metadata": {},
   "source": [
    "## 217. 存在重复数字"
   ]
  },
  {
   "cell_type": "markdown",
   "metadata": {},
   "source": [
    "### 哈希表"
   ]
  },
  {
   "cell_type": "code",
   "execution_count": 105,
   "metadata": {
    "ExecuteTime": {
     "end_time": "2020-07-24T06:51:59.238794Z",
     "start_time": "2020-07-24T06:51:59.232831Z"
    }
   },
   "outputs": [],
   "source": [
    "def containsDuplicate(nums):\n",
    "    numsDict = {}\n",
    "    for i in nums:\n",
    "        if numsDict.get(i, 0) == 0:\n",
    "            numsDict[i] = 1\n",
    "        else:\n",
    "            return True\n",
    "    return False"
   ]
  },
  {
   "cell_type": "markdown",
   "metadata": {},
   "source": [
    "### set集合"
   ]
  },
  {
   "cell_type": "code",
   "execution_count": 111,
   "metadata": {
    "ExecuteTime": {
     "end_time": "2020-07-24T06:54:55.383277Z",
     "start_time": "2020-07-24T06:54:55.374924Z"
    }
   },
   "outputs": [],
   "source": [
    "def containsDuplicate(nums):\n",
    "    n = len(nums)\n",
    "    nums = set(nums)\n",
    "    return True if len(nums) != n else False\n",
    "        "
   ]
  },
  {
   "cell_type": "code",
   "execution_count": 113,
   "metadata": {
    "ExecuteTime": {
     "end_time": "2020-07-24T06:55:02.381732Z",
     "start_time": "2020-07-24T06:55:02.374145Z"
    }
   },
   "outputs": [
    {
     "data": {
      "text/plain": [
       "True"
      ]
     },
     "execution_count": 113,
     "metadata": {},
     "output_type": "execute_result"
    }
   ],
   "source": [
    "nums2 = [1, 2, 3]\n",
    "containsDuplicate(nums2)\n"
   ]
  },
  {
   "cell_type": "markdown",
   "metadata": {},
   "source": [
    "## 268. 缺失数字\n"
   ]
  },
  {
   "cell_type": "markdown",
   "metadata": {},
   "source": [
    "### 比较"
   ]
  },
  {
   "cell_type": "code",
   "execution_count": 39,
   "metadata": {
    "ExecuteTime": {
     "end_time": "2020-07-24T08:02:18.741773Z",
     "start_time": "2020-07-24T08:02:18.734692Z"
    }
   },
   "outputs": [],
   "source": [
    "def missingNumber(nums):\n",
    "    nums.sort()\n",
    "    for i in nums[1:]:\n",
    "        print(i)\n",
    "        print(f'{nums[i-1]}, {nums[i]}')\n",
    "\n",
    "        if nums[i-1]+1 != nums[i]:\n",
    "            return nums[i]\n",
    "    return nums[i]+1\n",
    "    "
   ]
  },
  {
   "cell_type": "code",
   "execution_count": 69,
   "metadata": {
    "ExecuteTime": {
     "end_time": "2020-07-24T09:34:48.742335Z",
     "start_time": "2020-07-24T09:34:48.731723Z"
    }
   },
   "outputs": [],
   "source": [
    "n = max(nums)+1\n",
    "def missingNumber(nums):\n",
    "    std = [i for i in range(n)]\n",
    "    nums.sort()\n",
    "    print(f'std = {std}, nums = {nums}')\n",
    "    for i in nums:\n",
    "        return i if i not in std else \"Ok\""
   ]
  },
  {
   "cell_type": "code",
   "execution_count": 70,
   "metadata": {
    "ExecuteTime": {
     "end_time": "2020-07-24T09:34:49.169937Z",
     "start_time": "2020-07-24T09:34:49.163586Z"
    }
   },
   "outputs": [
    {
     "name": "stdout",
     "output_type": "stream",
     "text": [
      "std = [0, 1, 2, 3, 4, 5, 6], nums = [0, 1, 3, 4, 5, 6]\n",
      "Ok\n"
     ]
    }
   ],
   "source": [
    "nums = [6, 0, 1, 3, 4, 5]\n",
    "print(missingNumber(nums))"
   ]
  },
  {
   "cell_type": "markdown",
   "metadata": {},
   "source": [
    "### 位运算"
   ]
  },
  {
   "cell_type": "code",
   "execution_count": 41,
   "metadata": {
    "ExecuteTime": {
     "end_time": "2020-07-24T08:29:46.033798Z",
     "start_time": "2020-07-24T08:29:46.029353Z"
    }
   },
   "outputs": [],
   "source": [
    "def missingNumber(nums):\n",
    "    return min({i for i in range(max(nums)+2)}^set(nums)) # 集合运算{}\n"
   ]
  },
  {
   "cell_type": "markdown",
   "metadata": {},
   "source": [
    "## 43. 螺旋矩阵"
   ]
  },
  {
   "cell_type": "code",
   "execution_count": null,
   "metadata": {},
   "outputs": [],
   "source": [
    "class Solution(object):\n",
    "    def spiralOrder(self, matrix):\n",
    "        \"\"\"\n",
    "        :type matrix: List[List[int]]\n",
    "        :rtype: List[int]\n",
    "        \"\"\"\n",
    "        if len(matrix) == 0: return []\n",
    "        width, length = len(matrix), len(matrix[0])\n",
    "        layer = (min(width, length)+1)//2\n",
    "        ans = list()\n",
    "        \n",
    "        for i in range(layer):\n",
    "            for j in range(i, length-i):\n",
    "                ans.append(matrix[i][j])\n",
    "            for j in range(i+1, width-i):\n",
    "                ans.append(matrix[j][length-i-1])\n",
    "            if width-i-1 != i:\n",
    "                for j in range(length-i-2, i-1, -1):  # attention:范围：[length-i-2,i]\n",
    "                    ans.append(matrix[width-i-1][j])\n",
    "            if length-i-1 != i:\n",
    "                for j in range(width-i-2, i, -1):  # attention:范围：[width-i-2,i-1]\n",
    "                    ans.append(matrix[j][i])\n",
    "    #                 print(ans)\n",
    "\n",
    "        return ans\n"
   ]
  }
 ],
 "metadata": {
  "kernelspec": {
   "display_name": "Python 3",
   "language": "python",
   "name": "python3"
  },
  "language_info": {
   "codemirror_mode": {
    "name": "ipython",
    "version": 3
   },
   "file_extension": ".py",
   "mimetype": "text/x-python",
   "name": "python",
   "nbconvert_exporter": "python",
   "pygments_lexer": "ipython3",
   "version": "3.7.6"
  },
  "toc": {
   "base_numbering": 1,
   "nav_menu": {
    "height": "432px",
    "width": "205px"
   },
   "number_sections": true,
   "sideBar": true,
   "skip_h1_title": false,
   "title_cell": "Table of Contents",
   "title_sidebar": "Contents",
   "toc_cell": false,
   "toc_position": {
    "height": "calc(100% - 180px)",
    "left": "10px",
    "top": "150px",
    "width": "165px"
   },
   "toc_section_display": true,
   "toc_window_display": true
  },
  "varInspector": {
   "cols": {
    "lenName": 16,
    "lenType": 16,
    "lenVar": 40
   },
   "kernels_config": {
    "python": {
     "delete_cmd_postfix": "",
     "delete_cmd_prefix": "del ",
     "library": "var_list.py",
     "varRefreshCmd": "print(var_dic_list())"
    },
    "r": {
     "delete_cmd_postfix": ") ",
     "delete_cmd_prefix": "rm(",
     "library": "var_list.r",
     "varRefreshCmd": "cat(var_dic_list()) "
    }
   },
   "types_to_exclude": [
    "module",
    "function",
    "builtin_function_or_method",
    "instance",
    "_Feature"
   ],
   "window_display": false
  }
 },
 "nbformat": 4,
 "nbformat_minor": 4
}
