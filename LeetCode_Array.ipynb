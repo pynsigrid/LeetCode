{
 "cells": [
  {
   "cell_type": "markdown",
   "metadata": {},
   "source": [
    "## 283:移动零"
   ]
  },
  {
   "cell_type": "markdown",
   "metadata": {},
   "source": [
    "### 解题思路\n",
    "方法1：遍历，遇到0跳过，后面的向前移动\n",
    "\n",
    "### 代码\n",
    "\n",
    "```python\n",
    "class Solution(object):\n",
    "    def moveZeroes(self, nums):\n",
    "        \"\"\"\n",
    "        :type nums: List[int]\n",
    "        :rtype: None Do not return anything, modify nums in-place instead.\n",
    "        \"\"\"\n",
    "        j = 0\n",
    "        for i in range(len(nums)):\n",
    "            if nums[i] != 0:\n",
    "                nums[j] = nums[i]\n",
    "                if i != j:\n",
    "                    nums[i] = 0\n",
    "                j += 1\n",
    "        return nums\n",
    "```\n",
    "\n",
    "### 解题思路\n",
    "方法2：另外一个数组记录非零项和出现零的次数。（该方法不满足小注上面：不开新数组的要求，但是此方法是本人第一个想到、最简单的方法）\n",
    "\n",
    "### 代码"
   ]
  },
  {
   "cell_type": "code",
   "execution_count": 6,
   "metadata": {
    "ExecuteTime": {
     "end_time": "2020-07-08T09:01:31.852942Z",
     "start_time": "2020-07-08T09:01:31.841976Z"
    }
   },
   "outputs": [],
   "source": [
    "def moveZeroes(nums):\n",
    "    \"\"\"\n",
    "    :type nums: List[int]\n",
    "    :rtype: None Do not return anything, modify nums in-place instead.\n",
    "    \"\"\"\n",
    "    lens = len(nums)\n",
    "    count = 0\n",
    "    for i in range(lens):\n",
    "        if nums[i] != 0:\n",
    "            nums[i], nums[count] = nums[count], nums[i]\n",
    "            count += 1\n",
    "    return nums"
   ]
  },
  {
   "cell_type": "code",
   "execution_count": 7,
   "metadata": {
    "ExecuteTime": {
     "end_time": "2020-07-08T09:01:32.162163Z",
     "start_time": "2020-07-08T09:01:32.134902Z"
    }
   },
   "outputs": [
    {
     "data": {
      "text/plain": [
       "[1, 3, 5, 9, 0]"
      ]
     },
     "execution_count": 7,
     "metadata": {},
     "output_type": "execute_result"
    }
   ],
   "source": [
    "lista = [1, 3, 0, 5, 9]\n",
    "moveZeroes(lista)"
   ]
  },
  {
   "cell_type": "code",
   "execution_count": null,
   "metadata": {},
   "outputs": [],
   "source": []
  },
  {
   "cell_type": "markdown",
   "metadata": {},
   "source": [
    "## 26: 删除排序数组中的重复项"
   ]
  },
  {
   "cell_type": "markdown",
   "metadata": {},
   "source": [
    "### 新增存储空间的方法"
   ]
  },
  {
   "cell_type": "code",
   "execution_count": 14,
   "metadata": {
    "ExecuteTime": {
     "end_time": "2020-07-08T09:23:45.742408Z",
     "start_time": "2020-07-08T09:23:45.735936Z"
    }
   },
   "outputs": [],
   "source": [
    "def removeDuplicates(nums):\n",
    "    \"\"\"\n",
    "    :type nums: List[int]\n",
    "    :rtype: int\n",
    "    \"\"\"\n",
    "    new = list()\n",
    "    for i in nums:\n",
    "        if i not in new:\n",
    "            new.append(i)\n",
    "    return len(new)"
   ]
  },
  {
   "cell_type": "markdown",
   "metadata": {},
   "source": [
    "### 前后比较pop的方法\n",
    "题干划重点：有序数组，不增加额外空间\n",
    "1. 由于pop改变数组长度，该方法不能用for loop索引下标\n",
    "2. 目前只能解决两个重复的问题，三个数字重复不可"
   ]
  },
  {
   "cell_type": "code",
   "execution_count": 92,
   "metadata": {
    "ExecuteTime": {
     "end_time": "2020-07-09T01:31:29.783553Z",
     "start_time": "2020-07-09T01:31:29.774785Z"
    }
   },
   "outputs": [],
   "source": [
    "def removeDuplicates(nums):\n",
    "    \"\"\"\n",
    "    :type nums: List[int]\n",
    "    :rtype: int\n",
    "    \"\"\"\n",
    "    i = 0\n",
    "    while i < len(nums):\n",
    "        if nums[i-1] == nums[i]:\n",
    "            nums.pop(i-1)\n",
    "        i += 1\n",
    "    return nums"
   ]
  },
  {
   "cell_type": "markdown",
   "metadata": {},
   "source": [
    "### 双指针方法\n",
    "i用于nums计算，j用于试探"
   ]
  },
  {
   "cell_type": "code",
   "execution_count": 106,
   "metadata": {
    "ExecuteTime": {
     "end_time": "2020-07-09T02:34:34.324218Z",
     "start_time": "2020-07-09T02:34:34.315221Z"
    }
   },
   "outputs": [],
   "source": [
    "def removeDuplicates(nums):\n",
    "    \"\"\"\n",
    "    :type nums: List[int]\n",
    "    :rtype: int\n",
    "    \"\"\"\n",
    "    i = 0\n",
    "    for j in range(1, len(nums)):\n",
    "        if nums[i] != nums[j]:\n",
    "            i += 1\n",
    "            nums[i] = nums[j]\n",
    "    print(nums)\n",
    "#     return nums[:i+1]\n",
    "    return i+1"
   ]
  },
  {
   "cell_type": "code",
   "execution_count": 108,
   "metadata": {
    "ExecuteTime": {
     "end_time": "2020-07-09T02:34:40.901377Z",
     "start_time": "2020-07-09T02:34:40.891333Z"
    },
    "scrolled": true
   },
   "outputs": [
    {
     "name": "stdout",
     "output_type": "stream",
     "text": [
      "[1, 2, 2]\n"
     ]
    },
    {
     "data": {
      "text/plain": [
       "2"
      ]
     },
     "execution_count": 108,
     "metadata": {},
     "output_type": "execute_result"
    }
   ],
   "source": [
    "nums = [1, 1, 2]\n",
    "removeDuplicates(nums)"
   ]
  },
  {
   "cell_type": "markdown",
   "metadata": {},
   "source": [
    "## 118. 杨辉三角"
   ]
  },
  {
   "cell_type": "markdown",
   "metadata": {},
   "source": [
    "### 方法1"
   ]
  },
  {
   "cell_type": "code",
   "execution_count": 90,
   "metadata": {
    "ExecuteTime": {
     "end_time": "2020-07-21T07:42:39.155284Z",
     "start_time": "2020-07-21T07:42:39.137769Z"
    },
    "scrolled": true
   },
   "outputs": [
    {
     "data": {
      "text/plain": [
       "[[1, 0, 0], [1, 1, 0], [1, 2, 1], [1, 3, 3, 1], [1, 4, 6, 4, 1]]"
      ]
     },
     "execution_count": 90,
     "metadata": {},
     "output_type": "execute_result"
    }
   ],
   "source": [
    "n = 5\n",
    "yh = [[None for _ in range(n)] for _ in range(n)]\n",
    "for i in range(n):\n",
    "    yh[i][0], yh[i][i] = 1, 1\n",
    "\n",
    "    for j in range(1, n-1):\n",
    "        yh[i][j] = yh[i-1][j] + yh[i-1][j-1] if yh[i-1][j] or yh[i-1][j-1] is not None else 0\n",
    "for i in range(n):\n",
    "    yh[i].remove(0) if 0 in yh[i] else None\n",
    "\n",
    "    yh[i].remove(None) if None in yh[i] else 0\n",
    "    \n",
    "\n",
    "yh"
   ]
  },
  {
   "cell_type": "code",
   "execution_count": 81,
   "metadata": {
    "ExecuteTime": {
     "end_time": "2020-07-21T07:40:01.789685Z",
     "start_time": "2020-07-21T07:40:01.780372Z"
    }
   },
   "outputs": [
    {
     "data": {
      "text/plain": [
       "[[1], [1, 1], [1, 2, 1]]"
      ]
     },
     "execution_count": 81,
     "metadata": {},
     "output_type": "execute_result"
    }
   ],
   "source": [
    "for i in range(n):\n",
    "    yh[i].remove(0) if 0 in yh[i] else None\n",
    "yh"
   ]
  },
  {
   "cell_type": "code",
   "execution_count": 61,
   "metadata": {
    "ExecuteTime": {
     "end_time": "2020-07-21T07:33:54.584025Z",
     "start_time": "2020-07-21T07:33:54.572804Z"
    }
   },
   "outputs": [
    {
     "data": {
      "text/plain": [
       "[[1, 0], [1, 1], [1, 2, 1], [1, 3, 3, 1], [1, 4, 6, 4, 1]]"
      ]
     },
     "execution_count": 61,
     "metadata": {},
     "output_type": "execute_result"
    }
   ],
   "source": [
    "for i in range(n):\n",
    "    yh[i].remove(0) if 0 in yh[i] else 0\n",
    "    yh[i].remove(None) if None in yh[i] else None\n",
    "\n",
    "yh"
   ]
  },
  {
   "cell_type": "markdown",
   "metadata": {},
   "source": [
    "### 方法2\n"
   ]
  },
  {
   "cell_type": "code",
   "execution_count": 93,
   "metadata": {
    "ExecuteTime": {
     "end_time": "2020-07-21T07:48:23.252851Z",
     "start_time": "2020-07-21T07:48:23.240679Z"
    }
   },
   "outputs": [
    {
     "data": {
      "text/plain": [
       "[[1], [1, 1], [1, 2, 1], [1, 3, 3, 1], [1, 4, 6, 4, 1]]"
      ]
     },
     "execution_count": 93,
     "metadata": {},
     "output_type": "execute_result"
    }
   ],
   "source": [
    "def generate(numRows: int):\n",
    "    r = [[1]]\n",
    "    for i in range(1, numRows):\n",
    "        r.append([1] + [sum(r[-1][j:j+2]) for j in range(i)])\n",
    "    return numRows and r or []\n",
    "generate(5)"
   ]
  },
  {
   "cell_type": "markdown",
   "metadata": {},
   "source": [
    "### 方法3"
   ]
  },
  {
   "cell_type": "code",
   "execution_count": 99,
   "metadata": {
    "ExecuteTime": {
     "end_time": "2020-07-21T08:13:18.401765Z",
     "start_time": "2020-07-21T08:13:18.386464Z"
    }
   },
   "outputs": [
    {
     "data": {
      "text/plain": [
       "[[1], [1, 1], [1, 2, 1], [1, 3, 3, 1], [1, 4, 6, 4, 1]]"
      ]
     },
     "execution_count": 99,
     "metadata": {},
     "output_type": "execute_result"
    }
   ],
   "source": [
    "def generate(numRows):\n",
    "    yh = []\n",
    "    for i in range(numRows):\n",
    "        cur = [None for _ in range(i+1)]\n",
    "        cur[0], cur[-1] = 1, 1\n",
    "        for k in range(1, i):\n",
    "            cur[k] = yh[i-1][k-1] + yh[i-1][k]\n",
    "        yh.append(cur)\n",
    "    return yh\n",
    "generate(5)"
   ]
  },
  {
   "cell_type": "markdown",
   "metadata": {},
   "source": [
    "## 169. 多数元素"
   ]
  },
  {
   "cell_type": "markdown",
   "metadata": {},
   "source": [
    "### 方法1"
   ]
  },
  {
   "cell_type": "code",
   "execution_count": 124,
   "metadata": {
    "ExecuteTime": {
     "end_time": "2020-07-21T09:00:49.482353Z",
     "start_time": "2020-07-21T09:00:49.469405Z"
    }
   },
   "outputs": [],
   "source": [
    "def majorityElement(nums):\n",
    "    cnt = [[], []]\n",
    "    for i in range(len(nums)):\n",
    "        if nums[i] not in cnt[0]:\n",
    "            cnt[0].append(nums[i])\n",
    "            cnt[1].append(0)\n",
    "            idx = cnt[0].index(nums[i])\n",
    "            cnt[1][idx] += 1\n",
    "        else:\n",
    "            idx = cnt[0].index(nums[i])\n",
    "            cnt[1][idx] += 1\n",
    "    for i in range(len(cnt[0])):\n",
    "        if cnt[1][i] >= len(cnt[0])/2:\n",
    "            return cnt[0][i] \n",
    "        else:\n",
    "            return None\n",
    "nums = [1, 1, 3, 4, 5, 2, 4, 5, 5, 5, 5, 5]\n",
    "majorityElement(nums)"
   ]
  },
  {
   "cell_type": "code",
   "execution_count": 103,
   "metadata": {
    "ExecuteTime": {
     "end_time": "2020-07-21T08:49:35.933724Z",
     "start_time": "2020-07-21T08:49:35.923773Z"
    }
   },
   "outputs": [
    {
     "data": {
      "text/plain": [
       "[[1], []]"
      ]
     },
     "execution_count": 103,
     "metadata": {},
     "output_type": "execute_result"
    }
   ],
   "source": [
    "cnt = [[], []]\n",
    "cnt[0].append(1)\n",
    "cnt"
   ]
  },
  {
   "cell_type": "markdown",
   "metadata": {},
   "source": [
    "## 189. 旋转数组"
   ]
  },
  {
   "cell_type": "markdown",
   "metadata": {},
   "source": [
    "### 切片"
   ]
  },
  {
   "cell_type": "code",
   "execution_count": 10,
   "metadata": {
    "ExecuteTime": {
     "end_time": "2020-07-24T01:38:15.582875Z",
     "start_time": "2020-07-24T01:38:15.574523Z"
    }
   },
   "outputs": [
    {
     "data": {
      "text/plain": [
       "[5, 6, 7, 1, 2, 3, 4]"
      ]
     },
     "execution_count": 10,
     "metadata": {},
     "output_type": "execute_result"
    }
   ],
   "source": [
    "nums = [1, 2, 3, 4, 5, 6, 7]\n",
    "rotate(nums, 3)"
   ]
  },
  {
   "cell_type": "code",
   "execution_count": null,
   "metadata": {},
   "outputs": [],
   "source": [
    "class Solution(object):\n",
    "    def rotate(self, nums, k):\n",
    "        \"\"\"\n",
    "        :type nums: List[int]\n",
    "        :type k: int\n",
    "        :rtype: None Do not return anything, modify nums in-place instead.\n",
    "        \"\"\"\n",
    "        # nums[:] =  nums[-k:] + nums[:-k]\n",
    "        # \"nums = \"是开新变量，“nums[:] = ”是原地址引用!!!\n",
    "        nums[:] = nums[-(k%len(nums)):] + nums[:-(k%len(nums))]"
   ]
  },
  {
   "cell_type": "markdown",
   "metadata": {},
   "source": [
    "### 反转"
   ]
  },
  {
   "cell_type": "code",
   "execution_count": 34,
   "metadata": {
    "ExecuteTime": {
     "end_time": "2020-07-24T02:16:00.174417Z",
     "start_time": "2020-07-24T02:16:00.168275Z"
    }
   },
   "outputs": [],
   "source": [
    "def rotate(nums, k):\n",
    "    nums[:] = nums[::-1]\n",
    "    nums[:k] = nums[:k][::-1]\n",
    "    nums[k:] = nums[k:][::-1]\n",
    "    return nums"
   ]
  },
  {
   "cell_type": "markdown",
   "metadata": {},
   "source": [
    "Python 旋转数组：切片/3次反转/交换"
   ]
  },
  {
   "cell_type": "markdown",
   "metadata": {},
   "source": [
    "### 插入\n"
   ]
  },
  {
   "cell_type": "code",
   "execution_count": 38,
   "metadata": {
    "ExecuteTime": {
     "end_time": "2020-07-24T02:18:18.255228Z",
     "start_time": "2020-07-24T02:18:18.249142Z"
    }
   },
   "outputs": [],
   "source": [
    "def rotate(nums, k):\n",
    "    for i in range(k%len(nums)):\n",
    "        nums.insert(0, nums.pop())\n",
    "    return nums"
   ]
  },
  {
   "cell_type": "code",
   "execution_count": 41,
   "metadata": {
    "ExecuteTime": {
     "end_time": "2020-07-24T03:12:45.973241Z",
     "start_time": "2020-07-24T03:12:45.965274Z"
    }
   },
   "outputs": [
    {
     "data": {
      "text/plain": [
       "[5, 6, 7, 1, 2, 3, 4]"
      ]
     },
     "execution_count": 41,
     "metadata": {},
     "output_type": "execute_result"
    }
   ],
   "source": [
    "nums = [1, 2, 3, 4, 5, 6, 7]\n",
    "rotate(nums, 3)\n"
   ]
  },
  {
   "cell_type": "markdown",
   "metadata": {},
   "source": [
    "## 217. 存在重复数字"
   ]
  },
  {
   "cell_type": "markdown",
   "metadata": {},
   "source": [
    "### 哈希表"
   ]
  },
  {
   "cell_type": "code",
   "execution_count": 105,
   "metadata": {
    "ExecuteTime": {
     "end_time": "2020-07-24T06:51:59.238794Z",
     "start_time": "2020-07-24T06:51:59.232831Z"
    }
   },
   "outputs": [],
   "source": [
    "def containsDuplicate(nums):\n",
    "    numsDict = {}\n",
    "    for i in nums:\n",
    "        if numsDict.get(i, 0) == 0:\n",
    "            numsDict[i] = 1\n",
    "        else:\n",
    "            return True\n",
    "    return False"
   ]
  },
  {
   "cell_type": "markdown",
   "metadata": {},
   "source": [
    "### set集合"
   ]
  },
  {
   "cell_type": "code",
   "execution_count": 111,
   "metadata": {
    "ExecuteTime": {
     "end_time": "2020-07-24T06:54:55.383277Z",
     "start_time": "2020-07-24T06:54:55.374924Z"
    }
   },
   "outputs": [],
   "source": [
    "def containsDuplicate(nums):\n",
    "    n = len(nums)\n",
    "    nums = set(nums)\n",
    "    return True if len(nums) != n else False\n",
    "        "
   ]
  },
  {
   "cell_type": "code",
   "execution_count": 113,
   "metadata": {
    "ExecuteTime": {
     "end_time": "2020-07-24T06:55:02.381732Z",
     "start_time": "2020-07-24T06:55:02.374145Z"
    }
   },
   "outputs": [
    {
     "data": {
      "text/plain": [
       "True"
      ]
     },
     "execution_count": 113,
     "metadata": {},
     "output_type": "execute_result"
    }
   ],
   "source": [
    "nums2 = [1, 2, 3]\n",
    "containsDuplicate(nums2)\n"
   ]
  },
  {
   "cell_type": "markdown",
   "metadata": {},
   "source": [
    "## 268. 缺失数字\n"
   ]
  },
  {
   "cell_type": "markdown",
   "metadata": {},
   "source": [
    "### 比较"
   ]
  },
  {
   "cell_type": "code",
   "execution_count": 39,
   "metadata": {
    "ExecuteTime": {
     "end_time": "2020-07-24T08:02:18.741773Z",
     "start_time": "2020-07-24T08:02:18.734692Z"
    }
   },
   "outputs": [],
   "source": [
    "def missingNumber(nums):\n",
    "    nums.sort()\n",
    "    for i in nums[1:]:\n",
    "        print(i)\n",
    "        print(f'{nums[i-1]}, {nums[i]}')\n",
    "\n",
    "        if nums[i-1]+1 != nums[i]:\n",
    "            return nums[i]\n",
    "    return nums[i]+1\n",
    "    "
   ]
  },
  {
   "cell_type": "code",
   "execution_count": 69,
   "metadata": {
    "ExecuteTime": {
     "end_time": "2020-07-24T09:34:48.742335Z",
     "start_time": "2020-07-24T09:34:48.731723Z"
    }
   },
   "outputs": [],
   "source": [
    "n = max(nums)+1\n",
    "def missingNumber(nums):\n",
    "    std = [i for i in range(n)]\n",
    "    nums.sort()\n",
    "    print(f'std = {std}, nums = {nums}')\n",
    "    for i in nums:\n",
    "        return i if i not in std else \"Ok\""
   ]
  },
  {
   "cell_type": "code",
   "execution_count": 70,
   "metadata": {
    "ExecuteTime": {
     "end_time": "2020-07-24T09:34:49.169937Z",
     "start_time": "2020-07-24T09:34:49.163586Z"
    }
   },
   "outputs": [
    {
     "name": "stdout",
     "output_type": "stream",
     "text": [
      "std = [0, 1, 2, 3, 4, 5, 6], nums = [0, 1, 3, 4, 5, 6]\n",
      "Ok\n"
     ]
    }
   ],
   "source": [
    "nums = [6, 0, 1, 3, 4, 5]\n",
    "print(missingNumber(nums))"
   ]
  },
  {
   "cell_type": "markdown",
   "metadata": {},
   "source": [
    "### 位运算"
   ]
  },
  {
   "cell_type": "code",
   "execution_count": 41,
   "metadata": {
    "ExecuteTime": {
     "end_time": "2020-07-24T08:29:46.033798Z",
     "start_time": "2020-07-24T08:29:46.029353Z"
    }
   },
   "outputs": [],
   "source": [
    "def missingNumber(nums):\n",
    "    return min({i for i in range(max(nums)+2)}^set(nums)) # 集合运算{}\n"
   ]
  },
  {
   "cell_type": "markdown",
   "metadata": {},
   "source": [
    "## 11. 盛最多水的容器"
   ]
  },
  {
   "cell_type": "markdown",
   "metadata": {},
   "source": [
    "### 暴力搜索"
   ]
  },
  {
   "cell_type": "code",
   "execution_count": 30,
   "metadata": {},
   "outputs": [],
   "source": [
    "def maxArea(height):\n",
    "    max_vol = 0\n",
    "    for i in range(len(height)):\n",
    "        for j in height[i:]:\n",
    "            cur_vol = min(height[i], height[j])*(j-i)\n",
    "#             print(min(height[i], height[j]))\n",
    "            max_vol = max(cur_vol, max_vol)\n",
    "#             print(max_vol)\n",
    "    return max_vol"
   ]
  },
  {
   "cell_type": "markdown",
   "metadata": {},
   "source": [
    "### 双指针"
   ]
  },
  {
   "cell_type": "code",
   "execution_count": 36,
   "metadata": {},
   "outputs": [],
   "source": [
    "def maxArea(height):\n",
    "    area = 0\n",
    "    l, r = 0, len(height)-1\n",
    "    while l != r:\n",
    "        cur = min(height[l], height[r])*(r-l)\n",
    "        area = max(area, cur)\n",
    "        if height[l] <= height[r]:\n",
    "            l += 1\n",
    "        else:\n",
    "            r-= 1\n",
    "    return area"
   ]
  },
  {
   "cell_type": "code",
   "execution_count": 37,
   "metadata": {},
   "outputs": [
    {
     "data": {
      "text/plain": [
       "49"
      ]
     },
     "execution_count": 37,
     "metadata": {},
     "output_type": "execute_result"
    }
   ],
   "source": [
    "height = [1,8,6,2,5,4,8,3,7]\n",
    "maxArea(height)"
   ]
  },
  {
   "cell_type": "markdown",
   "metadata": {},
   "source": [
    "## 15. 三数之和"
   ]
  },
  {
   "cell_type": "markdown",
   "metadata": {},
   "source": [
    "### 暴力搜索\n",
    "时间复杂度：$O(n^3)$"
   ]
  },
  {
   "cell_type": "code",
   "execution_count": 33,
   "metadata": {},
   "outputs": [],
   "source": [
    "def threeSum(nums):\n",
    "#     nums = list(set(nums))\n",
    "    ans = list()\n",
    "    for a in range(len(nums)):\n",
    "        for b in range(a+1, len(nums)):\n",
    "            for c in range(b+1, len(nums)):\n",
    "                cur = [nums[a], nums[b], nums[c]]\n",
    "                cur.sort()\n",
    "                if nums[a] + nums[b] + nums[c] == 0 and cur not in ans:\n",
    "#                 if nums[a] + nums[b] + nums[c] == 0:\n",
    "#                     print([nums[a], nums[b], nums[c]])\n",
    "                    ans.append(cur)\n",
    "        \n",
    "    return ans"
   ]
  },
  {
   "cell_type": "markdown",
   "metadata": {},
   "source": [
    "### 双指针\n",
    "时间复杂度：$O(n^2)$"
   ]
  },
  {
   "cell_type": "code",
   "execution_count": 60,
   "metadata": {},
   "outputs": [],
   "source": [
    "def threeSum(nums):\n",
    "    ans = list()\n",
    "    nums.sort()\n",
    "    for a in range(len(nums)-2):\n",
    "        target = 0 - nums[a]\n",
    "#         if nums[a] > 0: break       # 数组里最小的都大于0 不可能有答案\n",
    "#         if a > 0 and nums[a] == nums[a-1]: continue     # 保证first不会有重复\n",
    "        i, j = a+1, len(nums)-1\n",
    "        while i < j:\n",
    "            three, two = [nums[a], nums[i], nums[j]], nums[i] + nums[j]\n",
    "            if target - two == 0:\n",
    "#             if nums[a] + nums[i] + nums[j] == 0 and cur not in ans:  # 多次计算nums[a] + nums[i] + nums[j]\n",
    "#             if nums[a] + nums[i] + nums[j] == 0:\n",
    "                ans.append(three)\n",
    "                i += 1\n",
    "                j -= 1\n",
    "            elif target - two > 0:\n",
    "                i += 1\n",
    "            else:\n",
    "                j -= 1\n",
    "#                 while j > i and nums[j] == nums[j+1]: j -= 1\n",
    "#                 while j > i and nums[i] == nums[i-1]: i += 1\n",
    "    return ans"
   ]
  },
  {
   "cell_type": "markdown",
   "metadata": {},
   "source": [
    "### 双指针的优化方法"
   ]
  },
  {
   "cell_type": "markdown",
   "metadata": {},
   "source": [
    "tricks: \n",
    "\n",
    "    1. 去重\n",
    "    2. 去除不可行的方案"
   ]
  },
  {
   "cell_type": "code",
   "execution_count": 15,
   "metadata": {},
   "outputs": [],
   "source": [
    "def threeSum(nums):\n",
    "    ans = list()\n",
    "    nums.sort()\n",
    "    n = len(nums)\n",
    "    for a in range(n-2):\n",
    "        if nums[a] > 0: \n",
    "            return ans\n",
    "        if a > 0 and nums[a] == nums[a-1]: \n",
    "            continue\n",
    "        left, right = a+1, n-1\n",
    "        while left < right:\n",
    "            cur = nums[a]*(-1)\n",
    "            if nums[left] + nums[right] < cur:\n",
    "                left += 1\n",
    "            elif nums[left] + nums[right] > cur:\n",
    "                right -= 1\n",
    "            else:\n",
    "                ans.append([nums[a], nums[left], nums[right]])\n",
    "                while(left<right and nums[left]==nums[left+1]):\n",
    "                    left += 1\n",
    "                while(left<right and nums[right]==nums[right-1]):\n",
    "                    right -= 1\n",
    "                left += 1\n",
    "                right -= 1\n",
    "    return ans\n",
    "\n",
    "                \n",
    "            "
   ]
  },
  {
   "cell_type": "code",
   "execution_count": 16,
   "metadata": {
    "scrolled": false
   },
   "outputs": [
    {
     "data": {
      "text/plain": [
       "[[-1, -1, 2], [-1, 0, 1]]"
      ]
     },
     "execution_count": 16,
     "metadata": {},
     "output_type": "execute_result"
    }
   ],
   "source": [
    "nums = [-1,0,1,2,-1,-4]\n",
    "threeSum(nums)\n"
   ]
  },
  {
   "cell_type": "markdown",
   "metadata": {},
   "source": [
    "## 33. 搜索旋转排序数组"
   ]
  },
  {
   "cell_type": "code",
   "execution_count": 54,
   "metadata": {},
   "outputs": [],
   "source": [
    "# 二分查找demo\n",
    "def half_find(nums, target):\n",
    "    left, right = 0, len(nums)-1\n",
    "    while left < right:\n",
    "        mid = (right-left+1)//2+left\n",
    "        if nums[mid] == target:\n",
    "            return mid\n",
    "        elif nums[mid] > target:\n",
    "            right = mid\n",
    "        else:\n",
    "            left = mid\n",
    "#         print(left, mid, right)       \n",
    "    return None\n"
   ]
  },
  {
   "cell_type": "code",
   "execution_count": 72,
   "metadata": {},
   "outputs": [],
   "source": [
    "# 该方法没有得到正解：递归时left和right的idx没有更新\n",
    "# 似乎不需要调用二分查找的demo\n",
    "\n",
    "\n",
    "def search(nums, target):\n",
    "    ans = 0\n",
    "    left, right = 0, len(nums)-1\n",
    "    mid = (right-left)//2+left\n",
    "    print(left, mid, right)\n",
    "    while left < right:\n",
    "        print(left, mid, right)\n",
    "        if nums[mid] > nums[left]:\n",
    "            if nums[left] <= target <= nums[mid]:\n",
    "                print('1', left, mid, right)\n",
    "                ans = half_find(nums[left:mid], target)\n",
    "\n",
    "                return ans+left if ans else left\n",
    "            else:\n",
    "                left = mid\n",
    "                print('2', left, mid, right)\n",
    "                search(nums[left:right], target)\n",
    "        else:\n",
    "            if nums[mid] <= target <= nums[right]:\n",
    "                print('3', left, mid, right)\n",
    "\n",
    "                ans = half_find(nums[mid:right], target)\n",
    "                return ans+mid if ans else mid\n",
    "            else:\n",
    "                print('4', left, mid, right)\n",
    "                right = mid\n",
    "                search(nums[left:right], target)\n",
    "    return -2"
   ]
  },
  {
   "cell_type": "code",
   "execution_count": 1,
   "metadata": {
    "ExecuteTime": {
     "end_time": "2020-07-28T07:50:30.037098Z",
     "start_time": "2020-07-28T07:50:30.030791Z"
    }
   },
   "outputs": [],
   "source": [
    "def search(nums, target):\n",
    "    ans = 0\n",
    "    if len(nums)<1: return -1\n",
    "\n",
    "    left, right = 0, len(nums)-1\n",
    "    while left < right:\n",
    "        mid = (right-left)//2+left\n",
    "        if nums[mid] == target: return mid\n",
    "        if nums[mid] > nums[left]:\n",
    "            if nums[left] <= target <= nums[mid]:\n",
    "                right = mid  # mid 属于左半边\n",
    "            else:\n",
    "                left = mid + 1  # mid 属于左半边\n",
    "        else:\n",
    "            if nums[mid+1] <= target <= nums[right]:\n",
    "                left = mid + 1\n",
    "            else:\n",
    "                right = mid\n",
    "    return left if nums[left] == target else -1"
   ]
  },
  {
   "cell_type": "code",
   "execution_count": 2,
   "metadata": {
    "ExecuteTime": {
     "end_time": "2020-07-28T07:50:30.715198Z",
     "start_time": "2020-07-28T07:50:30.704170Z"
    },
    "scrolled": false
   },
   "outputs": [
    {
     "data": {
      "text/plain": [
       "5"
      ]
     },
     "execution_count": 2,
     "metadata": {},
     "output_type": "execute_result"
    }
   ],
   "source": [
    "nums = [4,5,6,7,0,1,2]\n",
    "target = 1\n",
    "search(nums, target)"
   ]
  },
  {
   "cell_type": "markdown",
   "metadata": {},
   "source": [
    "## 34. 在排序数组中查找左右边界"
   ]
  },
  {
   "cell_type": "code",
   "execution_count": 7,
   "metadata": {
    "ExecuteTime": {
     "end_time": "2020-07-31T08:10:21.812587Z",
     "start_time": "2020-07-31T08:10:21.801009Z"
    }
   },
   "outputs": [],
   "source": [
    "def searchRange(nums, target):\n",
    "    return [left_bound(nums,target), right_bound(nums,target)]\n",
    "\n",
    "def right_bound(nums, target):\n",
    "    if len(nums) == 0:\n",
    "        return -1\n",
    "    left, right = 0, len(nums) - 1\n",
    "    while left <= right:\n",
    "        mid = (left + right) // 2\n",
    "        if nums[mid] == target:\n",
    "            left = mid + 1\n",
    "        elif nums[mid] < target:\n",
    "            left = mid + 1\n",
    "        elif nums[mid] > target:\n",
    "            right = mid - 1\n",
    "    if right >= 0 and nums[right] == target: return right # 注意\n",
    "    else: return -1\n",
    "    \n",
    "def left_bound(nums, target):\n",
    "    if len(nums) == 0:\n",
    "        return -1\n",
    "    left, right = 0, len(nums) - 1\n",
    "\n",
    "    while left <= right:\n",
    "        mid = (left + right) // 2\n",
    "        if nums[mid] == target:\n",
    "            right = mid - 1\n",
    "        elif nums[mid] < target:\n",
    "            left = mid + 1\n",
    "        elif nums[mid] > target:\n",
    "            right = mid - 1\n",
    "    if left <= len(nums)-1 and nums[left] == target: return left  # 注意\n",
    "    else: return -1    "
   ]
  },
  {
   "cell_type": "code",
   "execution_count": 8,
   "metadata": {
    "ExecuteTime": {
     "end_time": "2020-07-31T08:10:22.010774Z",
     "start_time": "2020-07-31T08:10:21.998712Z"
    }
   },
   "outputs": [
    {
     "data": {
      "text/plain": [
       "[3, 4]"
      ]
     },
     "execution_count": 8,
     "metadata": {},
     "output_type": "execute_result"
    }
   ],
   "source": [
    "nums = [5,7,7,8,8,10]\n",
    "target = 8\n",
    "searchRange(nums, target)"
   ]
  },
  {
   "cell_type": "markdown",
   "metadata": {},
   "source": [
    "## 48. 旋转图像"
   ]
  },
  {
   "cell_type": "markdown",
   "metadata": {},
   "source": [
    "子方案：四个边角替换\n",
    "\n",
    "旋转：matrix[p1][p2]，add+=1， 边界条件：add=p2-p1\n",
    "\n",
    "收缩：p1+=1, p2-=1，边界条件：p1=p2"
   ]
  },
  {
   "cell_type": "code",
   "execution_count": 11,
   "metadata": {
    "ExecuteTime": {
     "end_time": "2020-08-01T12:32:18.693009Z",
     "start_time": "2020-08-01T12:32:18.685769Z"
    }
   },
   "outputs": [],
   "source": [
    "def rotate(martrix):\n",
    "    p1, p2 = 0, len(matrix)-1\n",
    "    while p1 < p2:\n",
    "        add = 0\n",
    "        while add < p2 - p1:\n",
    "            temp = matrix[p2-add][p1]\n",
    "            matrix[p2-add][p1] = matrix[p2][p2-add]\n",
    "            matrix[p2][p2-add] = matrix[p1+add][p2]\n",
    "            matrix[p1+add][p2] = matrix[p1][p1+add]\n",
    "            matrix[p1][p1+add] = temp\n",
    "            add += 1\n",
    "        p1 += 1\n",
    "        p2 -= 1\n",
    "        return matrix\n"
   ]
  },
  {
   "cell_type": "code",
   "execution_count": 13,
   "metadata": {
    "ExecuteTime": {
     "end_time": "2020-08-01T12:32:22.975199Z",
     "start_time": "2020-08-01T12:32:22.970720Z"
    }
   },
   "outputs": [],
   "source": [
    "matrix = [[1, 2, 3],\n",
    "         [4, 5, 6],\n",
    "         [7, 8, 9]]\n",
    "rotate(matrix)"
   ]
  },
  {
   "cell_type": "markdown",
   "metadata": {},
   "source": [
    "## 54. 螺旋矩阵"
   ]
  },
  {
   "cell_type": "code",
   "execution_count": 15,
   "metadata": {
    "ExecuteTime": {
     "end_time": "2020-08-01T14:09:49.017778Z",
     "start_time": "2020-08-01T14:09:49.010961Z"
    }
   },
   "outputs": [
    {
     "data": {
      "text/plain": [
       "3"
      ]
     },
     "execution_count": 15,
     "metadata": {},
     "output_type": "execute_result"
    }
   ],
   "source": [
    "matrix = [[1, 2, 3],\n",
    "         [4, 5, 6],\n",
    "         [7, 8, 9],\n",
    "         [10, 11, 12]]\n",
    "len(matrix[0])"
   ]
  },
  {
   "cell_type": "code",
   "execution_count": 32,
   "metadata": {
    "ExecuteTime": {
     "end_time": "2020-08-01T14:39:12.881308Z",
     "start_time": "2020-08-01T14:39:12.869893Z"
    }
   },
   "outputs": [],
   "source": [
    "def spiralOrde(matrix):\n",
    "    if len(matrix) == 0: return []\n",
    "\n",
    "    width, length = len(matrix), len(matrix[0])\n",
    "    layer = (min(width, length)+1)//2\n",
    "    ans = list()\n",
    "    \n",
    "    for i in range(layer):\n",
    "        for j in range(i, length-i):\n",
    "            ans.append(matrix[i][j])\n",
    "        for j in range(i+1, width-i):\n",
    "            ans.append(matrix[j][length-i-1])\n",
    "        if width-i-1 != i:\n",
    "            for j in range(length-i-2, i-1, -1):  # attention:范围：[length-i-2,i]\n",
    "                ans.append(matrix[width-i-1][j])\n",
    "        if length-i-1 != i:\n",
    "            for j in range(width-i-2, i, -1):  # attention:范围：[width-i-2,i-1]\n",
    "                ans.append(matrix[j][i])\n",
    "#                 print(ans)\n",
    "\n",
    "    return ans"
   ]
  },
  {
   "cell_type": "code",
   "execution_count": 33,
   "metadata": {
    "ExecuteTime": {
     "end_time": "2020-08-01T14:39:13.249452Z",
     "start_time": "2020-08-01T14:39:13.242863Z"
    }
   },
   "outputs": [
    {
     "data": {
      "text/plain": [
       "[1, 2, 3, 6, 9, 8, 7, 4, 5]"
      ]
     },
     "execution_count": 33,
     "metadata": {},
     "output_type": "execute_result"
    }
   ],
   "source": [
    "matrix = [[1, 2, 3],\n",
    "         [4, 5, 6],\n",
    "         [7, 8, 9]]\n",
    "spiralOrde(matrix)"
   ]
  },
  {
   "cell_type": "markdown",
   "metadata": {},
   "source": [
    "## 55. 跳跃游戏"
   ]
  },
  {
   "cell_type": "markdown",
   "metadata": {},
   "source": [
    "1. 最优子解：由后向前遍历的$n-1$步\n",
    "2. 状态：$dp=[False]*len(nums)$\n",
    "3. 状态转移方程：$nums[i] >= idx-i$"
   ]
  },
  {
   "cell_type": "code",
   "execution_count": 55,
   "metadata": {
    "ExecuteTime": {
     "end_time": "2020-08-02T10:29:54.722955Z",
     "start_time": "2020-08-02T10:29:54.717647Z"
    }
   },
   "outputs": [],
   "source": [
    "def canJump(nums):\n",
    "    n = len(nums)\n",
    "    idx = n-1\n",
    "    dp = [False] * n\n",
    "    for i in range(n-1, -1, -1):\n",
    "        if nums[i] >= idx-i:\n",
    "            idx = i\n",
    "            dp[idx] = True\n",
    "    return dp[0]"
   ]
  },
  {
   "cell_type": "code",
   "execution_count": 56,
   "metadata": {
    "ExecuteTime": {
     "end_time": "2020-08-02T10:29:54.941960Z",
     "start_time": "2020-08-02T10:29:54.937940Z"
    }
   },
   "outputs": [
    {
     "data": {
      "text/plain": [
       "True"
      ]
     },
     "execution_count": 56,
     "metadata": {},
     "output_type": "execute_result"
    }
   ],
   "source": [
    "nums = [2,3,1,1,4]\n",
    "canJump(nums)"
   ]
  },
  {
   "cell_type": "markdown",
   "metadata": {},
   "source": [
    "## 56. 合并区间"
   ]
  },
  {
   "cell_type": "markdown",
   "metadata": {},
   "source": [
    "不更改原数组内容，直接修改ans的下标，避免区间做交集的操作\n",
    "\n"
   ]
  },
  {
   "cell_type": "code",
   "execution_count": 123,
   "metadata": {
    "ExecuteTime": {
     "end_time": "2020-08-03T06:59:57.665005Z",
     "start_time": "2020-08-03T06:59:57.658443Z"
    }
   },
   "outputs": [],
   "source": [
    "def merge(intervals):\n",
    "    if len(intervals) == 0:\n",
    "        return []\n",
    "    intervals.sort()\n",
    "    ans = list()\n",
    "    for inter in intervals:\n",
    "        if len(ans) == 0 or ans[-1][1] < inter[0]:\n",
    "            ans.append(inter)\n",
    "        else:\n",
    "            ans[-1][1] = max(ans[-1][1], inter[1])\n",
    "    return ans"
   ]
  },
  {
   "cell_type": "code",
   "execution_count": 124,
   "metadata": {
    "ExecuteTime": {
     "end_time": "2020-08-03T07:00:05.070125Z",
     "start_time": "2020-08-03T07:00:05.063474Z"
    }
   },
   "outputs": [
    {
     "data": {
      "text/plain": [
       "[[1, 6], [8, 10], [15, 18]]"
      ]
     },
     "execution_count": 124,
     "metadata": {},
     "output_type": "execute_result"
    }
   ],
   "source": [
    "nums = [[1, 3], [2, 6], [8, 10], [15, 18]]\n",
    "\n",
    "merge(nums)"
   ]
  },
  {
   "cell_type": "markdown",
   "metadata": {},
   "source": [
    "## 62. 不同路径"
   ]
  },
  {
   "cell_type": "markdown",
   "metadata": {},
   "source": [
    "### 动态规划\n",
    "dp就是画表格\n"
   ]
  },
  {
   "cell_type": "code",
   "execution_count": 165,
   "metadata": {
    "ExecuteTime": {
     "end_time": "2020-08-03T07:58:14.572479Z",
     "start_time": "2020-08-03T07:58:14.566804Z"
    }
   },
   "outputs": [],
   "source": [
    "def uniquePath(m, n):\n",
    "#     if m or n <= 1: \n",
    "#         return 1\n",
    "    dp = list()\n",
    "    dp = [[1]*m] + [[1] + [0]*(m-1)]*(n-1)\n",
    "    print(dp)\n",
    "    for i in range(1, n):\n",
    "        for j in range(1, m):\n",
    "            dp[i][j] = dp[i-1][j] + dp[i][j-1]\n",
    "    return dp[-1][-1]"
   ]
  },
  {
   "cell_type": "code",
   "execution_count": 166,
   "metadata": {
    "ExecuteTime": {
     "end_time": "2020-08-03T07:58:15.383653Z",
     "start_time": "2020-08-03T07:58:15.377213Z"
    }
   },
   "outputs": [
    {
     "name": "stdout",
     "output_type": "stream",
     "text": [
      "[[1, 1, 1], [1, 0, 0]]\n"
     ]
    },
    {
     "data": {
      "text/plain": [
       "3"
      ]
     },
     "execution_count": 166,
     "metadata": {},
     "output_type": "execute_result"
    }
   ],
   "source": [
    "m, n = 3, 2\n",
    "uniquePath(m, n)"
   ]
  },
  {
   "cell_type": "markdown",
   "metadata": {},
   "source": [
    "### 数学解法\n",
    "$C^(m-1)_(m+n-2)$  ???\n"
   ]
  },
  {
   "cell_type": "code",
   "execution_count": 167,
   "metadata": {
    "ExecuteTime": {
     "end_time": "2020-08-03T08:01:13.107104Z",
     "start_time": "2020-08-03T08:01:13.101583Z"
    }
   },
   "outputs": [],
   "source": [
    "def uniquePaths(self, m: int, n: int) -> int:\n",
    "        return int(math.factorial(m+n-2)/math.factorial(m-1)/math.factorial(n-1))\n"
   ]
  },
  {
   "cell_type": "markdown",
   "metadata": {},
   "source": [
    "## 73. 矩阵置零"
   ]
  },
  {
   "cell_type": "markdown",
   "metadata": {},
   "source": [
    "### 入门法\n",
    "利用额外的两个集合v、h保存含0的行、列\n",
    "\n",
    "时间复杂度：$O(M*N)$\n",
    "\n",
    "空间复杂度：$O(M+N)$"
   ]
  },
  {
   "cell_type": "code",
   "execution_count": 33,
   "metadata": {
    "ExecuteTime": {
     "end_time": "2020-08-05T13:05:05.591825Z",
     "start_time": "2020-08-05T13:05:05.583009Z"
    }
   },
   "outputs": [],
   "source": [
    "def setZeroes(matrix):\n",
    "    if len(matrix) <= 0: return None\n",
    "    width, length = len(matrix), len(matrix[0])\n",
    "    v, h = set(), set()\n",
    "    for i in range(width):\n",
    "        for j in range(length):\n",
    "            if matrix[i][j] == 0:\n",
    "                h.add(i)\n",
    "                v.add(j)\n",
    "    for i in range(width):\n",
    "        if i in h:\n",
    "            for j in range(length):\n",
    "                matrix[i][j] = 0\n",
    "    for j in range(length):\n",
    "        if j in v:\n",
    "            for i in range(width):\n",
    "                matrix[i][j] = 0   \n",
    "    \n",
    "#     print(f'v = {v}, h = {h}')\n",
    "    return matrix"
   ]
  },
  {
   "cell_type": "markdown",
   "metadata": {},
   "source": [
    "### 方法2\n",
    "暴力搜索\n",
    "\n",
    "时间复杂度：$O(M*N*(M+N))$\n",
    "\n",
    "空间复杂度：$O(1)$"
   ]
  },
  {
   "cell_type": "code",
   "execution_count": 79,
   "metadata": {
    "ExecuteTime": {
     "end_time": "2020-08-05T13:28:14.973172Z",
     "start_time": "2020-08-05T13:28:14.963789Z"
    }
   },
   "outputs": [],
   "source": [
    "def setZeroes(matrix):\n",
    "    if len(matrix) <= 0: return None\n",
    "    width, length = len(matrix), len(matrix[0])\n",
    "    labelZero = -10000\n",
    "    for i in range(width):\n",
    "        for j in range(length):\n",
    "            if matrix[i][j] == 0:\n",
    "                matrix[i][j] = labelZero\n",
    "#     print(matrix)\n",
    "    for i in range(width):\n",
    "        for j in range(length):\n",
    "            if matrix[i][j] == labelZero:\n",
    "                matrix[i][j] = 0\n",
    "                for p1 in range(width):\n",
    "                    if matrix[p1][j] != labelZero:\n",
    "                        matrix[p1][j] = 0\n",
    "                for p2 in range(length):\n",
    "                    if matrix[i][p2] != labelZero:\n",
    "                        matrix[i][p2] = 0\n",
    "    return matrix"
   ]
  },
  {
   "cell_type": "markdown",
   "metadata": {},
   "source": [
    "### 方法3\n",
    "优化版（暴力）搜索：用矩阵特定位置记录含0的行列信息，不新加数组/集合\n",
    "\n",
    "时间复杂度：$O(M*N*(M+N))$\n",
    "\n",
    "空间复杂度：$O(1)$"
   ]
  },
  {
   "cell_type": "code",
   "execution_count": 114,
   "metadata": {
    "ExecuteTime": {
     "end_time": "2020-08-05T13:55:02.744152Z",
     "start_time": "2020-08-05T13:55:02.735900Z"
    }
   },
   "outputs": [],
   "source": [
    "def setZeroes(matrix):\n",
    "    if len(matrix) <= 0: return None\n",
    "    width, length = len(matrix), len(matrix[0])\n",
    "#     first = -1\n",
    "#     if 0 in matrix[0][:] or 0 in matrix[:][0]:\n",
    "#         first = 0 \n",
    "#         matrix[0][0] = 1\n",
    "    for i in range(1, width):\n",
    "        for j in range(1, length):\n",
    "            if matrix[i][j] == 0:\n",
    "                matrix[i][0] = 0\n",
    "                matrix[0][j] = 0\n",
    "    for i in range(width): \n",
    "        if matrix[i][0] == 0:\n",
    "            for j in range(length):\n",
    "                matrix[i][j] = 0\n",
    "    for j in range(length):\n",
    "        if matrix[0][j] == 0:\n",
    "            for i in range(width):\n",
    "                matrix[i][j] = 0\n",
    "#     if first == 0:\n",
    "#         for i in range(width):\n",
    "#             matrix[i][0] = 0\n",
    "#         for j in range(length):\n",
    "#             matrix[0][j] = 0\n",
    "    return matrix"
   ]
  },
  {
   "cell_type": "code",
   "execution_count": 115,
   "metadata": {
    "ExecuteTime": {
     "end_time": "2020-08-05T13:55:03.274109Z",
     "start_time": "2020-08-05T13:55:03.267559Z"
    }
   },
   "outputs": [
    {
     "data": {
      "text/plain": [
       "[[1, 1, 0, 9], [3, 4, 0, 2], [1, 3, 0, 5]]"
      ]
     },
     "execution_count": 115,
     "metadata": {},
     "output_type": "execute_result"
    }
   ],
   "source": [
    "matrix =[\n",
    "  [1,1,0,9],\n",
    "  [3,4,9,2],\n",
    "  [1,3,1,5]\n",
    "]\n",
    "setZeroes(matrix)"
   ]
  },
  {
   "cell_type": "code",
   "execution_count": 100,
   "metadata": {
    "ExecuteTime": {
     "end_time": "2020-08-05T13:49:24.386663Z",
     "start_time": "2020-08-05T13:49:24.380399Z"
    }
   },
   "outputs": [
    {
     "data": {
      "text/plain": [
       "(3, 4)"
      ]
     },
     "execution_count": 100,
     "metadata": {},
     "output_type": "execute_result"
    }
   ],
   "source": [
    "class Solution(object):\n",
    "    def setZeroes(self, matrix):\n",
    "        \"\"\"\n",
    "        :type matrix: List[List[int]]\n",
    "        :rtype: void Do not return anything, modify matrix in-place instead.\n",
    "        \"\"\"\n",
    "        is_col = False\n",
    "        R = len(matrix)\n",
    "        C = len(matrix[0])\n",
    "        for i in range(R):\n",
    "            # Since first cell for both first row and first column is the same i.e. matrix[0][0]\n",
    "            # We can use an additional variable for either the first row/column.\n",
    "            # For this solution we are using an additional variable for the first column\n",
    "            # and using matrix[0][0] for the first row.\n",
    "            if matrix[i][0] == 0:\n",
    "                is_col = True\n",
    "            for j in range(1, C):\n",
    "                # If an element is zero, we set the first element of the corresponding row and column to 0\n",
    "                if matrix[i][j]  == 0:\n",
    "                    matrix[0][j] = 0\n",
    "                    matrix[i][0] = 0\n",
    "\n",
    "        # Iterate over the array once again and using the first row and first column, update the elements.\n",
    "        for i in range(1, R):\n",
    "            for j in range(1, C):\n",
    "                if not matrix[i][0] or not matrix[0][j]:\n",
    "                    matrix[i][j] = 0\n",
    "\n",
    "        # See if the first row needs to be set to zero as well\n",
    "        if matrix[0][0] == 0:\n",
    "            for j in range(C):\n",
    "                matrix[0][j] = 0\n",
    "\n",
    "        # See if the first column needs to be set to zero as well        \n",
    "        if is_col:\n",
    "            for i in range(R):\n",
    "                matrix[i][0] = 0\n"
   ]
  },
  {
   "cell_type": "markdown",
   "metadata": {},
   "source": [
    "## 75. 颜色分类"
   ]
  },
  {
   "cell_type": "markdown",
   "metadata": {},
   "source": [
    "### 方法1：统计\n",
    "统计r、w、b个数"
   ]
  },
  {
   "cell_type": "code",
   "execution_count": 119,
   "metadata": {
    "ExecuteTime": {
     "end_time": "2020-08-06T08:33:01.686247Z",
     "start_time": "2020-08-06T08:33:01.678006Z"
    }
   },
   "outputs": [],
   "source": [
    "def sortColors(nums):\n",
    "    if len(nums) == 0: return None\n",
    "    r, w, b = 0, 0, 0\n",
    "    ans = list()\n",
    "    for i in range(len(nums)):\n",
    "        if nums[i] == 0:\n",
    "            r +=1\n",
    "        elif nums[i] == 1:\n",
    "            w += 1\n",
    "        else:\n",
    "            b += 1\n",
    "    for i in range(r):\n",
    "        ans.append(0)\n",
    "    for i in range(w):\n",
    "        ans.append(1)\n",
    "    for i in range(b):\n",
    "        ans.append(2)\n",
    "    return ans"
   ]
  },
  {
   "cell_type": "markdown",
   "metadata": {},
   "source": [
    "## 方法2:冒泡"
   ]
  },
  {
   "cell_type": "code",
   "execution_count": 2,
   "metadata": {
    "ExecuteTime": {
     "end_time": "2020-08-07T07:25:47.394501Z",
     "start_time": "2020-08-07T07:25:47.388225Z"
    }
   },
   "outputs": [],
   "source": [
    "def sortColors(nums):\n",
    "    if len(nums) == 0: return None\n",
    "#     r, w, b = 0, 0, 0\n",
    "    for i in range(len(nums)):\n",
    "        for j in range(i, len(nums)):\n",
    "            if nums[i]>nums[j]:\n",
    "                nums[i], nums[j] = nums[j], nums[i]\n",
    "    return nums"
   ]
  },
  {
   "cell_type": "code",
   "execution_count": 4,
   "metadata": {
    "ExecuteTime": {
     "end_time": "2020-08-07T07:26:23.316545Z",
     "start_time": "2020-08-07T07:26:23.310361Z"
    }
   },
   "outputs": [
    {
     "data": {
      "text/plain": [
       "[0, 0, 1, 1, 2, 2]"
      ]
     },
     "execution_count": 4,
     "metadata": {},
     "output_type": "execute_result"
    }
   ],
   "source": [
    "nums = [2,0,2,1,1,0]\n",
    "sortColors(nums)"
   ]
  },
  {
   "cell_type": "markdown",
   "metadata": {},
   "source": [
    "## 78. 子集"
   ]
  },
  {
   "cell_type": "markdown",
   "metadata": {},
   "source": [
    "1. 复制list\n",
    "2. 在list每一子项中添加新的元素nums[i]\n",
    "注意：python2中list没有copy()一项"
   ]
  },
  {
   "cell_type": "code",
   "execution_count": 79,
   "metadata": {
    "ExecuteTime": {
     "end_time": "2020-08-07T08:42:06.096478Z",
     "start_time": "2020-08-07T08:42:06.089997Z"
    }
   },
   "outputs": [],
   "source": [
    "def subsets(nums):\n",
    "    if len(nums) == 0: return []\n",
    "    ans = [[]]\n",
    "    for i in nums:\n",
    "        for j in range(len(ans)):\n",
    "            temp = ans[j].copy()\n",
    "            temp.append(i)\n",
    "            ans.append(temp)\n",
    "    return ans\n"
   ]
  },
  {
   "cell_type": "code",
   "execution_count": 80,
   "metadata": {
    "ExecuteTime": {
     "end_time": "2020-08-07T08:42:06.290270Z",
     "start_time": "2020-08-07T08:42:06.285570Z"
    }
   },
   "outputs": [
    {
     "data": {
      "text/plain": [
       "[[], [1], [2], [1, 2], [3], [1, 3], [2, 3], [1, 2, 3]]"
      ]
     },
     "execution_count": 80,
     "metadata": {},
     "output_type": "execute_result"
    }
   ],
   "source": [
    "nums = [1,2,3]\n",
    "subsets(nums)"
   ]
  },
  {
   "cell_type": "markdown",
   "metadata": {},
   "source": [
    "## 79. 单词搜索\n"
   ]
  },
  {
   "cell_type": "markdown",
   "metadata": {},
   "source": [
    "### 搜索机制"
   ]
  },
  {
   "cell_type": "code",
   "execution_count": null,
   "metadata": {},
   "outputs": [],
   "source": [
    "# 深度优先过程\n",
    "def depth_tree(tree_node):\n",
    "    if tree_node is not None:\n",
    "        print(tree_node._data)\n",
    "        if tree_node._left is not None:\n",
    "            return depth_tree(tree_node._left)\n",
    "        if tree_node._right is not None:\n",
    "            return depth_tree(tree_node._right)"
   ]
  },
  {
   "cell_type": "code",
   "execution_count": 1,
   "metadata": {
    "ExecuteTime": {
     "end_time": "2020-08-10T10:18:51.063680Z",
     "start_time": "2020-08-10T10:18:51.058352Z"
    }
   },
   "outputs": [],
   "source": [
    "# 广度优先过程\n",
    "def level_queue(root):\n",
    "    if root is None:\n",
    "        return\n",
    "    my_queue = []\n",
    "    node = root\n",
    "    my_queue.append(node)\n",
    "    while my_queue:\n",
    "        node = my_queue.pop(0)\n",
    "        print(node.elem)\n",
    "        if node.lchild is not None:\n",
    "            my_queue.append(node.lchild)\n",
    "        if node.rchild is not None:\n",
    "            my_queue.append(node.rchild)"
   ]
  },
  {
   "cell_type": "markdown",
   "metadata": {},
   "source": [
    "### 深度优先+递归\n",
    "利用深度优先+递归实现邻域搜索"
   ]
  },
  {
   "cell_type": "code",
   "execution_count": 27,
   "metadata": {
    "ExecuteTime": {
     "end_time": "2020-08-10T12:41:56.204475Z",
     "start_time": "2020-08-10T12:41:56.192527Z"
    }
   },
   "outputs": [],
   "source": [
    "def exist(borad, word):\n",
    "    if len(word) == 0: return False\n",
    "    if len(board) == 0: return False\n",
    "    for i in range(len(borad)):\n",
    "        for j in range(len(borad[0])):\n",
    "            if DFS(board, i, j, word):\n",
    "                return True\n",
    "    return False\n",
    "\n",
    "def DFS(board, i, j, word):\n",
    "    if len(word) == 0:\n",
    "        return True  # 找完了\n",
    "    if i<0 or i>=len(board) or j<0 or j>=len(board[0]) or board[i][j]!=word[0]:\n",
    "        return False  # 没找到\n",
    "    tmp = board[i][j]\n",
    "    board[i][j] = '0'  # 找过的置0\n",
    "    # 找下一个\n",
    "    ans = DFS(board, i+1, j, word[1:]) or DFS(board, i-1, j, word[1:]) or DFS(board, i, j+1, word[1:]) or DFS(board, i, j-1, word[1:])\n",
    "    board[i][j] = tmp\n",
    "    return ans"
   ]
  },
  {
   "cell_type": "code",
   "execution_count": 28,
   "metadata": {
    "ExecuteTime": {
     "end_time": "2020-08-10T12:41:56.645806Z",
     "start_time": "2020-08-10T12:41:56.640519Z"
    },
    "scrolled": false
   },
   "outputs": [
    {
     "data": {
      "text/plain": [
       "True"
      ]
     },
     "execution_count": 28,
     "metadata": {},
     "output_type": "execute_result"
    }
   ],
   "source": [
    "board =[\n",
    "  ['A','B','C','E'],\n",
    "  ['S','F','C','S'],\n",
    "  ['A','D','E','E']\n",
    "]\n",
    "word = 'ABCCED'\n",
    "exist(board, word)"
   ]
  },
  {
   "cell_type": "markdown",
   "metadata": {},
   "source": [
    "## 238. 除自身以外数组的乘积"
   ]
  },
  {
   "cell_type": "markdown",
   "metadata": {},
   "source": [
    "### 双指针\n",
    "类似于双指针的思想，从前遍历到第i之前的乘积，做累乘；再从后遍历到第j个之后的乘积。二者相乘\n",
    "\n",
    "时间复杂度:$O(3n)$\n",
    "\n",
    "空间复杂度:$O(2n)$"
   ]
  },
  {
   "cell_type": "code",
   "execution_count": 50,
   "metadata": {
    "ExecuteTime": {
     "end_time": "2020-08-10T13:26:47.964338Z",
     "start_time": "2020-08-10T13:26:47.955411Z"
    }
   },
   "outputs": [],
   "source": [
    "def productExceptSelf(nums):\n",
    "    n = len(nums)\n",
    "    output, left, right = [1 for i in range(n)], [1 for i in range(n)], [1 for i in range(n)]\n",
    "    for i in range(1, n):\n",
    "        left[i] = left[i-1]*nums[i-1]\n",
    "    for j in range(n-2, -1, -1):\n",
    "        right[j] = right[j+1]*nums[j+1]\n",
    "    for k in range(len(output)):\n",
    "        output[k] = left[k]*right[k]\n",
    "    return output"
   ]
  },
  {
   "cell_type": "markdown",
   "metadata": {},
   "source": [
    "### 动态规划\n",
    "在方法1的基础上优化，减少多余存储left和right\n",
    "\n",
    "时间复杂度:$O(2n)$\n",
    "\n",
    "空间复杂度:$O(1)$ 输出数组dp占用的空间不算"
   ]
  },
  {
   "cell_type": "code",
   "execution_count": 52,
   "metadata": {
    "ExecuteTime": {
     "end_time": "2020-08-10T13:49:32.158317Z",
     "start_time": "2020-08-10T13:49:32.152812Z"
    }
   },
   "outputs": [],
   "source": [
    "def productExceptSelf(nums):\n",
    "    n = len(nums)\n",
    "    left, right = 1, 1\n",
    "    dp = [1 for i in range(n)]\n",
    "    for i in range(1, n):\n",
    "        left = left*nums[i-1]\n",
    "        dp[i] *= left\n",
    "    for j in range(n-2, -1, -1):\n",
    "        right = right*nums[j+1]\n",
    "        dp[j] *= right\n",
    "    \n",
    "    return dp"
   ]
  },
  {
   "cell_type": "code",
   "execution_count": 53,
   "metadata": {
    "ExecuteTime": {
     "end_time": "2020-08-10T13:49:32.871225Z",
     "start_time": "2020-08-10T13:49:32.865434Z"
    }
   },
   "outputs": [
    {
     "data": {
      "text/plain": [
       "[24, 12, 8, 6]"
      ]
     },
     "execution_count": 53,
     "metadata": {},
     "output_type": "execute_result"
    }
   ],
   "source": [
    "nums = [1, 2, 3, 4]\n",
    "productExceptSelf(nums)"
   ]
  },
  {
   "cell_type": "markdown",
   "metadata": {},
   "source": [
    "## 287. 寻找重复数\n"
   ]
  },
  {
   "cell_type": "code",
   "execution_count": 2,
   "metadata": {
    "ExecuteTime": {
     "end_time": "2020-08-12T07:29:01.893970Z",
     "start_time": "2020-08-12T07:29:01.889318Z"
    }
   },
   "outputs": [],
   "source": [
    "def findDuplicate(nums):\n",
    "    a = {}\n",
    "    for i in nums:\n",
    "        if i in a:\n",
    "            return i\n",
    "        else:\n",
    "            a[i] = 1"
   ]
  },
  {
   "cell_type": "code",
   "execution_count": 3,
   "metadata": {
    "ExecuteTime": {
     "end_time": "2020-08-12T07:29:28.285295Z",
     "start_time": "2020-08-12T07:29:28.274406Z"
    }
   },
   "outputs": [
    {
     "data": {
      "text/plain": [
       "2"
      ]
     },
     "execution_count": 3,
     "metadata": {},
     "output_type": "execute_result"
    }
   ],
   "source": [
    "nums = [1,3,4,2,2]\n",
    "findDuplicate(nums)"
   ]
  },
  {
   "cell_type": "markdown",
   "metadata": {},
   "source": [
    "## 380. 常数时间插入、删除和获取随机元素"
   ]
  },
  {
   "cell_type": "markdown",
   "metadata": {},
   "source": [
    "通过dict和list实现常数时间复杂度的查找：dict的查找和list随机获取\n",
    "\n",
    "dict中key保存数值，val保存索引；\n",
    "\n",
    "list中保存数值\n",
    "\n",
    "每次变换时，dict和list同时发生改变"
   ]
  },
  {
   "cell_type": "code",
   "execution_count": 4,
   "metadata": {
    "ExecuteTime": {
     "end_time": "2020-08-12T12:38:20.414761Z",
     "start_time": "2020-08-12T12:38:20.407399Z"
    }
   },
   "outputs": [],
   "source": [
    "from random import choice\n",
    "\n",
    "class RandomizedSet():\n",
    "    def __init__(self):\n",
    "        self.list = []\n",
    "        self.dict = {}\n",
    "        \n",
    "    def insert(self, val):\n",
    "        if val in self.dict:\n",
    "            return False\n",
    "        self.dict[val] = len(self.list)\n",
    "        self.list.append(val)\n",
    "        return True\n",
    "    \n",
    "    def remove(self, val):\n",
    "        if val in self.dict:\n",
    "            # del list\n",
    "            last_ele = self.list[-1]\n",
    "            tar_idx = self.dict[val]\n",
    "            self.list[tar_idx] = last_ele\n",
    "            self.list.pop()\n",
    "            # del dict\n",
    "            self.dict[last_ele] = tar_idx\n",
    "            del self.dict[val]\n",
    "            return True\n",
    "        return False\n",
    "     \n",
    "    def getRandom(self):\n",
    "        return choice(self.list)"
   ]
  },
  {
   "cell_type": "markdown",
   "metadata": {},
   "source": [
    "## 289. 生命游戏"
   ]
  },
  {
   "cell_type": "code",
   "execution_count": 50,
   "metadata": {
    "ExecuteTime": {
     "end_time": "2020-08-13T08:54:10.934563Z",
     "start_time": "2020-08-13T08:54:10.924249Z"
    }
   },
   "outputs": [],
   "source": [
    "def gameOfLife(board):\n",
    "    import numpy as np\n",
    "    width, length = len(board[0]), len(board)\n",
    "    #zero padding\n",
    "    board_pad = np.array([[0 for _ in range(width+2)]for _ in range(length+2)])\n",
    "    board_pad[1:length+1,1:width+1] = np.array(board)\n",
    "    kernel = np.array([[1,1,1],\n",
    "                      [1,0,1],\n",
    "                      [1,1,1]])\n",
    "    for i in range(1, length+1):\n",
    "        for j in range(1, width+1):\n",
    "            cnt = np.sum(kernel*board_pad[i-1:i+2, j-1:j+2])\n",
    "            if board[i-1][j-1] == 1:\n",
    "                if cnt < 2 or cnt > 3:\n",
    "                    board[i-1][j-1] = 0\n",
    "            else: \n",
    "                if cnt == 3:\n",
    "                    board[i-1][j-1] = 1\n",
    "    return board\n",
    "                \n",
    "        "
   ]
  },
  {
   "cell_type": "code",
   "execution_count": 51,
   "metadata": {
    "ExecuteTime": {
     "end_time": "2020-08-13T08:54:11.167260Z",
     "start_time": "2020-08-13T08:54:11.162460Z"
    }
   },
   "outputs": [
    {
     "data": {
      "text/plain": [
       "[[0, 0, 0], [1, 0, 1], [0, 1, 1], [0, 1, 0]]"
      ]
     },
     "execution_count": 51,
     "metadata": {},
     "output_type": "execute_result"
    }
   ],
   "source": [
    "board = [\n",
    "  [0,1,0],\n",
    "  [0,0,1],\n",
    "  [1,1,1],\n",
    "  [0,0,0]\n",
    "]\n",
    "gameOfLife(board)"
   ]
  },
  {
   "cell_type": "markdown",
   "metadata": {},
   "source": [
    "## 162. 寻找峰值"
   ]
  },
  {
   "cell_type": "code",
   "execution_count": 99,
   "metadata": {
    "ExecuteTime": {
     "end_time": "2020-08-15T01:58:53.296162Z",
     "start_time": "2020-08-15T01:58:53.291200Z"
    }
   },
   "outputs": [],
   "source": [
    "def findPeakElement(nums):\n",
    "    if len(nums)==1: return nums[0]\n",
    "    n = len(nums)\n",
    "    left, right = 0,n-1\n",
    "    mid = n//2\n",
    "    while left<right:\n",
    "        mid = (right-left)//2+left\n",
    "        print(left, mid, right)\n",
    "        print(f'nums = {nums[left:right+1]}')\n",
    "        \n",
    "        if nums[mid]<nums[mid+1]:\n",
    "            left = mid+1\n",
    "        elif nums[mid]==nums[mid+1]:\n",
    "            right = mid\n",
    "        else:\n",
    "            right = mid\n",
    "    return right if nums[left]<nums[right] else left"
   ]
  },
  {
   "cell_type": "code",
   "execution_count": 100,
   "metadata": {
    "ExecuteTime": {
     "end_time": "2020-08-15T01:58:53.475873Z",
     "start_time": "2020-08-15T01:58:53.472514Z"
    }
   },
   "outputs": [
    {
     "name": "stdout",
     "output_type": "stream",
     "text": [
      "0 3 6\n",
      "nums = [1, 2, 1, 3, 5, 6, 4]\n",
      "4 5 6\n",
      "nums = [5, 6, 4]\n",
      "4 4 5\n",
      "nums = [5, 6]\n",
      "5\n"
     ]
    }
   ],
   "source": [
    "nums = [1,2,1,3,5,6,4]\n",
    "# max(nums)\n",
    "ans=findPeakElement(nums)\n",
    "print(ans)"
   ]
  },
  {
   "cell_type": "markdown",
   "metadata": {},
   "source": [
    "## review 股票问题\n",
    "20200815"
   ]
  },
  {
   "cell_type": "code",
   "execution_count": 115,
   "metadata": {
    "ExecuteTime": {
     "end_time": "2020-08-16T02:31:37.909532Z",
     "start_time": "2020-08-16T02:31:37.902712Z"
    }
   },
   "outputs": [],
   "source": [
    "def maxProfit(prices):\n",
    "    n = len(prices)\n",
    "    dp = [[0, 0]for i in range(n)]\n",
    "    dp[0][0], dp[0][1] = 0, -prices[0]\n",
    "    for i in range(1, len(prices)):\n",
    "        dp[i][0] = max(dp[i-1][0], dp[i-1][1]+prices[i])\n",
    "        dp[i][1] = max(dp[i-1][1], -prices[i])\n",
    "    return dp"
   ]
  },
  {
   "cell_type": "code",
   "execution_count": 116,
   "metadata": {
    "ExecuteTime": {
     "end_time": "2020-08-16T02:31:38.083369Z",
     "start_time": "2020-08-16T02:31:38.079107Z"
    }
   },
   "outputs": [
    {
     "data": {
      "text/plain": [
       "[[0, -1], [0, -1], [1, -1], [2, -1], [2, -1], [3, -1]]"
      ]
     },
     "execution_count": 116,
     "metadata": {},
     "output_type": "execute_result"
    }
   ],
   "source": [
    "prices = [1, 1, 2, 3, 1, 4]\n",
    "maxProfit(prices)"
   ]
  },
  {
   "cell_type": "markdown",
   "metadata": {},
   "source": [
    "## 152. 乘积最大的数组"
   ]
  },
  {
   "cell_type": "code",
   "execution_count": 127,
   "metadata": {
    "ExecuteTime": {
     "end_time": "2020-08-16T03:02:24.986186Z",
     "start_time": "2020-08-16T03:02:24.976889Z"
    }
   },
   "outputs": [],
   "source": [
    "def maxProduct(nums):\n",
    "    if len(nums) == 0: return 0\n",
    "    if len(nums) == 1: return nums[0]\n",
    "    dp = [[0]*2 for _ in range(len(nums))]\n",
    "    ans, dp[0][0], dp[0][1] = nums[0], nums[0], nums[0]\n",
    "    for i in range(1, len(nums)):\n",
    "        left = nums[i]*dp[i-1][0]\n",
    "        right = nums[i]*dp[i-1][1]\n",
    "        dp[i][0] = max(left, nums[i], right)\n",
    "        dp[i][1] = min(left, nums[i], right)\n",
    "        ans = max(dp[i][0], ans)\n",
    "    return ans"
   ]
  },
  {
   "cell_type": "code",
   "execution_count": 128,
   "metadata": {
    "ExecuteTime": {
     "end_time": "2020-08-16T03:02:25.206655Z",
     "start_time": "2020-08-16T03:02:25.203192Z"
    }
   },
   "outputs": [
    {
     "data": {
      "text/plain": [
       "6"
      ]
     },
     "execution_count": 128,
     "metadata": {},
     "output_type": "execute_result"
    }
   ],
   "source": [
    "nums = [2,3,-2,4]\n",
    "maxProduct(nums)"
   ]
  },
  {
   "cell_type": "markdown",
   "metadata": {},
   "source": [
    "## 105. 从前序遍历和中序遍历构建二叉树"
   ]
  },
  {
   "cell_type": "markdown",
   "metadata": {},
   "source": [
    "递归\n",
    "\n",
    "对二叉树的结构使用还不熟练\n",
    "\n",
    "利用前、中的特点分别找到（分支的）根结点的值val并定位左右分支left、right"
   ]
  },
  {
   "cell_type": "code",
   "execution_count": 1,
   "metadata": {
    "ExecuteTime": {
     "end_time": "2020-08-20T06:51:22.955784Z",
     "start_time": "2020-08-20T06:51:22.949710Z"
    }
   },
   "outputs": [],
   "source": [
    "# Definition for a binary tree node.\n",
    "class TreeNode(object):\n",
    "    def __init__(self, x):\n",
    "        self.val = x\n",
    "        self.left = None\n",
    "        self.right = None\n",
    "\n",
    "class Solution(object):\n",
    "    def buildTree(self, preorder, inorder):\n",
    "        \"\"\"\n",
    "        :type preorder: List[int]\n",
    "        :type inorder: List[int]\n",
    "        :rtype: TreeNode\n",
    "        \"\"\"\n",
    "        if len(inorder) == 0:\n",
    "            return None\n",
    "        # 前序遍历第一个值为根节点\n",
    "        root = TreeNode(preorder[0])\n",
    "        # 因为没有重复元素，所以可以直接根据值来查找根节点在中序遍历中的位置\n",
    "        mid = inorder.index(preorder[0])\n",
    "        # 构建左子树\n",
    "        root.left = self.buildTree(preorder[1:mid+1], inorder[:mid])\n",
    "        # 构建右子树\n",
    "        root.right = self.buildTree(preorder[mid+1:], inorder[mid+1:])\n",
    "        \n",
    "        return root"
   ]
  },
  {
   "cell_type": "code",
   "execution_count": 9,
   "metadata": {
    "ExecuteTime": {
     "end_time": "2020-08-20T06:52:58.184252Z",
     "start_time": "2020-08-20T06:52:58.177876Z"
    }
   },
   "outputs": [
    {
     "data": {
      "text/plain": [
       "20"
      ]
     },
     "execution_count": 9,
     "metadata": {},
     "output_type": "execute_result"
    }
   ],
   "source": [
    "preorder = [3, 9, 20, 15, 7]\n",
    "inorder = [9, 3, 15, 20, 7]\n",
    "s = Solution()\n",
    "tree = s.buildTree(preorder, inorder)\n",
    "tree.right.val"
   ]
  },
  {
   "cell_type": "code",
   "execution_count": null,
   "metadata": {},
   "outputs": [],
   "source": []
  }
 ],
 "metadata": {
  "kernelspec": {
   "display_name": "Python 3",
   "language": "python",
   "name": "python3"
  },
  "language_info": {
   "codemirror_mode": {
    "name": "ipython",
    "version": 3
   },
   "file_extension": ".py",
   "mimetype": "text/x-python",
   "name": "python",
   "nbconvert_exporter": "python",
   "pygments_lexer": "ipython3",
   "version": "3.7.6"
  },
  "toc": {
   "base_numbering": 1,
   "nav_menu": {
    "height": "432px",
    "width": "205px"
   },
   "number_sections": true,
   "sideBar": true,
   "skip_h1_title": false,
   "title_cell": "Table of Contents",
   "title_sidebar": "Contents",
   "toc_cell": false,
   "toc_position": {
    "height": "calc(100% - 180px)",
    "left": "10px",
    "top": "150px",
    "width": "195px"
   },
   "toc_section_display": true,
   "toc_window_display": true
  },
  "varInspector": {
   "cols": {
    "lenName": 16,
    "lenType": 16,
    "lenVar": 40
   },
   "kernels_config": {
    "python": {
     "delete_cmd_postfix": "",
     "delete_cmd_prefix": "del ",
     "library": "var_list.py",
     "varRefreshCmd": "print(var_dic_list())"
    },
    "r": {
     "delete_cmd_postfix": ") ",
     "delete_cmd_prefix": "rm(",
     "library": "var_list.r",
     "varRefreshCmd": "cat(var_dic_list()) "
    }
   },
   "oldHeight": 183,
   "position": {
    "height": "205px",
    "left": "1133px",
    "right": "20px",
    "top": "459px",
    "width": "316px"
   },
   "types_to_exclude": [
    "module",
    "function",
    "builtin_function_or_method",
    "instance",
    "_Feature"
   ],
   "varInspector_section_display": "block",
   "window_display": true
  }
 },
 "nbformat": 4,
 "nbformat_minor": 4
}
