{
 "cells": [
  {
   "cell_type": "markdown",
   "metadata": {},
   "source": [
    "优先队列是使用堆实现的，堆的底层为一个完全二叉树。\n",
    "\n",
    "堆用于快速添加/移除最大/最小元素：add上浮，pop下沉，时间复杂度为$O(log_2N)$"
   ]
  },
  {
   "cell_type": "markdown",
   "metadata": {},
   "source": [
    "## 二叉树的实现\n",
    "链表、数组"
   ]
  },
  {
   "cell_type": "code",
   "execution_count": 18,
   "metadata": {
    "ExecuteTime": {
     "end_time": "2021-07-07T12:39:22.314628Z",
     "start_time": "2021-07-07T12:39:22.308025Z"
    }
   },
   "outputs": [],
   "source": [
    "class BinaryTree():\n",
    "    def __init__(self, val, left, right):\n",
    "        self.val = val\n",
    "        self.left = left\n",
    "        self.right = right\n",
    "\n",
    "bt1 = BinaryTree(1, None, None)\n",
    "bt2 = BinaryTree(2, None, None)\n",
    "bt3 = BinaryTree(3, None, None)\n",
    "bt4 = BinaryTree(4, None, None)\n",
    "bt5 = BinaryTree(5, None, None)\n",
    "bt6 = BinaryTree(6, None, None)\n",
    "bt7 = BinaryTree(7, None, None)\n",
    "bt8 = BinaryTree(8, None, None)\n",
    "\n",
    "bt1.left, bt1.right = bt2, bt3\n",
    "bt2.left, bt2.right = bt4, bt5\n",
    "bt3.left, bt3.right = bt6, bt7\n",
    "\n",
    "bt6.left = bt8"
   ]
  },
  {
   "cell_type": "markdown",
   "metadata": {
    "heading_collapsed": true
   },
   "source": [
    "## 遍历方式\n",
    "递归方法和迭代方法：\n",
    "\n",
    "从时间复杂度上其实迭代法和递归法差不多(在不考虑函数调用开销和函数调用产生的堆栈开销)，但\n",
    "是空间复杂度上，递归开销会大一些，因为递归需要系统堆栈存参数返回值等等。\n",
    "\n",
    "递归更容易让程序员理解，但收敛不好，容易栈溢出。\n"
   ]
  },
  {
   "cell_type": "markdown",
   "metadata": {
    "heading_collapsed": true,
    "hidden": true
   },
   "source": [
    "### DFS\n",
    "使用递归实现前中后序遍历。\n",
    "\n",
    "1. 参数返回值：`in: root`\n",
    "\n",
    "2. 终止条件：没有叶子节点，即`root==None`\n",
    "\n",
    "3. 单层循环逻辑：\n",
    "\n",
    "```\n",
    "# 以中序遍历为例\n",
    "dfs(root.left)\n",
    "in_order.append(root.val)\n",
    "dfs(root.right)\n",
    "```"
   ]
  },
  {
   "cell_type": "code",
   "execution_count": 18,
   "metadata": {
    "ExecuteTime": {
     "end_time": "2021-06-27T02:07:25.588027Z",
     "start_time": "2021-06-27T02:07:25.582919Z"
    },
    "hidden": true
   },
   "outputs": [],
   "source": [
    "def inorder(binaryTree):\n",
    "    in_order = []\n",
    "    def dfs(binaryTree, in_order):\n",
    "        if not binaryTree:\n",
    "            return \n",
    "        dfs(binaryTree.left, in_order)\n",
    "        in_order.append(binaryTree.val)\n",
    "        dfs(binaryTree.right, in_order)\n",
    "        return \n",
    "    dfs(binaryTree, in_order)\n",
    "    return in_order"
   ]
  },
  {
   "cell_type": "code",
   "execution_count": 23,
   "metadata": {
    "ExecuteTime": {
     "end_time": "2021-06-27T02:08:29.739532Z",
     "start_time": "2021-06-27T02:08:29.733371Z"
    },
    "hidden": true
   },
   "outputs": [
    {
     "data": {
      "text/plain": [
       "[4, 5, 2, 6, 7, 3, 1]"
      ]
     },
     "execution_count": 23,
     "metadata": {},
     "output_type": "execute_result"
    }
   ],
   "source": [
    "post = postorder(bt1)\n",
    "post"
   ]
  },
  {
   "cell_type": "markdown",
   "metadata": {
    "heading_collapsed": true,
    "hidden": true
   },
   "source": [
    "### 迭代\n",
    "1. 用stack模拟“递归”节点的过程，🍓注意处理(print)和访问节点(append in cur->left/right)的顺序\n",
    "2. ？？？使用标记法：指针标记下一个处理的节点"
   ]
  },
  {
   "cell_type": "markdown",
   "metadata": {
    "heading_collapsed": true,
    "hidden": true
   },
   "source": [
    "### 94. 二叉树的中序遍历"
   ]
  },
  {
   "cell_type": "markdown",
   "metadata": {
    "hidden": true
   },
   "source": [
    "1. 递归"
   ]
  },
  {
   "cell_type": "code",
   "execution_count": 82,
   "metadata": {
    "ExecuteTime": {
     "end_time": "2021-06-27T03:05:44.881642Z",
     "start_time": "2021-06-27T03:05:44.875169Z"
    },
    "hidden": true
   },
   "outputs": [],
   "source": [
    "from typing import List\n",
    "class Solution(object):\n",
    "    def inorderTraversal(self, TreeNode):\n",
    "        def dfs(bt):\n",
    "            if not bt: return\n",
    "#             print(bt.val)\n",
    "            dfs(bt.left)\n",
    "            in_order.append(bt.val)\n",
    "            dfs(bt.right)\n",
    "            return \n",
    "        in_order = []\n",
    "#         bt = TreeNode\n",
    "        dfs(TreeNode)\n",
    "        return in_order\n",
    "    "
   ]
  },
  {
   "cell_type": "markdown",
   "metadata": {
    "hidden": true
   },
   "source": [
    "2. 迭代"
   ]
  },
  {
   "cell_type": "markdown",
   "metadata": {
    "hidden": true
   },
   "source": [
    "处理：将元素放进result数组中\n",
    "访问：遍历节点"
   ]
  },
  {
   "cell_type": "code",
   "execution_count": 57,
   "metadata": {
    "ExecuteTime": {
     "end_time": "2021-06-29T09:49:25.489738Z",
     "start_time": "2021-06-29T09:49:25.484756Z"
    },
    "hidden": true
   },
   "outputs": [],
   "source": [
    "class Solution(object):\n",
    "    def inorderTraversal(self, root):\n",
    "        inorder, tmp = [], []\n",
    "        cur = root\n",
    "        while cur or tmp:               # 模仿递归\n",
    "            if cur:\n",
    "                tmp.append(cur)\n",
    "                cur = cur.left          # 1. 通过dfs(cur.left)找到最左节点\n",
    "            else:\n",
    "                cur = tmp.pop()\n",
    "                inorder.append(cur.val) # 2. 处理中间节点\n",
    "                cur = cur.right         # 3. 访问最右节点\n",
    "        return inorder"
   ]
  },
  {
   "cell_type": "code",
   "execution_count": 58,
   "metadata": {
    "ExecuteTime": {
     "end_time": "2021-06-29T09:49:27.227767Z",
     "start_time": "2021-06-29T09:49:27.220663Z"
    },
    "hidden": true
   },
   "outputs": [],
   "source": [
    "class TreeNode:\n",
    "    def __init__(self, val=0, left=None, right=None):\n",
    "        self.val = val\n",
    "        self.left = left\n",
    "        self.right = right\n",
    "        \n",
    "bt1 = TreeNode(1, None, None)\n",
    "bt2 = TreeNode(2, None, None)\n",
    "bt3 = TreeNode(3, None, None)\n",
    "bt4 = TreeNode(4, None, None)\n",
    "bt5 = TreeNode(5, None, None)\n",
    "bt6 = TreeNode(6, None, None)\n",
    "bt7 = TreeNode(7, None, None)\n",
    "\n",
    "bt1.left, bt1.right = bt2, bt3\n",
    "bt2.left, bt2.right = bt4, bt5\n",
    "bt3.left, bt3.right = bt6, bt7\n"
   ]
  },
  {
   "cell_type": "code",
   "execution_count": 59,
   "metadata": {
    "ExecuteTime": {
     "end_time": "2021-06-29T09:49:29.018541Z",
     "start_time": "2021-06-29T09:49:29.012457Z"
    },
    "hidden": true
   },
   "outputs": [
    {
     "data": {
      "text/plain": [
       "[4, 2, 5, 1, 6, 3, 7]"
      ]
     },
     "execution_count": 59,
     "metadata": {},
     "output_type": "execute_result"
    }
   ],
   "source": [
    "a = Solution()\n",
    "in_order = a.inorderTraversal(bt1)\n",
    "in_order"
   ]
  },
  {
   "cell_type": "markdown",
   "metadata": {
    "heading_collapsed": true,
    "hidden": true
   },
   "source": [
    "### 144. 二叉树的前序遍历"
   ]
  },
  {
   "cell_type": "markdown",
   "metadata": {
    "hidden": true
   },
   "source": [
    "1. 递归"
   ]
  },
  {
   "cell_type": "code",
   "execution_count": 20,
   "metadata": {
    "ExecuteTime": {
     "end_time": "2021-06-28T13:46:02.010673Z",
     "start_time": "2021-06-28T13:46:02.005788Z"
    },
    "hidden": true
   },
   "outputs": [],
   "source": [
    "class Solution(object):\n",
    "    def preorderTraversal(self, root):\n",
    "        pre = []\n",
    "        def dfs(binaryTree, pre):\n",
    "            if not binaryTree:\n",
    "                return \n",
    "            pre.append(binaryTree.val)\n",
    "            dfs(binaryTree.left, pre)\n",
    "            dfs(binaryTree.right, pre)\n",
    "            return \n",
    "        dfs(root, pre)\n",
    "        return pre"
   ]
  },
  {
   "cell_type": "markdown",
   "metadata": {
    "hidden": true
   },
   "source": [
    "2. 迭代"
   ]
  },
  {
   "cell_type": "code",
   "execution_count": 16,
   "metadata": {
    "ExecuteTime": {
     "end_time": "2021-06-28T13:44:23.598899Z",
     "start_time": "2021-06-28T13:44:23.593002Z"
    },
    "hidden": true
   },
   "outputs": [],
   "source": [
    "class Solution(object):\n",
    "    def preorderTraversal(self, root):\n",
    "        if not root: return []\n",
    "        pre_order, tmp = [], []\n",
    "        tmp.append(root)\n",
    "        while tmp:\n",
    "            cur = tmp.pop()\n",
    "            pre_order.append(cur.val)\n",
    "            if cur.right: tmp.append(cur.right)\n",
    "            if cur.left: tmp.append(cur.left)\n",
    "        return pre_order\n",
    "    "
   ]
  },
  {
   "cell_type": "code",
   "execution_count": 21,
   "metadata": {
    "ExecuteTime": {
     "end_time": "2021-06-28T13:46:03.729741Z",
     "start_time": "2021-06-28T13:46:03.722523Z"
    },
    "hidden": true
   },
   "outputs": [
    {
     "data": {
      "text/plain": [
       "[1, 2, 4, 5, 3, 6, 7]"
      ]
     },
     "execution_count": 21,
     "metadata": {},
     "output_type": "execute_result"
    }
   ],
   "source": [
    "a = Solution()\n",
    "pre_order = a.preorderTraversal(bt1)\n",
    "pre_order"
   ]
  },
  {
   "cell_type": "markdown",
   "metadata": {
    "heading_collapsed": true,
    "hidden": true
   },
   "source": [
    "### 145. 二叉树的后序遍历"
   ]
  },
  {
   "cell_type": "markdown",
   "metadata": {
    "hidden": true
   },
   "source": [
    "1. 递归"
   ]
  },
  {
   "cell_type": "code",
   "execution_count": 22,
   "metadata": {
    "ExecuteTime": {
     "end_time": "2021-06-27T02:08:29.534663Z",
     "start_time": "2021-06-27T02:08:29.529336Z"
    },
    "hidden": true
   },
   "outputs": [],
   "source": [
    "class Solution:\n",
    "    def postorderTraversal(self, root: TreeNode) -> List[int]:\n",
    "        def dfs(root):\n",
    "            if not root: return\n",
    "            dfs(root.left)\n",
    "            dfs(root.right)\n",
    "            post_order.append(root.val)\n",
    "            return \n",
    "        post_order = []\n",
    "        dfs(root)\n",
    "        return post_order"
   ]
  },
  {
   "cell_type": "markdown",
   "metadata": {
    "hidden": true
   },
   "source": [
    "2. 迭代"
   ]
  },
  {
   "cell_type": "code",
   "execution_count": 69,
   "metadata": {
    "ExecuteTime": {
     "end_time": "2021-06-29T10:01:18.741745Z",
     "start_time": "2021-06-29T10:01:18.736250Z"
    },
    "hidden": true
   },
   "outputs": [],
   "source": [
    "class Solution(object):\n",
    "    def postorderTraversal(self, root):\n",
    "        postorder, tmp = [], []\n",
    "        tmp.append(root)\n",
    "        while tmp:\n",
    "            cur = tmp.pop()\n",
    "            postorder.append(cur.val)\n",
    "            if cur.left: tmp.append(cur.left)\n",
    "            if cur.right: tmp.append(cur.right)\n",
    "        return postorder[::-1]"
   ]
  },
  {
   "cell_type": "code",
   "execution_count": 70,
   "metadata": {
    "ExecuteTime": {
     "end_time": "2021-06-29T10:01:18.936522Z",
     "start_time": "2021-06-29T10:01:18.929440Z"
    },
    "hidden": true
   },
   "outputs": [
    {
     "data": {
      "text/plain": [
       "[4, 5, 2, 6, 7, 3, 1]"
      ]
     },
     "execution_count": 70,
     "metadata": {},
     "output_type": "execute_result"
    }
   ],
   "source": [
    "a = Solution()\n",
    "post_order = a.postorderTraversal(bt1)\n",
    "post_order"
   ]
  },
  {
   "cell_type": "markdown",
   "metadata": {},
   "source": [
    "## BFS"
   ]
  },
  {
   "cell_type": "markdown",
   "metadata": {
    "heading_collapsed": true
   },
   "source": [
    "### 102. 二叉树的层序遍历\n",
    "给定一个二叉树，返回其节点值自顶向下的层序遍历。 "
   ]
  },
  {
   "cell_type": "markdown",
   "metadata": {
    "hidden": true
   },
   "source": [
    "1. 输出为一位数组"
   ]
  },
  {
   "cell_type": "code",
   "execution_count": 84,
   "metadata": {
    "ExecuteTime": {
     "end_time": "2021-06-29T11:11:26.008104Z",
     "start_time": "2021-06-29T11:11:26.001441Z"
    },
    "hidden": true
   },
   "outputs": [],
   "source": [
    "from queue import Queue\n",
    "from typing import List\n",
    "class Solution:\n",
    "    def levelOrder(self, root: TreeNode) -> List[List[int]]:\n",
    "        if not root: return []\n",
    "        res, q = [], Queue()\n",
    "        q.put(root)\n",
    "        while not q.empty():\n",
    "            cur = q.get()\n",
    "            res.append(cur.val)\n",
    "            if cur.left: q.put(cur.left)\n",
    "            if cur.right: q.put(cur.right)\n",
    "        return res"
   ]
  },
  {
   "cell_type": "markdown",
   "metadata": {
    "hidden": true
   },
   "source": [
    "2. 输出为二维数组"
   ]
  },
  {
   "cell_type": "code",
   "execution_count": 91,
   "metadata": {
    "ExecuteTime": {
     "end_time": "2021-06-29T12:54:14.777321Z",
     "start_time": "2021-06-29T12:54:14.771149Z"
    },
    "code_folding": [],
    "hidden": true
   },
   "outputs": [],
   "source": [
    "from collections import deque\n",
    "class Solution:\n",
    "    def levelOrder(self, root: TreeNode) -> List[List[int]]:\n",
    "        if not root: return []\n",
    "        res = []\n",
    "        dq = deque()\n",
    "        dq.append(root)\n",
    "        while dq:\n",
    "            tmp = []\n",
    "            for i in range(len(dq)):\n",
    "                cur = dq.popleft()\n",
    "                tmp.append(cur.val)\n",
    "                if cur.left:\n",
    "                    dq.append(cur.left)\n",
    "                if cur.right:\n",
    "                    dq.append(cur.right)\n",
    "            res.append(tmp.copy())\n",
    "        return res"
   ]
  },
  {
   "cell_type": "code",
   "execution_count": 92,
   "metadata": {
    "ExecuteTime": {
     "end_time": "2021-06-29T12:54:15.051587Z",
     "start_time": "2021-06-29T12:54:15.045753Z"
    },
    "hidden": true
   },
   "outputs": [
    {
     "data": {
      "text/plain": [
       "[[4, 5, 6, 7], [2, 3], [1]]"
      ]
     },
     "execution_count": 92,
     "metadata": {},
     "output_type": "execute_result"
    }
   ],
   "source": [
    "a = Solution()\n",
    "res = a.levelOrder(bt1)\n",
    "res"
   ]
  },
  {
   "cell_type": "markdown",
   "metadata": {
    "hidden": true
   },
   "source": [
    "🍓标准库collections中的deque功能较多，且使用方法更像一个list。\n",
    "![deque.png](attachment:images/deque.png)"
   ]
  },
  {
   "cell_type": "markdown",
   "metadata": {
    "heading_collapsed": true
   },
   "source": [
    "### 107. 二叉树的层序遍历 II\n",
    "给定一个二叉树，返回其节点值自底向上的层序遍历。 （即按从叶子节点所在层到根节点所在的层，逐层从左向右遍历）"
   ]
  },
  {
   "cell_type": "code",
   "execution_count": null,
   "metadata": {
    "hidden": true
   },
   "outputs": [],
   "source": [
    "class Solution:\n",
    "    def levelOrderBottom(self, root: TreeNode) -> List[List[int]]:\n",
    "        if not root: return []\n",
    "        res = []\n",
    "        dq = deque()\n",
    "        dq.append(root)\n",
    "        while dq:\n",
    "            tmp = []\n",
    "            for i in range(len(dq)):\n",
    "                cur = dq.popleft()\n",
    "                tmp.append(cur.val)\n",
    "                if cur.left:\n",
    "                    dq.append(cur.left)\n",
    "                if cur.right:\n",
    "                    dq.append(cur.right)\n",
    "            res.append(tmp.copy())\n",
    "        return res[::-1]"
   ]
  },
  {
   "cell_type": "markdown",
   "metadata": {
    "heading_collapsed": true
   },
   "source": [
    "### 199. 二叉树的右视图\n",
    "给定一棵二叉树，想象自己站在它的右侧，按照从顶部到底部的顺序，返回从右侧所能看到的节点值。\n",
    "\n",
    "示例:\n",
    "\n",
    "输入: [1,2,3,null,5,null,4]\n",
    "输出: [1, 3, 4]"
   ]
  },
  {
   "cell_type": "code",
   "execution_count": 93,
   "metadata": {
    "ExecuteTime": {
     "end_time": "2021-06-29T13:31:46.344575Z",
     "start_time": "2021-06-29T13:31:46.339918Z"
    },
    "hidden": true
   },
   "outputs": [],
   "source": [
    "class Solution:\n",
    "    def rightSideView(self, root: TreeNode) -> List[int]:\n",
    "        if not root: return []\n",
    "        res = []\n",
    "        dq = deque()\n",
    "        dq.append(root)\n",
    "        while dq:\n",
    "            tmp = []\n",
    "            for i in range(len(dq)):\n",
    "                cur = dq.popleft()\n",
    "                tmp.append(cur.val)\n",
    "                if cur.left:\n",
    "                    dq.append(cur.left)\n",
    "                if cur.right:\n",
    "                    dq.append(cur.right)\n",
    "            res.append(tmp[-1])\n",
    "        return res\n",
    "    "
   ]
  },
  {
   "cell_type": "code",
   "execution_count": 94,
   "metadata": {
    "ExecuteTime": {
     "end_time": "2021-06-29T13:31:46.523106Z",
     "start_time": "2021-06-29T13:31:46.518480Z"
    },
    "hidden": true
   },
   "outputs": [
    {
     "data": {
      "text/plain": [
       "[1, 3, 7]"
      ]
     },
     "execution_count": 94,
     "metadata": {},
     "output_type": "execute_result"
    }
   ],
   "source": [
    "a = Solution()\n",
    "res = a.rightSideView(bt1)\n",
    "res"
   ]
  },
  {
   "cell_type": "markdown",
   "metadata": {
    "heading_collapsed": true
   },
   "source": [
    "### 637.二叉树的层平均值\n",
    "返回每一树层的平均值"
   ]
  },
  {
   "cell_type": "code",
   "execution_count": 95,
   "metadata": {
    "ExecuteTime": {
     "end_time": "2021-06-30T00:50:42.756803Z",
     "start_time": "2021-06-30T00:50:42.751661Z"
    },
    "hidden": true
   },
   "outputs": [],
   "source": [
    "class Solution:\n",
    "    def averageOfLevels(self, root: TreeNode) -> List[float]:\n",
    "        res = []\n",
    "        dq = deque()\n",
    "        dq.append(root)\n",
    "        while dq:\n",
    "            tmp = 0\n",
    "            size = len(dq)\n",
    "            for i in range(size):\n",
    "                cur = dq.popleft()\n",
    "                tmp += cur.val\n",
    "                if cur.left:\n",
    "                    dq.append(cur.left)\n",
    "                if cur.right:\n",
    "                    dq.append(cur.right)\n",
    "            res.append(tmp/size)\n",
    "        return res"
   ]
  },
  {
   "cell_type": "code",
   "execution_count": 96,
   "metadata": {
    "ExecuteTime": {
     "end_time": "2021-06-30T00:51:10.795060Z",
     "start_time": "2021-06-30T00:51:10.789444Z"
    },
    "hidden": true
   },
   "outputs": [
    {
     "data": {
      "text/plain": [
       "[1.0, 2.5, 5.5]"
      ]
     },
     "execution_count": 96,
     "metadata": {},
     "output_type": "execute_result"
    }
   ],
   "source": [
    "a = Solution()\n",
    "res = a.averageOfLevels(bt1)\n",
    "res"
   ]
  },
  {
   "cell_type": "markdown",
   "metadata": {
    "heading_collapsed": true
   },
   "source": [
    "### 429. N 叉树的层序遍历"
   ]
  },
  {
   "cell_type": "markdown",
   "metadata": {
    "hidden": true
   },
   "source": [
    "构建N叉树\n",
    "\n",
    "🍓用list存储N叉树的children"
   ]
  },
  {
   "cell_type": "code",
   "execution_count": 468,
   "metadata": {
    "ExecuteTime": {
     "end_time": "2021-07-05T11:46:34.309472Z",
     "start_time": "2021-07-05T11:46:34.302970Z"
    },
    "hidden": true
   },
   "outputs": [],
   "source": [
    "# Definition for a Node.\n",
    "class Node:\n",
    "    def __init__(self, val=None, children=None):\n",
    "        self.val = val\n",
    "        self.children = children\n",
    "        \n",
    "nt1 = Node(val=1)\n",
    "nt2 = Node(val=2)\n",
    "nt3 = Node(val=3)\n",
    "nt4 = Node(val=4)\n",
    "nt5 = Node(val=5)\n",
    "nt6 = Node(val=6)\n",
    "nt7 = Node(val=7)\n",
    "nt8 = Node(val=8)\n",
    "nt9 = Node(val=9)\n",
    "\n",
    "nt1.children = [nt2, nt3, nt4]\n",
    "nt2.children = [nt5, nt6]\n",
    "nt3.children = [nt7, nt8]\n",
    "nt7.children = [nt9]\n"
   ]
  },
  {
   "cell_type": "code",
   "execution_count": 156,
   "metadata": {
    "ExecuteTime": {
     "end_time": "2021-06-30T01:45:36.506522Z",
     "start_time": "2021-06-30T01:45:36.500352Z"
    },
    "hidden": true
   },
   "outputs": [],
   "source": [
    "class Solution:\n",
    "    def levelOrder(self, root: 'Node') -> List[List[int]]:\n",
    "        res = []\n",
    "        dq = deque()\n",
    "        dq.append(root)\n",
    "        while dq:\n",
    "            tmp = []\n",
    "            size = len(dq)\n",
    "            for _ in range(size):\n",
    "                cur = dq.popleft()\n",
    "                tmp.append(cur.val)\n",
    "                if cur.children:\n",
    "                    children = cur.children.copy()  # 防止修改原始树的结构\n",
    "                while children:\n",
    "                    dq.append(children.pop())\n",
    "            res.append(tmp[::-1])\n",
    "        return res"
   ]
  },
  {
   "cell_type": "code",
   "execution_count": 158,
   "metadata": {
    "ExecuteTime": {
     "end_time": "2021-06-30T01:46:44.571923Z",
     "start_time": "2021-06-30T01:46:44.566526Z"
    },
    "hidden": true
   },
   "outputs": [
    {
     "data": {
      "text/plain": [
       "2"
      ]
     },
     "execution_count": 158,
     "metadata": {},
     "output_type": "execute_result"
    }
   ],
   "source": [
    "a = Solution()\n",
    "res = a.levelOrder(nt1)\n",
    "res"
   ]
  },
  {
   "cell_type": "markdown",
   "metadata": {
    "heading_collapsed": true
   },
   "source": [
    "### 515. 在每个树行中找最大值\n",
    "您需要在二叉树的每一行中找到最大的值。"
   ]
  },
  {
   "cell_type": "code",
   "execution_count": 160,
   "metadata": {
    "ExecuteTime": {
     "end_time": "2021-06-30T01:50:12.399546Z",
     "start_time": "2021-06-30T01:50:12.393228Z"
    },
    "hidden": true
   },
   "outputs": [],
   "source": [
    "class Solution:\n",
    "    def largestValues(self, root: TreeNode) -> List[int]:\n",
    "        if not root: return []\n",
    "        res = []\n",
    "        dq = deque()\n",
    "        dq.append(root)\n",
    "        while dq:\n",
    "            maxNode = dq[0].val\n",
    "            size = len(dq)\n",
    "            for i in range(size):\n",
    "                cur = dq.popleft()\n",
    "                maxNode = max(cur.val, maxNode)\n",
    "                if cur.left:\n",
    "                    dq.append(cur.left)\n",
    "                if cur.right:\n",
    "                    dq.append(cur.right)\n",
    "            res.append(maxNode)\n",
    "        return res"
   ]
  },
  {
   "cell_type": "code",
   "execution_count": 161,
   "metadata": {
    "ExecuteTime": {
     "end_time": "2021-06-30T01:50:12.583689Z",
     "start_time": "2021-06-30T01:50:12.579631Z"
    },
    "hidden": true
   },
   "outputs": [
    {
     "data": {
      "text/plain": [
       "[1, 3, 7]"
      ]
     },
     "execution_count": 161,
     "metadata": {},
     "output_type": "execute_result"
    }
   ],
   "source": [
    "a = Solution()\n",
    "res = a.largestValues(bt1)\n",
    "res"
   ]
  },
  {
   "cell_type": "markdown",
   "metadata": {
    "heading_collapsed": true
   },
   "source": [
    "### 116. 填充每个节点的下一个右侧节点指针\n",
    "给定一个 完美二叉树 ，其所有叶子节点都在同一层，每个父节点都有两个子节点。二叉树定义如下：\n",
    "```\n",
    "struct Node {\n",
    "  int val;\n",
    "  Node *left;\n",
    "  Node *right;\n",
    "  Node *next;\n",
    "}\n",
    "```\n",
    "填充它的每个 next 指针，让这个指针指向其下一个右侧节点。如果找不到下一个右侧节点，则将 next 指针设置为 NULL。\n",
    "\n",
    "初始状态下，所有 next 指针都被设置为 NULL。\n"
   ]
  },
  {
   "cell_type": "code",
   "execution_count": 192,
   "metadata": {
    "ExecuteTime": {
     "end_time": "2021-07-01T01:03:40.129420Z",
     "start_time": "2021-07-01T01:03:40.122937Z"
    },
    "hidden": true
   },
   "outputs": [],
   "source": [
    "class Solution:\n",
    "    def connect(self, root: 'Node') -> 'Node':\n",
    "        if not root: return root\n",
    "        res = []\n",
    "        dq = deque()\n",
    "        dq.append(root)\n",
    "        while dq:\n",
    "            size = len(dq)\n",
    "            lastNode = None\n",
    "            for i in range(size):\n",
    "                cur = dq.popleft()\n",
    "                res.append(cur.val)\n",
    "                if lastNode:\n",
    "                    lastNode.next = cur\n",
    "                lastNode = cur\n",
    "                if cur.left:\n",
    "                    dq.append(cur.left)\n",
    "                if cur.right:\n",
    "                    dq.append(cur.right)\n",
    "            res.append('#')\n",
    "        return root"
   ]
  },
  {
   "cell_type": "code",
   "execution_count": 193,
   "metadata": {
    "ExecuteTime": {
     "end_time": "2021-07-01T01:03:40.346634Z",
     "start_time": "2021-07-01T01:03:40.341989Z"
    },
    "hidden": true
   },
   "outputs": [],
   "source": [
    "# Definition for a Node.\n",
    "class Node:\n",
    "    def __init__(self, val=None, left=None, right=None, next=None):\n",
    "        self.val = val\n",
    "        self.left = left\n",
    "        self.right = right\n",
    "        self.next = next\n",
    "        \n",
    "nt1 = Node(val=1)\n",
    "nt2 = Node(val=2)\n",
    "nt3 = Node(val=3)\n",
    "nt4 = Node(val=4)\n",
    "nt5 = Node(val=5)\n",
    "nt6 = Node(val=6)\n",
    "nt7 = Node(val=7)\n",
    "nt8 = Node(val=8)\n",
    "\n",
    "nt1.left, nt1.right = nt2, nt3\n",
    "nt2.left, nt2.right = nt4, nt5\n",
    "nt3.left, nt3.right = nt6, nt7\n"
   ]
  },
  {
   "cell_type": "code",
   "execution_count": 194,
   "metadata": {
    "ExecuteTime": {
     "end_time": "2021-07-01T01:03:41.033086Z",
     "start_time": "2021-07-01T01:03:41.027762Z"
    },
    "hidden": true
   },
   "outputs": [
    {
     "data": {
      "text/plain": [
       "<__main__.Node at 0x7f863b5adbb0>"
      ]
     },
     "execution_count": 194,
     "metadata": {},
     "output_type": "execute_result"
    }
   ],
   "source": [
    "a = Solution()\n",
    "res = a.connect(nt1)\n",
    "res"
   ]
  },
  {
   "cell_type": "markdown",
   "metadata": {
    "heading_collapsed": true
   },
   "source": [
    "### 117. 填充每个节点的下一个右侧节点指针 II\n",
    "给定一个二叉树，不一定是完美二叉树"
   ]
  },
  {
   "cell_type": "code",
   "execution_count": 195,
   "metadata": {
    "ExecuteTime": {
     "end_time": "2021-07-01T01:09:34.842742Z",
     "start_time": "2021-07-01T01:09:34.837008Z"
    },
    "hidden": true
   },
   "outputs": [],
   "source": [
    "class Solution:\n",
    "    def connect(self, root: 'Node') -> 'Node':\n",
    "        if not root: return root\n",
    "        res = []\n",
    "        dq = deque()\n",
    "        dq.append(root)\n",
    "        while dq:\n",
    "            size = len(dq)\n",
    "            lastNode = None\n",
    "            for i in range(size):\n",
    "                cur = dq.popleft()\n",
    "                res.append(cur.val)\n",
    "                if lastNode:\n",
    "                    lastNode.next = cur\n",
    "                lastNode = cur\n",
    "                if cur.left:\n",
    "                    dq.append(cur.left)\n",
    "                if cur.right:\n",
    "                    dq.append(cur.right)\n",
    "            res.append('#')\n",
    "        return res"
   ]
  },
  {
   "cell_type": "code",
   "execution_count": 196,
   "metadata": {
    "ExecuteTime": {
     "end_time": "2021-07-01T01:09:35.024898Z",
     "start_time": "2021-07-01T01:09:35.021194Z"
    },
    "hidden": true
   },
   "outputs": [
    {
     "data": {
      "text/plain": [
       "[1, '#', 2, 3, '#', 4, 5, 6, 7, '#', 8, '#']"
      ]
     },
     "execution_count": 196,
     "metadata": {},
     "output_type": "execute_result"
    }
   ],
   "source": [
    "nt4.right = nt8\n",
    "a = Solution()\n",
    "res = a.connect(nt1)\n",
    "res"
   ]
  },
  {
   "cell_type": "markdown",
   "metadata": {
    "heading_collapsed": true
   },
   "source": [
    "### 226. 翻转二叉树"
   ]
  },
  {
   "cell_type": "markdown",
   "metadata": {
    "hidden": true
   },
   "source": [
    "1. DFS: pre-order"
   ]
  },
  {
   "cell_type": "code",
   "execution_count": 220,
   "metadata": {
    "ExecuteTime": {
     "end_time": "2021-07-01T12:30:42.449019Z",
     "start_time": "2021-07-01T12:30:42.442874Z"
    },
    "hidden": true
   },
   "outputs": [],
   "source": [
    "class Solution:\n",
    "    def invertTree(self, root: TreeNode) -> TreeNode:\n",
    "        def dfs(cur):\n",
    "            if not cur: return\n",
    "            if cur.left or cur.right:\n",
    "#                 print(cur.left.val, cur.right.val)\n",
    "                cur.left, cur.right = cur.right, cur.left\n",
    "            if cur.left:\n",
    "                dfs(cur.left)\n",
    "            if cur.right:\n",
    "                dfs(cur.right)\n",
    "        dfs(root)\n",
    "        return root\n"
   ]
  },
  {
   "cell_type": "markdown",
   "metadata": {
    "hidden": true
   },
   "source": [
    "2. DFS: post-order"
   ]
  },
  {
   "cell_type": "code",
   "execution_count": 223,
   "metadata": {
    "ExecuteTime": {
     "end_time": "2021-07-01T14:11:21.244947Z",
     "start_time": "2021-07-01T14:11:21.241053Z"
    },
    "hidden": true
   },
   "outputs": [],
   "source": [
    "class Solution:\n",
    "    def invertTree(self, root: TreeNode) -> TreeNode:\n",
    "        def dfs(cur):\n",
    "            if not cur: return\n",
    "            if cur.left:\n",
    "                dfs(cur.left)\n",
    "            if cur.right:\n",
    "                dfs(cur.right)\n",
    "            \n",
    "            if cur.left or cur.right:\n",
    "#                 print(cur.left.val, cur.right.val)\n",
    "                cur.left, cur.right = cur.right, cur.left\n",
    "        dfs(root)\n",
    "        return root\n"
   ]
  },
  {
   "cell_type": "markdown",
   "metadata": {
    "hidden": true
   },
   "source": [
    "3. 迭代法：pre-order"
   ]
  },
  {
   "cell_type": "code",
   "execution_count": 397,
   "metadata": {
    "ExecuteTime": {
     "end_time": "2021-07-02T01:18:57.799185Z",
     "start_time": "2021-07-02T01:18:57.795368Z"
    },
    "hidden": true
   },
   "outputs": [],
   "source": [
    "class Solution:\n",
    "    def invertTree(self, root: TreeNode) -> TreeNode:\n",
    "        res, tmp = [], []\n",
    "        tmp.append(root)\n",
    "        cur = root\n",
    "        while tmp:\n",
    "            cur = tmp.pop()\n",
    "            cur.left, cur.right = cur.right, cur.left\n",
    "#             res.append(cur.val)\n",
    "            if cur.right:\n",
    "                tmp.append(cur.right)\n",
    "            if cur.left:\n",
    "                tmp.append(cur.left)\n",
    "        return root"
   ]
  },
  {
   "cell_type": "markdown",
   "metadata": {
    "hidden": true
   },
   "source": [
    "4. 迭代法：post-order"
   ]
  },
  {
   "cell_type": "code",
   "execution_count": 413,
   "metadata": {
    "ExecuteTime": {
     "end_time": "2021-07-02T01:30:27.680146Z",
     "start_time": "2021-07-02T01:30:27.674967Z"
    },
    "hidden": true
   },
   "outputs": [],
   "source": [
    "class Solution(object):\n",
    "    def invertTree(self, root: TreeNode) -> TreeNode:\n",
    "        postorder, tmp = [], []\n",
    "        tmp.append(root)\n",
    "        while tmp:\n",
    "            cur = tmp.pop()\n",
    "            cur.left, cur.right = cur.right, cur.left\n",
    "#             postorder.append(cur.val)\n",
    "            if cur.left: tmp.append(cur.left)\n",
    "            if cur.right: tmp.append(cur.right)\n",
    "        return root"
   ]
  },
  {
   "cell_type": "code",
   "execution_count": 414,
   "metadata": {
    "ExecuteTime": {
     "end_time": "2021-07-02T01:30:27.943767Z",
     "start_time": "2021-07-02T01:30:27.939406Z"
    },
    "hidden": true
   },
   "outputs": [],
   "source": [
    "class BinaryTree():\n",
    "    def __init__(self, val, left, right):\n",
    "        self.val = val\n",
    "        self.left = left\n",
    "        self.right = right\n",
    "\n",
    "bt1 = BinaryTree(1, None, None)\n",
    "bt2 = BinaryTree(2, None, None)\n",
    "bt3 = BinaryTree(3, None, None)\n",
    "bt4 = BinaryTree(4, None, None)\n",
    "bt5 = BinaryTree(5, None, None)\n",
    "bt6 = BinaryTree(6, None, None)\n",
    "bt7 = BinaryTree(7, None, None)\n",
    "\n",
    "bt1.left, bt1.right = bt2, bt3\n",
    "bt2.left, bt2.right = bt4, bt5\n",
    "bt3.left, bt3.right = bt6, bt7"
   ]
  },
  {
   "cell_type": "code",
   "execution_count": 415,
   "metadata": {
    "ExecuteTime": {
     "end_time": "2021-07-02T01:30:42.133510Z",
     "start_time": "2021-07-02T01:30:42.127143Z"
    },
    "hidden": true,
    "scrolled": true
   },
   "outputs": [
    {
     "data": {
      "text/plain": [
       "6"
      ]
     },
     "execution_count": 415,
     "metadata": {},
     "output_type": "execute_result"
    }
   ],
   "source": [
    "a = Solution()\n",
    "res = a.invertTree(bt1)\n",
    "res.left.right.val"
   ]
  },
  {
   "cell_type": "markdown",
   "metadata": {
    "heading_collapsed": true
   },
   "source": [
    "### 226. 对称二叉树"
   ]
  },
  {
   "cell_type": "markdown",
   "metadata": {
    "heading_collapsed": true,
    "hidden": true
   },
   "source": [
    "#### DFS：递归\n",
    "🍓递归实质上是一种后序遍历"
   ]
  },
  {
   "cell_type": "code",
   "execution_count": null,
   "metadata": {
    "code_folding": [],
    "hidden": true
   },
   "outputs": [],
   "source": [
    "class Solution:\n",
    "    def isSymmetric(self, root: TreeNode) -> bool:\n",
    "        def nodeMatch(n1, n2):\n",
    "            if not n1 and not n2: return True\n",
    "            if not n1 or not n2 or n1.val!=n2.val: return False\n",
    "            return nodeMatch(n1.left, n2.right) and nodeMatch(n1.right, n2.left)\n",
    "        if not root: return True\n",
    "        return nodeMatch(root.left, root.right)"
   ]
  },
  {
   "cell_type": "markdown",
   "metadata": {
    "heading_collapsed": true,
    "hidden": true
   },
   "source": [
    "#### DFS: 迭代\n",
    "暂存待处理节点可以是队列、栈或是列表"
   ]
  },
  {
   "cell_type": "code",
   "execution_count": 424,
   "metadata": {
    "ExecuteTime": {
     "end_time": "2021-07-05T00:54:47.636705Z",
     "start_time": "2021-07-05T00:54:47.631038Z"
    },
    "hidden": true
   },
   "outputs": [],
   "source": [
    "from collections import deque\n",
    "class Solution:\n",
    "    def isSymmetric(self, root: TreeNode) -> bool:\n",
    "        if not root: return True\n",
    "        tmp = deque()\n",
    "        tmp.append(root.left)\n",
    "        tmp.append(root.right)\n",
    "        while tmp:\n",
    "            n1, n2 = tmp.popleft(), tmp.popleft()\n",
    "            if not n1 and not n2: continue\n",
    "            if not n1 or not n2 or n1.val!=n2.val: return False\n",
    "            tmp.append(n1.left)\n",
    "            tmp.append(n2.right)\n",
    "            tmp.append(n1.right)\n",
    "            tmp.append(n2.left)\n",
    "        \n",
    "        return True"
   ]
  },
  {
   "cell_type": "code",
   "execution_count": 426,
   "metadata": {
    "ExecuteTime": {
     "end_time": "2021-07-05T00:55:33.717588Z",
     "start_time": "2021-07-05T00:55:33.710596Z"
    },
    "hidden": true
   },
   "outputs": [],
   "source": [
    "class BinaryTree():\n",
    "    def __init__(self, val, left, right):\n",
    "        self.val = val\n",
    "        self.left = left\n",
    "        self.right = right\n",
    "\n",
    "bt1 = BinaryTree(1, None, None)\n",
    "bt2 = BinaryTree(2, None, None)\n",
    "bt3 = BinaryTree(2, None, None)\n",
    "bt4 = BinaryTree(3, None, None)\n",
    "bt5 = BinaryTree(5, None, None)\n",
    "bt6 = BinaryTree(5, None, None)\n",
    "bt7 = BinaryTree(3, None, None)\n",
    "\n",
    "bt1.left, bt1.right = bt2, bt3\n",
    "bt2.left, bt2.right = bt4, bt5\n",
    "bt3.left, bt3.right = bt6, bt7"
   ]
  },
  {
   "cell_type": "code",
   "execution_count": 427,
   "metadata": {
    "ExecuteTime": {
     "end_time": "2021-07-05T00:55:34.334593Z",
     "start_time": "2021-07-05T00:55:34.331307Z"
    },
    "hidden": true
   },
   "outputs": [
    {
     "data": {
      "text/plain": [
       "True"
      ]
     },
     "execution_count": 427,
     "metadata": {},
     "output_type": "execute_result"
    }
   ],
   "source": [
    "a = Solution()\n",
    "res = a.isSymmetric(bt1)\n",
    "res"
   ]
  },
  {
   "cell_type": "markdown",
   "metadata": {
    "heading_collapsed": true
   },
   "source": [
    "### 104. 二叉树的最大深度"
   ]
  },
  {
   "cell_type": "markdown",
   "metadata": {
    "heading_collapsed": true,
    "hidden": true
   },
   "source": [
    "#### DFS: 递归"
   ]
  },
  {
   "cell_type": "code",
   "execution_count": 430,
   "metadata": {
    "ExecuteTime": {
     "end_time": "2021-07-05T01:09:11.975878Z",
     "start_time": "2021-07-05T01:09:11.971251Z"
    },
    "hidden": true
   },
   "outputs": [],
   "source": [
    "class Solution:\n",
    "    def maxDepth(self, root: TreeNode) -> int:\n",
    "        def dfs(node, depth):\n",
    "            if not node: return depth\n",
    "            depth += 1\n",
    "            return max(dfs(node.left, depth), dfs(node.right, depth))\n",
    "        return dfs(root, 0)"
   ]
  },
  {
   "cell_type": "markdown",
   "metadata": {
    "hidden": true
   },
   "source": [
    "简化版本"
   ]
  },
  {
   "cell_type": "code",
   "execution_count": 473,
   "metadata": {
    "ExecuteTime": {
     "end_time": "2021-07-05T11:52:34.726858Z",
     "start_time": "2021-07-05T11:52:34.722718Z"
    },
    "hidden": true
   },
   "outputs": [],
   "source": [
    "class Solution:\n",
    "    def maxDepth(self, root: TreeNode) -> int:\n",
    "        def dfs(node, depth):\n",
    "            if not node: return depth\n",
    "            return max(dfs(node.left, depth), dfs(node.right, depth)) + 1\n",
    "        return dfs(root, 0)"
   ]
  },
  {
   "cell_type": "markdown",
   "metadata": {
    "heading_collapsed": true,
    "hidden": true
   },
   "source": [
    "#### BFS: 迭代"
   ]
  },
  {
   "cell_type": "code",
   "execution_count": 445,
   "metadata": {
    "ExecuteTime": {
     "end_time": "2021-07-05T11:03:42.081197Z",
     "start_time": "2021-07-05T11:03:42.076194Z"
    },
    "hidden": true
   },
   "outputs": [],
   "source": [
    "class Solution:\n",
    "    def maxDepth(self, root: TreeNode) -> int:\n",
    "        if not root: return 0\n",
    "        depth = 0\n",
    "        tmp = deque()\n",
    "        tmp.append(root)\n",
    "        while tmp:\n",
    "            for i in range(len(tmp)):\n",
    "                cur = tmp.popleft()\n",
    "                if cur.left: tmp.append(cur.left)\n",
    "                if cur.right: tmp.append(cur.right)\n",
    "            depth += 1\n",
    "        \n",
    "        return depth"
   ]
  },
  {
   "cell_type": "code",
   "execution_count": 474,
   "metadata": {
    "ExecuteTime": {
     "end_time": "2021-07-05T11:52:43.107130Z",
     "start_time": "2021-07-05T11:52:43.101766Z"
    },
    "hidden": true
   },
   "outputs": [
    {
     "data": {
      "text/plain": [
       "3"
      ]
     },
     "execution_count": 474,
     "metadata": {},
     "output_type": "execute_result"
    }
   ],
   "source": [
    "a = Solution()\n",
    "res = a.maxDepth(bt1)\n",
    "res"
   ]
  },
  {
   "cell_type": "markdown",
   "metadata": {
    "heading_collapsed": true
   },
   "source": [
    "### 559.N叉树的最大深度"
   ]
  },
  {
   "cell_type": "markdown",
   "metadata": {
    "hidden": true
   },
   "source": [
    "#### DFS: 递归"
   ]
  },
  {
   "cell_type": "code",
   "execution_count": 471,
   "metadata": {
    "ExecuteTime": {
     "end_time": "2021-07-05T11:46:52.755398Z",
     "start_time": "2021-07-05T11:46:52.750558Z"
    },
    "hidden": true
   },
   "outputs": [],
   "source": [
    "class Solution:\n",
    "    def maxDepth(self, root):\n",
    "        def dfs(node, maxDepth):\n",
    "            if not node.children: return maxDepth\n",
    "            maxDepth += 1\n",
    "            tmpDepth = maxDepth\n",
    "            for i in range(len(node.children)):\n",
    "                tmpDepth = max(tmpDepth, dfs(node.children[i], maxDepth))\n",
    "            return tmpDepth\n",
    "        if not root: return 0\n",
    "        return dfs(root, 1)"
   ]
  },
  {
   "cell_type": "markdown",
   "metadata": {
    "hidden": true
   },
   "source": [
    "#### BFS: 迭代"
   ]
  },
  {
   "cell_type": "code",
   "execution_count": 478,
   "metadata": {
    "ExecuteTime": {
     "end_time": "2021-07-05T12:01:35.158187Z",
     "start_time": "2021-07-05T12:01:35.152840Z"
    },
    "hidden": true
   },
   "outputs": [],
   "source": [
    "class Solution:\n",
    "    def maxDepth(self, root):\n",
    "        if not root: return 0\n",
    "        depth = 0\n",
    "        tmp = deque()\n",
    "        tmp.append(root)\n",
    "        while tmp:\n",
    "#             cur = tmp.popleft()\n",
    "            for i in range(len(tmp)):\n",
    "                cur = tmp.popleft()\n",
    "                if cur.children:\n",
    "                    for i in range(len(cur.children)):\n",
    "                        tmp.append(cur.children[i])\n",
    "            depth += 1\n",
    "        return depth"
   ]
  },
  {
   "cell_type": "code",
   "execution_count": 479,
   "metadata": {
    "ExecuteTime": {
     "end_time": "2021-07-05T12:01:35.810255Z",
     "start_time": "2021-07-05T12:01:35.806882Z"
    },
    "hidden": true
   },
   "outputs": [
    {
     "data": {
      "text/plain": [
       "4"
      ]
     },
     "execution_count": 479,
     "metadata": {},
     "output_type": "execute_result"
    }
   ],
   "source": [
    "a = Solution()\n",
    "res = a.maxDepth(nt1)\n",
    "res"
   ]
  },
  {
   "cell_type": "markdown",
   "metadata": {
    "heading_collapsed": true
   },
   "source": [
    "### 111. 二叉树的最小深度\n",
    "给定一个二叉树，找出其最小深度。\n",
    "\n",
    "🍓最小深度是从根节点到最近叶子节点的最短路径上的节点数量。说明：叶子节点是指没有子节点的节点。"
   ]
  },
  {
   "cell_type": "markdown",
   "metadata": {
    "hidden": true
   },
   "source": [
    "#### DFS: 递归\n",
    "🍓注意**单层循环逻辑**和maxDepth不同"
   ]
  },
  {
   "cell_type": "code",
   "execution_count": 502,
   "metadata": {
    "ExecuteTime": {
     "end_time": "2021-07-06T00:56:17.335941Z",
     "start_time": "2021-07-06T00:56:17.330543Z"
    },
    "hidden": true
   },
   "outputs": [],
   "source": [
    "class Solution:\n",
    "    def minDepth(self, root: TreeNode) -> int:\n",
    "        def dfs(node, depth):\n",
    "            if not node.left and not node.right: return depth\n",
    "            if node.left and node.right: \n",
    "                return min(dfs(node.left, depth), dfs(node.right, depth)) + 1\n",
    "            if node.left: return dfs(node.left, depth) + 1\n",
    "            if node.right: return dfs(node.right, depth) + 1\n",
    "        \n",
    "        if not root: return 0\n",
    "        return dfs(root, 1)\n",
    "    "
   ]
  },
  {
   "cell_type": "markdown",
   "metadata": {
    "hidden": true
   },
   "source": [
    "dfs单一输入参数\n",
    "\n",
    "分步写法更符合递归三部曲的内容"
   ]
  },
  {
   "cell_type": "code",
   "execution_count": 508,
   "metadata": {
    "ExecuteTime": {
     "end_time": "2021-07-06T01:38:10.682120Z",
     "start_time": "2021-07-06T01:38:10.677214Z"
    },
    "hidden": true
   },
   "outputs": [],
   "source": [
    "class Solution:\n",
    "    def minDepth(self, root: TreeNode) -> int:\n",
    "        def dfs(node):\n",
    "            if not node: return 0        # 出口\n",
    "            leftDepth  = dfs(node.left)  \n",
    "            rightDepth = dfs(node.right)\n",
    "            if not node.left and node.right: return rightDepth + 1  # 单层递归逻辑\n",
    "            if node.left and not node.right: return leftDepth  + 1\n",
    "            result = min(leftDepth, rightDepth) + 1\n",
    "            return result\n",
    "        if not root: return 0\n",
    "        return dfs(root)"
   ]
  },
  {
   "cell_type": "code",
   "execution_count": 509,
   "metadata": {
    "ExecuteTime": {
     "end_time": "2021-07-06T01:38:13.325983Z",
     "start_time": "2021-07-06T01:38:13.319406Z"
    },
    "code_folding": [],
    "hidden": true
   },
   "outputs": [],
   "source": [
    "class BinaryTree():\n",
    "    def __init__(self, val, left, right):\n",
    "        self.val = val\n",
    "        self.left = left\n",
    "        self.right = right\n",
    "\n",
    "bt1 = BinaryTree(1, None, None)\n",
    "bt2 = BinaryTree(2, None, None)\n",
    "bt3 = BinaryTree(3, None, None)\n",
    "bt4 = BinaryTree(4, None, None)\n",
    "bt5 = BinaryTree(5, None, None)\n",
    "bt6 = BinaryTree(6, None, None)\n",
    "bt7 = BinaryTree(7, None, None)\n",
    "bt8 = BinaryTree(8, None, None)\n",
    "\n",
    "bt1.left = bt2\n",
    "bt2.left = bt3\n",
    "bt3.left  = bt4\n",
    "bt4.right = bt5"
   ]
  },
  {
   "cell_type": "markdown",
   "metadata": {
    "hidden": true
   },
   "source": [
    "#### BFS: 迭代\n",
    "🍓当处理叶子节点（当前节点没有左右孩子）是直接返回depth"
   ]
  },
  {
   "cell_type": "code",
   "execution_count": 512,
   "metadata": {
    "ExecuteTime": {
     "end_time": "2021-07-06T11:27:55.449211Z",
     "start_time": "2021-07-06T11:27:55.444002Z"
    },
    "hidden": true
   },
   "outputs": [],
   "source": [
    "class Solution:\n",
    "    def minDepth(self, root: TreeNode) -> int:\n",
    "        res = []\n",
    "        tmp = deque()\n",
    "        tmp.append(root)\n",
    "        depth = 0\n",
    "        while tmp:\n",
    "            depth += 1\n",
    "            for _ in range(len(tmp)):\n",
    "                cur = tmp.popleft()\n",
    "                if cur.left:  tmp.append(cur.left)\n",
    "                if cur.right: tmp.append(cur.right)\n",
    "                if not cur.left and not cur.right: return depth\n",
    "        return depth"
   ]
  },
  {
   "cell_type": "code",
   "execution_count": 513,
   "metadata": {
    "ExecuteTime": {
     "end_time": "2021-07-06T11:28:00.852613Z",
     "start_time": "2021-07-06T11:28:00.847394Z"
    },
    "hidden": true
   },
   "outputs": [
    {
     "data": {
      "text/plain": [
       "5"
      ]
     },
     "execution_count": 513,
     "metadata": {},
     "output_type": "execute_result"
    }
   ],
   "source": [
    "a = Solution()\n",
    "res = a.minDepth(bt1)\n",
    "res"
   ]
  },
  {
   "cell_type": "markdown",
   "metadata": {
    "heading_collapsed": true
   },
   "source": [
    "### 222. 完全二叉树的节点个数\n"
   ]
  },
  {
   "cell_type": "markdown",
   "metadata": {
    "hidden": true
   },
   "source": [
    "1. 递归统计所有节点，适用任意普通二叉树。时间复杂度:$O(N)$，空间复杂度:$O(logN)$\n",
    "2. 递归寻找所有**满二叉子树**，完美二叉树由满二叉树和独立节点组成。🍓时间复杂度:$O((logN)^2)$，空间复杂度:$O(logN)$"
   ]
  },
  {
   "cell_type": "markdown",
   "metadata": {
    "hidden": true
   },
   "source": [
    "#### DFS: 递归\n",
    "后序遍历，单层循环逻辑同#111"
   ]
  },
  {
   "cell_type": "code",
   "execution_count": 518,
   "metadata": {
    "ExecuteTime": {
     "end_time": "2021-07-06T12:26:27.904044Z",
     "start_time": "2021-07-06T12:26:27.900913Z"
    },
    "hidden": true
   },
   "outputs": [],
   "source": [
    "class Solution:\n",
    "    def countNodes(self, root: TreeNode) -> int:\n",
    "        def dfs(node):\n",
    "            if not node: return 0\n",
    "            left  = dfs(node.left)\n",
    "            right = dfs(node.right)\n",
    "            return left + right + 1\n",
    "        if not root: return 0\n",
    "        return dfs(root)"
   ]
  },
  {
   "cell_type": "markdown",
   "metadata": {
    "hidden": true
   },
   "source": [
    "#### BFS: 迭代"
   ]
  },
  {
   "cell_type": "code",
   "execution_count": 524,
   "metadata": {
    "ExecuteTime": {
     "end_time": "2021-07-07T00:54:29.684369Z",
     "start_time": "2021-07-07T00:54:29.678495Z"
    },
    "hidden": true
   },
   "outputs": [],
   "source": [
    "class Solution:\n",
    "    def countNodes(self, root: TreeNode) -> int:\n",
    "        if not root: return 0\n",
    "        count = 0\n",
    "        tmp = deque()\n",
    "        tmp.append(root)\n",
    "        while tmp:\n",
    "            for _ in range(len(tmp)): \n",
    "                count += 1\n",
    "                cur = tmp.popleft()\n",
    "                if cur.left:  tmp.append(cur.left)\n",
    "                if cur.right: tmp.append(cur.right)\n",
    "        return count"
   ]
  },
  {
   "cell_type": "code",
   "execution_count": 538,
   "metadata": {
    "ExecuteTime": {
     "end_time": "2021-07-07T11:39:02.548144Z",
     "start_time": "2021-07-07T11:39:02.542178Z"
    },
    "hidden": true
   },
   "outputs": [],
   "source": [
    "class Solution:\n",
    "    def countNodes(self, root: TreeNode) -> int:\n",
    "        if not root: return 0\n",
    "        leftDepth, rightDepth = 0, 0\n",
    "        \n",
    "        def fullBT(node, leftDepth, rightDepth):\n",
    "            if not node: return 0\n",
    "            left, right = root.left, root.right\n",
    "\n",
    "            while left:\n",
    "                leftDepth += 1\n",
    "                left = node.left\n",
    "            while right:\n",
    "                rightDepth += 1\n",
    "                right = node.right\n",
    "            if leftDepth == rightDepth: return 2**rightDepth-1\n",
    "            return fullBT(node.left, leftDepth, rightDepth)+fullBT(node.right, leftDepth, rightDepth)+1\n",
    "        \n",
    "        return fullBT(root, 0, 0)"
   ]
  },
  {
   "cell_type": "code",
   "execution_count": 542,
   "metadata": {
    "ExecuteTime": {
     "end_time": "2021-07-07T11:40:51.817678Z",
     "start_time": "2021-07-07T11:40:51.812456Z"
    },
    "hidden": true
   },
   "outputs": [],
   "source": [
    "class Solution:\n",
    "    def countNodes(self, root: TreeNode) -> int:\n",
    "        if not root: return 0\n",
    "        leftDepth, rightDepth = 0, 0\n",
    "        left, right = root.left, root.right\n",
    "\n",
    "        while left:\n",
    "            leftDepth += 1\n",
    "            left = root.left\n",
    "        while right:\n",
    "            rightDepth += 1\n",
    "            right = root.right\n",
    "        if leftDepth == rightDepth: return 2**rightDepth-1\n",
    "        return countNodes(root.left)+fullBT(root.right)+1\n",
    "        \n"
   ]
  },
  {
   "cell_type": "code",
   "execution_count": 543,
   "metadata": {
    "ExecuteTime": {
     "end_time": "2021-07-07T12:16:27.383456Z",
     "start_time": "2021-07-07T11:40:52.712903Z"
    },
    "hidden": true
   },
   "outputs": [
    {
     "ename": "KeyboardInterrupt",
     "evalue": "",
     "output_type": "error",
     "traceback": [
      "\u001b[0;31m---------------------------------------------------------------------------\u001b[0m",
      "\u001b[0;31mKeyboardInterrupt\u001b[0m                         Traceback (most recent call last)",
      "\u001b[0;32m<ipython-input-543-3d9b9a2ca863>\u001b[0m in \u001b[0;36m<module>\u001b[0;34m\u001b[0m\n\u001b[1;32m      1\u001b[0m \u001b[0ma\u001b[0m \u001b[0;34m=\u001b[0m \u001b[0mSolution\u001b[0m\u001b[0;34m(\u001b[0m\u001b[0;34m)\u001b[0m\u001b[0;34m\u001b[0m\u001b[0;34m\u001b[0m\u001b[0m\n\u001b[0;32m----> 2\u001b[0;31m \u001b[0mres\u001b[0m \u001b[0;34m=\u001b[0m \u001b[0ma\u001b[0m\u001b[0;34m.\u001b[0m\u001b[0mcountNodes\u001b[0m\u001b[0;34m(\u001b[0m\u001b[0mbt1\u001b[0m\u001b[0;34m)\u001b[0m\u001b[0;34m\u001b[0m\u001b[0;34m\u001b[0m\u001b[0m\n\u001b[0m\u001b[1;32m      3\u001b[0m \u001b[0mres\u001b[0m\u001b[0;34m\u001b[0m\u001b[0;34m\u001b[0m\u001b[0m\n",
      "\u001b[0;32m<ipython-input-542-72bfefb74576>\u001b[0m in \u001b[0;36mcountNodes\u001b[0;34m(self, root)\u001b[0m\n\u001b[1;32m      6\u001b[0m \u001b[0;34m\u001b[0m\u001b[0m\n\u001b[1;32m      7\u001b[0m         \u001b[0;32mwhile\u001b[0m \u001b[0mleft\u001b[0m\u001b[0;34m:\u001b[0m\u001b[0;34m\u001b[0m\u001b[0;34m\u001b[0m\u001b[0m\n\u001b[0;32m----> 8\u001b[0;31m             \u001b[0mleftDepth\u001b[0m \u001b[0;34m+=\u001b[0m \u001b[0;36m1\u001b[0m\u001b[0;34m\u001b[0m\u001b[0;34m\u001b[0m\u001b[0m\n\u001b[0m\u001b[1;32m      9\u001b[0m             \u001b[0mleft\u001b[0m \u001b[0;34m=\u001b[0m \u001b[0mroot\u001b[0m\u001b[0;34m.\u001b[0m\u001b[0mleft\u001b[0m\u001b[0;34m\u001b[0m\u001b[0;34m\u001b[0m\u001b[0m\n\u001b[1;32m     10\u001b[0m         \u001b[0;32mwhile\u001b[0m \u001b[0mright\u001b[0m\u001b[0;34m:\u001b[0m\u001b[0;34m\u001b[0m\u001b[0;34m\u001b[0m\u001b[0m\n",
      "\u001b[0;31mKeyboardInterrupt\u001b[0m: "
     ]
    }
   ],
   "source": [
    "a = Solution()\n",
    "res = a.countNodes(bt1)\n",
    "res"
   ]
  },
  {
   "cell_type": "markdown",
   "metadata": {},
   "source": [
    "### 110. 平衡二叉树\n",
    "🍓了解求二叉树深度和二叉树高度的差异。\n",
    "\n",
    "🍓求深度适合用前序遍历，而求高度适合用后序遍历。因为求深度可以从上到下去查 所以需要前序遍历(中左右)，而高度只能从下到上去查，所以只能后序遍历(左右 中)"
   ]
  },
  {
   "cell_type": "markdown",
   "metadata": {},
   "source": [
    "* 二叉树节点的深度:指从根节点到该节点的最⻓简单路径边的条数。\n",
    "* 二叉树节点的高度:指从该节点到叶子节点的最⻓简单路径边的条数。"
   ]
  },
  {
   "cell_type": "markdown",
   "metadata": {},
   "source": [
    "计算高度"
   ]
  },
  {
   "cell_type": "code",
   "execution_count": null,
   "metadata": {},
   "outputs": [],
   "source": [
    "class Solution:\n",
    "    def isBalanced(self, root: BinaryTree) -> bool:\n",
    "        def dfs(node):\n",
    "            if not node: return 0\n",
    "            leftDepth = dfs(node.left)            # 左\n",
    "            if leftDepth == -1:  return -1\n",
    "            rightDepth = dfs(node.right)          # 右\n",
    "            if rightDepth == -1: return -1\n",
    "            return max(leftDepth, rightDepth) + 1 # 中\n",
    "        if not root: return 0\n",
    "        return dfs(root)\n",
    "        "
   ]
  },
  {
   "cell_type": "markdown",
   "metadata": {},
   "source": [
    "判断是否为平衡二叉树"
   ]
  },
  {
   "cell_type": "code",
   "execution_count": 23,
   "metadata": {
    "ExecuteTime": {
     "end_time": "2021-07-07T12:45:58.701889Z",
     "start_time": "2021-07-07T12:45:58.696687Z"
    }
   },
   "outputs": [],
   "source": [
    "class Solution:\n",
    "    def isBalanced(self, root: BinaryTree) -> bool:\n",
    "        def dfs(node):\n",
    "            if not node: return 0\n",
    "            leftDepth = dfs(node.left)\n",
    "            if leftDepth == -1:  return -1\n",
    "            rightDepth = dfs(node.right)\n",
    "            if rightDepth == -1: return -1\n",
    "            print(leftDepth, rightDepth)\n",
    "            return max(leftDepth, rightDepth)+1 if abs(leftDepth-rightDepth)<=1 else -1\n",
    "        if not root: return True\n",
    "        return True if dfs(root)>0 else False\n",
    "        "
   ]
  },
  {
   "cell_type": "code",
   "execution_count": 37,
   "metadata": {
    "ExecuteTime": {
     "end_time": "2021-07-08T11:17:46.935936Z",
     "start_time": "2021-07-08T11:17:46.928926Z"
    }
   },
   "outputs": [],
   "source": [
    "class BinaryTree():\n",
    "    def __init__(self, val, left, right):\n",
    "        self.val = val\n",
    "        self.left = left\n",
    "        self.right = right\n",
    "\n",
    "bt1 = BinaryTree(1, None, None)\n",
    "bt2 = BinaryTree(2, None, None)\n",
    "bt3 = BinaryTree(3, None, None)\n",
    "bt4 = BinaryTree(4, None, None)\n",
    "bt5 = BinaryTree(5, None, None)\n",
    "bt6 = BinaryTree(6, None, None)\n",
    "bt7 = BinaryTree(7, None, None)\n",
    "bt8 = BinaryTree(8, None, None)\n",
    "\n",
    "bt1.left, bt1.right = bt2, bt3\n",
    "bt2.left, bt2.right = bt4, bt5\n",
    "bt3.left, bt3.right = bt6, bt7\n",
    "\n",
    "# bt6.left = bt8\n"
   ]
  },
  {
   "cell_type": "code",
   "execution_count": 25,
   "metadata": {
    "ExecuteTime": {
     "end_time": "2021-07-07T12:45:59.088881Z",
     "start_time": "2021-07-07T12:45:59.084732Z"
    }
   },
   "outputs": [
    {
     "name": "stdout",
     "output_type": "stream",
     "text": [
      "0 0\n",
      "1 0\n",
      "2 0\n"
     ]
    },
    {
     "data": {
      "text/plain": [
       "False"
      ]
     },
     "execution_count": 25,
     "metadata": {},
     "output_type": "execute_result"
    }
   ],
   "source": [
    "a = Solution()\n",
    "res = a.isBalanced(bt1)\n",
    "res"
   ]
  },
  {
   "cell_type": "markdown",
   "metadata": {},
   "source": [
    "### 257. 二叉树的所有路径\n",
    "给定一个二叉树，返回所有从根节点到叶子节点的路径。"
   ]
  },
  {
   "cell_type": "code",
   "execution_count": 66,
   "metadata": {
    "ExecuteTime": {
     "end_time": "2021-07-08T12:00:26.247847Z",
     "start_time": "2021-07-08T12:00:26.242132Z"
    }
   },
   "outputs": [],
   "source": [
    "from typing import List\n",
    "class Solution:\n",
    "    def binaryTreePaths(self, root: BinaryTree) -> List[str]:\n",
    "        res, tmp = [], []\n",
    "        def dfs(node):\n",
    "            if not node:\n",
    "                path = \"->\".join(str(i) for i in tmp)\n",
    "                if path not in res:\n",
    "                    res.append(path)\n",
    "                return \n",
    "            tmp.append(node.val)\n",
    "            dfs(node.left)\n",
    "            dfs(node.right)\n",
    "            tmp.pop()\n",
    "        dfs(root)\n",
    "        return res    "
   ]
  },
  {
   "cell_type": "code",
   "execution_count": 82,
   "metadata": {
    "ExecuteTime": {
     "end_time": "2021-07-08T12:24:11.182712Z",
     "start_time": "2021-07-08T12:24:11.176213Z"
    }
   },
   "outputs": [],
   "source": [
    "from typing import List\n",
    "class Solution:\n",
    "    def binaryTreePaths(self, root: BinaryTree) -> List[str]:\n",
    "        res, tmp = [], []\n",
    "        def dfs(node):\n",
    "            if not node.left and not node.right:\n",
    "                tmp.append(str(node.val))\n",
    "                path = \"->\".join(tmp)\n",
    "                return res.append(path)   \n",
    "            \n",
    "            tmp.append(str(node.val))\n",
    "            if node.left:\n",
    "                dfs(node.left)\n",
    "                tmp.pop()\n",
    "            if node.right:\n",
    "                dfs(node.right)\n",
    "                tmp.pop()\n",
    "        dfs(root)\n",
    "        return res    "
   ]
  },
  {
   "cell_type": "code",
   "execution_count": 83,
   "metadata": {
    "ExecuteTime": {
     "end_time": "2021-07-08T12:24:11.389581Z",
     "start_time": "2021-07-08T12:24:11.385792Z"
    }
   },
   "outputs": [],
   "source": [
    "class BinaryTree():\n",
    "    def __init__(self, val, left, right):\n",
    "        self.val = val\n",
    "        self.left = left\n",
    "        self.right = right\n",
    "\n",
    "bt1 = BinaryTree(1, None, None)\n",
    "bt2 = BinaryTree(2, None, None)\n",
    "bt3 = BinaryTree(3, None, None)\n",
    "bt4 = BinaryTree(4, None, None)\n",
    "bt5 = BinaryTree(5, None, None)\n",
    "bt6 = BinaryTree(6, None, None)\n",
    "bt7 = BinaryTree(7, None, None)\n",
    "bt8 = BinaryTree(8, None, None)\n",
    "\n",
    "bt1.left, bt1.right = bt2, bt3\n",
    "bt2.right = bt5"
   ]
  },
  {
   "cell_type": "code",
   "execution_count": 84,
   "metadata": {
    "ExecuteTime": {
     "end_time": "2021-07-08T12:24:11.964098Z",
     "start_time": "2021-07-08T12:24:11.958725Z"
    }
   },
   "outputs": [
    {
     "data": {
      "text/plain": [
       "['1->2->5', '1->3']"
      ]
     },
     "execution_count": 84,
     "metadata": {},
     "output_type": "execute_result"
    }
   ],
   "source": [
    "a = Solution()\n",
    "res = a.binaryTreePaths(bt1)\n",
    "res"
   ]
  },
  {
   "cell_type": "markdown",
   "metadata": {},
   "source": [
    "🍓join( )的用法：用于将序列中的元素以指定的字符连接生成一个新的字符串。"
   ]
  },
  {
   "cell_type": "code",
   "execution_count": 86,
   "metadata": {
    "ExecuteTime": {
     "end_time": "2021-07-08T12:26:12.363091Z",
     "start_time": "2021-07-08T12:26:12.357615Z"
    },
    "scrolled": true
   },
   "outputs": [
    {
     "data": {
      "text/plain": [
       "'r->a->n->g->e->(->0->,-> ->1->0->)'"
      ]
     },
     "execution_count": 86,
     "metadata": {},
     "output_type": "execute_result"
    }
   ],
   "source": [
    "tmp = range(10)\n",
    "# '->'.join(str(i) for i in tmp)\n",
    "'->'.join(iter(str(tmp)))"
   ]
  },
  {
   "cell_type": "markdown",
   "metadata": {},
   "source": [
    "🍓iter的用法"
   ]
  },
  {
   "cell_type": "markdown",
   "metadata": {},
   "source": [
    "🍓函数嵌套时的变量作用域：\n",
    "\n",
    "str&int对象：当内部函数中存在**变量定义或修改**时，由于存在歧义，该变量的作用域为local；需要在函数内部进行global声明\n",
    "\n",
    "list&dict对象：由于变量修改语句的对象是明确的，不存在歧义，该变量不需要global声明\n",
    "\n",
    "一个函数嵌套中使用全局变量的方法👇："
   ]
  },
  {
   "cell_type": "code",
   "execution_count": null,
   "metadata": {},
   "outputs": [],
   "source": [
    "class Solution(object):\n",
    "    def sumOfLeftLeaves(root):\n",
    "        s, t  = 0, 1\n",
    "        def dfs():\n",
    "            global s           # 内部函数声明global\n",
    "            global t\n",
    "\n",
    "            if t >= 5: return  # 出口不需要返回值\n",
    "            t += 1\n",
    "            s += t\n",
    "            dfs()\n",
    "            return s, t        # 结束递归时才传递参数\n",
    "        res = dfs()\n",
    "        return res"
   ]
  },
  {
   "cell_type": "markdown",
   "metadata": {},
   "source": [
    "### 404. 左叶子之和"
   ]
  },
  {
   "cell_type": "markdown",
   "metadata": {},
   "source": [
    "1. DFS: 递归"
   ]
  },
  {
   "cell_type": "code",
   "execution_count": 13,
   "metadata": {
    "ExecuteTime": {
     "end_time": "2021-07-14T03:14:13.743051Z",
     "start_time": "2021-07-14T03:14:13.736838Z"
    }
   },
   "outputs": [],
   "source": [
    "class Solution:\n",
    "    def sumOfLeftLeaves(self, root: BinaryTree) -> int:\n",
    "        self.sumOfLeft = 0\n",
    "        def leftLeaf(bt):\n",
    "            return True if bt.left and not bt.left.left and not bt.left.right else False\n",
    "        def dfs(bt):\n",
    "            if not root: return\n",
    "#             global sumOfLeft\n",
    "            if leftLeaf(bt): \n",
    "                self.sumOfLeft += bt.left.val\n",
    "            if bt.left: dfs(bt.left)\n",
    "            if bt.right: dfs(bt.right)\n",
    "            return self.sumOfLeft\n",
    "        res = dfs(root)\n",
    "        return res"
   ]
  },
  {
   "cell_type": "code",
   "execution_count": 85,
   "metadata": {
    "ExecuteTime": {
     "end_time": "2021-07-15T00:28:34.988586Z",
     "start_time": "2021-07-15T00:28:34.982110Z"
    }
   },
   "outputs": [],
   "source": [
    "class BinaryTree():\n",
    "    def __init__(self, val, left, right):\n",
    "        self.val = val\n",
    "        self.left = left\n",
    "        self.right = right\n",
    "\n",
    "bt1 = BinaryTree(1, None, None)\n",
    "bt2 = BinaryTree(2, None, None)\n",
    "bt3 = BinaryTree(3, None, None)\n",
    "bt4 = BinaryTree(4, None, None)\n",
    "bt5 = BinaryTree(5, None, None)\n",
    "bt6 = BinaryTree(6, None, None)\n",
    "bt7 = BinaryTree(7, None, None)\n",
    "bt8 = BinaryTree(8, None, None)\n",
    "\n",
    "bt1.left, bt1.right = bt2, bt3\n",
    "bt2.left = bt4\n",
    "bt3.left = bt6\n",
    "\n",
    "# bt6.left = bt8\n"
   ]
  },
  {
   "cell_type": "code",
   "execution_count": 15,
   "metadata": {
    "ExecuteTime": {
     "end_time": "2021-07-14T03:14:14.541533Z",
     "start_time": "2021-07-14T03:14:14.528260Z"
    }
   },
   "outputs": [
    {
     "data": {
      "text/plain": [
       "10"
      ]
     },
     "execution_count": 15,
     "metadata": {},
     "output_type": "execute_result"
    }
   ],
   "source": [
    "a = Solution()\n",
    "res = a.sumOfLeftLeaves(bt1)\n",
    "res"
   ]
  },
  {
   "cell_type": "markdown",
   "metadata": {},
   "source": [
    "2. DFS: 迭代"
   ]
  },
  {
   "cell_type": "code",
   "execution_count": 30,
   "metadata": {
    "ExecuteTime": {
     "end_time": "2021-07-14T12:25:01.157608Z",
     "start_time": "2021-07-14T12:25:01.150690Z"
    }
   },
   "outputs": [],
   "source": [
    "from collections import deque\n",
    "class Solution:\n",
    "    def sumOfLeftLeaves(self, root: BinaryTree) -> int:\n",
    "        def leftLeaf(bt):\n",
    "            return True if bt.left and not bt.left.left and not bt.left.right else False\n",
    "        if not root: return 0\n",
    "        tmp = deque()\n",
    "        tmp.append(root)\n",
    "        sumOfLeft = 0\n",
    "        while tmp:\n",
    "            for _ in list(tmp):\n",
    "                cur = tmp.popleft()\n",
    "                if leftLeaf(cur): \n",
    "                    print(cur.left.val)\n",
    "                    sumOfLeft += cur.left.val\n",
    "                if cur.left:  tmp.append(cur.left)\n",
    "                if cur.right: tmp.append(cur.right)\n",
    "        return sumOfLeft"
   ]
  },
  {
   "cell_type": "code",
   "execution_count": 31,
   "metadata": {
    "ExecuteTime": {
     "end_time": "2021-07-14T12:25:01.320314Z",
     "start_time": "2021-07-14T12:25:01.316806Z"
    }
   },
   "outputs": [
    {
     "name": "stdout",
     "output_type": "stream",
     "text": [
      "4\n",
      "6\n"
     ]
    },
    {
     "data": {
      "text/plain": [
       "10"
      ]
     },
     "execution_count": 31,
     "metadata": {},
     "output_type": "execute_result"
    }
   ],
   "source": [
    "a = Solution()\n",
    "res = a.sumOfLeftLeaves(bt1)\n",
    "res"
   ]
  },
  {
   "cell_type": "markdown",
   "metadata": {},
   "source": [
    "### 513. 找树左下角的值"
   ]
  },
  {
   "cell_type": "markdown",
   "metadata": {},
   "source": [
    "1. DFS: 递归"
   ]
  },
  {
   "cell_type": "markdown",
   "metadata": {},
   "source": [
    "✏️最后一行：最大深度-》回溯/高度的区别"
   ]
  },
  {
   "cell_type": "code",
   "execution_count": 79,
   "metadata": {
    "ExecuteTime": {
     "end_time": "2021-07-15T00:25:06.898606Z",
     "start_time": "2021-07-15T00:25:06.891634Z"
    }
   },
   "outputs": [],
   "source": [
    "class Solution:\n",
    "    def findBottomLeftValue(self, root: BinaryTree) -> int:\n",
    "        def leafNode(bt):\n",
    "            return True if not bt.left and not bt.right else False\n",
    "        self.maxDepth, self.curDepth = 0, 0\n",
    "        self.bottomLeft = None\n",
    "        \n",
    "        def dfs(bt, curDepth, maxDepth):\n",
    "            if not root: return\n",
    "            print(bt.val, curDepth, maxDepth)\n",
    "            if curDepth >= maxDepth:\n",
    "                \n",
    "                maxDepth = curDepth\n",
    "                self.bottomLeft = bt\n",
    "                print('-', self.bottomLeft.val, curDepth, maxDepth)\n",
    "            if bt.right:\n",
    "                curDepth += 1\n",
    "                dfs(bt.right, curDepth, maxDepth)\n",
    "                curDepth -= 1\n",
    "                \n",
    "            if bt.left:\n",
    "                curDepth += 1\n",
    "                dfs(bt.left, curDepth, maxDepth)  # ???\n",
    "                curDepth -= 1\n",
    "            return self.bottomLeft.val\n",
    "        return dfs(root, 0, 0)"
   ]
  },
  {
   "cell_type": "code",
   "execution_count": 83,
   "metadata": {
    "ExecuteTime": {
     "end_time": "2021-07-15T00:28:21.044698Z",
     "start_time": "2021-07-15T00:28:21.037561Z"
    }
   },
   "outputs": [],
   "source": [
    "class Solution:\n",
    "    def findBottomLeftValue(self, root: BinaryTree) -> int:\n",
    "        def leafNode(bt):\n",
    "            return True if not bt.left and not bt.right else False\n",
    "        self.maxDepth, self.curDepth = 0, 0\n",
    "        self.bottomLeft = None\n",
    "        \n",
    "        def dfs(bt):\n",
    "            if not root: return\n",
    "#             print(bt.val, curDepth, maxDepth)\n",
    "            if self.curDepth >= self.maxDepth:\n",
    "                \n",
    "                self.maxDepth = self.curDepth\n",
    "                self.bottomLeft = bt\n",
    "                print('-', self.bottomLeft.val, self.curDepth, self.maxDepth)\n",
    "            if bt.right:\n",
    "                self.curDepth += 1\n",
    "                dfs(bt.right)\n",
    "                self.curDepth -= 1\n",
    "                \n",
    "            if bt.left:\n",
    "                self.curDepth += 1\n",
    "                dfs(bt.left)\n",
    "                self.curDepth -= 1\n",
    "            return self.bottomLeft.val\n",
    "        return dfs(root)"
   ]
  },
  {
   "cell_type": "code",
   "execution_count": 86,
   "metadata": {
    "ExecuteTime": {
     "end_time": "2021-07-15T00:28:40.686833Z",
     "start_time": "2021-07-15T00:28:40.680837Z"
    }
   },
   "outputs": [
    {
     "name": "stdout",
     "output_type": "stream",
     "text": [
      "- 1 0 0\n",
      "- 3 1 1\n",
      "- 6 2 2\n",
      "- 4 2 2\n"
     ]
    },
    {
     "data": {
      "text/plain": [
       "4"
      ]
     },
     "execution_count": 86,
     "metadata": {},
     "output_type": "execute_result"
    }
   ],
   "source": [
    "a = Solution()\n",
    "res = a.findBottomLeftValue(bt1)\n",
    "res"
   ]
  },
  {
   "cell_type": "markdown",
   "metadata": {},
   "source": [
    "2. DFS: 迭代"
   ]
  },
  {
   "cell_type": "code",
   "execution_count": 50,
   "metadata": {
    "ExecuteTime": {
     "end_time": "2021-07-14T12:32:28.953982Z",
     "start_time": "2021-07-14T12:32:28.948332Z"
    }
   },
   "outputs": [],
   "source": [
    "class Solution:\n",
    "    def findBottomLeftValue(self, root: BinaryTree) -> int:\n",
    "        def leafNode(bt):\n",
    "            return True if not bt.left and not bt.right else False\n",
    "        tmp = deque()\n",
    "        tmp.append(root)\n",
    "        bottomLeft = root.val\n",
    "        while tmp:\n",
    "            for i in range(len(tmp)):               \n",
    "                cur = tmp.popleft()\n",
    "                if i == 0: \n",
    "                    bottomLeft = cur.val\n",
    "                if cur.left:  tmp.append(cur.left)\n",
    "                if cur.right: tmp.append(cur.right)\n",
    "        return bottomLeft"
   ]
  },
  {
   "cell_type": "markdown",
   "metadata": {},
   "source": [
    "### 112. 路径总和\n",
    "给你二叉树的根节点 root 和一个表示目标和的整数 targetSum ，判断该树中是否存在 根节点到叶子节点 的路径，这条路径上所有节点值相加等于目标和 targetSum。"
   ]
  },
  {
   "cell_type": "markdown",
   "metadata": {},
   "source": [
    "🍓如果需要搜索整颗二叉树，那么递归函数就不要返回值，如果要搜索其中一条符合条件的路径，递归函数就需要返回值，因为遇到符合条件的路径了就要及时返回。\n"
   ]
  },
  {
   "cell_type": "code",
   "execution_count": 132,
   "metadata": {
    "ExecuteTime": {
     "end_time": "2021-07-16T00:08:34.837084Z",
     "start_time": "2021-07-16T00:08:34.830531Z"
    }
   },
   "outputs": [],
   "source": [
    "class Solution:\n",
    "    def hasPathSum(self, root: BinaryTree, targetSum: int) -> bool:\n",
    "        res, tmp = [], []\n",
    "#         tmp.append(root)\n",
    "        \n",
    "        def dfs(bt, tmp):\n",
    "            if not bt.left and not bt.right:\n",
    "                tmp.append(bt.val)\n",
    "                print(tmp)\n",
    "                pathSum = 0\n",
    "                for i in tmp: pathSum += i \n",
    "                if pathSum == targetSum: return res.append(tmp.copy())\n",
    "            tmp.append(bt.val)\n",
    "            if bt.left:\n",
    "                dfs(bt.left, tmp)\n",
    "                tmp.pop()\n",
    "            if bt.right:\n",
    "                dfs(bt.right, tmp)\n",
    "                tmp.pop()\n",
    "\n",
    "            return res\n",
    "        return dfs(root, tmp)"
   ]
  },
  {
   "cell_type": "code",
   "execution_count": 141,
   "metadata": {
    "ExecuteTime": {
     "end_time": "2021-07-16T00:41:04.447771Z",
     "start_time": "2021-07-16T00:41:04.441706Z"
    }
   },
   "outputs": [],
   "source": [
    "class Solution:\n",
    "    def hasPathSum(self, root: BinaryTree, targetSum: int) -> bool:\n",
    "        res, tmp = [], []\n",
    "        \n",
    "        def dfs(bt, tmp):\n",
    "            if not bt:\n",
    "                print(tmp)\n",
    "                pathSum = 0\n",
    "                for i in tmp: pathSum += i \n",
    "                if pathSum == targetSum: return res.append(tmp.copy())\n",
    "            if bt: tmp.append(bt.val)\n",
    "#             if bt.left:\n",
    "            dfs(bt.left, tmp)\n",
    "            tmp.pop()\n",
    "#             if bt.right:\n",
    "            dfs(bt.right, tmp)\n",
    "            tmp.pop()\n",
    "\n",
    "            return res\n",
    "        return dfs(root, tmp)"
   ]
  },
  {
   "cell_type": "markdown",
   "metadata": {},
   "source": [
    "DFS: 递归\n",
    "1. 每次找到叶子节点后计算路径之和"
   ]
  },
  {
   "cell_type": "code",
   "execution_count": 175,
   "metadata": {
    "ExecuteTime": {
     "end_time": "2021-07-16T11:49:44.335801Z",
     "start_time": "2021-07-16T11:49:44.329979Z"
    }
   },
   "outputs": [],
   "source": [
    "\n",
    "class Solution:\n",
    "    def hasPathSum(self, root: BinaryTree, targetSum: int) -> bool:\n",
    "        if not root: return False\n",
    "        res, tmp = [], []\n",
    "        \n",
    "        def dfs(bt, tmp):\n",
    "            if not bt.left and not bt.right:\n",
    "                tmp.append(bt.val)\n",
    "                print(tmp)\n",
    "                pathSum = 0\n",
    "                for i in tmp: pathSum += i \n",
    "                return True if pathSum == targetSum else False\n",
    "            tmp.append(bt.val)\n",
    "            if bt.left:\n",
    "                if dfs(bt.left, tmp): return True\n",
    "                tmp.pop()\n",
    "            if bt.right:\n",
    "                if dfs(bt.right, tmp): return True\n",
    "                tmp.pop()\n",
    "            return False\n",
    "        \n",
    "        return dfs(root, tmp)"
   ]
  },
  {
   "cell_type": "markdown",
   "metadata": {},
   "source": [
    "2. 反向计算与target的距离"
   ]
  },
  {
   "cell_type": "code",
   "execution_count": 195,
   "metadata": {
    "ExecuteTime": {
     "end_time": "2021-07-16T11:57:27.888052Z",
     "start_time": "2021-07-16T11:57:27.881074Z"
    }
   },
   "outputs": [],
   "source": [
    "class Solution:\n",
    "    def hasPathSum(self, root: BinaryTree, targetSum: int) -> bool:\n",
    "        if not root: return False\n",
    "        leftSum = targetSum - root.val\n",
    "        \n",
    "        def dfs(bt, leftSum):\n",
    "            if not bt.left and not bt.right:\n",
    "                return True if leftSum == 0 else False\n",
    "            if bt.left:\n",
    "                leftSum -= bt.left.val\n",
    "                if dfs(bt.left, leftSum): return True\n",
    "                leftSum += bt.left.val\n",
    "            if bt.right:\n",
    "                leftSum -= bt.right.val\n",
    "                if dfs(bt.right, leftSum): return True\n",
    "                leftSum += bt.right.val\n",
    "            return False\n",
    "        \n",
    "        return dfs(root, leftSum)"
   ]
  },
  {
   "cell_type": "markdown",
   "metadata": {},
   "source": [
    "简化版本：\n",
    "\n",
    "🍓使用出口条件`if not bt: return False`用于分支`bt.left或bt.right不存在时`回溯；用or连接，只要一个分支满足条件就返回True"
   ]
  },
  {
   "cell_type": "code",
   "execution_count": 220,
   "metadata": {
    "ExecuteTime": {
     "end_time": "2021-07-17T03:49:27.723362Z",
     "start_time": "2021-07-17T03:49:27.718830Z"
    }
   },
   "outputs": [],
   "source": [
    "class Solution:\n",
    "    def hasPathSum(self, root: BinaryTree, targetSum: int) -> bool:\n",
    "        if not root: return False\n",
    "        leftSum = targetSum\n",
    "        \n",
    "        def dfs(bt, leftSum):\n",
    "            if not bt: return False\n",
    "            if not bt.left and not bt.right:\n",
    "                return leftSum == 0 \n",
    "            \n",
    "            return dfs(bt.left, leftSum-bt.val) or dfs(bt.right, leftSum-bt.val)\n",
    "        \n",
    "        return dfs(root, leftSum)"
   ]
  },
  {
   "cell_type": "code",
   "execution_count": 221,
   "metadata": {
    "ExecuteTime": {
     "end_time": "2021-07-17T03:49:29.668735Z",
     "start_time": "2021-07-17T03:49:29.662214Z"
    }
   },
   "outputs": [],
   "source": [
    "class BinaryTree():\n",
    "    def __init__(self, val, left, right):\n",
    "        self.val = val\n",
    "        self.left = left\n",
    "        self.right = right\n",
    "\n",
    "bt1 = BinaryTree(1, None, None)\n",
    "bt2 = BinaryTree(2, None, None)\n",
    "bt3 = BinaryTree(3, None, None)\n",
    "bt4 = BinaryTree(4, None, None)\n",
    "bt5 = BinaryTree(5, None, None)\n",
    "bt6 = BinaryTree(6, None, None)\n",
    "bt7 = BinaryTree(7, None, None)\n",
    "bt8 = BinaryTree(8, None, None)\n",
    "\n",
    "bt1.left, bt1.right = bt2, bt3\n",
    "bt2.left = bt4\n",
    "bt3.left = bt6\n",
    "\n",
    "# bt6.left = bt8\n"
   ]
  },
  {
   "cell_type": "code",
   "execution_count": 222,
   "metadata": {
    "ExecuteTime": {
     "end_time": "2021-07-17T03:49:30.273429Z",
     "start_time": "2021-07-17T03:49:30.269602Z"
    }
   },
   "outputs": [
    {
     "name": "stdout",
     "output_type": "stream",
     "text": [
      "1\n",
      "2\n",
      "4\n",
      "3\n",
      "6\n"
     ]
    },
    {
     "data": {
      "text/plain": [
       "False"
      ]
     },
     "execution_count": 222,
     "metadata": {},
     "output_type": "execute_result"
    }
   ],
   "source": [
    "a = Solution()\n",
    "res = a.hasPathSum(bt1, 9)\n",
    "res"
   ]
  },
  {
   "cell_type": "code",
   "execution_count": null,
   "metadata": {},
   "outputs": [],
   "source": []
  }
 ],
 "metadata": {
  "kernelspec": {
   "display_name": "Python 3",
   "language": "python",
   "name": "python3"
  },
  "language_info": {
   "codemirror_mode": {
    "name": "ipython",
    "version": 3
   },
   "file_extension": ".py",
   "mimetype": "text/x-python",
   "name": "python",
   "nbconvert_exporter": "python",
   "pygments_lexer": "ipython3",
   "version": "3.8.5"
  },
  "latex_envs": {
   "LaTeX_envs_menu_present": true,
   "autoclose": false,
   "autocomplete": true,
   "bibliofile": "biblio.bib",
   "cite_by": "apalike",
   "current_citInitial": 1,
   "eqLabelWithNumbers": true,
   "eqNumInitial": 1,
   "hotkeys": {
    "equation": "Ctrl-E",
    "itemize": "Ctrl-I"
   },
   "labels_anchors": false,
   "latex_user_defs": false,
   "report_style_numbering": false,
   "user_envs_cfg": false
  },
  "varInspector": {
   "cols": {
    "lenName": 16,
    "lenType": 16,
    "lenVar": 40
   },
   "kernels_config": {
    "python": {
     "delete_cmd_postfix": "",
     "delete_cmd_prefix": "del ",
     "library": "var_list.py",
     "varRefreshCmd": "print(var_dic_list())"
    },
    "r": {
     "delete_cmd_postfix": ") ",
     "delete_cmd_prefix": "rm(",
     "library": "var_list.r",
     "varRefreshCmd": "cat(var_dic_list()) "
    }
   },
   "types_to_exclude": [
    "module",
    "function",
    "builtin_function_or_method",
    "instance",
    "_Feature"
   ],
   "window_display": false
  }
 },
 "nbformat": 4,
 "nbformat_minor": 4
}
