{
 "cells": [
  {
   "cell_type": "markdown",
   "metadata": {},
   "source": [
    "优先队列是使用堆实现的，堆的底层为一个完全二叉树。\n",
    "\n",
    "堆用于快速添加/移除最大/最小元素：add上浮，pop下沉，时间复杂度为$O(log_2N)$"
   ]
  },
  {
   "cell_type": "markdown",
   "metadata": {},
   "source": [
    "🍓二叉树-回溯的处理思想：\n",
    "1. 回溯的实现原理\n",
    "2. 前序/中序/后序遍历？\n",
    "3. 遍历整棵树/一条边？\n",
    "3. 三要素：出口（if not node/node.left&right），参数和返回值，单层递归逻辑:回溯(.pop())紧跟递归(dfs())\n",
    "4. 边界"
   ]
  },
  {
   "cell_type": "markdown",
   "metadata": {},
   "source": [
    "## 二叉树的实现\n",
    "链表、数组\n",
    "1. optik"
   ]
  },
  {
   "cell_type": "code",
   "execution_count": 3,
   "metadata": {
    "ExecuteTime": {
     "end_time": "2021-10-09T13:49:28.578267Z",
     "start_time": "2021-10-09T13:49:28.571896Z"
    }
   },
   "outputs": [],
   "source": [
    "class BinaryTree():\n",
    "    def __init__(self, val, left, right):\n",
    "        self.val = val\n",
    "        self.left = left\n",
    "        self.right = right\n",
    "\n",
    "        \n",
    "        \n",
    "bt1 = BinaryTree(1, None, None)\n",
    "bt2 = BinaryTree(2, None, None)\n",
    "bt3 = BinaryTree(3, None, None)\n",
    "bt4 = BinaryTree(4, None, None)\n",
    "bt5 = BinaryTree(5, None, None)\n",
    "bt6 = BinaryTree(6, None, None)\n",
    "bt7 = BinaryTree(7, None, None)\n",
    "bt8 = BinaryTree(8, None, None)\n",
    "\n",
    "bt1.left, bt1.right = bt2, bt3\n",
    "bt2.left, bt2.right = bt4, bt5\n",
    "bt3.left, bt3.right = bt6, bt7\n",
    "\n",
    "bt6.left = bt8"
   ]
  },
  {
   "cell_type": "markdown",
   "metadata": {},
   "source": [
    "## 遍历方式\n",
    "递归方法和迭代方法：\n",
    "\n",
    "从时间复杂度上其实迭代法和递归法差不多(在不考虑函数调用开销和函数调用产生的堆栈开销)，但\n",
    "是空间复杂度上，递归开销会大一些，因为递归需要系统堆栈存参数返回值等等。\n",
    "\n",
    "递归更容易让程序员理解，但收敛不好，容易栈溢出。\n"
   ]
  },
  {
   "cell_type": "markdown",
   "metadata": {},
   "source": [
    "1. DFS\n",
    "使用递归实现前中后序遍历。\n",
    "\n",
    "    1. 参数返回值：`in: root`\n",
    "\n",
    "    2. 终止条件：没有叶子节点，即`root==None`\n",
    "\n",
    "    3. 单层循环逻辑：\n",
    "\n",
    "```\n",
    "# 以中序遍历为例\n",
    "dfs(root.left)\n",
    "in_order.append(root.val)\n",
    "dfs(root.right)\n",
    "```"
   ]
  },
  {
   "cell_type": "code",
   "execution_count": 18,
   "metadata": {
    "ExecuteTime": {
     "end_time": "2021-06-27T02:07:25.588027Z",
     "start_time": "2021-06-27T02:07:25.582919Z"
    }
   },
   "outputs": [],
   "source": [
    "def inorder(binaryTree):\n",
    "    in_order = []\n",
    "    def dfs(binaryTree, in_order):\n",
    "        if not binaryTree:\n",
    "            return \n",
    "        dfs(binaryTree.left, in_order)\n",
    "        in_order.append(binaryTree.val)\n",
    "        dfs(binaryTree.right, in_order)\n",
    "        return \n",
    "    dfs(binaryTree, in_order)\n",
    "    return in_order"
   ]
  },
  {
   "cell_type": "code",
   "execution_count": 23,
   "metadata": {
    "ExecuteTime": {
     "end_time": "2021-06-27T02:08:29.739532Z",
     "start_time": "2021-06-27T02:08:29.733371Z"
    }
   },
   "outputs": [
    {
     "data": {
      "text/plain": [
       "[4, 5, 2, 6, 7, 3, 1]"
      ]
     },
     "execution_count": 23,
     "metadata": {},
     "output_type": "execute_result"
    }
   ],
   "source": [
    "post = postorder(bt1)\n",
    "post"
   ]
  },
  {
   "cell_type": "markdown",
   "metadata": {},
   "source": [
    "2. 迭代\n",
    "    1. 用stack模拟“递归”节点的过程，🍓注意处理(print)和访问节点(append in cur->left/right)的顺序\n",
    "    2. ？？？使用标记法：指针标记下一个处理的节点"
   ]
  },
  {
   "cell_type": "markdown",
   "metadata": {},
   "source": [
    "3. BFS\n",
    "    1. 使用队列实现：每一层从最左找到最右"
   ]
  },
  {
   "cell_type": "markdown",
   "metadata": {
    "heading_collapsed": true
   },
   "source": [
    "### 94. 二叉树的中序遍历"
   ]
  },
  {
   "cell_type": "markdown",
   "metadata": {
    "hidden": true
   },
   "source": [
    "1. 递归"
   ]
  },
  {
   "cell_type": "code",
   "execution_count": 7,
   "metadata": {
    "ExecuteTime": {
     "end_time": "2021-10-01T02:24:21.171318Z",
     "start_time": "2021-10-01T02:24:21.167181Z"
    },
    "hidden": true
   },
   "outputs": [],
   "source": [
    "class Solution(object):\n",
    "    def inorderTraversal(self, root):\n",
    "        def dfs(node):\n",
    "            if not node: return\n",
    "            dfs(node.left)\n",
    "            in_order.append(node.val)\n",
    "            dfs(node.right)\n",
    "            return\n",
    "        in_order = []\n",
    "        dfs(root)\n",
    "        return in_order"
   ]
  },
  {
   "cell_type": "markdown",
   "metadata": {
    "hidden": true
   },
   "source": [
    "2. 迭代"
   ]
  },
  {
   "cell_type": "markdown",
   "metadata": {
    "hidden": true
   },
   "source": [
    "处理：将元素放进result数组中\n",
    "\n",
    "访问：遍历节点\n"
   ]
  },
  {
   "cell_type": "code",
   "execution_count": 5,
   "metadata": {
    "ExecuteTime": {
     "end_time": "2021-09-21T14:27:18.311575Z",
     "start_time": "2021-09-21T14:27:18.306720Z"
    },
    "hidden": true
   },
   "outputs": [],
   "source": [
    "class Solution(object):\n",
    "    def inorderTraversal(self, root):\n",
    "        inorder, tmp = [], []\n",
    "        cur = root\n",
    "        while cur or tmp:               # 模仿递归\n",
    "            if cur:\n",
    "                tmp.append(cur)\n",
    "                cur = cur.left          # 1. 通过dfs(cur.left)找到最左节点\n",
    "            else:\n",
    "                cur = tmp.pop()\n",
    "                inorder.append(cur.val) # 2. 处理中间节点\n",
    "                cur = cur.right         # 3. 访问最右节点\n",
    "        return inorder"
   ]
  },
  {
   "cell_type": "code",
   "execution_count": 8,
   "metadata": {
    "ExecuteTime": {
     "end_time": "2021-10-01T02:24:25.062166Z",
     "start_time": "2021-10-01T02:24:25.056609Z"
    },
    "hidden": true
   },
   "outputs": [],
   "source": [
    "class TreeNode:\n",
    "    def __init__(self, val=0, left=None, right=None):\n",
    "        self.val = val\n",
    "        self.left = left\n",
    "        self.right = right\n",
    "        \n",
    "bt1 = TreeNode(1, None, None)\n",
    "bt2 = TreeNode(2, None, None)\n",
    "bt3 = TreeNode(3, None, None)\n",
    "bt4 = TreeNode(4, None, None)\n",
    "bt5 = TreeNode(5, None, None)\n",
    "bt6 = TreeNode(6, None, None)\n",
    "bt7 = TreeNode(7, None, None)\n",
    "\n",
    "bt1.left, bt1.right = bt2, bt3\n",
    "bt2.left, bt2.right = bt4, bt5\n",
    "bt3.left, bt3.right = bt6, bt7\n"
   ]
  },
  {
   "cell_type": "code",
   "execution_count": 9,
   "metadata": {
    "ExecuteTime": {
     "end_time": "2021-10-01T02:24:25.269189Z",
     "start_time": "2021-10-01T02:24:25.259107Z"
    },
    "hidden": true
   },
   "outputs": [
    {
     "data": {
      "text/plain": [
       "[4, 2, 5, 1, 6, 3, 7]"
      ]
     },
     "execution_count": 9,
     "metadata": {},
     "output_type": "execute_result"
    }
   ],
   "source": [
    "a = Solution()\n",
    "in_order = a.inorderTraversal(bt1)\n",
    "in_order"
   ]
  },
  {
   "cell_type": "markdown",
   "metadata": {},
   "source": [
    "### 144. 二叉树的前序遍历"
   ]
  },
  {
   "cell_type": "markdown",
   "metadata": {},
   "source": [
    "1. 递归"
   ]
  },
  {
   "cell_type": "code",
   "execution_count": 35,
   "metadata": {
    "ExecuteTime": {
     "end_time": "2021-10-10T12:33:03.039877Z",
     "start_time": "2021-10-10T12:33:03.035592Z"
    }
   },
   "outputs": [],
   "source": [
    "class Solution(object):\n",
    "    def preorderTraversal(self, root):\n",
    "        def dfs(node):\n",
    "            if not node: return\n",
    "            pre_order.append(node.val)\n",
    "            dfs(node.left)\n",
    "            dfs(node.right)\n",
    "            return\n",
    "        pre_order = []\n",
    "        dfs(root)\n",
    "        return pre_order"
   ]
  },
  {
   "cell_type": "markdown",
   "metadata": {},
   "source": [
    "2. 迭代"
   ]
  },
  {
   "cell_type": "code",
   "execution_count": 46,
   "metadata": {
    "ExecuteTime": {
     "end_time": "2021-10-10T12:37:01.643826Z",
     "start_time": "2021-10-10T12:37:01.637953Z"
    }
   },
   "outputs": [],
   "source": [
    "class Solution(object):\n",
    "    def preorderTraversal(self, root):\n",
    "        if not root: return []\n",
    "        pre_order, tmp = [], []\n",
    "        tmp.append(root)\n",
    "        while tmp:\n",
    "            cur = tmp.pop()\n",
    "            pre_order.append(cur.val)\n",
    "            if cur.right: tmp.append(cur.right)  # 🍓栈暂存节点，所以push的顺序是先右再左\n",
    "            if cur.left: tmp.append(cur.left)\n",
    "        return pre_order"
   ]
  },
  {
   "cell_type": "code",
   "execution_count": 45,
   "metadata": {
    "ExecuteTime": {
     "end_time": "2021-10-10T12:35:47.974903Z",
     "start_time": "2021-10-10T12:35:47.970002Z"
    }
   },
   "outputs": [
    {
     "data": {
      "text/plain": [
       "[1, 2, 4, 5, 3, 6, 8, 7]"
      ]
     },
     "execution_count": 45,
     "metadata": {},
     "output_type": "execute_result"
    }
   ],
   "source": [
    "a = Solution()\n",
    "pre_order = a.preorderTraversal(bt1)\n",
    "pre_order"
   ]
  },
  {
   "cell_type": "markdown",
   "metadata": {
    "heading_collapsed": true
   },
   "source": [
    "### 145. 二叉树的后序遍历"
   ]
  },
  {
   "cell_type": "markdown",
   "metadata": {
    "hidden": true
   },
   "source": [
    "1. 递归"
   ]
  },
  {
   "cell_type": "code",
   "execution_count": 22,
   "metadata": {
    "ExecuteTime": {
     "end_time": "2021-06-27T02:08:29.534663Z",
     "start_time": "2021-06-27T02:08:29.529336Z"
    },
    "hidden": true
   },
   "outputs": [],
   "source": [
    "class Solution:\n",
    "    def postorderTraversal(self, root: TreeNode) -> List[int]:\n",
    "        def dfs(root):\n",
    "            if not root: return\n",
    "            dfs(root.left)\n",
    "            dfs(root.right)\n",
    "            post_order.append(root.val)\n",
    "            return \n",
    "        post_order = []\n",
    "        dfs(root)\n",
    "        return post_order"
   ]
  },
  {
   "cell_type": "markdown",
   "metadata": {
    "hidden": true
   },
   "source": [
    "2. 迭代"
   ]
  },
  {
   "cell_type": "code",
   "execution_count": 69,
   "metadata": {
    "ExecuteTime": {
     "end_time": "2021-06-29T10:01:18.741745Z",
     "start_time": "2021-06-29T10:01:18.736250Z"
    },
    "hidden": true
   },
   "outputs": [],
   "source": [
    "class Solution(object):\n",
    "    def postorderTraversal(self, root):\n",
    "        postorder, tmp = [], []\n",
    "        tmp.append(root)\n",
    "        while tmp:\n",
    "            cur = tmp.pop()\n",
    "            postorder.append(cur.val)\n",
    "            if cur.left: tmp.append(cur.left)\n",
    "            if cur.right: tmp.append(cur.right)\n",
    "        return postorder[::-1]"
   ]
  },
  {
   "cell_type": "code",
   "execution_count": 70,
   "metadata": {
    "ExecuteTime": {
     "end_time": "2021-06-29T10:01:18.936522Z",
     "start_time": "2021-06-29T10:01:18.929440Z"
    },
    "hidden": true
   },
   "outputs": [
    {
     "data": {
      "text/plain": [
       "[4, 5, 2, 6, 7, 3, 1]"
      ]
     },
     "execution_count": 70,
     "metadata": {},
     "output_type": "execute_result"
    }
   ],
   "source": [
    "a = Solution()\n",
    "post_order = a.postorderTraversal(bt1)\n",
    "post_order"
   ]
  },
  {
   "cell_type": "markdown",
   "metadata": {
    "heading_collapsed": true
   },
   "source": [
    "### 102. 二叉树的层序遍历\n",
    "给定一个二叉树，返回其节点值自顶向下的层序遍历。 "
   ]
  },
  {
   "cell_type": "markdown",
   "metadata": {
    "hidden": true
   },
   "source": [
    "1. 输出为一位数组"
   ]
  },
  {
   "cell_type": "code",
   "execution_count": 31,
   "metadata": {
    "ExecuteTime": {
     "end_time": "2021-10-10T12:31:03.735557Z",
     "start_time": "2021-10-10T12:31:03.679380Z"
    },
    "hidden": true
   },
   "outputs": [
    {
     "ename": "NameError",
     "evalue": "name 'TreeNode' is not defined",
     "output_type": "error",
     "traceback": [
      "\u001b[0;31m---------------------------------------------------------------------------\u001b[0m",
      "\u001b[0;31mNameError\u001b[0m                                 Traceback (most recent call last)",
      "\u001b[0;32m<ipython-input-31-f99d89a2b68c>\u001b[0m in \u001b[0;36m<module>\u001b[0;34m\u001b[0m\n\u001b[1;32m      1\u001b[0m \u001b[0;32mfrom\u001b[0m \u001b[0mcollections\u001b[0m \u001b[0;32mimport\u001b[0m \u001b[0mdeque\u001b[0m\u001b[0;34m\u001b[0m\u001b[0;34m\u001b[0m\u001b[0m\n\u001b[0;32m----> 2\u001b[0;31m \u001b[0;32mclass\u001b[0m \u001b[0mSolution\u001b[0m\u001b[0;34m:\u001b[0m\u001b[0;34m\u001b[0m\u001b[0;34m\u001b[0m\u001b[0m\n\u001b[0m\u001b[1;32m      3\u001b[0m     \u001b[0;32mdef\u001b[0m \u001b[0mlevelOrder\u001b[0m\u001b[0;34m(\u001b[0m\u001b[0mself\u001b[0m\u001b[0;34m,\u001b[0m \u001b[0mroot\u001b[0m\u001b[0;34m:\u001b[0m \u001b[0mTreeNode\u001b[0m\u001b[0;34m)\u001b[0m \u001b[0;34m->\u001b[0m \u001b[0mList\u001b[0m\u001b[0;34m[\u001b[0m\u001b[0mList\u001b[0m\u001b[0;34m[\u001b[0m\u001b[0mint\u001b[0m\u001b[0;34m]\u001b[0m\u001b[0;34m]\u001b[0m\u001b[0;34m:\u001b[0m\u001b[0;34m\u001b[0m\u001b[0;34m\u001b[0m\u001b[0m\n\u001b[1;32m      4\u001b[0m         \u001b[0;32mif\u001b[0m \u001b[0;32mnot\u001b[0m \u001b[0mroot\u001b[0m\u001b[0;34m:\u001b[0m \u001b[0;32mreturn\u001b[0m \u001b[0;34m[\u001b[0m\u001b[0;34m]\u001b[0m\u001b[0;34m\u001b[0m\u001b[0;34m\u001b[0m\u001b[0m\n\u001b[1;32m      5\u001b[0m         \u001b[0mres\u001b[0m\u001b[0;34m,\u001b[0m \u001b[0mtmp\u001b[0m \u001b[0;34m=\u001b[0m \u001b[0;34m[\u001b[0m\u001b[0;34m]\u001b[0m\u001b[0;34m,\u001b[0m \u001b[0mdeque\u001b[0m\u001b[0;34m(\u001b[0m\u001b[0;34m)\u001b[0m\u001b[0;34m\u001b[0m\u001b[0;34m\u001b[0m\u001b[0m\n",
      "\u001b[0;32m<ipython-input-31-f99d89a2b68c>\u001b[0m in \u001b[0;36mSolution\u001b[0;34m()\u001b[0m\n\u001b[1;32m      1\u001b[0m \u001b[0;32mfrom\u001b[0m \u001b[0mcollections\u001b[0m \u001b[0;32mimport\u001b[0m \u001b[0mdeque\u001b[0m\u001b[0;34m\u001b[0m\u001b[0;34m\u001b[0m\u001b[0m\n\u001b[1;32m      2\u001b[0m \u001b[0;32mclass\u001b[0m \u001b[0mSolution\u001b[0m\u001b[0;34m:\u001b[0m\u001b[0;34m\u001b[0m\u001b[0;34m\u001b[0m\u001b[0m\n\u001b[0;32m----> 3\u001b[0;31m     \u001b[0;32mdef\u001b[0m \u001b[0mlevelOrder\u001b[0m\u001b[0;34m(\u001b[0m\u001b[0mself\u001b[0m\u001b[0;34m,\u001b[0m \u001b[0mroot\u001b[0m\u001b[0;34m:\u001b[0m \u001b[0mTreeNode\u001b[0m\u001b[0;34m)\u001b[0m \u001b[0;34m->\u001b[0m \u001b[0mList\u001b[0m\u001b[0;34m[\u001b[0m\u001b[0mList\u001b[0m\u001b[0;34m[\u001b[0m\u001b[0mint\u001b[0m\u001b[0;34m]\u001b[0m\u001b[0;34m]\u001b[0m\u001b[0;34m:\u001b[0m\u001b[0;34m\u001b[0m\u001b[0;34m\u001b[0m\u001b[0m\n\u001b[0m\u001b[1;32m      4\u001b[0m         \u001b[0;32mif\u001b[0m \u001b[0;32mnot\u001b[0m \u001b[0mroot\u001b[0m\u001b[0;34m:\u001b[0m \u001b[0;32mreturn\u001b[0m \u001b[0;34m[\u001b[0m\u001b[0;34m]\u001b[0m\u001b[0;34m\u001b[0m\u001b[0;34m\u001b[0m\u001b[0m\n\u001b[1;32m      5\u001b[0m         \u001b[0mres\u001b[0m\u001b[0;34m,\u001b[0m \u001b[0mtmp\u001b[0m \u001b[0;34m=\u001b[0m \u001b[0;34m[\u001b[0m\u001b[0;34m]\u001b[0m\u001b[0;34m,\u001b[0m \u001b[0mdeque\u001b[0m\u001b[0;34m(\u001b[0m\u001b[0;34m)\u001b[0m\u001b[0;34m\u001b[0m\u001b[0;34m\u001b[0m\u001b[0m\n",
      "\u001b[0;31mNameError\u001b[0m: name 'TreeNode' is not defined"
     ]
    }
   ],
   "source": [
    "from collections import deque\n",
    "class Solution:\n",
    "    def levelOrder(self, root: TreeNode) -> List[List[int]]:\n",
    "        if not root: return []\n",
    "        res, tmp = [], deque()\n",
    "        tmp.append(root)\n",
    "        while tmp:\n",
    "            cur = tmp.popleft()\n",
    "            if cur.left:  tmp.append(cur.left)\n",
    "            if cur.right: tmp.append(cur.right)\n",
    "            res.append(cur.val)\n",
    "        return res"
   ]
  },
  {
   "cell_type": "markdown",
   "metadata": {
    "hidden": true
   },
   "source": [
    "2. 输出为二维数组"
   ]
  },
  {
   "cell_type": "code",
   "execution_count": 32,
   "metadata": {
    "ExecuteTime": {
     "end_time": "2021-10-10T12:31:04.089333Z",
     "start_time": "2021-10-10T12:31:04.078354Z"
    },
    "hidden": true
   },
   "outputs": [
    {
     "ename": "NameError",
     "evalue": "name 'TreeNode' is not defined",
     "output_type": "error",
     "traceback": [
      "\u001b[0;31m---------------------------------------------------------------------------\u001b[0m",
      "\u001b[0;31mNameError\u001b[0m                                 Traceback (most recent call last)",
      "\u001b[0;32m<ipython-input-32-b42ac38e4cb6>\u001b[0m in \u001b[0;36m<module>\u001b[0;34m\u001b[0m\n\u001b[0;32m----> 1\u001b[0;31m \u001b[0;32mclass\u001b[0m \u001b[0mSolution\u001b[0m\u001b[0;34m:\u001b[0m\u001b[0;34m\u001b[0m\u001b[0;34m\u001b[0m\u001b[0m\n\u001b[0m\u001b[1;32m      2\u001b[0m     \u001b[0;32mdef\u001b[0m \u001b[0mlevelOrder\u001b[0m\u001b[0;34m(\u001b[0m\u001b[0mself\u001b[0m\u001b[0;34m,\u001b[0m \u001b[0mroot\u001b[0m\u001b[0;34m:\u001b[0m \u001b[0mTreeNode\u001b[0m\u001b[0;34m)\u001b[0m \u001b[0;34m->\u001b[0m \u001b[0mList\u001b[0m\u001b[0;34m[\u001b[0m\u001b[0mList\u001b[0m\u001b[0;34m[\u001b[0m\u001b[0mint\u001b[0m\u001b[0;34m]\u001b[0m\u001b[0;34m]\u001b[0m\u001b[0;34m:\u001b[0m\u001b[0;34m\u001b[0m\u001b[0;34m\u001b[0m\u001b[0m\n\u001b[1;32m      3\u001b[0m         \u001b[0;32mif\u001b[0m \u001b[0;32mnot\u001b[0m \u001b[0mroot\u001b[0m\u001b[0;34m:\u001b[0m \u001b[0;32mreturn\u001b[0m \u001b[0;34m[\u001b[0m\u001b[0;34m]\u001b[0m\u001b[0;34m\u001b[0m\u001b[0;34m\u001b[0m\u001b[0m\n\u001b[1;32m      4\u001b[0m         \u001b[0mres\u001b[0m\u001b[0;34m,\u001b[0m \u001b[0mtmp\u001b[0m \u001b[0;34m=\u001b[0m \u001b[0;34m[\u001b[0m\u001b[0;34m]\u001b[0m\u001b[0;34m,\u001b[0m \u001b[0mdeque\u001b[0m\u001b[0;34m(\u001b[0m\u001b[0;34m)\u001b[0m\u001b[0;34m\u001b[0m\u001b[0;34m\u001b[0m\u001b[0m\n\u001b[1;32m      5\u001b[0m         \u001b[0mtmp\u001b[0m\u001b[0;34m.\u001b[0m\u001b[0mappend\u001b[0m\u001b[0;34m(\u001b[0m\u001b[0mroot\u001b[0m\u001b[0;34m)\u001b[0m\u001b[0;34m\u001b[0m\u001b[0;34m\u001b[0m\u001b[0m\n",
      "\u001b[0;32m<ipython-input-32-b42ac38e4cb6>\u001b[0m in \u001b[0;36mSolution\u001b[0;34m()\u001b[0m\n\u001b[1;32m      1\u001b[0m \u001b[0;32mclass\u001b[0m \u001b[0mSolution\u001b[0m\u001b[0;34m:\u001b[0m\u001b[0;34m\u001b[0m\u001b[0;34m\u001b[0m\u001b[0m\n\u001b[0;32m----> 2\u001b[0;31m     \u001b[0;32mdef\u001b[0m \u001b[0mlevelOrder\u001b[0m\u001b[0;34m(\u001b[0m\u001b[0mself\u001b[0m\u001b[0;34m,\u001b[0m \u001b[0mroot\u001b[0m\u001b[0;34m:\u001b[0m \u001b[0mTreeNode\u001b[0m\u001b[0;34m)\u001b[0m \u001b[0;34m->\u001b[0m \u001b[0mList\u001b[0m\u001b[0;34m[\u001b[0m\u001b[0mList\u001b[0m\u001b[0;34m[\u001b[0m\u001b[0mint\u001b[0m\u001b[0;34m]\u001b[0m\u001b[0;34m]\u001b[0m\u001b[0;34m:\u001b[0m\u001b[0;34m\u001b[0m\u001b[0;34m\u001b[0m\u001b[0m\n\u001b[0m\u001b[1;32m      3\u001b[0m         \u001b[0;32mif\u001b[0m \u001b[0;32mnot\u001b[0m \u001b[0mroot\u001b[0m\u001b[0;34m:\u001b[0m \u001b[0;32mreturn\u001b[0m \u001b[0;34m[\u001b[0m\u001b[0;34m]\u001b[0m\u001b[0;34m\u001b[0m\u001b[0;34m\u001b[0m\u001b[0m\n\u001b[1;32m      4\u001b[0m         \u001b[0mres\u001b[0m\u001b[0;34m,\u001b[0m \u001b[0mtmp\u001b[0m \u001b[0;34m=\u001b[0m \u001b[0;34m[\u001b[0m\u001b[0;34m]\u001b[0m\u001b[0;34m,\u001b[0m \u001b[0mdeque\u001b[0m\u001b[0;34m(\u001b[0m\u001b[0;34m)\u001b[0m\u001b[0;34m\u001b[0m\u001b[0;34m\u001b[0m\u001b[0m\n\u001b[1;32m      5\u001b[0m         \u001b[0mtmp\u001b[0m\u001b[0;34m.\u001b[0m\u001b[0mappend\u001b[0m\u001b[0;34m(\u001b[0m\u001b[0mroot\u001b[0m\u001b[0;34m)\u001b[0m\u001b[0;34m\u001b[0m\u001b[0;34m\u001b[0m\u001b[0m\n",
      "\u001b[0;31mNameError\u001b[0m: name 'TreeNode' is not defined"
     ]
    }
   ],
   "source": [
    "class Solution:\n",
    "    def levelOrder(self, root: TreeNode) -> List[List[int]]:\n",
    "        if not root: return []\n",
    "        res, tmp = [], deque()\n",
    "        tmp.append(root)\n",
    "        while tmp:\n",
    "            layer = []\n",
    "            for i in range(len(tmp)):\n",
    "                cur = tmp.popleft()\n",
    "                if cur.left:  tmp.append(cur.left)\n",
    "                if cur.right: tmp.append(cur.right)\n",
    "                layer.append(cur.val)\n",
    "            res.append(layer)\n",
    "        return res"
   ]
  },
  {
   "cell_type": "code",
   "execution_count": 5,
   "metadata": {
    "ExecuteTime": {
     "end_time": "2021-10-09T13:49:53.928498Z",
     "start_time": "2021-10-09T13:49:53.919956Z"
    },
    "hidden": true
   },
   "outputs": [
    {
     "ename": "AttributeError",
     "evalue": "'Solution' object has no attribute 'levelOrder'",
     "output_type": "error",
     "traceback": [
      "\u001b[0;31m---------------------------------------------------------------------------\u001b[0m",
      "\u001b[0;31mAttributeError\u001b[0m                            Traceback (most recent call last)",
      "\u001b[0;32m<ipython-input-5-2a299913f3e9>\u001b[0m in \u001b[0;36m<module>\u001b[0;34m\u001b[0m\n\u001b[1;32m      1\u001b[0m \u001b[0ma\u001b[0m \u001b[0;34m=\u001b[0m \u001b[0mSolution\u001b[0m\u001b[0;34m(\u001b[0m\u001b[0;34m)\u001b[0m\u001b[0;34m\u001b[0m\u001b[0;34m\u001b[0m\u001b[0m\n\u001b[0;32m----> 2\u001b[0;31m \u001b[0mres\u001b[0m \u001b[0;34m=\u001b[0m \u001b[0ma\u001b[0m\u001b[0;34m.\u001b[0m\u001b[0mlevelOrder\u001b[0m\u001b[0;34m(\u001b[0m\u001b[0mbt1\u001b[0m\u001b[0;34m)\u001b[0m\u001b[0;34m\u001b[0m\u001b[0;34m\u001b[0m\u001b[0m\n\u001b[0m\u001b[1;32m      3\u001b[0m \u001b[0mres\u001b[0m\u001b[0;34m\u001b[0m\u001b[0;34m\u001b[0m\u001b[0m\n",
      "\u001b[0;31mAttributeError\u001b[0m: 'Solution' object has no attribute 'levelOrder'"
     ]
    }
   ],
   "source": [
    "a = Solution()\n",
    "res = a.levelOrder(bt1)\n",
    "res"
   ]
  },
  {
   "cell_type": "markdown",
   "metadata": {
    "hidden": true
   },
   "source": [
    "🍓标准库collections中的deque功能较多，且使用方法更像一个list。\n",
    "![deque.png](attachment:images/deque.png)"
   ]
  },
  {
   "cell_type": "markdown",
   "metadata": {
    "heading_collapsed": true
   },
   "source": [
    "### 107. 二叉树的层序遍历 II\n",
    "给定一个二叉树，返回其节点值自底向上的层序遍历。 （即按从叶子节点所在层到根节点所在的层，逐层从左向右遍历）"
   ]
  },
  {
   "cell_type": "code",
   "execution_count": 12,
   "metadata": {
    "ExecuteTime": {
     "end_time": "2021-10-09T13:50:58.874922Z",
     "start_time": "2021-10-09T13:50:58.872112Z"
    },
    "hidden": true
   },
   "outputs": [],
   "source": [
    "from typing import List\n",
    "from collections import deque"
   ]
  },
  {
   "cell_type": "code",
   "execution_count": 27,
   "metadata": {
    "ExecuteTime": {
     "end_time": "2021-10-09T13:53:04.932159Z",
     "start_time": "2021-10-09T13:53:04.926730Z"
    },
    "hidden": true
   },
   "outputs": [],
   "source": [
    "class Solution:\n",
    "    def levelOrderBottom(self, root: TreeNode) -> List[List[int]]:\n",
    "        if not root: return []\n",
    "        res = []\n",
    "        dq = deque()\n",
    "        dq.append(root)\n",
    "        while dq:\n",
    "            tmp = []\n",
    "            for i in range(len(dq)):\n",
    "                cur = dq.popleft()\n",
    "                tmp.append(cur.val)\n",
    "                if cur.left:\n",
    "                    dq.append(cur.left)\n",
    "                if cur.right:\n",
    "                    dq.append(cur.right)\n",
    "            res.append(tmp.copy())\n",
    "        return res[::-1]"
   ]
  },
  {
   "cell_type": "code",
   "execution_count": 30,
   "metadata": {
    "ExecuteTime": {
     "end_time": "2021-10-09T13:53:10.243582Z",
     "start_time": "2021-10-09T13:53:10.238504Z"
    },
    "hidden": true
   },
   "outputs": [
    {
     "data": {
      "text/plain": [
       "[[8], [4, 5, 6, 7], [2, 3], [1]]"
      ]
     },
     "execution_count": 30,
     "metadata": {},
     "output_type": "execute_result"
    }
   ],
   "source": [
    "a = Solution()\n",
    "res = a.levelOrderBottom(bt1)\n",
    "res"
   ]
  },
  {
   "cell_type": "markdown",
   "metadata": {
    "heading_collapsed": true
   },
   "source": [
    "### 199. 二叉树的右视图\n",
    "给定一棵二叉树，想象自己站在它的右侧，按照从顶部到底部的顺序，返回从右侧所能看到的节点值。\n",
    "\n",
    "示例:\n",
    "输入: [1,2,3,null,5,null,4]\n",
    "输出: [1, 3, 4]"
   ]
  },
  {
   "cell_type": "markdown",
   "metadata": {
    "hidden": true
   },
   "source": [
    "层序遍历->以二维数组形式输出->取每一层最后一个值"
   ]
  },
  {
   "cell_type": "code",
   "execution_count": 23,
   "metadata": {
    "ExecuteTime": {
     "end_time": "2021-10-01T08:31:04.868006Z",
     "start_time": "2021-10-01T08:31:04.863733Z"
    },
    "hidden": true
   },
   "outputs": [],
   "source": [
    "class Solution:\n",
    "    def rightSideView(self, root: TreeNode) -> List[List[int]]:\n",
    "        if not root: return []\n",
    "        res, tmp = [], deque()\n",
    "        tmp.append(root)\n",
    "        while tmp:\n",
    "            layer = []\n",
    "            for i in range(len(tmp)):\n",
    "                cur = tmp.popleft()\n",
    "                if cur.left:  tmp.append(cur.left)\n",
    "                if cur.right: tmp.append(cur.right)\n",
    "                layer.append(cur.val)\n",
    "            res.append(layer[-1])\n",
    "        return res"
   ]
  },
  {
   "cell_type": "code",
   "execution_count": 24,
   "metadata": {
    "ExecuteTime": {
     "end_time": "2021-10-01T08:31:06.787542Z",
     "start_time": "2021-10-01T08:31:06.782036Z"
    },
    "hidden": true
   },
   "outputs": [
    {
     "data": {
      "text/plain": [
       "[1, 3, 7]"
      ]
     },
     "execution_count": 24,
     "metadata": {},
     "output_type": "execute_result"
    }
   ],
   "source": [
    "a = Solution()\n",
    "res = a.rightSideView(bt1)\n",
    "res"
   ]
  },
  {
   "cell_type": "markdown",
   "metadata": {
    "heading_collapsed": true
   },
   "source": [
    "### 637.二叉树的层平均值\n",
    "返回每一树层的平均值"
   ]
  },
  {
   "cell_type": "code",
   "execution_count": 95,
   "metadata": {
    "ExecuteTime": {
     "end_time": "2021-06-30T00:50:42.756803Z",
     "start_time": "2021-06-30T00:50:42.751661Z"
    },
    "hidden": true
   },
   "outputs": [],
   "source": [
    "class Solution:\n",
    "    def averageOfLevels(self, root: TreeNode) -> List[float]:\n",
    "        res = []\n",
    "        dq = deque()\n",
    "        dq.append(root)\n",
    "        while dq:\n",
    "            tmp = 0\n",
    "            size = len(dq)\n",
    "            for i in range(size):\n",
    "                cur = dq.popleft()\n",
    "                tmp += cur.val\n",
    "                if cur.left:\n",
    "                    dq.append(cur.left)\n",
    "                if cur.right:\n",
    "                    dq.append(cur.right)\n",
    "            res.append(tmp/size)\n",
    "        return res"
   ]
  },
  {
   "cell_type": "code",
   "execution_count": 96,
   "metadata": {
    "ExecuteTime": {
     "end_time": "2021-06-30T00:51:10.795060Z",
     "start_time": "2021-06-30T00:51:10.789444Z"
    },
    "hidden": true
   },
   "outputs": [
    {
     "data": {
      "text/plain": [
       "[1.0, 2.5, 5.5]"
      ]
     },
     "execution_count": 96,
     "metadata": {},
     "output_type": "execute_result"
    }
   ],
   "source": [
    "a = Solution()\n",
    "res = a.averageOfLevels(bt1)\n",
    "res"
   ]
  },
  {
   "cell_type": "markdown",
   "metadata": {
    "heading_collapsed": true
   },
   "source": [
    "### 429. N 叉树的层序遍历"
   ]
  },
  {
   "cell_type": "markdown",
   "metadata": {
    "hidden": true
   },
   "source": [
    "构建N叉树\n",
    "\n",
    "🍓用list存储N叉树的children"
   ]
  },
  {
   "cell_type": "code",
   "execution_count": 25,
   "metadata": {
    "ExecuteTime": {
     "end_time": "2021-10-07T14:30:27.061925Z",
     "start_time": "2021-10-07T14:30:27.049915Z"
    },
    "hidden": true
   },
   "outputs": [],
   "source": [
    "# Definition for a Node.\n",
    "class Node:\n",
    "    def __init__(self, val=None, children=None):\n",
    "        self.val = val\n",
    "        self.children = children\n",
    "        \n",
    "nt1 = Node(val=1)\n",
    "nt2 = Node(val=2)\n",
    "nt3 = Node(val=3)\n",
    "nt4 = Node(val=4)\n",
    "nt5 = Node(val=5)\n",
    "nt6 = Node(val=6)\n",
    "nt7 = Node(val=7)\n",
    "nt8 = Node(val=8)\n",
    "nt9 = Node(val=9)\n",
    "\n",
    "nt1.children = [nt2, nt3, nt4]\n",
    "nt2.children = [nt5, nt6]\n",
    "nt3.children = [nt7, nt8]\n",
    "nt7.children = [nt9]\n"
   ]
  },
  {
   "cell_type": "code",
   "execution_count": null,
   "metadata": {
    "hidden": true
   },
   "outputs": [],
   "source": [
    "class Solution:\n",
    "    def levelOrder(self, root: 'Node') -> List[List[int]]:\n",
    "        res = []\n",
    "        dq = deque()\n",
    "        dq.append(root)\n",
    "        while dq:\n",
    "            tmp = []\n",
    "            for _ in range(len(dq)):\n",
    "                cur = dq.popleft()\n",
    "                tmp.append(cur.val)\n",
    "                if cur.children:\n",
    "                    children = cur.children.copy()\n",
    "                while children:\n",
    "                    dq.append(children.pop())\n",
    "            res.append(tmp[::-1])\n",
    "        "
   ]
  },
  {
   "cell_type": "code",
   "execution_count": 29,
   "metadata": {
    "ExecuteTime": {
     "end_time": "2021-09-22T10:21:05.081726Z",
     "start_time": "2021-09-22T10:21:05.076364Z"
    },
    "hidden": true
   },
   "outputs": [],
   "source": [
    "class Solution:\n",
    "    def levelOrder(self, root: 'Node') -> List[List[int]]:\n",
    "        res = []\n",
    "        dq = deque()\n",
    "        dq.append(root)\n",
    "        while dq:\n",
    "            tmp = []\n",
    "            for _ in range(len(dq)):\n",
    "                cur = dq.popleft()\n",
    "                tmp.append(cur.val)\n",
    "                if cur.children:\n",
    "                    children = cur.children.copy()\n",
    "                while children:\n",
    "                    dq.append(children.pop())\n",
    "            res.append(tmp[::-1])\n",
    "        return res\n",
    "    \n",
    "    "
   ]
  },
  {
   "cell_type": "code",
   "execution_count": 30,
   "metadata": {
    "ExecuteTime": {
     "end_time": "2021-09-22T10:21:07.984711Z",
     "start_time": "2021-09-22T10:21:07.979128Z"
    },
    "hidden": true
   },
   "outputs": [
    {
     "data": {
      "text/plain": [
       "[[1], [2, 3, 4], [5, 6, 7, 8], [9]]"
      ]
     },
     "execution_count": 30,
     "metadata": {},
     "output_type": "execute_result"
    }
   ],
   "source": [
    "a = Solution()\n",
    "res = a.levelOrder(nt1)\n",
    "res\n"
   ]
  },
  {
   "cell_type": "markdown",
   "metadata": {
    "heading_collapsed": true
   },
   "source": [
    "### 515. 在每个树行中找最大值\n",
    "您需要在二叉树的每一行中找到最大的值。"
   ]
  },
  {
   "cell_type": "code",
   "execution_count": 160,
   "metadata": {
    "ExecuteTime": {
     "end_time": "2021-06-30T01:50:12.399546Z",
     "start_time": "2021-06-30T01:50:12.393228Z"
    },
    "hidden": true
   },
   "outputs": [],
   "source": [
    "class Solution:\n",
    "    def largestValues(self, root: TreeNode) -> List[int]:\n",
    "        if not root: return []\n",
    "        res = []\n",
    "        dq = deque()\n",
    "        dq.append(root)\n",
    "        while dq:\n",
    "            maxNode = dq[0].val\n",
    "            size = len(dq)\n",
    "            for i in range(size):\n",
    "                cur = dq.popleft()\n",
    "                maxNode = max(cur.val, maxNode)\n",
    "                if cur.left:\n",
    "                    dq.append(cur.left)\n",
    "                if cur.right:\n",
    "                    dq.append(cur.right)\n",
    "            res.append(maxNode)\n",
    "        return res"
   ]
  },
  {
   "cell_type": "code",
   "execution_count": 161,
   "metadata": {
    "ExecuteTime": {
     "end_time": "2021-06-30T01:50:12.583689Z",
     "start_time": "2021-06-30T01:50:12.579631Z"
    },
    "hidden": true
   },
   "outputs": [
    {
     "data": {
      "text/plain": [
       "[1, 3, 7]"
      ]
     },
     "execution_count": 161,
     "metadata": {},
     "output_type": "execute_result"
    }
   ],
   "source": [
    "a = Solution()\n",
    "res = a.largestValues(bt1)\n",
    "res"
   ]
  },
  {
   "cell_type": "markdown",
   "metadata": {
    "heading_collapsed": true
   },
   "source": [
    "### 116. 填充每个节点的下一个右侧节点指针"
   ]
  },
  {
   "cell_type": "markdown",
   "metadata": {
    "hidden": true
   },
   "source": [
    "给定一个 完美二叉树 ，其所有叶子节点都在同一层，每个父节点都有两个子节点。二叉树定义如下：\n",
    "```\n",
    "struct Node {\n",
    "  int val;\n",
    "  Node *left;\n",
    "  Node *right;\n",
    "  Node *next;\n",
    "}\n",
    "```\n",
    "填充它的每个 next 指针，让这个指针指向其下一个右侧节点。如果找不到下一个右侧节点，则将 next 指针设置为 NULL。\n",
    "\n",
    "初始状态下，所有 next 指针都被设置为 NULL。\n"
   ]
  },
  {
   "cell_type": "code",
   "execution_count": 27,
   "metadata": {
    "ExecuteTime": {
     "end_time": "2021-07-25T00:06:47.833869Z",
     "start_time": "2021-07-25T00:06:47.829014Z"
    },
    "hidden": true
   },
   "outputs": [],
   "source": [
    "class Solution:\n",
    "    def connect(self, root: 'Node') -> 'Node':\n",
    "        if not root: return root\n",
    "        res, dq = [], deque()\n",
    "        dq.append(root)\n",
    "        while dq:\n",
    "            size = len(dq)\n",
    "            lastNode = None\n",
    "            for i in range(size):\n",
    "                cur = dq.popleft()\n",
    "                if lastNode: lastNode.next = cur\n",
    "                lastNode = cur\n",
    "                if cur.left:  dq.append(cur.left)\n",
    "                if cur.right: dq.append(cur.right)\n",
    "        return root"
   ]
  },
  {
   "cell_type": "code",
   "execution_count": 28,
   "metadata": {
    "ExecuteTime": {
     "end_time": "2021-07-25T00:06:48.193688Z",
     "start_time": "2021-07-25T00:06:48.187240Z"
    },
    "hidden": true
   },
   "outputs": [],
   "source": [
    "# Definition for a Node.\n",
    "class Node:\n",
    "    def __init__(self, val=None, left=None, right=None, next=None):\n",
    "        self.val = val\n",
    "        self.left = left\n",
    "        self.right = right\n",
    "        self.next = next\n",
    "        \n",
    "nt1 = Node(val=1)\n",
    "nt2 = Node(val=2)\n",
    "nt3 = Node(val=3)\n",
    "nt4 = Node(val=4)\n",
    "nt5 = Node(val=5)\n",
    "nt6 = Node(val=6)\n",
    "nt7 = Node(val=7)\n",
    "nt8 = Node(val=8)\n",
    "\n",
    "nt1.left, nt1.right = nt2, nt3\n",
    "nt2.left, nt2.right = nt4, nt5\n",
    "nt3.left, nt3.right = nt6, nt7\n"
   ]
  },
  {
   "cell_type": "code",
   "execution_count": 29,
   "metadata": {
    "ExecuteTime": {
     "end_time": "2021-07-25T00:06:48.609861Z",
     "start_time": "2021-07-25T00:06:48.606708Z"
    },
    "hidden": true
   },
   "outputs": [],
   "source": [
    "a = Solution()\n",
    "res = a.connect(nt1)\n",
    "res.right.next"
   ]
  },
  {
   "cell_type": "markdown",
   "metadata": {
    "heading_collapsed": true
   },
   "source": [
    "### 117. 填充每个节点的下一个右侧节点指针 II\n",
    "给定一个二叉树，不一定是完美二叉树"
   ]
  },
  {
   "cell_type": "code",
   "execution_count": 195,
   "metadata": {
    "ExecuteTime": {
     "end_time": "2021-07-01T01:09:34.842742Z",
     "start_time": "2021-07-01T01:09:34.837008Z"
    },
    "hidden": true
   },
   "outputs": [],
   "source": [
    "class Solution:\n",
    "    def connect(self, root: 'Node') -> 'Node':\n",
    "        if not root: return root\n",
    "        res = []\n",
    "        dq = deque()\n",
    "        dq.append(root)\n",
    "        while dq:\n",
    "            size = len(dq)\n",
    "            lastNode = None\n",
    "            for i in range(size):\n",
    "                cur = dq.popleft()\n",
    "                res.append(cur.val)\n",
    "                if lastNode:\n",
    "                    lastNode.next = cur\n",
    "                lastNode = cur\n",
    "                if cur.left:\n",
    "                    dq.append(cur.left)\n",
    "                if cur.right:\n",
    "                    dq.append(cur.right)\n",
    "            res.append('#')\n",
    "        return res"
   ]
  },
  {
   "cell_type": "code",
   "execution_count": 196,
   "metadata": {
    "ExecuteTime": {
     "end_time": "2021-07-01T01:09:35.024898Z",
     "start_time": "2021-07-01T01:09:35.021194Z"
    },
    "hidden": true
   },
   "outputs": [
    {
     "data": {
      "text/plain": [
       "[1, '#', 2, 3, '#', 4, 5, 6, 7, '#', 8, '#']"
      ]
     },
     "execution_count": 196,
     "metadata": {},
     "output_type": "execute_result"
    }
   ],
   "source": [
    "nt4.right = nt8\n",
    "a = Solution()\n",
    "res = a.connect(nt1)\n",
    "res"
   ]
  },
  {
   "cell_type": "markdown",
   "metadata": {
    "heading_collapsed": true
   },
   "source": [
    "## 二叉树的属性"
   ]
  },
  {
   "cell_type": "markdown",
   "metadata": {
    "heading_collapsed": true,
    "hidden": true
   },
   "source": [
    "### 226. 翻转二叉树"
   ]
  },
  {
   "cell_type": "markdown",
   "metadata": {
    "hidden": true
   },
   "source": [
    "🍓前序和后序都可以，中序不可，因为处理左/右分支分别在处理当前节点两侧，即单侧节点被处理了两遍"
   ]
  },
  {
   "cell_type": "markdown",
   "metadata": {
    "hidden": true
   },
   "source": [
    "1. DFS: pre-order"
   ]
  },
  {
   "cell_type": "code",
   "execution_count": 31,
   "metadata": {
    "ExecuteTime": {
     "end_time": "2021-09-22T12:10:55.973002Z",
     "start_time": "2021-09-22T12:10:55.968286Z"
    },
    "hidden": true
   },
   "outputs": [],
   "source": [
    "class Solution:\n",
    "    def invertTree(self, root: TreeNode) -> TreeNode:\n",
    "        def dfs(node):\n",
    "            if not node: return\n",
    "            if node.left or node.right:\n",
    "                node.left, node.right = node.right, node.left\n",
    "            if node.left:\n",
    "                dfs(node.left)\n",
    "            if node.right:\n",
    "                dfs(node.right)\n",
    "        dfs(root)\n",
    "        return root"
   ]
  },
  {
   "cell_type": "markdown",
   "metadata": {
    "hidden": true
   },
   "source": [
    "2. DFS: post-order"
   ]
  },
  {
   "cell_type": "code",
   "execution_count": 223,
   "metadata": {
    "ExecuteTime": {
     "end_time": "2021-07-01T14:11:21.244947Z",
     "start_time": "2021-07-01T14:11:21.241053Z"
    },
    "hidden": true
   },
   "outputs": [],
   "source": [
    "class Solution:\n",
    "    def invertTree(self, root: TreeNode) -> TreeNode:\n",
    "        def dfs(cur):\n",
    "            if not cur: return\n",
    "            if cur.left:\n",
    "                dfs(cur.left)\n",
    "            if cur.right:\n",
    "                dfs(cur.right)\n",
    "            \n",
    "            if cur.left or cur.right:\n",
    "#                 print(cur.left.val, cur.right.val)\n",
    "                cur.left, cur.right = cur.right, cur.left\n",
    "        dfs(root)\n",
    "        return root\n"
   ]
  },
  {
   "cell_type": "markdown",
   "metadata": {
    "hidden": true
   },
   "source": [
    "3. 迭代法：pre-order"
   ]
  },
  {
   "cell_type": "code",
   "execution_count": 397,
   "metadata": {
    "ExecuteTime": {
     "end_time": "2021-07-02T01:18:57.799185Z",
     "start_time": "2021-07-02T01:18:57.795368Z"
    },
    "hidden": true
   },
   "outputs": [],
   "source": [
    "class Solution:\n",
    "    def invertTree(self, root: TreeNode) -> TreeNode:\n",
    "        res, tmp = [], []\n",
    "        tmp.append(root)\n",
    "        cur = root\n",
    "        while tmp:\n",
    "            cur = tmp.pop()\n",
    "            cur.left, cur.right = cur.right, cur.left\n",
    "#             res.append(cur.val)\n",
    "            if cur.right:\n",
    "                tmp.append(cur.right)\n",
    "            if cur.left:\n",
    "                tmp.append(cur.left)\n",
    "        return root"
   ]
  },
  {
   "cell_type": "markdown",
   "metadata": {
    "hidden": true
   },
   "source": [
    "4. 迭代法：post-order"
   ]
  },
  {
   "cell_type": "code",
   "execution_count": 413,
   "metadata": {
    "ExecuteTime": {
     "end_time": "2021-07-02T01:30:27.680146Z",
     "start_time": "2021-07-02T01:30:27.674967Z"
    },
    "hidden": true
   },
   "outputs": [],
   "source": [
    "class Solution(object):\n",
    "    def invertTree(self, root: TreeNode) -> TreeNode:\n",
    "        postorder, tmp = [], []\n",
    "        tmp.append(root)\n",
    "        while tmp:\n",
    "            cur = tmp.pop()\n",
    "            cur.left, cur.right = cur.right, cur.left\n",
    "#             postorder.append(cur.val)\n",
    "            if cur.left: tmp.append(cur.left)\n",
    "            if cur.right: tmp.append(cur.right)\n",
    "        return root"
   ]
  },
  {
   "cell_type": "code",
   "execution_count": 36,
   "metadata": {
    "ExecuteTime": {
     "end_time": "2021-09-22T12:11:34.690412Z",
     "start_time": "2021-09-22T12:11:34.685724Z"
    },
    "hidden": true
   },
   "outputs": [],
   "source": [
    "class BinaryTree():\n",
    "    def __init__(self, val, left, right):\n",
    "        self.val = val\n",
    "        self.left = left\n",
    "        self.right = right\n",
    "\n",
    "bt1 = BinaryTree(1, None, None)\n",
    "bt2 = BinaryTree(2, None, None)\n",
    "bt3 = BinaryTree(3, None, None)\n",
    "bt4 = BinaryTree(4, None, None)\n",
    "bt5 = BinaryTree(5, None, None)\n",
    "bt6 = BinaryTree(6, None, None)\n",
    "bt7 = BinaryTree(7, None, None)\n",
    "\n",
    "bt1.left, bt1.right = bt2, bt3\n",
    "bt2.left, bt2.right = bt4, bt5\n",
    "bt3.left, bt3.right = bt6, bt7"
   ]
  },
  {
   "cell_type": "code",
   "execution_count": 37,
   "metadata": {
    "ExecuteTime": {
     "end_time": "2021-09-22T12:11:34.913980Z",
     "start_time": "2021-09-22T12:11:34.908398Z"
    },
    "hidden": true,
    "scrolled": true
   },
   "outputs": [
    {
     "data": {
      "text/plain": [
       "(3, 2, 7, 6, 5, 4)"
      ]
     },
     "execution_count": 37,
     "metadata": {},
     "output_type": "execute_result"
    }
   ],
   "source": [
    "a = Solution()\n",
    "res = a.invertTree(bt1)\n",
    "res.left.val, res.right.val, res.left.left.val, res.left.right.val, res.right.left.val, res.right.right.val\n"
   ]
  },
  {
   "cell_type": "markdown",
   "metadata": {
    "heading_collapsed": true,
    "hidden": true
   },
   "source": [
    "### 101. 对称二叉树"
   ]
  },
  {
   "cell_type": "markdown",
   "metadata": {
    "heading_collapsed": true,
    "hidden": true
   },
   "source": [
    "#### DFS：递归\n",
    "🍓后序遍历是一种回溯：\n",
    "\n",
    "1. 通过递归函数的**返回值**判断两个子树的内外侧节点是否相等\n",
    "\n",
    "2. 不是严格意义上的后序遍历。遍历比较一个树的左右中的另一侧树的右左中"
   ]
  },
  {
   "cell_type": "code",
   "execution_count": 48,
   "metadata": {
    "ExecuteTime": {
     "end_time": "2021-07-25T03:52:50.564599Z",
     "start_time": "2021-07-25T03:52:50.558693Z"
    },
    "hidden": true
   },
   "outputs": [],
   "source": [
    "class Solution:\n",
    "    def isSymmetric(self, root: TreeNode) -> bool:\n",
    "        def backtrack(t1, t2):\n",
    "            # 出口\n",
    "            if not t1 and not t2: return True\n",
    "            if not t1 or not t2 or t1.val!=t2.val: return False\n",
    "            inner =  backtrack(t1.left, t2.right)\n",
    "            outter = backtrack(t1.right, t2.left)\n",
    "            return True if inner==outter else False\n",
    "        if not root: return True\n",
    "        return backtrack(root.left, root.right)"
   ]
  },
  {
   "cell_type": "markdown",
   "metadata": {
    "heading_collapsed": true,
    "hidden": true
   },
   "source": [
    "#### DFS: 迭代\n",
    "暂存待处理节点可以是队列、栈或是列表"
   ]
  },
  {
   "cell_type": "code",
   "execution_count": 424,
   "metadata": {
    "ExecuteTime": {
     "end_time": "2021-07-05T00:54:47.636705Z",
     "start_time": "2021-07-05T00:54:47.631038Z"
    },
    "hidden": true
   },
   "outputs": [],
   "source": [
    "from collections import deque\n",
    "class Solution:\n",
    "    def isSymmetric(self, root: TreeNode) -> bool:\n",
    "        if not root: return True\n",
    "        tmp = deque()\n",
    "        tmp.append(root.left)\n",
    "        tmp.append(root.right)\n",
    "        while tmp:\n",
    "            n1, n2 = tmp.popleft(), tmp.popleft()\n",
    "            if not n1 and not n2: continue\n",
    "            if not n1 or not n2 or n1.val!=n2.val: return False\n",
    "            tmp.append(n1.left)\n",
    "            tmp.append(n2.right)\n",
    "            tmp.append(n1.right)\n",
    "            tmp.append(n2.left)\n",
    "        \n",
    "        return True"
   ]
  },
  {
   "cell_type": "code",
   "execution_count": 65,
   "metadata": {
    "ExecuteTime": {
     "end_time": "2021-09-29T02:31:09.696752Z",
     "start_time": "2021-09-29T02:31:09.691098Z"
    },
    "hidden": true
   },
   "outputs": [],
   "source": [
    "class BinaryTree():\n",
    "    def __init__(self, val, left, right):\n",
    "        self.val = val\n",
    "        self.left = left\n",
    "        self.right = right\n",
    "\n",
    "bt1 = BinaryTree(1, None, None)\n",
    "bt2 = BinaryTree(2, None, None)\n",
    "bt3 = BinaryTree(2, None, None)\n",
    "bt4 = BinaryTree(3, None, None)\n",
    "bt5 = BinaryTree(5, None, None)\n",
    "bt6 = BinaryTree(5, None, None)\n",
    "bt7 = BinaryTree(3, None, None)\n",
    "\n",
    "bt1.left, bt1.right = bt2, bt3\n",
    "bt2.left, bt2.right = bt4, bt5\n",
    "bt3.left, bt3.right = bt6, bt7"
   ]
  },
  {
   "cell_type": "code",
   "execution_count": 66,
   "metadata": {
    "ExecuteTime": {
     "end_time": "2021-09-29T02:31:09.860373Z",
     "start_time": "2021-09-29T02:31:09.856991Z"
    },
    "hidden": true
   },
   "outputs": [
    {
     "data": {
      "text/plain": [
       "True"
      ]
     },
     "execution_count": 66,
     "metadata": {},
     "output_type": "execute_result"
    }
   ],
   "source": [
    "a = Solution()\n",
    "res = a.isSymmetric(bt1)\n",
    "res"
   ]
  },
  {
   "cell_type": "markdown",
   "metadata": {
    "heading_collapsed": true,
    "hidden": true
   },
   "source": [
    "### 104. 二叉树的最大深度"
   ]
  },
  {
   "cell_type": "markdown",
   "metadata": {
    "heading_collapsed": true,
    "hidden": true
   },
   "source": [
    "#### DFS: 递归"
   ]
  },
  {
   "cell_type": "markdown",
   "metadata": {
    "hidden": true
   },
   "source": [
    "1. Carl方法：🍓参数返回值为depth"
   ]
  },
  {
   "cell_type": "code",
   "execution_count": 39,
   "metadata": {
    "ExecuteTime": {
     "end_time": "2021-09-22T13:28:26.033974Z",
     "start_time": "2021-09-22T13:28:26.029259Z"
    },
    "hidden": true
   },
   "outputs": [],
   "source": [
    "class Solution:\n",
    "    def maxDepth(self, root:TreeNode) -> int:\n",
    "        def dfs(node, depth):\n",
    "            if not node: return 0\n",
    "            left  = dfs(node.left,  depth)  # 递归左孩子\n",
    "            right = dfs(node.right, depth)  # 递归右孩子\n",
    "            depth = max(left, right) + 1    # 处理当前节点\n",
    "            return depth\n",
    "        return dfs(root, 0)"
   ]
  },
  {
   "cell_type": "markdown",
   "metadata": {
    "hidden": true
   },
   "source": [
    "2. 简化版本"
   ]
  },
  {
   "cell_type": "code",
   "execution_count": 473,
   "metadata": {
    "ExecuteTime": {
     "end_time": "2021-07-05T11:52:34.726858Z",
     "start_time": "2021-07-05T11:52:34.722718Z"
    },
    "hidden": true
   },
   "outputs": [],
   "source": [
    "class Solution:\n",
    "    def maxDepth(self, root: TreeNode) -> int:\n",
    "        def dfs(node, depth):\n",
    "            if not node: return depth\n",
    "            return max(dfs(node.left, depth), dfs(node.right, depth)) + 1\n",
    "        return dfs(root, 0)"
   ]
  },
  {
   "cell_type": "markdown",
   "metadata": {
    "heading_collapsed": true,
    "hidden": true
   },
   "source": [
    "#### BFS: 迭代"
   ]
  },
  {
   "cell_type": "code",
   "execution_count": 55,
   "metadata": {
    "ExecuteTime": {
     "end_time": "2021-07-25T06:37:57.358382Z",
     "start_time": "2021-07-25T06:37:57.353307Z"
    },
    "hidden": true
   },
   "outputs": [],
   "source": [
    "class Solution:\n",
    "    def maxDepth(self, root: TreeNode) -> int:\n",
    "        if not root: return 0\n",
    "        depth = 0\n",
    "        dq = deque()\n",
    "        dq.append(root)\n",
    "        while dq:\n",
    "            for i in range(len(dq)):\n",
    "                cur = dq.popleft()\n",
    "                if cur.left:  dq.append(cur.left)\n",
    "                if cur.right: dq.append(cur.right)\n",
    "            depth += 1\n",
    "        return depth"
   ]
  },
  {
   "cell_type": "code",
   "execution_count": 56,
   "metadata": {
    "ExecuteTime": {
     "end_time": "2021-07-25T06:37:57.556230Z",
     "start_time": "2021-07-25T06:37:57.552978Z"
    },
    "hidden": true
   },
   "outputs": [
    {
     "data": {
      "text/plain": [
       "3"
      ]
     },
     "execution_count": 56,
     "metadata": {},
     "output_type": "execute_result"
    }
   ],
   "source": [
    "a = Solution()\n",
    "res = a.maxDepth(bt1)\n",
    "res"
   ]
  },
  {
   "cell_type": "markdown",
   "metadata": {
    "heading_collapsed": true,
    "hidden": true
   },
   "source": [
    "### 559. N叉树的最大深度"
   ]
  },
  {
   "cell_type": "markdown",
   "metadata": {
    "hidden": true
   },
   "source": [
    "#### DFS: 递归"
   ]
  },
  {
   "cell_type": "code",
   "execution_count": 68,
   "metadata": {
    "ExecuteTime": {
     "end_time": "2021-07-26T00:44:26.704600Z",
     "start_time": "2021-07-26T00:44:26.700173Z"
    },
    "hidden": true
   },
   "outputs": [],
   "source": [
    "class Solution:\n",
    "    def maxDepth(self, root):\n",
    "        def dfs(nt, maxDepth):\n",
    "            if not nt.children: return maxDepth\n",
    "            maxDepth += 1\n",
    "            for i in nt.children:\n",
    "                maxDepth = max(maxDepth, dfs(i, maxDepth))\n",
    "            return maxDepth\n",
    "        return dfs(root, 0)"
   ]
  },
  {
   "cell_type": "markdown",
   "metadata": {
    "hidden": true
   },
   "source": [
    "#### BFS: 迭代"
   ]
  },
  {
   "cell_type": "code",
   "execution_count": 71,
   "metadata": {
    "ExecuteTime": {
     "end_time": "2021-07-26T00:57:50.954079Z",
     "start_time": "2021-07-26T00:57:50.948988Z"
    },
    "hidden": true
   },
   "outputs": [],
   "source": [
    "class Solution:\n",
    "    def maxDepth(self, root):\n",
    "        if not root: return 0\n",
    "        tmp = deque()\n",
    "        tmp.append(root)\n",
    "        depth = 0\n",
    "        while tmp:\n",
    "            for i in range(len(tmp)):\n",
    "                cur = tmp.popleft()\n",
    "                if cur.children:\n",
    "                    for i in cur.children:\n",
    "                        tmp.append(i)\n",
    "            depth += 1\n",
    "        return depth"
   ]
  },
  {
   "cell_type": "code",
   "execution_count": 72,
   "metadata": {
    "ExecuteTime": {
     "end_time": "2021-07-26T00:57:53.367564Z",
     "start_time": "2021-07-26T00:57:53.361559Z"
    },
    "hidden": true
   },
   "outputs": [],
   "source": [
    "# Definition for a Node.\n",
    "class Node:\n",
    "    def __init__(self, val=None, children=None):\n",
    "        self.val = val\n",
    "        self.children = children\n",
    "        \n",
    "nt1 = Node(val=1)\n",
    "nt2 = Node(val=2)\n",
    "nt3 = Node(val=3)\n",
    "nt4 = Node(val=4)\n",
    "nt5 = Node(val=5)\n",
    "nt6 = Node(val=6)\n",
    "nt7 = Node(val=7)\n",
    "nt8 = Node(val=8)\n",
    "nt9 = Node(val=9)\n",
    "\n",
    "nt1.children = [nt2, nt3, nt4]\n",
    "nt2.children = [nt5, nt6]\n",
    "nt3.children = [nt7, nt8]\n",
    "nt7.children = [nt9]\n"
   ]
  },
  {
   "cell_type": "code",
   "execution_count": 73,
   "metadata": {
    "ExecuteTime": {
     "end_time": "2021-07-26T00:57:53.966587Z",
     "start_time": "2021-07-26T00:57:53.961344Z"
    },
    "hidden": true
   },
   "outputs": [
    {
     "data": {
      "text/plain": [
       "4"
      ]
     },
     "execution_count": 73,
     "metadata": {},
     "output_type": "execute_result"
    }
   ],
   "source": [
    "a = Solution()\n",
    "res = a.maxDepth(nt1)\n",
    "res"
   ]
  },
  {
   "cell_type": "markdown",
   "metadata": {
    "hidden": true
   },
   "source": [
    "### 111. 二叉树的最小深度\n",
    "给定一个二叉树，找出其最小深度。\n",
    "\n",
    "🍓最小深度是从根节点到最近叶子节点的最短路径上的节点数量。说明：叶子节点是指没有子节点的节点。"
   ]
  },
  {
   "cell_type": "markdown",
   "metadata": {
    "hidden": true
   },
   "source": [
    "#### DFS: 递归\n",
    "注意**单层循环逻辑**和maxDepth不同"
   ]
  },
  {
   "cell_type": "markdown",
   "metadata": {
    "hidden": true
   },
   "source": [
    "1. Carl模版：在处理左右分支时的方法与“求最大深度“不同"
   ]
  },
  {
   "cell_type": "markdown",
   "metadata": {
    "hidden": true
   },
   "source": [
    "错误例1：🍓和maxDepth时的方法，使用`min(left, right) + 1`的方法不正确。\n",
    "\n",
    "当二叉树对象存在不平衡的分支（即某侧只有单一方向分支长度>=2）时，返回值为0(空节点一测的深度)+1"
   ]
  },
  {
   "cell_type": "code",
   "execution_count": null,
   "metadata": {
    "hidden": true
   },
   "outputs": [],
   "source": [
    "class Solution:\n",
    "    def minDepth(self, root:TreeNode) -> int:\n",
    "        def dfs(node, depth):\n",
    "            if not node: return 0\n",
    "            left = dfs(node.left, depth)\n",
    "            right = dfs(node.right, depth)\n",
    "            if node.left and not node.right:\n",
    "                depth = left+1\n",
    "            elif node.right and not node.left:\n",
    "                depth = right+1\n",
    "            elif node.left and node.right:\n",
    "                depth = min(left, right)+1\n",
    "            else:\n",
    "                depth = 1\n",
    "            return depth"
   ]
  },
  {
   "cell_type": "code",
   "execution_count": 99,
   "metadata": {
    "ExecuteTime": {
     "end_time": "2021-07-27T05:42:08.339052Z",
     "start_time": "2021-07-27T05:42:08.334475Z"
    },
    "hidden": true
   },
   "outputs": [],
   "source": [
    "class Solution:\n",
    "    def minDepth(self, root:TreeNode) -> int:\n",
    "        def dfs(node, depth):\n",
    "            if not node: return 0\n",
    "            left  = dfs(node.left,  depth)  # 递归左孩子\n",
    "            right = dfs(node.right, depth)  # 递归右孩子\n",
    "            depth = min(left, right) + 1    # 处理当前节点：🍓🍓🍓当有单侧长分支时返回值为0+1\n",
    "            return depth\n",
    "        return dfs(root, 0)"
   ]
  },
  {
   "cell_type": "markdown",
   "metadata": {
    "hidden": true
   },
   "source": [
    "🍓需要分别处理左右孩子不为空时的情况"
   ]
  },
  {
   "cell_type": "code",
   "execution_count": 120,
   "metadata": {
    "ExecuteTime": {
     "end_time": "2021-07-28T08:10:47.118277Z",
     "start_time": "2021-07-28T08:10:47.112917Z"
    },
    "hidden": true
   },
   "outputs": [],
   "source": [
    "class Solution:\n",
    "    def minDepth(self, root: BinaryTree) -> int:\n",
    "        def dfs(node, depth):\n",
    "            if not node: return 0\n",
    "            left  = dfs(node.left,  depth)  # 递归左孩子\n",
    "            right = dfs(node.right, depth)  # 递归右孩子\n",
    "                                            # 处理当前节点：🍓分别处理左右孩子不为空时的情况\n",
    "            if node.left and not node.right:\n",
    "                depth = left  + 1\n",
    "            elif not node.left and node.right:\n",
    "                depth = right + 1\n",
    "            elif not node.left and not node.right:\n",
    "                depth = 1\n",
    "            else: \n",
    "                depth = min(left, right) + 1\n",
    "            return depth\n",
    "        return dfs(root, 0)"
   ]
  },
  {
   "cell_type": "markdown",
   "metadata": {
    "hidden": true
   },
   "source": [
    "简化版本：不过不太利于理解"
   ]
  },
  {
   "cell_type": "code",
   "execution_count": 124,
   "metadata": {
    "ExecuteTime": {
     "end_time": "2021-07-28T08:12:13.279241Z",
     "start_time": "2021-07-28T08:12:13.274279Z"
    },
    "hidden": true
   },
   "outputs": [],
   "source": [
    "class Solution:\n",
    "    def minDepth(self, root: TreeNode) -> int:\n",
    "        def dfs(node, depth):\n",
    "            if not node.left and not node.right: return depth\n",
    "            if node.left and node.right: \n",
    "                return min(dfs(node.left, depth), dfs(node.right, depth)) + 1\n",
    "            if node.left: return dfs(node.left, depth) + 1\n",
    "            if node.right: return dfs(node.right, depth) + 1\n",
    "        \n",
    "        if not root: return 0\n",
    "        return dfs(root, 1)\n"
   ]
  },
  {
   "cell_type": "markdown",
   "metadata": {
    "hidden": true
   },
   "source": [
    "关于递归函数的参数返回值的思考"
   ]
  },
  {
   "cell_type": "code",
   "execution_count": 128,
   "metadata": {
    "ExecuteTime": {
     "end_time": "2021-07-28T08:26:49.485137Z",
     "start_time": "2021-07-28T08:26:49.479852Z"
    },
    "hidden": true
   },
   "outputs": [],
   "source": [
    "class Solution:\n",
    "    def minDepth(self, root: BinaryTree) -> int:\n",
    "        def dfs(node, depth):\n",
    "            if not node:\n",
    "                return 0\n",
    "            if not node.left and not node.right:\n",
    "                return 1\n",
    "            minDepth = 10**9\n",
    "            if node.left:\n",
    "                left = dfs(node.left,  depth)\n",
    "                depth = \n",
    "#                 depth = min(left, minDepth)+1\n",
    "            if node.right:\n",
    "                right = dfs(node.right, depth)\n",
    "#                 depth = min(right, minDepth)+1\n",
    "            return depth       \n",
    "        return dfs(root, 0)"
   ]
  },
  {
   "cell_type": "code",
   "execution_count": 129,
   "metadata": {
    "ExecuteTime": {
     "end_time": "2021-07-28T08:26:49.976305Z",
     "start_time": "2021-07-28T08:26:49.972909Z"
    },
    "hidden": true
   },
   "outputs": [
    {
     "data": {
      "text/plain": [
       "5"
      ]
     },
     "execution_count": 129,
     "metadata": {},
     "output_type": "execute_result"
    }
   ],
   "source": [
    "a = Solution()\n",
    "res = a.minDepth(bt1)\n",
    "res"
   ]
  },
  {
   "cell_type": "code",
   "execution_count": 86,
   "metadata": {
    "ExecuteTime": {
     "end_time": "2021-07-27T04:43:34.897520Z",
     "start_time": "2021-07-27T04:43:34.892602Z"
    },
    "hidden": true
   },
   "outputs": [],
   "source": [
    "class Solution:\n",
    "    def minDepth(self, root: BinaryTree) -> int:\n",
    "        def dfs(node):\n",
    "            if not node:\n",
    "                return 0\n",
    "            if not node.left and not node.right:\n",
    "                return 1\n",
    "            minDepth = 10**9\n",
    "            if node.left:\n",
    "                left = dfs(node.left)   # 🍓🍓🍓因为dfs递归没有返回值，是None\n",
    "                self.depth = min(left, self.depth)+1\n",
    "            if node.right:\n",
    "                right = dfs(node.right)\n",
    "                self.depth = min(right, self.depth)+1\n",
    "            # return depth       # 🍓🍓🍓没有返回值，即无值参与参数传递\n",
    "        self.depth = 0\n",
    "        return dfs(root)\n"
   ]
  },
  {
   "cell_type": "markdown",
   "metadata": {
    "hidden": true
   },
   "source": [
    "dfs单一输入参数\n",
    "\n",
    "分步写法更符合递归三部曲的内容"
   ]
  },
  {
   "cell_type": "code",
   "execution_count": 508,
   "metadata": {
    "ExecuteTime": {
     "end_time": "2021-07-06T01:38:10.682120Z",
     "start_time": "2021-07-06T01:38:10.677214Z"
    },
    "hidden": true
   },
   "outputs": [],
   "source": [
    "class Solution:\n",
    "    def minDepth(self, root: TreeNode) -> int:\n",
    "        def dfs(node):\n",
    "            if not node: return 0        # 出口\n",
    "            leftDepth  = dfs(node.left)  \n",
    "            rightDepth = dfs(node.right)\n",
    "            if not node.left and node.right: return rightDepth + 1  # 单层递归逻辑\n",
    "            if node.left and not node.right: return leftDepth  + 1\n",
    "            result = min(leftDepth, rightDepth) + 1\n",
    "            return result\n",
    "        if not root: return 0\n",
    "        return dfs(root)"
   ]
  },
  {
   "cell_type": "code",
   "execution_count": 102,
   "metadata": {
    "ExecuteTime": {
     "end_time": "2021-07-27T12:37:53.948184Z",
     "start_time": "2021-07-27T12:37:53.941978Z"
    },
    "code_folding": [],
    "hidden": true
   },
   "outputs": [],
   "source": [
    "class BinaryTree():\n",
    "    def __init__(self, val, left, right):\n",
    "        self.val = val\n",
    "        self.left = left\n",
    "        self.right = right\n",
    "\n",
    "bt1 = BinaryTree(1, None, None)\n",
    "bt2 = BinaryTree(2, None, None)\n",
    "bt3 = BinaryTree(3, None, None)\n",
    "bt4 = BinaryTree(4, None, None)\n",
    "bt5 = BinaryTree(5, None, None)\n",
    "bt6 = BinaryTree(6, None, None)\n",
    "bt7 = BinaryTree(7, None, None)\n",
    "bt8 = BinaryTree(8, None, None)\n",
    "\n",
    "bt1.left = bt2\n",
    "bt2.left = bt3\n",
    "bt3.left  = bt4\n",
    "bt4.right = bt5"
   ]
  },
  {
   "cell_type": "markdown",
   "metadata": {
    "heading_collapsed": true,
    "hidden": true
   },
   "source": [
    "#### BFS: 迭代\n",
    "🍓当处理叶子节点（当前节点没有左右孩子）是直接返回depth"
   ]
  },
  {
   "cell_type": "code",
   "execution_count": 104,
   "metadata": {
    "ExecuteTime": {
     "end_time": "2021-07-27T12:38:03.123291Z",
     "start_time": "2021-07-27T12:38:03.118171Z"
    },
    "hidden": true
   },
   "outputs": [],
   "source": [
    "class Solution:\n",
    "    def minDepth(self, root: TreeNode) -> int:\n",
    "        depth = 0\n",
    "        dq = deque()\n",
    "        dq.append(root)\n",
    "        while dq:\n",
    "            depth += 1\n",
    "            for i in range(len(dq)):\n",
    "                cur = dq.popleft()\n",
    "                if not cur.left and not cur.right: \n",
    "                    return depth\n",
    "                if cur.left:\n",
    "                    dq.append(cur.left)\n",
    "                if cur.right:\n",
    "                    dq.append(cur.right)\n",
    "        return depth"
   ]
  },
  {
   "cell_type": "markdown",
   "metadata": {
    "heading_collapsed": true,
    "hidden": true
   },
   "source": [
    "### 222. 完全二叉树的节点个数\n"
   ]
  },
  {
   "cell_type": "markdown",
   "metadata": {
    "hidden": true
   },
   "source": [
    "1. 递归统计所有节点，适用任意普通二叉树。时间复杂度:$O(N)$，空间复杂度:$O(logN)$\n",
    "2. 递归寻找所有**满二叉子树**，完美二叉树由满二叉树和独立节点组成。🍓时间复杂度:$O((logN)^2)$，空间复杂度:$O(logN)$"
   ]
  },
  {
   "cell_type": "markdown",
   "metadata": {
    "hidden": true
   },
   "source": [
    "#### DFS: 递归"
   ]
  },
  {
   "cell_type": "markdown",
   "metadata": {
    "hidden": true
   },
   "source": [
    "##### 方法1\n",
    "后序遍历，单层循环逻辑同#111"
   ]
  },
  {
   "cell_type": "code",
   "execution_count": 9,
   "metadata": {
    "ExecuteTime": {
     "end_time": "2021-07-30T07:49:44.917021Z",
     "start_time": "2021-07-30T07:49:44.912395Z"
    },
    "hidden": true
   },
   "outputs": [],
   "source": [
    "class Solution:\n",
    "    def countNodes(self, root: BinaryTree) -> int:\n",
    "        def dfs(node, count):\n",
    "            if not node: return 0\n",
    "            left  = dfs(node.left, count)   # 左\n",
    "            right = dfs(node.right, count)  # 右\n",
    "            count = left + right + 1        # 中：左右节点+当前节点\n",
    "            return count\n",
    "        if not root: return 0\n",
    "        return dfs(root, 0)"
   ]
  },
  {
   "cell_type": "markdown",
   "metadata": {
    "heading_collapsed": true,
    "hidden": true
   },
   "source": [
    "##### 方法2"
   ]
  },
  {
   "cell_type": "code",
   "execution_count": 25,
   "metadata": {
    "ExecuteTime": {
     "end_time": "2021-07-30T07:55:24.099299Z",
     "start_time": "2021-07-30T07:55:24.093637Z"
    },
    "hidden": true
   },
   "outputs": [],
   "source": [
    "class Solution:\n",
    "    def countNodes(self, root: BinaryTree) -> int:\n",
    "        def dfs(node):\n",
    "            if not node: return 0\n",
    "            \n",
    "            leftNode, leftDepth = node, 1\n",
    "            while leftNode.left:\n",
    "                leftDepth += 1\n",
    "                leftNode = leftNode.left\n",
    "            rightNode, rightDepth = node, 1\n",
    "            while rightNode.right:\n",
    "                rightDepth += 1\n",
    "                rightNode = rightNode.right\n",
    "            \n",
    "            if leftDepth == rightDepth: return 2**leftDepth-1\n",
    "            else:\n",
    "                left  = dfs(node.left)\n",
    "                right = dfs(node.right)\n",
    "                return left+right+1\n",
    "        return dfs(root)"
   ]
  },
  {
   "cell_type": "markdown",
   "metadata": {
    "heading_collapsed": true,
    "hidden": true
   },
   "source": [
    "#### BFS: 迭代"
   ]
  },
  {
   "cell_type": "code",
   "execution_count": 34,
   "metadata": {
    "ExecuteTime": {
     "end_time": "2021-07-30T08:06:10.984018Z",
     "start_time": "2021-07-30T08:06:10.978650Z"
    },
    "hidden": true
   },
   "outputs": [],
   "source": [
    "from collections import deque\n",
    "class Solution:\n",
    "    def countNodes(self, root: BinaryTree) -> int:\n",
    "        if not root: return 0\n",
    "        count = 0\n",
    "        dq = deque()\n",
    "        dq.append(root)\n",
    "        while dq:\n",
    "            for _ in range(len(dq)):\n",
    "                count += 1\n",
    "                cur = dq.popleft()\n",
    "                if cur.left:  dq.append(cur.left)\n",
    "                if cur.right: dq.append(cur.right)\n",
    "        return count"
   ]
  },
  {
   "cell_type": "code",
   "execution_count": 26,
   "metadata": {
    "ExecuteTime": {
     "end_time": "2021-07-30T07:55:24.345856Z",
     "start_time": "2021-07-30T07:55:24.339531Z"
    },
    "hidden": true
   },
   "outputs": [],
   "source": [
    "class BinaryTree():\n",
    "    def __init__(self, val, left, right):\n",
    "        self.val = val\n",
    "        self.left = left\n",
    "        self.right = right\n",
    "\n",
    "bt1 = BinaryTree(1, None, None)\n",
    "bt2 = BinaryTree(2, None, None)\n",
    "bt3 = BinaryTree(3, None, None)\n",
    "bt4 = BinaryTree(4, None, None)\n",
    "bt5 = BinaryTree(5, None, None)\n",
    "bt6 = BinaryTree(6, None, None)\n",
    "bt7 = BinaryTree(7, None, None)\n",
    "bt8 = BinaryTree(8, None, None)\n",
    "\n",
    "bt1.left, bt1.right = bt2, bt3\n",
    "bt2.left, bt2.right = bt4, bt5\n",
    "bt3.left, bt3.right = bt6, bt7\n",
    "\n",
    "bt4.left = bt8"
   ]
  },
  {
   "cell_type": "code",
   "execution_count": 35,
   "metadata": {
    "ExecuteTime": {
     "end_time": "2021-07-30T08:06:11.137937Z",
     "start_time": "2021-07-30T08:06:11.134291Z"
    },
    "hidden": true
   },
   "outputs": [
    {
     "data": {
      "text/plain": [
       "8"
      ]
     },
     "execution_count": 35,
     "metadata": {},
     "output_type": "execute_result"
    }
   ],
   "source": [
    "a = Solution()\n",
    "res = a.countNodes(bt1)\n",
    "res"
   ]
  },
  {
   "cell_type": "markdown",
   "metadata": {
    "heading_collapsed": true,
    "hidden": true
   },
   "source": [
    "### 110. 平衡二叉树\n",
    "🍓了解求二叉树深度和二叉树高度的差异。\n",
    "\n",
    "🍓求深度适合用前序遍历，而求高度适合用后序遍历。因为求深度可以从上到下去查 所以需要前序遍历(中左右)，而高度只能从下到上去查，所以只能后序遍历(左右 中)"
   ]
  },
  {
   "cell_type": "markdown",
   "metadata": {
    "hidden": true
   },
   "source": [
    "* 二叉树节点的深度:指从根节点到该节点的最⻓简单路径边的条数。\n",
    "* 二叉树节点的高度:指从该节点到叶子节点的最⻓简单路径边的条数。"
   ]
  },
  {
   "cell_type": "markdown",
   "metadata": {
    "hidden": true
   },
   "source": [
    "step1. 计算高度"
   ]
  },
  {
   "cell_type": "code",
   "execution_count": null,
   "metadata": {
    "hidden": true
   },
   "outputs": [],
   "source": [
    "class Solution(object):\n",
    "    def maxDepth(self, root):\n",
    "            if not root: return 0\n",
    "            return max(self.maxDepth(root.left), self.maxDepth(root.right))+1\n",
    "    def isBalanced(self, root):\n",
    "        if not root: return True\n",
    "        return abs(self.maxDepth(root.left)-self.maxDepth(root.right)) <= 1 and self.isBalanced(root.left) and self.isBalanced(root.right)"
   ]
  },
  {
   "cell_type": "markdown",
   "metadata": {
    "hidden": true
   },
   "source": [
    "step2. 判断是否为平衡二叉树"
   ]
  },
  {
   "cell_type": "code",
   "execution_count": 23,
   "metadata": {
    "ExecuteTime": {
     "end_time": "2021-07-07T12:45:58.701889Z",
     "start_time": "2021-07-07T12:45:58.696687Z"
    },
    "hidden": true
   },
   "outputs": [],
   "source": [
    "class Solution:\n",
    "    def isBalanced(self, root: BinaryTree) -> bool:\n",
    "        def dfs(node):\n",
    "            if not node: return 0\n",
    "            leftDepth = dfs(node.left)\n",
    "            if leftDepth == -1:  return -1\n",
    "            rightDepth = dfs(node.right)\n",
    "            if rightDepth == -1: return -1\n",
    "            print(leftDepth, rightDepth)\n",
    "            return max(leftDepth, rightDepth)+1 if abs(leftDepth-rightDepth)<=1 else -1\n",
    "        if not root: return True\n",
    "        return True if dfs(root)>0 else False\n",
    "        "
   ]
  },
  {
   "cell_type": "code",
   "execution_count": 46,
   "metadata": {
    "ExecuteTime": {
     "end_time": "2021-08-01T08:16:33.769431Z",
     "start_time": "2021-08-01T08:16:33.762919Z"
    },
    "hidden": true
   },
   "outputs": [],
   "source": [
    "class BinaryTree():\n",
    "    def __init__(self, val, left, right):\n",
    "        self.val = val\n",
    "        self.left = left\n",
    "        self.right = right\n",
    "\n",
    "bt1 = BinaryTree(1, None, None)\n",
    "bt2 = BinaryTree(2, None, None)\n",
    "bt3 = BinaryTree(3, None, None)\n",
    "bt4 = BinaryTree(4, None, None)\n",
    "bt5 = BinaryTree(5, None, None)\n",
    "bt6 = BinaryTree(6, None, None)\n",
    "bt7 = BinaryTree(7, None, None)\n",
    "bt8 = BinaryTree(8, None, None)\n",
    "\n",
    "bt1.left, bt1.right = bt2, bt3\n",
    "bt2.left, bt2.right = bt4, bt5\n",
    "bt3.left, bt3.right = bt6, bt7\n",
    "\n",
    "# bt6.left = bt8\n"
   ]
  },
  {
   "cell_type": "code",
   "execution_count": 47,
   "metadata": {
    "ExecuteTime": {
     "end_time": "2021-08-01T08:16:34.021096Z",
     "start_time": "2021-08-01T08:16:34.017594Z"
    },
    "hidden": true
   },
   "outputs": [
    {
     "data": {
      "text/plain": [
       "True"
      ]
     },
     "execution_count": 47,
     "metadata": {},
     "output_type": "execute_result"
    }
   ],
   "source": [
    "a = Solution()\n",
    "res = a.isBalanced(bt1)\n",
    "res"
   ]
  },
  {
   "cell_type": "markdown",
   "metadata": {
    "heading_collapsed": true,
    "hidden": true
   },
   "source": [
    "### 257. 二叉树的所有路径\n",
    "给定一个二叉树，返回所有从根节点到叶子节点的路径。"
   ]
  },
  {
   "cell_type": "markdown",
   "metadata": {
    "hidden": true
   },
   "source": [
    "出口条件的两种写法"
   ]
  },
  {
   "cell_type": "markdown",
   "metadata": {
    "hidden": true
   },
   "source": [
    "1. 出口条件为叶子节点"
   ]
  },
  {
   "cell_type": "code",
   "execution_count": 46,
   "metadata": {
    "ExecuteTime": {
     "end_time": "2021-09-23T03:14:41.906303Z",
     "start_time": "2021-09-23T03:14:41.900170Z"
    },
    "hidden": true
   },
   "outputs": [],
   "source": [
    "class Solution:\n",
    "    def binaryTreePaths(self, root: BinaryTree) -> List[str]:\n",
    "        def dfs(node):\n",
    "            if not node.left and not node.right:\n",
    "                tmp.append(node.val)\n",
    "                res.append('->'.join(str(i) for i in tmp))\n",
    "                return\n",
    "            tmp.append(node.val)  # pre-order：先处理当前节点\n",
    "            if node.left:\n",
    "                dfs(node.left)    # 递归\n",
    "                tmp.pop()         # 回溯紧跟递归\n",
    "            if node.right:\n",
    "                dfs(node.right)\n",
    "                tmp.pop()\n",
    "            return \n",
    "        if not root: return []\n",
    "        res, tmp = [], []\n",
    "        dfs(root)\n",
    "        return res"
   ]
  },
  {
   "cell_type": "markdown",
   "metadata": {
    "hidden": true
   },
   "source": [
    "2. 出口条件为空节点"
   ]
  },
  {
   "cell_type": "code",
   "execution_count": 63,
   "metadata": {
    "ExecuteTime": {
     "end_time": "2021-08-01T11:38:02.549401Z",
     "start_time": "2021-08-01T11:38:02.543497Z"
    },
    "hidden": true
   },
   "outputs": [],
   "source": [
    "from typing import List\n",
    "class Solution:\n",
    "    def binaryTreePaths(self, root: BinaryTree) -> List[str]:\n",
    "        res, tmp = [], []\n",
    "        def dfs(node):\n",
    "            if not node:\n",
    "                path = \"->\".join(str(i) for i in tmp)\n",
    "                if path not in res:   # dfs left&right 会append进res两次\n",
    "                    res.append(path)\n",
    "                return \n",
    "            tmp.append(node.val)\n",
    "            dfs(node.left)\n",
    "            dfs(node.right)\n",
    "            tmp.pop()\n",
    "        dfs(root)\n",
    "        return res    "
   ]
  },
  {
   "cell_type": "code",
   "execution_count": 44,
   "metadata": {
    "ExecuteTime": {
     "end_time": "2021-09-23T03:14:18.103582Z",
     "start_time": "2021-09-23T03:14:18.098714Z"
    },
    "hidden": true
   },
   "outputs": [],
   "source": [
    "class BinaryTree():\n",
    "    def __init__(self, val, left, right):\n",
    "        self.val = val\n",
    "        self.left = left\n",
    "        self.right = right\n",
    "\n",
    "bt1 = BinaryTree(1, None, None)\n",
    "bt2 = BinaryTree(2, None, None)\n",
    "bt3 = BinaryTree(3, None, None)\n",
    "bt4 = BinaryTree(4, None, None)\n",
    "bt5 = BinaryTree(5, None, None)\n",
    "bt6 = BinaryTree(6, None, None)\n",
    "bt7 = BinaryTree(7, None, None)\n",
    "bt8 = BinaryTree(8, None, None)\n",
    "\n",
    "bt1.left, bt1.right = bt2, bt3\n",
    "bt2.right = bt5"
   ]
  },
  {
   "cell_type": "code",
   "execution_count": 47,
   "metadata": {
    "ExecuteTime": {
     "end_time": "2021-09-23T03:14:46.274527Z",
     "start_time": "2021-09-23T03:14:46.269099Z"
    },
    "hidden": true
   },
   "outputs": [
    {
     "data": {
      "text/plain": [
       "['1->2->5', '1->3']"
      ]
     },
     "execution_count": 47,
     "metadata": {},
     "output_type": "execute_result"
    }
   ],
   "source": [
    "a = Solution()\n",
    "res = a.binaryTreePaths(bt1)\n",
    "res"
   ]
  },
  {
   "cell_type": "markdown",
   "metadata": {
    "hidden": true
   },
   "source": [
    "🍓join( )的用法：用于将序列中的元素以指定的字符连接生成一个新的字符串。"
   ]
  },
  {
   "cell_type": "markdown",
   "metadata": {
    "hidden": true
   },
   "source": [
    "🍓iter的用法"
   ]
  },
  {
   "cell_type": "markdown",
   "metadata": {
    "hidden": true
   },
   "source": [
    "🍓函数嵌套时的变量作用域：\n",
    "\n",
    "str&int对象：当内部函数中存在**变量定义或修改**时，由于存在歧义，该变量的作用域为local；需要在函数内部进行global声明\n",
    "\n",
    "list&dict对象：由于变量修改语句的对象是明确的，不存在歧义，该变量不需要global声明\n",
    "\n",
    "一个函数嵌套中使用全局变量的方法👇："
   ]
  },
  {
   "cell_type": "code",
   "execution_count": null,
   "metadata": {
    "hidden": true
   },
   "outputs": [],
   "source": [
    "class Solution(object):\n",
    "    def sumOfLeftLeaves(root):\n",
    "        s, t  = 0, 1\n",
    "        def dfs():\n",
    "            global s           # 内部函数声明global\n",
    "            global t\n",
    "\n",
    "            if t >= 5: return  # 出口不需要返回值\n",
    "            t += 1\n",
    "            s += t\n",
    "            dfs()\n",
    "            return s, t        # 结束递归时才传递参数\n",
    "        res = dfs()\n",
    "        return res"
   ]
  },
  {
   "cell_type": "markdown",
   "metadata": {
    "heading_collapsed": true,
    "hidden": true
   },
   "source": [
    "### 404. 左叶子之和"
   ]
  },
  {
   "cell_type": "markdown",
   "metadata": {
    "hidden": true
   },
   "source": [
    "#### DFS: 递归"
   ]
  },
  {
   "cell_type": "markdown",
   "metadata": {
    "hidden": true
   },
   "source": [
    "🍓参数传递：sumLeft"
   ]
  },
  {
   "cell_type": "code",
   "execution_count": 117,
   "metadata": {
    "ExecuteTime": {
     "end_time": "2021-08-04T11:19:05.515072Z",
     "start_time": "2021-08-04T11:19:05.509077Z"
    },
    "hidden": true
   },
   "outputs": [],
   "source": [
    "class Solution:\n",
    "    def sumOfLeftLeaves(self, root: BinaryTree) -> int:\n",
    "        self.sumLeft = 0\n",
    "        def leftLeaf(node):\n",
    "            return True if node.left and not node.left.left and not node.left.right else False\n",
    "        def dfs(node):\n",
    "            if not node: return \n",
    "            if leftLeaf(node):\n",
    "                self.sumLeft += node.left.val\n",
    "            if node.left: dfs(node.left)\n",
    "            if node.right: dfs(node.right)\n",
    "            return \n",
    "        if not root: return 0\n",
    "        dfs(root)\n",
    "        return self.sumLeft"
   ]
  },
  {
   "cell_type": "markdown",
   "metadata": {
    "hidden": true
   },
   "source": [
    "(不推荐，因为单层递归逻辑部分和框架有出入，不易理解)"
   ]
  },
  {
   "cell_type": "code",
   "execution_count": 114,
   "metadata": {
    "ExecuteTime": {
     "end_time": "2021-08-04T11:18:48.449046Z",
     "start_time": "2021-08-04T11:18:48.441522Z"
    },
    "code_folding": [],
    "hidden": true
   },
   "outputs": [],
   "source": [
    "class Solution:\n",
    "    def sumOfLeftLeaves(self, root: BinaryTree) -> int:\n",
    "        def leftLeaf(node):\n",
    "            return True if node.left and not node.left.left and not node.left.right else False\n",
    "        def dfs(node, sumLeft):\n",
    "            if not node: return sumLeft\n",
    "            if leftLeaf(node):\n",
    "                print(sumLeft, node.val)\n",
    "                sumLeft += node.left.val\n",
    "            if node.left: \n",
    "                sumLeft = dfs(node.left, sumLeft)  # 🍓注意递归函数的返回值需要赋值给sumLeft\n",
    "            if node.right: \n",
    "                sumLeft = dfs(node.right, sumLeft)\n",
    "            return sumLeft\n",
    "        if not root: return 0\n",
    "        return dfs(root, 0)"
   ]
  },
  {
   "cell_type": "code",
   "execution_count": 49,
   "metadata": {
    "ExecuteTime": {
     "end_time": "2021-09-23T03:37:41.130028Z",
     "start_time": "2021-09-23T03:37:41.123967Z"
    },
    "hidden": true
   },
   "outputs": [],
   "source": [
    "class BinaryTree():\n",
    "    def __init__(self, val, left, right):\n",
    "        self.val = val\n",
    "        self.left = left\n",
    "        self.right = right\n",
    "\n",
    "bt1 = BinaryTree(1, None, None)\n",
    "bt2 = BinaryTree(2, None, None)\n",
    "bt3 = BinaryTree(3, None, None)\n",
    "bt4 = BinaryTree(4, None, None)\n",
    "bt5 = BinaryTree(5, None, None)\n",
    "bt6 = BinaryTree(6, None, None)\n",
    "bt7 = BinaryTree(7, None, None)\n",
    "bt8 = BinaryTree(8, None, None)\n",
    "\n",
    "bt1.left, bt1.right = bt2, bt3\n",
    "bt2.left = bt4\n",
    "bt3.left = bt6\n",
    "\n",
    "# bt6.left = bt8\n"
   ]
  },
  {
   "cell_type": "code",
   "execution_count": 50,
   "metadata": {
    "ExecuteTime": {
     "end_time": "2021-09-23T03:37:41.728146Z",
     "start_time": "2021-09-23T03:37:41.723066Z"
    },
    "hidden": true
   },
   "outputs": [
    {
     "data": {
      "text/plain": [
       "10"
      ]
     },
     "execution_count": 50,
     "metadata": {},
     "output_type": "execute_result"
    }
   ],
   "source": [
    "a = Solution()\n",
    "res = a.sumOfLeftLeaves(bt1)\n",
    "res"
   ]
  },
  {
   "cell_type": "markdown",
   "metadata": {
    "heading_collapsed": true,
    "hidden": true
   },
   "source": [
    "#### DFS: 迭代"
   ]
  },
  {
   "cell_type": "code",
   "execution_count": 30,
   "metadata": {
    "ExecuteTime": {
     "end_time": "2021-07-14T12:25:01.157608Z",
     "start_time": "2021-07-14T12:25:01.150690Z"
    },
    "hidden": true
   },
   "outputs": [],
   "source": [
    "from collections import deque\n",
    "class Solution:\n",
    "    def sumOfLeftLeaves(self, root: BinaryTree) -> int:\n",
    "        def leftLeaf(bt):\n",
    "            return True if bt.left and not bt.left.left and not bt.left.right else False\n",
    "        if not root: return 0\n",
    "        tmp = deque()\n",
    "        tmp.append(root)\n",
    "        sumOfLeft = 0\n",
    "        while tmp:\n",
    "            for _ in list(tmp):\n",
    "                cur = tmp.popleft()\n",
    "                if leftLeaf(cur): \n",
    "                    print(cur.left.val)\n",
    "                    sumOfLeft += cur.left.val\n",
    "                if cur.left:  tmp.append(cur.left)\n",
    "                if cur.right: tmp.append(cur.right)\n",
    "        return sumOfLeft"
   ]
  },
  {
   "cell_type": "code",
   "execution_count": 31,
   "metadata": {
    "ExecuteTime": {
     "end_time": "2021-07-14T12:25:01.320314Z",
     "start_time": "2021-07-14T12:25:01.316806Z"
    },
    "hidden": true
   },
   "outputs": [
    {
     "name": "stdout",
     "output_type": "stream",
     "text": [
      "4\n",
      "6\n"
     ]
    },
    {
     "data": {
      "text/plain": [
       "10"
      ]
     },
     "execution_count": 31,
     "metadata": {},
     "output_type": "execute_result"
    }
   ],
   "source": [
    "a = Solution()\n",
    "res = a.sumOfLeftLeaves(bt1)\n",
    "res"
   ]
  },
  {
   "cell_type": "markdown",
   "metadata": {
    "heading_collapsed": true,
    "hidden": true
   },
   "source": [
    "### 513. 找树左下角的值"
   ]
  },
  {
   "cell_type": "markdown",
   "metadata": {
    "hidden": true
   },
   "source": [
    "1. DFS: 递归"
   ]
  },
  {
   "cell_type": "markdown",
   "metadata": {
    "hidden": true
   },
   "source": [
    "✏️最后一行：最大深度-》回溯/高度的区别"
   ]
  },
  {
   "cell_type": "code",
   "execution_count": 51,
   "metadata": {
    "ExecuteTime": {
     "end_time": "2021-09-23T06:53:25.091858Z",
     "start_time": "2021-09-23T06:53:25.086260Z"
    },
    "hidden": true
   },
   "outputs": [],
   "source": [
    "class Solution:\n",
    "    def findBottomLeftValue(self, root: BinaryTree) -> int:\n",
    "        def leafNode(bt):\n",
    "            return True if not bt.left and not bt.right else False\n",
    "        self.maxDepth, self.curDepth = 0, 0\n",
    "        self.bottomLeft = None\n",
    "        \n",
    "        def dfs(bt):\n",
    "            if not root: return\n",
    "#             print(bt.val, curDepth, maxDepth)\n",
    "            if self.curDepth >= self.maxDepth:\n",
    "                \n",
    "                self.maxDepth = self.curDepth\n",
    "                self.bottomLeft = bt\n",
    "                print('-', self.bottomLeft.val, self.curDepth, self.maxDepth)\n",
    "            if bt.right:\n",
    "                self.curDepth += 1\n",
    "                dfs(bt.right)\n",
    "                self.curDepth -= 1\n",
    "                \n",
    "            if bt.left:\n",
    "                self.curDepth += 1\n",
    "                dfs(bt.left)\n",
    "                self.curDepth -= 1\n",
    "            return self.bottomLeft.val\n",
    "        return dfs(root)"
   ]
  },
  {
   "cell_type": "code",
   "execution_count": 56,
   "metadata": {
    "ExecuteTime": {
     "end_time": "2021-09-23T07:03:54.264811Z",
     "start_time": "2021-09-23T07:03:54.259495Z"
    },
    "hidden": true
   },
   "outputs": [
    {
     "data": {
      "text/plain": [
       "4"
      ]
     },
     "execution_count": 56,
     "metadata": {},
     "output_type": "execute_result"
    }
   ],
   "source": [
    "a = Solution()\n",
    "res = a.findBottomLeftValue(bt1)\n",
    "res"
   ]
  },
  {
   "cell_type": "markdown",
   "metadata": {
    "hidden": true
   },
   "source": [
    "2. DFS: 迭代"
   ]
  },
  {
   "cell_type": "code",
   "execution_count": 50,
   "metadata": {
    "ExecuteTime": {
     "end_time": "2021-07-14T12:32:28.953982Z",
     "start_time": "2021-07-14T12:32:28.948332Z"
    },
    "hidden": true
   },
   "outputs": [],
   "source": [
    "class Solution:\n",
    "    def findBottomLeftValue(self, root: BinaryTree) -> int:\n",
    "        def leafNode(bt):\n",
    "            return True if not bt.left and not bt.right else False\n",
    "        tmp = deque()\n",
    "        tmp.append(root)\n",
    "        bottomLeft = root.val\n",
    "        while tmp:\n",
    "            for i in range(len(tmp)):               \n",
    "                cur = tmp.popleft()\n",
    "                if i == 0: \n",
    "                    bottomLeft = cur.val\n",
    "                if cur.left:  tmp.append(cur.left)\n",
    "                if cur.right: tmp.append(cur.right)\n",
    "        return bottomLeft"
   ]
  },
  {
   "cell_type": "markdown",
   "metadata": {
    "heading_collapsed": true,
    "hidden": true
   },
   "source": [
    "### 112. 路径总和\n",
    "给你二叉树的根节点 root 和一个表示目标和的整数 targetSum ，判断该树中**是否存在**根节点到叶子节点的路径，这条路径上所有节点值相加等于目标和 targetSum。"
   ]
  },
  {
   "cell_type": "markdown",
   "metadata": {
    "hidden": true
   },
   "source": [
    "🍓🍓🍓如果需要搜索整颗二叉树，那么递归函数就不要返回值，如果要搜索其中一条符合条件的路径，递归函数就需要返回值，因为遇到符合条件的路径了就要及时返回。\n"
   ]
  },
  {
   "cell_type": "code",
   "execution_count": 180,
   "metadata": {
    "ExecuteTime": {
     "end_time": "2021-08-08T03:12:31.625854Z",
     "start_time": "2021-08-08T03:12:31.619112Z"
    },
    "hidden": true
   },
   "outputs": [],
   "source": [
    "class Solution:\n",
    "    \n",
    "    def hasPathSum(self, root: BinaryTree, targetSum: int) -> bool:\n",
    "        res, tmp = [], []\n",
    "        s = targetSum\n",
    "        def dfs(node, tmp, s):\n",
    "            if not node.left and not node.right:\n",
    "                return True if s==0 else False\n",
    "            if node.left:\n",
    "                s -= node.left.val\n",
    "                if dfs(node.left, tmp, s): return True\n",
    "                s += node.left.val\n",
    "                \n",
    "            if node.right:\n",
    "                s -= node.right.val\n",
    "                if dfs(node.right, tmp, s): return False\n",
    "                s += node.right.val\n",
    "            return False\n",
    "        if not root: return False\n",
    "        return dfs(root, tmp, s-root.val)"
   ]
  },
  {
   "cell_type": "code",
   "execution_count": 29,
   "metadata": {
    "ExecuteTime": {
     "end_time": "2021-08-22T03:49:21.289028Z",
     "start_time": "2021-08-22T03:49:21.283252Z"
    },
    "hidden": true
   },
   "outputs": [],
   "source": [
    "class BinaryTree():\n",
    "    def __init__(self, val, left, right):\n",
    "        self.val = val\n",
    "        self.left = left\n",
    "        self.right = right\n",
    "\n",
    "bt1 = BinaryTree(1, None, None)\n",
    "bt2 = BinaryTree(2, None, None)\n",
    "bt3 = BinaryTree(3, None, None)\n",
    "bt4 = BinaryTree(4, None, None)\n",
    "bt5 = BinaryTree(5, None, None)\n",
    "bt6 = BinaryTree(6, None, None)\n",
    "bt7 = BinaryTree(7, None, None)\n",
    "bt8 = BinaryTree(8, None, None)\n",
    "\n",
    "bt1.left, bt1.right = bt2, bt3\n",
    "bt2.left = bt4\n",
    "bt3.left = bt6\n",
    "\n",
    "# bt6.left = bt8\n"
   ]
  },
  {
   "cell_type": "code",
   "execution_count": 62,
   "metadata": {
    "ExecuteTime": {
     "end_time": "2021-09-23T09:07:27.362797Z",
     "start_time": "2021-09-23T09:07:27.357062Z"
    },
    "hidden": true
   },
   "outputs": [
    {
     "name": "stdout",
     "output_type": "stream",
     "text": [
      "[1, 2, 4]\n",
      "[1, 3, 3]\n"
     ]
    },
    {
     "data": {
      "text/plain": [
       "[[1, 2, 4], [1, 3, 3]]"
      ]
     },
     "execution_count": 62,
     "metadata": {},
     "output_type": "execute_result"
    }
   ],
   "source": [
    "a = Solution()\n",
    "res = a.hasPathSum(bt1, 7)\n",
    "res"
   ]
  },
  {
   "cell_type": "markdown",
   "metadata": {
    "hidden": true
   },
   "source": [
    "简化版本：\n",
    "\n",
    "🍓使用出口条件`if not bt: return False`用于分支`bt.left或bt.right不存在时`回溯；用or连接，只要一个分支满足条件就返回True"
   ]
  },
  {
   "cell_type": "code",
   "execution_count": 220,
   "metadata": {
    "ExecuteTime": {
     "end_time": "2021-07-17T03:49:27.723362Z",
     "start_time": "2021-07-17T03:49:27.718830Z"
    },
    "hidden": true
   },
   "outputs": [],
   "source": [
    "class Solution:\n",
    "    def hasPathSum(self, root: BinaryTree, targetSum: int) -> bool:\n",
    "        if not root: return False\n",
    "        leftSum = targetSum\n",
    "        \n",
    "        def dfs(bt, leftSum):\n",
    "            if not bt: return False\n",
    "            if not bt.left and not bt.right:\n",
    "                return leftSum == 0 \n",
    "            \n",
    "            return dfs(bt.left, leftSum-bt.val) or dfs(bt.right, leftSum-bt.val)\n",
    "        \n",
    "        return dfs(root, leftSum)"
   ]
  },
  {
   "cell_type": "markdown",
   "metadata": {
    "hidden": true
   },
   "source": [
    "简化版本II：\n"
   ]
  },
  {
   "cell_type": "code",
   "execution_count": 241,
   "metadata": {
    "ExecuteTime": {
     "end_time": "2021-07-17T04:36:15.166873Z",
     "start_time": "2021-07-17T04:36:15.163500Z"
    },
    "hidden": true
   },
   "outputs": [],
   "source": [
    "class Solution(object):\n",
    "    def hasPathSum(self, root, sum):\n",
    "        if not root: return False\n",
    "        if not root.left and not root.right:\n",
    "            return sum == root.val\n",
    "        return self.hasPathSum(root.left, sum - root.val) or self.hasPathSum(root.right, sum - root.val)\n"
   ]
  },
  {
   "cell_type": "markdown",
   "metadata": {
    "heading_collapsed": true,
    "hidden": true
   },
   "source": [
    "### 113. 路径总和 II\n",
    "给你二叉树的根节点 root 和一个整数目标和 targetSum ，找出所有 从根节点到叶子节点 路径总和等于给定目标和的路径。"
   ]
  },
  {
   "cell_type": "code",
   "execution_count": 15,
   "metadata": {
    "ExecuteTime": {
     "end_time": "2021-08-22T03:47:47.502932Z",
     "start_time": "2021-08-22T03:47:47.495132Z"
    },
    "hidden": true
   },
   "outputs": [],
   "source": [
    "class Solution(object):\n",
    "    def pathSum(self, root: BinaryTree, targetSum: int) -> List[List[int]]:\n",
    "        res, tmp = [], []\n",
    "        s = targetSum\n",
    "        def dfs(node, tmp, s):\n",
    "            if not node.left and not node.right:  # 🍓递归逻辑里预判了左右节点，所以出口条件是叶子节点\n",
    "                if s == 0: \n",
    "                    res.append(tmp.copy())\n",
    "                return                   # 需要遍历所有路径，所以不需要有返回值\n",
    "            # 🍓不能合并left和right中递归逻辑，\n",
    "            # 因为递归到左边叶子节点的left结束直接进行right的运算，不会跳到这里重新append\n",
    "            # tmp.append(node.val)         \n",
    "            # s -= node.val\n",
    "            if node.left:                  # 由于需要处理node.left.val，所以需要预判left是否存在\n",
    "                tmp.append(node.left.val)\n",
    "                s -= node.left.val\n",
    "                left = dfs(node.left, tmp, s)\n",
    "                tmp.pop()\n",
    "                s += node.left.val\n",
    "            if node.right:\n",
    "                tmp.append(node.right.val)\n",
    "                s -= node.right.val\n",
    "                right = dfs(node.right, tmp, s)\n",
    "                tmp.pop()\n",
    "                s += node.right.val\n",
    "            return res\n",
    "        if not root: return []\n",
    "        tmp.append(root.val)               # 🍓首先处理根节点\n",
    "        return dfs(root, tmp, s-root.val)\n"
   ]
  },
  {
   "cell_type": "code",
   "execution_count": 58,
   "metadata": {
    "ExecuteTime": {
     "end_time": "2021-09-23T08:24:28.407895Z",
     "start_time": "2021-09-23T08:24:28.401246Z"
    },
    "hidden": true
   },
   "outputs": [],
   "source": [
    "class BinaryTree():\n",
    "    def __init__(self, val, left, right):\n",
    "        self.val = val\n",
    "        self.left = left\n",
    "        self.right = right\n",
    "\n",
    "bt1 = BinaryTree(1, None, None)\n",
    "bt2 = BinaryTree(2, None, None)\n",
    "bt3 = BinaryTree(3, None, None)\n",
    "bt4 = BinaryTree(4, None, None)\n",
    "bt5 = BinaryTree(5, None, None)\n",
    "bt6 = BinaryTree(3, None, None)\n",
    "bt7 = BinaryTree(7, None, None)\n",
    "bt8 = BinaryTree(8, None, None)\n",
    "\n",
    "bt1.left, bt1.right = bt2, bt3\n",
    "bt2.left = bt4\n",
    "bt3.left = bt6\n",
    "\n",
    "# bt6.left = bt8\n"
   ]
  },
  {
   "cell_type": "code",
   "execution_count": 59,
   "metadata": {
    "ExecuteTime": {
     "end_time": "2021-09-23T08:24:29.179448Z",
     "start_time": "2021-09-23T08:24:29.174132Z"
    },
    "hidden": true
   },
   "outputs": [
    {
     "data": {
      "text/plain": [
       "[[1, 2, 4], [1, 3, 3]]"
      ]
     },
     "execution_count": 59,
     "metadata": {},
     "output_type": "execute_result"
    }
   ],
   "source": [
    "a = Solution()\n",
    "res = a.pathSum(bt1, 7)\n",
    "res"
   ]
  },
  {
   "cell_type": "markdown",
   "metadata": {
    "heading_collapsed": true,
    "hidden": true
   },
   "source": [
    "### 剑指 Offer 34. 二叉树中和为某一值的路径"
   ]
  },
  {
   "cell_type": "markdown",
   "metadata": {
    "hidden": true
   },
   "source": [
    "同题#113"
   ]
  },
  {
   "cell_type": "code",
   "execution_count": 60,
   "metadata": {
    "ExecuteTime": {
     "end_time": "2021-09-23T08:26:34.969523Z",
     "start_time": "2021-09-23T08:26:34.963586Z"
    },
    "hidden": true
   },
   "outputs": [],
   "source": [
    "class Solution:\n",
    "    def pathSum(self, root: BinaryTree, target: int) -> List[List[int]]:\n",
    "        def dfs(node, target):\n",
    "            if not node.left and not node.right:\n",
    "                if target == 0:\n",
    "                    res.append(tmp.copy())\n",
    "            if node.left:\n",
    "                tmp.append(node.left.val)\n",
    "                dfs(node.left, target-node.left.val)\n",
    "                tmp.pop()\n",
    "            if node.right:\n",
    "                tmp.append(node.right.val)\n",
    "                dfs(node.right, target-node.right.val)\n",
    "                tmp.pop()\n",
    "            return res\n",
    "        if not root: return []\n",
    "        res, tmp = [], []\n",
    "        tmp.append(root.val)\n",
    "        dfs(root, target-root.val)\n",
    "        return res"
   ]
  },
  {
   "cell_type": "markdown",
   "metadata": {
    "heading_collapsed": true
   },
   "source": [
    "## 二叉树的修改与构造"
   ]
  },
  {
   "cell_type": "markdown",
   "metadata": {
    "heading_collapsed": true,
    "hidden": true
   },
   "source": [
    "### 105. 从前序与中序遍历序列构造二叉树"
   ]
  },
  {
   "cell_type": "code",
   "execution_count": 215,
   "metadata": {
    "ExecuteTime": {
     "end_time": "2021-08-08T09:10:45.821357Z",
     "start_time": "2021-08-08T09:10:45.815263Z"
    },
    "hidden": true
   },
   "outputs": [],
   "source": [
    "class Solution:\n",
    "    def buildTree(self, preorder: List[int], inorder: List[int]) -> TreeNode:\n",
    "        if len(preorder)==0 and len(inorder)==0:\n",
    "            return None   # 需要返回值\n",
    "        val = preorder[0]\n",
    "        idx = inorder.index(val)\n",
    "        left_pre, right_pre = preorder[1:idx+1], preorder[idx+1:]\n",
    "        left_in, right_in = inorder[:idx], inorder[idx+1:]\n",
    "        root = TreeNode(val=val)\n",
    "        root.left = self.buildTree(left_pre, left_in)\n",
    "        root.right = self.buildTree(right_pre, right_in)\n",
    "        return root"
   ]
  },
  {
   "cell_type": "code",
   "execution_count": 216,
   "metadata": {
    "ExecuteTime": {
     "end_time": "2021-08-08T09:10:46.544917Z",
     "start_time": "2021-08-08T09:10:46.539890Z"
    },
    "hidden": true
   },
   "outputs": [
    {
     "data": {
      "text/plain": [
       "3"
      ]
     },
     "execution_count": 216,
     "metadata": {},
     "output_type": "execute_result"
    }
   ],
   "source": [
    "preorder = [3, 9, 20, 15, 7]\n",
    "inorder  = [9, 3, 15, 20, 7]\n",
    "a = Solution()\n",
    "res = a.buildTree(preorder, inorder)\n",
    "res.val"
   ]
  },
  {
   "cell_type": "markdown",
   "metadata": {
    "heading_collapsed": true,
    "hidden": true
   },
   "source": [
    "### 106. 从中序与后序遍历序列构造二叉树"
   ]
  },
  {
   "cell_type": "code",
   "execution_count": 209,
   "metadata": {
    "ExecuteTime": {
     "end_time": "2021-08-08T08:58:19.546226Z",
     "start_time": "2021-08-08T08:58:19.539927Z"
    },
    "hidden": true
   },
   "outputs": [],
   "source": [
    "class TreeNode:\n",
    "    def __init__(self, val=0, left=None, right=None):\n",
    "        self.val = val\n",
    "        self.left = left\n",
    "        self.right = right\n",
    "\n",
    "class Solution:\n",
    "    def buildTree(self, inorder: List[int], postorder: List[int]) -> TreeNode:\n",
    "        if len(inorder)==0 and len(postorder)==0:\n",
    "            return None\n",
    "        val = postorder[-1]\n",
    "        idx = inorder.index(val)\n",
    "        left_in, right_in = inorder[:idx], inorder[idx+1:]\n",
    "        left_post, right_post = postorder[:idx], postorder[idx:-1]\n",
    "        \n",
    "        root = TreeNode(val=val)\n",
    "        root.left = self.buildTree(left_in, left_post)\n",
    "        root.right = self.buildTree(right_in, right_post)\n",
    "        return root"
   ]
  },
  {
   "cell_type": "code",
   "execution_count": 212,
   "metadata": {
    "ExecuteTime": {
     "end_time": "2021-08-08T08:59:42.325996Z",
     "start_time": "2021-08-08T08:59:42.320088Z"
    },
    "hidden": true
   },
   "outputs": [
    {
     "data": {
      "text/plain": [
       "15"
      ]
     },
     "execution_count": 212,
     "metadata": {},
     "output_type": "execute_result"
    }
   ],
   "source": [
    "inorder   = [9, 3, 15, 20, 7]\n",
    "postorder = [9, 15, 7, 20, 3]\n",
    "a = Solution()\n",
    "res = a.buildTree(inorder, postorder)\n",
    "res.right.left.val"
   ]
  },
  {
   "cell_type": "markdown",
   "metadata": {
    "heading_collapsed": true
   },
   "source": [
    "## 二叉搜索树\n"
   ]
  },
  {
   "cell_type": "markdown",
   "metadata": {
    "heading_collapsed": true,
    "hidden": true
   },
   "source": [
    "### 剑指 Offer 54. 二叉搜索树的第k大节点"
   ]
  },
  {
   "cell_type": "markdown",
   "metadata": {
    "hidden": true
   },
   "source": [
    "1. "
   ]
  },
  {
   "cell_type": "code",
   "execution_count": 76,
   "metadata": {
    "ExecuteTime": {
     "end_time": "2021-08-22T04:33:56.320931Z",
     "start_time": "2021-08-22T04:33:56.316039Z"
    },
    "hidden": true
   },
   "outputs": [],
   "source": [
    "class Solution:\n",
    "    def kthLargest(self, root: TreeNode, k: int) -> int:\n",
    "        def dfs(node):\n",
    "            if not node or len(res)>=k:\n",
    "                return\n",
    "            dfs(node.right)\n",
    "            res.append(node.val)\n",
    "            dfs(node.left)\n",
    "            return res\n",
    "        res = []\n",
    "        return dfs(root)[k-1]"
   ]
  },
  {
   "cell_type": "markdown",
   "metadata": {
    "hidden": true
   },
   "source": [
    "2. "
   ]
  },
  {
   "cell_type": "code",
   "execution_count": 1,
   "metadata": {
    "ExecuteTime": {
     "end_time": "2021-08-22T08:07:04.006218Z",
     "start_time": "2021-08-22T08:07:04.001914Z"
    },
    "hidden": true
   },
   "outputs": [],
   "source": [
    "class Solution(object):\n",
    "    def kthLargest(self, root, k):\n",
    "        \n",
    "        def dfs(root):\n",
    "            # 1. exit\n",
    "            if self.k<=0 or not root: return\n",
    "            # 2. left\n",
    "            dfs(root.right)\n",
    "            # 3. main\n",
    "            self.k -= 1\n",
    "            if self.k == 0: self.res = root.val\n",
    "            # 4. right\n",
    "            dfs(root.left)\n",
    "            \n",
    "        self.k = k\n",
    "        self.res = None\n",
    "        dfs(root)\n",
    "        return self.res"
   ]
  },
  {
   "cell_type": "code",
   "execution_count": 2,
   "metadata": {
    "ExecuteTime": {
     "end_time": "2021-08-22T08:07:05.112375Z",
     "start_time": "2021-08-22T08:07:05.108825Z"
    },
    "hidden": true
   },
   "outputs": [],
   "source": [
    "class TreeNode():\n",
    "    def __init__(self, val, left, right):\n",
    "        self.val = val\n",
    "        self.left = left\n",
    "        self.right = right\n",
    "\n",
    "bt1 = TreeNode(3, None, None)\n",
    "bt2 = TreeNode(1, None, None)\n",
    "bt3 = TreeNode(4, None, None)\n",
    "bt4 = TreeNode(2, None, None)\n",
    "\n",
    "bt1.left, bt1.right = bt2, bt3\n",
    "bt2.right = bt4"
   ]
  },
  {
   "cell_type": "code",
   "execution_count": 3,
   "metadata": {
    "ExecuteTime": {
     "end_time": "2021-08-22T08:07:05.390517Z",
     "start_time": "2021-08-22T08:07:05.379828Z"
    },
    "hidden": true
   },
   "outputs": [
    {
     "data": {
      "text/plain": [
       "4"
      ]
     },
     "execution_count": 3,
     "metadata": {},
     "output_type": "execute_result"
    }
   ],
   "source": [
    "a = Solution()\n",
    "res = a.kthLargest(bt1, 1)\n",
    "res"
   ]
  },
  {
   "cell_type": "code",
   "execution_count": null,
   "metadata": {
    "hidden": true
   },
   "outputs": [],
   "source": []
  },
  {
   "cell_type": "code",
   "execution_count": null,
   "metadata": {
    "hidden": true
   },
   "outputs": [],
   "source": []
  }
 ],
 "metadata": {
  "kernelspec": {
   "display_name": "Python 3",
   "language": "python",
   "name": "python3"
  },
  "language_info": {
   "codemirror_mode": {
    "name": "ipython",
    "version": 3
   },
   "file_extension": ".py",
   "mimetype": "text/x-python",
   "name": "python",
   "nbconvert_exporter": "python",
   "pygments_lexer": "ipython3",
   "version": "3.8.5"
  },
  "latex_envs": {
   "LaTeX_envs_menu_present": true,
   "autoclose": false,
   "autocomplete": true,
   "bibliofile": "biblio.bib",
   "cite_by": "apalike",
   "current_citInitial": 1,
   "eqLabelWithNumbers": true,
   "eqNumInitial": 1,
   "hotkeys": {
    "equation": "Ctrl-E",
    "itemize": "Ctrl-I"
   },
   "labels_anchors": false,
   "latex_user_defs": false,
   "report_style_numbering": false,
   "user_envs_cfg": false
  },
  "varInspector": {
   "cols": {
    "lenName": 16,
    "lenType": 16,
    "lenVar": 40
   },
   "kernels_config": {
    "python": {
     "delete_cmd_postfix": "",
     "delete_cmd_prefix": "del ",
     "library": "var_list.py",
     "varRefreshCmd": "print(var_dic_list())"
    },
    "r": {
     "delete_cmd_postfix": ") ",
     "delete_cmd_prefix": "rm(",
     "library": "var_list.r",
     "varRefreshCmd": "cat(var_dic_list()) "
    }
   },
   "types_to_exclude": [
    "module",
    "function",
    "builtin_function_or_method",
    "instance",
    "_Feature"
   ],
   "window_display": false
  }
 },
 "nbformat": 4,
 "nbformat_minor": 4
}
