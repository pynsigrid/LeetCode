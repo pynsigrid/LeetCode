{
 "cells": [
  {
   "cell_type": "markdown",
   "metadata": {},
   "source": [
    "优先队列是使用堆实现的，堆的底层为一个完全二叉树。\n",
    "\n",
    "堆用于快速添加/移除最大/最小元素：add上浮，pop下沉，时间复杂度为$O(log_2N)$"
   ]
  },
  {
   "cell_type": "markdown",
   "metadata": {},
   "source": [
    "## 二叉树的实现\n",
    "链表、数组"
   ]
  },
  {
   "cell_type": "code",
   "execution_count": 2,
   "metadata": {
    "ExecuteTime": {
     "end_time": "2021-06-27T01:41:01.580887Z",
     "start_time": "2021-06-27T01:41:01.573865Z"
    }
   },
   "outputs": [],
   "source": [
    "class BinaryTree():\n",
    "    def __init__(self, val, left, right):\n",
    "        self.val = val\n",
    "        self.left = left\n",
    "        self.right = right\n",
    "\n",
    "bt1 = BinaryTree(1, None, None)\n",
    "bt2 = BinaryTree(2, None, None)\n",
    "bt3 = BinaryTree(3, None, None)\n",
    "bt4 = BinaryTree(4, None, None)\n",
    "bt5 = BinaryTree(5, None, None)\n",
    "bt6 = BinaryTree(6, None, None)\n",
    "bt7 = BinaryTree(7, None, None)\n",
    "\n",
    "bt1.left, bt1.right = bt2, bt3\n",
    "bt2.left, bt2.right = bt4, bt5\n",
    "bt3.left, bt3.right = bt6, bt7"
   ]
  },
  {
   "cell_type": "markdown",
   "metadata": {},
   "source": [
    "## 遍历方式"
   ]
  },
  {
   "cell_type": "markdown",
   "metadata": {
    "heading_collapsed": true
   },
   "source": [
    "### DFS\n",
    "使用递归实现前中后序遍历。\n",
    "\n",
    "1. 参数返回值：`in: root`\n",
    "\n",
    "2. 终止条件：没有叶子节点，即`root==None`\n",
    "\n",
    "3. 单层循环逻辑：\n",
    "\n",
    "```\n",
    "# 以中序遍历为例\n",
    "dfs(root.left)\n",
    "in_order.append(root.val)\n",
    "dfs(root.right)\n",
    "```"
   ]
  },
  {
   "cell_type": "code",
   "execution_count": 18,
   "metadata": {
    "ExecuteTime": {
     "end_time": "2021-06-27T02:07:25.588027Z",
     "start_time": "2021-06-27T02:07:25.582919Z"
    },
    "hidden": true
   },
   "outputs": [],
   "source": [
    "def inorder(binaryTree):\n",
    "    in_order = []\n",
    "    def dfs(binaryTree, in_order):\n",
    "        if not binaryTree:\n",
    "            return \n",
    "        dfs(binaryTree.left, in_order)\n",
    "        in_order.append(binaryTree.val)\n",
    "        dfs(binaryTree.right, in_order)\n",
    "        return \n",
    "    dfs(binaryTree, in_order)\n",
    "    return in_order"
   ]
  },
  {
   "cell_type": "code",
   "execution_count": 23,
   "metadata": {
    "ExecuteTime": {
     "end_time": "2021-06-27T02:08:29.739532Z",
     "start_time": "2021-06-27T02:08:29.733371Z"
    },
    "hidden": true
   },
   "outputs": [
    {
     "data": {
      "text/plain": [
       "[4, 5, 2, 6, 7, 3, 1]"
      ]
     },
     "execution_count": 23,
     "metadata": {},
     "output_type": "execute_result"
    }
   ],
   "source": [
    "post = postorder(bt1)\n",
    "post"
   ]
  },
  {
   "cell_type": "markdown",
   "metadata": {
    "heading_collapsed": true
   },
   "source": [
    "### 迭代\n",
    "1. 用stack模拟“递归”节点的过程，🍓注意处理(print)和访问节点(append in cur->left/right)的顺序\n",
    "2. ？？？使用标记法：指针标记下一个处理的节点"
   ]
  },
  {
   "cell_type": "markdown",
   "metadata": {},
   "source": [
    "### 94. 二叉树的中序遍历"
   ]
  },
  {
   "cell_type": "markdown",
   "metadata": {},
   "source": [
    "1. 递归"
   ]
  },
  {
   "cell_type": "code",
   "execution_count": 82,
   "metadata": {
    "ExecuteTime": {
     "end_time": "2021-06-27T03:05:44.881642Z",
     "start_time": "2021-06-27T03:05:44.875169Z"
    }
   },
   "outputs": [],
   "source": [
    "from typing import List\n",
    "class Solution(object):\n",
    "    def inorderTraversal(self, TreeNode):\n",
    "        def dfs(bt):\n",
    "            if not bt: return\n",
    "#             print(bt.val)\n",
    "            dfs(bt.left)\n",
    "            in_order.append(bt.val)\n",
    "            dfs(bt.right)\n",
    "            return \n",
    "        in_order = []\n",
    "#         bt = TreeNode\n",
    "        dfs(TreeNode)\n",
    "        return in_order\n",
    "    "
   ]
  },
  {
   "cell_type": "markdown",
   "metadata": {},
   "source": [
    "2. 迭代"
   ]
  },
  {
   "cell_type": "markdown",
   "metadata": {},
   "source": [
    "处理：将元素放进result数组中\n",
    "访问：遍历节点"
   ]
  },
  {
   "cell_type": "code",
   "execution_count": 57,
   "metadata": {
    "ExecuteTime": {
     "end_time": "2021-06-29T09:49:25.489738Z",
     "start_time": "2021-06-29T09:49:25.484756Z"
    }
   },
   "outputs": [],
   "source": [
    "class Solution(object):\n",
    "    def inorderTraversal(self, root):\n",
    "        inorder, tmp = [], []\n",
    "        cur = root\n",
    "        while cur or tmp:               # 模仿递归\n",
    "            if cur:\n",
    "                tmp.append(cur)\n",
    "                cur = cur.left          # 1. 通过dfs(cur.left)找到最左节点\n",
    "            else:\n",
    "                cur = tmp.pop()\n",
    "                inorder.append(cur.val) # 2. 处理中间节点\n",
    "                cur = cur.right         # 3. 访问最右节点\n",
    "        return inorder"
   ]
  },
  {
   "cell_type": "code",
   "execution_count": 58,
   "metadata": {
    "ExecuteTime": {
     "end_time": "2021-06-29T09:49:27.227767Z",
     "start_time": "2021-06-29T09:49:27.220663Z"
    }
   },
   "outputs": [],
   "source": [
    "class TreeNode:\n",
    "    def __init__(self, val=0, left=None, right=None):\n",
    "        self.val = val\n",
    "        self.left = left\n",
    "        self.right = right\n",
    "        \n",
    "bt1 = TreeNode(1, None, None)\n",
    "bt2 = TreeNode(2, None, None)\n",
    "bt3 = TreeNode(3, None, None)\n",
    "bt4 = TreeNode(4, None, None)\n",
    "bt5 = TreeNode(5, None, None)\n",
    "bt6 = TreeNode(6, None, None)\n",
    "bt7 = TreeNode(7, None, None)\n",
    "\n",
    "bt1.left, bt1.right = bt2, bt3\n",
    "bt2.left, bt2.right = bt4, bt5\n",
    "bt3.left, bt3.right = bt6, bt7\n"
   ]
  },
  {
   "cell_type": "code",
   "execution_count": 59,
   "metadata": {
    "ExecuteTime": {
     "end_time": "2021-06-29T09:49:29.018541Z",
     "start_time": "2021-06-29T09:49:29.012457Z"
    }
   },
   "outputs": [
    {
     "data": {
      "text/plain": [
       "[4, 2, 5, 1, 6, 3, 7]"
      ]
     },
     "execution_count": 59,
     "metadata": {},
     "output_type": "execute_result"
    }
   ],
   "source": [
    "a = Solution()\n",
    "in_order = a.inorderTraversal(bt1)\n",
    "in_order"
   ]
  },
  {
   "cell_type": "markdown",
   "metadata": {
    "heading_collapsed": true
   },
   "source": [
    "### 144. 二叉树的前序遍历"
   ]
  },
  {
   "cell_type": "markdown",
   "metadata": {
    "hidden": true
   },
   "source": [
    "1. 递归"
   ]
  },
  {
   "cell_type": "code",
   "execution_count": 20,
   "metadata": {
    "ExecuteTime": {
     "end_time": "2021-06-28T13:46:02.010673Z",
     "start_time": "2021-06-28T13:46:02.005788Z"
    },
    "hidden": true
   },
   "outputs": [],
   "source": [
    "class Solution(object):\n",
    "    def preorderTraversal(self, root):\n",
    "        pre = []\n",
    "        def dfs(binaryTree, pre):\n",
    "            if not binaryTree:\n",
    "                return \n",
    "            pre.append(binaryTree.val)\n",
    "            dfs(binaryTree.left, pre)\n",
    "            dfs(binaryTree.right, pre)\n",
    "            return \n",
    "        dfs(root, pre)\n",
    "        return pre"
   ]
  },
  {
   "cell_type": "markdown",
   "metadata": {
    "hidden": true
   },
   "source": [
    "2. 迭代"
   ]
  },
  {
   "cell_type": "code",
   "execution_count": 16,
   "metadata": {
    "ExecuteTime": {
     "end_time": "2021-06-28T13:44:23.598899Z",
     "start_time": "2021-06-28T13:44:23.593002Z"
    },
    "hidden": true
   },
   "outputs": [],
   "source": [
    "class Solution(object):\n",
    "    def preorderTraversal(self, root):\n",
    "        if not root: return []\n",
    "        pre_order, tmp = [], []\n",
    "        tmp.append(root)\n",
    "        while tmp:\n",
    "            cur = tmp.pop()\n",
    "            pre_order.append(cur.val)\n",
    "            if cur.right: tmp.append(cur.right)\n",
    "            if cur.left: tmp.append(cur.left)\n",
    "        return pre_order\n",
    "    "
   ]
  },
  {
   "cell_type": "code",
   "execution_count": 21,
   "metadata": {
    "ExecuteTime": {
     "end_time": "2021-06-28T13:46:03.729741Z",
     "start_time": "2021-06-28T13:46:03.722523Z"
    },
    "hidden": true
   },
   "outputs": [
    {
     "data": {
      "text/plain": [
       "[1, 2, 4, 5, 3, 6, 7]"
      ]
     },
     "execution_count": 21,
     "metadata": {},
     "output_type": "execute_result"
    }
   ],
   "source": [
    "a = Solution()\n",
    "pre_order = a.preorderTraversal(bt1)\n",
    "pre_order"
   ]
  },
  {
   "cell_type": "markdown",
   "metadata": {
    "heading_collapsed": true
   },
   "source": [
    "### 145. 二叉树的后序遍历"
   ]
  },
  {
   "cell_type": "markdown",
   "metadata": {
    "hidden": true
   },
   "source": [
    "1. 递归"
   ]
  },
  {
   "cell_type": "code",
   "execution_count": 22,
   "metadata": {
    "ExecuteTime": {
     "end_time": "2021-06-27T02:08:29.534663Z",
     "start_time": "2021-06-27T02:08:29.529336Z"
    },
    "hidden": true
   },
   "outputs": [],
   "source": [
    "class Solution:\n",
    "    def postorderTraversal(self, root: TreeNode) -> List[int]:\n",
    "        def dfs(root):\n",
    "            if not root: return\n",
    "            dfs(root.left)\n",
    "            dfs(root.right)\n",
    "            post_order.append(root.val)\n",
    "            return \n",
    "        post_order = []\n",
    "        dfs(root)\n",
    "        return post_order"
   ]
  },
  {
   "cell_type": "markdown",
   "metadata": {
    "hidden": true
   },
   "source": [
    "2. 迭代"
   ]
  },
  {
   "cell_type": "code",
   "execution_count": 69,
   "metadata": {
    "ExecuteTime": {
     "end_time": "2021-06-29T10:01:18.741745Z",
     "start_time": "2021-06-29T10:01:18.736250Z"
    },
    "hidden": true
   },
   "outputs": [],
   "source": [
    "class Solution(object):\n",
    "    def postorderTraversal(self, root):\n",
    "        postorder, tmp = [], []\n",
    "        tmp.append(root)\n",
    "        while tmp:\n",
    "            cur = tmp.pop()\n",
    "            postorder.append(cur.val)\n",
    "            if cur.left: tmp.append(cur.left)\n",
    "            if cur.right: tmp.append(cur.right)\n",
    "        return postorder[::-1]"
   ]
  },
  {
   "cell_type": "code",
   "execution_count": 70,
   "metadata": {
    "ExecuteTime": {
     "end_time": "2021-06-29T10:01:18.936522Z",
     "start_time": "2021-06-29T10:01:18.929440Z"
    },
    "hidden": true
   },
   "outputs": [
    {
     "data": {
      "text/plain": [
       "[4, 5, 2, 6, 7, 3, 1]"
      ]
     },
     "execution_count": 70,
     "metadata": {},
     "output_type": "execute_result"
    }
   ],
   "source": [
    "a = Solution()\n",
    "post_order = a.postorderTraversal(bt1)\n",
    "post_order"
   ]
  },
  {
   "cell_type": "markdown",
   "metadata": {
    "heading_collapsed": true
   },
   "source": [
    "## BFS"
   ]
  },
  {
   "cell_type": "markdown",
   "metadata": {
    "heading_collapsed": true,
    "hidden": true
   },
   "source": [
    "### 102. 二叉树的层序遍历\n",
    "给定一个二叉树，返回其节点值自顶向下的层序遍历。 "
   ]
  },
  {
   "cell_type": "markdown",
   "metadata": {
    "hidden": true
   },
   "source": [
    "1. 输出为一位数组"
   ]
  },
  {
   "cell_type": "code",
   "execution_count": 84,
   "metadata": {
    "ExecuteTime": {
     "end_time": "2021-06-29T11:11:26.008104Z",
     "start_time": "2021-06-29T11:11:26.001441Z"
    },
    "hidden": true
   },
   "outputs": [],
   "source": [
    "from queue import Queue\n",
    "from typing import List\n",
    "class Solution:\n",
    "    def levelOrder(self, root: TreeNode) -> List[List[int]]:\n",
    "        if not root: return []\n",
    "        res, q = [], Queue()\n",
    "        q.put(root)\n",
    "        while not q.empty():\n",
    "            cur = q.get()\n",
    "            res.append(cur.val)\n",
    "            if cur.left: q.put(cur.left)\n",
    "            if cur.right: q.put(cur.right)\n",
    "        return res"
   ]
  },
  {
   "cell_type": "markdown",
   "metadata": {
    "hidden": true
   },
   "source": [
    "2. 输出为二维数组"
   ]
  },
  {
   "cell_type": "code",
   "execution_count": 91,
   "metadata": {
    "ExecuteTime": {
     "end_time": "2021-06-29T12:54:14.777321Z",
     "start_time": "2021-06-29T12:54:14.771149Z"
    },
    "code_folding": [],
    "hidden": true
   },
   "outputs": [],
   "source": [
    "from collections import deque\n",
    "class Solution:\n",
    "    def levelOrder(self, root: TreeNode) -> List[List[int]]:\n",
    "        if not root: return []\n",
    "        res = []\n",
    "        dq = deque()\n",
    "        dq.append(root)\n",
    "        while dq:\n",
    "            tmp = []\n",
    "            for i in range(len(dq)):\n",
    "                cur = dq.popleft()\n",
    "                tmp.append(cur.val)\n",
    "                if cur.left:\n",
    "                    dq.append(cur.left)\n",
    "                if cur.right:\n",
    "                    dq.append(cur.right)\n",
    "            res.append(tmp.copy())\n",
    "        return res"
   ]
  },
  {
   "cell_type": "code",
   "execution_count": 92,
   "metadata": {
    "ExecuteTime": {
     "end_time": "2021-06-29T12:54:15.051587Z",
     "start_time": "2021-06-29T12:54:15.045753Z"
    },
    "hidden": true
   },
   "outputs": [
    {
     "data": {
      "text/plain": [
       "[[4, 5, 6, 7], [2, 3], [1]]"
      ]
     },
     "execution_count": 92,
     "metadata": {},
     "output_type": "execute_result"
    }
   ],
   "source": [
    "a = Solution()\n",
    "res = a.levelOrder(bt1)\n",
    "res"
   ]
  },
  {
   "attachments": {},
   "cell_type": "markdown",
   "metadata": {
    "hidden": true
   },
   "source": [
    "🍓标准库collections中的deque功能较多，且使用方法更像一个list。\n",
    "![deque.png](attachment:images/deque.png)"
   ]
  },
  {
   "cell_type": "markdown",
   "metadata": {
    "heading_collapsed": true,
    "hidden": true
   },
   "source": [
    "### 107. 二叉树的层序遍历 II\n",
    "给定一个二叉树，返回其节点值自底向上的层序遍历。 （即按从叶子节点所在层到根节点所在的层，逐层从左向右遍历）"
   ]
  },
  {
   "cell_type": "code",
   "execution_count": null,
   "metadata": {
    "hidden": true
   },
   "outputs": [],
   "source": [
    "class Solution:\n",
    "    def levelOrderBottom(self, root: TreeNode) -> List[List[int]]:\n",
    "        if not root: return []\n",
    "        res = []\n",
    "        dq = deque()\n",
    "        dq.append(root)\n",
    "        while dq:\n",
    "            tmp = []\n",
    "            for i in range(len(dq)):\n",
    "                cur = dq.popleft()\n",
    "                tmp.append(cur.val)\n",
    "                if cur.left:\n",
    "                    dq.append(cur.left)\n",
    "                if cur.right:\n",
    "                    dq.append(cur.right)\n",
    "            res.append(tmp.copy())\n",
    "        return res[::-1]"
   ]
  },
  {
   "cell_type": "markdown",
   "metadata": {
    "heading_collapsed": true,
    "hidden": true
   },
   "source": [
    "### 199. 二叉树的右视图\n",
    "给定一棵二叉树，想象自己站在它的右侧，按照从顶部到底部的顺序，返回从右侧所能看到的节点值。\n",
    "\n",
    "示例:\n",
    "\n",
    "输入: [1,2,3,null,5,null,4]\n",
    "输出: [1, 3, 4]"
   ]
  },
  {
   "cell_type": "code",
   "execution_count": 93,
   "metadata": {
    "ExecuteTime": {
     "end_time": "2021-06-29T13:31:46.344575Z",
     "start_time": "2021-06-29T13:31:46.339918Z"
    },
    "hidden": true
   },
   "outputs": [],
   "source": [
    "class Solution:\n",
    "    def rightSideView(self, root: TreeNode) -> List[int]:\n",
    "        if not root: return []\n",
    "        res = []\n",
    "        dq = deque()\n",
    "        dq.append(root)\n",
    "        while dq:\n",
    "            tmp = []\n",
    "            for i in range(len(dq)):\n",
    "                cur = dq.popleft()\n",
    "                tmp.append(cur.val)\n",
    "                if cur.left:\n",
    "                    dq.append(cur.left)\n",
    "                if cur.right:\n",
    "                    dq.append(cur.right)\n",
    "            res.append(tmp[-1])\n",
    "        return res\n",
    "    "
   ]
  },
  {
   "cell_type": "code",
   "execution_count": 94,
   "metadata": {
    "ExecuteTime": {
     "end_time": "2021-06-29T13:31:46.523106Z",
     "start_time": "2021-06-29T13:31:46.518480Z"
    },
    "hidden": true
   },
   "outputs": [
    {
     "data": {
      "text/plain": [
       "[1, 3, 7]"
      ]
     },
     "execution_count": 94,
     "metadata": {},
     "output_type": "execute_result"
    }
   ],
   "source": [
    "a = Solution()\n",
    "res = a.rightSideView(bt1)\n",
    "res"
   ]
  },
  {
   "cell_type": "markdown",
   "metadata": {
    "heading_collapsed": true,
    "hidden": true
   },
   "source": [
    "### 637.二叉树的层平均值\n",
    "返回每一树层的平均值"
   ]
  },
  {
   "cell_type": "code",
   "execution_count": 95,
   "metadata": {
    "ExecuteTime": {
     "end_time": "2021-06-30T00:50:42.756803Z",
     "start_time": "2021-06-30T00:50:42.751661Z"
    },
    "hidden": true
   },
   "outputs": [],
   "source": [
    "class Solution:\n",
    "    def averageOfLevels(self, root: TreeNode) -> List[float]:\n",
    "        res = []\n",
    "        dq = deque()\n",
    "        dq.append(root)\n",
    "        while dq:\n",
    "            tmp = 0\n",
    "            size = len(dq)\n",
    "            for i in range(size):\n",
    "                cur = dq.popleft()\n",
    "                tmp += cur.val\n",
    "                if cur.left:\n",
    "                    dq.append(cur.left)\n",
    "                if cur.right:\n",
    "                    dq.append(cur.right)\n",
    "            res.append(tmp/size)\n",
    "        return res"
   ]
  },
  {
   "cell_type": "code",
   "execution_count": 96,
   "metadata": {
    "ExecuteTime": {
     "end_time": "2021-06-30T00:51:10.795060Z",
     "start_time": "2021-06-30T00:51:10.789444Z"
    },
    "hidden": true
   },
   "outputs": [
    {
     "data": {
      "text/plain": [
       "[1.0, 2.5, 5.5]"
      ]
     },
     "execution_count": 96,
     "metadata": {},
     "output_type": "execute_result"
    }
   ],
   "source": [
    "a = Solution()\n",
    "res = a.averageOfLevels(bt1)\n",
    "res"
   ]
  },
  {
   "cell_type": "markdown",
   "metadata": {
    "heading_collapsed": true,
    "hidden": true
   },
   "source": [
    "### 429. N 叉树的层序遍历"
   ]
  },
  {
   "cell_type": "markdown",
   "metadata": {
    "hidden": true
   },
   "source": [
    "构建N叉树\n",
    "\n",
    "🍓用list存储N叉树的children"
   ]
  },
  {
   "cell_type": "code",
   "execution_count": 153,
   "metadata": {
    "ExecuteTime": {
     "end_time": "2021-06-30T01:45:34.327450Z",
     "start_time": "2021-06-30T01:45:34.320835Z"
    },
    "hidden": true
   },
   "outputs": [],
   "source": [
    "# Definition for a Node.\n",
    "class Node:\n",
    "    def __init__(self, val=None, children=None):\n",
    "        self.val = val\n",
    "        self.children = children\n",
    "        \n",
    "nt1 = Node(val=1)\n",
    "nt2 = Node(val=2)\n",
    "nt3 = Node(val=3)\n",
    "nt4 = Node(val=4)\n",
    "nt5 = Node(val=5)\n",
    "nt6 = Node(val=6)\n",
    "nt7 = Node(val=7)\n",
    "nt8 = Node(val=8)\n",
    "\n",
    "nt1.children = [nt2, nt3, nt4]\n",
    "nt2.children = [nt5, nt6]\n",
    "nt3.children = [nt7, nt8]\n"
   ]
  },
  {
   "cell_type": "code",
   "execution_count": 156,
   "metadata": {
    "ExecuteTime": {
     "end_time": "2021-06-30T01:45:36.506522Z",
     "start_time": "2021-06-30T01:45:36.500352Z"
    },
    "hidden": true
   },
   "outputs": [],
   "source": [
    "class Solution:\n",
    "    def levelOrder(self, root: 'Node') -> List[List[int]]:\n",
    "        res = []\n",
    "        dq = deque()\n",
    "        dq.append(root)\n",
    "        while dq:\n",
    "            tmp = []\n",
    "            size = len(dq)\n",
    "            for _ in range(size):\n",
    "                cur = dq.popleft()\n",
    "                tmp.append(cur.val)\n",
    "                if cur.children:\n",
    "                    children = cur.children.copy()  # 防止修改原始树的结构\n",
    "                while children:\n",
    "                    dq.append(children.pop())\n",
    "            res.append(tmp[::-1])\n",
    "        return res"
   ]
  },
  {
   "cell_type": "code",
   "execution_count": 158,
   "metadata": {
    "ExecuteTime": {
     "end_time": "2021-06-30T01:46:44.571923Z",
     "start_time": "2021-06-30T01:46:44.566526Z"
    },
    "hidden": true
   },
   "outputs": [
    {
     "data": {
      "text/plain": [
       "2"
      ]
     },
     "execution_count": 158,
     "metadata": {},
     "output_type": "execute_result"
    }
   ],
   "source": [
    "a = Solution()\n",
    "res = a.levelOrder(nt1)\n",
    "res"
   ]
  },
  {
   "cell_type": "markdown",
   "metadata": {
    "heading_collapsed": true,
    "hidden": true
   },
   "source": [
    "### 515. 在每个树行中找最大值\n",
    "您需要在二叉树的每一行中找到最大的值。"
   ]
  },
  {
   "cell_type": "code",
   "execution_count": 160,
   "metadata": {
    "ExecuteTime": {
     "end_time": "2021-06-30T01:50:12.399546Z",
     "start_time": "2021-06-30T01:50:12.393228Z"
    },
    "hidden": true
   },
   "outputs": [],
   "source": [
    "class Solution:\n",
    "    def largestValues(self, root: TreeNode) -> List[int]:\n",
    "        if not root: return []\n",
    "        res = []\n",
    "        dq = deque()\n",
    "        dq.append(root)\n",
    "        while dq:\n",
    "            maxNode = dq[0].val\n",
    "            size = len(dq)\n",
    "            for i in range(size):\n",
    "                cur = dq.popleft()\n",
    "                maxNode = max(cur.val, maxNode)\n",
    "                if cur.left:\n",
    "                    dq.append(cur.left)\n",
    "                if cur.right:\n",
    "                    dq.append(cur.right)\n",
    "            res.append(maxNode)\n",
    "        return res"
   ]
  },
  {
   "cell_type": "code",
   "execution_count": 161,
   "metadata": {
    "ExecuteTime": {
     "end_time": "2021-06-30T01:50:12.583689Z",
     "start_time": "2021-06-30T01:50:12.579631Z"
    },
    "hidden": true
   },
   "outputs": [
    {
     "data": {
      "text/plain": [
       "[1, 3, 7]"
      ]
     },
     "execution_count": 161,
     "metadata": {},
     "output_type": "execute_result"
    }
   ],
   "source": [
    "a = Solution()\n",
    "res = a.largestValues(bt1)\n",
    "res"
   ]
  },
  {
   "cell_type": "markdown",
   "metadata": {
    "heading_collapsed": true,
    "hidden": true
   },
   "source": [
    "### 116. 填充每个节点的下一个右侧节点指针\n",
    "给定一个 完美二叉树 ，其所有叶子节点都在同一层，每个父节点都有两个子节点。二叉树定义如下：\n",
    "```\n",
    "struct Node {\n",
    "  int val;\n",
    "  Node *left;\n",
    "  Node *right;\n",
    "  Node *next;\n",
    "}\n",
    "```\n",
    "填充它的每个 next 指针，让这个指针指向其下一个右侧节点。如果找不到下一个右侧节点，则将 next 指针设置为 NULL。\n",
    "\n",
    "初始状态下，所有 next 指针都被设置为 NULL。\n"
   ]
  },
  {
   "cell_type": "code",
   "execution_count": 192,
   "metadata": {
    "ExecuteTime": {
     "end_time": "2021-07-01T01:03:40.129420Z",
     "start_time": "2021-07-01T01:03:40.122937Z"
    },
    "hidden": true
   },
   "outputs": [],
   "source": [
    "class Solution:\n",
    "    def connect(self, root: 'Node') -> 'Node':\n",
    "        if not root: return root\n",
    "        res = []\n",
    "        dq = deque()\n",
    "        dq.append(root)\n",
    "        while dq:\n",
    "            size = len(dq)\n",
    "            lastNode = None\n",
    "            for i in range(size):\n",
    "                cur = dq.popleft()\n",
    "                res.append(cur.val)\n",
    "                if lastNode:\n",
    "                    lastNode.next = cur\n",
    "                lastNode = cur\n",
    "                if cur.left:\n",
    "                    dq.append(cur.left)\n",
    "                if cur.right:\n",
    "                    dq.append(cur.right)\n",
    "            res.append('#')\n",
    "        return root"
   ]
  },
  {
   "cell_type": "code",
   "execution_count": 193,
   "metadata": {
    "ExecuteTime": {
     "end_time": "2021-07-01T01:03:40.346634Z",
     "start_time": "2021-07-01T01:03:40.341989Z"
    },
    "hidden": true
   },
   "outputs": [],
   "source": [
    "# Definition for a Node.\n",
    "class Node:\n",
    "    def __init__(self, val=None, left=None, right=None, next=None):\n",
    "        self.val = val\n",
    "        self.left = left\n",
    "        self.right = right\n",
    "        self.next = next\n",
    "        \n",
    "nt1 = Node(val=1)\n",
    "nt2 = Node(val=2)\n",
    "nt3 = Node(val=3)\n",
    "nt4 = Node(val=4)\n",
    "nt5 = Node(val=5)\n",
    "nt6 = Node(val=6)\n",
    "nt7 = Node(val=7)\n",
    "nt8 = Node(val=8)\n",
    "\n",
    "nt1.left, nt1.right = nt2, nt3\n",
    "nt2.left, nt2.right = nt4, nt5\n",
    "nt3.left, nt3.right = nt6, nt7\n"
   ]
  },
  {
   "cell_type": "code",
   "execution_count": 194,
   "metadata": {
    "ExecuteTime": {
     "end_time": "2021-07-01T01:03:41.033086Z",
     "start_time": "2021-07-01T01:03:41.027762Z"
    },
    "hidden": true
   },
   "outputs": [
    {
     "data": {
      "text/plain": [
       "<__main__.Node at 0x7f863b5adbb0>"
      ]
     },
     "execution_count": 194,
     "metadata": {},
     "output_type": "execute_result"
    }
   ],
   "source": [
    "a = Solution()\n",
    "res = a.connect(nt1)\n",
    "res"
   ]
  },
  {
   "cell_type": "markdown",
   "metadata": {
    "heading_collapsed": true,
    "hidden": true
   },
   "source": [
    "### 117. 填充每个节点的下一个右侧节点指针 II\n",
    "给定一个二叉树，不一定是完美二叉树"
   ]
  },
  {
   "cell_type": "code",
   "execution_count": 195,
   "metadata": {
    "ExecuteTime": {
     "end_time": "2021-07-01T01:09:34.842742Z",
     "start_time": "2021-07-01T01:09:34.837008Z"
    },
    "hidden": true
   },
   "outputs": [],
   "source": [
    "class Solution:\n",
    "    def connect(self, root: 'Node') -> 'Node':\n",
    "        if not root: return root\n",
    "        res = []\n",
    "        dq = deque()\n",
    "        dq.append(root)\n",
    "        while dq:\n",
    "            size = len(dq)\n",
    "            lastNode = None\n",
    "            for i in range(size):\n",
    "                cur = dq.popleft()\n",
    "                res.append(cur.val)\n",
    "                if lastNode:\n",
    "                    lastNode.next = cur\n",
    "                lastNode = cur\n",
    "                if cur.left:\n",
    "                    dq.append(cur.left)\n",
    "                if cur.right:\n",
    "                    dq.append(cur.right)\n",
    "            res.append('#')\n",
    "        return res"
   ]
  },
  {
   "cell_type": "code",
   "execution_count": 196,
   "metadata": {
    "ExecuteTime": {
     "end_time": "2021-07-01T01:09:35.024898Z",
     "start_time": "2021-07-01T01:09:35.021194Z"
    },
    "hidden": true
   },
   "outputs": [
    {
     "data": {
      "text/plain": [
       "[1, '#', 2, 3, '#', 4, 5, 6, 7, '#', 8, '#']"
      ]
     },
     "execution_count": 196,
     "metadata": {},
     "output_type": "execute_result"
    }
   ],
   "source": [
    "nt4.right = nt8\n",
    "a = Solution()\n",
    "res = a.connect(nt1)\n",
    "res"
   ]
  },
  {
   "cell_type": "markdown",
   "metadata": {
    "hidden": true
   },
   "source": [
    "### 226. 翻转二叉树"
   ]
  },
  {
   "cell_type": "markdown",
   "metadata": {
    "hidden": true
   },
   "source": [
    "1. DFS: pre-order"
   ]
  },
  {
   "cell_type": "code",
   "execution_count": 220,
   "metadata": {
    "ExecuteTime": {
     "end_time": "2021-07-01T12:30:42.449019Z",
     "start_time": "2021-07-01T12:30:42.442874Z"
    },
    "hidden": true
   },
   "outputs": [],
   "source": [
    "class Solution:\n",
    "    def invertTree(self, root: TreeNode) -> TreeNode:\n",
    "        def dfs(cur):\n",
    "            if not cur: return\n",
    "            if cur.left or cur.right:\n",
    "#                 print(cur.left.val, cur.right.val)\n",
    "                cur.left, cur.right = cur.right, cur.left\n",
    "            if cur.left:\n",
    "                dfs(cur.left)\n",
    "            if cur.right:\n",
    "                dfs(cur.right)\n",
    "        dfs(root)\n",
    "        return root\n"
   ]
  },
  {
   "cell_type": "markdown",
   "metadata": {
    "hidden": true
   },
   "source": [
    "2. DFS: post-order"
   ]
  },
  {
   "cell_type": "code",
   "execution_count": 223,
   "metadata": {
    "ExecuteTime": {
     "end_time": "2021-07-01T14:11:21.244947Z",
     "start_time": "2021-07-01T14:11:21.241053Z"
    },
    "hidden": true
   },
   "outputs": [],
   "source": [
    "class Solution:\n",
    "    def invertTree(self, root: TreeNode) -> TreeNode:\n",
    "        def dfs(cur):\n",
    "            if not cur: return\n",
    "            if cur.left:\n",
    "                dfs(cur.left)\n",
    "            if cur.right:\n",
    "                dfs(cur.right)\n",
    "            \n",
    "            if cur.left or cur.right:\n",
    "#                 print(cur.left.val, cur.right.val)\n",
    "                cur.left, cur.right = cur.right, cur.left\n",
    "        dfs(root)\n",
    "        return root\n"
   ]
  },
  {
   "cell_type": "markdown",
   "metadata": {
    "hidden": true
   },
   "source": [
    "3. 迭代法：pre-order"
   ]
  },
  {
   "cell_type": "code",
   "execution_count": 361,
   "metadata": {
    "ExecuteTime": {
     "end_time": "2021-07-02T00:44:54.262358Z",
     "start_time": "2021-07-02T00:44:54.257802Z"
    },
    "hidden": true
   },
   "outputs": [],
   "source": [
    "class Solution:\n",
    "    def invertTree(self, root: TreeNode) -> TreeNode:\n",
    "        res, tmp = [], []\n",
    "        cur = root\n",
    "        while tmp or cur:\n",
    "            if cur:\n",
    "                tmp.append(cur)\n",
    "                cur = cur.left\n",
    "            else:   \n",
    "                cur = tmp.pop()\n",
    "                res.append(cur.val)\n",
    "                \n",
    "#                 if cur.right:  # 🍓右孩子只访问不处理，在下一次循环时处理\n",
    "#                 tmp.append(cur.right)\n",
    "                cur = cur.right\n",
    "#                 if ccur.left:  # 🍓不需要处理或访问左孩子\n",
    "#                     tmp.append(ccur.left)\n",
    "        return res"
   ]
  },
  {
   "cell_type": "code",
   "execution_count": 362,
   "metadata": {
    "ExecuteTime": {
     "end_time": "2021-07-02T00:44:54.550703Z",
     "start_time": "2021-07-02T00:44:54.545567Z"
    },
    "hidden": true
   },
   "outputs": [],
   "source": [
    "class BinaryTree():\n",
    "    def __init__(self, val, left, right):\n",
    "        self.val = val\n",
    "        self.left = left\n",
    "        self.right = right\n",
    "\n",
    "bt1 = BinaryTree(1, None, None)\n",
    "bt2 = BinaryTree(2, None, None)\n",
    "bt3 = BinaryTree(3, None, None)\n",
    "bt4 = BinaryTree(4, None, None)\n",
    "bt5 = BinaryTree(5, None, None)\n",
    "bt6 = BinaryTree(6, None, None)\n",
    "bt7 = BinaryTree(7, None, None)\n",
    "\n",
    "bt1.left, bt1.right = bt2, bt3\n",
    "bt2.left, bt2.right = bt4, bt5\n",
    "bt3.left, bt3.right = bt6, bt7"
   ]
  },
  {
   "cell_type": "code",
   "execution_count": 363,
   "metadata": {
    "ExecuteTime": {
     "end_time": "2021-07-02T00:44:54.756914Z",
     "start_time": "2021-07-02T00:44:54.752429Z"
    },
    "hidden": true,
    "scrolled": true
   },
   "outputs": [
    {
     "data": {
      "text/plain": [
       "[4, 2, 5, 1, 6, 3, 7]"
      ]
     },
     "execution_count": 363,
     "metadata": {},
     "output_type": "execute_result"
    }
   ],
   "source": [
    "a = Solution()\n",
    "res = a.invertTree(bt1)\n",
    "res"
   ]
  },
  {
   "cell_type": "code",
   "execution_count": 357,
   "metadata": {
    "ExecuteTime": {
     "end_time": "2021-07-02T00:43:28.339696Z",
     "start_time": "2021-07-02T00:43:28.334712Z"
    },
    "hidden": true
   },
   "outputs": [],
   "source": [
    "class Solution(object):\n",
    "    def inorderTraversal(self, root):\n",
    "        inorder, tmp = [], []\n",
    "        cur = root\n",
    "        while cur or tmp:               # 模仿递归\n",
    "            if cur:\n",
    "                tmp.append(cur)\n",
    "                cur = cur.left          # 1. 通过dfs(cur.left)找到最左节点\n",
    "            else:\n",
    "                cur = tmp.pop()\n",
    "                inorder.append(cur.val) # 2. 处理中间节点\n",
    "                cur = cur.right         # 3. 访问最右节点\n",
    "        return inorder"
   ]
  },
  {
   "cell_type": "markdown",
   "metadata": {
    "hidden": true
   },
   "source": [
    "4. 迭代法：in-order"
   ]
  },
  {
   "cell_type": "code",
   "execution_count": 281,
   "metadata": {
    "ExecuteTime": {
     "end_time": "2021-07-02T00:14:32.653005Z",
     "start_time": "2021-07-02T00:14:32.648077Z"
    },
    "hidden": true
   },
   "outputs": [],
   "source": [
    "class Solution:\n",
    "    def invertTree(self, root: TreeNode) -> TreeNode:\n",
    "        res, tmp = [], []\n",
    "        tmp.append(root)\n",
    "        cur = root\n",
    "        while tmp:\n",
    "            cur = tmp.pop()\n",
    "            res.append(cur.val)\n",
    "            if cur.right:\n",
    "                tmp.append(cur.right)\n",
    "            if cur.left:\n",
    "                tmp.append(cur.left)\n",
    "        return res"
   ]
  },
  {
   "cell_type": "code",
   "execution_count": null,
   "metadata": {
    "hidden": true
   },
   "outputs": [],
   "source": []
  }
 ],
 "metadata": {
  "kernelspec": {
   "display_name": "Python 3",
   "language": "python",
   "name": "python3"
  },
  "language_info": {
   "codemirror_mode": {
    "name": "ipython",
    "version": 3
   },
   "file_extension": ".py",
   "mimetype": "text/x-python",
   "name": "python",
   "nbconvert_exporter": "python",
   "pygments_lexer": "ipython3",
   "version": "3.8.5"
  },
  "latex_envs": {
   "LaTeX_envs_menu_present": true,
   "autoclose": false,
   "autocomplete": true,
   "bibliofile": "biblio.bib",
   "cite_by": "apalike",
   "current_citInitial": 1,
   "eqLabelWithNumbers": true,
   "eqNumInitial": 1,
   "hotkeys": {
    "equation": "Ctrl-E",
    "itemize": "Ctrl-I"
   },
   "labels_anchors": false,
   "latex_user_defs": false,
   "report_style_numbering": false,
   "user_envs_cfg": false
  },
  "varInspector": {
   "cols": {
    "lenName": 16,
    "lenType": 16,
    "lenVar": 40
   },
   "kernels_config": {
    "python": {
     "delete_cmd_postfix": "",
     "delete_cmd_prefix": "del ",
     "library": "var_list.py",
     "varRefreshCmd": "print(var_dic_list())"
    },
    "r": {
     "delete_cmd_postfix": ") ",
     "delete_cmd_prefix": "rm(",
     "library": "var_list.r",
     "varRefreshCmd": "cat(var_dic_list()) "
    }
   },
   "types_to_exclude": [
    "module",
    "function",
    "builtin_function_or_method",
    "instance",
    "_Feature"
   ],
   "window_display": false
  }
 },
 "nbformat": 4,
 "nbformat_minor": 4
}
