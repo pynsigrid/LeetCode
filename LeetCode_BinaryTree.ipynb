{
 "cells": [
  {
   "cell_type": "markdown",
   "metadata": {},
   "source": [
    "优先队列是使用堆实现的，堆的底层为一个完全二叉树。\n",
    "\n",
    "堆用于快速添加/移除最大/最小元素：add上浮，pop下沉，时间复杂度为$O(log_2N)$"
   ]
  },
  {
   "cell_type": "markdown",
   "metadata": {},
   "source": [
    "## 二叉树的实现\n",
    "链表、数组"
   ]
  },
  {
   "cell_type": "code",
   "execution_count": 2,
   "metadata": {
    "ExecuteTime": {
     "end_time": "2021-07-30T03:24:37.902951Z",
     "start_time": "2021-07-30T03:24:37.896672Z"
    }
   },
   "outputs": [],
   "source": [
    "class BinaryTree():\n",
    "    def __init__(self, val, left, right):\n",
    "        self.val = val\n",
    "        self.left = left\n",
    "        self.right = right\n",
    "\n",
    "bt1 = BinaryTree(1, None, None)\n",
    "bt2 = BinaryTree(2, None, None)\n",
    "bt3 = BinaryTree(3, None, None)\n",
    "bt4 = BinaryTree(4, None, None)\n",
    "bt5 = BinaryTree(5, None, None)\n",
    "bt6 = BinaryTree(6, None, None)\n",
    "bt7 = BinaryTree(7, None, None)\n",
    "bt8 = BinaryTree(8, None, None)\n",
    "\n",
    "bt1.left, bt1.right = bt2, bt3\n",
    "bt2.left, bt2.right = bt4, bt5\n",
    "bt3.left, bt3.right = bt6, bt7\n",
    "\n",
    "bt6.left = bt8"
   ]
  },
  {
   "cell_type": "markdown",
   "metadata": {
    "heading_collapsed": true
   },
   "source": [
    "### 遍历方式\n",
    "递归方法和迭代方法：\n",
    "\n",
    "从时间复杂度上其实迭代法和递归法差不多(在不考虑函数调用开销和函数调用产生的堆栈开销)，但\n",
    "是空间复杂度上，递归开销会大一些，因为递归需要系统堆栈存参数返回值等等。\n",
    "\n",
    "递归更容易让程序员理解，但收敛不好，容易栈溢出。\n"
   ]
  },
  {
   "cell_type": "markdown",
   "metadata": {
    "hidden": true
   },
   "source": [
    "1. DFS\n",
    "使用递归实现前中后序遍历。\n",
    "\n",
    "    1. 参数返回值：`in: root`\n",
    "\n",
    "    2. 终止条件：没有叶子节点，即`root==None`\n",
    "\n",
    "    3. 单层循环逻辑：\n",
    "\n",
    "```\n",
    "# 以中序遍历为例\n",
    "dfs(root.left)\n",
    "in_order.append(root.val)\n",
    "dfs(root.right)\n",
    "```"
   ]
  },
  {
   "cell_type": "code",
   "execution_count": 18,
   "metadata": {
    "ExecuteTime": {
     "end_time": "2021-06-27T02:07:25.588027Z",
     "start_time": "2021-06-27T02:07:25.582919Z"
    },
    "hidden": true
   },
   "outputs": [],
   "source": [
    "def inorder(binaryTree):\n",
    "    in_order = []\n",
    "    def dfs(binaryTree, in_order):\n",
    "        if not binaryTree:\n",
    "            return \n",
    "        dfs(binaryTree.left, in_order)\n",
    "        in_order.append(binaryTree.val)\n",
    "        dfs(binaryTree.right, in_order)\n",
    "        return \n",
    "    dfs(binaryTree, in_order)\n",
    "    return in_order"
   ]
  },
  {
   "cell_type": "code",
   "execution_count": 23,
   "metadata": {
    "ExecuteTime": {
     "end_time": "2021-06-27T02:08:29.739532Z",
     "start_time": "2021-06-27T02:08:29.733371Z"
    },
    "hidden": true
   },
   "outputs": [
    {
     "data": {
      "text/plain": [
       "[4, 5, 2, 6, 7, 3, 1]"
      ]
     },
     "execution_count": 23,
     "metadata": {},
     "output_type": "execute_result"
    }
   ],
   "source": [
    "post = postorder(bt1)\n",
    "post"
   ]
  },
  {
   "cell_type": "markdown",
   "metadata": {
    "hidden": true
   },
   "source": [
    "2. 迭代\n",
    "    1. 用stack模拟“递归”节点的过程，🍓注意处理(print)和访问节点(append in cur->left/right)的顺序\n",
    "    2. ？？？使用标记法：指针标记下一个处理的节点"
   ]
  },
  {
   "cell_type": "markdown",
   "metadata": {
    "hidden": true
   },
   "source": [
    "3. BFS\n",
    "    1. 使用队列实现：每一层从最左找到最右"
   ]
  },
  {
   "cell_type": "markdown",
   "metadata": {
    "heading_collapsed": true
   },
   "source": [
    "### 94. 二叉树的中序遍历"
   ]
  },
  {
   "cell_type": "markdown",
   "metadata": {
    "hidden": true
   },
   "source": [
    "1. 递归"
   ]
  },
  {
   "cell_type": "code",
   "execution_count": 82,
   "metadata": {
    "ExecuteTime": {
     "end_time": "2021-06-27T03:05:44.881642Z",
     "start_time": "2021-06-27T03:05:44.875169Z"
    },
    "hidden": true
   },
   "outputs": [],
   "source": [
    "from typing import List\n",
    "class Solution(object):\n",
    "    def inorderTraversal(self, TreeNode):\n",
    "        def dfs(bt):\n",
    "            if not bt: return\n",
    "#             print(bt.val)\n",
    "            dfs(bt.left)\n",
    "            in_order.append(bt.val)\n",
    "            dfs(bt.right)\n",
    "            return \n",
    "        in_order = []\n",
    "#         bt = TreeNode\n",
    "        dfs(TreeNode)\n",
    "        return in_order\n",
    "    "
   ]
  },
  {
   "cell_type": "markdown",
   "metadata": {
    "hidden": true
   },
   "source": [
    "2. 迭代"
   ]
  },
  {
   "cell_type": "markdown",
   "metadata": {
    "hidden": true
   },
   "source": [
    "处理：将元素放进result数组中\n",
    "\n",
    "访问：遍历节点\n"
   ]
  },
  {
   "cell_type": "code",
   "execution_count": 57,
   "metadata": {
    "ExecuteTime": {
     "end_time": "2021-06-29T09:49:25.489738Z",
     "start_time": "2021-06-29T09:49:25.484756Z"
    },
    "hidden": true
   },
   "outputs": [],
   "source": [
    "class Solution(object):\n",
    "    def inorderTraversal(self, root):\n",
    "        inorder, tmp = [], []\n",
    "        cur = root\n",
    "        while cur or tmp:               # 模仿递归\n",
    "            if cur:\n",
    "                tmp.append(cur)\n",
    "                cur = cur.left          # 1. 通过dfs(cur.left)找到最左节点\n",
    "            else:\n",
    "                cur = tmp.pop()\n",
    "                inorder.append(cur.val) # 2. 处理中间节点\n",
    "                cur = cur.right         # 3. 访问最右节点\n",
    "        return inorder"
   ]
  },
  {
   "cell_type": "code",
   "execution_count": 2,
   "metadata": {
    "ExecuteTime": {
     "end_time": "2021-07-24T12:23:58.976322Z",
     "start_time": "2021-07-24T12:23:58.970316Z"
    },
    "hidden": true
   },
   "outputs": [],
   "source": [
    "class TreeNode:\n",
    "    def __init__(self, val=0, left=None, right=None):\n",
    "        self.val = val\n",
    "        self.left = left\n",
    "        self.right = right\n",
    "        \n",
    "bt1 = TreeNode(1, None, None)\n",
    "bt2 = TreeNode(2, None, None)\n",
    "bt3 = TreeNode(3, None, None)\n",
    "bt4 = TreeNode(4, None, None)\n",
    "bt5 = TreeNode(5, None, None)\n",
    "bt6 = TreeNode(6, None, None)\n",
    "bt7 = TreeNode(7, None, None)\n",
    "\n",
    "bt1.left, bt1.right = bt2, bt3\n",
    "bt2.left, bt2.right = bt4, bt5\n",
    "bt3.left, bt3.right = bt6, bt7\n"
   ]
  },
  {
   "cell_type": "code",
   "execution_count": 3,
   "metadata": {
    "ExecuteTime": {
     "end_time": "2021-07-24T12:24:00.339815Z",
     "start_time": "2021-07-24T12:24:00.328641Z"
    },
    "hidden": true
   },
   "outputs": [
    {
     "data": {
      "text/plain": [
       "[4, 2, 5, 1, 6, 3, 7]"
      ]
     },
     "execution_count": 3,
     "metadata": {},
     "output_type": "execute_result"
    }
   ],
   "source": [
    "a = Solution()\n",
    "in_order = a.inorderTraversal(bt1)\n",
    "in_order"
   ]
  },
  {
   "cell_type": "markdown",
   "metadata": {
    "heading_collapsed": true
   },
   "source": [
    "### 144. 二叉树的前序遍历"
   ]
  },
  {
   "cell_type": "markdown",
   "metadata": {
    "hidden": true
   },
   "source": [
    "1. 递归"
   ]
  },
  {
   "cell_type": "code",
   "execution_count": 20,
   "metadata": {
    "ExecuteTime": {
     "end_time": "2021-06-28T13:46:02.010673Z",
     "start_time": "2021-06-28T13:46:02.005788Z"
    },
    "hidden": true
   },
   "outputs": [],
   "source": [
    "class Solution(object):\n",
    "    def preorderTraversal(self, root):\n",
    "        pre = []\n",
    "        def dfs(binaryTree, pre):\n",
    "            if not binaryTree:\n",
    "                return \n",
    "            pre.append(binaryTree.val)\n",
    "            dfs(binaryTree.left, pre)\n",
    "            dfs(binaryTree.right, pre)\n",
    "            return \n",
    "        dfs(root, pre)\n",
    "        return pre"
   ]
  },
  {
   "cell_type": "markdown",
   "metadata": {
    "hidden": true
   },
   "source": [
    "2. 迭代"
   ]
  },
  {
   "cell_type": "code",
   "execution_count": 16,
   "metadata": {
    "ExecuteTime": {
     "end_time": "2021-06-28T13:44:23.598899Z",
     "start_time": "2021-06-28T13:44:23.593002Z"
    },
    "hidden": true
   },
   "outputs": [],
   "source": [
    "class Solution(object):\n",
    "    def preorderTraversal(self, root):\n",
    "        if not root: return []\n",
    "        pre_order, tmp = [], []\n",
    "        tmp.append(root)\n",
    "        while tmp:\n",
    "            cur = tmp.pop()\n",
    "            pre_order.append(cur.val)\n",
    "            if cur.right: tmp.append(cur.right)\n",
    "            if cur.left: tmp.append(cur.left)\n",
    "        return pre_order\n",
    "    "
   ]
  },
  {
   "cell_type": "code",
   "execution_count": 21,
   "metadata": {
    "ExecuteTime": {
     "end_time": "2021-06-28T13:46:03.729741Z",
     "start_time": "2021-06-28T13:46:03.722523Z"
    },
    "hidden": true
   },
   "outputs": [
    {
     "data": {
      "text/plain": [
       "[1, 2, 4, 5, 3, 6, 7]"
      ]
     },
     "execution_count": 21,
     "metadata": {},
     "output_type": "execute_result"
    }
   ],
   "source": [
    "a = Solution()\n",
    "pre_order = a.preorderTraversal(bt1)\n",
    "pre_order"
   ]
  },
  {
   "cell_type": "markdown",
   "metadata": {
    "heading_collapsed": true
   },
   "source": [
    "### 145. 二叉树的后序遍历"
   ]
  },
  {
   "cell_type": "markdown",
   "metadata": {
    "hidden": true
   },
   "source": [
    "1. 递归"
   ]
  },
  {
   "cell_type": "code",
   "execution_count": 22,
   "metadata": {
    "ExecuteTime": {
     "end_time": "2021-06-27T02:08:29.534663Z",
     "start_time": "2021-06-27T02:08:29.529336Z"
    },
    "hidden": true
   },
   "outputs": [],
   "source": [
    "class Solution:\n",
    "    def postorderTraversal(self, root: TreeNode) -> List[int]:\n",
    "        def dfs(root):\n",
    "            if not root: return\n",
    "            dfs(root.left)\n",
    "            dfs(root.right)\n",
    "            post_order.append(root.val)\n",
    "            return \n",
    "        post_order = []\n",
    "        dfs(root)\n",
    "        return post_order"
   ]
  },
  {
   "cell_type": "markdown",
   "metadata": {
    "hidden": true
   },
   "source": [
    "2. 迭代"
   ]
  },
  {
   "cell_type": "code",
   "execution_count": 69,
   "metadata": {
    "ExecuteTime": {
     "end_time": "2021-06-29T10:01:18.741745Z",
     "start_time": "2021-06-29T10:01:18.736250Z"
    },
    "hidden": true
   },
   "outputs": [],
   "source": [
    "class Solution(object):\n",
    "    def postorderTraversal(self, root):\n",
    "        postorder, tmp = [], []\n",
    "        tmp.append(root)\n",
    "        while tmp:\n",
    "            cur = tmp.pop()\n",
    "            postorder.append(cur.val)\n",
    "            if cur.left: tmp.append(cur.left)\n",
    "            if cur.right: tmp.append(cur.right)\n",
    "        return postorder[::-1]"
   ]
  },
  {
   "cell_type": "code",
   "execution_count": 70,
   "metadata": {
    "ExecuteTime": {
     "end_time": "2021-06-29T10:01:18.936522Z",
     "start_time": "2021-06-29T10:01:18.929440Z"
    },
    "hidden": true
   },
   "outputs": [
    {
     "data": {
      "text/plain": [
       "[4, 5, 2, 6, 7, 3, 1]"
      ]
     },
     "execution_count": 70,
     "metadata": {},
     "output_type": "execute_result"
    }
   ],
   "source": [
    "a = Solution()\n",
    "post_order = a.postorderTraversal(bt1)\n",
    "post_order"
   ]
  },
  {
   "cell_type": "markdown",
   "metadata": {
    "heading_collapsed": true
   },
   "source": [
    "### 102. 二叉树的层序遍历\n",
    "给定一个二叉树，返回其节点值自顶向下的层序遍历。 "
   ]
  },
  {
   "cell_type": "markdown",
   "metadata": {
    "hidden": true
   },
   "source": [
    "1. 输出为一位数组"
   ]
  },
  {
   "cell_type": "code",
   "execution_count": 8,
   "metadata": {
    "ExecuteTime": {
     "end_time": "2021-07-24T12:34:48.264353Z",
     "start_time": "2021-07-24T12:34:48.259484Z"
    },
    "hidden": true
   },
   "outputs": [],
   "source": [
    "from collections import deque\n",
    "from typing import List\n",
    "class Solution:\n",
    "    def levelOrder(self, root: TreeNode) -> List[List[int]]:\n",
    "        if not root: return []\n",
    "        res, tmp = [], deque()\n",
    "        tmp.append(root)\n",
    "        while tmp:\n",
    "            cur = tmp.popleft()\n",
    "            res.append(cur.val)\n",
    "            if cur.left:  tmp.append(cur.left)\n",
    "            if cur.right: tmp.append(cur.right)\n",
    "        return res"
   ]
  },
  {
   "cell_type": "markdown",
   "metadata": {
    "hidden": true
   },
   "source": [
    "2. 输出为二维数组"
   ]
  },
  {
   "cell_type": "code",
   "execution_count": 10,
   "metadata": {
    "ExecuteTime": {
     "end_time": "2021-07-24T13:06:24.077010Z",
     "start_time": "2021-07-24T13:06:24.072457Z"
    },
    "hidden": true
   },
   "outputs": [],
   "source": [
    "from collections import deque\n",
    "from typing import List\n",
    "class Solution:\n",
    "    def levelOrder(self, root: TreeNode) -> List[List[int]]:\n",
    "        if not root: return []\n",
    "        res, tmp = [], deque()\n",
    "        tmp.append(root)\n",
    "        while tmp:\n",
    "            t = []\n",
    "            for i in range(len(tmp)):\n",
    "                cur = tmp.popleft()\n",
    "                t.append(cur.val)\n",
    "                if cur.left:  tmp.append(cur.left)\n",
    "                if cur.right: tmp.append(cur.right)\n",
    "            res.append(t)\n",
    "        return res"
   ]
  },
  {
   "cell_type": "code",
   "execution_count": 11,
   "metadata": {
    "ExecuteTime": {
     "end_time": "2021-07-24T13:06:26.051982Z",
     "start_time": "2021-07-24T13:06:26.046817Z"
    },
    "hidden": true
   },
   "outputs": [
    {
     "data": {
      "text/plain": [
       "[[1], [2, 3], [4, 5, 6, 7]]"
      ]
     },
     "execution_count": 11,
     "metadata": {},
     "output_type": "execute_result"
    }
   ],
   "source": [
    "a = Solution()\n",
    "res = a.levelOrder(bt1)\n",
    "res"
   ]
  },
  {
   "cell_type": "markdown",
   "metadata": {
    "hidden": true
   },
   "source": [
    "🍓标准库collections中的deque功能较多，且使用方法更像一个list。\n",
    "![deque.png](attachment:images/deque.png)"
   ]
  },
  {
   "cell_type": "markdown",
   "metadata": {
    "heading_collapsed": true
   },
   "source": [
    "### 107. 二叉树的层序遍历 II\n",
    "给定一个二叉树，返回其节点值自底向上的层序遍历。 （即按从叶子节点所在层到根节点所在的层，逐层从左向右遍历）"
   ]
  },
  {
   "cell_type": "code",
   "execution_count": null,
   "metadata": {
    "hidden": true
   },
   "outputs": [],
   "source": [
    "class Solution:\n",
    "    def levelOrderBottom(self, root: TreeNode) -> List[List[int]]:\n",
    "        if not root: return []\n",
    "        res = []\n",
    "        dq = deque()\n",
    "        dq.append(root)\n",
    "        while dq:\n",
    "            tmp = []\n",
    "            for i in range(len(dq)):\n",
    "                cur = dq.popleft()\n",
    "                tmp.append(cur.val)\n",
    "                if cur.left:\n",
    "                    dq.append(cur.left)\n",
    "                if cur.right:\n",
    "                    dq.append(cur.right)\n",
    "            res.append(tmp.copy())\n",
    "        return res[::-1]"
   ]
  },
  {
   "cell_type": "markdown",
   "metadata": {
    "heading_collapsed": true
   },
   "source": [
    "### 199. 二叉树的右视图\n",
    "给定一棵二叉树，想象自己站在它的右侧，按照从顶部到底部的顺序，返回从右侧所能看到的节点值。\n",
    "\n",
    "示例:\n",
    "输入: [1,2,3,null,5,null,4]\n",
    "输出: [1, 3, 4]"
   ]
  },
  {
   "cell_type": "markdown",
   "metadata": {
    "hidden": true
   },
   "source": [
    "层序遍历->以二维数组形式输出->取每一层最后一个值"
   ]
  },
  {
   "cell_type": "code",
   "execution_count": 14,
   "metadata": {
    "ExecuteTime": {
     "end_time": "2021-07-24T13:28:55.269316Z",
     "start_time": "2021-07-24T13:28:55.263715Z"
    },
    "hidden": true
   },
   "outputs": [],
   "source": [
    "class Solution:\n",
    "    def rightSideView(self, root: TreeNode) -> List[int]:\n",
    "        res, dq = [], deque()\n",
    "        dq.append(root)\n",
    "        while dq:\n",
    "            tmp = []\n",
    "            for i in range(len(dq)):\n",
    "                cur = dq.popleft()\n",
    "                tmp.append(cur.val)\n",
    "                if cur.left:  dq.append(cur.left)\n",
    "                if cur.right: dq.append(cur.right)\n",
    "            res.append(tmp[-1])\n",
    "            \n",
    "        return res"
   ]
  },
  {
   "cell_type": "code",
   "execution_count": 13,
   "metadata": {
    "ExecuteTime": {
     "end_time": "2021-07-24T13:23:58.525282Z",
     "start_time": "2021-07-24T13:23:58.520283Z"
    },
    "hidden": true
   },
   "outputs": [
    {
     "data": {
      "text/plain": [
       "[1, 3, 7]"
      ]
     },
     "execution_count": 13,
     "metadata": {},
     "output_type": "execute_result"
    }
   ],
   "source": [
    "a = Solution()\n",
    "res = a.rightSideView(bt1)\n",
    "res"
   ]
  },
  {
   "cell_type": "markdown",
   "metadata": {
    "heading_collapsed": true
   },
   "source": [
    "### 637.二叉树的层平均值\n",
    "返回每一树层的平均值"
   ]
  },
  {
   "cell_type": "code",
   "execution_count": 95,
   "metadata": {
    "ExecuteTime": {
     "end_time": "2021-06-30T00:50:42.756803Z",
     "start_time": "2021-06-30T00:50:42.751661Z"
    },
    "hidden": true
   },
   "outputs": [],
   "source": [
    "class Solution:\n",
    "    def averageOfLevels(self, root: TreeNode) -> List[float]:\n",
    "        res = []\n",
    "        dq = deque()\n",
    "        dq.append(root)\n",
    "        while dq:\n",
    "            tmp = 0\n",
    "            size = len(dq)\n",
    "            for i in range(size):\n",
    "                cur = dq.popleft()\n",
    "                tmp += cur.val\n",
    "                if cur.left:\n",
    "                    dq.append(cur.left)\n",
    "                if cur.right:\n",
    "                    dq.append(cur.right)\n",
    "            res.append(tmp/size)\n",
    "        return res"
   ]
  },
  {
   "cell_type": "code",
   "execution_count": 96,
   "metadata": {
    "ExecuteTime": {
     "end_time": "2021-06-30T00:51:10.795060Z",
     "start_time": "2021-06-30T00:51:10.789444Z"
    },
    "hidden": true
   },
   "outputs": [
    {
     "data": {
      "text/plain": [
       "[1.0, 2.5, 5.5]"
      ]
     },
     "execution_count": 96,
     "metadata": {},
     "output_type": "execute_result"
    }
   ],
   "source": [
    "a = Solution()\n",
    "res = a.averageOfLevels(bt1)\n",
    "res"
   ]
  },
  {
   "cell_type": "markdown",
   "metadata": {
    "heading_collapsed": true
   },
   "source": [
    "### 429. N 叉树的层序遍历"
   ]
  },
  {
   "cell_type": "markdown",
   "metadata": {
    "hidden": true
   },
   "source": [
    "构建N叉树\n",
    "\n",
    "🍓用list存储N叉树的children"
   ]
  },
  {
   "cell_type": "code",
   "execution_count": 468,
   "metadata": {
    "ExecuteTime": {
     "end_time": "2021-07-05T11:46:34.309472Z",
     "start_time": "2021-07-05T11:46:34.302970Z"
    },
    "hidden": true
   },
   "outputs": [],
   "source": [
    "# Definition for a Node.\n",
    "class Node:\n",
    "    def __init__(self, val=None, children=None):\n",
    "        self.val = val\n",
    "        self.children = children\n",
    "        \n",
    "nt1 = Node(val=1)\n",
    "nt2 = Node(val=2)\n",
    "nt3 = Node(val=3)\n",
    "nt4 = Node(val=4)\n",
    "nt5 = Node(val=5)\n",
    "nt6 = Node(val=6)\n",
    "nt7 = Node(val=7)\n",
    "nt8 = Node(val=8)\n",
    "nt9 = Node(val=9)\n",
    "\n",
    "nt1.children = [nt2, nt3, nt4]\n",
    "nt2.children = [nt5, nt6]\n",
    "nt3.children = [nt7, nt8]\n",
    "nt7.children = [nt9]\n"
   ]
  },
  {
   "cell_type": "code",
   "execution_count": 156,
   "metadata": {
    "ExecuteTime": {
     "end_time": "2021-06-30T01:45:36.506522Z",
     "start_time": "2021-06-30T01:45:36.500352Z"
    },
    "hidden": true
   },
   "outputs": [],
   "source": [
    "class Solution:\n",
    "    def levelOrder(self, root: 'Node') -> List[List[int]]:\n",
    "        res = []\n",
    "        dq = deque()\n",
    "        dq.append(root)\n",
    "        while dq:\n",
    "            tmp = []\n",
    "            size = len(dq)\n",
    "            for _ in range(size):\n",
    "                cur = dq.popleft()\n",
    "                tmp.append(cur.val)\n",
    "                if cur.children:\n",
    "                    children = cur.children.copy()  # 防止修改原始树的结构\n",
    "                while children:\n",
    "                    dq.append(children.pop())\n",
    "            res.append(tmp[::-1])\n",
    "        return res"
   ]
  },
  {
   "cell_type": "code",
   "execution_count": 158,
   "metadata": {
    "ExecuteTime": {
     "end_time": "2021-06-30T01:46:44.571923Z",
     "start_time": "2021-06-30T01:46:44.566526Z"
    },
    "hidden": true
   },
   "outputs": [
    {
     "data": {
      "text/plain": [
       "2"
      ]
     },
     "execution_count": 158,
     "metadata": {},
     "output_type": "execute_result"
    }
   ],
   "source": [
    "a = Solution()\n",
    "res = a.levelOrder(nt1)\n",
    "res"
   ]
  },
  {
   "cell_type": "markdown",
   "metadata": {
    "heading_collapsed": true
   },
   "source": [
    "### 515. 在每个树行中找最大值\n",
    "您需要在二叉树的每一行中找到最大的值。"
   ]
  },
  {
   "cell_type": "code",
   "execution_count": 160,
   "metadata": {
    "ExecuteTime": {
     "end_time": "2021-06-30T01:50:12.399546Z",
     "start_time": "2021-06-30T01:50:12.393228Z"
    },
    "hidden": true
   },
   "outputs": [],
   "source": [
    "class Solution:\n",
    "    def largestValues(self, root: TreeNode) -> List[int]:\n",
    "        if not root: return []\n",
    "        res = []\n",
    "        dq = deque()\n",
    "        dq.append(root)\n",
    "        while dq:\n",
    "            maxNode = dq[0].val\n",
    "            size = len(dq)\n",
    "            for i in range(size):\n",
    "                cur = dq.popleft()\n",
    "                maxNode = max(cur.val, maxNode)\n",
    "                if cur.left:\n",
    "                    dq.append(cur.left)\n",
    "                if cur.right:\n",
    "                    dq.append(cur.right)\n",
    "            res.append(maxNode)\n",
    "        return res"
   ]
  },
  {
   "cell_type": "code",
   "execution_count": 161,
   "metadata": {
    "ExecuteTime": {
     "end_time": "2021-06-30T01:50:12.583689Z",
     "start_time": "2021-06-30T01:50:12.579631Z"
    },
    "hidden": true
   },
   "outputs": [
    {
     "data": {
      "text/plain": [
       "[1, 3, 7]"
      ]
     },
     "execution_count": 161,
     "metadata": {},
     "output_type": "execute_result"
    }
   ],
   "source": [
    "a = Solution()\n",
    "res = a.largestValues(bt1)\n",
    "res"
   ]
  },
  {
   "cell_type": "markdown",
   "metadata": {
    "heading_collapsed": true
   },
   "source": [
    "### 116. 填充每个节点的下一个右侧节点指针"
   ]
  },
  {
   "cell_type": "markdown",
   "metadata": {
    "hidden": true
   },
   "source": [
    "给定一个 完美二叉树 ，其所有叶子节点都在同一层，每个父节点都有两个子节点。二叉树定义如下：\n",
    "```\n",
    "struct Node {\n",
    "  int val;\n",
    "  Node *left;\n",
    "  Node *right;\n",
    "  Node *next;\n",
    "}\n",
    "```\n",
    "填充它的每个 next 指针，让这个指针指向其下一个右侧节点。如果找不到下一个右侧节点，则将 next 指针设置为 NULL。\n",
    "\n",
    "初始状态下，所有 next 指针都被设置为 NULL。\n"
   ]
  },
  {
   "cell_type": "code",
   "execution_count": 27,
   "metadata": {
    "ExecuteTime": {
     "end_time": "2021-07-25T00:06:47.833869Z",
     "start_time": "2021-07-25T00:06:47.829014Z"
    },
    "hidden": true
   },
   "outputs": [],
   "source": [
    "class Solution:\n",
    "    def connect(self, root: 'Node') -> 'Node':\n",
    "        if not root: return root\n",
    "        res, dq = [], deque()\n",
    "        dq.append(root)\n",
    "        while dq:\n",
    "            size = len(dq)\n",
    "            lastNode = None\n",
    "            for i in range(size):\n",
    "                cur = dq.popleft()\n",
    "                if lastNode: lastNode.next = cur\n",
    "                lastNode = cur\n",
    "                if cur.left:  dq.append(cur.left)\n",
    "                if cur.right: dq.append(cur.right)\n",
    "        return root"
   ]
  },
  {
   "cell_type": "code",
   "execution_count": 28,
   "metadata": {
    "ExecuteTime": {
     "end_time": "2021-07-25T00:06:48.193688Z",
     "start_time": "2021-07-25T00:06:48.187240Z"
    },
    "hidden": true
   },
   "outputs": [],
   "source": [
    "# Definition for a Node.\n",
    "class Node:\n",
    "    def __init__(self, val=None, left=None, right=None, next=None):\n",
    "        self.val = val\n",
    "        self.left = left\n",
    "        self.right = right\n",
    "        self.next = next\n",
    "        \n",
    "nt1 = Node(val=1)\n",
    "nt2 = Node(val=2)\n",
    "nt3 = Node(val=3)\n",
    "nt4 = Node(val=4)\n",
    "nt5 = Node(val=5)\n",
    "nt6 = Node(val=6)\n",
    "nt7 = Node(val=7)\n",
    "nt8 = Node(val=8)\n",
    "\n",
    "nt1.left, nt1.right = nt2, nt3\n",
    "nt2.left, nt2.right = nt4, nt5\n",
    "nt3.left, nt3.right = nt6, nt7\n"
   ]
  },
  {
   "cell_type": "code",
   "execution_count": 29,
   "metadata": {
    "ExecuteTime": {
     "end_time": "2021-07-25T00:06:48.609861Z",
     "start_time": "2021-07-25T00:06:48.606708Z"
    },
    "hidden": true
   },
   "outputs": [],
   "source": [
    "a = Solution()\n",
    "res = a.connect(nt1)\n",
    "res.right.next"
   ]
  },
  {
   "cell_type": "markdown",
   "metadata": {
    "heading_collapsed": true
   },
   "source": [
    "### 117. 填充每个节点的下一个右侧节点指针 II\n",
    "给定一个二叉树，不一定是完美二叉树"
   ]
  },
  {
   "cell_type": "code",
   "execution_count": 195,
   "metadata": {
    "ExecuteTime": {
     "end_time": "2021-07-01T01:09:34.842742Z",
     "start_time": "2021-07-01T01:09:34.837008Z"
    },
    "hidden": true
   },
   "outputs": [],
   "source": [
    "class Solution:\n",
    "    def connect(self, root: 'Node') -> 'Node':\n",
    "        if not root: return root\n",
    "        res = []\n",
    "        dq = deque()\n",
    "        dq.append(root)\n",
    "        while dq:\n",
    "            size = len(dq)\n",
    "            lastNode = None\n",
    "            for i in range(size):\n",
    "                cur = dq.popleft()\n",
    "                res.append(cur.val)\n",
    "                if lastNode:\n",
    "                    lastNode.next = cur\n",
    "                lastNode = cur\n",
    "                if cur.left:\n",
    "                    dq.append(cur.left)\n",
    "                if cur.right:\n",
    "                    dq.append(cur.right)\n",
    "            res.append('#')\n",
    "        return res"
   ]
  },
  {
   "cell_type": "code",
   "execution_count": 196,
   "metadata": {
    "ExecuteTime": {
     "end_time": "2021-07-01T01:09:35.024898Z",
     "start_time": "2021-07-01T01:09:35.021194Z"
    },
    "hidden": true
   },
   "outputs": [
    {
     "data": {
      "text/plain": [
       "[1, '#', 2, 3, '#', 4, 5, 6, 7, '#', 8, '#']"
      ]
     },
     "execution_count": 196,
     "metadata": {},
     "output_type": "execute_result"
    }
   ],
   "source": [
    "nt4.right = nt8\n",
    "a = Solution()\n",
    "res = a.connect(nt1)\n",
    "res"
   ]
  },
  {
   "cell_type": "markdown",
   "metadata": {
    "heading_collapsed": true
   },
   "source": [
    "### 226. 翻转二叉树"
   ]
  },
  {
   "cell_type": "markdown",
   "metadata": {
    "hidden": true
   },
   "source": [
    "🍓前序和后序都可以，中序不可，因为处理左/右分支分别在处理当前节点两侧，即单侧节点被处理了两遍"
   ]
  },
  {
   "cell_type": "markdown",
   "metadata": {
    "hidden": true
   },
   "source": [
    "1. DFS: pre-order"
   ]
  },
  {
   "cell_type": "code",
   "execution_count": 32,
   "metadata": {
    "ExecuteTime": {
     "end_time": "2021-07-25T00:21:32.087577Z",
     "start_time": "2021-07-25T00:21:32.082938Z"
    },
    "hidden": true
   },
   "outputs": [],
   "source": [
    "class Solution:\n",
    "    def invertTree(self, root: TreeNode) -> TreeNode:\n",
    "        def dfs(cur):\n",
    "            if not cur: return\n",
    "            if cur.left or cur.right:\n",
    "#                 print(cur.left.val, cur.right.val)\n",
    "                cur.left, cur.right = cur.right, cur.left\n",
    "            if cur.left:\n",
    "                dfs(cur.left)\n",
    "            if cur.right:\n",
    "                dfs(cur.right)\n",
    "        dfs(root)\n",
    "        return root\n"
   ]
  },
  {
   "cell_type": "markdown",
   "metadata": {
    "hidden": true
   },
   "source": [
    "2. DFS: post-order"
   ]
  },
  {
   "cell_type": "code",
   "execution_count": 223,
   "metadata": {
    "ExecuteTime": {
     "end_time": "2021-07-01T14:11:21.244947Z",
     "start_time": "2021-07-01T14:11:21.241053Z"
    },
    "hidden": true
   },
   "outputs": [],
   "source": [
    "class Solution:\n",
    "    def invertTree(self, root: TreeNode) -> TreeNode:\n",
    "        def dfs(cur):\n",
    "            if not cur: return\n",
    "            if cur.left:\n",
    "                dfs(cur.left)\n",
    "            if cur.right:\n",
    "                dfs(cur.right)\n",
    "            \n",
    "            if cur.left or cur.right:\n",
    "#                 print(cur.left.val, cur.right.val)\n",
    "                cur.left, cur.right = cur.right, cur.left\n",
    "        dfs(root)\n",
    "        return root\n"
   ]
  },
  {
   "cell_type": "markdown",
   "metadata": {
    "hidden": true
   },
   "source": [
    "3. 迭代法：pre-order"
   ]
  },
  {
   "cell_type": "code",
   "execution_count": 397,
   "metadata": {
    "ExecuteTime": {
     "end_time": "2021-07-02T01:18:57.799185Z",
     "start_time": "2021-07-02T01:18:57.795368Z"
    },
    "hidden": true
   },
   "outputs": [],
   "source": [
    "class Solution:\n",
    "    def invertTree(self, root: TreeNode) -> TreeNode:\n",
    "        res, tmp = [], []\n",
    "        tmp.append(root)\n",
    "        cur = root\n",
    "        while tmp:\n",
    "            cur = tmp.pop()\n",
    "            cur.left, cur.right = cur.right, cur.left\n",
    "#             res.append(cur.val)\n",
    "            if cur.right:\n",
    "                tmp.append(cur.right)\n",
    "            if cur.left:\n",
    "                tmp.append(cur.left)\n",
    "        return root"
   ]
  },
  {
   "cell_type": "markdown",
   "metadata": {
    "hidden": true
   },
   "source": [
    "4. 迭代法：post-order"
   ]
  },
  {
   "cell_type": "code",
   "execution_count": 413,
   "metadata": {
    "ExecuteTime": {
     "end_time": "2021-07-02T01:30:27.680146Z",
     "start_time": "2021-07-02T01:30:27.674967Z"
    },
    "hidden": true
   },
   "outputs": [],
   "source": [
    "class Solution(object):\n",
    "    def invertTree(self, root: TreeNode) -> TreeNode:\n",
    "        postorder, tmp = [], []\n",
    "        tmp.append(root)\n",
    "        while tmp:\n",
    "            cur = tmp.pop()\n",
    "            cur.left, cur.right = cur.right, cur.left\n",
    "#             postorder.append(cur.val)\n",
    "            if cur.left: tmp.append(cur.left)\n",
    "            if cur.right: tmp.append(cur.right)\n",
    "        return root"
   ]
  },
  {
   "cell_type": "code",
   "execution_count": 46,
   "metadata": {
    "ExecuteTime": {
     "end_time": "2021-07-25T00:24:30.804364Z",
     "start_time": "2021-07-25T00:24:30.799063Z"
    },
    "hidden": true
   },
   "outputs": [],
   "source": [
    "class BinaryTree():\n",
    "    def __init__(self, val, left, right):\n",
    "        self.val = val\n",
    "        self.left = left\n",
    "        self.right = right\n",
    "\n",
    "bt1 = BinaryTree(1, None, None)\n",
    "bt2 = BinaryTree(2, None, None)\n",
    "bt3 = BinaryTree(3, None, None)\n",
    "bt4 = BinaryTree(4, None, None)\n",
    "bt5 = BinaryTree(5, None, None)\n",
    "bt6 = BinaryTree(6, None, None)\n",
    "bt7 = BinaryTree(7, None, None)\n",
    "\n",
    "bt1.left, bt1.right = bt2, bt3\n",
    "bt2.left, bt2.right = bt4, bt5\n",
    "bt3.left, bt3.right = bt6, bt7"
   ]
  },
  {
   "cell_type": "code",
   "execution_count": 47,
   "metadata": {
    "ExecuteTime": {
     "end_time": "2021-07-25T00:24:30.999585Z",
     "start_time": "2021-07-25T00:24:30.993725Z"
    },
    "hidden": true,
    "scrolled": true
   },
   "outputs": [
    {
     "data": {
      "text/plain": [
       "(3, 2, 6, 7, 4, 5)"
      ]
     },
     "execution_count": 47,
     "metadata": {},
     "output_type": "execute_result"
    }
   ],
   "source": [
    "a = Solution()\n",
    "res = a.invertTree(bt1)\n",
    "res.left.val, res.right.val, res.left.left.val, res.left.right.val, res.right.left.val, res.right.right.val"
   ]
  },
  {
   "cell_type": "markdown",
   "metadata": {
    "heading_collapsed": true
   },
   "source": [
    "### 101. 对称二叉树"
   ]
  },
  {
   "cell_type": "markdown",
   "metadata": {
    "hidden": true
   },
   "source": [
    "#### DFS：递归\n",
    "🍓后序遍历是一种回溯：\n",
    "\n",
    "1. 通过递归函数的**返回值**判断两个子树的内外侧节点是否相等\n",
    "\n",
    "2. 不是严格意义上的后序遍历。遍历比较一个树的左右中的另一侧树的右左中"
   ]
  },
  {
   "cell_type": "code",
   "execution_count": 48,
   "metadata": {
    "ExecuteTime": {
     "end_time": "2021-07-25T03:52:50.564599Z",
     "start_time": "2021-07-25T03:52:50.558693Z"
    },
    "hidden": true
   },
   "outputs": [],
   "source": [
    "class Solution:\n",
    "    def isSymmetric(self, root: TreeNode) -> bool:\n",
    "        def backtrack(t1, t2):\n",
    "            # 出口\n",
    "            if not t1 and not t2: return True\n",
    "            if not t1 or not t2 or t1.val!=t2.val: return False\n",
    "            # \n",
    "            inner =  backtrack(t1.left, t2.right)\n",
    "            outter = backtrack(t1.right, t2.left)\n",
    "            return True if inner==outter else False\n",
    "        if not root: return True\n",
    "        return backtrack(root.left, root.right)"
   ]
  },
  {
   "cell_type": "markdown",
   "metadata": {
    "hidden": true
   },
   "source": [
    "#### DFS: 迭代\n",
    "暂存待处理节点可以是队列、栈或是列表"
   ]
  },
  {
   "cell_type": "code",
   "execution_count": 424,
   "metadata": {
    "ExecuteTime": {
     "end_time": "2021-07-05T00:54:47.636705Z",
     "start_time": "2021-07-05T00:54:47.631038Z"
    },
    "hidden": true
   },
   "outputs": [],
   "source": [
    "from collections import deque\n",
    "class Solution:\n",
    "    def isSymmetric(self, root: TreeNode) -> bool:\n",
    "        if not root: return True\n",
    "        tmp = deque()\n",
    "        tmp.append(root.left)\n",
    "        tmp.append(root.right)\n",
    "        while tmp:\n",
    "            n1, n2 = tmp.popleft(), tmp.popleft()\n",
    "            if not n1 and not n2: continue\n",
    "            if not n1 or not n2 or n1.val!=n2.val: return False\n",
    "            tmp.append(n1.left)\n",
    "            tmp.append(n2.right)\n",
    "            tmp.append(n1.right)\n",
    "            tmp.append(n2.left)\n",
    "        \n",
    "        return True"
   ]
  },
  {
   "cell_type": "code",
   "execution_count": 50,
   "metadata": {
    "ExecuteTime": {
     "end_time": "2021-07-25T03:53:02.581953Z",
     "start_time": "2021-07-25T03:53:02.575370Z"
    },
    "hidden": true
   },
   "outputs": [],
   "source": [
    "class BinaryTree():\n",
    "    def __init__(self, val, left, right):\n",
    "        self.val = val\n",
    "        self.left = left\n",
    "        self.right = right\n",
    "\n",
    "bt1 = BinaryTree(1, None, None)\n",
    "bt2 = BinaryTree(2, None, None)\n",
    "bt3 = BinaryTree(2, None, None)\n",
    "bt4 = BinaryTree(3, None, None)\n",
    "bt5 = BinaryTree(5, None, None)\n",
    "bt6 = BinaryTree(5, None, None)\n",
    "bt7 = BinaryTree(3, None, None)\n",
    "\n",
    "bt1.left, bt1.right = bt2, bt3\n",
    "bt2.left, bt2.right = bt4, bt5\n",
    "bt3.left, bt3.right = bt6, bt7"
   ]
  },
  {
   "cell_type": "code",
   "execution_count": 51,
   "metadata": {
    "ExecuteTime": {
     "end_time": "2021-07-25T03:53:02.737154Z",
     "start_time": "2021-07-25T03:53:02.732738Z"
    },
    "hidden": true
   },
   "outputs": [
    {
     "data": {
      "text/plain": [
       "True"
      ]
     },
     "execution_count": 51,
     "metadata": {},
     "output_type": "execute_result"
    }
   ],
   "source": [
    "a = Solution()\n",
    "res = a.isSymmetric(bt1)\n",
    "res"
   ]
  },
  {
   "cell_type": "markdown",
   "metadata": {
    "heading_collapsed": true
   },
   "source": [
    "### 104. 二叉树的最大深度"
   ]
  },
  {
   "cell_type": "markdown",
   "metadata": {
    "heading_collapsed": true,
    "hidden": true
   },
   "source": [
    "#### DFS: 递归"
   ]
  },
  {
   "cell_type": "markdown",
   "metadata": {
    "hidden": true
   },
   "source": [
    "1. Carl方法：🍓参数返回值为depth"
   ]
  },
  {
   "cell_type": "code",
   "execution_count": null,
   "metadata": {
    "hidden": true
   },
   "outputs": [],
   "source": [
    "class Solution:\n",
    "    def maxDepth(self, root:TreeNode) -> int:\n",
    "        def dfs(node, depth):\n",
    "            if not node: return 0\n",
    "            left  = dfs(node.left,  depth)  # 递归左孩子\n",
    "            right = dfs(node.right, depth)  # 递归右孩子\n",
    "            depth = max(left, right) + 1    # 处理当前节点\n",
    "            return depth\n",
    "        return dfs(root, 0)"
   ]
  },
  {
   "cell_type": "markdown",
   "metadata": {
    "hidden": true
   },
   "source": [
    "2. 简化版本"
   ]
  },
  {
   "cell_type": "code",
   "execution_count": 473,
   "metadata": {
    "ExecuteTime": {
     "end_time": "2021-07-05T11:52:34.726858Z",
     "start_time": "2021-07-05T11:52:34.722718Z"
    },
    "hidden": true
   },
   "outputs": [],
   "source": [
    "class Solution:\n",
    "    def maxDepth(self, root: TreeNode) -> int:\n",
    "        def dfs(node, depth):\n",
    "            if not node: return depth\n",
    "            return max(dfs(node.left, depth), dfs(node.right, depth)) + 1\n",
    "        return dfs(root, 0)"
   ]
  },
  {
   "cell_type": "markdown",
   "metadata": {
    "heading_collapsed": true,
    "hidden": true
   },
   "source": [
    "#### BFS: 迭代"
   ]
  },
  {
   "cell_type": "code",
   "execution_count": 55,
   "metadata": {
    "ExecuteTime": {
     "end_time": "2021-07-25T06:37:57.358382Z",
     "start_time": "2021-07-25T06:37:57.353307Z"
    },
    "hidden": true
   },
   "outputs": [],
   "source": [
    "class Solution:\n",
    "    def maxDepth(self, root: TreeNode) -> int:\n",
    "        if not root: return 0\n",
    "        depth = 0\n",
    "        dq = deque()\n",
    "        dq.append(root)\n",
    "        while dq:\n",
    "            for i in range(len(dq)):\n",
    "                cur = dq.popleft()\n",
    "                if cur.left:  dq.append(cur.left)\n",
    "                if cur.right: dq.append(cur.right)\n",
    "            depth += 1\n",
    "        return depth"
   ]
  },
  {
   "cell_type": "code",
   "execution_count": 56,
   "metadata": {
    "ExecuteTime": {
     "end_time": "2021-07-25T06:37:57.556230Z",
     "start_time": "2021-07-25T06:37:57.552978Z"
    },
    "hidden": true
   },
   "outputs": [
    {
     "data": {
      "text/plain": [
       "3"
      ]
     },
     "execution_count": 56,
     "metadata": {},
     "output_type": "execute_result"
    }
   ],
   "source": [
    "a = Solution()\n",
    "res = a.maxDepth(bt1)\n",
    "res"
   ]
  },
  {
   "cell_type": "markdown",
   "metadata": {
    "heading_collapsed": true
   },
   "source": [
    "### 559. N叉树的最大深度"
   ]
  },
  {
   "cell_type": "markdown",
   "metadata": {
    "hidden": true
   },
   "source": [
    "#### DFS: 递归"
   ]
  },
  {
   "cell_type": "code",
   "execution_count": 68,
   "metadata": {
    "ExecuteTime": {
     "end_time": "2021-07-26T00:44:26.704600Z",
     "start_time": "2021-07-26T00:44:26.700173Z"
    },
    "hidden": true
   },
   "outputs": [],
   "source": [
    "class Solution:\n",
    "    def maxDepth(self, root):\n",
    "        def dfs(nt, maxDepth):\n",
    "            if not nt.children: return maxDepth\n",
    "            maxDepth += 1\n",
    "            for i in nt.children:\n",
    "                maxDepth = max(maxDepth, dfs(i, maxDepth))\n",
    "            return maxDepth\n",
    "        return dfs(root, 0)"
   ]
  },
  {
   "cell_type": "markdown",
   "metadata": {
    "hidden": true
   },
   "source": [
    "#### BFS: 迭代"
   ]
  },
  {
   "cell_type": "code",
   "execution_count": 71,
   "metadata": {
    "ExecuteTime": {
     "end_time": "2021-07-26T00:57:50.954079Z",
     "start_time": "2021-07-26T00:57:50.948988Z"
    },
    "hidden": true
   },
   "outputs": [],
   "source": [
    "class Solution:\n",
    "    def maxDepth(self, root):\n",
    "        if not root: return 0\n",
    "        tmp = deque()\n",
    "        tmp.append(root)\n",
    "        depth = 0\n",
    "        while tmp:\n",
    "            for i in range(len(tmp)):\n",
    "                cur = tmp.popleft()\n",
    "                if cur.children:\n",
    "                    for i in cur.children:\n",
    "                        tmp.append(i)\n",
    "            depth += 1\n",
    "        return depth"
   ]
  },
  {
   "cell_type": "code",
   "execution_count": 72,
   "metadata": {
    "ExecuteTime": {
     "end_time": "2021-07-26T00:57:53.367564Z",
     "start_time": "2021-07-26T00:57:53.361559Z"
    },
    "hidden": true
   },
   "outputs": [],
   "source": [
    "# Definition for a Node.\n",
    "class Node:\n",
    "    def __init__(self, val=None, children=None):\n",
    "        self.val = val\n",
    "        self.children = children\n",
    "        \n",
    "nt1 = Node(val=1)\n",
    "nt2 = Node(val=2)\n",
    "nt3 = Node(val=3)\n",
    "nt4 = Node(val=4)\n",
    "nt5 = Node(val=5)\n",
    "nt6 = Node(val=6)\n",
    "nt7 = Node(val=7)\n",
    "nt8 = Node(val=8)\n",
    "nt9 = Node(val=9)\n",
    "\n",
    "nt1.children = [nt2, nt3, nt4]\n",
    "nt2.children = [nt5, nt6]\n",
    "nt3.children = [nt7, nt8]\n",
    "nt7.children = [nt9]\n"
   ]
  },
  {
   "cell_type": "code",
   "execution_count": 73,
   "metadata": {
    "ExecuteTime": {
     "end_time": "2021-07-26T00:57:53.966587Z",
     "start_time": "2021-07-26T00:57:53.961344Z"
    },
    "hidden": true
   },
   "outputs": [
    {
     "data": {
      "text/plain": [
       "4"
      ]
     },
     "execution_count": 73,
     "metadata": {},
     "output_type": "execute_result"
    }
   ],
   "source": [
    "a = Solution()\n",
    "res = a.maxDepth(nt1)\n",
    "res"
   ]
  },
  {
   "cell_type": "markdown",
   "metadata": {
    "heading_collapsed": true
   },
   "source": [
    "### 111. 二叉树的最小深度\n",
    "给定一个二叉树，找出其最小深度。\n",
    "\n",
    "🍓最小深度是从根节点到最近叶子节点的最短路径上的节点数量。说明：叶子节点是指没有子节点的节点。"
   ]
  },
  {
   "cell_type": "markdown",
   "metadata": {
    "hidden": true
   },
   "source": [
    "#### DFS: 递归\n",
    "注意**单层循环逻辑**和maxDepth不同"
   ]
  },
  {
   "cell_type": "markdown",
   "metadata": {
    "hidden": true
   },
   "source": [
    "1. Carl模版：在处理左右分支时的方法与“求最大深度“不同"
   ]
  },
  {
   "cell_type": "markdown",
   "metadata": {
    "hidden": true
   },
   "source": [
    "错误例1：🍓和maxDepth时的方法，使用`min(left, right) + 1`的方法不正确。\n",
    "\n",
    "当二叉树对象存在不平衡的分支（即某侧只有单一方向分支长度>=2）时，返回值为0(空节点一测的深度)+1"
   ]
  },
  {
   "cell_type": "code",
   "execution_count": 99,
   "metadata": {
    "ExecuteTime": {
     "end_time": "2021-07-27T05:42:08.339052Z",
     "start_time": "2021-07-27T05:42:08.334475Z"
    },
    "hidden": true
   },
   "outputs": [],
   "source": [
    "class Solution:\n",
    "    def minDepth(self, root:TreeNode) -> int:\n",
    "        def dfs(node, depth):\n",
    "            if not node: return 0\n",
    "            left  = dfs(node.left,  depth)  # 递归左孩子\n",
    "            right = dfs(node.right, depth)  # 递归右孩子\n",
    "            depth = min(left, right) + 1    # 处理当前节点：🍓🍓🍓当有单侧长分支时返回值为0+1\n",
    "            return depth\n",
    "        return dfs(root, 0)"
   ]
  },
  {
   "cell_type": "markdown",
   "metadata": {
    "hidden": true
   },
   "source": [
    "🍓需要分别处理左右孩子不为空时的情况"
   ]
  },
  {
   "cell_type": "code",
   "execution_count": 120,
   "metadata": {
    "ExecuteTime": {
     "end_time": "2021-07-28T08:10:47.118277Z",
     "start_time": "2021-07-28T08:10:47.112917Z"
    },
    "hidden": true
   },
   "outputs": [],
   "source": [
    "class Solution:\n",
    "    def minDepth(self, root: BinaryTree) -> int:\n",
    "        def dfs(node, depth):\n",
    "            if not node: return 0\n",
    "            left  = dfs(node.left,  depth)  # 递归左孩子\n",
    "            right = dfs(node.right, depth)  # 递归右孩子\n",
    "                                            # 处理当前节点：🍓分别处理左右孩子不为空时的情况\n",
    "            if node.left and not node.right:\n",
    "                depth = left  + 1\n",
    "            elif not node.left and node.right:\n",
    "                depth = right + 1\n",
    "            elif not node.left and not node.right:\n",
    "                depth = 1\n",
    "            else: \n",
    "                depth = min(left, right) + 1\n",
    "            return depth\n",
    "        return dfs(root, 0)"
   ]
  },
  {
   "cell_type": "markdown",
   "metadata": {
    "hidden": true
   },
   "source": [
    "简化版本：不过不太利于理解"
   ]
  },
  {
   "cell_type": "code",
   "execution_count": 124,
   "metadata": {
    "ExecuteTime": {
     "end_time": "2021-07-28T08:12:13.279241Z",
     "start_time": "2021-07-28T08:12:13.274279Z"
    },
    "hidden": true
   },
   "outputs": [],
   "source": [
    "class Solution:\n",
    "    def minDepth(self, root: TreeNode) -> int:\n",
    "        def dfs(node, depth):\n",
    "            if not node.left and not node.right: return depth\n",
    "            if node.left and node.right: \n",
    "                return min(dfs(node.left, depth), dfs(node.right, depth)) + 1\n",
    "            if node.left: return dfs(node.left, depth) + 1\n",
    "            if node.right: return dfs(node.right, depth) + 1\n",
    "        \n",
    "        if not root: return 0\n",
    "        return dfs(root, 1)\n"
   ]
  },
  {
   "cell_type": "markdown",
   "metadata": {
    "hidden": true
   },
   "source": [
    "关于递归函数的参数返回值的思考"
   ]
  },
  {
   "cell_type": "code",
   "execution_count": 128,
   "metadata": {
    "ExecuteTime": {
     "end_time": "2021-07-28T08:26:49.485137Z",
     "start_time": "2021-07-28T08:26:49.479852Z"
    },
    "hidden": true
   },
   "outputs": [],
   "source": [
    "class Solution:\n",
    "    def minDepth(self, root: BinaryTree) -> int:\n",
    "        def dfs(node, depth):\n",
    "            if not node:\n",
    "                return 0\n",
    "            if not node.left and not node.right:\n",
    "                return 1\n",
    "            minDepth = 10**9\n",
    "            if node.left:\n",
    "                left = dfs(node.left,  depth)\n",
    "                depth = \n",
    "#                 depth = min(left, minDepth)+1\n",
    "            if node.right:\n",
    "                right = dfs(node.right, depth)\n",
    "#                 depth = min(right, minDepth)+1\n",
    "            return depth       \n",
    "        return dfs(root, 0)"
   ]
  },
  {
   "cell_type": "code",
   "execution_count": 129,
   "metadata": {
    "ExecuteTime": {
     "end_time": "2021-07-28T08:26:49.976305Z",
     "start_time": "2021-07-28T08:26:49.972909Z"
    },
    "hidden": true
   },
   "outputs": [
    {
     "data": {
      "text/plain": [
       "5"
      ]
     },
     "execution_count": 129,
     "metadata": {},
     "output_type": "execute_result"
    }
   ],
   "source": [
    "a = Solution()\n",
    "res = a.minDepth(bt1)\n",
    "res"
   ]
  },
  {
   "cell_type": "code",
   "execution_count": 86,
   "metadata": {
    "ExecuteTime": {
     "end_time": "2021-07-27T04:43:34.897520Z",
     "start_time": "2021-07-27T04:43:34.892602Z"
    },
    "hidden": true
   },
   "outputs": [],
   "source": [
    "class Solution:\n",
    "    def minDepth(self, root: BinaryTree) -> int:\n",
    "        def dfs(node):\n",
    "            if not node:\n",
    "                return 0\n",
    "            if not node.left and not node.right:\n",
    "                return 1\n",
    "            minDepth = 10**9\n",
    "            if node.left:\n",
    "                left = dfs(node.left)   # 🍓🍓🍓因为dfs递归没有返回值，是None\n",
    "                self.depth = min(left, self.depth)+1\n",
    "            if node.right:\n",
    "                right = dfs(node.right)\n",
    "                self.depth = min(right, self.depth)+1\n",
    "            # return depth       # 🍓🍓🍓没有返回值，即无值参与参数传递\n",
    "        self.depth = 0\n",
    "        return dfs(root)\n"
   ]
  },
  {
   "cell_type": "markdown",
   "metadata": {
    "hidden": true
   },
   "source": [
    "dfs单一输入参数\n",
    "\n",
    "分步写法更符合递归三部曲的内容"
   ]
  },
  {
   "cell_type": "code",
   "execution_count": 508,
   "metadata": {
    "ExecuteTime": {
     "end_time": "2021-07-06T01:38:10.682120Z",
     "start_time": "2021-07-06T01:38:10.677214Z"
    },
    "hidden": true
   },
   "outputs": [],
   "source": [
    "class Solution:\n",
    "    def minDepth(self, root: TreeNode) -> int:\n",
    "        def dfs(node):\n",
    "            if not node: return 0        # 出口\n",
    "            leftDepth  = dfs(node.left)  \n",
    "            rightDepth = dfs(node.right)\n",
    "            if not node.left and node.right: return rightDepth + 1  # 单层递归逻辑\n",
    "            if node.left and not node.right: return leftDepth  + 1\n",
    "            result = min(leftDepth, rightDepth) + 1\n",
    "            return result\n",
    "        if not root: return 0\n",
    "        return dfs(root)"
   ]
  },
  {
   "cell_type": "code",
   "execution_count": 102,
   "metadata": {
    "ExecuteTime": {
     "end_time": "2021-07-27T12:37:53.948184Z",
     "start_time": "2021-07-27T12:37:53.941978Z"
    },
    "code_folding": [],
    "hidden": true
   },
   "outputs": [],
   "source": [
    "class BinaryTree():\n",
    "    def __init__(self, val, left, right):\n",
    "        self.val = val\n",
    "        self.left = left\n",
    "        self.right = right\n",
    "\n",
    "bt1 = BinaryTree(1, None, None)\n",
    "bt2 = BinaryTree(2, None, None)\n",
    "bt3 = BinaryTree(3, None, None)\n",
    "bt4 = BinaryTree(4, None, None)\n",
    "bt5 = BinaryTree(5, None, None)\n",
    "bt6 = BinaryTree(6, None, None)\n",
    "bt7 = BinaryTree(7, None, None)\n",
    "bt8 = BinaryTree(8, None, None)\n",
    "\n",
    "bt1.left = bt2\n",
    "bt2.left = bt3\n",
    "bt3.left  = bt4\n",
    "bt4.right = bt5"
   ]
  },
  {
   "cell_type": "markdown",
   "metadata": {
    "hidden": true
   },
   "source": [
    "#### BFS: 迭代\n",
    "🍓当处理叶子节点（当前节点没有左右孩子）是直接返回depth"
   ]
  },
  {
   "cell_type": "code",
   "execution_count": 104,
   "metadata": {
    "ExecuteTime": {
     "end_time": "2021-07-27T12:38:03.123291Z",
     "start_time": "2021-07-27T12:38:03.118171Z"
    },
    "hidden": true
   },
   "outputs": [],
   "source": [
    "class Solution:\n",
    "    def minDepth(self, root: TreeNode) -> int:\n",
    "        depth = 0\n",
    "        dq = deque()\n",
    "        dq.append(root)\n",
    "        while dq:\n",
    "            depth += 1\n",
    "            for i in range(len(dq)):\n",
    "                cur = dq.popleft()\n",
    "                if not cur.left and not cur.right: \n",
    "                    return depth\n",
    "                if cur.left:\n",
    "                    dq.append(cur.left)\n",
    "                if cur.right:\n",
    "                    dq.append(cur.right)\n",
    "        return depth"
   ]
  },
  {
   "cell_type": "markdown",
   "metadata": {
    "heading_collapsed": true
   },
   "source": [
    "### 222. 完全二叉树的节点个数\n"
   ]
  },
  {
   "cell_type": "markdown",
   "metadata": {
    "hidden": true
   },
   "source": [
    "1. 递归统计所有节点，适用任意普通二叉树。时间复杂度:$O(N)$，空间复杂度:$O(logN)$\n",
    "2. 递归寻找所有**满二叉子树**，完美二叉树由满二叉树和独立节点组成。🍓时间复杂度:$O((logN)^2)$，空间复杂度:$O(logN)$"
   ]
  },
  {
   "cell_type": "markdown",
   "metadata": {
    "heading_collapsed": true,
    "hidden": true
   },
   "source": [
    "#### DFS: 递归"
   ]
  },
  {
   "cell_type": "markdown",
   "metadata": {
    "heading_collapsed": true,
    "hidden": true
   },
   "source": [
    "##### 方法1\n",
    "后序遍历，单层循环逻辑同#111"
   ]
  },
  {
   "cell_type": "code",
   "execution_count": 9,
   "metadata": {
    "ExecuteTime": {
     "end_time": "2021-07-30T07:49:44.917021Z",
     "start_time": "2021-07-30T07:49:44.912395Z"
    },
    "hidden": true
   },
   "outputs": [],
   "source": [
    "class Solution:\n",
    "    def countNodes(self, root: BinaryTree) -> int:\n",
    "        def dfs(node, count):\n",
    "            if not node: return 0\n",
    "            left  = dfs(node.left, count)   # 左\n",
    "            right = dfs(node.right, count)  # 右\n",
    "            count = left + right + 1        # 中：左右节点+当前节点\n",
    "            return count\n",
    "        if not root: return 0\n",
    "        return dfs(root, 0)"
   ]
  },
  {
   "cell_type": "markdown",
   "metadata": {
    "heading_collapsed": true,
    "hidden": true
   },
   "source": [
    "##### 方法2"
   ]
  },
  {
   "cell_type": "code",
   "execution_count": 25,
   "metadata": {
    "ExecuteTime": {
     "end_time": "2021-07-30T07:55:24.099299Z",
     "start_time": "2021-07-30T07:55:24.093637Z"
    },
    "hidden": true
   },
   "outputs": [],
   "source": [
    "class Solution:\n",
    "    def countNodes(self, root: BinaryTree) -> int:\n",
    "        def dfs(node):\n",
    "            if not node: return 0\n",
    "            \n",
    "            leftNode, leftDepth = node, 1\n",
    "            while leftNode.left:\n",
    "                leftDepth += 1\n",
    "                leftNode = leftNode.left\n",
    "            rightNode, rightDepth = node, 1\n",
    "            while rightNode.right:\n",
    "                rightDepth += 1\n",
    "                rightNode = rightNode.right\n",
    "            \n",
    "            if leftDepth == rightDepth: return 2**leftDepth-1\n",
    "            else:\n",
    "                left  = dfs(node.left)\n",
    "                right = dfs(node.right)\n",
    "                return left+right+1\n",
    "        return dfs(root)"
   ]
  },
  {
   "cell_type": "markdown",
   "metadata": {
    "heading_collapsed": true,
    "hidden": true
   },
   "source": [
    "#### BFS: 迭代"
   ]
  },
  {
   "cell_type": "code",
   "execution_count": 34,
   "metadata": {
    "ExecuteTime": {
     "end_time": "2021-07-30T08:06:10.984018Z",
     "start_time": "2021-07-30T08:06:10.978650Z"
    },
    "hidden": true
   },
   "outputs": [],
   "source": [
    "from collections import deque\n",
    "class Solution:\n",
    "    def countNodes(self, root: BinaryTree) -> int:\n",
    "        if not root: return 0\n",
    "        count = 0\n",
    "        dq = deque()\n",
    "        dq.append(root)\n",
    "        while dq:\n",
    "            for _ in range(len(dq)):\n",
    "                count += 1\n",
    "                cur = dq.popleft()\n",
    "                if cur.left:  dq.append(cur.left)\n",
    "                if cur.right: dq.append(cur.right)\n",
    "        return count"
   ]
  },
  {
   "cell_type": "code",
   "execution_count": 26,
   "metadata": {
    "ExecuteTime": {
     "end_time": "2021-07-30T07:55:24.345856Z",
     "start_time": "2021-07-30T07:55:24.339531Z"
    },
    "hidden": true
   },
   "outputs": [],
   "source": [
    "class BinaryTree():\n",
    "    def __init__(self, val, left, right):\n",
    "        self.val = val\n",
    "        self.left = left\n",
    "        self.right = right\n",
    "\n",
    "bt1 = BinaryTree(1, None, None)\n",
    "bt2 = BinaryTree(2, None, None)\n",
    "bt3 = BinaryTree(3, None, None)\n",
    "bt4 = BinaryTree(4, None, None)\n",
    "bt5 = BinaryTree(5, None, None)\n",
    "bt6 = BinaryTree(6, None, None)\n",
    "bt7 = BinaryTree(7, None, None)\n",
    "bt8 = BinaryTree(8, None, None)\n",
    "\n",
    "bt1.left, bt1.right = bt2, bt3\n",
    "bt2.left, bt2.right = bt4, bt5\n",
    "bt3.left, bt3.right = bt6, bt7\n",
    "\n",
    "bt4.left = bt8"
   ]
  },
  {
   "cell_type": "code",
   "execution_count": 35,
   "metadata": {
    "ExecuteTime": {
     "end_time": "2021-07-30T08:06:11.137937Z",
     "start_time": "2021-07-30T08:06:11.134291Z"
    },
    "hidden": true
   },
   "outputs": [
    {
     "data": {
      "text/plain": [
       "8"
      ]
     },
     "execution_count": 35,
     "metadata": {},
     "output_type": "execute_result"
    }
   ],
   "source": [
    "a = Solution()\n",
    "res = a.countNodes(bt1)\n",
    "res"
   ]
  },
  {
   "cell_type": "markdown",
   "metadata": {},
   "source": [
    "### 110. 平衡二叉树\n",
    "🍓了解求二叉树深度和二叉树高度的差异。\n",
    "\n",
    "🍓求深度适合用前序遍历，而求高度适合用后序遍历。因为求深度可以从上到下去查 所以需要前序遍历(中左右)，而高度只能从下到上去查，所以只能后序遍历(左右 中)"
   ]
  },
  {
   "cell_type": "markdown",
   "metadata": {},
   "source": [
    "* 二叉树节点的深度:指从根节点到该节点的最⻓简单路径边的条数。\n",
    "* 二叉树节点的高度:指从该节点到叶子节点的最⻓简单路径边的条数。"
   ]
  },
  {
   "cell_type": "markdown",
   "metadata": {},
   "source": [
    "计算高度"
   ]
  },
  {
   "cell_type": "code",
   "execution_count": 37,
   "metadata": {
    "ExecuteTime": {
     "end_time": "2021-07-31T00:26:33.718590Z",
     "start_time": "2021-07-31T00:26:33.713934Z"
    }
   },
   "outputs": [],
   "source": [
    "class Solution:\n",
    "    def isBalanced(self, root: BinaryTree) -> bool:\n",
    "        def dfs(node, depth):\n",
    "            if not node: return 0\n",
    "            leftDepth  = dfs(node.left,  depth)\n",
    "            rightDepth = dfs(node.right, depth)\n",
    "            if abs(leftDepth-rightDepth) > 1:\n",
    "                return -1\n",
    "            depth = max(leftDepth, rightDepth) + 1\n",
    "            return depth\n",
    "        if not root: return 0\n",
    "        return dfs(root, 0)\n"
   ]
  },
  {
   "cell_type": "code",
   "execution_count": null,
   "metadata": {},
   "outputs": [],
   "source": [
    "class Solution:\n",
    "    def isBalanced(self, root: BinaryTree) -> bool:\n",
    "        def dfs(node):\n",
    "            if not node: return 0\n",
    "            leftDepth = dfs(node.left)            # 左\n",
    "            if leftDepth == -1:  return -1\n",
    "            rightDepth = dfs(node.right)          # 右\n",
    "            if rightDepth == -1: return -1\n",
    "            return max(leftDepth, rightDepth) + 1 # 中\n",
    "        if not root: return 0\n",
    "        return dfs(root)\n",
    "        "
   ]
  },
  {
   "cell_type": "markdown",
   "metadata": {},
   "source": [
    "判断是否为平衡二叉树"
   ]
  },
  {
   "cell_type": "code",
   "execution_count": 23,
   "metadata": {
    "ExecuteTime": {
     "end_time": "2021-07-07T12:45:58.701889Z",
     "start_time": "2021-07-07T12:45:58.696687Z"
    }
   },
   "outputs": [],
   "source": [
    "class Solution:\n",
    "    def isBalanced(self, root: BinaryTree) -> bool:\n",
    "        def dfs(node):\n",
    "            if not node: return 0\n",
    "            leftDepth = dfs(node.left)\n",
    "            if leftDepth == -1:  return -1\n",
    "            rightDepth = dfs(node.right)\n",
    "            if rightDepth == -1: return -1\n",
    "            print(leftDepth, rightDepth)\n",
    "            return max(leftDepth, rightDepth)+1 if abs(leftDepth-rightDepth)<=1 else -1\n",
    "        if not root: return True\n",
    "        return True if dfs(root)>0 else False\n",
    "        "
   ]
  },
  {
   "cell_type": "code",
   "execution_count": 38,
   "metadata": {
    "ExecuteTime": {
     "end_time": "2021-07-31T00:26:37.209671Z",
     "start_time": "2021-07-31T00:26:37.203105Z"
    }
   },
   "outputs": [],
   "source": [
    "class BinaryTree():\n",
    "    def __init__(self, val, left, right):\n",
    "        self.val = val\n",
    "        self.left = left\n",
    "        self.right = right\n",
    "\n",
    "bt1 = BinaryTree(1, None, None)\n",
    "bt2 = BinaryTree(2, None, None)\n",
    "bt3 = BinaryTree(3, None, None)\n",
    "bt4 = BinaryTree(4, None, None)\n",
    "bt5 = BinaryTree(5, None, None)\n",
    "bt6 = BinaryTree(6, None, None)\n",
    "bt7 = BinaryTree(7, None, None)\n",
    "bt8 = BinaryTree(8, None, None)\n",
    "\n",
    "bt1.left, bt1.right = bt2, bt3\n",
    "bt2.left, bt2.right = bt4, bt5\n",
    "bt3.left, bt3.right = bt6, bt7\n",
    "\n",
    "# bt6.left = bt8\n"
   ]
  },
  {
   "cell_type": "code",
   "execution_count": 39,
   "metadata": {
    "ExecuteTime": {
     "end_time": "2021-07-31T00:26:37.677193Z",
     "start_time": "2021-07-31T00:26:37.672641Z"
    }
   },
   "outputs": [
    {
     "data": {
      "text/plain": [
       "3"
      ]
     },
     "execution_count": 39,
     "metadata": {},
     "output_type": "execute_result"
    }
   ],
   "source": [
    "a = Solution()\n",
    "res = a.isBalanced(bt1)\n",
    "res"
   ]
  },
  {
   "cell_type": "markdown",
   "metadata": {
    "heading_collapsed": true
   },
   "source": [
    "### 257. 二叉树的所有路径\n",
    "给定一个二叉树，返回所有从根节点到叶子节点的路径。"
   ]
  },
  {
   "cell_type": "code",
   "execution_count": 66,
   "metadata": {
    "ExecuteTime": {
     "end_time": "2021-07-08T12:00:26.247847Z",
     "start_time": "2021-07-08T12:00:26.242132Z"
    },
    "hidden": true
   },
   "outputs": [],
   "source": [
    "from typing import List\n",
    "class Solution:\n",
    "    def binaryTreePaths(self, root: BinaryTree) -> List[str]:\n",
    "        res, tmp = [], []\n",
    "        def dfs(node):\n",
    "            if not node:\n",
    "                path = \"->\".join(str(i) for i in tmp)\n",
    "                if path not in res:\n",
    "                    res.append(path)\n",
    "                return \n",
    "            tmp.append(node.val)\n",
    "            dfs(node.left)\n",
    "            dfs(node.right)\n",
    "            tmp.pop()\n",
    "        dfs(root)\n",
    "        return res    "
   ]
  },
  {
   "cell_type": "code",
   "execution_count": 82,
   "metadata": {
    "ExecuteTime": {
     "end_time": "2021-07-08T12:24:11.182712Z",
     "start_time": "2021-07-08T12:24:11.176213Z"
    },
    "hidden": true
   },
   "outputs": [],
   "source": [
    "from typing import List\n",
    "class Solution:\n",
    "    def binaryTreePaths(self, root: BinaryTree) -> List[str]:\n",
    "        res, tmp = [], []\n",
    "        def dfs(node):\n",
    "            if not node.left and not node.right:\n",
    "                tmp.append(str(node.val))\n",
    "                path = \"->\".join(tmp)\n",
    "                return res.append(path)   \n",
    "            \n",
    "            tmp.append(str(node.val))\n",
    "            if node.left:\n",
    "                dfs(node.left)\n",
    "                tmp.pop()\n",
    "            if node.right:\n",
    "                dfs(node.right)\n",
    "                tmp.pop()\n",
    "        dfs(root)\n",
    "        return res    "
   ]
  },
  {
   "cell_type": "code",
   "execution_count": 83,
   "metadata": {
    "ExecuteTime": {
     "end_time": "2021-07-08T12:24:11.389581Z",
     "start_time": "2021-07-08T12:24:11.385792Z"
    },
    "hidden": true
   },
   "outputs": [],
   "source": [
    "class BinaryTree():\n",
    "    def __init__(self, val, left, right):\n",
    "        self.val = val\n",
    "        self.left = left\n",
    "        self.right = right\n",
    "\n",
    "bt1 = BinaryTree(1, None, None)\n",
    "bt2 = BinaryTree(2, None, None)\n",
    "bt3 = BinaryTree(3, None, None)\n",
    "bt4 = BinaryTree(4, None, None)\n",
    "bt5 = BinaryTree(5, None, None)\n",
    "bt6 = BinaryTree(6, None, None)\n",
    "bt7 = BinaryTree(7, None, None)\n",
    "bt8 = BinaryTree(8, None, None)\n",
    "\n",
    "bt1.left, bt1.right = bt2, bt3\n",
    "bt2.right = bt5"
   ]
  },
  {
   "cell_type": "code",
   "execution_count": 84,
   "metadata": {
    "ExecuteTime": {
     "end_time": "2021-07-08T12:24:11.964098Z",
     "start_time": "2021-07-08T12:24:11.958725Z"
    },
    "hidden": true
   },
   "outputs": [
    {
     "data": {
      "text/plain": [
       "['1->2->5', '1->3']"
      ]
     },
     "execution_count": 84,
     "metadata": {},
     "output_type": "execute_result"
    }
   ],
   "source": [
    "a = Solution()\n",
    "res = a.binaryTreePaths(bt1)\n",
    "res"
   ]
  },
  {
   "cell_type": "markdown",
   "metadata": {
    "hidden": true
   },
   "source": [
    "🍓join( )的用法：用于将序列中的元素以指定的字符连接生成一个新的字符串。"
   ]
  },
  {
   "cell_type": "code",
   "execution_count": 86,
   "metadata": {
    "ExecuteTime": {
     "end_time": "2021-07-08T12:26:12.363091Z",
     "start_time": "2021-07-08T12:26:12.357615Z"
    },
    "hidden": true,
    "scrolled": true
   },
   "outputs": [
    {
     "data": {
      "text/plain": [
       "'r->a->n->g->e->(->0->,-> ->1->0->)'"
      ]
     },
     "execution_count": 86,
     "metadata": {},
     "output_type": "execute_result"
    }
   ],
   "source": [
    "tmp = range(10)\n",
    "# '->'.join(str(i) for i in tmp)\n",
    "'->'.join(iter(str(tmp)))"
   ]
  },
  {
   "cell_type": "markdown",
   "metadata": {
    "hidden": true
   },
   "source": [
    "🍓iter的用法"
   ]
  },
  {
   "cell_type": "markdown",
   "metadata": {
    "hidden": true
   },
   "source": [
    "🍓函数嵌套时的变量作用域：\n",
    "\n",
    "str&int对象：当内部函数中存在**变量定义或修改**时，由于存在歧义，该变量的作用域为local；需要在函数内部进行global声明\n",
    "\n",
    "list&dict对象：由于变量修改语句的对象是明确的，不存在歧义，该变量不需要global声明\n",
    "\n",
    "一个函数嵌套中使用全局变量的方法👇："
   ]
  },
  {
   "cell_type": "code",
   "execution_count": null,
   "metadata": {
    "hidden": true
   },
   "outputs": [],
   "source": [
    "class Solution(object):\n",
    "    def sumOfLeftLeaves(root):\n",
    "        s, t  = 0, 1\n",
    "        def dfs():\n",
    "            global s           # 内部函数声明global\n",
    "            global t\n",
    "\n",
    "            if t >= 5: return  # 出口不需要返回值\n",
    "            t += 1\n",
    "            s += t\n",
    "            dfs()\n",
    "            return s, t        # 结束递归时才传递参数\n",
    "        res = dfs()\n",
    "        return res"
   ]
  },
  {
   "cell_type": "markdown",
   "metadata": {
    "heading_collapsed": true
   },
   "source": [
    "### 404. 左叶子之和"
   ]
  },
  {
   "cell_type": "markdown",
   "metadata": {
    "hidden": true
   },
   "source": [
    "1. DFS: 递归"
   ]
  },
  {
   "cell_type": "code",
   "execution_count": 13,
   "metadata": {
    "ExecuteTime": {
     "end_time": "2021-07-14T03:14:13.743051Z",
     "start_time": "2021-07-14T03:14:13.736838Z"
    },
    "hidden": true
   },
   "outputs": [],
   "source": [
    "class Solution:\n",
    "    def sumOfLeftLeaves(self, root: BinaryTree) -> int:\n",
    "        self.sumOfLeft = 0\n",
    "        def leftLeaf(bt):\n",
    "            return True if bt.left and not bt.left.left and not bt.left.right else False\n",
    "        def dfs(bt):\n",
    "            if not root: return\n",
    "#             global sumOfLeft\n",
    "            if leftLeaf(bt): \n",
    "                self.sumOfLeft += bt.left.val\n",
    "            if bt.left: dfs(bt.left)\n",
    "            if bt.right: dfs(bt.right)\n",
    "            return self.sumOfLeft\n",
    "        res = dfs(root)\n",
    "        return res"
   ]
  },
  {
   "cell_type": "code",
   "execution_count": 85,
   "metadata": {
    "ExecuteTime": {
     "end_time": "2021-07-15T00:28:34.988586Z",
     "start_time": "2021-07-15T00:28:34.982110Z"
    },
    "hidden": true
   },
   "outputs": [],
   "source": [
    "class BinaryTree():\n",
    "    def __init__(self, val, left, right):\n",
    "        self.val = val\n",
    "        self.left = left\n",
    "        self.right = right\n",
    "\n",
    "bt1 = BinaryTree(1, None, None)\n",
    "bt2 = BinaryTree(2, None, None)\n",
    "bt3 = BinaryTree(3, None, None)\n",
    "bt4 = BinaryTree(4, None, None)\n",
    "bt5 = BinaryTree(5, None, None)\n",
    "bt6 = BinaryTree(6, None, None)\n",
    "bt7 = BinaryTree(7, None, None)\n",
    "bt8 = BinaryTree(8, None, None)\n",
    "\n",
    "bt1.left, bt1.right = bt2, bt3\n",
    "bt2.left = bt4\n",
    "bt3.left = bt6\n",
    "\n",
    "# bt6.left = bt8\n"
   ]
  },
  {
   "cell_type": "code",
   "execution_count": 15,
   "metadata": {
    "ExecuteTime": {
     "end_time": "2021-07-14T03:14:14.541533Z",
     "start_time": "2021-07-14T03:14:14.528260Z"
    },
    "hidden": true
   },
   "outputs": [
    {
     "data": {
      "text/plain": [
       "10"
      ]
     },
     "execution_count": 15,
     "metadata": {},
     "output_type": "execute_result"
    }
   ],
   "source": [
    "a = Solution()\n",
    "res = a.sumOfLeftLeaves(bt1)\n",
    "res"
   ]
  },
  {
   "cell_type": "markdown",
   "metadata": {
    "hidden": true
   },
   "source": [
    "2. DFS: 迭代"
   ]
  },
  {
   "cell_type": "code",
   "execution_count": 30,
   "metadata": {
    "ExecuteTime": {
     "end_time": "2021-07-14T12:25:01.157608Z",
     "start_time": "2021-07-14T12:25:01.150690Z"
    },
    "hidden": true
   },
   "outputs": [],
   "source": [
    "from collections import deque\n",
    "class Solution:\n",
    "    def sumOfLeftLeaves(self, root: BinaryTree) -> int:\n",
    "        def leftLeaf(bt):\n",
    "            return True if bt.left and not bt.left.left and not bt.left.right else False\n",
    "        if not root: return 0\n",
    "        tmp = deque()\n",
    "        tmp.append(root)\n",
    "        sumOfLeft = 0\n",
    "        while tmp:\n",
    "            for _ in list(tmp):\n",
    "                cur = tmp.popleft()\n",
    "                if leftLeaf(cur): \n",
    "                    print(cur.left.val)\n",
    "                    sumOfLeft += cur.left.val\n",
    "                if cur.left:  tmp.append(cur.left)\n",
    "                if cur.right: tmp.append(cur.right)\n",
    "        return sumOfLeft"
   ]
  },
  {
   "cell_type": "code",
   "execution_count": 31,
   "metadata": {
    "ExecuteTime": {
     "end_time": "2021-07-14T12:25:01.320314Z",
     "start_time": "2021-07-14T12:25:01.316806Z"
    },
    "hidden": true
   },
   "outputs": [
    {
     "name": "stdout",
     "output_type": "stream",
     "text": [
      "4\n",
      "6\n"
     ]
    },
    {
     "data": {
      "text/plain": [
       "10"
      ]
     },
     "execution_count": 31,
     "metadata": {},
     "output_type": "execute_result"
    }
   ],
   "source": [
    "a = Solution()\n",
    "res = a.sumOfLeftLeaves(bt1)\n",
    "res"
   ]
  },
  {
   "cell_type": "markdown",
   "metadata": {
    "heading_collapsed": true
   },
   "source": [
    "### 513. 找树左下角的值"
   ]
  },
  {
   "cell_type": "markdown",
   "metadata": {
    "hidden": true
   },
   "source": [
    "1. DFS: 递归"
   ]
  },
  {
   "cell_type": "markdown",
   "metadata": {
    "hidden": true
   },
   "source": [
    "✏️最后一行：最大深度-》回溯/高度的区别"
   ]
  },
  {
   "cell_type": "code",
   "execution_count": 79,
   "metadata": {
    "ExecuteTime": {
     "end_time": "2021-07-15T00:25:06.898606Z",
     "start_time": "2021-07-15T00:25:06.891634Z"
    },
    "hidden": true
   },
   "outputs": [],
   "source": [
    "class Solution:\n",
    "    def findBottomLeftValue(self, root: BinaryTree) -> int:\n",
    "        def leafNode(bt):\n",
    "            return True if not bt.left and not bt.right else False\n",
    "        self.maxDepth, self.curDepth = 0, 0\n",
    "        self.bottomLeft = None\n",
    "        \n",
    "        def dfs(bt, curDepth, maxDepth):\n",
    "            if not root: return\n",
    "            print(bt.val, curDepth, maxDepth)\n",
    "            if curDepth >= maxDepth:\n",
    "                \n",
    "                maxDepth = curDepth\n",
    "                self.bottomLeft = bt\n",
    "                print('-', self.bottomLeft.val, curDepth, maxDepth)\n",
    "            if bt.right:\n",
    "                curDepth += 1\n",
    "                dfs(bt.right, curDepth, maxDepth)\n",
    "                curDepth -= 1\n",
    "                \n",
    "            if bt.left:\n",
    "                curDepth += 1\n",
    "                dfs(bt.left, curDepth, maxDepth)  # ???\n",
    "                curDepth -= 1\n",
    "            return self.bottomLeft.val\n",
    "        return dfs(root, 0, 0)"
   ]
  },
  {
   "cell_type": "code",
   "execution_count": 83,
   "metadata": {
    "ExecuteTime": {
     "end_time": "2021-07-15T00:28:21.044698Z",
     "start_time": "2021-07-15T00:28:21.037561Z"
    },
    "hidden": true
   },
   "outputs": [],
   "source": [
    "class Solution:\n",
    "    def findBottomLeftValue(self, root: BinaryTree) -> int:\n",
    "        def leafNode(bt):\n",
    "            return True if not bt.left and not bt.right else False\n",
    "        self.maxDepth, self.curDepth = 0, 0\n",
    "        self.bottomLeft = None\n",
    "        \n",
    "        def dfs(bt):\n",
    "            if not root: return\n",
    "#             print(bt.val, curDepth, maxDepth)\n",
    "            if self.curDepth >= self.maxDepth:\n",
    "                \n",
    "                self.maxDepth = self.curDepth\n",
    "                self.bottomLeft = bt\n",
    "                print('-', self.bottomLeft.val, self.curDepth, self.maxDepth)\n",
    "            if bt.right:\n",
    "                self.curDepth += 1\n",
    "                dfs(bt.right)\n",
    "                self.curDepth -= 1\n",
    "                \n",
    "            if bt.left:\n",
    "                self.curDepth += 1\n",
    "                dfs(bt.left)\n",
    "                self.curDepth -= 1\n",
    "            return self.bottomLeft.val\n",
    "        return dfs(root)"
   ]
  },
  {
   "cell_type": "code",
   "execution_count": 86,
   "metadata": {
    "ExecuteTime": {
     "end_time": "2021-07-15T00:28:40.686833Z",
     "start_time": "2021-07-15T00:28:40.680837Z"
    },
    "hidden": true
   },
   "outputs": [
    {
     "name": "stdout",
     "output_type": "stream",
     "text": [
      "- 1 0 0\n",
      "- 3 1 1\n",
      "- 6 2 2\n",
      "- 4 2 2\n"
     ]
    },
    {
     "data": {
      "text/plain": [
       "4"
      ]
     },
     "execution_count": 86,
     "metadata": {},
     "output_type": "execute_result"
    }
   ],
   "source": [
    "a = Solution()\n",
    "res = a.findBottomLeftValue(bt1)\n",
    "res"
   ]
  },
  {
   "cell_type": "markdown",
   "metadata": {
    "hidden": true
   },
   "source": [
    "2. DFS: 迭代"
   ]
  },
  {
   "cell_type": "code",
   "execution_count": 50,
   "metadata": {
    "ExecuteTime": {
     "end_time": "2021-07-14T12:32:28.953982Z",
     "start_time": "2021-07-14T12:32:28.948332Z"
    },
    "hidden": true
   },
   "outputs": [],
   "source": [
    "class Solution:\n",
    "    def findBottomLeftValue(self, root: BinaryTree) -> int:\n",
    "        def leafNode(bt):\n",
    "            return True if not bt.left and not bt.right else False\n",
    "        tmp = deque()\n",
    "        tmp.append(root)\n",
    "        bottomLeft = root.val\n",
    "        while tmp:\n",
    "            for i in range(len(tmp)):               \n",
    "                cur = tmp.popleft()\n",
    "                if i == 0: \n",
    "                    bottomLeft = cur.val\n",
    "                if cur.left:  tmp.append(cur.left)\n",
    "                if cur.right: tmp.append(cur.right)\n",
    "        return bottomLeft"
   ]
  },
  {
   "cell_type": "markdown",
   "metadata": {
    "heading_collapsed": true
   },
   "source": [
    "### 112. 路径总和\n",
    "给你二叉树的根节点 root 和一个表示目标和的整数 targetSum ，判断该树中是否存在 根节点到叶子节点 的路径，这条路径上所有节点值相加等于目标和 targetSum。"
   ]
  },
  {
   "cell_type": "markdown",
   "metadata": {
    "hidden": true
   },
   "source": [
    "✏️🍓如果需要搜索整颗二叉树，那么递归函数就不要返回值，如果要搜索其中一条符合条件的路径，递归函数就需要返回值，因为遇到符合条件的路径了就要及时返回。\n"
   ]
  },
  {
   "cell_type": "code",
   "execution_count": 132,
   "metadata": {
    "ExecuteTime": {
     "end_time": "2021-07-16T00:08:34.837084Z",
     "start_time": "2021-07-16T00:08:34.830531Z"
    },
    "hidden": true
   },
   "outputs": [],
   "source": [
    "class Solution:\n",
    "    def hasPathSum(self, root: BinaryTree, targetSum: int) -> bool:\n",
    "        res, tmp = [], []\n",
    "#         tmp.append(root)\n",
    "        \n",
    "        def dfs(bt, tmp):\n",
    "            if not bt.left and not bt.right:\n",
    "                tmp.append(bt.val)\n",
    "                print(tmp)\n",
    "                pathSum = 0\n",
    "                for i in tmp: pathSum += i \n",
    "                if pathSum == targetSum: return res.append(tmp.copy())\n",
    "            tmp.append(bt.val)\n",
    "            if bt.left:\n",
    "                dfs(bt.left, tmp)\n",
    "                tmp.pop()\n",
    "            if bt.right:\n",
    "                dfs(bt.right, tmp)\n",
    "                tmp.pop()\n",
    "\n",
    "            return res\n",
    "        return dfs(root, tmp)"
   ]
  },
  {
   "cell_type": "code",
   "execution_count": 141,
   "metadata": {
    "ExecuteTime": {
     "end_time": "2021-07-16T00:41:04.447771Z",
     "start_time": "2021-07-16T00:41:04.441706Z"
    },
    "hidden": true
   },
   "outputs": [],
   "source": [
    "class Solution:\n",
    "    def hasPathSum(self, root: BinaryTree, targetSum: int) -> bool:\n",
    "        res, tmp = [], []\n",
    "        \n",
    "        def dfs(bt, tmp):\n",
    "            if not bt:\n",
    "                print(tmp)\n",
    "                pathSum = 0\n",
    "                for i in tmp: pathSum += i \n",
    "                if pathSum == targetSum: return res.append(tmp.copy())\n",
    "            if bt: tmp.append(bt.val)\n",
    "#             if bt.left:\n",
    "            dfs(bt.left, tmp)\n",
    "            tmp.pop()\n",
    "#             if bt.right:\n",
    "            dfs(bt.right, tmp)\n",
    "            tmp.pop()\n",
    "\n",
    "            return res\n",
    "        return dfs(root, tmp)"
   ]
  },
  {
   "cell_type": "markdown",
   "metadata": {
    "hidden": true
   },
   "source": [
    "DFS: 递归\n",
    "1. 每次找到叶子节点后计算路径之和"
   ]
  },
  {
   "cell_type": "code",
   "execution_count": 175,
   "metadata": {
    "ExecuteTime": {
     "end_time": "2021-07-16T11:49:44.335801Z",
     "start_time": "2021-07-16T11:49:44.329979Z"
    },
    "hidden": true
   },
   "outputs": [],
   "source": [
    "\n",
    "class Solution:\n",
    "    def hasPathSum(self, root: BinaryTree, targetSum: int) -> bool:\n",
    "        if not root: return False\n",
    "        res, tmp = [], []\n",
    "        \n",
    "        def dfs(bt, tmp):\n",
    "            if not bt.left and not bt.right:\n",
    "                tmp.append(bt.val)\n",
    "                print(tmp)\n",
    "                pathSum = 0\n",
    "                for i in tmp: pathSum += i \n",
    "                return True if pathSum == targetSum else False\n",
    "            tmp.append(bt.val)\n",
    "            if bt.left:\n",
    "                if dfs(bt.left, tmp): return True\n",
    "                tmp.pop()\n",
    "            if bt.right:\n",
    "                if dfs(bt.right, tmp): return True\n",
    "                tmp.pop()\n",
    "            return False\n",
    "        \n",
    "        return dfs(root, tmp)"
   ]
  },
  {
   "cell_type": "markdown",
   "metadata": {
    "hidden": true
   },
   "source": [
    "2. 反向计算与target的距离"
   ]
  },
  {
   "cell_type": "code",
   "execution_count": 195,
   "metadata": {
    "ExecuteTime": {
     "end_time": "2021-07-16T11:57:27.888052Z",
     "start_time": "2021-07-16T11:57:27.881074Z"
    },
    "hidden": true
   },
   "outputs": [],
   "source": [
    "class Solution:\n",
    "    def hasPathSum(self, root: BinaryTree, targetSum: int) -> bool:\n",
    "        if not root: return False\n",
    "        leftSum = targetSum - root.val\n",
    "        \n",
    "        def dfs(bt, leftSum):\n",
    "            if not bt.left and not bt.right:\n",
    "                return True if leftSum == 0 else False\n",
    "            if bt.left:\n",
    "                leftSum -= bt.left.val\n",
    "                if dfs(bt.left, leftSum): return True\n",
    "                leftSum += bt.left.val\n",
    "            if bt.right:\n",
    "                leftSum -= bt.right.val\n",
    "                if dfs(bt.right, leftSum): return True\n",
    "                leftSum += bt.right.val\n",
    "            return False\n",
    "        \n",
    "        return dfs(root, leftSum)"
   ]
  },
  {
   "cell_type": "markdown",
   "metadata": {
    "hidden": true
   },
   "source": [
    "简化版本：\n",
    "\n",
    "🍓使用出口条件`if not bt: return False`用于分支`bt.left或bt.right不存在时`回溯；用or连接，只要一个分支满足条件就返回True"
   ]
  },
  {
   "cell_type": "code",
   "execution_count": 220,
   "metadata": {
    "ExecuteTime": {
     "end_time": "2021-07-17T03:49:27.723362Z",
     "start_time": "2021-07-17T03:49:27.718830Z"
    },
    "hidden": true
   },
   "outputs": [],
   "source": [
    "class Solution:\n",
    "    def hasPathSum(self, root: BinaryTree, targetSum: int) -> bool:\n",
    "        if not root: return False\n",
    "        leftSum = targetSum\n",
    "        \n",
    "        def dfs(bt, leftSum):\n",
    "            if not bt: return False\n",
    "            if not bt.left and not bt.right:\n",
    "                return leftSum == 0 \n",
    "            \n",
    "            return dfs(bt.left, leftSum-bt.val) or dfs(bt.right, leftSum-bt.val)\n",
    "        \n",
    "        return dfs(root, leftSum)"
   ]
  },
  {
   "cell_type": "code",
   "execution_count": 222,
   "metadata": {
    "ExecuteTime": {
     "end_time": "2021-07-17T03:49:30.273429Z",
     "start_time": "2021-07-17T03:49:30.269602Z"
    },
    "hidden": true
   },
   "outputs": [
    {
     "name": "stdout",
     "output_type": "stream",
     "text": [
      "1\n",
      "2\n",
      "4\n",
      "3\n",
      "6\n"
     ]
    },
    {
     "data": {
      "text/plain": [
       "False"
      ]
     },
     "execution_count": 222,
     "metadata": {},
     "output_type": "execute_result"
    }
   ],
   "source": [
    "a = Solution()\n",
    "res = a.hasPathSum(bt1, 9)\n",
    "res"
   ]
  },
  {
   "cell_type": "markdown",
   "metadata": {
    "heading_collapsed": true
   },
   "source": [
    "### 113. 路径总和 II\n",
    "给你二叉树的根节点 root 和一个整数目标和 targetSum ，找出所有 从根节点到叶子节点 路径总和等于给定目标和的路径。"
   ]
  },
  {
   "cell_type": "code",
   "execution_count": null,
   "metadata": {
    "hidden": true
   },
   "outputs": [],
   "source": [
    "# Definition for a binary tree node.\n",
    "# class TreeNode:\n",
    "#     def __init__(self, val=0, left=None, right=None):\n",
    "#         self.val = val\n",
    "#         self.left = left\n",
    "#         self.right = right\n",
    "//递归法\n",
    "class Solution:\n",
    "    def pathSum(self, root: TreeNode, targetSum: int) -> List[List[int]]:\n",
    "        path=[]\n",
    "        res=[]\n",
    "        def pathes(root,targetSum):\n",
    "            if (not root.left) and (not root.right) and targetSum == 0: // 遇到叶子节点，并且计数为0\n",
    "                res.append(path[:])  //找到一种路径，记录到res中，注意必须是path[:]而不是path\n",
    "                return \n",
    "            if (not root.left) and (not root.right):return // 遇到叶子节点直接返回\n",
    "            if root.left:   //左\n",
    "                targetSum -= root.left.val\n",
    "                path.append(root.left.val)     //递归前记录节点\n",
    "                pathes(root.left,targetSum)    //递归\n",
    "                targetSum += root.left.val     //回溯\n",
    "                path.pop()                     //回溯\n",
    "            if root.right:  //右\n",
    "                targetSum -= root.right.val\n",
    "                path.append(root.right.val)    //递归前记录节点\n",
    "                pathes(root.right,targetSum)   //递归\n",
    "                targetSum += root.right.val    //回溯\n",
    "                path.pop()                     //回溯\n",
    "            return\n",
    "            \n",
    "        if root == None:return []             //处理空TreeNode\n",
    "        else:\n",
    "            path.append(root.val)             //首先处理根节点\n",
    "            pathes(root,targetSum-root.val)\n",
    "            return res\n",
    "\n",
    "作者：carlsun-2\n",
    "链接：https://leetcode-cn.com/problems/path-sum-ii/solution/dai-ma-sui-xiang-lu-dai-ni-xue-tou-er-ch-sbm3/\n",
    "来源：力扣（LeetCode）\n",
    "著作权归作者所有。商业转载请联系作者获得授权，非商业转载请注明出处。"
   ]
  },
  {
   "cell_type": "code",
   "execution_count": 254,
   "metadata": {
    "ExecuteTime": {
     "end_time": "2021-07-18T01:42:06.143522Z",
     "start_time": "2021-07-18T01:42:06.136400Z"
    },
    "hidden": true
   },
   "outputs": [],
   "source": [
    "from typing import List\n",
    "class Solution:\n",
    "    def pathSum(self, root: BinaryTree, targetSum: int) -> List[List[int]]:\n",
    "        if not root: return False\n",
    "        res, tmp = [], []\n",
    "        pathSum = 0\n",
    "        \n",
    "        def dfs(bt, pathSum, tmp):\n",
    "            if not bt.left and not bt.right:\n",
    "                tmp.append(bt.val)\n",
    "                pathSum += bt.val\n",
    "                if pathSum == targetSum:\n",
    "                    res.append(tmp.copy())\n",
    "                return \n",
    "            tmp.append(bt.val)\n",
    "            pathSum += bt.val\n",
    "            if bt.left:\n",
    "                dfs(bt.left, pathSum, tmp)\n",
    "                \n",
    "                tmp.pop()\n",
    "                pathSum -= bt.left.val\n",
    "            if bt.right:\n",
    "                dfs(bt.right, pathSum, tmp)\n",
    "                tmp.pop()\n",
    "                pathSum -= bt.right.val\n",
    "            \n",
    "            return res\n",
    "        return dfs(root, pathSum, tmp)"
   ]
  },
  {
   "cell_type": "code",
   "execution_count": 303,
   "metadata": {
    "ExecuteTime": {
     "end_time": "2021-07-18T05:26:03.915857Z",
     "start_time": "2021-07-18T05:26:03.909152Z"
    },
    "hidden": true
   },
   "outputs": [],
   "source": [
    "class Solution:\n",
    "    def pathSum(self, root: BinaryTree, targetSum: int) -> List[List[int]]:\n",
    "        if not root: return False\n",
    "        self.res, tmp = [], []\n",
    "        def dfs(bt, tmp, targetSum):\n",
    "            tmp.append(bt.val)\n",
    "            if not bt.left and not bt.right:\n",
    "#                 tmp.append(bt.val)  # 🍓\n",
    "                if targetSum == 0:\n",
    "                    self.res.append(tmp.copy())\n",
    "                return\n",
    "            if bt.left:\n",
    "                dfs(bt.left, tmp, targetSum)\n",
    "                tmp.pop()\n",
    "                               \n",
    "            if bt.right:\n",
    "                dfs(bt.right, tmp, targetSum-bt.right.val)\n",
    "                tmp.pop()\n",
    "        dfs(root, tmp, targetSum-root.val)\n",
    "        return self.res"
   ]
  },
  {
   "cell_type": "code",
   "execution_count": 305,
   "metadata": {
    "ExecuteTime": {
     "end_time": "2021-07-18T05:26:16.223800Z",
     "start_time": "2021-07-18T05:26:16.216830Z"
    },
    "hidden": true
   },
   "outputs": [],
   "source": [
    "class Solution:\n",
    "    def pathSum(self, root: BinaryTree, targetSum: int) -> List[List[int]]:\n",
    "        if not root: return False\n",
    "        self.res, tmp = [], []\n",
    "        def dfs(bt, tmp, targetSum):\n",
    "            tmp.append(bt.val)\n",
    "            targetSum -= bt.val\n",
    "            print(tmp, targetSum)\n",
    "            if not bt.left and not bt.right:\n",
    "#                 tmp.append(bt.val)  # 🍓\n",
    "                if targetSum == 0:\n",
    "                    self.res.append(tmp.copy())\n",
    "                return\n",
    "            if bt.left:\n",
    "                dfs(bt.left, tmp, targetSum)\n",
    "                print('1', tmp, targetSum)\n",
    "                cur = tmp.pop()\n",
    "#                 print(cur, bt.left.val)\n",
    "                print('2', tmp, targetSum)\n",
    "                targetSum += bt.left.val\n",
    "                               \n",
    "            if bt.right:\n",
    "                dfs(bt.right, tmp, targetSum)\n",
    "                tmp.pop()\n",
    "                targetSum += bt.right.val\n",
    "        dfs(root, tmp, targetSum)\n",
    "        return self.res"
   ]
  },
  {
   "cell_type": "code",
   "execution_count": 308,
   "metadata": {
    "ExecuteTime": {
     "end_time": "2021-07-18T05:26:38.381425Z",
     "start_time": "2021-07-18T05:26:38.375372Z"
    },
    "hidden": true
   },
   "outputs": [
    {
     "name": "stdout",
     "output_type": "stream",
     "text": [
      "[1] 6\n",
      "[1, 2] 4\n",
      "[1, 2, 4] 0\n",
      "1 [1, 2, 4] 4\n",
      "2 [1, 2] 4\n",
      "1 [1, 2] 6\n",
      "2 [1] 6\n",
      "[1, 3] 5\n",
      "[1, 3, 3] 2\n",
      "1 [1, 3, 3] 5\n",
      "2 [1, 3] 5\n"
     ]
    },
    {
     "data": {
      "text/plain": [
       "[[1, 2, 4]]"
      ]
     },
     "execution_count": 308,
     "metadata": {},
     "output_type": "execute_result"
    }
   ],
   "source": [
    "a = Solution()\n",
    "res = a.pathSum(bt1, 7)\n",
    "res"
   ]
  },
  {
   "cell_type": "code",
   "execution_count": 307,
   "metadata": {
    "ExecuteTime": {
     "end_time": "2021-07-18T05:26:35.173668Z",
     "start_time": "2021-07-18T05:26:35.168738Z"
    },
    "hidden": true
   },
   "outputs": [],
   "source": [
    "class BinaryTree():\n",
    "    def __init__(self, val, left, right):\n",
    "        self.val = val\n",
    "        self.left = left\n",
    "        self.right = right\n",
    "\n",
    "bt1 = BinaryTree(1, None, None)\n",
    "bt2 = BinaryTree(2, None, None)\n",
    "bt3 = BinaryTree(3, None, None)\n",
    "bt4 = BinaryTree(4, None, None)\n",
    "bt5 = BinaryTree(5, None, None)\n",
    "bt6 = BinaryTree(3, None, None)\n",
    "bt7 = BinaryTree(7, None, None)\n",
    "bt8 = BinaryTree(8, None, None)\n",
    "\n",
    "bt1.left, bt1.right = bt2, bt3\n",
    "bt2.left = bt4\n",
    "bt3.left = bt6\n",
    "\n",
    "# bt6.left = bt8\n"
   ]
  },
  {
   "cell_type": "code",
   "execution_count": 241,
   "metadata": {
    "ExecuteTime": {
     "end_time": "2021-07-17T04:36:15.166873Z",
     "start_time": "2021-07-17T04:36:15.163500Z"
    },
    "hidden": true
   },
   "outputs": [],
   "source": [
    "# Definition for a binary tree node.\n",
    "# class TreeNode(object):\n",
    "#     def __init__(self, x):\n",
    "#         self.val = x\n",
    "#         self.left = None\n",
    "#         self.right = None\n",
    "\n",
    "class Solution(object):\n",
    "    def hasPathSum(self, root, sum):\n",
    "        \"\"\"\n",
    "        :type root: TreeNode\n",
    "        :type sum: int\n",
    "        :rtype: bool\n",
    "        \"\"\"\n",
    "        if not root: return False\n",
    "        if not root.left and not root.right:\n",
    "            return sum == root.val\n",
    "        return self.hasPathSum(root.left, sum - root.val) or self.hasPathSum(root.right, sum - root.val)\n"
   ]
  },
  {
   "cell_type": "code",
   "execution_count": 239,
   "metadata": {
    "ExecuteTime": {
     "end_time": "2021-07-17T04:24:31.354466Z",
     "start_time": "2021-07-17T04:24:31.350116Z"
    },
    "hidden": true
   },
   "outputs": [
    {
     "data": {
      "text/plain": [
       "7"
      ]
     },
     "execution_count": 239,
     "metadata": {},
     "output_type": "execute_result"
    }
   ],
   "source": [
    "a = [1, 2, 4]\n",
    "sum(a)"
   ]
  },
  {
   "cell_type": "code",
   "execution_count": null,
   "metadata": {
    "hidden": true
   },
   "outputs": [],
   "source": []
  }
 ],
 "metadata": {
  "kernelspec": {
   "display_name": "Python 3",
   "language": "python",
   "name": "python3"
  },
  "language_info": {
   "codemirror_mode": {
    "name": "ipython",
    "version": 3
   },
   "file_extension": ".py",
   "mimetype": "text/x-python",
   "name": "python",
   "nbconvert_exporter": "python",
   "pygments_lexer": "ipython3",
   "version": "3.8.5"
  },
  "latex_envs": {
   "LaTeX_envs_menu_present": true,
   "autoclose": false,
   "autocomplete": true,
   "bibliofile": "biblio.bib",
   "cite_by": "apalike",
   "current_citInitial": 1,
   "eqLabelWithNumbers": true,
   "eqNumInitial": 1,
   "hotkeys": {
    "equation": "Ctrl-E",
    "itemize": "Ctrl-I"
   },
   "labels_anchors": false,
   "latex_user_defs": false,
   "report_style_numbering": false,
   "user_envs_cfg": false
  },
  "varInspector": {
   "cols": {
    "lenName": 16,
    "lenType": 16,
    "lenVar": 40
   },
   "kernels_config": {
    "python": {
     "delete_cmd_postfix": "",
     "delete_cmd_prefix": "del ",
     "library": "var_list.py",
     "varRefreshCmd": "print(var_dic_list())"
    },
    "r": {
     "delete_cmd_postfix": ") ",
     "delete_cmd_prefix": "rm(",
     "library": "var_list.r",
     "varRefreshCmd": "cat(var_dic_list()) "
    }
   },
   "types_to_exclude": [
    "module",
    "function",
    "builtin_function_or_method",
    "instance",
    "_Feature"
   ],
   "window_display": false
  }
 },
 "nbformat": 4,
 "nbformat_minor": 4
}
