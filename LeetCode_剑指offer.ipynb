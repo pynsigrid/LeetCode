{
 "cells": [
  {
   "cell_type": "markdown",
   "metadata": {
    "heading_collapsed": true
   },
   "source": [
    "## 剑指 Offer 04. 二维数组中的查找"
   ]
  },
  {
   "cell_type": "markdown",
   "metadata": {
    "hidden": true
   },
   "source": [
    "在一个 n * m 的二维数组中，每一行都按照从左到右递增的顺序排序，每一列都按照从上到下递增的顺序排序。请完成一个高效的函数，输入这样的一个二维数组和一个整数，判断数组中是否含有该整数。\n",
    "\n",
    "\n",
    "示例:\n",
    "\n",
    "现有矩阵 matrix 如下：\n",
    "\n",
    "$[\n",
    "  [1,   4,  7, 11, 15],\n",
    "  [2,   5,  8, 12, 19],\n",
    "  [3,   6,  9, 16, 22],\n",
    "  [10, 13, 14, 17, 24],\n",
    "  [18, 21, 23, 26, 30]\n",
    "]$\n",
    "\n",
    "给定 target = 5，返回 true。\n",
    "\n",
    "给定 target = 20，返回 false。\n"
   ]
  },
  {
   "cell_type": "markdown",
   "metadata": {
    "heading_collapsed": true,
    "hidden": true
   },
   "source": [
    "### 枚举法\n",
    "🍓🍓🍓：要从每一行的最大开始比较，防止有遗漏\n",
    "\n",
    "时间复杂度：$O(M\\times N)$\n",
    "\n",
    "空间复杂度：$O(1)$"
   ]
  },
  {
   "cell_type": "code",
   "execution_count": 30,
   "metadata": {
    "ExecuteTime": {
     "end_time": "2021-01-02T13:00:07.722599Z",
     "start_time": "2021-01-02T13:00:07.718566Z"
    },
    "code_folding": [],
    "hidden": true
   },
   "outputs": [],
   "source": [
    "class Solution(object):\n",
    "    def findNumberIn2DArray(self, matrix, target):\n",
    "        \"\"\"\n",
    "        :type matrix: List[List[int]]\n",
    "        :type target: int\n",
    "        :rtype: bool\n",
    "        \"\"\"\n",
    "        if len(matrix) == 0 or len(matrix[0])== 0: return False\n",
    "        m = len(matrix)\n",
    "        n = len(matrix[0])\n",
    "        for i in range(m-1, -1, -1):\n",
    "            print(i, n-1, matrix[i][n-1])\n",
    "            if target <= matrix[i][n-1]:\n",
    "                for j in range(n):\n",
    "                    if target == matrix[i][j]:\n",
    "                        return True\n",
    "        return False"
   ]
  },
  {
   "cell_type": "code",
   "execution_count": 29,
   "metadata": {
    "ExecuteTime": {
     "end_time": "2021-01-02T12:58:48.209856Z",
     "start_time": "2021-01-02T12:58:48.204230Z"
    },
    "hidden": true
   },
   "outputs": [
    {
     "name": "stdout",
     "output_type": "stream",
     "text": [
      "4 4 30\n",
      "3 4 24\n",
      "2 4 22\n",
      "1 4 19\n",
      "0 4 15\n"
     ]
    },
    {
     "data": {
      "text/plain": [
       "False"
      ]
     },
     "execution_count": 29,
     "metadata": {},
     "output_type": "execute_result"
    }
   ],
   "source": [
    "matrix = [\n",
    "  [1,   4,  7, 11, 15],\n",
    "  [2,   5,  8, 12, 19],\n",
    "  [3,   6,  9, 16, 22],\n",
    "  [10, 13, 14, 17, 24],\n",
    "  [18, 21, 23, 26, 30]\n",
    "]\n",
    "mat = [[]]\n",
    "a = Solution()\n",
    "a.findNumberIn2DArray(matrix,target = 0)"
   ]
  },
  {
   "cell_type": "markdown",
   "metadata": {
    "heading_collapsed": true
   },
   "source": [
    "## 剑指-03. 找出数组中重复的数字\n",
    "\n",
    "在一个长度为 n 的数组 nums 里的所有数字都在 0～n-1 的范围内。数组中某些数字是重复的，但不知道有几个数字重复了，也不知道每个数字重复了几次。请找出数组中任意一个重复的数字。\n",
    "\n",
    "示例 1：\n",
    "\n",
    "输入：\n",
    "[2, 3, 1, 0, 2, 5, 3]\n",
    "输出：2 或 3"
   ]
  },
  {
   "cell_type": "markdown",
   "metadata": {
    "hidden": true
   },
   "source": [
    "### hash\n",
    "时间复杂度：$O(n)$\n",
    "\n",
    "空间复杂度：$O(n)$"
   ]
  },
  {
   "cell_type": "code",
   "execution_count": 31,
   "metadata": {
    "ExecuteTime": {
     "end_time": "2021-01-02T13:17:22.097198Z",
     "start_time": "2021-01-02T13:17:22.094335Z"
    },
    "hidden": true
   },
   "outputs": [],
   "source": [
    "class Solution(object):\n",
    "    def findRepeatNumber(self, nums):\n",
    "        dicta = {}\n",
    "        for i in range(len(nums)):\n",
    "            if nums[i] in dicta:\n",
    "                return nums[i]\n",
    "            else:\n",
    "                dicta[nums[i]] = 1\n",
    "        return -1"
   ]
  },
  {
   "cell_type": "markdown",
   "metadata": {
    "hidden": true
   },
   "source": [
    "### 排序nums.sort()\n",
    "\n",
    "内部实现机制为：Timesort:https://www.cnblogs.com/clement-jiao/p/9243066.html/\n",
    "\n",
    "时间复杂度：$O(nlogn)$\n",
    "\n",
    "空间复杂度：$O(n)$"
   ]
  },
  {
   "cell_type": "code",
   "execution_count": 32,
   "metadata": {
    "ExecuteTime": {
     "end_time": "2021-01-02T13:17:44.729718Z",
     "start_time": "2021-01-02T13:17:44.726871Z"
    },
    "hidden": true
   },
   "outputs": [],
   "source": [
    "class Solution(object):\n",
    "    def findRepeatNumber(self, nums):\n",
    "        nums.sort()\n",
    "        for i in range(1, len(nums)):\n",
    "            if nums[i] == nums[i-1]:\n",
    "                return nums[i]\n",
    "        return -1"
   ]
  },
  {
   "cell_type": "markdown",
   "metadata": {
    "hidden": true
   },
   "source": [
    "### 二分法"
   ]
  },
  {
   "cell_type": "code",
   "execution_count": null,
   "metadata": {
    "hidden": true
   },
   "outputs": [],
   "source": []
  },
  {
   "cell_type": "markdown",
   "metadata": {
    "heading_collapsed": true
   },
   "source": [
    "## 剑指 Offer 05. 替换空格\n",
    "请实现一个函数，把字符串 s 中的每个空格替换成\"%20\"。\n",
    "\n",
    "输入：s = \"We are happy.\"\n",
    "输出：\"We%20are%20happy.\"\n"
   ]
  },
  {
   "cell_type": "code",
   "execution_count": 56,
   "metadata": {
    "ExecuteTime": {
     "end_time": "2021-01-02T14:41:19.366602Z",
     "start_time": "2021-01-02T14:41:19.363570Z"
    },
    "hidden": true
   },
   "outputs": [],
   "source": [
    "class Solution(object):\n",
    "    def replaceSpace(self, s):\n",
    "        \"\"\"\n",
    "        :type s: str\n",
    "        :rtype: str\n",
    "        \"\"\"\n",
    "        ls = list(s)\n",
    "        res = ''\n",
    "        for i in range(len(ls)):\n",
    "            if ls[i] == ' ':\n",
    "                ls[i] = '%20'\n",
    "            res += str(ls[i])\n",
    "        return res"
   ]
  },
  {
   "cell_type": "markdown",
   "metadata": {
    "hidden": true
   },
   "source": [
    "🍓🍓🍓：jion()将序列中的元素以指定的字符连接生成一个新的字符串"
   ]
  },
  {
   "cell_type": "code",
   "execution_count": null,
   "metadata": {
    "hidden": true
   },
   "outputs": [],
   "source": [
    "class Solution:\n",
    "    def replaceSpace(self, s):\n",
    "        res = []\n",
    "        for c in s:\n",
    "            if c == ' ':\n",
    "                res.append(\"%20\")\n",
    "            else:\n",
    "                res.append(c)\n",
    "        return \"\".join(res)\n",
    "        "
   ]
  },
  {
   "cell_type": "code",
   "execution_count": 57,
   "metadata": {
    "ExecuteTime": {
     "end_time": "2021-01-02T14:41:19.655231Z",
     "start_time": "2021-01-02T14:41:19.651478Z"
    },
    "hidden": true
   },
   "outputs": [
    {
     "data": {
      "text/plain": [
       "'We%20are%20happy.'"
      ]
     },
     "execution_count": 57,
     "metadata": {},
     "output_type": "execute_result"
    }
   ],
   "source": [
    "s = \"We are happy.\"\n",
    "a = Solution()\n",
    "a.replaceSpace(s)"
   ]
  },
  {
   "cell_type": "markdown",
   "metadata": {
    "heading_collapsed": true
   },
   "source": [
    "## 剑指 Offer 06. 从尾到头打印链表\n",
    "输入一个链表的头节点，从尾到头反过来返回每个节点的值（用数组返回）。\n",
    "\n",
    "输入：head = [1,3,2]\n",
    "\n",
    "输出：[2,3,1]"
   ]
  },
  {
   "cell_type": "markdown",
   "metadata": {
    "heading_collapsed": true,
    "hidden": true
   },
   "source": [
    "### 正序写入，逆序输出\n",
    "ll = ll[::-1]"
   ]
  },
  {
   "cell_type": "code",
   "execution_count": 18,
   "metadata": {
    "ExecuteTime": {
     "end_time": "2021-01-03T06:15:19.206390Z",
     "start_time": "2021-01-03T06:15:19.201109Z"
    },
    "hidden": true
   },
   "outputs": [],
   "source": [
    "# Definition for singly-linked list.\n",
    "class ListNode(object):\n",
    "    def __init__(self, x):\n",
    "        self.val = x\n",
    "        self.next = None\n",
    "\n",
    "class Solution(object):\n",
    "    def reversePrint(self, head):\n",
    "        \"\"\"\n",
    "        :type head: ListNode\n",
    "        :rtype: List[int]\n",
    "        \"\"\"\n",
    "        h = head\n",
    "        ll = []\n",
    "        while h is not None:\n",
    "#             print(h.val)\n",
    "            ll.append(h.val)\n",
    "            h = h.next\n",
    "        return ll[::-1]"
   ]
  },
  {
   "cell_type": "markdown",
   "metadata": {
    "heading_collapsed": true,
    "hidden": true
   },
   "source": [
    "### 构建逆链表\n",
    "没啥意义，不过也是一个方法"
   ]
  },
  {
   "cell_type": "markdown",
   "metadata": {
    "heading_collapsed": true,
    "hidden": true
   },
   "source": [
    "### 堆栈\n"
   ]
  },
  {
   "cell_type": "code",
   "execution_count": 30,
   "metadata": {
    "ExecuteTime": {
     "end_time": "2021-01-03T14:37:29.192431Z",
     "start_time": "2021-01-03T14:37:29.186778Z"
    },
    "hidden": true
   },
   "outputs": [],
   "source": [
    "class Solution(object):\n",
    "    def reversePrint(self, head):\n",
    "        \"\"\"\n",
    "        :type head: ListNode\n",
    "        :rtype: List[int]\n",
    "        \"\"\"\n",
    "        h = head\n",
    "        ll = []\n",
    "        while h is not None:\n",
    "            ll.append(h.val)\n",
    "            h = h.next\n",
    "        res = []\n",
    "        while ll:\n",
    "            res.append(ll.pop())\n",
    "        return res"
   ]
  },
  {
   "cell_type": "code",
   "execution_count": 31,
   "metadata": {
    "ExecuteTime": {
     "end_time": "2021-01-03T14:37:29.381703Z",
     "start_time": "2021-01-03T14:37:29.373483Z"
    },
    "hidden": true
   },
   "outputs": [
    {
     "data": {
      "text/plain": [
       "[10, 4, 3, 1]"
      ]
     },
     "execution_count": 31,
     "metadata": {},
     "output_type": "execute_result"
    }
   ],
   "source": [
    "l1, l2 = ListNode(1), ListNode(2)\n",
    "l3, l4 = ListNode(3), ListNode(4)\n",
    "l5, l6, l22= ListNode(10), ListNode(6), ListNode(8)\n",
    "# l1\n",
    "l4.next = l5\n",
    "l3.next = l4\n",
    "l1.next = l3\n",
    "\n",
    "\n",
    "a = Solution()\n",
    "res = a.reversePrint(l1)\n",
    "res"
   ]
  },
  {
   "cell_type": "markdown",
   "metadata": {
    "hidden": true
   },
   "source": [
    "### 递归\n",
    "🍓了解递归三大要素\n",
    "\n",
    "🍓🍓🍓return时候的顺序\n",
    "1. 定义：当前val和下一个栈的val的拼接\n",
    "2. 出口：h.next = None\n",
    "3. 拆解：\n",
    "\n",
    "时间复杂度：$O(n)$\n",
    "\n",
    "空间复杂度：$O(n)$"
   ]
  },
  {
   "cell_type": "code",
   "execution_count": 26,
   "metadata": {
    "ExecuteTime": {
     "end_time": "2021-01-03T13:51:23.439684Z",
     "start_time": "2021-01-03T13:51:23.435317Z"
    },
    "hidden": true
   },
   "outputs": [],
   "source": [
    "class Solution:\n",
    "    def reversePrint(self, head):\n",
    "        if head:\n",
    "            print(head.val)  \n",
    "        return self.reversePrint(head.next) + [head.val] if head else []"
   ]
  },
  {
   "cell_type": "markdown",
   "metadata": {
    "heading_collapsed": true
   },
   "source": [
    "## 剑指 Offer 07. 重建二叉树\n",
    "输入某二叉树的前序遍历和中序遍历的结果，请重建该二叉树。假设输入的前序遍历和中序遍历的结果中都不含重复的数字。\n",
    "\n",
    "前序遍历 preorder = [3,9,20,15,7]\n",
    "\n",
    "中序遍历 inorder = [9,3,15,20,7]\n",
    "\n",
    "返回如下的二叉树：\n",
    "\n",
    "    3\n",
    "   / \\\n",
    "  9  20\n",
    "    /  \\\n",
    "   15   7\n",
    "\n"
   ]
  },
  {
   "cell_type": "markdown",
   "metadata": {
    "hidden": true
   },
   "source": [
    "### 递归\n",
    "1. 定义：利用pre和in的位置关系重建二叉树\n",
    "2. 出口：pre/in没有数值\n",
    "3. 拆解：root、idx"
   ]
  },
  {
   "cell_type": "code",
   "execution_count": 5,
   "metadata": {
    "ExecuteTime": {
     "end_time": "2021-01-04T01:46:28.769867Z",
     "start_time": "2021-01-04T01:46:28.763221Z"
    },
    "hidden": true
   },
   "outputs": [],
   "source": [
    "# Definition for a binary tree node.\n",
    "class TreeNode(object):\n",
    "    def __init__(self, x):\n",
    "        self.val = x\n",
    "        self.left = None\n",
    "        self.right = None\n",
    "\n",
    "class Solution(object):\n",
    "    def buildTree(self, preorder, inorder):\n",
    "        \"\"\"\n",
    "        :type preorder: List[int]\n",
    "        :type inorder: List[int]\n",
    "        :rtype: TreeNode\n",
    "        \"\"\"\n",
    "        if len(preorder) == 0:\n",
    "            return None\n",
    "        center = TreeNode(preorder[0])\n",
    "        idx = inorder.index(center.val)\n",
    "        center.left = self.buildTree(preorder[1:idx+1], inorder[:idx+1])\n",
    "        center.right = self.buildTree(preorder[idx+1:], inorder[idx+1:])\n",
    "        return center"
   ]
  },
  {
   "cell_type": "code",
   "execution_count": 6,
   "metadata": {
    "ExecuteTime": {
     "end_time": "2021-01-04T01:46:28.965777Z",
     "start_time": "2021-01-04T01:46:28.956157Z"
    },
    "hidden": true
   },
   "outputs": [
    {
     "data": {
      "text/plain": [
       "9"
      ]
     },
     "execution_count": 6,
     "metadata": {},
     "output_type": "execute_result"
    }
   ],
   "source": [
    "preorder = [3, 9, 15, 7, 20]\n",
    "inorder = [15, 9, 7, 3, 20]\n",
    "a = Solution()\n",
    "res = a.buildTree(preorder, inorder)\n",
    "res.left.val"
   ]
  },
  {
   "cell_type": "markdown",
   "metadata": {
    "heading_collapsed": true
   },
   "source": [
    "## 剑指 Offer 10- I. 斐波那契数列\n",
    "写一个函数，输入 n ，求斐波那契（Fibonacci）数列的第 n 项。斐波那契数列的定义如下：\n",
    "\n",
    "$F(0) = 0,   F(1) = 1$\n",
    "$F(N) = F(N - 1) + F(N - 2), 其中 N > 1.$\n",
    "\n",
    "斐波那契数列由 0 和 1 开始，之后的斐波那契数就是由之前的两数相加而得出。\n",
    "\n",
    "答案需要取模 1e9+7（1000000007），如计算初始结果为：1000000008，请返回 1。"
   ]
  },
  {
   "cell_type": "markdown",
   "metadata": {
    "hidden": true
   },
   "source": [
    "### 迭代\n",
    "⚠️超出时间限制\n",
    "1. 定义：当前数由前两个数构成\n",
    "2. 出口：$n = 0, 1$\n",
    "3. 拆解：$fib(n) = fib(n-1)+fib(n-2)$"
   ]
  },
  {
   "cell_type": "code",
   "execution_count": 9,
   "metadata": {
    "ExecuteTime": {
     "end_time": "2021-01-05T03:13:39.520487Z",
     "start_time": "2021-01-05T03:13:39.515553Z"
    },
    "hidden": true
   },
   "outputs": [],
   "source": [
    "class Solution(object):\n",
    "    def fib(self, n):\n",
    "        \"\"\"\n",
    "        :type n: int\n",
    "        :rtype: int\n",
    "        \"\"\"\n",
    "        if n >= 2:   \n",
    "            return self.fib(n-1)+self.fib(n-2)\n",
    "        elif n == 1:\n",
    "            return 1\n",
    "        else:\n",
    "            return 0"
   ]
  },
  {
   "cell_type": "markdown",
   "metadata": {
    "heading_collapsed": true,
    "hidden": true
   },
   "source": [
    "### dp\n",
    "\n",
    "在迭代方法的基础上用dp table记录前两步的结果，减少重复计算\n",
    "1. 状态：$dp[i]$\n",
    "2. 最优子解：$dp[i] = g(dp[i-1], dp[i-2])$\n",
    "3. 边界：$dp[0]、dp[1]$\n",
    "4. 状态转移方程：$dp[i] = dp[i-1] + dp[i-2]$\n",
    "\n",
    "时间复杂度：$O(N)$\n",
    "\n",
    "空间复杂度：$O(N)$/$O(1)$\n",
    "🍓🍓🍓：取模"
   ]
  },
  {
   "cell_type": "code",
   "execution_count": 1,
   "metadata": {
    "ExecuteTime": {
     "end_time": "2021-01-07T11:35:10.322521Z",
     "start_time": "2021-01-07T11:35:10.317096Z"
    },
    "hidden": true
   },
   "outputs": [],
   "source": [
    "class Solution(object):\n",
    "    def fib(self, n):\n",
    "        \"\"\"\n",
    "        :type n: int\n",
    "        :rtype: int\n",
    "        \"\"\"\n",
    "        dp = [None for _ in range(n+1)]\n",
    "        if n <= 1:\n",
    "            return n\n",
    "        dp[0], dp[1] = 0, 1\n",
    "        for i in range(2, n+1):\n",
    "            dp[i] = dp[i-1] + dp[i-2]\n",
    "            print(dp)\n",
    "        return dp[-1]%1000000007"
   ]
  },
  {
   "cell_type": "code",
   "execution_count": 33,
   "metadata": {
    "ExecuteTime": {
     "end_time": "2021-01-05T11:15:17.404914Z",
     "start_time": "2021-01-05T11:15:17.399751Z"
    },
    "hidden": true
   },
   "outputs": [],
   "source": [
    "# 空间优化\n",
    "class Solution(object):\n",
    "    def fib(self, n):\n",
    "        \"\"\"\n",
    "        :type n: int\n",
    "        :rtype: int\n",
    "        \"\"\"\n",
    "        if n <= 1:\n",
    "            return n\n",
    "        a, b = 0, 1\n",
    "        for i in range(2, n+1):\n",
    "            a, b = b, a+b\n",
    "        return b%1000000007"
   ]
  },
  {
   "cell_type": "code",
   "execution_count": 2,
   "metadata": {
    "ExecuteTime": {
     "end_time": "2021-01-07T11:35:12.478692Z",
     "start_time": "2021-01-07T11:35:12.465049Z"
    },
    "hidden": true
   },
   "outputs": [
    {
     "name": "stdout",
     "output_type": "stream",
     "text": [
      "[1, 1, 2, None, None, None, None, None]\n",
      "[1, 1, 2, 3, None, None, None, None]\n",
      "[1, 1, 2, 3, 5, None, None, None]\n",
      "[1, 1, 2, 3, 5, 8, None, None]\n",
      "[1, 1, 2, 3, 5, 8, 13, None]\n",
      "[1, 1, 2, 3, 5, 8, 13, 21]\n"
     ]
    },
    {
     "data": {
      "text/plain": [
       "21"
      ]
     },
     "execution_count": 2,
     "metadata": {},
     "output_type": "execute_result"
    }
   ],
   "source": [
    "a = Solution()\n",
    "a.fib(7)"
   ]
  },
  {
   "cell_type": "markdown",
   "metadata": {
    "heading_collapsed": true
   },
   "source": [
    "## 剑指 Offer 10- II. 青蛙跳台阶问题\n",
    "一只青蛙一次可以跳上1级台阶，也可以跳上2级台阶。求该青蛙跳上一个 n 级的台阶总共有多少种跳法。\n",
    "\n",
    "答案需要取模 1e9+7（1000000007），如计算初始结果为：1000000008，请返回 1。"
   ]
  },
  {
   "cell_type": "markdown",
   "metadata": {
    "hidden": true
   },
   "source": [
    "### dp\n",
    "与斐波那契数列的解法相同\n",
    "1. 状态：$dp[i]$\n",
    "2. 最优子解：$dp[i] = g(dp[i-1], dp[i-2])$\n",
    "3. 边界：$dp[0]、dp[1]$\n",
    "4. 状态转移方程：$dp[i] = dp[i-1] + dp[i-2]$\n",
    "\n",
    "时间复杂度：$O(N)$\n",
    "\n",
    "空间复杂度：$O(N)$/$O(1)$"
   ]
  },
  {
   "cell_type": "code",
   "execution_count": 3,
   "metadata": {
    "ExecuteTime": {
     "end_time": "2021-01-07T11:36:21.131183Z",
     "start_time": "2021-01-07T11:36:21.126148Z"
    },
    "hidden": true
   },
   "outputs": [],
   "source": [
    "class Solution(object):\n",
    "    def numWays(self, n):\n",
    "        \"\"\"\n",
    "        :type n: int\n",
    "        :rtype: int\n",
    "        \"\"\"\n",
    "        if n <= 1:\n",
    "            return n\n",
    "        a, b = 1, 1\n",
    "        for i in range(2, n+1):\n",
    "            a, b = b, a+b\n",
    "        return b%1000000007"
   ]
  },
  {
   "cell_type": "code",
   "execution_count": 4,
   "metadata": {
    "ExecuteTime": {
     "end_time": "2021-01-07T11:36:21.343886Z",
     "start_time": "2021-01-07T11:36:21.339683Z"
    },
    "hidden": true
   },
   "outputs": [
    {
     "data": {
      "text/plain": [
       "21"
      ]
     },
     "execution_count": 4,
     "metadata": {},
     "output_type": "execute_result"
    }
   ],
   "source": [
    "a = Solution()\n",
    "a.numWays(n=7)"
   ]
  },
  {
   "cell_type": "markdown",
   "metadata": {
    "heading_collapsed": true
   },
   "source": [
    "## 剑指 Offer 09. 用两个栈实现队列\n",
    "用两个栈实现一个队列。队列的声明如下，请实现它的两个函数 appendTail 和 deleteHead ，分别完成在队列尾部插入整数和在队列头部删除整数的功能。(若队列中没有元素，deleteHead 操作返回 -1 )\n",
    "\n",
    "示例 1：\n",
    "\n",
    "输入：\n",
    "$[\"CQueue\",\"appendTail\",\"deleteHead\",\"deleteHead\"]$和$[[],[3],[],[]]$\n",
    "\n",
    "输出：$[null,null,3,-1]$"
   ]
  },
  {
   "cell_type": "markdown",
   "metadata": {
    "hidden": true
   },
   "source": [
    "头部添加：使用辅助栈用于存储主栈pop的结果，再push回去"
   ]
  },
  {
   "cell_type": "code",
   "execution_count": 9,
   "metadata": {
    "ExecuteTime": {
     "end_time": "2021-01-07T11:59:07.954308Z",
     "start_time": "2021-01-07T11:59:07.945170Z"
    },
    "hidden": true
   },
   "outputs": [],
   "source": [
    "class CQueue(object):\n",
    "\n",
    "    def __init__(self):\n",
    "        self.stack1 = []\n",
    "        self.stack2 = []\n",
    "\n",
    "    def appendTail(self, value):\n",
    "        \"\"\"\n",
    "        :type value: int\n",
    "        :rtype: None\n",
    "        \"\"\"\n",
    "        while self.stack1:\n",
    "            self.stack2.append(self.stack1.pop())\n",
    "        self.stack1.append(value)\n",
    "        while self.stack2:\n",
    "            self.stack1.append(self.stack2.pop())\n",
    "        return self.stack1\n",
    "\n",
    "\n",
    "    def deleteHead(self):\n",
    "        \"\"\"\n",
    "        :rtype: int\n",
    "        \"\"\"\n",
    "        if len(self.stack1) == 0: \n",
    "            return -1\n",
    "        else:\n",
    "            return self.stack1.pop()\n",
    "        \n",
    "# Your CQueue object will be instantiated and called as such:\n",
    "# obj = CQueue()\n",
    "# obj.appendTail(value)\n",
    "# param_2 = obj.deleteHead()"
   ]
  },
  {
   "cell_type": "code",
   "execution_count": 12,
   "metadata": {
    "ExecuteTime": {
     "end_time": "2021-01-07T11:59:42.015609Z",
     "start_time": "2021-01-07T11:59:42.010507Z"
    },
    "hidden": true
   },
   "outputs": [
    {
     "name": "stdout",
     "output_type": "stream",
     "text": [
      "[3]\n",
      "3\n",
      "-1\n"
     ]
    }
   ],
   "source": [
    "a = CQueue()\n",
    "print(a.appendTail(3))\n",
    "print(a.deleteHead())\n",
    "print(a.deleteHead())"
   ]
  },
  {
   "cell_type": "markdown",
   "metadata": {
    "heading_collapsed": true
   },
   "source": [
    "## 剑指 Offer 11. 旋转数组的最小数字\n",
    "把一个数组最开始的若干个元素搬到数组的末尾，我们称之为数组的旋转。输入一个递增排序的数组的一个旋转，输出旋转数组的最小元素。例如，数组 [3,4,5,1,2] 为 [1,2,3,4,5] 的一个旋转，该数组的最小值为1。\n"
   ]
  },
  {
   "cell_type": "markdown",
   "metadata": {
    "hidden": true
   },
   "source": [
    "### sort( )\n",
    "时间复杂度：$O(NlogN)$\n",
    "\n",
    "空间复杂度：$O(N)$"
   ]
  },
  {
   "cell_type": "code",
   "execution_count": 14,
   "metadata": {
    "ExecuteTime": {
     "end_time": "2021-01-07T12:13:17.078063Z",
     "start_time": "2021-01-07T12:13:17.074354Z"
    },
    "hidden": true
   },
   "outputs": [],
   "source": [
    "class Solution(object):\n",
    "    def minArray(self, numbers):\n",
    "        \"\"\"\n",
    "        :type numbers: List[int]\n",
    "        :rtype: int\n",
    "        \"\"\"\n",
    "        numbers.sort()\n",
    "        return numbers[0]"
   ]
  },
  {
   "cell_type": "markdown",
   "metadata": {
    "hidden": true
   },
   "source": [
    "### 二分法\n",
    "🍓🍓🍓：分三类，防止陷入平台期（input[2, 2, 2, 0, 1]时会卡在2处）\n",
    "\n",
    "时间复杂度：$O(logN)$\n",
    "\n",
    "空间复杂度：$O(1)$"
   ]
  },
  {
   "cell_type": "code",
   "execution_count": 44,
   "metadata": {
    "ExecuteTime": {
     "end_time": "2021-01-07T12:48:10.210813Z",
     "start_time": "2021-01-07T12:48:10.204075Z"
    },
    "hidden": true
   },
   "outputs": [],
   "source": [
    "class Solution(object):\n",
    "    def minArray(self, numbers):\n",
    "        \"\"\"\n",
    "        :type numbers: List[int]\n",
    "        :rtype: int\n",
    "        \"\"\"\n",
    "        if not len(numbers):\n",
    "            return numbers[0]\n",
    "        left, right = 0, len(numbers)-1\n",
    "        while left < right:\n",
    "            mid = (right-left)//2 + left\n",
    "            print(numbers[mid], numbers[left], numbers[right])\n",
    "            print(left, mid, right)\n",
    "            if numbers[mid] > numbers[right]:\n",
    "                left = mid+1\n",
    "            elif numbers[mid] < numbers[right]:\n",
    "                right = mid\n",
    "            else:  # 防止陷入平台期（input[2, 2, 2, 0, 1]时会卡在2处）\n",
    "                right -= 1\n",
    "        return numbers[left]"
   ]
  },
  {
   "cell_type": "code",
   "execution_count": 45,
   "metadata": {
    "ExecuteTime": {
     "end_time": "2021-01-07T12:48:13.060671Z",
     "start_time": "2021-01-07T12:48:13.053682Z"
    },
    "hidden": true
   },
   "outputs": [
    {
     "name": "stdout",
     "output_type": "stream",
     "text": [
      "2 2 1\n",
      "0 2 4\n",
      "0 0 1\n",
      "3 3 4\n"
     ]
    },
    {
     "data": {
      "text/plain": [
       "0"
      ]
     },
     "execution_count": 45,
     "metadata": {},
     "output_type": "execute_result"
    }
   ],
   "source": [
    "numbers = [2, 2, 2, 0, 1]\n",
    "a = Solution()\n",
    "a.minArray(numbers)"
   ]
  },
  {
   "cell_type": "markdown",
   "metadata": {
    "hidden": true
   },
   "source": [
    "### 分治\n"
   ]
  },
  {
   "cell_type": "markdown",
   "metadata": {
    "heading_collapsed": true
   },
   "source": [
    "## 剑指 Offer 12. 矩阵中的路径\n",
    "请设计一个函数，用来判断在一个矩阵中是否存在一条包含某字符串所有字符的路径。路径可以从矩阵中的任意一格开始，每一步可以在矩阵中向左、右、上、下移动一格。如果一条路径经过了矩阵的某一格，那么该路径不能再次进入该格子。例如，在下面的3×4的矩阵中包含一条字符串“bfce”的路径（路径中的字母用加粗标出）。\n",
    "\n",
    "$[[\"a\",\"b\",\"c\",\"e\"],$\n",
    "\n",
    "$[\"s\",\"f\",\"c\",\"s\"],$\n",
    "\n",
    "$[\"a\",\"d\",\"e\",\"e\"]]$\n",
    "\n",
    "但矩阵中不包含字符串“abfb”的路径，因为字符串的第一个字符b占据了矩阵中的第一行第二个格子之后，路径不能再次进入这个格子。\n"
   ]
  },
  {
   "cell_type": "markdown",
   "metadata": {
    "hidden": true
   },
   "source": [
    "### 回溯+dfs\n",
    "1. 定义：一直dig到当前字符四周所有可能性，再返回\n",
    "2. 出口：(1)下标超出范围；(2)字符与word不匹配\n",
    "3. 拆解：向四周扩散\n",
    "\n",
    "🍓🍓🍓：递归中用栈保存变量的机制：temp\n",
    "\n",
    "时间复杂度：$O((M \\times N)^2)$\n",
    "\n",
    "空间复杂度：$O(M \\times N)$\n"
   ]
  },
  {
   "cell_type": "code",
   "execution_count": 4,
   "metadata": {
    "ExecuteTime": {
     "end_time": "2021-01-09T01:30:20.114196Z",
     "start_time": "2021-01-09T01:30:20.107104Z"
    },
    "hidden": true
   },
   "outputs": [],
   "source": [
    "class Solution:\n",
    "    def exist(self, board, word):\n",
    "        def dfs(i, j, k):\n",
    "            if i<0 or i>=m or j<0 or j>=n or board[i][j]!=word[k]:\n",
    "                return False\n",
    "            if k == len(word)-1:\n",
    "                return True\n",
    "            \n",
    "            # 当前位置匹配， 寻找四周与下一字符匹配\n",
    "            temp, board[i][j] = board[i][j], '0'\n",
    "            res = dfs(i+1, j, k+1) or dfs(i-1, j, k+1) or dfs(i, j+1, k+1) or dfs(i, j-1, k+1)\n",
    "            board[i][j] = temp\n",
    "            return res\n",
    "        \n",
    "        m, n = len(board), len(board[0])\n",
    "        k = 0\n",
    "        for i in range(m):\n",
    "            for j in range(n):\n",
    "                if dfs(i, j, k):\n",
    "                    return True\n",
    "        return False\n",
    "    \n",
    "        "
   ]
  },
  {
   "cell_type": "code",
   "execution_count": 5,
   "metadata": {
    "ExecuteTime": {
     "end_time": "2021-01-09T01:30:20.315434Z",
     "start_time": "2021-01-09T01:30:20.302913Z"
    },
    "hidden": true
   },
   "outputs": [
    {
     "data": {
      "text/plain": [
       "True"
      ]
     },
     "execution_count": 5,
     "metadata": {},
     "output_type": "execute_result"
    }
   ],
   "source": [
    "board = [[\"a\",\"b\",\"c\",\"e\"],\n",
    "[\"s\",\"f\",\"c\",\"s\"],\n",
    "[\"a\",\"d\",\"e\",\"e\"]]\n",
    "word = 'bfce'\n",
    "\n",
    "a = Solution()\n",
    "a.exist(board, word)"
   ]
  },
  {
   "cell_type": "markdown",
   "metadata": {
    "heading_collapsed": true
   },
   "source": [
    "## 剑指 Offer 13. 机器人的运动范围\n",
    "地上有一个m行n列的方格，从坐标 [0,0] 到坐标 [m-1,n-1] 。一个机器人从坐标 [0, 0] 的格子开始移动，它每次可以向左、右、上、下移动一格（不能移动到方格外），也不能进入行坐标和列坐标的数位之和大于k的格子。例如，当k为18时，机器人能够进入方格 [35, 37] ，因为3+5+3+7=18。但它不能进入方格 [35, 38]，因为3+5+3+8=19。请问该机器人能够到达多少个格子？\n",
    "\n",
    "输入：m = 2, n = 3, k = 1\n",
    "\n",
    "输出：3"
   ]
  },
  {
   "cell_type": "markdown",
   "metadata": {
    "hidden": true
   },
   "source": [
    "### 回溯+dfs\n",
    "1. 定义：统计满足要求的下标\n",
    "2. 出口：(1)下标越界；(2)下标之和大于k\n",
    "3. 拆解：1+向右走一步+向下走一步（因为从(0，0)开始，所以向左和向上的情况是重复的）\n",
    "\n",
    "🍓🍓🍓：计算下标数值之和的方法\n",
    "\n",
    "🍓🍓🍓：考虑边界条件：一行/一列/k=0\n",
    "\n",
    "时间复杂度：$O(M \\times N)$\n",
    "\n",
    "空间复杂度：$O(M \\times N)$\n"
   ]
  },
  {
   "cell_type": "code",
   "execution_count": 13,
   "metadata": {
    "ExecuteTime": {
     "end_time": "2021-01-09T10:26:52.221671Z",
     "start_time": "2021-01-09T10:26:52.215906Z"
    },
    "hidden": true
   },
   "outputs": [],
   "source": [
    "class Solution(object):\n",
    "    def movingCount(self, m, n, k):\n",
    "        \"\"\"\n",
    "        :type m: int\n",
    "        :type n: int\n",
    "        :type k: int\n",
    "        :rtype: int\n",
    "        \"\"\"\n",
    "        def dfs(i, j, si, sj):\n",
    "            if i>=m or j>=n or si+sj>k or (i, j) in visited:\n",
    "                return 0\n",
    "            visited.add((i, j))\n",
    "            return 1+dfs(i+1, j, si+1 if (i+1)%10 else si-8, sj)+dfs(i, j+1, si, sj+1 if (j+1)%10 else sj-8)\n",
    "        visited = set()\n",
    "        return dfs(0, 0, 0, 0)"
   ]
  },
  {
   "cell_type": "code",
   "execution_count": 16,
   "metadata": {
    "ExecuteTime": {
     "end_time": "2021-01-09T10:27:23.897161Z",
     "start_time": "2021-01-09T10:27:23.890175Z"
    },
    "hidden": true
   },
   "outputs": [
    {
     "data": {
      "text/plain": [
       "2"
      ]
     },
     "execution_count": 16,
     "metadata": {},
     "output_type": "execute_result"
    }
   ],
   "source": [
    "a = Solution()\n",
    "res = a.movingCount(1, 3, 1)\n",
    "res"
   ]
  },
  {
   "cell_type": "markdown",
   "metadata": {
    "heading_collapsed": true
   },
   "source": [
    "## 剑指 Offer 15. 二进制中1的个数\n",
    "请实现一个函数，输入一个整数（以二进制串形式），输出该数二进制表示中 1 的个数。例如，把 9 表示成二进制是 1001，有 2 位是 1。因此，如果输入 9，则该函数输出 2。\n"
   ]
  },
  {
   "cell_type": "markdown",
   "metadata": {
    "hidden": true
   },
   "source": [
    "### 暴力法\n"
   ]
  },
  {
   "cell_type": "code",
   "execution_count": 20,
   "metadata": {
    "ExecuteTime": {
     "end_time": "2021-01-09T14:10:32.294322Z",
     "start_time": "2021-01-09T14:10:32.289342Z"
    },
    "hidden": true
   },
   "outputs": [],
   "source": [
    "class Solution:\n",
    "    def hammingWeight(self, n: int) -> int:\n",
    "        res = 0\n",
    "        while n:\n",
    "            res += n & 1\n",
    "            n >>= 1\n",
    "        return res\n"
   ]
  },
  {
   "cell_type": "code",
   "execution_count": 22,
   "metadata": {
    "ExecuteTime": {
     "end_time": "2021-01-09T14:11:45.808136Z",
     "start_time": "2021-01-09T14:11:45.802442Z"
    },
    "hidden": true
   },
   "outputs": [
    {
     "data": {
      "text/plain": [
       "3"
      ]
     },
     "execution_count": 22,
     "metadata": {},
     "output_type": "execute_result"
    }
   ],
   "source": [
    "n = int('00000000000000000000000000001011', 2)\n",
    "a = Solution()\n",
    "a.hammingWeight(n)"
   ]
  },
  {
   "cell_type": "markdown",
   "metadata": {
    "hidden": true
   },
   "source": [
    "### 小trick\n",
    "n & n-1可以消去最右边的1"
   ]
  },
  {
   "cell_type": "code",
   "execution_count": null,
   "metadata": {
    "hidden": true
   },
   "outputs": [],
   "source": [
    "class Solution:\n",
    "    def hammingWeight(self, n: int) -> int:\n",
    "        res = 0\n",
    "        while n:\n",
    "            res += 1\n",
    "            n &= n - 1\n",
    "        return res\n"
   ]
  },
  {
   "cell_type": "markdown",
   "metadata": {
    "heading_collapsed": true
   },
   "source": [
    "## 剑指 Offer 18. 删除链表的节点\n",
    "给定单向链表的头指针和一个要删除的节点的值，定义一个函数删除该节点。\n",
    "\n",
    "返回删除后的链表的头节点。\n",
    "\n",
    "输入: head = [4,5,1,9], val = 5\n",
    "输出: [4,1,9]\n",
    "解释: 给定你链表中值为 5 的第二个节点，那么在调用了你的函数之后，该链表应变为 4 -> 1 -> 9.\n",
    "\n"
   ]
  },
  {
   "cell_type": "markdown",
   "metadata": {
    "hidden": true
   },
   "source": [
    "### 遍历\n",
    "\n",
    "时间复杂度：$O(N)$\n",
    "\n",
    "空间复杂度：$O(1)$"
   ]
  },
  {
   "cell_type": "markdown",
   "metadata": {
    "hidden": true
   },
   "source": [
    "⚠️⚠️⚠️：返回head的话，当需要删除的是头节点时，实际上得到的还是原始输入的链表。因为deleteNode只是跳过了目标节点而没有将其删除"
   ]
  },
  {
   "cell_type": "code",
   "execution_count": 34,
   "metadata": {
    "ExecuteTime": {
     "end_time": "2021-01-10T01:28:43.165610Z",
     "start_time": "2021-01-10T01:28:43.159573Z"
    },
    "hidden": true
   },
   "outputs": [],
   "source": [
    "# Definition for singly-linked list.\n",
    "class ListNode:\n",
    "    def __init__(self, x):\n",
    "        self.val = x\n",
    "        self.next = None\n",
    "        \n",
    "        \n",
    "class Solution:\n",
    "    def deleteNode(self, head, val):\n",
    "        dummy = ListNode(0)\n",
    "        dummy.next = head\n",
    "        while dummy.next:\n",
    "            if dummy.next.val == val:\n",
    "                print(dummy.val)\n",
    "                dummy.next = dummy.next.next\n",
    "            else:\n",
    "                dummy = dummy.next\n",
    "        return head"
   ]
  },
  {
   "cell_type": "code",
   "execution_count": 36,
   "metadata": {
    "ExecuteTime": {
     "end_time": "2021-01-10T01:35:43.036139Z",
     "start_time": "2021-01-10T01:35:43.031689Z"
    },
    "hidden": true
   },
   "outputs": [],
   "source": [
    "class Solution:\n",
    "    def deleteNode(self, head, val):\n",
    "        dummy = ListNode(0)\n",
    "        dummy.next = head\n",
    "        res = dummy\n",
    "        while dummy.next:\n",
    "            if dummy.next.val == val:\n",
    "                print(dummy.val)\n",
    "                dummy.next = dummy.next.next\n",
    "            else:\n",
    "                dummy = dummy.next\n",
    "        return res.next"
   ]
  },
  {
   "cell_type": "code",
   "execution_count": 37,
   "metadata": {
    "ExecuteTime": {
     "end_time": "2021-01-10T01:35:43.353343Z",
     "start_time": "2021-01-10T01:35:43.347506Z"
    },
    "hidden": true
   },
   "outputs": [
    {
     "name": "stdout",
     "output_type": "stream",
     "text": [
      "0\n"
     ]
    },
    {
     "data": {
      "text/plain": [
       "2"
      ]
     },
     "execution_count": 37,
     "metadata": {},
     "output_type": "execute_result"
    }
   ],
   "source": [
    "l1, l2 = ListNode(1), ListNode(2)\n",
    "l3, l4 = ListNode(3), ListNode(4)\n",
    "# l1\n",
    "l3.next = l4\n",
    "l2.next = l3\n",
    "l1.next = l2\n",
    "\n",
    "a = Solution()\n",
    "res = a.deleteNode(l1, 1)\n",
    "res.val"
   ]
  },
  {
   "cell_type": "markdown",
   "metadata": {
    "hidden": true
   },
   "source": [
    "### $O(1)$时间的方法\n",
    "输入的node不是数值，而是待删除的节点，详见：面试题 02.03. 删除中间节点\n",
    "\n",
    "https://leetcode-cn.com/problems/delete-middle-node-lcci/"
   ]
  },
  {
   "cell_type": "code",
   "execution_count": null,
   "metadata": {
    "hidden": true
   },
   "outputs": [],
   "source": [
    "# Definition for singly-linked list.\n",
    "# class ListNode:\n",
    "#     def __init__(self, x):\n",
    "#         self.val = x\n",
    "#         self.next = None\n",
    "\n",
    "class Solution:\n",
    "    def deleteNode(self, node):\n",
    "        \"\"\"\n",
    "        :type node: ListNode\n",
    "        :rtype: void Do not return anything, modify node in-place instead.\n",
    "        \"\"\"\n",
    "        node.val = node.next.val\n",
    "        node.next = node.next.next"
   ]
  },
  {
   "cell_type": "markdown",
   "metadata": {
    "heading_collapsed": true
   },
   "source": [
    "## 剑指 Offer 14- I. 剪绳子\n",
    "给你一根长度为 n 的绳子，请把绳子剪成整数长度的 m 段（m、n都是整数，n>1并且m>1），每段绳子的长度记为 k[0],k[1]...k[m-1] 。请问 k[0]*k[1]*...*k[m-1] 可能的最大乘积是多少？例如，当绳子的长度是8时，我们把它剪成长度"
   ]
  },
  {
   "cell_type": "markdown",
   "metadata": {
    "hidden": true
   },
   "source": [
    "### dp\n",
    "🍓🍓🍓：考虑边界条件\n",
    "1. 状态：$dp[]$\n",
    "2. 最优子解：$dp[n] = g(dp[i], dp[n-i])$\n",
    "3. 状态转移方程：$dp[n] = dp[i]*dp[n-i]$\n",
    "4. 边界：$dp[0], dp[1], dp[2], dp[3] = 0, 1, 1, 2$因为必须剪至少一刀\n",
    "\n",
    "时间复杂度：$O(N)$\n",
    "\n",
    "空间复杂度：$O(1)$\n",
    "\n",
    "（该方法可以用于剪绳子ii）"
   ]
  },
  {
   "cell_type": "code",
   "execution_count": 22,
   "metadata": {
    "ExecuteTime": {
     "end_time": "2021-01-11T07:56:11.151868Z",
     "start_time": "2021-01-11T07:56:11.144405Z"
    },
    "hidden": true
   },
   "outputs": [],
   "source": [
    "class Solution(object):\n",
    "    def cuttingRope(self, n):\n",
    "        \"\"\"\n",
    "        :type n: int\n",
    "        :rtype: int\n",
    "        \"\"\"\n",
    "        if n <= 1:\n",
    "            return 0\n",
    "        elif 2 <= n <= 3:\n",
    "            return n-1\n",
    "        else:\n",
    "            dp = [0 for _ in range(n+1)]\n",
    "            dp[0], dp[1], dp[2], dp[3] = 0, 1, 2, 3\n",
    "            for i in range(4, n+1):\n",
    "                for j in range(1, i):\n",
    "                    temp = dp[j]*dp[i-j]\n",
    "    #                 print(temp, i, j)\n",
    "                    dp[i] = max(temp, dp[i])\n",
    "    #             print(f'dp = {dp}')\n",
    "            dp[0], dp[1], dp[2], dp[3] = 0, 1, 1, 2\n",
    "        return dp[-1]%1000000007"
   ]
  },
  {
   "cell_type": "code",
   "execution_count": 23,
   "metadata": {
    "ExecuteTime": {
     "end_time": "2021-01-11T07:56:11.352902Z",
     "start_time": "2021-01-11T07:56:11.347711Z"
    },
    "hidden": true,
    "scrolled": true
   },
   "outputs": [
    {
     "data": {
      "text/plain": [
       "1"
      ]
     },
     "execution_count": 23,
     "metadata": {},
     "output_type": "execute_result"
    }
   ],
   "source": [
    "a = Solution()\n",
    "a.cuttingRope(2)"
   ]
  },
  {
   "cell_type": "markdown",
   "metadata": {
    "hidden": true
   },
   "source": [
    "过于冗余，找规律发现每个n的最优情况按照周期为3地变化\n",
    "\n",
    "且dp只需保存3个空间用于递推\n",
    "\n",
    "时间复杂度：$O(N)$\n",
    "\n",
    "空间复杂度：$O(1)$"
   ]
  },
  {
   "cell_type": "code",
   "execution_count": null,
   "metadata": {
    "hidden": true
   },
   "outputs": [],
   "source": [
    "class Solution:\n",
    "    def cuttingRope(self, n):\n",
    "        dp = [0, 1, 1]\n",
    "        \n",
    "        for i in range(3, n + 1):\n",
    "            dp[i % 3] = max(max(dp[(i - 1) % 3], i - 1), 2 * max(dp[(i - 2) % 3], i - 2), 3 * max(dp[(i - 3) % 3], i - 3))\n",
    "        return dp[n % 3]\n"
   ]
  },
  {
   "cell_type": "markdown",
   "metadata": {
    "hidden": true
   },
   "source": [
    "### 贪婪算法"
   ]
  },
  {
   "cell_type": "markdown",
   "metadata": {
    "heading_collapsed": true
   },
   "source": [
    "## 剑指 Offer 16. 数值的整数次方\n",
    "实现函数double Power(double base, int exponent)，求base的exponent次方。不得使用库函数，同时不需要考虑大数问题。\n",
    "\n",
    "输入: 2.00000, 10\n",
    "\n",
    "输出: 1024.00000"
   ]
  },
  {
   "cell_type": "markdown",
   "metadata": {
    "hidden": true
   },
   "source": [
    "### 直接幂乘\n",
    "注意边界情况"
   ]
  },
  {
   "cell_type": "code",
   "execution_count": 38,
   "metadata": {
    "ExecuteTime": {
     "end_time": "2021-01-12T01:18:47.634758Z",
     "start_time": "2021-01-12T01:18:47.629270Z"
    },
    "hidden": true
   },
   "outputs": [],
   "source": [
    "class Solution(object):\n",
    "    def myPow(self, x, n):\n",
    "        \"\"\"\n",
    "        :type x: float\n",
    "        :type n: int\n",
    "        :rtype: float\n",
    "        \"\"\"\n",
    "        res = 1\n",
    "        neg = 0\n",
    "        if n == 0:\n",
    "            return 1\n",
    "        elif n < 0:\n",
    "            neg = 1\n",
    "            while n:\n",
    "                res *= x\n",
    "                n += 1 \n",
    "        else:\n",
    "            while n:\n",
    "                res *= x\n",
    "                n -= 1 \n",
    "        return res if not neg else 1/res"
   ]
  },
  {
   "cell_type": "markdown",
   "metadata": {
    "hidden": true
   },
   "source": [
    "### 递归1&2"
   ]
  },
  {
   "cell_type": "code",
   "execution_count": null,
   "metadata": {
    "hidden": true
   },
   "outputs": [],
   "source": [
    "class Solution:\n",
    "    def myPow(self, x: float, n: int) -> float:\n",
    "\n",
    "        def result(x,n):\n",
    "            if n == 1:\n",
    "                return x\n",
    "            num = result(x,n//2)\n",
    "            if n % 2 == 0:#n为偶数时\n",
    "                return num * num\n",
    "            else:#n为奇数时\n",
    "                return num * num * x\n",
    "        if n  == 0:\n",
    "            return 1\n",
    "        if n < 0:#n为负数时\n",
    "            return 1/result(x,-n)\n",
    "        return result(x,n)\n",
    "        "
   ]
  },
  {
   "cell_type": "markdown",
   "metadata": {
    "hidden": true
   },
   "source": [
    "### 位运算\n",
    "\"利用十进制数字的二进制表示，可对快速幂进行数学化解释。\"\n",
    "\n",
    "二进制表达$x^n$：$x^n = \\prod_{i=0}^n x^{2^{i*a_i}}$，其中$a_i = {0, 1}$\n",
    "\n",
    "时间复杂度：$O(log_2 n)$\n",
    "\n",
    "空间复杂度：$O(1)$"
   ]
  },
  {
   "cell_type": "code",
   "execution_count": 4,
   "metadata": {
    "ExecuteTime": {
     "end_time": "2021-01-13T11:06:49.174055Z",
     "start_time": "2021-01-13T11:06:49.168865Z"
    },
    "hidden": true
   },
   "outputs": [],
   "source": [
    "class Solution:\n",
    "    def myPow(self, x, n):\n",
    "        if x == 0:\n",
    "            return 0\n",
    "        res = 1\n",
    "        if n < 0:\n",
    "            x = 1/x\n",
    "            n = -n\n",
    "        \n",
    "        while n:\n",
    "            if n & 1:\n",
    "                res *= x\n",
    "            n >>= 1\n",
    "            x *= x\n",
    "        return res"
   ]
  },
  {
   "cell_type": "code",
   "execution_count": 5,
   "metadata": {
    "ExecuteTime": {
     "end_time": "2021-01-13T11:06:50.053785Z",
     "start_time": "2021-01-13T11:06:50.041057Z"
    },
    "hidden": true
   },
   "outputs": [
    {
     "data": {
      "text/plain": [
       "4.0"
      ]
     },
     "execution_count": 5,
     "metadata": {},
     "output_type": "execute_result"
    }
   ],
   "source": [
    "a = Solution()\n",
    "a.myPow(2.0, 2)"
   ]
  },
  {
   "cell_type": "markdown",
   "metadata": {
    "heading_collapsed": true
   },
   "source": [
    "## 剑指 Offer 17. 打印从1到最大的n位数\n",
    "输入数字 n，按顺序打印出从 1 到最大的 n 位十进制数。比如输入 3，则打印出 1、2、3 一直到最大的 3 位数 999。\n",
    "\n",
    "示例 1:\n",
    "\n",
    "输入: n = 1\n",
    "输出: [1,2,3,4,5,6,7,8,9]"
   ]
  },
  {
   "cell_type": "code",
   "execution_count": null,
   "metadata": {
    "hidden": true
   },
   "outputs": [],
   "source": []
  },
  {
   "cell_type": "code",
   "execution_count": 18,
   "metadata": {
    "ExecuteTime": {
     "end_time": "2021-01-14T12:36:26.185555Z",
     "start_time": "2021-01-14T12:36:26.180499Z"
    },
    "hidden": true
   },
   "outputs": [],
   "source": [
    "class Solution(object):\n",
    "    def printNumbers(self, n):\n",
    "        \"\"\"\n",
    "        :type n: int\n",
    "        :rtype: List[int]\n",
    "        \"\"\"\n",
    "        cnt = 0\n",
    "        res = []\n",
    "        if n <= 0: return None\n",
    "        while cnt/(10**n) != 1:\n",
    "#             print((10**n))\n",
    "            cnt += 1\n",
    "            res.append(cnt)\n",
    "        return res[:-1]"
   ]
  },
  {
   "cell_type": "code",
   "execution_count": 19,
   "metadata": {
    "ExecuteTime": {
     "end_time": "2021-01-14T12:36:26.442703Z",
     "start_time": "2021-01-14T12:36:26.437546Z"
    },
    "hidden": true
   },
   "outputs": [
    {
     "data": {
      "text/plain": [
       "[1, 2, 3, 4, 5, 6, 7, 8, 9]"
      ]
     },
     "execution_count": 19,
     "metadata": {},
     "output_type": "execute_result"
    }
   ],
   "source": [
    "a = Solution()\n",
    "a.printNumbers(1)"
   ]
  },
  {
   "cell_type": "markdown",
   "metadata": {
    "heading_collapsed": true
   },
   "source": [
    "## 剑指 Offer 22. 链表中倒数第k个节点\n",
    "输入一个链表，输出该链表中倒数第k个节点。为了符合大多数人的习惯，本题从1开始计数，即链表的尾节点是倒数第1个节点。例如，一个链表有6个节点，从头节点开始，它们的值依次是1、2、3、4、5、6。这个链表的倒数第3个节点是值为4的节点。\n"
   ]
  },
  {
   "cell_type": "markdown",
   "metadata": {
    "hidden": true
   },
   "source": [
    "### 遍历两遍"
   ]
  },
  {
   "cell_type": "markdown",
   "metadata": {
    "hidden": true
   },
   "source": [
    "### 快慢指针\n",
    "🍓🍓🍓注意边界的情况"
   ]
  },
  {
   "cell_type": "code",
   "execution_count": 20,
   "metadata": {
    "ExecuteTime": {
     "end_time": "2021-01-15T05:59:49.012701Z",
     "start_time": "2021-01-15T05:59:49.007838Z"
    },
    "hidden": true
   },
   "outputs": [],
   "source": [
    "# Definition for singly-linked list.\n",
    "class ListNode(object):\n",
    "    def __init__(self, x):\n",
    "        self.val = x\n",
    "        self.next = None\n",
    "\n",
    "class Solution(object):\n",
    "    def getKthFromEnd(self, head, k):\n",
    "        \"\"\"\n",
    "        :type head: ListNode\n",
    "        :type k: int\n",
    "        :rtype: ListNode\n",
    "        \"\"\"\n",
    "        dummy = ListNode(-1)\n",
    "        dummy.next = head\n",
    "        slow, fast = dummy, dummy\n",
    "        \n",
    "        for _ in range(k):\n",
    "            fast = fast.next\n",
    "        while fast and fast.next:  # 🍓🍓🍓⚠️⚠️⚠️\n",
    "            slow, fast = slow.next, fast.next\n",
    "                \n",
    "        return slow.next  # 🍓🍓🍓删除头节点的情况"
   ]
  },
  {
   "cell_type": "markdown",
   "metadata": {
    "heading_collapsed": true
   },
   "source": [
    "## 剑指 Offer 19. 正则表达式匹配"
   ]
  },
  {
   "cell_type": "markdown",
   "metadata": {
    "hidden": true
   },
   "source": [
    "### 回溯"
   ]
  },
  {
   "cell_type": "code",
   "execution_count": null,
   "metadata": {
    "hidden": true
   },
   "outputs": [],
   "source": [
    "class Solution:\n",
    "    def isMatch(self, s: str, p: str) -> bool:\n",
    "        if not p: return not s\n",
    "        # 第一个字母是否匹配\n",
    "        first_match = bool(s and p[0] in {s[0],'.'})\n",
    "        # 如果 p 第二个字母是 *\n",
    "        if len(p) >= 2 and p[1] == \"*\":\n",
    "            return self.isMatch(s, p[2:]) or \\\n",
    "            first_match and self.isMatch(s[1:], p)\n",
    "        else:\n",
    "            return first_match and self.isMatch(s[1:], p[1:])\n"
   ]
  },
  {
   "cell_type": "markdown",
   "metadata": {
    "hidden": true
   },
   "source": [
    "### 动态规划"
   ]
  },
  {
   "cell_type": "code",
   "execution_count": null,
   "metadata": {
    "hidden": true
   },
   "outputs": [],
   "source": [
    "class Solution:\n",
    "    def isMatch(self, s: str, p: str) -> bool:\n",
    "        m, n = len(s), len(p)\n",
    "\n",
    "        def matches(i: int, j: int) -> bool:\n",
    "            if i == 0:\n",
    "                return False\n",
    "            if p[j - 1] == '.':\n",
    "                return True\n",
    "            return s[i - 1] == p[j - 1]\n",
    "\n",
    "        f = [[False] * (n + 1) for _ in range(m + 1)]\n",
    "        f[0][0] = True\n",
    "        for i in range(m + 1):\n",
    "            for j in range(1, n + 1):\n",
    "                if p[j - 1] == '*':\n",
    "                    f[i][j] |= f[i][j - 2]\n",
    "                    if matches(i, j - 1):\n",
    "                        f[i][j] |= f[i - 1][j]\n",
    "                else:\n",
    "                    if matches(i, j):\n",
    "                        f[i][j] |= f[i - 1][j - 1]\n",
    "        return f[m][n]\n"
   ]
  },
  {
   "cell_type": "markdown",
   "metadata": {
    "heading_collapsed": true
   },
   "source": [
    "## 剑指 Offer 20. 表示数值的字符串\n",
    "请实现一个函数用来判断字符串是否表示数值（包括整数和小数）。例如，字符串\"+100\"、\"5e2\"、\"-123\"、\"3.1416\"、\"-1E-16\"、\"0123\"都表示数值，但\"12e\"、\"1a3.14\"、\"1.2.3\"、\"+-5\"及\"12e+5.4\"都不是。\n"
   ]
  },
  {
   "attachments": {
    "image-2.png": {
     "image/png": "[encoded data removed]"
    }
   },
   "cell_type": "markdown",
   "metadata": {
    "hidden": true
   },
   "source": [
    "### 有限状态自动机\n",
    "1. 画出结构\n",
    "DFA.png![image-2.png](attachment:image-2.png)\n",
    "2. 给前后留blank\n",
    "3. python实现状态机：list+dist\n",
    "4. 4个状态转换标志\n",
    "\n",
    "时间复杂度：$O(N)$\n",
    "\n",
    "空间复杂度：$O(1)$"
   ]
  },
  {
   "cell_type": "code",
   "execution_count": 61,
   "metadata": {
    "ExecuteTime": {
     "end_time": "2021-01-31T04:39:07.874593Z",
     "start_time": "2021-01-31T04:39:07.866498Z"
    },
    "hidden": true
   },
   "outputs": [],
   "source": [
    "class Solution:\n",
    "    def isNumber(self, s):\n",
    "        states = [\n",
    "            {' ':0, 's':1, 'd':2, '.':4},  # 0\n",
    "            {'d':2, '.':4},                # 1\n",
    "            {'d':2, '.':3, 'e':5, ' ':8},  # 2\n",
    "            {'d':3, 'e':5, ' ':8},         # 3\n",
    "            {'d':3},                       # 4\n",
    "            {'s':6, 'd':7},                # 5\n",
    "            {'d':7},                       # 6\n",
    "            {'d':7, ' ':8},                # 7\n",
    "            {' ':8},                       # 8\n",
    "        ]\n",
    "        p = 0\n",
    "        for c in s:\n",
    "            if '0'<=c<='9': flag = 'd'\n",
    "            elif c in '+-': flag = 's'\n",
    "            elif c in '. ': flag = c  # 🍓：有两个状态可以直接表示\n",
    "            elif c in 'eE': flag = 'e'\n",
    "            else: flag = '?'\n",
    "#             print(c, p, flag)\n",
    "\n",
    "            if flag not in states[p]: return False\n",
    "            p = states[p][flag]\n",
    "        \n",
    "        return p in (2, 3, 7, 8)"
   ]
  },
  {
   "cell_type": "code",
   "execution_count": 62,
   "metadata": {
    "ExecuteTime": {
     "end_time": "2021-01-31T04:39:08.082204Z",
     "start_time": "2021-01-31T04:39:08.077812Z"
    },
    "hidden": true
   },
   "outputs": [
    {
     "name": "stdout",
     "output_type": "stream",
     "text": [
      "1 0 d\n",
      "e 2 e\n",
      "- 5 s\n",
      "3 6 d\n"
     ]
    },
    {
     "data": {
      "text/plain": [
       "True"
      ]
     },
     "execution_count": 62,
     "metadata": {},
     "output_type": "execute_result"
    }
   ],
   "source": [
    "s = '1e-3'\n",
    "a = Solution()\n",
    "res = a.isNumber(s)\n",
    "res"
   ]
  },
  {
   "cell_type": "markdown",
   "metadata": {
    "heading_collapsed": true
   },
   "source": [
    "## 剑指 Offer 24. 反转链表"
   ]
  },
  {
   "cell_type": "markdown",
   "metadata": {
    "hidden": true
   },
   "source": [
    "### 迭代\n",
    "使用三个指针分别指向上一个、当前和下一个链表节点\n",
    "\n",
    "时间复杂度：$O(n)$\n",
    "\n",
    "空间复杂度：$O(1)$"
   ]
  },
  {
   "cell_type": "code",
   "execution_count": 15,
   "metadata": {
    "ExecuteTime": {
     "end_time": "2021-01-30T13:50:03.639571Z",
     "start_time": "2021-01-30T13:50:03.635007Z"
    },
    "hidden": true
   },
   "outputs": [],
   "source": [
    "# Definition for singly-linked list.\n",
    "class ListNode(object):\n",
    "    def __init__(self, x):\n",
    "        self.val = x\n",
    "        self.next = None\n",
    "\n",
    "class Solution(object):\n",
    "    def reverseList(self, head):\n",
    "        \"\"\"\n",
    "        :type head: ListNode\n",
    "        :rtype: ListNode\n",
    "        \"\"\"\n",
    "        pre, cur = None, head\n",
    "        while cur:\n",
    "            temp = cur.next\n",
    "            cur.next = pre\n",
    "            pre, cur = cur, temp\n",
    "        return pre\n",
    "            "
   ]
  },
  {
   "cell_type": "markdown",
   "metadata": {
    "hidden": true
   },
   "source": [
    "### 递归\n",
    "注意self.reverseList(i)堆栈的处理以及每次调用栈顶对象时head和cur指针的指向\n",
    "\n",
    "时间复杂度：$O(n)$\n",
    "\n",
    "空间复杂度：$O(n)$"
   ]
  },
  {
   "cell_type": "code",
   "execution_count": 16,
   "metadata": {
    "ExecuteTime": {
     "end_time": "2021-01-30T13:50:04.764853Z",
     "start_time": "2021-01-30T13:50:04.760213Z"
    },
    "hidden": true
   },
   "outputs": [],
   "source": [
    "class Solution(object):\n",
    "    def reverseList(self, head):\n",
    "        \"\"\"\n",
    "        :type head: ListNode\n",
    "        :rtype: ListNode\n",
    "        \"\"\"\n",
    "        # 终止条件\n",
    "        if head == None or head.next == None: return head\n",
    "        cur = self.reverseList(head.next)  # 最终找到新的头节点\n",
    "        print(head.val, cur.val)\n",
    "        head.next.next = head\n",
    "        head.next = None\n",
    "        return cur"
   ]
  },
  {
   "cell_type": "code",
   "execution_count": 17,
   "metadata": {
    "ExecuteTime": {
     "end_time": "2021-01-30T13:50:05.105643Z",
     "start_time": "2021-01-30T13:50:05.099021Z"
    },
    "hidden": true
   },
   "outputs": [
    {
     "name": "stdout",
     "output_type": "stream",
     "text": [
      "5 6\n",
      "4 6\n",
      "3 6\n",
      "2 6\n",
      "1 6\n"
     ]
    },
    {
     "data": {
      "text/plain": [
       "5"
      ]
     },
     "execution_count": 17,
     "metadata": {},
     "output_type": "execute_result"
    }
   ],
   "source": [
    "l1, l2 = ListNode(1), ListNode(2)\n",
    "l3, l4 = ListNode(3), ListNode(4)\n",
    "l5, l6 = ListNode(5), ListNode(6)\n",
    "# l1\n",
    "l5.next = l6\n",
    "l4.next = l5\n",
    "l3.next = l4\n",
    "l2.next = l3\n",
    "l1.next = l2\n",
    "\n",
    "\n",
    "a = Solution()\n",
    "res = a.reverseList(l1)\n",
    "res.next.val"
   ]
  },
  {
   "cell_type": "markdown",
   "metadata": {
    "heading_collapsed": true
   },
   "source": [
    "## 剑指 Offer 21. 调整数组顺序使奇数位于偶数前面"
   ]
  },
  {
   "cell_type": "markdown",
   "metadata": {
    "hidden": true
   },
   "source": [
    "### 双指针\n",
    "\n",
    "时间复杂度：$O(n)$\n",
    "\n",
    "空间复杂度：$O(1)$"
   ]
  },
  {
   "cell_type": "code",
   "execution_count": 7,
   "metadata": {
    "ExecuteTime": {
     "end_time": "2021-01-30T07:58:49.457294Z",
     "start_time": "2021-01-30T07:58:49.452846Z"
    },
    "hidden": true
   },
   "outputs": [],
   "source": [
    "class Solution(object):\n",
    "    def exchange(self, nums):\n",
    "        \"\"\"\n",
    "        :type nums: List[int]\n",
    "        :rtype: List[int]\n",
    "        \"\"\"\n",
    "#         if len(nums) == 0 or len(nums) == 1: return nums\n",
    "        left, right = 0, len(nums)-1\n",
    "        while left < right:\n",
    "            if nums[left] & 1:\n",
    "                if nums[right] & 1 == 0: # 奇偶\n",
    "                    right -= 1\n",
    "                left += 1 # 奇奇\n",
    "            else:\n",
    "                if nums[right] & 1:\n",
    "                    nums[left], nums[right] = nums[right], nums[left]\n",
    "                    left += 1\n",
    "                right -= 1\n",
    "        return nums"
   ]
  },
  {
   "cell_type": "markdown",
   "metadata": {
    "hidden": true
   },
   "source": [
    "### 额外数组空间\n",
    "时间复杂度：$O(n)$\n",
    "\n",
    "空间复杂度：$O(n)$"
   ]
  },
  {
   "cell_type": "code",
   "execution_count": 11,
   "metadata": {
    "ExecuteTime": {
     "end_time": "2021-01-30T08:03:29.129742Z",
     "start_time": "2021-01-30T08:03:29.125210Z"
    },
    "hidden": true
   },
   "outputs": [],
   "source": [
    "class Solution(object):\n",
    "    def exchange(self, nums):\n",
    "        \"\"\"\n",
    "        :type nums: List[int]\n",
    "        :rtype: List[int]\n",
    "        \"\"\"\n",
    "#         if len(nums) == 0 or len(nums) == 1: return nums\n",
    "        odd, even = [],[]\n",
    "        for i in nums:\n",
    "            if i & 1:\n",
    "                odd.append(i)\n",
    "            else:\n",
    "                even.append(i)\n",
    "        return odd+even"
   ]
  },
  {
   "cell_type": "code",
   "execution_count": 12,
   "metadata": {
    "ExecuteTime": {
     "end_time": "2021-01-30T08:03:34.297727Z",
     "start_time": "2021-01-30T08:03:34.291791Z"
    },
    "hidden": true
   },
   "outputs": [
    {
     "data": {
      "text/plain": [
       "[1, 3, 2, 4]"
      ]
     },
     "execution_count": 12,
     "metadata": {},
     "output_type": "execute_result"
    }
   ],
   "source": [
    "nums = [1,2,3,4]\n",
    "a = Solution()\n",
    "a.exchange(nums)"
   ]
  },
  {
   "cell_type": "markdown",
   "metadata": {
    "heading_collapsed": true
   },
   "source": [
    "## 剑指 Offer 25. 合并两个排序的链表"
   ]
  },
  {
   "cell_type": "markdown",
   "metadata": {
    "hidden": true
   },
   "source": [
    "### 迭代\n",
    "🍓🍓🍓：仔细\n",
    "1. 开新空间l用于连接l1和l2\n",
    "2. 🍓l_head在第一个结点插一个指针的方法\n",
    "\n",
    "时间复杂度：$O(M+N)$\n",
    "\n",
    "空间复杂度：$O(1)$"
   ]
  },
  {
   "cell_type": "code",
   "execution_count": 39,
   "metadata": {
    "ExecuteTime": {
     "end_time": "2021-01-30T14:38:13.062118Z",
     "start_time": "2021-01-30T14:38:13.057061Z"
    },
    "hidden": true
   },
   "outputs": [],
   "source": [
    "# Definition for singly-linked list.\n",
    "# class ListNode(object):\n",
    "#     def __init__(self, x):\n",
    "#         self.val = x\n",
    "#         self.next = None\n",
    "\n",
    "class Solution(object):\n",
    "    def mergeTwoLists(self, l1, l2):\n",
    "        \"\"\"\n",
    "        :type l1: ListNode\n",
    "        :type l2: ListNode\n",
    "        :rtype: ListNode\n",
    "        \"\"\"\n",
    "        dummy = ListNode(-1)\n",
    "        head = dummy\n",
    "\n",
    "        while l1 and l2:\n",
    "            if l1.val<l2.val:\n",
    "                new = ListNode(l1.val)\n",
    "                l1 = l1.next\n",
    "            else:\n",
    "                new = ListNode(l2.val)\n",
    "                l2 = l2.next\n",
    "            dummy.next = new\n",
    "            # print(dummy.val)\n",
    "            dummy = dummy.next\n",
    "        dummy.next = l1 if l1 else l2\n",
    "        return head.next"
   ]
  },
  {
   "cell_type": "code",
   "execution_count": 47,
   "metadata": {
    "ExecuteTime": {
     "end_time": "2021-01-31T03:38:54.144703Z",
     "start_time": "2021-01-31T03:38:54.134159Z"
    },
    "hidden": true
   },
   "outputs": [],
   "source": [
    "# Definition for singly-linked list.\n",
    "class ListNode(object):\n",
    "    def __init__(self, x):\n",
    "        self.val = x\n",
    "        self.next = None\n",
    "        \n",
    "        \n",
    "class Solution(object):\n",
    "    def mergeTwoLists(self, l1, l2):\n",
    "        \"\"\"\n",
    "        :type l1: ListNode\n",
    "        :type l2: ListNode\n",
    "        :rtype: ListNode\n",
    "        \"\"\"\n",
    "        l_head = ListNode(-1)  # 相当于在第一个结点插一个指针，返回该指针而不是l末尾的指针\n",
    "        l = l_head\n",
    "        while l1 and l2:\n",
    "            if l1.val < l2.val:\n",
    "                l.next = l1\n",
    "                l1 = l1.next\n",
    "            else:\n",
    "                l.next = l2\n",
    "                l2 = l2.next\n",
    "            l = l.next\n",
    "        l.next = l1 if l1 else l2\n",
    "        return l_head.next\n",
    "        "
   ]
  },
  {
   "cell_type": "code",
   "execution_count": 48,
   "metadata": {
    "ExecuteTime": {
     "end_time": "2021-01-31T03:38:56.609762Z",
     "start_time": "2021-01-31T03:38:56.599900Z"
    },
    "hidden": true
   },
   "outputs": [
    {
     "data": {
      "text/plain": [
       "5"
      ]
     },
     "execution_count": 48,
     "metadata": {},
     "output_type": "execute_result"
    }
   ],
   "source": [
    "l1, l2 = ListNode(1), ListNode(2)\n",
    "l3, l4 = ListNode(3), ListNode(4)\n",
    "l5, l6 = ListNode(5), ListNode(6)\n",
    "# l1\n",
    "l3.next = l5\n",
    "l1.next = l3\n",
    "# l2\n",
    "l4.next = l6\n",
    "l2.next = l4\n",
    "\n",
    "a = Solution()\n",
    "res = a.mergeTwoLists(l1, l2)\n",
    "res.next.next.next.next.val"
   ]
  },
  {
   "cell_type": "markdown",
   "metadata": {
    "heading_collapsed": true
   },
   "source": [
    "## 剑指 Offer 26. 树的子结构\n",
    "输入两棵二叉树A和B，判断B是不是A的子结构。(约定空树不是任意一个树的子结构)\n",
    "\n",
    "B是A的子结构， 即 A中有出现和B相同的结构和节点值。"
   ]
  },
  {
   "cell_type": "markdown",
   "metadata": {
    "hidden": true
   },
   "source": [
    "### 递归\n",
    "🍓🍓🍓：构建新的函数用于递归，不然使用本身函数容易逻辑错乱\n",
    "1. 终止条件：1如果B没有子枝，则认为匹配到；2如果A没有子枝，则无法匹配；3返回当前A和B左右子枝的匹配情况\n",
    "2. 匹配的情况有三种：1A和B相同；2B和A的左子枝相同；3B和A的左子枝相同\n"
   ]
  },
  {
   "cell_type": "code",
   "execution_count": 57,
   "metadata": {
    "ExecuteTime": {
     "end_time": "2021-02-06T12:01:20.482621Z",
     "start_time": "2021-02-06T12:01:20.477181Z"
    },
    "hidden": true
   },
   "outputs": [],
   "source": [
    "# Definition for a binary tree node.\n",
    "class TreeNode(object):\n",
    "    def __init__(self, x):\n",
    "        self.val = x\n",
    "        self.left = None\n",
    "        self.right = None\n",
    "\n",
    "class Solution:\n",
    "    def isSubStructure(self, A, B):\n",
    "        def recur(A, B):\n",
    "            if not B: return True\n",
    "            if not A or A.val != B.val: return False\n",
    "            return recur(A.left, B.left) and recur(A.right, B.right)\n",
    "\n",
    "        return bool(A and B) and (recur(A, B) or self.isSubStructure(A.left, B) or self.isSubStructure(A.right, B))\n"
   ]
  },
  {
   "cell_type": "code",
   "execution_count": 58,
   "metadata": {
    "ExecuteTime": {
     "end_time": "2021-02-06T12:01:20.706024Z",
     "start_time": "2021-02-06T12:01:20.701588Z"
    },
    "hidden": true
   },
   "outputs": [
    {
     "data": {
      "text/plain": [
       "True"
      ]
     },
     "execution_count": 58,
     "metadata": {},
     "output_type": "execute_result"
    }
   ],
   "source": [
    "t1 = TreeNode(3)\n",
    "t2 = TreeNode(4)\n",
    "t3 = TreeNode(5)\n",
    "t4 = TreeNode(1)\n",
    "t5 = TreeNode(2)\n",
    "t1.left = t2\n",
    "t1.right = t3\n",
    "t2.left = t4\n",
    "t2.right = t5\n",
    "\n",
    "b1 = TreeNode(4)\n",
    "b2 = TreeNode(1)\n",
    "b1.left = b2\n",
    "\n",
    "a = Solution()\n",
    "a.isSubStructure(t1, b1)"
   ]
  },
  {
   "cell_type": "code",
   "execution_count": null,
   "metadata": {
    "hidden": true
   },
   "outputs": [],
   "source": [
    "t1 = TreeNode(3)\n",
    "t2 = TreeNode(4)\n",
    "t3 = TreeNode(5)\n",
    "t4 = TreeNode(1)\n",
    "t5 = TreeNode(2)\n",
    "t1.left = t2\n",
    "t1.right = t3\n",
    "t2.left = t4\n",
    "t2.right = t5\n",
    "\n",
    "b1 = TreeNode(4)\n",
    "b2 = TreeNode(1)\n",
    "b1.left = b2\n",
    "\n",
    "a = Solution()\n",
    "a.isSubStructure(t1, b1)"
   ]
  },
  {
   "cell_type": "markdown",
   "metadata": {
    "heading_collapsed": true
   },
   "source": [
    "## 剑指 Offer 27. 二叉树的镜像\n",
    "请完成一个函数，输入一个二叉树，该函数输出它的镜像。\n"
   ]
  },
  {
   "cell_type": "markdown",
   "metadata": {
    "hidden": true
   },
   "source": [
    "### 递归\n",
    "在二叉树遍历的基础上交换左右根\n",
    "\n",
    "时间复杂度：$O(N)$N为二叉树的深度\n",
    "\n",
    "空间复杂度：$O(1)$"
   ]
  },
  {
   "cell_type": "code",
   "execution_count": 16,
   "metadata": {
    "ExecuteTime": {
     "end_time": "2021-02-05T12:21:09.517428Z",
     "start_time": "2021-02-05T12:21:09.512708Z"
    },
    "hidden": true
   },
   "outputs": [],
   "source": [
    "# Definition for a binary tree node.\n",
    "class TreeNode(object):\n",
    "    def __init__(self, x):\n",
    "        self.val = x\n",
    "        self.left = None\n",
    "        self.right = None\n",
    "\n",
    "class Solution(object):\n",
    "    def mirrorTree(self, root):\n",
    "        \"\"\"\n",
    "        :type root: TreeNode\n",
    "        :rtype: TreeNode\n",
    "        \"\"\"\n",
    "        if root is None: return \n",
    "#         if root.left and root.right is None: return\n",
    "        root.left, root.right = root.right, root.left\n",
    "        self.mirrorTree(root.left)\n",
    "        self.mirrorTree(root.right)\n",
    "        return root\n",
    "        \n",
    "        "
   ]
  },
  {
   "cell_type": "code",
   "execution_count": 17,
   "metadata": {
    "ExecuteTime": {
     "end_time": "2021-02-05T12:21:09.735702Z",
     "start_time": "2021-02-05T12:21:09.729351Z"
    },
    "hidden": true
   },
   "outputs": [
    {
     "data": {
      "text/plain": [
       "6"
      ]
     },
     "execution_count": 17,
     "metadata": {},
     "output_type": "execute_result"
    }
   ],
   "source": [
    "t1 = TreeNode(4)\n",
    "t2 = TreeNode(2)\n",
    "t3 = TreeNode(7)\n",
    "t4 = TreeNode(1)\n",
    "t5 = TreeNode(3)\n",
    "t6 = TreeNode(6)\n",
    "t7 = TreeNode(9)\n",
    "t1.left, t1.right = t2, t3\n",
    "t2.left, t2.right = t4, t5\n",
    "t3.left, t3.right = t6, t7\n",
    "\n",
    "a = Solution()\n",
    "res = a.mirrorTree(t1)\n",
    "res.left.right.val"
   ]
  },
  {
   "cell_type": "code",
   "execution_count": 18,
   "metadata": {
    "ExecuteTime": {
     "end_time": "2021-02-05T12:21:10.964056Z",
     "start_time": "2021-02-05T12:21:10.956704Z"
    },
    "hidden": true
   },
   "outputs": [
    {
     "data": {
      "text/plain": [
       "1"
      ]
     },
     "execution_count": 18,
     "metadata": {},
     "output_type": "execute_result"
    }
   ],
   "source": [
    "t1 = TreeNode(1)\n",
    "t2 = TreeNode(2)\n",
    "t1.left = t2\n",
    "a = Solution()\n",
    "res = a.mirrorTree(t1)\n",
    "res.val"
   ]
  },
  {
   "cell_type": "markdown",
   "metadata": {
    "heading_collapsed": true
   },
   "source": [
    "## 剑指 Offer 28. 对称的二叉树"
   ]
  },
  {
   "cell_type": "markdown",
   "metadata": {
    "hidden": true
   },
   "source": [
    "### DFS\n",
    "递归实现，\n",
    "1. 终止条件：找到根结点/左右节点的数值不同\n",
    "2. 递归主体：左节点的左孩子和右节点的右孩子相等/左节点的右孩子和右节点的左孩子相等"
   ]
  },
  {
   "cell_type": "code",
   "execution_count": 67,
   "metadata": {
    "ExecuteTime": {
     "end_time": "2021-02-06T13:18:33.201514Z",
     "start_time": "2021-02-06T13:18:33.198080Z"
    },
    "hidden": true
   },
   "outputs": [],
   "source": [
    "class Solution:\n",
    "    def isSymmetric(self, root):\n",
    "        def recur(L, R):\n",
    "            if not L and not R: return True\n",
    "            if not L or not R or L.val != R.val: return False\n",
    "            return recur(L.left, R.right) and recur(L.right, R.left)\n",
    "\n",
    "        return recur(root.left, root.right) if root else True\n",
    "\n"
   ]
  },
  {
   "cell_type": "code",
   "execution_count": 71,
   "metadata": {
    "ExecuteTime": {
     "end_time": "2021-02-06T13:18:53.399144Z",
     "start_time": "2021-02-06T13:18:53.393504Z"
    },
    "hidden": true
   },
   "outputs": [
    {
     "name": "stdout",
     "output_type": "stream",
     "text": [
      "True\n"
     ]
    }
   ],
   "source": [
    "t1 = TreeNode(1)\n",
    "t2 = TreeNode(2)\n",
    "t3 = TreeNode(2)\n",
    "t4 = TreeNode(3)\n",
    "t5 = TreeNode(4)\n",
    "t6 = TreeNode(4)\n",
    "t7 = TreeNode(3)\n",
    "t1.left, t1.right = t2, t3\n",
    "t2.left, t2.right = t4, t5\n",
    "t3.left, t3.right = t6, t7\n",
    "\n",
    "a = Solution()\n",
    "res = a.isSymmetric(t1)\n",
    "print(res)\n",
    "# res.left.right.val"
   ]
  },
  {
   "cell_type": "markdown",
   "metadata": {
    "hidden": true
   },
   "source": [
    "### 队列"
   ]
  },
  {
   "cell_type": "code",
   "execution_count": 69,
   "metadata": {
    "ExecuteTime": {
     "end_time": "2021-02-06T13:18:33.832232Z",
     "start_time": "2021-02-06T13:18:33.827802Z"
    },
    "hidden": true
   },
   "outputs": [],
   "source": [
    "class Solution(object):\n",
    "    def isSymmetric(self, root):\n",
    "        \"\"\"\n",
    "        :type root: TreeNode\n",
    "        :rtype: bool\n",
    "        \"\"\"\n",
    "        if not root or not (root.left or root.right):\n",
    "            return True\n",
    "        # 用队列保存节点\t\n",
    "        queue = [root.left,root.right]\n",
    "        while queue:\n",
    "            # 从队列中取出两个节点，再比较这两个节点\n",
    "            left = queue.pop(0)\n",
    "            right = queue.pop(0)\n",
    "            # 如果两个节点都为空就继续循环，两者有一个为空就返回false\n",
    "            if not (left or right):\n",
    "                continue\n",
    "            if not (left and right):\n",
    "                return False\n",
    "            if left.val!=right.val:\n",
    "                return False\n",
    "            # 将左节点的左孩子， 右节点的右孩子放入队列\n",
    "            queue.append(left.left)\n",
    "            queue.append(right.right)\n",
    "            # 将左节点的右孩子，右节点的左孩子放入队列\n",
    "            queue.append(left.right)\n",
    "            queue.append(right.left)\n",
    "        return True\n"
   ]
  },
  {
   "cell_type": "markdown",
   "metadata": {
    "heading_collapsed": true
   },
   "source": [
    "## 剑指 Offer 29. 顺时针打印矩阵\n",
    "输入一个矩阵，按照从外向里以顺时针的顺序依次打印出每一个数字。\n",
    "\n",
    "\n",
    "示例 1：\n",
    "\n",
    "输入：matrix = [[1,2,3],[4,5,6],[7,8,9]]\n",
    "输出：[1,2,3,6,9,8,7,4,5]\n",
    "示例 2：\n",
    "\n",
    "输入：matrix = [[1,2,3,4],[5,6,7,8],[9,10,11,12]]\n",
    "输出：[1,2,3,4,8,12,11,10,9,5,6,7]\n"
   ]
  },
  {
   "cell_type": "markdown",
   "metadata": {
    "hidden": true
   },
   "source": [
    "### 层数模拟\n",
    "时间复杂度：$O(M\\times N)$\n",
    "\n",
    "空间复杂度：$O(1)$"
   ]
  },
  {
   "cell_type": "code",
   "execution_count": 4,
   "metadata": {
    "ExecuteTime": {
     "end_time": "2021-02-07T06:39:56.120764Z",
     "start_time": "2021-02-07T06:39:56.113228Z"
    },
    "hidden": true
   },
   "outputs": [],
   "source": [
    "class Solution(object):\n",
    "    def spiralOrder(self, matrix):\n",
    "        \"\"\"\n",
    "        :type matrix: List[List[int]]\n",
    "        :rtype: List[int]\n",
    "        \"\"\"\n",
    "        if len(matrix) == 0: return []\n",
    "        width, length = len(matrix), len(matrix[0])\n",
    "        layer = (min(width, length)+1)//2  # 🍓：+1\n",
    "        res = []\n",
    "        \n",
    "        for i in range(layer):\n",
    "            for j in range(i, length-i):\n",
    "                res.append(matrix[i][j])\n",
    "            for j in range(i+1, width-i):\n",
    "                res.append(matrix[j][length-i-1])\n",
    "            if width-i-1 != i:\n",
    "                for j in range(length-i-2, i-1, -1):  # 🍓:范围：[length-i-2,i]\n",
    "                    res.append(matrix[width-i-1][j])\n",
    "            if length-i-1 != i:\n",
    "                for j in range(width-i-2, i, -1):  # 🍓:范围：[width-i-2,i-1]\n",
    "                    res.append(matrix[j][i])\n",
    "    #                 print(ans)\n",
    "\n",
    "        return res"
   ]
  },
  {
   "cell_type": "code",
   "execution_count": 10,
   "metadata": {
    "ExecuteTime": {
     "end_time": "2021-02-08T02:44:26.524121Z",
     "start_time": "2021-02-08T02:44:26.516690Z"
    },
    "hidden": true
   },
   "outputs": [],
   "source": [
    "class Solution(object):\n",
    "    def spiralOrder(self, matrix):\n",
    "        \"\"\"\n",
    "        :type matrix: List[List[int]]\n",
    "        :rtype: List[int]\n",
    "        \"\"\"\n",
    "        if len(matrix) == 0 or len(matrix[0]) == 0: return []\n",
    "        width, length = len(matrix), len(matrix[0])\n",
    "        left, right, top, bottom = 0, length-1, 0, width-1\n",
    "        res = []\n",
    "        while left <= right and top <= bottom:\n",
    "            for i in range(left, right+1):\n",
    "                res.append(matrix[top][i])\n",
    "            for j in range(top+1, bottom+1):\n",
    "                res.append(matrix[j][right])\n",
    "            if left<right and top<bottom:\n",
    "                for i in range(right-1, left, -1):\n",
    "                    res.append(matrix[bottom][i])\n",
    "                for j in range(bottom, top, -1):\n",
    "                    res.append(matrix[j][left])\n",
    "            left, right, top, bottom = left+1, right-1, top+1, bottom-1\n",
    "        return res"
   ]
  },
  {
   "cell_type": "code",
   "execution_count": 11,
   "metadata": {
    "ExecuteTime": {
     "end_time": "2021-02-08T02:44:26.706673Z",
     "start_time": "2021-02-08T02:44:26.701256Z"
    },
    "hidden": true
   },
   "outputs": [
    {
     "data": {
      "text/plain": [
       "[1, 2, 3, 6, 9, 8, 7, 4, 5]"
      ]
     },
     "execution_count": 11,
     "metadata": {},
     "output_type": "execute_result"
    }
   ],
   "source": [
    "matrix = [[1,2,3],[4,5,6],[7,8,9]]\n",
    "a = Solution()\n",
    "a.spiralOrder(matrix)"
   ]
  },
  {
   "cell_type": "markdown",
   "metadata": {
    "heading_collapsed": true
   },
   "source": [
    "## 剑指 Offer 30. 包含min函数的栈\n",
    "定义栈的数据结构，请在该类型中实现一个能够得到栈的最小元素的 min 函数在该栈中，调用 min、push 及 pop 的时间复杂度都是 O(1)。\n",
    "\n"
   ]
  },
  {
   "cell_type": "markdown",
   "metadata": {
    "hidden": true
   },
   "source": [
    "### dp\n",
    "用两个list分别维护栈的值和最小值"
   ]
  },
  {
   "cell_type": "code",
   "execution_count": 29,
   "metadata": {
    "ExecuteTime": {
     "end_time": "2021-02-08T03:18:31.532963Z",
     "start_time": "2021-02-08T03:18:31.526307Z"
    },
    "hidden": true
   },
   "outputs": [],
   "source": [
    "class MinStack(object):\n",
    "\n",
    "    def __init__(self):\n",
    "        \"\"\"\n",
    "        initialize your data structure here.\n",
    "        \"\"\"\n",
    "        self.stack = []\n",
    "        self.minNumber = []\n",
    "\n",
    "\n",
    "    def push(self, x):\n",
    "        \"\"\"\n",
    "        :type x: int\n",
    "        :rtype: None\n",
    "        \"\"\"\n",
    "        self.stack.append(x)\n",
    "\n",
    "        if not self.minNumber:\n",
    "            self.minNumber.append(x)\n",
    "        else:\n",
    "            self.minNumber.append(min(self.minNumber[-1], x))\n",
    "\n",
    "\n",
    "    def pop(self):\n",
    "        \"\"\"\n",
    "        :rtype: None\n",
    "        \"\"\"\n",
    "        temp = self.stack[-1]\n",
    "        self.stack = self.stack[:-1]\n",
    "        self.minNumber = self.minNumber[:-1]\n",
    "        return temp\n",
    "\n",
    "\n",
    "    def top(self):\n",
    "        \"\"\"\n",
    "        :rtype: int\n",
    "        \"\"\"\n",
    "        return self.stack[-1]\n",
    "\n",
    "\n",
    "    def min(self):\n",
    "        \"\"\"\n",
    "        :rtype: int\n",
    "        \"\"\"\n",
    "        return self.minNumber[-1]\n",
    "\n"
   ]
  },
  {
   "cell_type": "code",
   "execution_count": 34,
   "metadata": {
    "ExecuteTime": {
     "end_time": "2021-02-08T03:18:58.494224Z",
     "start_time": "2021-02-08T03:18:58.488444Z"
    },
    "hidden": true
   },
   "outputs": [
    {
     "data": {
      "text/plain": [
       "1"
      ]
     },
     "execution_count": 34,
     "metadata": {},
     "output_type": "execute_result"
    }
   ],
   "source": [
    "# Your MinStack object will be instantiated and called as such:\n",
    "x = 3\n",
    "obj = MinStack()\n",
    "obj.push(x)\n",
    "obj.push(1)\n",
    "\n",
    "# obj.pop()\n",
    "param_3 = obj.top()\n",
    "param_4 = obj.min()\n",
    "param_3"
   ]
  },
  {
   "cell_type": "markdown",
   "metadata": {
    "heading_collapsed": true
   },
   "source": [
    "## 剑指 Offer 31. 栈的压入、弹出序列\n",
    "输入两个整数序列，第一个序列表示栈的压入顺序，请判断第二个序列是否为该栈的弹出顺序。假设压入栈的所有数字均不相等。例如，序列 {1,2,3,4,5} 是某栈的压栈序列，序列 {4,5,3,2,1} 是该压栈序列对应的一个弹出序列，但 {4,3,5,1,2} 就不可能是该压栈序列的弹出序列。\n",
    "\n",
    "示例1:\n",
    "\n",
    "输入：pushed = [1,2,3,4,5], popped = [4,5,3,2,1]\n",
    "输出：true\n"
   ]
  },
  {
   "cell_type": "code",
   "execution_count": 37,
   "metadata": {
    "ExecuteTime": {
     "end_time": "2021-02-09T02:53:33.807844Z",
     "start_time": "2021-02-09T02:53:33.803357Z"
    },
    "hidden": true
   },
   "outputs": [],
   "source": [
    "class Solution(object):\n",
    "    def validateStackSequences(self, pushed, popped):\n",
    "        \"\"\"\n",
    "        :type pushed: List[int]\n",
    "        :type popped: List[int]\n",
    "        :rtype: bool\n",
    "        \"\"\"\n",
    "        s = []\n",
    "        i = 0\n",
    "        for num in pushed:\n",
    "            s.append(num)\n",
    "            while s and s[-1] == popped[i]:\n",
    "                s.pop()\n",
    "                i += 1\n",
    "        return not s\n",
    "        "
   ]
  },
  {
   "cell_type": "code",
   "execution_count": 38,
   "metadata": {
    "ExecuteTime": {
     "end_time": "2021-02-09T02:53:34.092273Z",
     "start_time": "2021-02-09T02:53:34.086011Z"
    },
    "hidden": true
   },
   "outputs": [
    {
     "data": {
      "text/plain": [
       "True"
      ]
     },
     "execution_count": 38,
     "metadata": {},
     "output_type": "execute_result"
    }
   ],
   "source": [
    "pushed = [1,2,3,4,5]\n",
    "popped = [4,5,3,2,1] \n",
    "a = Solution()\n",
    "a.validateStackSequences(pushed, popped)"
   ]
  },
  {
   "cell_type": "markdown",
   "metadata": {
    "heading_collapsed": true
   },
   "source": [
    "## 剑指 Offer 32 - I. 从上到下打印二叉树\n",
    "从上到下打印出二叉树的每个节点，同一层的节点按照从左到右的顺序打印。\n",
    "\n",
    "\n",
    "例如:\n",
    "给定二叉树: [3,9,20,null,null,15,7],\n",
    "\n",
    "    3\n",
    "   / \\\n",
    "  9  20\n",
    "    /  \\\n",
    "   15   7\n",
    "返回：\n",
    "\n",
    "[3,9,20,15,7]\n",
    " \n"
   ]
  },
  {
   "cell_type": "markdown",
   "metadata": {
    "hidden": true
   },
   "source": [
    "### BFS\n",
    "使用collections的deque构建队列\n",
    "\n",
    "时间复杂度：$O(N)$ N是二叉树的深度\n",
    "\n",
    "空间复杂度：$O(1)$"
   ]
  },
  {
   "cell_type": "code",
   "execution_count": null,
   "metadata": {
    "hidden": true
   },
   "outputs": [],
   "source": [
    "class Solution:\n",
    "    def levelOrder(self, root: TreeNode) -> List[int]:\n",
    "        if not root: return []\n",
    "        res, queue = [], collections.deque()\n",
    "        queue.append(root)\n",
    "        while queue:\n",
    "            node = queue.popleft()\n",
    "            res.append(node.val)\n",
    "            if node.left: queue.append(node.left)\n",
    "            if node.right: queue.append(node.right)\n",
    "        return res"
   ]
  },
  {
   "cell_type": "code",
   "execution_count": 41,
   "metadata": {
    "ExecuteTime": {
     "end_time": "2021-02-11T04:21:38.569747Z",
     "start_time": "2021-02-11T04:21:38.563776Z"
    },
    "hidden": true
   },
   "outputs": [],
   "source": [
    "# Definition for a binary tree node.\n",
    "class TreeNode(object):\n",
    "    def __init__(self, x):\n",
    "        self.val = x\n",
    "        self.left = None\n",
    "        self.right = None\n",
    "\n",
    "class Solution(object):\n",
    "    def levelOrder(self, root):\n",
    "        \"\"\"\n",
    "        :type root: TreeNode\n",
    "        :rtype: List[int]\n",
    "        \"\"\"\n",
    "        import collections\n",
    "        queue = collections.deque()\n",
    "        queue.append(root)\n",
    "        res = []\n",
    "        while queue:\n",
    "            temp = queue.popleft()\n",
    "            res.append(temp.val)\n",
    "            if temp.left:\n",
    "                queue.append(temp.left)\n",
    "            if temp.right:\n",
    "                queue.append(temp.right)\n",
    "        return res"
   ]
  },
  {
   "cell_type": "code",
   "execution_count": 42,
   "metadata": {
    "ExecuteTime": {
     "end_time": "2021-02-11T04:21:40.058966Z",
     "start_time": "2021-02-11T04:21:40.051194Z"
    },
    "hidden": true
   },
   "outputs": [
    {
     "data": {
      "text/plain": [
       "[4, 2, 7, 1, 3, 6, 9]"
      ]
     },
     "execution_count": 42,
     "metadata": {},
     "output_type": "execute_result"
    }
   ],
   "source": [
    "t1 = TreeNode(4)\n",
    "t2 = TreeNode(2)\n",
    "t3 = TreeNode(7)\n",
    "t4 = TreeNode(1)\n",
    "t5 = TreeNode(3)\n",
    "t6 = TreeNode(6)\n",
    "t7 = TreeNode(9)\n",
    "t1.left, t1.right = t2, t3\n",
    "t2.left, t2.right = t4, t5\n",
    "t3.left, t3.right = t6, t7\n",
    "\n",
    "a = Solution()\n",
    "res = a.levelOrder(t1)\n",
    "res"
   ]
  },
  {
   "cell_type": "markdown",
   "metadata": {
    "heading_collapsed": true
   },
   "source": [
    "## 剑指 Offer 33 - I. 从上到下打印二叉树II\n",
    "\n",
    "从上到下按层打印二叉树，同一层的节点按从左到右的顺序打印，每一层打印到一行。\n",
    "\n",
    "返回其层次遍历结果：\n",
    "\n",
    "$[[3],[9,20],[15,7]]$\n",
    " \n"
   ]
  },
  {
   "cell_type": "markdown",
   "metadata": {
    "hidden": true
   },
   "source": [
    "### BFS\n",
    "使用collections的deque构建队列\n",
    "\n",
    "🍓🍓🍓：走len(queue)的步数遍历当前queue\n",
    "\n",
    "时间复杂度：$O(N)$ N是二叉树的深度\n",
    "\n",
    "空间复杂度：$O(1)$"
   ]
  },
  {
   "cell_type": "code",
   "execution_count": 43,
   "metadata": {
    "ExecuteTime": {
     "end_time": "2021-02-11T05:21:47.380886Z",
     "start_time": "2021-02-11T05:21:47.375175Z"
    },
    "hidden": true
   },
   "outputs": [],
   "source": [
    "# Definition for a binary tree node.\n",
    "class TreeNode(object):\n",
    "    def __init__(self, x):\n",
    "        self.val = x\n",
    "        self.left = None\n",
    "        self.right = None\n",
    "\n",
    "class Solution(object):\n",
    "    def levelOrder(self, root):\n",
    "        \"\"\"\n",
    "        :type root: TreeNode\n",
    "        :rtype: List[int]\n",
    "        \"\"\"\n",
    "        if not root: return []\n",
    "        import collections\n",
    "        queue = collections.deque()\n",
    "        queue.append(root)\n",
    "        res = []\n",
    "        while queue:\n",
    "            layer = []\n",
    "            for _ in range(len(queue)):  # 🍓\n",
    "                temp = queue.popleft()\n",
    "                layer.append(temp.val)\n",
    "                if temp.left:\n",
    "                    queue.append(temp.left)\n",
    "                if temp.right:\n",
    "                    queue.append(temp.right)\n",
    "            res.append(layer)\n",
    "        return res"
   ]
  },
  {
   "cell_type": "code",
   "execution_count": 44,
   "metadata": {
    "ExecuteTime": {
     "end_time": "2021-02-11T05:21:47.575656Z",
     "start_time": "2021-02-11T05:21:47.570677Z"
    },
    "hidden": true
   },
   "outputs": [
    {
     "data": {
      "text/plain": [
       "[[4], [2, 7], [1, 3, 6, 9]]"
      ]
     },
     "execution_count": 44,
     "metadata": {},
     "output_type": "execute_result"
    }
   ],
   "source": [
    "t1 = TreeNode(4)\n",
    "t2 = TreeNode(2)\n",
    "t3 = TreeNode(7)\n",
    "t4 = TreeNode(1)\n",
    "t5 = TreeNode(3)\n",
    "t6 = TreeNode(6)\n",
    "t7 = TreeNode(9)\n",
    "t1.left, t1.right = t2, t3\n",
    "t2.left, t2.right = t4, t5\n",
    "t3.left, t3.right = t6, t7\n",
    "\n",
    "a = Solution()\n",
    "res = a.levelOrder(t1)\n",
    "res"
   ]
  },
  {
   "cell_type": "markdown",
   "metadata": {
    "heading_collapsed": true
   },
   "source": [
    "## 剑指 Offer 34 - I. 从上到下打印二叉树III\n",
    "\n",
    "从上到下按层打印二叉树，同一层的节点按从左到右的顺序打印，每一层打印到一行。\n",
    "\n",
    "返回其层次遍历结果：\n",
    "\n",
    "$[[3],[20,9],[7,15]]$\n",
    " \n"
   ]
  },
  {
   "cell_type": "markdown",
   "metadata": {
    "hidden": true
   },
   "source": [
    "### BFS\n",
    "使用collections的deque构建队列\n",
    "\n",
    "🍓🍓🍓：走len(queue)的步数遍历当前queue\n",
    "\n",
    "时间复杂度：$O(N)$ N是二叉树的深度\n",
    "\n",
    "空间复杂度：$O(1)$"
   ]
  },
  {
   "cell_type": "code",
   "execution_count": 47,
   "metadata": {
    "ExecuteTime": {
     "end_time": "2021-02-12T13:15:48.109341Z",
     "start_time": "2021-02-12T13:15:48.102156Z"
    },
    "hidden": true
   },
   "outputs": [],
   "source": [
    "# Definition for a binary tree node.\n",
    "class TreeNode(object):\n",
    "    def __init__(self, x):\n",
    "        self.val = x\n",
    "        self.left = None\n",
    "        self.right = None\n",
    "\n",
    "class Solution(object):\n",
    "    def levelOrder(self, root):\n",
    "        \"\"\"\n",
    "        :type root: TreeNode\n",
    "        :rtype: List[int]\n",
    "        \"\"\"\n",
    "        if not root: return []\n",
    "        import collections\n",
    "        queue = collections.deque()\n",
    "        queue.append(root)\n",
    "        res = []\n",
    "        reverse = bool(False)\n",
    "        while queue:\n",
    "            layer = []\n",
    "            for _ in range(len(queue)):  # 🍓\n",
    "                temp = queue.popleft()\n",
    "                layer.append(temp.val)\n",
    "                if temp.left:\n",
    "                    queue.append(temp.left) \n",
    "                if temp.right:\n",
    "                    queue.append(temp.right)\n",
    "            res.append(layer) if reverse else res.append(layer[::-1])\n",
    "            reverse = not reverse\n",
    "        return res"
   ]
  },
  {
   "cell_type": "code",
   "execution_count": 48,
   "metadata": {
    "ExecuteTime": {
     "end_time": "2021-02-12T13:15:48.465322Z",
     "start_time": "2021-02-12T13:15:48.460594Z"
    },
    "hidden": true
   },
   "outputs": [
    {
     "data": {
      "text/plain": [
       "[[4], [2, 7], [9, 6, 3, 1]]"
      ]
     },
     "execution_count": 48,
     "metadata": {},
     "output_type": "execute_result"
    }
   ],
   "source": [
    "t1 = TreeNode(4)\n",
    "t2 = TreeNode(2)\n",
    "t3 = TreeNode(7)\n",
    "t4 = TreeNode(1)\n",
    "t5 = TreeNode(3)\n",
    "t6 = TreeNode(6)\n",
    "t7 = TreeNode(9)\n",
    "t1.left, t1.right = t2, t3\n",
    "t2.left, t2.right = t4, t5\n",
    "t3.left, t3.right = t6, t7\n",
    "\n",
    "a = Solution()\n",
    "res = a.levelOrder(t1)\n",
    "res"
   ]
  },
  {
   "cell_type": "markdown",
   "metadata": {
    "heading_collapsed": true
   },
   "source": [
    "## 剑指 Offer 33. 二叉搜索树的后序遍历序列\n",
    "输入一个整数数组，判断该数组是不是某二叉搜索树的后序遍历结果。如果是则返回 true，否则返回 false。假设输入的数组的任意两个数字都互不相同。"
   ]
  },
  {
   "cell_type": "markdown",
   "metadata": {
    "hidden": true
   },
   "source": [
    "判断一个二叉树是否为二叉搜索树\n",
    "\n",
    "🍓🍓🍓：递归的终止条件与return的使用（慎用）"
   ]
  },
  {
   "cell_type": "code",
   "execution_count": 81,
   "metadata": {
    "ExecuteTime": {
     "end_time": "2021-02-13T03:58:53.478253Z",
     "start_time": "2021-02-13T03:58:53.471678Z"
    },
    "hidden": true
   },
   "outputs": [],
   "source": [
    "class Solution:\n",
    "    def isBinarySearchTree(self, root):\n",
    "        \"\"\"\n",
    "        :type root: TreeNode\n",
    "        :rtype: bool\n",
    "        \"\"\"\n",
    "#         print(root.left.val, root.right.val)\n",
    "        # 终止条件\n",
    "        if not root.left.left and not root.left.right and not root.right.left and not root.right.right:  # 左右子节点为根结点\n",
    "            if root.left.val < root.val < root.right.val:\n",
    "                return True\n",
    "            else:\n",
    "                return False\n",
    "\n",
    "        return self.isBinarySearchTree(root.left) and self.isBinarySearchTree(root.right)"
   ]
  },
  {
   "cell_type": "code",
   "execution_count": 84,
   "metadata": {
    "ExecuteTime": {
     "end_time": "2021-02-13T03:59:13.132877Z",
     "start_time": "2021-02-13T03:59:13.126449Z"
    },
    "hidden": true
   },
   "outputs": [
    {
     "name": "stdout",
     "output_type": "stream",
     "text": [
      "True\n"
     ]
    }
   ],
   "source": [
    "# Definition for a binary tree node.\n",
    "class TreeNode(object):\n",
    "    def __init__(self, x):\n",
    "        self.val = x\n",
    "        self.left = None\n",
    "        self.right = None\n",
    "        \n",
    "t1 = TreeNode(3)\n",
    "t2 = TreeNode(2)\n",
    "t3 = TreeNode(7)\n",
    "t4 = TreeNode(1)\n",
    "t5 = TreeNode(3)\n",
    "t6 = TreeNode(6)\n",
    "t7 = TreeNode(9)\n",
    "t1.left, t1.right = t2, t3\n",
    "t2.left, t2.right = t4, t5\n",
    "t3.left, t3.right = t6, t7\n",
    "# t3.right = TreeNode(100)  # 对不平衡二叉树判断不准确\n",
    "\n",
    "a = Solution()\n",
    "res = a.isBinarySearchTree(t1)\n",
    "print(res)"
   ]
  },
  {
   "cell_type": "markdown",
   "metadata": {
    "hidden": true
   },
   "source": [
    "### 递归"
   ]
  },
  {
   "cell_type": "code",
   "execution_count": null,
   "metadata": {
    "hidden": true
   },
   "outputs": [],
   "source": [
    "class Solution:\n",
    "    def verifyPostorder(self, postorder):\n",
    "        def recur(i, j):\n",
    "            if i >= j: return True\n",
    "            p = i\n",
    "            while postorder[p] < postorder[j]: p += 1\n",
    "            m = p\n",
    "            while postorder[p] > postorder[j]: p += 1\n",
    "            return p == j and recur(i, m - 1) and recur(m, j - 1)\n",
    "\n",
    "        return recur(0, len(postorder) - 1)\n"
   ]
  },
  {
   "cell_type": "code",
   "execution_count": 87,
   "metadata": {
    "ExecuteTime": {
     "end_time": "2021-02-13T04:21:48.088749Z",
     "start_time": "2021-02-13T04:21:48.082938Z"
    },
    "hidden": true
   },
   "outputs": [],
   "source": [
    "class Solution:\n",
    "    def verifyPostorder(self, postorder):\n",
    "        \n",
    "        def recur(left, right):\n",
    "            # 终止条件\n",
    "            if left >= right: \n",
    "                return True\n",
    "            p = left\n",
    "            while postorder[p] < postorder[right]:  # 找到左右子孩子的分界\n",
    "                p += 1\n",
    "            mid = p\n",
    "            while postorder[p] > postorder[right]:  # 遍历判断右孩子的值是否全部大于根结点\n",
    "                p += 1\n",
    "            return p==right and recur(left, mid-1) and recur(mid, right-1)\n",
    "        if len(postorder) <= 1:\n",
    "            return True\n",
    "        else:\n",
    "            return recur(0, len(postorder)-1)"
   ]
  },
  {
   "cell_type": "code",
   "execution_count": 88,
   "metadata": {
    "ExecuteTime": {
     "end_time": "2021-02-13T04:21:48.326427Z",
     "start_time": "2021-02-13T04:21:48.323140Z"
    },
    "hidden": true
   },
   "outputs": [
    {
     "data": {
      "text/plain": [
       "True"
      ]
     },
     "execution_count": 88,
     "metadata": {},
     "output_type": "execute_result"
    }
   ],
   "source": [
    "postorder = [1,3,2,6,5]\n",
    "a = Solution()\n",
    "a.verifyPostorder(postorder)"
   ]
  },
  {
   "cell_type": "markdown",
   "metadata": {
    "heading_collapsed": true
   },
   "source": [
    "## 剑指 Offer 34. 二叉树中和为某一值的路径\n",
    "输入一棵二叉树和一个整数，打印出二叉树中节点值的和为输入整数的所有路径。从树的根节点开始往下一直到叶节点所经过的节点形成一条路径。\n",
    "\n",
    " \n",
    "\n",
    "示例:\n",
    "给定如下二叉树，以及目标和 sum = 22，\n",
    "\n",
    "返回:\n",
    "\n",
    "[\n",
    "   [5,4,11,2],\n",
    "   [5,8,4,5]\n",
    "]\n"
   ]
  },
  {
   "cell_type": "markdown",
   "metadata": {
    "hidden": true
   },
   "source": [
    "### 递归\n",
    "1. 终止条件：走到叶子节点\n",
    "2. 递归主体：遍历左右孩子\n",
    "3. 使用cur.append()添加当前节点的值，一次递归结束后使用pop()退出\n",
    "\n",
    "🍓🍓🍓：res.append()的时候使用list(cur)，不然之后cur的修改会改变res中对应的值\n",
    "\n",
    "时间复杂度：$O(N)$ N是二叉树的深度\n",
    "\n",
    "空间复杂度：$O(N)$"
   ]
  },
  {
   "cell_type": "code",
   "execution_count": 129,
   "metadata": {
    "ExecuteTime": {
     "end_time": "2021-02-15T12:08:51.639027Z",
     "start_time": "2021-02-15T12:08:51.633510Z"
    },
    "hidden": true
   },
   "outputs": [],
   "source": [
    "class Solution:\n",
    "    def pathSum(self, root, s):\n",
    "        cur, res = [], []\n",
    "        def recur(root, target):\n",
    "            if not root: return\n",
    "            cur.append(root.val)\n",
    "            target -= root.val\n",
    "            if target == 0 and not root.left and not root.right:\n",
    "                res.append(cur)\n",
    "            print(cur, res)\n",
    "            recur(root.left, target)\n",
    "            recur(root.right, target)\n",
    "            cur.pop()\n",
    "            print(cur, res)\n",
    "            \n",
    "        recur(root, s)\n",
    "        return res"
   ]
  },
  {
   "cell_type": "code",
   "execution_count": 130,
   "metadata": {
    "ExecuteTime": {
     "end_time": "2021-02-15T12:08:52.016000Z",
     "start_time": "2021-02-15T12:08:52.006218Z"
    },
    "hidden": true
   },
   "outputs": [
    {
     "name": "stdout",
     "output_type": "stream",
     "text": [
      "[5] []\n",
      "[5, 4] []\n",
      "[5, 4, 11] []\n",
      "[5, 4, 11, 11] [[5, 4, 11, 11]]\n",
      "[5, 4, 11] [[5, 4, 11]]\n",
      "[5, 4, 11, 2] [[5, 4, 11, 2]]\n",
      "[5, 4, 11] [[5, 4, 11]]\n",
      "[5, 4] [[5, 4]]\n",
      "[5] [[5]]\n",
      "[5, 8] [[5, 8]]\n",
      "[5, 8, 13] [[5, 8, 13]]\n",
      "[5, 8, 13, 5] [[5, 8, 13, 5], [5, 8, 13, 5]]\n",
      "[5, 8, 13] [[5, 8, 13], [5, 8, 13]]\n",
      "[5, 8] [[5, 8], [5, 8]]\n",
      "[5, 8, 4] [[5, 8, 4], [5, 8, 4]]\n",
      "[5, 8, 4, 1] [[5, 8, 4, 1], [5, 8, 4, 1]]\n",
      "[5, 8, 4] [[5, 8, 4], [5, 8, 4]]\n",
      "[5, 8] [[5, 8], [5, 8]]\n",
      "[5] [[5], [5]]\n",
      "[] [[], []]\n",
      "[[], []]\n"
     ]
    }
   ],
   "source": [
    "# Definition for a binary tree node.\n",
    "class TreeNode(object):\n",
    "    def __init__(self, x):\n",
    "        self.val = x\n",
    "        self.left = None\n",
    "        self.right = None\n",
    "        \n",
    "t1 = TreeNode(5)\n",
    "t2 = TreeNode(4)\n",
    "t3 = TreeNode(8)\n",
    "t4 = TreeNode(11)\n",
    "t5 = TreeNode(13)\n",
    "t6 = TreeNode(4)\n",
    "t7 = TreeNode(11)\n",
    "t8 = TreeNode(2)\n",
    "t9 = TreeNode(5)\n",
    "t10 = TreeNode(1)\n",
    "\n",
    "t1.left, t1.right = t2, t3\n",
    "t2.left = t4\n",
    "t3.left, t3.right = t5, t6\n",
    "t4.left, t4.right = t7, t8\n",
    "t5.left = t9\n",
    "t6.left = t10\n",
    "\n",
    "a = Solution()\n",
    "res = a.pathSum(t1, 31)\n",
    "print(res)"
   ]
  },
  {
   "cell_type": "markdown",
   "metadata": {
    "heading_collapsed": true
   },
   "source": [
    "## 剑指 Offer 35. 复杂链表的复制\n",
    "请实现 copyRandomList 函数，复制一个复杂链表。在复杂链表中，每个节点除了有一个 next 指针指向下一个节点，还有一个 random 指针指向链表中的任意节点或者 null。\n",
    "\n",
    "输入：head = [[7,null],[13,0],[11,4],[10,2],[1,0]]\n",
    "\n",
    "输出：[[7,null],[13,0],[11,4],[10,2],[1,0]]\n"
   ]
  },
  {
   "cell_type": "markdown",
   "metadata": {
    "hidden": true
   },
   "source": [
    "### hash\n",
    "🍓：深拷贝和浅拷贝的区别\n",
    "\n",
    "由于使用next和random指针会遍历到重复的Node， 所以使用hash存储已经走过的Node\n",
    "\n",
    "时间复杂度:$O(N)$\n",
    "\n",
    "空间复杂度:$O(N)$"
   ]
  },
  {
   "cell_type": "code",
   "execution_count": 136,
   "metadata": {
    "ExecuteTime": {
     "end_time": "2021-02-16T03:20:17.441888Z",
     "start_time": "2021-02-16T03:20:17.434763Z"
    },
    "hidden": true
   },
   "outputs": [],
   "source": [
    "\n",
    "# Definition for a Node.\n",
    "class Node:\n",
    "    def __init__(self, x, next=None, random=None):\n",
    "        self.val = int(x)\n",
    "        self.next = next\n",
    "        self.random = random\n",
    "\n",
    "class Solution(object):\n",
    "    def copyRandomList(self, head):\n",
    "        \"\"\"\n",
    "        :type head: Node\n",
    "        :rtype: Node\n",
    "        \"\"\"\n",
    "        visited = {}\n",
    "        def cloneNode(node):\n",
    "            if not node:\n",
    "                return None\n",
    "            elif node in visited:\n",
    "                return visited[node]\n",
    "            else:\n",
    "                visited[node] = Node(node.val, None, None)\n",
    "                return visited[node]\n",
    "        \n",
    "        if not head: return head\n",
    "        p = head\n",
    "        new = Node(p.val, None, None)\n",
    "        visited[p] = new\n",
    "        while p:\n",
    "            new.next = cloneNode(p.next)\n",
    "            new.random = cloneNode(p.random)\n",
    "            new = new.next\n",
    "            p = p.next\n",
    "            \n",
    "        return visited[head]"
   ]
  },
  {
   "cell_type": "code",
   "execution_count": 139,
   "metadata": {
    "ExecuteTime": {
     "end_time": "2021-02-16T03:20:30.517197Z",
     "start_time": "2021-02-16T03:20:30.510704Z"
    },
    "hidden": true
   },
   "outputs": [
    {
     "data": {
      "text/plain": [
       "7"
      ]
     },
     "execution_count": 139,
     "metadata": {},
     "output_type": "execute_result"
    }
   ],
   "source": [
    "l1 = Node(7)\n",
    "l2 = Node(13)\n",
    "l3 = Node(11)\n",
    "l4 = Node(10)\n",
    "l5 = Node(1)\n",
    "\n",
    "l1.next = l2\n",
    "l2.next = l3\n",
    "l3.next = l4\n",
    "l4.next = l5\n",
    "l5.next = None\n",
    "\n",
    "l1.random = None\n",
    "l2.random = l1\n",
    "l3.random = l5\n",
    "l4.random = l3\n",
    "l5.random = l1\n",
    "\n",
    "a = Solution()\n",
    "res = a.copyRandomList(l1)\n",
    "res.next.random.val"
   ]
  },
  {
   "cell_type": "markdown",
   "metadata": {
    "hidden": true
   },
   "source": [
    "### 遍历\n",
    "遍历后删减"
   ]
  },
  {
   "cell_type": "code",
   "execution_count": null,
   "metadata": {
    "hidden": true
   },
   "outputs": [],
   "source": [
    "class Solution:\n",
    "    def copyRandomList(self, head: 'Node') -> 'Node':\n",
    "        if not head: return head\n",
    "        cur = head\n",
    "        while cur:\n",
    "            new_node = Node(cur.val,None,None)   # 克隆新结点\n",
    "            new_node.next = cur.next\n",
    "            cur.next = new_node   # 克隆新结点在cur 后面\n",
    "            cur = new_node.next   # 移动到下一个要克隆的点\n",
    "        cur = head\n",
    "\n",
    "        while cur:  # 链接random\n",
    "            cur.next.random = cur.random.next if cur.random else None\n",
    "            cur = cur.next.next\n",
    "\n",
    "        cur_old_list = head # 将两个链表分开\n",
    "        cur_new_list = head.next\n",
    "        new_head = head.next\n",
    "        while cur_old_list:\n",
    "            cur_old_list.next = cur_old_list.next.next\n",
    "            cur_new_list.next = cur_new_list.next.next if cur_new_list.next else None\n",
    "            cur_old_list = cur_old_list.next\n",
    "            cur_new_list = cur_new_list.next\n",
    "        return new_head\n"
   ]
  },
  {
   "cell_type": "markdown",
   "metadata": {
    "heading_collapsed": true
   },
   "source": [
    "## 剑指 Offer 36. 二叉搜索树与双向链表\n",
    "输入一棵二叉搜索树，将该二叉搜索树转换成一个排序的循环双向链表。要求不能创建任何新的节点，只能调整树中节点指针的指向。\n"
   ]
  },
  {
   "cell_type": "markdown",
   "metadata": {
    "hidden": true
   },
   "source": [
    "### 递归\n",
    "中序遍历，创建循环链表"
   ]
  },
  {
   "cell_type": "code",
   "execution_count": null,
   "metadata": {
    "hidden": true
   },
   "outputs": [],
   "source": [
    "class Solution:\n",
    "    def treeToDoublyList(self, root: 'Node') -> 'Node':\n",
    "        def dfs(cur):\n",
    "            if not cur: return\n",
    "            dfs(cur.left) # 递归左子树\n",
    "            if self.pre: # 修改节点引用\n",
    "                self.pre.right, cur.left = cur, self.pre\n",
    "            else: # 记录头节点\n",
    "                self.head = cur\n",
    "            self.pre = cur # 保存 cur\n",
    "            dfs(cur.right) # 递归右子树\n",
    "        \n",
    "        if not root: return\n",
    "        self.pre = None\n",
    "        dfs(root)\n",
    "        self.head.left, self.pre.right = self.pre, self.head\n",
    "        return self.head"
   ]
  },
  {
   "cell_type": "markdown",
   "metadata": {},
   "source": [
    "## 剑指 Offer 39. 数组中出现次数超过一半的数字\n"
   ]
  },
  {
   "cell_type": "markdown",
   "metadata": {},
   "source": [
    "### hash\n",
    "时间复杂度:$O(NlogN)$\n",
    "\n",
    "空间复杂度:$O(N)$"
   ]
  },
  {
   "cell_type": "code",
   "execution_count": 143,
   "metadata": {
    "ExecuteTime": {
     "end_time": "2021-02-17T15:10:07.665395Z",
     "start_time": "2021-02-17T15:10:07.661381Z"
    }
   },
   "outputs": [],
   "source": [
    "class Solution(object):\n",
    "    def majorityElement(self, nums):\n",
    "        \"\"\"\n",
    "        :type nums: List[int]\n",
    "        :rtype: int\n",
    "        \"\"\"\n",
    "        dicta = {}\n",
    "        n = len(nums)\n",
    "        if n == 1:\n",
    "            return nums[0]\n",
    "        for i in nums:\n",
    "            if i not in dicta:\n",
    "                dicta[i] = 1\n",
    "            else:\n",
    "                dicta[i] += 1\n",
    "                if dicta[i] >= n//2+1:\n",
    "                    return i"
   ]
  },
  {
   "cell_type": "code",
   "execution_count": 144,
   "metadata": {
    "ExecuteTime": {
     "end_time": "2021-02-17T15:10:08.151074Z",
     "start_time": "2021-02-17T15:10:08.147537Z"
    }
   },
   "outputs": [
    {
     "data": {
      "text/plain": [
       "2"
      ]
     },
     "execution_count": 144,
     "metadata": {},
     "output_type": "execute_result"
    }
   ],
   "source": [
    "nums = [2,2,1,1,1,2,2]\n",
    "a = Solution()\n",
    "a.majorityElement(nums)"
   ]
  },
  {
   "cell_type": "markdown",
   "metadata": {},
   "source": [
    "### 摩尔投票法\n",
    "时间复杂度:$O(N)$\n",
    "\n",
    "空间复杂度:$O(1)$"
   ]
  },
  {
   "cell_type": "code",
   "execution_count": null,
   "metadata": {},
   "outputs": [],
   "source": [
    "class Solution:\n",
    "    def majorityElement(self, nums: List[int]) -> int:\n",
    "        votes = 0\n",
    "        for num in nums:\n",
    "            if votes == 0: x = num\n",
    "            votes += 1 if num == x else -1\n",
    "        return x\n"
   ]
  },
  {
   "cell_type": "markdown",
   "metadata": {},
   "source": [
    "### 排序数组"
   ]
  },
  {
   "cell_type": "code",
   "execution_count": 145,
   "metadata": {
    "ExecuteTime": {
     "end_time": "2021-02-19T14:05:47.497527Z",
     "start_time": "2021-02-19T14:05:47.490556Z"
    }
   },
   "outputs": [],
   "source": [
    "class Solution(object):\n",
    "    def majorityElement(self, nums):\n",
    "        nums.sort()\n",
    "        return nums[len(nums)//2+1]"
   ]
  },
  {
   "cell_type": "code",
   "execution_count": 147,
   "metadata": {
    "ExecuteTime": {
     "end_time": "2021-02-19T14:06:20.827634Z",
     "start_time": "2021-02-19T14:06:20.822649Z"
    }
   },
   "outputs": [
    {
     "data": {
      "text/plain": [
       "1"
      ]
     },
     "execution_count": 147,
     "metadata": {},
     "output_type": "execute_result"
    }
   ],
   "source": [
    "nums = [1, 2, 3, 1, 1, 1, 1, ]\n",
    "a = Solution()\n",
    "a.majorityElement(nums)"
   ]
  },
  {
   "cell_type": "code",
   "execution_count": null,
   "metadata": {},
   "outputs": [],
   "source": [
    "def partition(arr, left, right):\n",
    "    pivot = arr[left]\n",
    "    while left < right:\n",
    "        # 先右再左？？？\n",
    "        while left < right and arr[right] >= pivot:  # 从右到左找第一个比pivot小的数，并赋值到左侧\n",
    "            right -= 1\n",
    "        arr[left] = arr[right]\n",
    "        while left < right and arr[left] <= pivot:   # 从左到右找第一个比pivot大的数，并赋值到右侧\n",
    "            left += 1\n",
    "        arr[right] = arr[left]\n",
    "        \n",
    "    arr[left] = pivot\n",
    "#     print(arr)\n",
    "    return left\n",
    "\n",
    "def quicksort(arr, left, right):\n",
    "    if left < right:\n",
    "        pivot = partition2(arr, left, right)\n",
    "        quicksort(arr, left, pivot-1)\n",
    "        quicksort(arr, pivot+1, right)\n",
    "    return arr\n",
    "\n",
    "example = [1,3,4,5,2,6,9,7,8,0]\n",
    " \n",
    "a = 0\n",
    "b = len(example)-1\n",
    "res = quicksort(example,a,b)\n",
    "print(res)"
   ]
  },
  {
   "cell_type": "markdown",
   "metadata": {},
   "source": [
    "## 剑指 Offer 40. 最小的k个数\n",
    "输入整数数组 arr ，找出其中最小的 k 个数。例如，输入4、5、1、6、2、7、3、8这8个数字，则最小的4个数字是1、2、3、4。\n",
    "\n",
    "示例 1：\n",
    "\n",
    "输入：arr = [3,2,1], k = 2\n",
    "输出：[1,2] 或者 [2,1]\n",
    "\n",
    "示例 2：\n",
    "\n",
    "输入：arr = [0,1,2,1], k = 1\n",
    "输出：[0]"
   ]
  },
  {
   "cell_type": "markdown",
   "metadata": {},
   "source": [
    "### sort()\n",
    "作弊方法"
   ]
  },
  {
   "cell_type": "code",
   "execution_count": 1,
   "metadata": {
    "ExecuteTime": {
     "end_time": "2021-02-21T14:17:25.671405Z",
     "start_time": "2021-02-21T14:17:25.667869Z"
    }
   },
   "outputs": [],
   "source": [
    "class Solution(object):\n",
    "    def getLeastNumbers(self, arr, k):\n",
    "        \"\"\"\n",
    "        :type arr: List[int]\n",
    "        :type k: int\n",
    "        :rtype: List[int]\n",
    "        \"\"\"\n",
    "        arr.sort()\n",
    "        return arr[:k]"
   ]
  },
  {
   "cell_type": "code",
   "execution_count": 2,
   "metadata": {
    "ExecuteTime": {
     "end_time": "2021-02-21T14:17:49.440546Z",
     "start_time": "2021-02-21T14:17:49.429444Z"
    }
   },
   "outputs": [
    {
     "data": {
      "text/plain": [
       "[1, 2]"
      ]
     },
     "execution_count": 2,
     "metadata": {},
     "output_type": "execute_result"
    }
   ],
   "source": [
    "arr = [3,2,1]\n",
    "k = 2\n",
    "a = Solution()\n",
    "a.getLeastNumbers(arr, k)"
   ]
  },
  {
   "cell_type": "markdown",
   "metadata": {},
   "source": [
    "### 快排\n",
    "时间复杂度：$O(NlogN)$\n",
    "\n",
    "空间复杂度：$O(NlogN)$ ？？？"
   ]
  },
  {
   "cell_type": "code",
   "execution_count": 12,
   "metadata": {
    "ExecuteTime": {
     "end_time": "2021-02-21T14:44:25.376546Z",
     "start_time": "2021-02-21T14:44:25.369020Z"
    }
   },
   "outputs": [],
   "source": [
    "class Solution(object):\n",
    "    def getLeastNumbers(self, arr, k):\n",
    "        \"\"\"\n",
    "        :type arr: List[int]\n",
    "        :type k: int\n",
    "        :rtype: List[int]\n",
    "        \"\"\"\n",
    "        def partition(arr, left, right):\n",
    "            pivot = arr[left]\n",
    "            while left < right:\n",
    "                while left < right and pivot <= arr[right]:\n",
    "                    right -= 1\n",
    "                arr[left] = arr[right]\n",
    "                while left < right and pivot >= arr[left]:\n",
    "                    left += 1\n",
    "                arr[right] = arr[left]\n",
    "            arr[left] = pivot\n",
    "            return left\n",
    "        \n",
    "        def quickSort(arr, left, right):      \n",
    "            pivot_idx = left\n",
    "            if left < right and pivot_idx < k:\n",
    "                pivot_idx = partition(arr, left, right)\n",
    "                quickSort(arr, left, pivot_idx-1)\n",
    "                quickSort(arr, pivot_idx+1, right)\n",
    "            return arr[:k]\n",
    "        \n",
    "        left, right = 0, len(arr)-1\n",
    "        pivot_idx = 0\n",
    "        return quickSort(arr, left, right)"
   ]
  },
  {
   "cell_type": "code",
   "execution_count": 15,
   "metadata": {
    "ExecuteTime": {
     "end_time": "2021-02-21T14:44:57.615642Z",
     "start_time": "2021-02-21T14:44:57.610475Z"
    }
   },
   "outputs": [
    {
     "data": {
      "text/plain": [
       "[1, 1]"
      ]
     },
     "execution_count": 15,
     "metadata": {},
     "output_type": "execute_result"
    }
   ],
   "source": [
    "arr = [3, 2, 1, 4, 1, 5, 6]\n",
    "k = 2\n",
    "a = Solution()\n",
    "a.getLeastNumbers(arr, k)"
   ]
  },
  {
   "cell_type": "markdown",
   "metadata": {},
   "source": [
    "## 剑指 Offer 42. 连续子数组的最大和\n",
    "输入一个整型数组，数组中的一个或连续多个整数组成一个子数组。求所有子数组的和的最大值。要求时间复杂度为O(n)。\n",
    "\n",
    "示例1:\n",
    "\n",
    "输入: nums = [-2,1,-3,4,-1,2,1,-5,4]\n",
    "输出: 6\n",
    "解释: 连续子数组 [4,-1,2,1] 的和最大，为 6。"
   ]
  },
  {
   "cell_type": "markdown",
   "metadata": {
    "ExecuteTime": {
     "end_time": "2021-02-22T14:07:57.478565Z",
     "start_time": "2021-02-22T14:07:57.473013Z"
    }
   },
   "source": [
    "### dp\n",
    "状态：$dp[i]$表示到第i时，子序和最大的状态\n",
    "最优子解：$dp[i] = g(dp[i-1], nums[i])$\n",
    "转移方程：$dp[i] = max(nums[i], dp[i-1]+nums[i])$\n",
    "\n",
    "时间复杂度：$O(N)$\n",
    "空间复杂度：$O(N)$"
   ]
  },
  {
   "cell_type": "code",
   "execution_count": 20,
   "metadata": {
    "ExecuteTime": {
     "end_time": "2021-02-22T14:12:47.363429Z",
     "start_time": "2021-02-22T14:12:47.358361Z"
    }
   },
   "outputs": [],
   "source": [
    "class Solution(object):\n",
    "    def maxSubArray(self, nums):\n",
    "        \"\"\"\n",
    "        :type nums: List[int]\n",
    "        :rtype: int\n",
    "        \"\"\"\n",
    "        n = len(nums)\n",
    "        if n == 0 : return None\n",
    "        dp = [0 for _ in range(n)]\n",
    "        dp[0] = nums[0]\n",
    "        for i in range(1, n):\n",
    "            dp[i] = max(nums[i], dp[i-1]+nums[i])\n",
    "        return max(dp)\n",
    "        "
   ]
  },
  {
   "cell_type": "markdown",
   "metadata": {},
   "source": [
    "空间复杂度：$O(1)$的方法"
   ]
  },
  {
   "cell_type": "code",
   "execution_count": 24,
   "metadata": {
    "ExecuteTime": {
     "end_time": "2021-02-22T14:14:14.766165Z",
     "start_time": "2021-02-22T14:14:14.761435Z"
    }
   },
   "outputs": [],
   "source": [
    "class Solution(object):\n",
    "    def maxSubArray(self, nums):\n",
    "        \"\"\"\n",
    "        :type nums: List[int]\n",
    "        :rtype: int\n",
    "        \"\"\"\n",
    "        n = len(nums)\n",
    "        if n == 0 : return None\n",
    "        dp = nums[0]\n",
    "        maxSum = dp\n",
    "        for i in range(1, n):\n",
    "            dp = max(nums[i], dp+nums[i])\n",
    "            maxSum = max(maxSum, dp)\n",
    "        return maxSum\n",
    "        \n"
   ]
  },
  {
   "cell_type": "code",
   "execution_count": 25,
   "metadata": {
    "ExecuteTime": {
     "end_time": "2021-02-22T14:14:14.998980Z",
     "start_time": "2021-02-22T14:14:14.995168Z"
    }
   },
   "outputs": [
    {
     "data": {
      "text/plain": [
       "6"
      ]
     },
     "execution_count": 25,
     "metadata": {},
     "output_type": "execute_result"
    }
   ],
   "source": [
    "nums = [-2,1,-3,4,-1,2,1,-5,4]\n",
    "a = Solution()\n",
    "a.maxSubArray(nums)"
   ]
  },
  {
   "cell_type": "markdown",
   "metadata": {},
   "source": [
    "## 剑指 Offer 44. 数字序列中某一位的数字\n",
    "数字以0123456789101112131415…的格式序列化到一个字符序列中。在这个序列中，第5位（从下标0开始计数）是5，第13位是1，第19位是4，等等。\n",
    "\n",
    "请写一个函数，求任意第n位对应的数字。\n",
    "\n",
    " \n",
    "\n",
    "示例 1：\n",
    "\n",
    "输入：n = 3\n",
    "输出：3\n",
    "示例 2：\n",
    "\n",
    "输入：n = 11\n",
    "输出：0\n"
   ]
  },
  {
   "cell_type": "code",
   "execution_count": null,
   "metadata": {},
   "outputs": [],
   "source": [
    "class Solution:\n",
    "    def findNthDigit(self, n: int) -> int:\n",
    "        digit, start, count = 1, 1, 9\n",
    "        while n > count: # 1.\n",
    "            n -= count\n",
    "            start *= 10\n",
    "            digit += 1\n",
    "            count = 9 * start * digit\n",
    "        num = start + (n - 1) // digit # 2.\n",
    "        return int(str(num)[(n - 1) % digit]) # 3.\n"
   ]
  },
  {
   "cell_type": "code",
   "execution_count": 219,
   "metadata": {
    "ExecuteTime": {
     "end_time": "2021-03-02T12:49:28.908039Z",
     "start_time": "2021-03-02T12:49:28.900432Z"
    }
   },
   "outputs": [],
   "source": [
    "class Solution(object):\n",
    "    def minNumber(self, nums):\n",
    "        \"\"\"\n",
    "        :type nums: List[int]\n",
    "        :rtype: str\n",
    "        \"\"\"\n",
    "        def partition(nums, left, right):\n",
    "            pivot = nums[right]\n",
    "            p = left\n",
    "            for i in range(left, right):\n",
    "                print(nums[p]+nums[i],nums[i]+nums[p], i, p)\n",
    "                if nums[p]+nums[i] > nums[i]+nums[p]:\n",
    "                    nums[p], nums[i] = nums[i], nums[p]\n",
    "                    p += 1\n",
    "            nums[p], nums[right] = nums[right], nums[p]\n",
    "            return p\n",
    "        def quicksort(nums, left, right):\n",
    "            if left < right:\n",
    "                pivot_idx = partition(nums, left, right)\n",
    "                print(pivot_idx, nums)\n",
    "                quicksort(nums, left, pivot_idx)\n",
    "#                 quicksort(nums, pivot_idx+1, right)\n",
    "            return nums\n",
    "        \n",
    "        left, right = 0, len(nums)-1\n",
    "        strs = [str(num) for num in nums]\n",
    "        print(strs)\n",
    "        quicksort(strs, left, right)\n",
    "        print(strs)\n",
    "        return ''.join(strs)\n",
    "        \n",
    "        "
   ]
  },
  {
   "cell_type": "code",
   "execution_count": 221,
   "metadata": {
    "ExecuteTime": {
     "end_time": "2021-03-02T12:49:49.000518Z",
     "start_time": "2021-03-02T12:49:48.994484Z"
    }
   },
   "outputs": [
    {
     "name": "stdout",
     "output_type": "stream",
     "text": [
      "['3', '2', '4', '5', '9']\n",
      "33 33 0 0\n",
      "32 23 1 0\n",
      "34 43 2 1\n",
      "35 53 3 1\n",
      "1 ['2', '9', '4', '5', '3']\n",
      "22 22 0 0\n",
      "0 ['9', '2', '4', '5', '3']\n",
      "['9', '2', '4', '5', '3']\n"
     ]
    },
    {
     "data": {
      "text/plain": [
       "'92453'"
      ]
     },
     "execution_count": 221,
     "metadata": {},
     "output_type": "execute_result"
    }
   ],
   "source": [
    "qnums = ['3', '2', '4', '5', '9']\n",
    "a = Solution()\n",
    "res = a.minNumber(qnums)\n",
    "res"
   ]
  },
  {
   "cell_type": "code",
   "execution_count": 192,
   "metadata": {
    "ExecuteTime": {
     "end_time": "2021-03-02T12:40:41.400055Z",
     "start_time": "2021-03-02T12:40:41.395085Z"
    }
   },
   "outputs": [],
   "source": [
    "class Solution:\n",
    "    def minNumber(self, nums):\n",
    "        def fast_sort(l , r):\n",
    "            if l >= r: return\n",
    "            i, j = l, r\n",
    "            while i < j:\n",
    "                while strs[j] + strs[l] >= strs[l] + strs[j] and i < j: j -= 1\n",
    "                while strs[i] + strs[l] <= strs[l] + strs[i] and i < j: i += 1\n",
    "                strs[i], strs[j] = strs[j], strs[i]\n",
    "            strs[i], strs[l] = strs[l], strs[i]\n",
    "            fast_sort(l, i - 1)\n",
    "            fast_sort(i + 1, r)\n",
    "        \n",
    "        strs = [str(num) for num in nums]\n",
    "        fast_sort(0, len(strs) - 1)\n",
    "        print(strs)\n",
    "        return ''.join(strs)"
   ]
  },
  {
   "cell_type": "code",
   "execution_count": null,
   "metadata": {},
   "outputs": [],
   "source": []
  }
 ],
 "metadata": {
  "author": "",
  "kernelspec": {
   "display_name": "Python 3",
   "language": "python",
   "name": "python3"
  },
  "language_info": {
   "codemirror_mode": {
    "name": "ipython",
    "version": 3
   },
   "file_extension": ".py",
   "mimetype": "text/x-python",
   "name": "python",
   "nbconvert_exporter": "python",
   "pygments_lexer": "ipython3",
   "version": "3.8.5"
  },
  "latex_envs": {
   "LaTeX_envs_menu_present": true,
   "autoclose": false,
   "autocomplete": true,
   "bibliofile": "biblio.bib",
   "cite_by": "apalike",
   "current_citInitial": 1,
   "eqLabelWithNumbers": true,
   "eqNumInitial": 1,
   "hotkeys": {
    "equation": "Ctrl-E",
    "itemize": "Ctrl-I"
   },
   "labels_anchors": false,
   "latex_user_defs": false,
   "report_style_numbering": false,
   "user_envs_cfg": false
  },
  "toc": {
   "base_numbering": 1,
   "nav_menu": {},
   "number_sections": true,
   "sideBar": true,
   "skip_h1_title": false,
   "title_cell": "Table of Contents",
   "title_sidebar": "Contents",
   "toc_cell": false,
   "toc_position": {},
   "toc_section_display": true,
   "toc_window_display": false
  },
  "varInspector": {
   "cols": {
    "lenName": 16,
    "lenType": 16,
    "lenVar": 40
   },
   "kernels_config": {
    "python": {
     "delete_cmd_postfix": "",
     "delete_cmd_prefix": "del ",
     "library": "var_list.py",
     "varRefreshCmd": "print(var_dic_list())"
    },
    "r": {
     "delete_cmd_postfix": ") ",
     "delete_cmd_prefix": "rm(",
     "library": "var_list.r",
     "varRefreshCmd": "cat(var_dic_list()) "
    }
   },
   "types_to_exclude": [
    "module",
    "function",
    "builtin_function_or_method",
    "instance",
    "_Feature"
   ],
   "window_display": false
  }
 },
 "nbformat": 4,
 "nbformat_minor": 4
}
