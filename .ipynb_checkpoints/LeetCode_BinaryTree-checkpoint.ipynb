{
 "cells": [
  {
   "cell_type": "markdown",
   "metadata": {},
   "source": [
    "优先队列是使用堆实现的，堆的底层为一个完全二叉树。\n",
    "\n",
    "堆用于快速添加/移除最大/最小元素：add上浮，pop下沉，时间复杂度为$O(log_2N)$"
   ]
  },
  {
   "cell_type": "markdown",
   "metadata": {},
   "source": [
    "## 二叉树的实现\n",
    "链表、数组"
   ]
  },
  {
   "cell_type": "code",
   "execution_count": 2,
   "metadata": {
    "ExecuteTime": {
     "end_time": "2021-06-27T01:41:01.580887Z",
     "start_time": "2021-06-27T01:41:01.573865Z"
    }
   },
   "outputs": [],
   "source": [
    "class BinaryTree():\n",
    "    def __init__(self, val, left, right):\n",
    "        self.val = val\n",
    "        self.left = left\n",
    "        self.right = right\n",
    "\n",
    "bt1 = BinaryTree(1, None, None)\n",
    "bt2 = BinaryTree(2, None, None)\n",
    "bt3 = BinaryTree(3, None, None)\n",
    "bt4 = BinaryTree(4, None, None)\n",
    "bt5 = BinaryTree(5, None, None)\n",
    "bt6 = BinaryTree(6, None, None)\n",
    "bt7 = BinaryTree(7, None, None)\n",
    "\n",
    "bt1.left, bt1.right = bt2, bt3\n",
    "bt2.left, bt2.right = bt4, bt5\n",
    "bt3.left, bt3.right = bt6, bt7"
   ]
  },
  {
   "cell_type": "markdown",
   "metadata": {
    "heading_collapsed": true
   },
   "source": [
    "## 遍历方式"
   ]
  },
  {
   "cell_type": "markdown",
   "metadata": {
    "heading_collapsed": true,
    "hidden": true
   },
   "source": [
    "### DFS\n",
    "使用递归实现前中后序遍历。\n",
    "\n",
    "1. 参数返回值：`in: root`\n",
    "\n",
    "2. 终止条件：没有叶子节点，即`root==None`\n",
    "\n",
    "3. 单层循环逻辑：\n",
    "\n",
    "```\n",
    "# 以中序遍历为例\n",
    "dfs(root.left)\n",
    "in_order.append(root.val)\n",
    "dfs(root.right)\n",
    "```"
   ]
  },
  {
   "cell_type": "code",
   "execution_count": 18,
   "metadata": {
    "ExecuteTime": {
     "end_time": "2021-06-27T02:07:25.588027Z",
     "start_time": "2021-06-27T02:07:25.582919Z"
    },
    "hidden": true
   },
   "outputs": [],
   "source": [
    "def inorder(binaryTree):\n",
    "    in_order = []\n",
    "    def dfs(binaryTree, in_order):\n",
    "        if not binaryTree:\n",
    "            return \n",
    "        dfs(binaryTree.left, in_order)\n",
    "        in_order.append(binaryTree.val)\n",
    "        dfs(binaryTree.right, in_order)\n",
    "        return \n",
    "    dfs(binaryTree, in_order)\n",
    "    return in_order"
   ]
  },
  {
   "cell_type": "code",
   "execution_count": 23,
   "metadata": {
    "ExecuteTime": {
     "end_time": "2021-06-27T02:08:29.739532Z",
     "start_time": "2021-06-27T02:08:29.733371Z"
    },
    "hidden": true
   },
   "outputs": [
    {
     "data": {
      "text/plain": [
       "[4, 5, 2, 6, 7, 3, 1]"
      ]
     },
     "execution_count": 23,
     "metadata": {},
     "output_type": "execute_result"
    }
   ],
   "source": [
    "post = postorder(bt1)\n",
    "post"
   ]
  },
  {
   "cell_type": "markdown",
   "metadata": {
    "heading_collapsed": true,
    "hidden": true
   },
   "source": [
    "### 迭代\n",
    "1. 用stack模拟“递归”节点的过程，🍓注意处理(print)和访问节点(append in cur->left/right)的顺序\n",
    "2. ？？？使用标记法：指针标记下一个处理的节点"
   ]
  },
  {
   "cell_type": "markdown",
   "metadata": {
    "heading_collapsed": true,
    "hidden": true
   },
   "source": [
    "### 94. 二叉树的中序遍历"
   ]
  },
  {
   "cell_type": "markdown",
   "metadata": {
    "hidden": true
   },
   "source": [
    "1. 递归"
   ]
  },
  {
   "cell_type": "code",
   "execution_count": 82,
   "metadata": {
    "ExecuteTime": {
     "end_time": "2021-06-27T03:05:44.881642Z",
     "start_time": "2021-06-27T03:05:44.875169Z"
    },
    "hidden": true
   },
   "outputs": [],
   "source": [
    "from typing import List\n",
    "class Solution(object):\n",
    "    def inorderTraversal(self, TreeNode):\n",
    "        def dfs(bt):\n",
    "            if not bt: return\n",
    "#             print(bt.val)\n",
    "            dfs(bt.left)\n",
    "            in_order.append(bt.val)\n",
    "            dfs(bt.right)\n",
    "            return \n",
    "        in_order = []\n",
    "#         bt = TreeNode\n",
    "        dfs(TreeNode)\n",
    "        return in_order\n",
    "    "
   ]
  },
  {
   "cell_type": "markdown",
   "metadata": {
    "hidden": true
   },
   "source": [
    "2. 迭代"
   ]
  },
  {
   "cell_type": "markdown",
   "metadata": {
    "hidden": true
   },
   "source": [
    "处理：将元素放进result数组中\n",
    "访问：遍历节点"
   ]
  },
  {
   "cell_type": "code",
   "execution_count": 57,
   "metadata": {
    "ExecuteTime": {
     "end_time": "2021-06-29T09:49:25.489738Z",
     "start_time": "2021-06-29T09:49:25.484756Z"
    },
    "hidden": true
   },
   "outputs": [],
   "source": [
    "class Solution(object):\n",
    "    def inorderTraversal(self, root):\n",
    "        inorder, tmp = [], []\n",
    "        cur = root\n",
    "        while cur or tmp:\n",
    "            if cur:\n",
    "                tmp.append(cur)\n",
    "                cur = cur.left\n",
    "            else:\n",
    "                cur = tmp.pop()\n",
    "                inorder.append(cur.val)\n",
    "                cur = cur.right\n",
    "        return inorder"
   ]
  },
  {
   "cell_type": "code",
   "execution_count": 58,
   "metadata": {
    "ExecuteTime": {
     "end_time": "2021-06-29T09:49:27.227767Z",
     "start_time": "2021-06-29T09:49:27.220663Z"
    },
    "hidden": true
   },
   "outputs": [],
   "source": [
    "class TreeNode:\n",
    "    def __init__(self, val=0, left=None, right=None):\n",
    "        self.val = val\n",
    "        self.left = left\n",
    "        self.right = right\n",
    "        \n",
    "bt1 = TreeNode(1, None, None)\n",
    "bt2 = TreeNode(2, None, None)\n",
    "bt3 = TreeNode(3, None, None)\n",
    "bt4 = TreeNode(4, None, None)\n",
    "bt5 = TreeNode(5, None, None)\n",
    "bt6 = TreeNode(6, None, None)\n",
    "bt7 = TreeNode(7, None, None)\n",
    "\n",
    "bt1.left, bt1.right = bt2, bt3\n",
    "bt2.left, bt2.right = bt4, bt5\n",
    "bt3.left, bt3.right = bt6, bt7\n"
   ]
  },
  {
   "cell_type": "code",
   "execution_count": 59,
   "metadata": {
    "ExecuteTime": {
     "end_time": "2021-06-29T09:49:29.018541Z",
     "start_time": "2021-06-29T09:49:29.012457Z"
    },
    "hidden": true
   },
   "outputs": [
    {
     "data": {
      "text/plain": [
       "[4, 2, 5, 1, 6, 3, 7]"
      ]
     },
     "execution_count": 59,
     "metadata": {},
     "output_type": "execute_result"
    }
   ],
   "source": [
    "a = Solution()\n",
    "in_order = a.inorderTraversal(bt1)\n",
    "in_order"
   ]
  },
  {
   "cell_type": "markdown",
   "metadata": {
    "heading_collapsed": true,
    "hidden": true
   },
   "source": [
    "### 144. 二叉树的前序遍历"
   ]
  },
  {
   "cell_type": "markdown",
   "metadata": {
    "hidden": true
   },
   "source": [
    "1. 递归"
   ]
  },
  {
   "cell_type": "code",
   "execution_count": 20,
   "metadata": {
    "ExecuteTime": {
     "end_time": "2021-06-28T13:46:02.010673Z",
     "start_time": "2021-06-28T13:46:02.005788Z"
    },
    "hidden": true
   },
   "outputs": [],
   "source": [
    "class Solution(object):\n",
    "    def preorderTraversal(self, root):\n",
    "        pre = []\n",
    "        def dfs(binaryTree, pre):\n",
    "            if not binaryTree:\n",
    "                return \n",
    "            pre.append(binaryTree.val)\n",
    "            dfs(binaryTree.left, pre)\n",
    "            dfs(binaryTree.right, pre)\n",
    "            return \n",
    "        dfs(root, pre)\n",
    "        return pre"
   ]
  },
  {
   "cell_type": "markdown",
   "metadata": {
    "hidden": true
   },
   "source": [
    "2. 迭代"
   ]
  },
  {
   "cell_type": "code",
   "execution_count": 16,
   "metadata": {
    "ExecuteTime": {
     "end_time": "2021-06-28T13:44:23.598899Z",
     "start_time": "2021-06-28T13:44:23.593002Z"
    },
    "hidden": true
   },
   "outputs": [],
   "source": [
    "class Solution(object):\n",
    "    def preorderTraversal(self, root):\n",
    "        if not root: return []\n",
    "        pre_order, tmp = [], []\n",
    "        tmp.append(root)\n",
    "        while tmp:\n",
    "            cur = tmp.pop()\n",
    "            pre_order.append(cur.val)\n",
    "            if cur.right: tmp.append(cur.right)\n",
    "            if cur.left: tmp.append(cur.left)\n",
    "        return pre_order\n",
    "    "
   ]
  },
  {
   "cell_type": "code",
   "execution_count": 21,
   "metadata": {
    "ExecuteTime": {
     "end_time": "2021-06-28T13:46:03.729741Z",
     "start_time": "2021-06-28T13:46:03.722523Z"
    },
    "hidden": true
   },
   "outputs": [
    {
     "data": {
      "text/plain": [
       "[1, 2, 4, 5, 3, 6, 7]"
      ]
     },
     "execution_count": 21,
     "metadata": {},
     "output_type": "execute_result"
    }
   ],
   "source": [
    "a = Solution()\n",
    "pre_order = a.preorderTraversal(bt1)\n",
    "pre_order"
   ]
  },
  {
   "cell_type": "markdown",
   "metadata": {
    "hidden": true
   },
   "source": [
    "### 145. 二叉树的后序遍历"
   ]
  },
  {
   "cell_type": "markdown",
   "metadata": {
    "hidden": true
   },
   "source": [
    "1. 递归"
   ]
  },
  {
   "cell_type": "code",
   "execution_count": 22,
   "metadata": {
    "ExecuteTime": {
     "end_time": "2021-06-27T02:08:29.534663Z",
     "start_time": "2021-06-27T02:08:29.529336Z"
    },
    "hidden": true
   },
   "outputs": [],
   "source": [
    "class Solution:\n",
    "    def postorderTraversal(self, root: TreeNode) -> List[int]:\n",
    "        def dfs(root):\n",
    "            if not root: return\n",
    "            dfs(root.left)\n",
    "            dfs(root.right)\n",
    "            post_order.append(root.val)\n",
    "            return \n",
    "        post_order = []\n",
    "        dfs(root)\n",
    "        return post_order"
   ]
  },
  {
   "cell_type": "markdown",
   "metadata": {
    "hidden": true
   },
   "source": [
    "2. 迭代"
   ]
  },
  {
   "cell_type": "code",
   "execution_count": 69,
   "metadata": {
    "ExecuteTime": {
     "end_time": "2021-06-29T10:01:18.741745Z",
     "start_time": "2021-06-29T10:01:18.736250Z"
    },
    "hidden": true
   },
   "outputs": [],
   "source": [
    "class Solution(object):\n",
    "    def postorderTraversal(self, root):\n",
    "        postorder, tmp = [], []\n",
    "        tmp.append(root)\n",
    "        while tmp:\n",
    "            cur = tmp.pop()\n",
    "            postorder.append(cur.val)\n",
    "            if cur.left: tmp.append(cur.left)\n",
    "            if cur.right: tmp.append(cur.right)\n",
    "        return postorder[::-1]"
   ]
  },
  {
   "cell_type": "code",
   "execution_count": 70,
   "metadata": {
    "ExecuteTime": {
     "end_time": "2021-06-29T10:01:18.936522Z",
     "start_time": "2021-06-29T10:01:18.929440Z"
    },
    "hidden": true
   },
   "outputs": [
    {
     "data": {
      "text/plain": [
       "[4, 5, 2, 6, 7, 3, 1]"
      ]
     },
     "execution_count": 70,
     "metadata": {},
     "output_type": "execute_result"
    }
   ],
   "source": [
    "a = Solution()\n",
    "post_order = a.postorderTraversal(bt1)\n",
    "post_order"
   ]
  },
  {
   "cell_type": "markdown",
   "metadata": {},
   "source": [
    "## BFS"
   ]
  },
  {
   "cell_type": "markdown",
   "metadata": {
    "heading_collapsed": true
   },
   "source": [
    "### 102. 二叉树的层序遍历\n",
    "给定一个二叉树，返回其节点值自顶向下的层序遍历。 "
   ]
  },
  {
   "cell_type": "markdown",
   "metadata": {
    "hidden": true
   },
   "source": [
    "1. 输出为一位数组"
   ]
  },
  {
   "cell_type": "code",
   "execution_count": 84,
   "metadata": {
    "ExecuteTime": {
     "end_time": "2021-06-29T11:11:26.008104Z",
     "start_time": "2021-06-29T11:11:26.001441Z"
    },
    "hidden": true
   },
   "outputs": [],
   "source": [
    "from queue import Queue\n",
    "from typing import List\n",
    "class Solution:\n",
    "    def levelOrder(self, root: TreeNode) -> List[List[int]]:\n",
    "        if not root: return []\n",
    "        res, q = [], Queue()\n",
    "        q.put(root)\n",
    "        while not q.empty():\n",
    "            cur = q.get()\n",
    "            res.append(cur.val)\n",
    "            if cur.left: q.put(cur.left)\n",
    "            if cur.right: q.put(cur.right)\n",
    "        return res"
   ]
  },
  {
   "cell_type": "markdown",
   "metadata": {
    "hidden": true
   },
   "source": [
    "2. 输出为二维数组"
   ]
  },
  {
   "cell_type": "code",
   "execution_count": 91,
   "metadata": {
    "ExecuteTime": {
     "end_time": "2021-06-29T12:54:14.777321Z",
     "start_time": "2021-06-29T12:54:14.771149Z"
    },
    "code_folding": [],
    "hidden": true
   },
   "outputs": [],
   "source": [
    "from collections import deque\n",
    "class Solution:\n",
    "    def levelOrder(self, root: TreeNode) -> List[List[int]]:\n",
    "        if not root: return []\n",
    "        res = []\n",
    "        dq = deque()\n",
    "        dq.append(root)\n",
    "        while dq:\n",
    "            tmp = []\n",
    "            for i in range(len(dq)):\n",
    "                cur = dq.popleft()\n",
    "                tmp.append(cur.val)\n",
    "                if cur.left:\n",
    "                    dq.append(cur.left)\n",
    "                if cur.right:\n",
    "                    dq.append(cur.right)\n",
    "            res.append(tmp.copy())\n",
    "        return res"
   ]
  },
  {
   "cell_type": "code",
   "execution_count": 92,
   "metadata": {
    "ExecuteTime": {
     "end_time": "2021-06-29T12:54:15.051587Z",
     "start_time": "2021-06-29T12:54:15.045753Z"
    },
    "hidden": true
   },
   "outputs": [
    {
     "data": {
      "text/plain": [
       "[[4, 5, 6, 7], [2, 3], [1]]"
      ]
     },
     "execution_count": 92,
     "metadata": {},
     "output_type": "execute_result"
    }
   ],
   "source": [
    "a = Solution()\n",
    "res = a.levelOrder(bt1)\n",
    "res"
   ]
  },
  {
   "attachments": {},
   "cell_type": "markdown",
   "metadata": {
    "hidden": true
   },
   "source": [
    "🍓标准库collections中的deque功能较多，且使用方法更像一个list。\n",
    "![deque.png](attachment:images/deque.png)"
   ]
  },
  {
   "cell_type": "markdown",
   "metadata": {},
   "source": [
    "### 107. 二叉树的层序遍历 II\n",
    "给定一个二叉树，返回其节点值自底向上的层序遍历。 （即按从叶子节点所在层到根节点所在的层，逐层从左向右遍历）"
   ]
  },
  {
   "cell_type": "code",
   "execution_count": null,
   "metadata": {},
   "outputs": [],
   "source": [
    "class Solution:\n",
    "    def levelOrderBottom(self, root: TreeNode) -> List[List[int]]:\n",
    "        if not root: return []\n",
    "        res = []\n",
    "        dq = deque()\n",
    "        dq.append(root)\n",
    "        while dq:\n",
    "            tmp = []\n",
    "            for i in range(len(dq)):\n",
    "                cur = dq.popleft()\n",
    "                tmp.append(cur.val)\n",
    "                if cur.left:\n",
    "                    dq.append(cur.left)\n",
    "                if cur.right:\n",
    "                    dq.append(cur.right)\n",
    "            res.append(tmp.copy())\n",
    "        return res[::-1]"
   ]
  },
  {
   "cell_type": "markdown",
   "metadata": {},
   "source": [
    "### 199. 二叉树的右视图\n",
    "给定一棵二叉树，想象自己站在它的右侧，按照从顶部到底部的顺序，返回从右侧所能看到的节点值。\n",
    "\n",
    "示例:\n",
    "\n",
    "输入: [1,2,3,null,5,null,4]\n",
    "输出: [1, 3, 4]"
   ]
  },
  {
   "cell_type": "code",
   "execution_count": null,
   "metadata": {},
   "outputs": [],
   "source": [
    "class Solution:\n",
    "    def rightSideView(self, root: TreeNode) -> List[int]:"
   ]
  },
  {
   "cell_type": "markdown",
   "metadata": {},
   "source": [
    "### 637.二叉树的层平均值\n"
   ]
  }
 ],
 "metadata": {
  "kernelspec": {
   "display_name": "Python 3",
   "language": "python",
   "name": "python3"
  },
  "language_info": {
   "codemirror_mode": {
    "name": "ipython",
    "version": 3
   },
   "file_extension": ".py",
   "mimetype": "text/x-python",
   "name": "python",
   "nbconvert_exporter": "python",
   "pygments_lexer": "ipython3",
   "version": "3.8.5"
  },
  "latex_envs": {
   "LaTeX_envs_menu_present": true,
   "autoclose": false,
   "autocomplete": true,
   "bibliofile": "biblio.bib",
   "cite_by": "apalike",
   "current_citInitial": 1,
   "eqLabelWithNumbers": true,
   "eqNumInitial": 1,
   "hotkeys": {
    "equation": "Ctrl-E",
    "itemize": "Ctrl-I"
   },
   "labels_anchors": false,
   "latex_user_defs": false,
   "report_style_numbering": false,
   "user_envs_cfg": false
  },
  "varInspector": {
   "cols": {
    "lenName": 16,
    "lenType": 16,
    "lenVar": 40
   },
   "kernels_config": {
    "python": {
     "delete_cmd_postfix": "",
     "delete_cmd_prefix": "del ",
     "library": "var_list.py",
     "varRefreshCmd": "print(var_dic_list())"
    },
    "r": {
     "delete_cmd_postfix": ") ",
     "delete_cmd_prefix": "rm(",
     "library": "var_list.r",
     "varRefreshCmd": "cat(var_dic_list()) "
    }
   },
   "types_to_exclude": [
    "module",
    "function",
    "builtin_function_or_method",
    "instance",
    "_Feature"
   ],
   "window_display": false
  }
 },
 "nbformat": 4,
 "nbformat_minor": 4
}
