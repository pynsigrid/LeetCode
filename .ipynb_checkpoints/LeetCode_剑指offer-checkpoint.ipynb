{
 "cells": [
  {
   "cell_type": "markdown",
   "metadata": {
    "heading_collapsed": true
   },
   "source": [
    "## 剑指 Offer 04. 二维数组中的查找"
   ]
  },
  {
   "cell_type": "markdown",
   "metadata": {
    "hidden": true
   },
   "source": [
    "在一个 n * m 的二维数组中，每一行都按照从左到右递增的顺序排序，每一列都按照从上到下递增的顺序排序。请完成一个高效的函数，输入这样的一个二维数组和一个整数，判断数组中是否含有该整数。\n",
    "\n",
    "\n",
    "示例:\n",
    "\n",
    "现有矩阵 matrix 如下：\n",
    "\n",
    "$[\n",
    "  [1,   4,  7, 11, 15],\n",
    "  [2,   5,  8, 12, 19],\n",
    "  [3,   6,  9, 16, 22],\n",
    "  [10, 13, 14, 17, 24],\n",
    "  [18, 21, 23, 26, 30]\n",
    "]$\n",
    "\n",
    "给定 target = 5，返回 true。\n",
    "\n",
    "给定 target = 20，返回 false。\n"
   ]
  },
  {
   "cell_type": "markdown",
   "metadata": {
    "heading_collapsed": true,
    "hidden": true
   },
   "source": [
    "### 枚举法\n",
    "🍓🍓🍓：要从每一行的最大开始比较，防止有遗漏\n",
    "\n",
    "时间复杂度：$O(M\\times N)$\n",
    "\n",
    "空间复杂度：$O(1)$"
   ]
  },
  {
   "cell_type": "code",
   "execution_count": 30,
   "metadata": {
    "ExecuteTime": {
     "end_time": "2021-01-02T13:00:07.722599Z",
     "start_time": "2021-01-02T13:00:07.718566Z"
    },
    "code_folding": [],
    "hidden": true
   },
   "outputs": [],
   "source": [
    "class Solution(object):\n",
    "    def findNumberIn2DArray(self, matrix, target):\n",
    "        \"\"\"\n",
    "        :type matrix: List[List[int]]\n",
    "        :type target: int\n",
    "        :rtype: bool\n",
    "        \"\"\"\n",
    "        if len(matrix) == 0 or len(matrix[0])== 0: return False\n",
    "        m = len(matrix)\n",
    "        n = len(matrix[0])\n",
    "        for i in range(m-1, -1, -1):\n",
    "            print(i, n-1, matrix[i][n-1])\n",
    "            if target <= matrix[i][n-1]:\n",
    "                for j in range(n):\n",
    "                    if target == matrix[i][j]:\n",
    "                        return True\n",
    "        return False"
   ]
  },
  {
   "cell_type": "code",
   "execution_count": 29,
   "metadata": {
    "ExecuteTime": {
     "end_time": "2021-01-02T12:58:48.209856Z",
     "start_time": "2021-01-02T12:58:48.204230Z"
    },
    "hidden": true
   },
   "outputs": [
    {
     "name": "stdout",
     "output_type": "stream",
     "text": [
      "4 4 30\n",
      "3 4 24\n",
      "2 4 22\n",
      "1 4 19\n",
      "0 4 15\n"
     ]
    },
    {
     "data": {
      "text/plain": [
       "False"
      ]
     },
     "execution_count": 29,
     "metadata": {},
     "output_type": "execute_result"
    }
   ],
   "source": [
    "matrix = [\n",
    "  [1,   4,  7, 11, 15],\n",
    "  [2,   5,  8, 12, 19],\n",
    "  [3,   6,  9, 16, 22],\n",
    "  [10, 13, 14, 17, 24],\n",
    "  [18, 21, 23, 26, 30]\n",
    "]\n",
    "mat = [[]]\n",
    "a = Solution()\n",
    "a.findNumberIn2DArray(matrix,target = 0)"
   ]
  },
  {
   "cell_type": "markdown",
   "metadata": {
    "heading_collapsed": true
   },
   "source": [
    "## 剑指-03. 找出数组中重复的数字\n",
    "\n",
    "在一个长度为 n 的数组 nums 里的所有数字都在 0～n-1 的范围内。数组中某些数字是重复的，但不知道有几个数字重复了，也不知道每个数字重复了几次。请找出数组中任意一个重复的数字。\n",
    "\n",
    "示例 1：\n",
    "\n",
    "输入：\n",
    "[2, 3, 1, 0, 2, 5, 3]\n",
    "输出：2 或 3"
   ]
  },
  {
   "cell_type": "markdown",
   "metadata": {
    "hidden": true
   },
   "source": [
    "### hash\n",
    "时间复杂度：$O(n)$\n",
    "\n",
    "空间复杂度：$O(n)$"
   ]
  },
  {
   "cell_type": "code",
   "execution_count": 31,
   "metadata": {
    "ExecuteTime": {
     "end_time": "2021-01-02T13:17:22.097198Z",
     "start_time": "2021-01-02T13:17:22.094335Z"
    },
    "hidden": true
   },
   "outputs": [],
   "source": [
    "class Solution(object):\n",
    "    def findRepeatNumber(self, nums):\n",
    "        dicta = {}\n",
    "        for i in range(len(nums)):\n",
    "            if nums[i] in dicta:\n",
    "                return nums[i]\n",
    "            else:\n",
    "                dicta[nums[i]] = 1\n",
    "        return -1"
   ]
  },
  {
   "cell_type": "markdown",
   "metadata": {
    "hidden": true
   },
   "source": [
    "### 排序nums.sort()\n",
    "\n",
    "内部实现机制为：Timesort:https://www.cnblogs.com/clement-jiao/p/9243066.html/\n",
    "\n",
    "时间复杂度：$O(nlogn)$\n",
    "\n",
    "空间复杂度：$O(n)$"
   ]
  },
  {
   "cell_type": "code",
   "execution_count": 32,
   "metadata": {
    "ExecuteTime": {
     "end_time": "2021-01-02T13:17:44.729718Z",
     "start_time": "2021-01-02T13:17:44.726871Z"
    },
    "hidden": true
   },
   "outputs": [],
   "source": [
    "class Solution(object):\n",
    "    def findRepeatNumber(self, nums):\n",
    "        nums.sort()\n",
    "        for i in range(1, len(nums)):\n",
    "            if nums[i] == nums[i-1]:\n",
    "                return nums[i]\n",
    "        return -1"
   ]
  },
  {
   "cell_type": "markdown",
   "metadata": {
    "hidden": true
   },
   "source": [
    "### 二分法"
   ]
  },
  {
   "cell_type": "code",
   "execution_count": null,
   "metadata": {
    "hidden": true
   },
   "outputs": [],
   "source": []
  },
  {
   "cell_type": "markdown",
   "metadata": {
    "heading_collapsed": true
   },
   "source": [
    "## 剑指 Offer 05. 替换空格\n",
    "请实现一个函数，把字符串 s 中的每个空格替换成\"%20\"。\n",
    "\n",
    "输入：s = \"We are happy.\"\n",
    "输出：\"We%20are%20happy.\"\n"
   ]
  },
  {
   "cell_type": "code",
   "execution_count": 56,
   "metadata": {
    "ExecuteTime": {
     "end_time": "2021-01-02T14:41:19.366602Z",
     "start_time": "2021-01-02T14:41:19.363570Z"
    },
    "hidden": true
   },
   "outputs": [],
   "source": [
    "class Solution(object):\n",
    "    def replaceSpace(self, s):\n",
    "        \"\"\"\n",
    "        :type s: str\n",
    "        :rtype: str\n",
    "        \"\"\"\n",
    "        ls = list(s)\n",
    "        res = ''\n",
    "        for i in range(len(ls)):\n",
    "            if ls[i] == ' ':\n",
    "                ls[i] = '%20'\n",
    "            res += str(ls[i])\n",
    "        return res"
   ]
  },
  {
   "cell_type": "markdown",
   "metadata": {
    "hidden": true
   },
   "source": [
    "🍓🍓🍓：jion()将序列中的元素以指定的字符连接生成一个新的字符串"
   ]
  },
  {
   "cell_type": "code",
   "execution_count": null,
   "metadata": {
    "hidden": true
   },
   "outputs": [],
   "source": [
    "class Solution:\n",
    "    def replaceSpace(self, s):\n",
    "        res = []\n",
    "        for c in s:\n",
    "            if c == ' ':\n",
    "                res.append(\"%20\")\n",
    "            else:\n",
    "                res.append(c)\n",
    "        return \"\".join(res)\n",
    "        "
   ]
  },
  {
   "cell_type": "code",
   "execution_count": 57,
   "metadata": {
    "ExecuteTime": {
     "end_time": "2021-01-02T14:41:19.655231Z",
     "start_time": "2021-01-02T14:41:19.651478Z"
    },
    "hidden": true
   },
   "outputs": [
    {
     "data": {
      "text/plain": [
       "'We%20are%20happy.'"
      ]
     },
     "execution_count": 57,
     "metadata": {},
     "output_type": "execute_result"
    }
   ],
   "source": [
    "s = \"We are happy.\"\n",
    "a = Solution()\n",
    "a.replaceSpace(s)"
   ]
  },
  {
   "cell_type": "markdown",
   "metadata": {
    "heading_collapsed": true
   },
   "source": [
    "## 剑指 Offer 06. 从尾到头打印链表\n",
    "输入一个链表的头节点，从尾到头反过来返回每个节点的值（用数组返回）。\n",
    "\n",
    "输入：head = [1,3,2]\n",
    "\n",
    "输出：[2,3,1]"
   ]
  },
  {
   "cell_type": "markdown",
   "metadata": {
    "heading_collapsed": true,
    "hidden": true
   },
   "source": [
    "### 正序写入，逆序输出\n",
    "ll = ll[::-1]"
   ]
  },
  {
   "cell_type": "code",
   "execution_count": 18,
   "metadata": {
    "ExecuteTime": {
     "end_time": "2021-01-03T06:15:19.206390Z",
     "start_time": "2021-01-03T06:15:19.201109Z"
    },
    "hidden": true
   },
   "outputs": [],
   "source": [
    "# Definition for singly-linked list.\n",
    "class ListNode(object):\n",
    "    def __init__(self, x):\n",
    "        self.val = x\n",
    "        self.next = None\n",
    "\n",
    "class Solution(object):\n",
    "    def reversePrint(self, head):\n",
    "        \"\"\"\n",
    "        :type head: ListNode\n",
    "        :rtype: List[int]\n",
    "        \"\"\"\n",
    "        h = head\n",
    "        ll = []\n",
    "        while h is not None:\n",
    "#             print(h.val)\n",
    "            ll.append(h.val)\n",
    "            h = h.next\n",
    "        return ll[::-1]"
   ]
  },
  {
   "cell_type": "markdown",
   "metadata": {
    "heading_collapsed": true,
    "hidden": true
   },
   "source": [
    "### 构建逆链表\n",
    "没啥意义，不过也是一个方法"
   ]
  },
  {
   "cell_type": "markdown",
   "metadata": {
    "heading_collapsed": true,
    "hidden": true
   },
   "source": [
    "### 堆栈\n"
   ]
  },
  {
   "cell_type": "code",
   "execution_count": 30,
   "metadata": {
    "ExecuteTime": {
     "end_time": "2021-01-03T14:37:29.192431Z",
     "start_time": "2021-01-03T14:37:29.186778Z"
    },
    "hidden": true
   },
   "outputs": [],
   "source": [
    "class Solution(object):\n",
    "    def reversePrint(self, head):\n",
    "        \"\"\"\n",
    "        :type head: ListNode\n",
    "        :rtype: List[int]\n",
    "        \"\"\"\n",
    "        h = head\n",
    "        ll = []\n",
    "        while h is not None:\n",
    "            ll.append(h.val)\n",
    "            h = h.next\n",
    "        res = []\n",
    "        while ll:\n",
    "            res.append(ll.pop())\n",
    "        return res"
   ]
  },
  {
   "cell_type": "code",
   "execution_count": 31,
   "metadata": {
    "ExecuteTime": {
     "end_time": "2021-01-03T14:37:29.381703Z",
     "start_time": "2021-01-03T14:37:29.373483Z"
    },
    "hidden": true
   },
   "outputs": [
    {
     "data": {
      "text/plain": [
       "[10, 4, 3, 1]"
      ]
     },
     "execution_count": 31,
     "metadata": {},
     "output_type": "execute_result"
    }
   ],
   "source": [
    "l1, l2 = ListNode(1), ListNode(2)\n",
    "l3, l4 = ListNode(3), ListNode(4)\n",
    "l5, l6, l22= ListNode(10), ListNode(6), ListNode(8)\n",
    "# l1\n",
    "l4.next = l5\n",
    "l3.next = l4\n",
    "l1.next = l3\n",
    "\n",
    "\n",
    "a = Solution()\n",
    "res = a.reversePrint(l1)\n",
    "res"
   ]
  },
  {
   "cell_type": "markdown",
   "metadata": {
    "hidden": true
   },
   "source": [
    "### 递归\n",
    "🍓了解递归三大要素\n",
    "\n",
    "🍓🍓🍓return时候的顺序\n",
    "1. 定义：当前val和下一个栈的val的拼接\n",
    "2. 出口：h.next = None\n",
    "3. 拆解：\n",
    "\n",
    "时间复杂度：$O(n)$\n",
    "\n",
    "空间复杂度：$O(n)$"
   ]
  },
  {
   "cell_type": "code",
   "execution_count": 26,
   "metadata": {
    "ExecuteTime": {
     "end_time": "2021-01-03T13:51:23.439684Z",
     "start_time": "2021-01-03T13:51:23.435317Z"
    },
    "hidden": true
   },
   "outputs": [],
   "source": [
    "class Solution:\n",
    "    def reversePrint(self, head):\n",
    "        if head:\n",
    "            print(head.val)  \n",
    "        return self.reversePrint(head.next) + [head.val] if head else []"
   ]
  },
  {
   "cell_type": "markdown",
   "metadata": {
    "heading_collapsed": true
   },
   "source": [
    "## 剑指 Offer 07. 重建二叉树\n",
    "输入某二叉树的前序遍历和中序遍历的结果，请重建该二叉树。假设输入的前序遍历和中序遍历的结果中都不含重复的数字。\n",
    "\n",
    "前序遍历 preorder = [3,9,20,15,7]\n",
    "\n",
    "中序遍历 inorder = [9,3,15,20,7]\n",
    "\n",
    "返回如下的二叉树：\n",
    "\n",
    "    3\n",
    "   / \\\n",
    "  9  20\n",
    "    /  \\\n",
    "   15   7\n",
    "\n"
   ]
  },
  {
   "cell_type": "markdown",
   "metadata": {
    "hidden": true
   },
   "source": [
    "### 递归\n",
    "1. 定义：利用pre和in的位置关系重建二叉树\n",
    "2. 出口：pre/in没有数值\n",
    "3. 拆解：root、idx"
   ]
  },
  {
   "cell_type": "code",
   "execution_count": 5,
   "metadata": {
    "ExecuteTime": {
     "end_time": "2021-01-04T01:46:28.769867Z",
     "start_time": "2021-01-04T01:46:28.763221Z"
    },
    "hidden": true
   },
   "outputs": [],
   "source": [
    "# Definition for a binary tree node.\n",
    "class TreeNode(object):\n",
    "    def __init__(self, x):\n",
    "        self.val = x\n",
    "        self.left = None\n",
    "        self.right = None\n",
    "\n",
    "class Solution(object):\n",
    "    def buildTree(self, preorder, inorder):\n",
    "        \"\"\"\n",
    "        :type preorder: List[int]\n",
    "        :type inorder: List[int]\n",
    "        :rtype: TreeNode\n",
    "        \"\"\"\n",
    "        if len(preorder) == 0:\n",
    "            return None\n",
    "        center = TreeNode(preorder[0])\n",
    "        idx = inorder.index(center.val)\n",
    "        center.left = self.buildTree(preorder[1:idx+1], inorder[:idx+1])\n",
    "        center.right = self.buildTree(preorder[idx+1:], inorder[idx+1:])\n",
    "        return center"
   ]
  },
  {
   "cell_type": "code",
   "execution_count": 6,
   "metadata": {
    "ExecuteTime": {
     "end_time": "2021-01-04T01:46:28.965777Z",
     "start_time": "2021-01-04T01:46:28.956157Z"
    },
    "hidden": true
   },
   "outputs": [
    {
     "data": {
      "text/plain": [
       "9"
      ]
     },
     "execution_count": 6,
     "metadata": {},
     "output_type": "execute_result"
    }
   ],
   "source": [
    "preorder = [3, 9, 15, 7, 20]\n",
    "inorder = [15, 9, 7, 3, 20]\n",
    "a = Solution()\n",
    "res = a.buildTree(preorder, inorder)\n",
    "res.left.val"
   ]
  },
  {
   "cell_type": "markdown",
   "metadata": {
    "heading_collapsed": true
   },
   "source": [
    "## 剑指 Offer 10- I. 斐波那契数列\n",
    "写一个函数，输入 n ，求斐波那契（Fibonacci）数列的第 n 项。斐波那契数列的定义如下：\n",
    "\n",
    "$F(0) = 0,   F(1) = 1$\n",
    "$F(N) = F(N - 1) + F(N - 2), 其中 N > 1.$\n",
    "\n",
    "斐波那契数列由 0 和 1 开始，之后的斐波那契数就是由之前的两数相加而得出。\n",
    "\n",
    "答案需要取模 1e9+7（1000000007），如计算初始结果为：1000000008，请返回 1。"
   ]
  },
  {
   "cell_type": "markdown",
   "metadata": {
    "hidden": true
   },
   "source": [
    "### 迭代\n",
    "⚠️超出时间限制\n",
    "1. 定义：当前数由前两个数构成\n",
    "2. 出口：$n = 0, 1$\n",
    "3. 拆解：$fib(n) = fib(n-1)+fib(n-2)$"
   ]
  },
  {
   "cell_type": "code",
   "execution_count": 9,
   "metadata": {
    "ExecuteTime": {
     "end_time": "2021-01-05T03:13:39.520487Z",
     "start_time": "2021-01-05T03:13:39.515553Z"
    },
    "hidden": true
   },
   "outputs": [],
   "source": [
    "class Solution(object):\n",
    "    def fib(self, n):\n",
    "        \"\"\"\n",
    "        :type n: int\n",
    "        :rtype: int\n",
    "        \"\"\"\n",
    "        if n >= 2:   \n",
    "            return self.fib(n-1)+self.fib(n-2)\n",
    "        elif n == 1:\n",
    "            return 1\n",
    "        else:\n",
    "            return 0"
   ]
  },
  {
   "cell_type": "markdown",
   "metadata": {
    "heading_collapsed": true,
    "hidden": true
   },
   "source": [
    "### dp\n",
    "\n",
    "在迭代方法的基础上用dp table记录前两步的结果，减少重复计算\n",
    "1. 状态：$dp[i]$\n",
    "2. 最优子解：$dp[i] = g(dp[i-1], dp[i-2])$\n",
    "3. 边界：$dp[0]、dp[1]$\n",
    "4. 状态转移方程：$dp[i] = dp[i-1] + dp[i-2]$\n",
    "\n",
    "时间复杂度：$O(N)$\n",
    "\n",
    "空间复杂度：$O(N)$/$O(1)$\n",
    "🍓🍓🍓：取模"
   ]
  },
  {
   "cell_type": "code",
   "execution_count": 1,
   "metadata": {
    "ExecuteTime": {
     "end_time": "2021-01-07T11:35:10.322521Z",
     "start_time": "2021-01-07T11:35:10.317096Z"
    },
    "hidden": true
   },
   "outputs": [],
   "source": [
    "class Solution(object):\n",
    "    def fib(self, n):\n",
    "        \"\"\"\n",
    "        :type n: int\n",
    "        :rtype: int\n",
    "        \"\"\"\n",
    "        dp = [None for _ in range(n+1)]\n",
    "        if n <= 1:\n",
    "            return n\n",
    "        dp[0], dp[1] = 0, 1\n",
    "        for i in range(2, n+1):\n",
    "            dp[i] = dp[i-1] + dp[i-2]\n",
    "            print(dp)\n",
    "        return dp[-1]%1000000007"
   ]
  },
  {
   "cell_type": "code",
   "execution_count": 33,
   "metadata": {
    "ExecuteTime": {
     "end_time": "2021-01-05T11:15:17.404914Z",
     "start_time": "2021-01-05T11:15:17.399751Z"
    },
    "hidden": true
   },
   "outputs": [],
   "source": [
    "# 空间优化\n",
    "class Solution(object):\n",
    "    def fib(self, n):\n",
    "        \"\"\"\n",
    "        :type n: int\n",
    "        :rtype: int\n",
    "        \"\"\"\n",
    "        if n <= 1:\n",
    "            return n\n",
    "        a, b = 0, 1\n",
    "        for i in range(2, n+1):\n",
    "            a, b = b, a+b\n",
    "        return b%1000000007"
   ]
  },
  {
   "cell_type": "code",
   "execution_count": 2,
   "metadata": {
    "ExecuteTime": {
     "end_time": "2021-01-07T11:35:12.478692Z",
     "start_time": "2021-01-07T11:35:12.465049Z"
    },
    "hidden": true
   },
   "outputs": [
    {
     "name": "stdout",
     "output_type": "stream",
     "text": [
      "[1, 1, 2, None, None, None, None, None]\n",
      "[1, 1, 2, 3, None, None, None, None]\n",
      "[1, 1, 2, 3, 5, None, None, None]\n",
      "[1, 1, 2, 3, 5, 8, None, None]\n",
      "[1, 1, 2, 3, 5, 8, 13, None]\n",
      "[1, 1, 2, 3, 5, 8, 13, 21]\n"
     ]
    },
    {
     "data": {
      "text/plain": [
       "21"
      ]
     },
     "execution_count": 2,
     "metadata": {},
     "output_type": "execute_result"
    }
   ],
   "source": [
    "a = Solution()\n",
    "a.fib(7)"
   ]
  },
  {
   "cell_type": "markdown",
   "metadata": {
    "heading_collapsed": true
   },
   "source": [
    "## 剑指 Offer 10- II. 青蛙跳台阶问题\n",
    "一只青蛙一次可以跳上1级台阶，也可以跳上2级台阶。求该青蛙跳上一个 n 级的台阶总共有多少种跳法。\n",
    "\n",
    "答案需要取模 1e9+7（1000000007），如计算初始结果为：1000000008，请返回 1。"
   ]
  },
  {
   "cell_type": "markdown",
   "metadata": {
    "hidden": true
   },
   "source": [
    "### dp\n",
    "与斐波那契数列的解法相同\n",
    "1. 状态：$dp[i]$\n",
    "2. 最优子解：$dp[i] = g(dp[i-1], dp[i-2])$\n",
    "3. 边界：$dp[0]、dp[1]$\n",
    "4. 状态转移方程：$dp[i] = dp[i-1] + dp[i-2]$\n",
    "\n",
    "时间复杂度：$O(N)$\n",
    "\n",
    "空间复杂度：$O(N)$/$O(1)$"
   ]
  },
  {
   "cell_type": "code",
   "execution_count": 3,
   "metadata": {
    "ExecuteTime": {
     "end_time": "2021-01-07T11:36:21.131183Z",
     "start_time": "2021-01-07T11:36:21.126148Z"
    },
    "hidden": true
   },
   "outputs": [],
   "source": [
    "class Solution(object):\n",
    "    def numWays(self, n):\n",
    "        \"\"\"\n",
    "        :type n: int\n",
    "        :rtype: int\n",
    "        \"\"\"\n",
    "        if n <= 1:\n",
    "            return n\n",
    "        a, b = 1, 1\n",
    "        for i in range(2, n+1):\n",
    "            a, b = b, a+b\n",
    "        return b%1000000007"
   ]
  },
  {
   "cell_type": "code",
   "execution_count": 4,
   "metadata": {
    "ExecuteTime": {
     "end_time": "2021-01-07T11:36:21.343886Z",
     "start_time": "2021-01-07T11:36:21.339683Z"
    },
    "hidden": true
   },
   "outputs": [
    {
     "data": {
      "text/plain": [
       "21"
      ]
     },
     "execution_count": 4,
     "metadata": {},
     "output_type": "execute_result"
    }
   ],
   "source": [
    "a = Solution()\n",
    "a.numWays(n=7)"
   ]
  },
  {
   "cell_type": "markdown",
   "metadata": {
    "heading_collapsed": true
   },
   "source": [
    "## 剑指 Offer 09. 用两个栈实现队列\n",
    "用两个栈实现一个队列。队列的声明如下，请实现它的两个函数 appendTail 和 deleteHead ，分别完成在队列尾部插入整数和在队列头部删除整数的功能。(若队列中没有元素，deleteHead 操作返回 -1 )\n",
    "\n",
    "示例 1：\n",
    "\n",
    "输入：\n",
    "$[\"CQueue\",\"appendTail\",\"deleteHead\",\"deleteHead\"]$和$[[],[3],[],[]]$\n",
    "\n",
    "输出：$[null,null,3,-1]$"
   ]
  },
  {
   "cell_type": "markdown",
   "metadata": {
    "hidden": true
   },
   "source": [
    "头部添加：使用辅助栈用于存储主栈pop的结果，再push回去"
   ]
  },
  {
   "cell_type": "code",
   "execution_count": 9,
   "metadata": {
    "ExecuteTime": {
     "end_time": "2021-01-07T11:59:07.954308Z",
     "start_time": "2021-01-07T11:59:07.945170Z"
    },
    "hidden": true
   },
   "outputs": [],
   "source": [
    "class CQueue(object):\n",
    "\n",
    "    def __init__(self):\n",
    "        self.stack1 = []\n",
    "        self.stack2 = []\n",
    "\n",
    "    def appendTail(self, value):\n",
    "        \"\"\"\n",
    "        :type value: int\n",
    "        :rtype: None\n",
    "        \"\"\"\n",
    "        while self.stack1:\n",
    "            self.stack2.append(self.stack1.pop())\n",
    "        self.stack1.append(value)\n",
    "        while self.stack2:\n",
    "            self.stack1.append(self.stack2.pop())\n",
    "        return self.stack1\n",
    "\n",
    "\n",
    "    def deleteHead(self):\n",
    "        \"\"\"\n",
    "        :rtype: int\n",
    "        \"\"\"\n",
    "        if len(self.stack1) == 0: \n",
    "            return -1\n",
    "        else:\n",
    "            return self.stack1.pop()\n",
    "        \n",
    "# Your CQueue object will be instantiated and called as such:\n",
    "# obj = CQueue()\n",
    "# obj.appendTail(value)\n",
    "# param_2 = obj.deleteHead()"
   ]
  },
  {
   "cell_type": "code",
   "execution_count": 12,
   "metadata": {
    "ExecuteTime": {
     "end_time": "2021-01-07T11:59:42.015609Z",
     "start_time": "2021-01-07T11:59:42.010507Z"
    },
    "hidden": true
   },
   "outputs": [
    {
     "name": "stdout",
     "output_type": "stream",
     "text": [
      "[3]\n",
      "3\n",
      "-1\n"
     ]
    }
   ],
   "source": [
    "a = CQueue()\n",
    "print(a.appendTail(3))\n",
    "print(a.deleteHead())\n",
    "print(a.deleteHead())"
   ]
  },
  {
   "cell_type": "markdown",
   "metadata": {
    "heading_collapsed": true
   },
   "source": [
    "## 剑指 Offer 11. 旋转数组的最小数字\n",
    "把一个数组最开始的若干个元素搬到数组的末尾，我们称之为数组的旋转。输入一个递增排序的数组的一个旋转，输出旋转数组的最小元素。例如，数组 [3,4,5,1,2] 为 [1,2,3,4,5] 的一个旋转，该数组的最小值为1。\n"
   ]
  },
  {
   "cell_type": "markdown",
   "metadata": {
    "hidden": true
   },
   "source": [
    "### sort( )\n",
    "时间复杂度：$O(NlogN)$\n",
    "\n",
    "空间复杂度：$O(N)$"
   ]
  },
  {
   "cell_type": "code",
   "execution_count": 14,
   "metadata": {
    "ExecuteTime": {
     "end_time": "2021-01-07T12:13:17.078063Z",
     "start_time": "2021-01-07T12:13:17.074354Z"
    },
    "hidden": true
   },
   "outputs": [],
   "source": [
    "class Solution(object):\n",
    "    def minArray(self, numbers):\n",
    "        \"\"\"\n",
    "        :type numbers: List[int]\n",
    "        :rtype: int\n",
    "        \"\"\"\n",
    "        numbers.sort()\n",
    "        return numbers[0]"
   ]
  },
  {
   "cell_type": "markdown",
   "metadata": {
    "hidden": true
   },
   "source": [
    "### 二分法\n",
    "🍓🍓🍓：分三类，防止陷入平台期（input[2, 2, 2, 0, 1]时会卡在2处）\n",
    "\n",
    "时间复杂度：$O(logN)$\n",
    "\n",
    "空间复杂度：$O(1)$"
   ]
  },
  {
   "cell_type": "code",
   "execution_count": 44,
   "metadata": {
    "ExecuteTime": {
     "end_time": "2021-01-07T12:48:10.210813Z",
     "start_time": "2021-01-07T12:48:10.204075Z"
    },
    "hidden": true
   },
   "outputs": [],
   "source": [
    "class Solution(object):\n",
    "    def minArray(self, numbers):\n",
    "        \"\"\"\n",
    "        :type numbers: List[int]\n",
    "        :rtype: int\n",
    "        \"\"\"\n",
    "        if not len(numbers):\n",
    "            return numbers[0]\n",
    "        left, right = 0, len(numbers)-1\n",
    "        while left < right:\n",
    "            mid = (right-left)//2 + left\n",
    "            print(numbers[mid], numbers[left], numbers[right])\n",
    "            print(left, mid, right)\n",
    "            if numbers[mid] > numbers[right]:\n",
    "                left = mid+1\n",
    "            elif numbers[mid] < numbers[right]:\n",
    "                right = mid\n",
    "            else:  # 防止陷入平台期（input[2, 2, 2, 0, 1]时会卡在2处）\n",
    "                right -= 1\n",
    "        return numbers[left]"
   ]
  },
  {
   "cell_type": "code",
   "execution_count": 45,
   "metadata": {
    "ExecuteTime": {
     "end_time": "2021-01-07T12:48:13.060671Z",
     "start_time": "2021-01-07T12:48:13.053682Z"
    },
    "hidden": true
   },
   "outputs": [
    {
     "name": "stdout",
     "output_type": "stream",
     "text": [
      "2 2 1\n",
      "0 2 4\n",
      "0 0 1\n",
      "3 3 4\n"
     ]
    },
    {
     "data": {
      "text/plain": [
       "0"
      ]
     },
     "execution_count": 45,
     "metadata": {},
     "output_type": "execute_result"
    }
   ],
   "source": [
    "numbers = [2, 2, 2, 0, 1]\n",
    "a = Solution()\n",
    "a.minArray(numbers)"
   ]
  },
  {
   "cell_type": "markdown",
   "metadata": {
    "hidden": true
   },
   "source": [
    "### 分治\n"
   ]
  },
  {
   "cell_type": "markdown",
   "metadata": {
    "heading_collapsed": true
   },
   "source": [
    "## 剑指 Offer 12. 矩阵中的路径\n",
    "请设计一个函数，用来判断在一个矩阵中是否存在一条包含某字符串所有字符的路径。路径可以从矩阵中的任意一格开始，每一步可以在矩阵中向左、右、上、下移动一格。如果一条路径经过了矩阵的某一格，那么该路径不能再次进入该格子。例如，在下面的3×4的矩阵中包含一条字符串“bfce”的路径（路径中的字母用加粗标出）。\n",
    "\n",
    "$[[\"a\",\"b\",\"c\",\"e\"],$\n",
    "\n",
    "$[\"s\",\"f\",\"c\",\"s\"],$\n",
    "\n",
    "$[\"a\",\"d\",\"e\",\"e\"]]$\n",
    "\n",
    "但矩阵中不包含字符串“abfb”的路径，因为字符串的第一个字符b占据了矩阵中的第一行第二个格子之后，路径不能再次进入这个格子。\n"
   ]
  },
  {
   "cell_type": "markdown",
   "metadata": {
    "hidden": true
   },
   "source": [
    "### 回溯+dfs\n",
    "1. 定义：一直dig到当前字符四周所有可能性，再返回\n",
    "2. 出口：(1)下标超出范围；(2)字符与word不匹配\n",
    "3. 拆解：向四周扩散\n",
    "\n",
    "🍓🍓🍓：递归中用栈保存变量的机制：temp\n",
    "\n",
    "时间复杂度：$O((M \\times N)^2)$\n",
    "\n",
    "空间复杂度：$O(M \\times N)$\n"
   ]
  },
  {
   "cell_type": "code",
   "execution_count": 4,
   "metadata": {
    "ExecuteTime": {
     "end_time": "2021-01-09T01:30:20.114196Z",
     "start_time": "2021-01-09T01:30:20.107104Z"
    },
    "hidden": true
   },
   "outputs": [],
   "source": [
    "class Solution:\n",
    "    def exist(self, board, word):\n",
    "        def dfs(i, j, k):\n",
    "            if i<0 or i>=m or j<0 or j>=n or board[i][j]!=word[k]:\n",
    "                return False\n",
    "            if k == len(word)-1:\n",
    "                return True\n",
    "            \n",
    "            # 当前位置匹配， 寻找四周与下一字符匹配\n",
    "            temp, board[i][j] = board[i][j], '0'\n",
    "            res = dfs(i+1, j, k+1) or dfs(i-1, j, k+1) or dfs(i, j+1, k+1) or dfs(i, j-1, k+1)\n",
    "            board[i][j] = temp\n",
    "            return res\n",
    "        \n",
    "        m, n = len(board), len(board[0])\n",
    "        k = 0\n",
    "        for i in range(m):\n",
    "            for j in range(n):\n",
    "                if dfs(i, j, k):\n",
    "                    return True\n",
    "        return False\n",
    "    \n",
    "        "
   ]
  },
  {
   "cell_type": "code",
   "execution_count": 5,
   "metadata": {
    "ExecuteTime": {
     "end_time": "2021-01-09T01:30:20.315434Z",
     "start_time": "2021-01-09T01:30:20.302913Z"
    },
    "hidden": true
   },
   "outputs": [
    {
     "data": {
      "text/plain": [
       "True"
      ]
     },
     "execution_count": 5,
     "metadata": {},
     "output_type": "execute_result"
    }
   ],
   "source": [
    "board = [[\"a\",\"b\",\"c\",\"e\"],\n",
    "[\"s\",\"f\",\"c\",\"s\"],\n",
    "[\"a\",\"d\",\"e\",\"e\"]]\n",
    "word = 'bfce'\n",
    "\n",
    "a = Solution()\n",
    "a.exist(board, word)"
   ]
  },
  {
   "cell_type": "markdown",
   "metadata": {
    "heading_collapsed": true
   },
   "source": [
    "## 剑指 Offer 13. 机器人的运动范围\n",
    "地上有一个m行n列的方格，从坐标 [0,0] 到坐标 [m-1,n-1] 。一个机器人从坐标 [0, 0] 的格子开始移动，它每次可以向左、右、上、下移动一格（不能移动到方格外），也不能进入行坐标和列坐标的数位之和大于k的格子。例如，当k为18时，机器人能够进入方格 [35, 37] ，因为3+5+3+7=18。但它不能进入方格 [35, 38]，因为3+5+3+8=19。请问该机器人能够到达多少个格子？\n",
    "\n",
    "输入：m = 2, n = 3, k = 1\n",
    "\n",
    "输出：3"
   ]
  },
  {
   "cell_type": "markdown",
   "metadata": {
    "hidden": true
   },
   "source": [
    "### 回溯+dfs\n",
    "1. 定义：统计满足要求的下标\n",
    "2. 出口：(1)下标越界；(2)下标之和大于k\n",
    "3. 拆解：1+向右走一步+向下走一步（因为从(0，0)开始，所以向左和向上的情况是重复的）\n",
    "\n",
    "🍓🍓🍓：计算下标数值之和的方法\n",
    "\n",
    "🍓🍓🍓：考虑边界条件：一行/一列/k=0\n",
    "\n",
    "时间复杂度：$O(M \\times N)$\n",
    "\n",
    "空间复杂度：$O(M \\times N)$\n"
   ]
  },
  {
   "cell_type": "code",
   "execution_count": 13,
   "metadata": {
    "ExecuteTime": {
     "end_time": "2021-01-09T10:26:52.221671Z",
     "start_time": "2021-01-09T10:26:52.215906Z"
    },
    "hidden": true
   },
   "outputs": [],
   "source": [
    "class Solution(object):\n",
    "    def movingCount(self, m, n, k):\n",
    "        \"\"\"\n",
    "        :type m: int\n",
    "        :type n: int\n",
    "        :type k: int\n",
    "        :rtype: int\n",
    "        \"\"\"\n",
    "        def dfs(i, j, si, sj):\n",
    "            if i>=m or j>=n or si+sj>k or (i, j) in visited:\n",
    "                return 0\n",
    "            visited.add((i, j))\n",
    "            return 1+dfs(i+1, j, si+1 if (i+1)%10 else si-8, sj)+dfs(i, j+1, si, sj+1 if (j+1)%10 else sj-8)\n",
    "        visited = set()\n",
    "        return dfs(0, 0, 0, 0)"
   ]
  },
  {
   "cell_type": "code",
   "execution_count": 16,
   "metadata": {
    "ExecuteTime": {
     "end_time": "2021-01-09T10:27:23.897161Z",
     "start_time": "2021-01-09T10:27:23.890175Z"
    },
    "hidden": true
   },
   "outputs": [
    {
     "data": {
      "text/plain": [
       "2"
      ]
     },
     "execution_count": 16,
     "metadata": {},
     "output_type": "execute_result"
    }
   ],
   "source": [
    "a = Solution()\n",
    "res = a.movingCount(1, 3, 1)\n",
    "res"
   ]
  },
  {
   "cell_type": "markdown",
   "metadata": {
    "heading_collapsed": true
   },
   "source": [
    "## 剑指 Offer 15. 二进制中1的个数\n",
    "请实现一个函数，输入一个整数（以二进制串形式），输出该数二进制表示中 1 的个数。例如，把 9 表示成二进制是 1001，有 2 位是 1。因此，如果输入 9，则该函数输出 2。\n"
   ]
  },
  {
   "cell_type": "markdown",
   "metadata": {
    "hidden": true
   },
   "source": [
    "### 暴力法\n"
   ]
  },
  {
   "cell_type": "code",
   "execution_count": 20,
   "metadata": {
    "ExecuteTime": {
     "end_time": "2021-01-09T14:10:32.294322Z",
     "start_time": "2021-01-09T14:10:32.289342Z"
    },
    "hidden": true
   },
   "outputs": [],
   "source": [
    "class Solution:\n",
    "    def hammingWeight(self, n: int) -> int:\n",
    "        res = 0\n",
    "        while n:\n",
    "            res += n & 1\n",
    "            n >>= 1\n",
    "        return res\n"
   ]
  },
  {
   "cell_type": "code",
   "execution_count": 22,
   "metadata": {
    "ExecuteTime": {
     "end_time": "2021-01-09T14:11:45.808136Z",
     "start_time": "2021-01-09T14:11:45.802442Z"
    },
    "hidden": true
   },
   "outputs": [
    {
     "data": {
      "text/plain": [
       "3"
      ]
     },
     "execution_count": 22,
     "metadata": {},
     "output_type": "execute_result"
    }
   ],
   "source": [
    "n = int('00000000000000000000000000001011', 2)\n",
    "a = Solution()\n",
    "a.hammingWeight(n)"
   ]
  },
  {
   "cell_type": "markdown",
   "metadata": {
    "hidden": true
   },
   "source": [
    "### 小trick\n",
    "n & n-1可以消去最右边的1"
   ]
  },
  {
   "cell_type": "code",
   "execution_count": null,
   "metadata": {
    "hidden": true
   },
   "outputs": [],
   "source": [
    "class Solution:\n",
    "    def hammingWeight(self, n: int) -> int:\n",
    "        res = 0\n",
    "        while n:\n",
    "            res += 1\n",
    "            n &= n - 1\n",
    "        return res\n"
   ]
  },
  {
   "cell_type": "markdown",
   "metadata": {
    "heading_collapsed": true
   },
   "source": [
    "## 剑指 Offer 18. 删除链表的节点\n",
    "给定单向链表的头指针和一个要删除的节点的值，定义一个函数删除该节点。\n",
    "\n",
    "返回删除后的链表的头节点。\n",
    "\n",
    "输入: head = [4,5,1,9], val = 5\n",
    "输出: [4,1,9]\n",
    "解释: 给定你链表中值为 5 的第二个节点，那么在调用了你的函数之后，该链表应变为 4 -> 1 -> 9.\n",
    "\n"
   ]
  },
  {
   "cell_type": "markdown",
   "metadata": {
    "hidden": true
   },
   "source": [
    "### 遍历\n",
    "\n",
    "时间复杂度：$O(N)$\n",
    "\n",
    "空间复杂度：$O(1)$"
   ]
  },
  {
   "cell_type": "markdown",
   "metadata": {
    "hidden": true
   },
   "source": [
    "⚠️⚠️⚠️：返回head的话，当需要删除的是头节点时，实际上得到的还是原始输入的链表。因为deleteNode只是跳过了目标节点而没有将其删除"
   ]
  },
  {
   "cell_type": "code",
   "execution_count": 34,
   "metadata": {
    "ExecuteTime": {
     "end_time": "2021-01-10T01:28:43.165610Z",
     "start_time": "2021-01-10T01:28:43.159573Z"
    },
    "hidden": true
   },
   "outputs": [],
   "source": [
    "# Definition for singly-linked list.\n",
    "class ListNode:\n",
    "    def __init__(self, x):\n",
    "        self.val = x\n",
    "        self.next = None\n",
    "        \n",
    "        \n",
    "class Solution:\n",
    "    def deleteNode(self, head, val):\n",
    "        dummy = ListNode(0)\n",
    "        dummy.next = head\n",
    "        while dummy.next:\n",
    "            if dummy.next.val == val:\n",
    "                print(dummy.val)\n",
    "                dummy.next = dummy.next.next\n",
    "            else:\n",
    "                dummy = dummy.next\n",
    "        return head"
   ]
  },
  {
   "cell_type": "code",
   "execution_count": 36,
   "metadata": {
    "ExecuteTime": {
     "end_time": "2021-01-10T01:35:43.036139Z",
     "start_time": "2021-01-10T01:35:43.031689Z"
    },
    "hidden": true
   },
   "outputs": [],
   "source": [
    "class Solution:\n",
    "    def deleteNode(self, head, val):\n",
    "        dummy = ListNode(0)\n",
    "        dummy.next = head\n",
    "        res = dummy\n",
    "        while dummy.next:\n",
    "            if dummy.next.val == val:\n",
    "                print(dummy.val)\n",
    "                dummy.next = dummy.next.next\n",
    "            else:\n",
    "                dummy = dummy.next\n",
    "        return res.next"
   ]
  },
  {
   "cell_type": "code",
   "execution_count": 37,
   "metadata": {
    "ExecuteTime": {
     "end_time": "2021-01-10T01:35:43.353343Z",
     "start_time": "2021-01-10T01:35:43.347506Z"
    },
    "hidden": true
   },
   "outputs": [
    {
     "name": "stdout",
     "output_type": "stream",
     "text": [
      "0\n"
     ]
    },
    {
     "data": {
      "text/plain": [
       "2"
      ]
     },
     "execution_count": 37,
     "metadata": {},
     "output_type": "execute_result"
    }
   ],
   "source": [
    "l1, l2 = ListNode(1), ListNode(2)\n",
    "l3, l4 = ListNode(3), ListNode(4)\n",
    "# l1\n",
    "l3.next = l4\n",
    "l2.next = l3\n",
    "l1.next = l2\n",
    "\n",
    "a = Solution()\n",
    "res = a.deleteNode(l1, 1)\n",
    "res.val"
   ]
  },
  {
   "cell_type": "markdown",
   "metadata": {
    "hidden": true
   },
   "source": [
    "### $O(1)$时间的方法\n",
    "输入的node不是数值，而是待删除的节点，详见：面试题 02.03. 删除中间节点\n",
    "\n",
    "https://leetcode-cn.com/problems/delete-middle-node-lcci/"
   ]
  },
  {
   "cell_type": "code",
   "execution_count": null,
   "metadata": {
    "hidden": true
   },
   "outputs": [],
   "source": [
    "# Definition for singly-linked list.\n",
    "# class ListNode:\n",
    "#     def __init__(self, x):\n",
    "#         self.val = x\n",
    "#         self.next = None\n",
    "\n",
    "class Solution:\n",
    "    def deleteNode(self, node):\n",
    "        \"\"\"\n",
    "        :type node: ListNode\n",
    "        :rtype: void Do not return anything, modify node in-place instead.\n",
    "        \"\"\"\n",
    "        node.val = node.next.val\n",
    "        node.next = node.next.next"
   ]
  },
  {
   "cell_type": "markdown",
   "metadata": {},
   "source": [
    "## 剑指 Offer 14- I. 剪绳子\n",
    "给你一根长度为 n 的绳子，请把绳子剪成整数长度的 m 段（m、n都是整数，n>1并且m>1），每段绳子的长度记为 k[0],k[1]...k[m-1] 。请问 k[0]*k[1]*...*k[m-1] 可能的最大乘积是多少？例如，当绳子的长度是8时，我们把它剪成长度"
   ]
  },
  {
   "cell_type": "markdown",
   "metadata": {},
   "source": [
    "### dp\n",
    "🍓🍓🍓：考虑边界条件\n",
    "1. 状态：$dp[]$\n",
    "2. 最优子解：$dp[n] = g(dp[i], dp[n-i])$\n",
    "3. 状态转移方程：$dp[n] = dp[i]*dp[n-i]$\n",
    "4. 边界：$dp[0], dp[1], dp[2], dp[3] = 0, 1, 1, 2$因为必须剪至少一刀\n",
    "\n",
    "时间复杂度：$O(N)$\n",
    "\n",
    "空间复杂度：$O(1)$\n",
    "\n",
    "（该方法可以用于剪绳子ii）"
   ]
  },
  {
   "cell_type": "code",
   "execution_count": 22,
   "metadata": {
    "ExecuteTime": {
     "end_time": "2021-01-11T07:56:11.151868Z",
     "start_time": "2021-01-11T07:56:11.144405Z"
    }
   },
   "outputs": [],
   "source": [
    "class Solution(object):\n",
    "    def cuttingRope(self, n):\n",
    "        \"\"\"\n",
    "        :type n: int\n",
    "        :rtype: int\n",
    "        \"\"\"\n",
    "        if n <= 1:\n",
    "            return 0\n",
    "        elif 2 <= n <= 3:\n",
    "            return n-1\n",
    "        else:\n",
    "            dp = [0 for _ in range(n+1)]\n",
    "            dp[0], dp[1], dp[2], dp[3] = 0, 1, 2, 3\n",
    "            for i in range(4, n+1):\n",
    "                for j in range(1, i):\n",
    "                    temp = dp[j]*dp[i-j]\n",
    "    #                 print(temp, i, j)\n",
    "                    dp[i] = max(temp, dp[i])\n",
    "    #             print(f'dp = {dp}')\n",
    "            dp[0], dp[1], dp[2], dp[3] = 0, 1, 1, 2\n",
    "        return dp[-1]%1000000007"
   ]
  },
  {
   "cell_type": "code",
   "execution_count": 23,
   "metadata": {
    "ExecuteTime": {
     "end_time": "2021-01-11T07:56:11.352902Z",
     "start_time": "2021-01-11T07:56:11.347711Z"
    },
    "scrolled": true
   },
   "outputs": [
    {
     "data": {
      "text/plain": [
       "1"
      ]
     },
     "execution_count": 23,
     "metadata": {},
     "output_type": "execute_result"
    }
   ],
   "source": [
    "a = Solution()\n",
    "a.cuttingRope(2)"
   ]
  },
  {
   "cell_type": "markdown",
   "metadata": {},
   "source": [
    "过于冗余，找规律发现每个n的最优情况按照周期为3地变化\n",
    "\n",
    "且dp只需保存3个空间用于递推\n",
    "\n",
    "时间复杂度：$O(N)$\n",
    "\n",
    "空间复杂度：$O(1)$"
   ]
  },
  {
   "cell_type": "code",
   "execution_count": null,
   "metadata": {},
   "outputs": [],
   "source": [
    "class Solution:\n",
    "    def cuttingRope(self, n):\n",
    "        dp = [0, 1, 1]\n",
    "        \n",
    "        for i in range(3, n + 1):\n",
    "            dp[i % 3] = max(max(dp[(i - 1) % 3], i - 1), 2 * max(dp[(i - 2) % 3], i - 2), 3 * max(dp[(i - 3) % 3], i - 3))\n",
    "        return dp[n % 3]\n"
   ]
  },
  {
   "cell_type": "markdown",
   "metadata": {},
   "source": [
    "### 贪婪算法"
   ]
  },
  {
   "cell_type": "markdown",
   "metadata": {},
   "source": [
    "## 剑指 Offer 16. 数值的整数次方\n",
    "实现函数double Power(double base, int exponent)，求base的exponent次方。不得使用库函数，同时不需要考虑大数问题。\n",
    "\n",
    "输入: 2.00000, 10\n",
    "\n",
    "输出: 1024.00000"
   ]
  },
  {
   "cell_type": "markdown",
   "metadata": {},
   "source": [
    "注意边界情况"
   ]
  },
  {
   "cell_type": "code",
   "execution_count": 24,
   "metadata": {
    "ExecuteTime": {
     "end_time": "2021-01-12T01:13:37.357548Z",
     "start_time": "2021-01-12T01:13:37.354336Z"
    }
   },
   "outputs": [],
   "source": [
    "class Solution(object):\n",
    "    def myPow(self, x, n):\n",
    "        \"\"\"\n",
    "        :type x: float\n",
    "        :type n: int\n",
    "        :rtype: float\n",
    "        \"\"\"\n",
    "        res = 1\n",
    "        while n:\n",
    "            res *= x\n",
    "        return res"
   ]
  },
  {
   "cell_type": "code",
   "execution_count": null,
   "metadata": {},
   "outputs": [],
   "source": [
    "a = Solution()"
   ]
  }
 ],
 "metadata": {
  "author": "m",
  "kernelspec": {
   "display_name": "Python 3",
   "language": "python",
   "name": "python3"
  },
  "language_info": {
   "codemirror_mode": {
    "name": "ipython",
    "version": 3
   },
   "file_extension": ".py",
   "mimetype": "text/x-python",
   "name": "python",
   "nbconvert_exporter": "python",
   "pygments_lexer": "ipython3",
   "version": "3.8.5"
  },
  "latex_envs": {
   "LaTeX_envs_menu_present": true,
   "autoclose": false,
   "autocomplete": true,
   "bibliofile": "biblio.bib",
   "cite_by": "apalike",
   "current_citInitial": 1,
   "eqLabelWithNumbers": true,
   "eqNumInitial": 1,
   "hotkeys": {
    "equation": "Ctrl-E",
    "itemize": "Ctrl-I"
   },
   "labels_anchors": false,
   "latex_user_defs": false,
   "report_style_numbering": false,
   "user_envs_cfg": false
  },
  "varInspector": {
   "cols": {
    "lenName": 16,
    "lenType": 16,
    "lenVar": 40
   },
   "kernels_config": {
    "python": {
     "delete_cmd_postfix": "",
     "delete_cmd_prefix": "del ",
     "library": "var_list.py",
     "varRefreshCmd": "print(var_dic_list())"
    },
    "r": {
     "delete_cmd_postfix": ") ",
     "delete_cmd_prefix": "rm(",
     "library": "var_list.r",
     "varRefreshCmd": "cat(var_dic_list()) "
    }
   },
   "types_to_exclude": [
    "module",
    "function",
    "builtin_function_or_method",
    "instance",
    "_Feature"
   ],
   "window_display": false
  }
 },
 "nbformat": 4,
 "nbformat_minor": 4
}
