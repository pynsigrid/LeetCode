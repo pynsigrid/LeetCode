{
 "cells": [
  {
   "cell_type": "code",
   "execution_count": null,
   "metadata": {},
   "outputs": [],
   "source": []
  },
  {
   "cell_type": "markdown",
   "metadata": {},
   "source": [
    "## 15.三数之和\n",
    "20200818\n",
    "\n",
    "暴力搜索、优化的暴力搜索、双指针法\n"
   ]
  },
  {
   "cell_type": "markdown",
   "metadata": {},
   "source": [
    "### 暴力搜索"
   ]
  },
  {
   "cell_type": "markdown",
   "metadata": {
    "ExecuteTime": {
     "end_time": "2020-08-18T02:02:36.866257Z",
     "start_time": "2020-08-18T02:02:36.861485Z"
    }
   },
   "source": [
    "1. 不重复的三次遍历\n",
    "2. ans中结果不重复\n",
    "3. 时间复杂度$O(n^3)$"
   ]
  },
  {
   "cell_type": "code",
   "execution_count": 22,
   "metadata": {
    "ExecuteTime": {
     "end_time": "2020-08-18T02:04:35.462526Z",
     "start_time": "2020-08-18T02:04:35.457399Z"
    }
   },
   "outputs": [],
   "source": [
    "def threeSum(nums):\n",
    "#     nums.sort()\n",
    "    ans = []\n",
    "    for a in range(len(nums)):\n",
    "#         print(f'a={nums[a]}')\n",
    "        for b in range(a+1, len(nums)):\n",
    "#             print(f'b={nums[b]}')\n",
    "            for c in range(b+1, len(nums)):\n",
    "                if nums[a]+nums[b]+nums[c]==0:\n",
    "                    lista = [nums[a], nums[b], nums[c]]\n",
    "                    lista.sort()\n",
    "                    if lista not in ans:\n",
    "                        ans.append(lista)\n",
    "#                     ans.append([nums[a], nums[b], nums[c]])\n",
    "    return ans\n",
    "    "
   ]
  },
  {
   "cell_type": "markdown",
   "metadata": {},
   "source": [
    "### 双指针\n",
    "1. 利用有序数组的顺序遍历\n",
    "2. 时间复杂度$O(n^2)$"
   ]
  },
  {
   "cell_type": "code",
   "execution_count": 46,
   "metadata": {
    "ExecuteTime": {
     "end_time": "2020-08-18T02:29:36.037489Z",
     "start_time": "2020-08-18T02:29:36.031667Z"
    }
   },
   "outputs": [],
   "source": [
    "def threeSum(nums):\n",
    "    nums.sort()\n",
    "    ans = []\n",
    "    for a in range(len(nums)):\n",
    "        left, right = a+1, len(nums)-1\n",
    "        while left < right:\n",
    "#             print(f'left, right = {left}, {right}')\n",
    "            if nums[left]+nums[right] < nums[a]*(-1):\n",
    "                left += 1\n",
    "            elif nums[left]+nums[right] > nums[a]*(-1):\n",
    "                right -= 1\n",
    "            else:\n",
    "                lista = [nums[a], nums[left], nums[right]]\n",
    "                if lista not in ans:\n",
    "                    ans.append(lista)\n",
    "#                 break  # break方法无法全部遍历\n",
    "                left += 1\n",
    "                right -= 1\n",
    "    return ans\n",
    "    "
   ]
  },
  {
   "cell_type": "markdown",
   "metadata": {},
   "source": [
    "### 优化的双指针\n",
    "1. 去重\n",
    "2. 去除不可能的方案"
   ]
  },
  {
   "cell_type": "code",
   "execution_count": 57,
   "metadata": {
    "ExecuteTime": {
     "end_time": "2020-08-18T02:54:06.262428Z",
     "start_time": "2020-08-18T02:54:06.255016Z"
    }
   },
   "outputs": [],
   "source": [
    "def threeSum(nums):\n",
    "    nums.sort()\n",
    "    ans = []\n",
    "    for a in range(len(nums)):\n",
    "        if nums[a] > 0: return ans  # 去除不可能的方案\n",
    "        if a > 0 and nums[a] == nums[a-1]:continue  # 去重\n",
    "        left, right = a+1, len(nums)-1\n",
    "        while left < right:\n",
    "#             print(f'left, right = {left}, {right}')\n",
    "            if nums[left]+nums[right] < nums[a]*(-1):\n",
    "                left += 1\n",
    "            elif nums[left]+nums[right] > nums[a]*(-1):\n",
    "                right -= 1\n",
    "            else:\n",
    "                lista = [nums[a], nums[left], nums[right]]\n",
    "                if lista not in ans:\n",
    "                    ans.append(lista)\n",
    "                while(left<right and nums[left]==nums[left+1]):  # 去重\n",
    "                    left += 1\n",
    "                while(left<right and nums[right]==nums[right-1]):  # 去重\n",
    "                    right -= 1\n",
    "                left += 1\n",
    "                right -= 1\n",
    "    return ans\n",
    "    "
   ]
  },
  {
   "cell_type": "code",
   "execution_count": 58,
   "metadata": {
    "ExecuteTime": {
     "end_time": "2020-08-18T02:54:06.387317Z",
     "start_time": "2020-08-18T02:54:06.383196Z"
    }
   },
   "outputs": [
    {
     "data": {
      "text/plain": [
       "[[-1, -1, 2], [-1, 0, 1]]"
      ]
     },
     "execution_count": 58,
     "metadata": {},
     "output_type": "execute_result"
    }
   ],
   "source": [
    "nums = [-1, 0, 1, 2, -1, -4]\n",
    "threeSum(nums)"
   ]
  },
  {
   "cell_type": "markdown",
   "metadata": {},
   "source": [
    "## 盛水最多的容器\n",
    "20200819"
   ]
  },
  {
   "cell_type": "markdown",
   "metadata": {},
   "source": [
    "### 暴力搜索"
   ]
  },
  {
   "cell_type": "code",
   "execution_count": 3,
   "metadata": {
    "ExecuteTime": {
     "end_time": "2020-08-19T14:13:20.168701Z",
     "start_time": "2020-08-19T14:13:20.163871Z"
    }
   },
   "outputs": [],
   "source": [
    "def maxArea(height):\n",
    "    max_vol = 0\n",
    "    for i in range(len(height)):\n",
    "        for j in range(i+1, len(height)):\n",
    "            vol = (j-i)*min(height[i], height[j])\n",
    "            max_vol = max(max_vol, vol)\n",
    "    return max_vol"
   ]
  },
  {
   "cell_type": "markdown",
   "metadata": {},
   "source": [
    "### 优化的暴力搜索：反向遍历"
   ]
  },
  {
   "cell_type": "code",
   "execution_count": 29,
   "metadata": {
    "ExecuteTime": {
     "end_time": "2020-08-19T14:24:00.390492Z",
     "start_time": "2020-08-19T14:24:00.384561Z"
    }
   },
   "outputs": [],
   "source": [
    "def maxArea(height):\n",
    "    max_vol = 0\n",
    "    for i in range(len(height)):\n",
    "        if height[i]<height[i-1]:continue\n",
    "        for j in range(len(height)-1, i, -1):\n",
    "#             print(i, j)\n",
    "            if j<len(height)-2:\n",
    "                if height[j]<height[j+1]:\n",
    "                    continue\n",
    "            vol = (j-i)*min(height[i], height[j])\n",
    "            max_vol = max(max_vol, vol)\n",
    "    return max_vol"
   ]
  },
  {
   "cell_type": "markdown",
   "metadata": {},
   "source": [
    "### 双指针\n",
    "非有序数组也可以使用双指针，利用指针实现大小比较"
   ]
  },
  {
   "cell_type": "code",
   "execution_count": 33,
   "metadata": {
    "ExecuteTime": {
     "end_time": "2020-08-19T14:27:58.233949Z",
     "start_time": "2020-08-19T14:27:58.228385Z"
    }
   },
   "outputs": [],
   "source": [
    "def maxArea(height):\n",
    "    max_vol = 0\n",
    "    left, right = 0, len(height)-1\n",
    "    while left<right:\n",
    "        cur_vol = (right-left)*min(height[right], height[left])\n",
    "        max_vol = max(max_vol, cur_vol)\n",
    "#         print(leftrightght)\n",
    "        if height[left]<height[right]:\n",
    "            left+=1\n",
    "        else:\n",
    "            right-=1\n",
    "    return max_vol"
   ]
  },
  {
   "cell_type": "code",
   "execution_count": 34,
   "metadata": {
    "ExecuteTime": {
     "end_time": "2020-08-19T14:27:58.430873Z",
     "start_time": "2020-08-19T14:27:58.424006Z"
    },
    "scrolled": true
   },
   "outputs": [
    {
     "name": "stdout",
     "output_type": "stream",
     "text": [
      "0 8\n",
      "1 8\n",
      "1 7\n",
      "1 6\n",
      "1 5\n",
      "1 4\n",
      "1 3\n",
      "1 2\n"
     ]
    },
    {
     "data": {
      "text/plain": [
       "49"
      ]
     },
     "execution_count": 34,
     "metadata": {},
     "output_type": "execute_result"
    }
   ],
   "source": [
    "height = [1, 8, 6, 2, 5, 4, 8, 3, 7]\n",
    "maxArea(height)"
   ]
  },
  {
   "cell_type": "markdown",
   "metadata": {},
   "source": [
    "## 33. 搜索旋转排序数组"
   ]
  },
  {
   "cell_type": "code",
   "execution_count": 76,
   "metadata": {
    "ExecuteTime": {
     "end_time": "2020-08-20T03:27:53.093563Z",
     "start_time": "2020-08-20T03:27:53.083819Z"
    }
   },
   "outputs": [],
   "source": [
    "def search(nums, target):\n",
    "    if len(nums)<=0: return None\n",
    "    left, right = 0, len(nums)-1\n",
    "    while left <= right:\n",
    "        mid = (right-left)//2+left\n",
    "        if nums[mid] == nums[left]: return mid\n",
    "        elif nums[mid] > nums[left]:\n",
    "#             right = mid\n",
    "            if target in nums[left:mid+1]:\n",
    "                target_idx = findTarget(nums, target, left, right=mid)\n",
    "                return target_idx\n",
    "            else:\n",
    "                left = mid+1\n",
    "        else:\n",
    "#             left = mid+1\n",
    "#             print(left, mid, right)\n",
    "            if target in nums[mid+1:right+1]:\n",
    "                target_idx = findTarget(nums, target, mid+1, right)\n",
    "                return target_idx\n",
    "            else:\n",
    "                right = mid\n",
    "                \n",
    "def findTarget(nums, target, left, right):    \n",
    "    while left <= right:\n",
    "        mid = (right-left)//2+left\n",
    "        if nums[mid] < target:\n",
    "            left = mid+1\n",
    "        elif nums[mid] > target:\n",
    "            right = mid\n",
    "        else:\n",
    "            return mid"
   ]
  },
  {
   "cell_type": "code",
   "execution_count": 77,
   "metadata": {
    "ExecuteTime": {
     "end_time": "2020-08-20T03:27:53.359656Z",
     "start_time": "2020-08-20T03:27:53.353617Z"
    },
    "scrolled": true
   },
   "outputs": [
    {
     "data": {
      "text/plain": [
       "6"
      ]
     },
     "execution_count": 77,
     "metadata": {},
     "output_type": "execute_result"
    }
   ],
   "source": [
    "nums = [7,0,1,2,3,4,5,6]\n",
    "target = 5\n",
    "search(nums, target) "
   ]
  },
  {
   "cell_type": "code",
   "execution_count": null,
   "metadata": {},
   "outputs": [],
   "source": []
  },
  {
   "cell_type": "code",
   "execution_count": null,
   "metadata": {},
   "outputs": [],
   "source": []
  }
 ],
 "metadata": {
  "kernelspec": {
   "display_name": "Python 3",
   "language": "python",
   "name": "python3"
  },
  "language_info": {
   "codemirror_mode": {
    "name": "ipython",
    "version": 3
   },
   "file_extension": ".py",
   "mimetype": "text/x-python",
   "name": "python",
   "nbconvert_exporter": "python",
   "pygments_lexer": "ipython3",
   "version": "3.7.6"
  },
  "toc": {
   "base_numbering": 1,
   "nav_menu": {},
   "number_sections": true,
   "sideBar": true,
   "skip_h1_title": false,
   "title_cell": "Table of Contents",
   "title_sidebar": "Contents",
   "toc_cell": false,
   "toc_position": {},
   "toc_section_display": true,
   "toc_window_display": true
  },
  "varInspector": {
   "cols": {
    "lenName": 16,
    "lenType": 16,
    "lenVar": 40
   },
   "kernels_config": {
    "python": {
     "delete_cmd_postfix": "",
     "delete_cmd_prefix": "del ",
     "library": "var_list.py",
     "varRefreshCmd": "print(var_dic_list())"
    },
    "r": {
     "delete_cmd_postfix": ") ",
     "delete_cmd_prefix": "rm(",
     "library": "var_list.r",
     "varRefreshCmd": "cat(var_dic_list()) "
    }
   },
   "types_to_exclude": [
    "module",
    "function",
    "builtin_function_or_method",
    "instance",
    "_Feature"
   ],
   "window_display": false
  }
 },
 "nbformat": 4,
 "nbformat_minor": 4
}
