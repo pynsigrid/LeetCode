{
 "cells": [
  {
   "cell_type": "code",
   "execution_count": null,
   "metadata": {},
   "outputs": [],
   "source": [
    "class opencvsr:\n",
    "    def __init__(self, model, scale):\n",
    "        self.model = \n",
    "def upscale_normal_pic(src, dst, )"
   ]
  },
  {
   "cell_type": "code",
   "execution_count": null,
   "metadata": {},
   "outputs": [],
   "source": [
    "import argparse\n",
    "import time\n",
    "import cv2\n",
    "from cv2 import dnn_superres\n",
    "import os\n",
    "from utils import crop\n",
    "\n",
    "\n",
    "def super_res_image(img_path, out_path, model_path):\n",
    "    modelName = model_path.split(\"/\")[-1].split(\"_\")[0].lower()\n",
    "    modelScale = model_path.split(\"_x\")[-1]\n",
    "    modelScale = int(modelScale[:modelScale.find(\".\")])\n",
    "    sr = dnn_superres.DnnSuperResImpl_create()\n",
    "    sr.readModel(model_path)\n",
    "    sr.setModel(modelName, modelScale)\n",
    "    _, filename = os.path.split(img_path)\n",
    "    cols=600\n",
    "    rows=600\n",
    "\n",
    "    if os.path.splitext(filename)[-1] not in (\".png\", \".jpg\", \".jpeg\", \".bmp\"):\n",
    "        print(\"can't open file: {filename}\")\n",
    "    else:\n",
    "        orig = cv2.imread(img_path, 1)\n",
    "        if orig.shape[0]*orig.shape[1] <= cols*rows:\n",
    "            upscaled = sr.upsample(orig)\n",
    "            out_filename = filename.split(\".\")[0] + \"_\" + str(modelName) + \"_x\" + str(modelScale) + \".png\"\n",
    "            cv2.imwrite(out_path + \"/\" + str(out_filename), upscaled, [int(cv2.IMWRITE_PNG_COMPRESSION), 0])\n",
    "        else:\n",
    "            # crop, sr then merge\n",
    "            crop_path, num_cols, num_rows = crop.clip_one_picture(path=os.path.split(img_path)[0],filename=os.path.split(img_path)[-1],cols=cols,rows=rows)\n",
    "            for i, filename in enumerate(os.listdir(crop_path)):\n",
    "                img_path = crop_path + filename\n",
    "                croped = cv2.imread(img_path, 1)\n",
    "                upscaled = sr.upsample(croped)\n",
    "                cv2.imwrite(img_path, upscaled, [int(cv2.IMWRITE_PNG_COMPRESSION), 0])\n",
    "                \n",
    "            merge_upscaled = crop.merge_picture(crop_path,sum_cols=modelScale*orig.shape[0],sum_rows=modelScale*orig.shape[1],cols=modelScale*cols,rows=modelScale*rows)\n",
    "            out_filename = filename.split(\".\")[0] + \"_\" + str(modelName) + \"_x\" + str(modelScale) + \".png\"\n",
    "            cv2.imwrite(out_path + \"/\" + str(out_filename), merge_upscaled, [int(cv2.IMWRITE_PNG_COMPRESSION), 0])\n",
    "\n",
    "def super_res(file_path, out_path, model_path):\n",
    "\n",
    "    # modelName = model_path.split(\"/\")[-1].split(\"_\")[0].lower()\n",
    "    # modelScale = model_path.split(\"_x\")[-1]\n",
    "    # modelScale = int(modelScale[:modelScale.find(\".\")])\n",
    "    # sr = dnn_superres.DnnSuperResImpl_create()\n",
    "    # sr.readModel(model_path)\n",
    "    # sr.setModel(modelName, modelScale)\n",
    "\n",
    "    # check output and input(file or dir) path\n",
    "    if not os.path.exists(out_path):\n",
    "        os.makedirs(out_path)\n",
    "    if os.path.isfile(file_path):\n",
    "        super_res_image(img_path=file_path, out_path=out_path, model_path=model_path)\n",
    "    elif os.path.isdir(file_path):\n",
    "        for filename in os.listdir(file_path):\n",
    "            img_path = file_path + \"/\" + filename\n",
    "            super_res_image(img_path=img_path, out_path=out_path, model_path=model_path)\n",
    "    else:\n",
    "        print(f\"cannot read path: {file_path}, please try again.\")\n",
    "\n",
    "    return\n",
    "\n",
    "\n",
    "def main():\n",
    "    model_path = \"./models/FSRCNN_x3.pb\"\n",
    "    file_path = \"./examples/\" \n",
    "    img_path = file_path + \"pexels-any-lane-5727731.png\"\n",
    "    out_path = file_path + \"result\"\n",
    "    super_res(file_path, out_path, model_path)\n",
    "    print(\"success!!!\")\n",
    "\n",
    "\n",
    "if __name__ == \"__main__\":\n",
    "    main()"
   ]
  }
 ],
 "metadata": {
  "kernelspec": {
   "display_name": "Python 3",
   "language": "python",
   "name": "python3"
  },
  "language_info": {
   "codemirror_mode": {
    "name": "ipython",
    "version": 3
   },
   "file_extension": ".py",
   "mimetype": "text/x-python",
   "name": "python",
   "nbconvert_exporter": "python",
   "pygments_lexer": "ipython3",
   "version": "3.8.5"
  },
  "latex_envs": {
   "LaTeX_envs_menu_present": true,
   "autoclose": false,
   "autocomplete": true,
   "bibliofile": "biblio.bib",
   "cite_by": "apalike",
   "current_citInitial": 1,
   "eqLabelWithNumbers": true,
   "eqNumInitial": 1,
   "hotkeys": {
    "equation": "Ctrl-E",
    "itemize": "Ctrl-I"
   },
   "labels_anchors": false,
   "latex_user_defs": false,
   "report_style_numbering": false,
   "user_envs_cfg": false
  },
  "varInspector": {
   "cols": {
    "lenName": 16,
    "lenType": 16,
    "lenVar": 40
   },
   "kernels_config": {
    "python": {
     "delete_cmd_postfix": "",
     "delete_cmd_prefix": "del ",
     "library": "var_list.py",
     "varRefreshCmd": "print(var_dic_list())"
    },
    "r": {
     "delete_cmd_postfix": ") ",
     "delete_cmd_prefix": "rm(",
     "library": "var_list.r",
     "varRefreshCmd": "cat(var_dic_list()) "
    }
   },
   "types_to_exclude": [
    "module",
    "function",
    "builtin_function_or_method",
    "instance",
    "_Feature"
   ],
   "window_display": false
  }
 },
 "nbformat": 4,
 "nbformat_minor": 4
}
