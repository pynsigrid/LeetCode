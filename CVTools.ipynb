{
 "cells": [
  {
   "cell_type": "markdown",
   "metadata": {},
   "source": [
    "# 常用工具\n",
    "\n"
   ]
  },
  {
   "cell_type": "markdown",
   "metadata": {},
   "source": [
    "## IOU"
   ]
  },
  {
   "cell_type": "code",
   "execution_count": 27,
   "metadata": {
    "ExecuteTime": {
     "end_time": "2021-12-02T05:51:25.384423Z",
     "start_time": "2021-12-02T05:51:25.377532Z"
    }
   },
   "outputs": [],
   "source": [
    "# 1对1的iou计算\n",
    "def iou_count(bboxA, bboxB):\n",
    "    # 交叉区域的坐标\n",
    "    xa = max(bboxA[0], bboxB[0])\n",
    "    ya = max(bboxA[1], bboxB[1])\n",
    "    xb = min(bboxA[2], bboxB[2])\n",
    "    yb = min(bboxA[3], bboxB[3])\n",
    "\n",
    "    # 交叉面积计算\n",
    "    inter = max(0, xb-xa+1)*max(0, yb-ya+1)  # 🍓保证两个完全重叠bbox的iou为1\n",
    "\n",
    "    # bboxA和bboxB的面积\n",
    "    areaA = (bboxA[2]-bboxA[0]+1)*(bboxA[3]-bboxA[1]+1)\n",
    "    areaB = (bboxB[2]-bboxB[0]+1)*(bboxB[3]-bboxB[1]+1)\n",
    "    \n",
    "    # 计算iou\n",
    "    iou = inter/float(areaA+areaB-inter)\n",
    "\n",
    "    return iou"
   ]
  },
  {
   "cell_type": "code",
   "execution_count": 30,
   "metadata": {
    "ExecuteTime": {
     "end_time": "2021-12-02T05:51:31.359034Z",
     "start_time": "2021-12-02T05:51:31.354264Z"
    }
   },
   "outputs": [
    {
     "name": "stdout",
     "output_type": "stream",
     "text": [
      "16 49 0.16071428571428573\n",
      "0.16071428571428573\n"
     ]
    }
   ],
   "source": [
    "bboxA, bboxB = [1,1,4,4], [2,2,8,8]\n",
    "print(iou_count(bboxA, bboxB))"
   ]
  },
  {
   "cell_type": "markdown",
   "metadata": {},
   "source": [
    "## NMS"
   ]
  },
  {
   "cell_type": "markdown",
   "metadata": {},
   "source": [
    "#TODO: 使用上述iou_count的一对一计算，不用numpy"
   ]
  },
  {
   "cell_type": "code",
   "execution_count": 81,
   "metadata": {
    "ExecuteTime": {
     "end_time": "2021-12-02T07:58:07.657561Z",
     "start_time": "2021-12-02T07:58:07.647711Z"
    }
   },
   "outputs": [],
   "source": [
    "def nms(dets, thre):\n",
    "    x1, y1, x2, y2, scores = dets[:, 0], dets[:, 1], dets[:, 2], dets[:, 3], dets[:, 4]\n",
    "    areas = abs(x2-x1+1)*abs(y2-y1+1)\n",
    "    order = scores.argsort()[::-1]\n",
    "    \n",
    "    res_idx = []\n",
    "    while order.size>0:\n",
    "        target_idx = order[0]\n",
    "        res_idx.append(target_idx)\n",
    "        \n",
    "        xa = np.maximum(x1[target_idx], x1[order[1:]])  # np.maximum逐位比较\n",
    "        ya = np.maximum(y1[target_idx], y1[order[1:]])\n",
    "        xb = np.minimum(x2[target_idx], x2[order[1:]])\n",
    "        yb = np.minimum(y2[target_idx], y2[order[1:]])\n",
    "        \n",
    "        inter = np.maximum(0, xb-xa+1)*np.maximum(0, yb-ya+1)\n",
    "        iou = inter / (areas[target_idx]+areas[order[1:]]-inter)\n",
    "        \n",
    "        skip_idx = np.where(iou<=thre)[0]\n",
    "        print(skip_idx, order, order[skip_idx+1])\n",
    "        order = order[skip_idx+1]\n",
    "    \n",
    "    return res_idx"
   ]
  },
  {
   "cell_type": "code",
   "execution_count": 82,
   "metadata": {
    "ExecuteTime": {
     "end_time": "2021-12-02T07:58:07.878894Z",
     "start_time": "2021-12-02T07:58:07.875031Z"
    }
   },
   "outputs": [
    {
     "name": "stdout",
     "output_type": "stream",
     "text": [
      "[1 2] [0 1 2 3] [2 3]\n",
      "[0] [2 3] [3]\n",
      "[] [3] []\n"
     ]
    }
   ],
   "source": [
    "dets = np.array([[30, 20, 230, 200, 1], \n",
    "                 [50, 50, 260, 220, 0.9],\n",
    "                 [210, 30, 420, 5, 0.8],\n",
    "                 [430, 280, 460, 360, 0.7]])\n",
    "thresh = 0.35\n",
    "keep_dets = nms(dets, thresh)"
   ]
  },
  {
   "cell_type": "code",
   "execution_count": 84,
   "metadata": {
    "ExecuteTime": {
     "end_time": "2021-12-02T07:58:20.634464Z",
     "start_time": "2021-12-02T07:58:20.617835Z"
    }
   },
   "outputs": [
    {
     "name": "stdout",
     "output_type": "stream",
     "text": [
      "+++ [1 2] [0 1 2 3] [2 3]\n",
      "+++ [0] [2 3] [3]\n",
      "+++ [] [3] []\n",
      "[0, 2, 3]\n",
      "[[ 30.   20.  230.  200.    1. ]\n",
      " [210.   30.  420.    5.    0.8]\n",
      " [430.  280.  460.  360.    0.7]]\n"
     ]
    }
   ],
   "source": [
    "# python3\n",
    "import numpy as np\n",
    "\n",
    "def py_nms(dets, thresh):\n",
    "    # 1. 对所有dets中的点处理，计算每一个点的面积\n",
    "    # x1、y1、x2、y2、以及score赋值\n",
    "    x1 = dets[:, 0]\n",
    "    y1 = dets[:, 1]\n",
    "    x2 = dets[:, 2]\n",
    "    y2 = dets[:, 3]\n",
    "    scores = dets[:, 4]\n",
    "\n",
    "    # 每一个候选框的面积\n",
    "    areas = (x2 - x1 + 1) * (y2 - y1 + 1)\n",
    "    #order是按照score降序排序的\n",
    "    order = scores.argsort()[::-1]\n",
    "\n",
    "    keep = []\n",
    "    while order.size > 0:\n",
    "        i = order[0]\n",
    "        keep.append(i)\n",
    "        #计算当前概率最大矩形框与其他矩形框的相交框的坐标，会用到numpy的broadcast机制，得到的是向量\n",
    "        xx1 = np.maximum(x1[i], x1[order[1:]])\n",
    "        yy1 = np.maximum(y1[i], y1[order[1:]])\n",
    "        xx2 = np.minimum(x2[i], x2[order[1:]])\n",
    "        yy2 = np.minimum(y2[i], y2[order[1:]])\n",
    "\n",
    "        #计算相交框的面积,注意矩形框不相交时w或h算出来会是负数，用0代替\n",
    "        w = np.maximum(0.0, xx2 - xx1 + 1)\n",
    "        h = np.maximum(0.0, yy2 - yy1 + 1)\n",
    "        inter = w * h\n",
    "        #计算重叠度IOU：重叠面积/（面积1+面积2-重叠面积）\n",
    "        ovr = inter / (areas[i] + areas[order[1:]] - inter)\n",
    "\n",
    "        #找到重叠度不高于阈值的矩形框索引\n",
    "        inds = np.where(ovr <= thresh)[0]\n",
    "        #将order序列更新，由于前面得到的矩形框索引要比矩形框在原order序列中的索引小1，所以要把这个1加回来\n",
    "        order = order[inds + 1]\n",
    "    return keep\n",
    "\n",
    "# test\n",
    "if __name__ == \"__main__\":\n",
    "    dets = np.array([[30, 20, 230, 200, 1], \n",
    "                     [50, 50, 260, 220, 0.9],\n",
    "                     [210, 30, 420, 5, 0.8],\n",
    "                     [430, 280, 460, 360, 0.7]])\n",
    "    thresh = 0.35\n",
    "    keep_dets = py_nms(dets, thresh)\n",
    "    print(keep_dets)\n",
    "    print(dets[keep_dets])\n",
    "\n"
   ]
  },
  {
   "cell_type": "code",
   "execution_count": null,
   "metadata": {},
   "outputs": [],
   "source": []
  },
  {
   "cell_type": "code",
   "execution_count": null,
   "metadata": {},
   "outputs": [],
   "source": []
  }
 ],
 "metadata": {
  "kernelspec": {
   "display_name": "Python 3",
   "language": "python",
   "name": "python3"
  },
  "language_info": {
   "codemirror_mode": {
    "name": "ipython",
    "version": 3
   },
   "file_extension": ".py",
   "mimetype": "text/x-python",
   "name": "python",
   "nbconvert_exporter": "python",
   "pygments_lexer": "ipython3",
   "version": "3.8.5"
  },
  "latex_envs": {
   "LaTeX_envs_menu_present": true,
   "autoclose": false,
   "autocomplete": true,
   "bibliofile": "biblio.bib",
   "cite_by": "apalike",
   "current_citInitial": 1,
   "eqLabelWithNumbers": true,
   "eqNumInitial": 1,
   "hotkeys": {
    "equation": "Ctrl-E",
    "itemize": "Ctrl-I"
   },
   "labels_anchors": false,
   "latex_user_defs": false,
   "report_style_numbering": false,
   "user_envs_cfg": false
  },
  "varInspector": {
   "cols": {
    "lenName": 16,
    "lenType": 16,
    "lenVar": 40
   },
   "kernels_config": {
    "python": {
     "delete_cmd_postfix": "",
     "delete_cmd_prefix": "del ",
     "library": "var_list.py",
     "varRefreshCmd": "print(var_dic_list())"
    },
    "r": {
     "delete_cmd_postfix": ") ",
     "delete_cmd_prefix": "rm(",
     "library": "var_list.r",
     "varRefreshCmd": "cat(var_dic_list()) "
    }
   },
   "types_to_exclude": [
    "module",
    "function",
    "builtin_function_or_method",
    "instance",
    "_Feature"
   ],
   "window_display": false
  }
 },
 "nbformat": 4,
 "nbformat_minor": 4
}
