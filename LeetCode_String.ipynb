{
 "cells": [
  {
   "cell_type": "markdown",
   "metadata": {
    "ExecuteTime": {
     "end_time": "2020-08-21T07:09:18.981838Z",
     "start_time": "2020-08-21T07:09:18.869608Z"
    }
   },
   "source": [
    "LeetCode_String\n",
    "\n",
    "start at:20200821"
   ]
  },
  {
   "cell_type": "markdown",
   "metadata": {},
   "source": [
    "## 有效的括号"
   ]
  },
  {
   "cell_type": "markdown",
   "metadata": {},
   "source": [
    "### 双指针\n",
    "该方法不对， '(([]){}'下发生错误"
   ]
  },
  {
   "cell_type": "code",
   "execution_count": 17,
   "metadata": {
    "ExecuteTime": {
     "end_time": "2020-08-21T07:29:45.446534Z",
     "start_time": "2020-08-21T07:29:45.440940Z"
    }
   },
   "outputs": [],
   "source": [
    "\n",
    "class Solution(object):\n",
    "    def isValid(self, s):\n",
    "        \"\"\"\n",
    "        :type s: str\n",
    "        :rtype: bool\n",
    "        \"\"\"\n",
    "        dicta = {'(':')',\n",
    "        '[':']',\n",
    "        '{':'}'}\n",
    "        left, right = 0, len(s)-1\n",
    "        try:\n",
    "            while left <= right:\n",
    "                if dicta[s[left]] == s[right]:\n",
    "                    left+=1\n",
    "                    right-=1\n",
    "                elif dicta[s[left]] == s[left+1]:\n",
    "                    left+=2\n",
    "                else:\n",
    "                    return False\n",
    "        except:\n",
    "            return False\n",
    "        \n",
    "        return True"
   ]
  },
  {
   "cell_type": "markdown",
   "metadata": {},
   "source": [
    "### 栈"
   ]
  },
  {
   "cell_type": "markdown",
   "metadata": {},
   "source": [
    "入栈：没有匹配的括号\n",
    "出栈：配对成功\n",
    "\n",
    "注意：\n",
    "1. 熟练字典dict的使用，如i in dict是dict的key\n",
    "2. 栈stack的基本操作，如pop和append"
   ]
  },
  {
   "cell_type": "code",
   "execution_count": 46,
   "metadata": {
    "ExecuteTime": {
     "end_time": "2020-08-21T08:01:01.968153Z",
     "start_time": "2020-08-21T08:01:01.962612Z"
    }
   },
   "outputs": [],
   "source": [
    "class Solution(object):\n",
    "    def isValid(self, s):\n",
    "        \"\"\"\n",
    "        :type s: str\n",
    "        :rtype: bool\n",
    "        \"\"\"\n",
    "        dicta = {')':'(',\n",
    "        ']':'[',\n",
    "        '}':'{'}\n",
    "        stack = []\n",
    "        for i in s:\n",
    "            if stack and i in dicta:\n",
    "                if dicta[i] == stack[-1]:\n",
    "#                 print(i, dicta[stack[-1]])\n",
    "                    stack.pop()\n",
    "                else:\n",
    "                    return False\n",
    "            else:\n",
    "                stack.append(i)\n",
    "        \n",
    "        return True if not stack else False"
   ]
  },
  {
   "cell_type": "code",
   "execution_count": 47,
   "metadata": {
    "ExecuteTime": {
     "end_time": "2020-08-21T08:01:02.499333Z",
     "start_time": "2020-08-21T08:01:02.495141Z"
    }
   },
   "outputs": [
    {
     "data": {
      "text/plain": [
       "True"
      ]
     },
     "execution_count": 47,
     "metadata": {},
     "output_type": "execute_result"
    }
   ],
   "source": [
    "dicta = {'(':')',\n",
    "        '[':']',\n",
    "        '{':'}'}\n",
    "s = '()[]{}'\n",
    "a = Solution()\n",
    "a.isValid(s)\n"
   ]
  },
  {
   "cell_type": "markdown",
   "metadata": {},
   "source": [
    "## 14. 最长公共前缀\n"
   ]
  },
  {
   "cell_type": "markdown",
   "metadata": {},
   "source": [
    "### 原理型\n",
    "$LCP(S1,S2...Sn)=LCP(LCP(LCP(S1,S2),S3)...Sn)$\n",
    "\n",
    "注意：python中str是不可变类型，不具有str.append()的方法"
   ]
  },
  {
   "cell_type": "code",
   "execution_count": 10,
   "metadata": {
    "ExecuteTime": {
     "end_time": "2020-08-23T02:12:10.419621Z",
     "start_time": "2020-08-23T02:12:10.413109Z"
    }
   },
   "outputs": [],
   "source": [
    "class Solution:\n",
    "    def longestCommonPrefix(self, strs):\n",
    "        if not strs: return ''\n",
    "        prefix = strs[0]\n",
    "        for i in range(1, len(strs)):\n",
    "            prefix = self.lcp(prefix, strs[i])\n",
    "        return prefix\n",
    "    \n",
    "    def lcp(self, s1, s2):\n",
    "#         ans = []\n",
    "        idx = 0\n",
    "        for i in range(min(len(s1), len(s2))):\n",
    "            if s1[i] == s2[i]:\n",
    "#                 ans.append(s1[i])\n",
    "                idx += 1\n",
    "            else:\n",
    "                break\n",
    "        return s1[:idx]"
   ]
  },
  {
   "cell_type": "markdown",
   "metadata": {},
   "source": [
    "### 技巧型1\n",
    "比较排序数组首尾两个字符串的最长公共前缀"
   ]
  },
  {
   "cell_type": "code",
   "execution_count": 12,
   "metadata": {
    "ExecuteTime": {
     "end_time": "2020-08-23T02:19:13.372440Z",
     "start_time": "2020-08-23T02:19:13.366637Z"
    }
   },
   "outputs": [],
   "source": [
    "class Solution:\n",
    "    def longestCommonPrefix(self, strs):\n",
    "        if not strs: return ''\n",
    "        strs.sort()\n",
    "        start, end = strs[0], strs[-1]\n",
    "        idx = 0\n",
    "        for i in range(min(len(start), len(end))):\n",
    "            if start[i] == end[i]:\n",
    "#                 ans.append(s1[i])\n",
    "                idx += 1\n",
    "            else:\n",
    "                break\n",
    "        return start[:idx]\n",
    "    "
   ]
  },
  {
   "cell_type": "markdown",
   "metadata": {},
   "source": [
    "### 技巧型2\n",
    "利用zip和set方式\n",
    "1. zip:将对象中对应的元素打包成一个个元组\n",
    "2. set:集合操作, 去除重复的元素=》当set的len==1时表示该项为公共前缀"
   ]
  },
  {
   "cell_type": "code",
   "execution_count": 14,
   "metadata": {
    "ExecuteTime": {
     "end_time": "2020-08-23T02:58:11.580636Z",
     "start_time": "2020-08-23T02:58:11.576378Z"
    }
   },
   "outputs": [],
   "source": [
    "class Solution:\n",
    "    def longestCommonPrefix(self, strs):\n",
    "        #时间复杂度O(mn),空间复杂度为O(1)\n",
    "        if not strs: return ''\n",
    "        result = ''\n",
    "        for temp in zip(*strs):\n",
    "            print(temp)\n",
    "            if len(set(temp)) == 1:\n",
    "                result += temp[0]\n",
    "            else:\n",
    "                break\n",
    "        return result\n"
   ]
  },
  {
   "cell_type": "code",
   "execution_count": 15,
   "metadata": {
    "ExecuteTime": {
     "end_time": "2020-08-23T02:58:11.846979Z",
     "start_time": "2020-08-23T02:58:11.839926Z"
    }
   },
   "outputs": [
    {
     "name": "stdout",
     "output_type": "stream",
     "text": [
      "('f', 'f', 'f')\n",
      "('l', 'l', 'l')\n",
      "('o', 'o', 'i')\n"
     ]
    },
    {
     "data": {
      "text/plain": [
       "'fl'"
      ]
     },
     "execution_count": 15,
     "metadata": {},
     "output_type": "execute_result"
    }
   ],
   "source": [
    "strs = [\"flower\",\"flow\",\"flight\"]\n",
    "a = Solution()\n",
    "a.longestCommonPrefix(strs)"
   ]
  },
  {
   "cell_type": "markdown",
   "metadata": {},
   "source": [
    "## 28. 实现strStr()"
   ]
  },
  {
   "cell_type": "code",
   "execution_count": null,
   "metadata": {},
   "outputs": [],
   "source": []
  },
  {
   "cell_type": "markdown",
   "metadata": {},
   "source": [
    "### 滑窗\n",
    "1. \n",
    "2. 时间复杂度：$O((N-L)L)$"
   ]
  },
  {
   "cell_type": "code",
   "execution_count": 94,
   "metadata": {
    "ExecuteTime": {
     "end_time": "2020-08-23T07:42:33.708791Z",
     "start_time": "2020-08-23T07:42:33.703900Z"
    }
   },
   "outputs": [],
   "source": [
    "class Solution(object):\n",
    "    def strStr(self, haystack, needle):\n",
    "        \"\"\"\n",
    "        :type haystack: str\n",
    "        :type needle: str\n",
    "        :rtype: int\n",
    "        \"\"\"\n",
    "        if len(needle)==0: return 0\n",
    "        for i in range(len(haystack)-len(needle)+1):\n",
    "            if haystack[i:i+len(needle)] == needle:\n",
    "                return i\n",
    "        return -1"
   ]
  },
  {
   "cell_type": "markdown",
   "metadata": {},
   "source": [
    "### 双指针+回溯(sù)\n",
    "提交LeetCode时总在细节报错，实在debug不下去了。。。\n",
    "1. 注意遍历和回溯需要两个循环实现\n",
    "2. 时间复杂度：$O((N-L)L)$"
   ]
  },
  {
   "cell_type": "code",
   "execution_count": 142,
   "metadata": {
    "ExecuteTime": {
     "end_time": "2020-08-23T07:58:53.873498Z",
     "start_time": "2020-08-23T07:58:53.864123Z"
    }
   },
   "outputs": [],
   "source": [
    "class Solution(object):\n",
    "    def strStr(self, haystack, needle):\n",
    "        \"\"\"\n",
    "        :type haystack: str\n",
    "        :type needle: str\n",
    "        :rtype: int\n",
    "        \"\"\"\n",
    "        if len(needle)==0: return 0\n",
    "#         if len(haystack)==0 and len(needle)==0: return 0\n",
    "\n",
    "        p1, p2 = 0, 0\n",
    "        idx = 0\n",
    "        # 仅haystack第一位和stack相同时开始匹配\n",
    "        while p1<len(haystack) and p2<len(needle):\n",
    "            if haystack[p1] == needle[p2]:\n",
    "                idx = p1\n",
    "                for i in range(min(len(haystack), len(needle))):\n",
    "\n",
    "                    \n",
    "                    print('1', p1, p2, haystack[idx:p1+1])\n",
    "                    if haystack[idx:p1+1] == needle:\n",
    "                        return idx\n",
    "                    else:\n",
    "                        if haystack[p1] == needle[p2]:\n",
    "                            if p1<len(haystack)-1:\n",
    "                                p1 += 1\n",
    "                            if p2<len(needle)-1:\n",
    "                                p2 += 1 \n",
    "                        else:\n",
    "                            p1 = idx+1\n",
    "                            p2 = 0\n",
    "                            break\n",
    "                if haystack[idx:p1] == needle:\n",
    "                    return idx\n",
    "                \n",
    "            else:\n",
    "                if p1<len(haystack):\n",
    "                    p1 += 1 \n",
    "        return -1\n",
    "    "
   ]
  },
  {
   "cell_type": "code",
   "execution_count": 144,
   "metadata": {
    "ExecuteTime": {
     "end_time": "2020-08-23T07:59:47.841087Z",
     "start_time": "2020-08-23T07:59:47.831779Z"
    }
   },
   "outputs": [],
   "source": [
    "class Solution:\n",
    "    def strStr(self, haystack: str, needle: str) -> int:\n",
    "        L, n = len(needle), len(haystack)\n",
    "        if L == 0:\n",
    "            return 0\n",
    "\n",
    "        pn = 0\n",
    "        while pn < n - L + 1:\n",
    "            # find the position of the first needle character\n",
    "            # in the haystack string\n",
    "            while pn < n - L + 1 and haystack[pn] != needle[0]:\n",
    "                pn += 1\n",
    "            \n",
    "            # compute the max match string\n",
    "            curr_len = pL = 0\n",
    "            while pL < L and pn < n and haystack[pn] == needle[pL]:\n",
    "                pn += 1\n",
    "                pL += 1\n",
    "                curr_len += 1\n",
    "            \n",
    "            # if the whole needle string is found,\n",
    "            # return its start position\n",
    "            if curr_len == L:\n",
    "                return pn - L\n",
    "            \n",
    "            # otherwise, backtrack\n",
    "            pn = pn - curr_len + 1\n",
    "            \n",
    "        return -1"
   ]
  },
  {
   "cell_type": "code",
   "execution_count": 145,
   "metadata": {
    "ExecuteTime": {
     "end_time": "2020-08-23T07:59:48.070660Z",
     "start_time": "2020-08-23T07:59:48.065454Z"
    }
   },
   "outputs": [
    {
     "data": {
      "text/plain": [
       "-1"
      ]
     },
     "execution_count": 145,
     "metadata": {},
     "output_type": "execute_result"
    }
   ],
   "source": [
    "haystack = \"mississippi\"\n",
    "needle = \"issipi\"\n",
    "# haystack = 'aaaaa'\n",
    "# needle = 'bba'\n",
    "a = Solution()\n",
    "a.strStr(haystack, needle)"
   ]
  },
  {
   "cell_type": "markdown",
   "metadata": {},
   "source": [
    "### KMP\n",
    "字符串匹配通解\n",
    "留一个坑，之后填"
   ]
  },
  {
   "cell_type": "markdown",
   "metadata": {},
   "source": [
    "## 38. 外观数列"
   ]
  },
  {
   "cell_type": "markdown",
   "metadata": {},
   "source": [
    "由前一个情况递推后一个\n",
    "\n",
    "注意每个情况的统计策略\n",
    "\n",
    "注意：string是不可变类型。没有append，可以用+="
   ]
  },
  {
   "cell_type": "code",
   "execution_count": 51,
   "metadata": {
    "ExecuteTime": {
     "end_time": "2020-08-25T02:51:56.229241Z",
     "start_time": "2020-08-25T02:51:56.222232Z"
    }
   },
   "outputs": [],
   "source": [
    "class Solution(object):\n",
    "    def countAndSay(self, n: int) -> str:\n",
    "        \"\"\"\n",
    "        :type n: int\n",
    "        :rtype: str\n",
    "        \"\"\"    \n",
    "        def count_n(s):\n",
    "            ans = ''\n",
    "            i = 0\n",
    "            while i<len(s):\n",
    "                cnt = 1\n",
    "                while i<len(s)-1 and s[i]==s[i+1]:\n",
    "                    cnt += 1\n",
    "                    i += 1\n",
    "                ans += (f'{cnt}' + f'{s[i]}')\n",
    "                i += 1\n",
    "#                 print(i, ans)\n",
    "            return ans\n",
    "        \n",
    "        ans = '1'\n",
    "        for i in range(1, n):\n",
    "            ans = count_n(ans)\n",
    "        return ans"
   ]
  },
  {
   "cell_type": "code",
   "execution_count": 52,
   "metadata": {
    "ExecuteTime": {
     "end_time": "2020-08-25T02:51:56.408559Z",
     "start_time": "2020-08-25T02:51:56.402989Z"
    }
   },
   "outputs": [
    {
     "data": {
      "text/plain": [
       "'111221'"
      ]
     },
     "execution_count": 52,
     "metadata": {},
     "output_type": "execute_result"
    }
   ],
   "source": [
    "n = 5\n",
    "a = Solution()\n",
    "a.countAndSay(n)"
   ]
  },
  {
   "cell_type": "markdown",
   "metadata": {},
   "source": [
    "## 验证回文串\n",
    "注意：大小写转换、字符串范围查找等方法"
   ]
  },
  {
   "cell_type": "markdown",
   "metadata": {},
   "source": [
    "### $s=s[::-1]$"
   ]
  },
  {
   "cell_type": "code",
   "execution_count": 43,
   "metadata": {
    "ExecuteTime": {
     "end_time": "2020-08-26T07:57:00.511870Z",
     "start_time": "2020-08-26T07:57:00.503730Z"
    }
   },
   "outputs": [],
   "source": [
    "class Solution:\n",
    "    def isPalindrome(self, s):\n",
    "        s_low = ''\n",
    "        for p in s:\n",
    "            if self.isTarget(p):\n",
    "                s_low += p.lower()\n",
    "            \n",
    "#         s_low = ''.join(p.lower() for p in s if isTarget(s))\n",
    "        return s_low == s_low[::-1]\n",
    "    \n",
    "    def isTarget(self, p):\n",
    "        return 'A'<=p<='Z' or 'a'<=p<='z' or '0'<=p<='9'\n",
    "    "
   ]
  },
  {
   "cell_type": "code",
   "execution_count": 44,
   "metadata": {
    "ExecuteTime": {
     "end_time": "2020-08-26T07:57:00.843648Z",
     "start_time": "2020-08-26T07:57:00.836658Z"
    },
    "scrolled": true
   },
   "outputs": [
    {
     "data": {
      "text/plain": [
       "True"
      ]
     },
     "execution_count": 44,
     "metadata": {},
     "output_type": "execute_result"
    }
   ],
   "source": [
    "s = \"A man, a plan, a canal: Panama\"\n",
    "a = Solution()\n",
    "a.isPalindrome(s)"
   ]
  },
  {
   "cell_type": "markdown",
   "metadata": {},
   "source": [
    "### 双指针"
   ]
  },
  {
   "cell_type": "markdown",
   "metadata": {},
   "source": [
    "## 344. 反转字符串"
   ]
  },
  {
   "cell_type": "markdown",
   "metadata": {},
   "source": [
    "### 原地算法\n",
    "s.reverse()\n",
    "\n",
    "原地反转字符串是一种不使用辅助数据结构的算法。\n",
    "\n",
    "时间复杂度：$O(N)$\n",
    "\n",
    "空间复杂度：$O(N)$不符合要求\n",
    "\n",
    "注意：使用递归的方法去反转字符串，它是原地反转，但是空间复杂度却不是常数级空间，因为递归过程中使用了堆栈空间"
   ]
  },
  {
   "cell_type": "markdown",
   "metadata": {},
   "source": [
    "### 双指针法\n",
    "left,right实际可以用i和-(i+1)替代\n",
    "\n",
    "时间复杂度：$O(N)$\n",
    "\n",
    "空间复杂度：$O(1)$\n"
   ]
  },
  {
   "cell_type": "code",
   "execution_count": 57,
   "metadata": {
    "ExecuteTime": {
     "end_time": "2020-08-27T02:41:03.823886Z",
     "start_time": "2020-08-27T02:41:03.817619Z"
    }
   },
   "outputs": [],
   "source": [
    "class Solution(object):\n",
    "    def reverseString(self, s):\n",
    "        \"\"\"\n",
    "        :type s: List[str]\n",
    "        :rtype: None Do not return anything, modify s in-place instead.\n",
    "        \"\"\"\n",
    "        for i in range(len(s)//2):\n",
    "#             print(s[i], s[-(i+1)])\n",
    "            s[i], s[-(i+1)] = s[-(i+1)], s[i]\n",
    "        return s"
   ]
  },
  {
   "cell_type": "code",
   "execution_count": 58,
   "metadata": {
    "ExecuteTime": {
     "end_time": "2020-08-27T02:41:04.018423Z",
     "start_time": "2020-08-27T02:41:04.014102Z"
    }
   },
   "outputs": [
    {
     "name": "stdout",
     "output_type": "stream",
     "text": [
      "['h', 'a', 'n', 'n', 'a', 'H']\n"
     ]
    }
   ],
   "source": [
    "s = [\"H\",\"a\",\"n\",\"n\",\"a\",\"h\"]\n",
    "a = Solution()\n",
    "print(a.reverseString(s))"
   ]
  },
  {
   "cell_type": "markdown",
   "metadata": {},
   "source": [
    "## 387. 字符串中的第一个唯一字符\n"
   ]
  },
  {
   "cell_type": "markdown",
   "metadata": {},
   "source": [
    "### 使用dict\n",
    "字典dict记录重复的字符个数，返回数目为0的key值的索引最小值"
   ]
  },
  {
   "cell_type": "code",
   "execution_count": 24,
   "metadata": {
    "ExecuteTime": {
     "end_time": "2020-08-29T04:25:12.234461Z",
     "start_time": "2020-08-29T04:25:12.229922Z"
    }
   },
   "outputs": [],
   "source": [
    "class Solution(object):\n",
    "    def firstUniqChar(self, s):\n",
    "        \"\"\"\n",
    "        :type s: str\n",
    "        :rtype: int\n",
    "        \"\"\"\n",
    "        dicta = {}\n",
    "        for i in range(len(s)):\n",
    "    #         if dicta.has_key(s[i]):\n",
    "            if s[i] in dicta:\n",
    "                dicta[f\"{s[i]}\"] += 1\n",
    "            else:\n",
    "                dicta[f\"{s[i]}\"] = 0\n",
    "        idx = 10000\n",
    "        for i in dicta:\n",
    "            if dicta[i]==0:\n",
    "                idx = min(idx, s.index(i))\n",
    "        return idx"
   ]
  },
  {
   "cell_type": "markdown",
   "metadata": {},
   "source": [
    "### 优化的dict写法"
   ]
  },
  {
   "cell_type": "code",
   "execution_count": 26,
   "metadata": {
    "ExecuteTime": {
     "end_time": "2020-08-29T12:32:39.948708Z",
     "start_time": "2020-08-29T12:32:39.944095Z"
    }
   },
   "outputs": [],
   "source": [
    "class Solution:\n",
    "    def firstUniqChar(self, s: str) -> int:\n",
    "        Hash = {}\n",
    "        for i in s:\n",
    "            Hash[i] = Hash.get(i, 0) + 1\n",
    "        \n",
    "        for key in Hash.keys():\n",
    "            if Hash[key] == 1:\n",
    "                return s.find(key)\n",
    "        \n",
    "        return -1\n"
   ]
  },
  {
   "cell_type": "code",
   "execution_count": 27,
   "metadata": {
    "ExecuteTime": {
     "end_time": "2020-08-29T12:32:40.831183Z",
     "start_time": "2020-08-29T12:32:40.827420Z"
    }
   },
   "outputs": [
    {
     "data": {
      "text/plain": [
       "2"
      ]
     },
     "execution_count": 27,
     "metadata": {},
     "output_type": "execute_result"
    }
   ],
   "source": [
    "s = \"loveleetcode\"\n",
    "a = Solution()\n",
    "a.firstUniqChar(s)"
   ]
  },
  {
   "cell_type": "markdown",
   "metadata": {},
   "source": [
    "## 3. 无重复字符的最长子串"
   ]
  },
  {
   "cell_type": "markdown",
   "metadata": {},
   "source": [
    "### 滑动窗+set\n",
    "set处理重复字符的问题\n",
    "\n",
    "slide window：依次递增地枚举子串的起始位置，子串的结束位置也递增"
   ]
  },
  {
   "cell_type": "code",
   "execution_count": null,
   "metadata": {},
   "outputs": [],
   "source": [
    "class Solution:\n",
    "    def lengthOfLongestSubstring(self, s: str) -> int:\n",
    "        # 哈希集合，记录每个字符是否出现过\n",
    "        occ = set()\n",
    "        n = len(s)\n",
    "        # 右指针，初始值为 -1，相当于我们在字符串的左边界的左侧，还没有开始移动\n",
    "        rk, ans = -1, 0\n",
    "        for i in range(n):\n",
    "            if i != 0:\n",
    "                # 左指针向右移动一格，移除一个字符\n",
    "                occ.remove(s[i - 1])\n",
    "            while rk + 1 < n and s[rk + 1] not in occ:\n",
    "                # 不断地移动右指针\n",
    "                occ.add(s[rk + 1])\n",
    "                rk += 1\n",
    "            # 第 i 到 rk 个字符是一个极长的无重复字符子串\n",
    "            ans = max(ans, rk - i + 1)\n",
    "        return ans\n"
   ]
  },
  {
   "cell_type": "markdown",
   "metadata": {},
   "source": [
    "### 双指针+dict"
   ]
  },
  {
   "cell_type": "code",
   "execution_count": 33,
   "metadata": {
    "ExecuteTime": {
     "end_time": "2020-08-30T02:44:59.012366Z",
     "start_time": "2020-08-30T02:44:59.007799Z"
    }
   },
   "outputs": [],
   "source": [
    "class Solution:\n",
    "    def lengthOfLongestSubstring(self, s):\n",
    "        head, ans, dicta = -1, 0, {}\n",
    "        for point, num in enumerate(s):\n",
    "            if num in dicta and dicta[num] > head:  # 字符c在字典中 且 上次出现的下标大于当前长度的起始下标\n",
    "                head = dicta[num]\n",
    "                dicta[num] = point\n",
    "            else:\n",
    "                dicta[num] = point\n",
    "                ans = max(ans, point-head)\n",
    "        return ans"
   ]
  },
  {
   "cell_type": "code",
   "execution_count": 34,
   "metadata": {
    "ExecuteTime": {
     "end_time": "2020-08-30T02:44:59.373313Z",
     "start_time": "2020-08-30T02:44:59.369746Z"
    }
   },
   "outputs": [
    {
     "data": {
      "text/plain": [
       "6"
      ]
     },
     "execution_count": 34,
     "metadata": {},
     "output_type": "execute_result"
    }
   ],
   "source": [
    "s = \"pokemongo\"\n",
    "a = Solution()\n",
    "a.lengthOfLongestSubstring(s)"
   ]
  },
  {
   "cell_type": "markdown",
   "metadata": {},
   "source": [
    "## 5. 最长回文子串"
   ]
  },
  {
   "cell_type": "markdown",
   "metadata": {},
   "source": [
    "### 双指针遍历"
   ]
  },
  {
   "cell_type": "markdown",
   "metadata": {},
   "source": [
    "要点：\n",
    "1. 首先双指针的头、尾相等\n",
    "2. 逆序的range参数和切片[-1]的参数\n",
    "3. 保存最长的子串\n",
    "4. $s[left:right+1] == s[right:left-1:-1]$的方法不合理：当left=0时left-1不存在"
   ]
  },
  {
   "cell_type": "code",
   "execution_count": 98,
   "metadata": {
    "ExecuteTime": {
     "end_time": "2020-08-30T04:09:31.438346Z",
     "start_time": "2020-08-30T04:09:31.433081Z"
    }
   },
   "outputs": [],
   "source": [
    "## 逆序\n",
    "class Solution(object):\n",
    "    def longestPalindrome(self, s):\n",
    "        \"\"\"\n",
    "        :type s: str\n",
    "        :rtype: str\n",
    "        \"\"\"\n",
    "        ans = ''\n",
    "        for left in range(len(s)):\n",
    "            for right in range(len(s)-1, left-1, -1):  # 逆序不是range(left, len(s)-1, -1)\n",
    "                if s[left] == s[right]:\n",
    "                    a = s[left:right+1]\n",
    "                    print(left, right, a, a[::-1])\n",
    "#                     print(left, right, s[left:right+1], s[right:left-1:-1])  # 逆序不是s[left:right+1:-1]\n",
    "                    if a == a[::-1]:  \n",
    "                        ans = a if len(a)>len(ans) else ans\n",
    "        return ans"
   ]
  },
  {
   "cell_type": "code",
   "execution_count": 99,
   "metadata": {
    "ExecuteTime": {
     "end_time": "2020-08-30T04:09:32.999099Z",
     "start_time": "2020-08-30T04:09:32.995541Z"
    },
    "scrolled": false
   },
   "outputs": [
    {
     "data": {
      "text/plain": [
       "''"
      ]
     },
     "execution_count": 99,
     "metadata": {},
     "output_type": "execute_result"
    }
   ],
   "source": [
    "s = ''\n",
    "a = Solution()\n",
    "a.longestPalindrome(s)"
   ]
  },
  {
   "cell_type": "markdown",
   "metadata": {},
   "source": [
    "## 8. 字符串转换整数atoi"
   ]
  },
  {
   "cell_type": "markdown",
   "metadata": {},
   "source": [
    "### 遍历\n",
    "要排除的问题比较多，if-else写的比较杂"
   ]
  },
  {
   "cell_type": "code",
   "execution_count": 78,
   "metadata": {
    "ExecuteTime": {
     "end_time": "2020-09-01T03:53:50.268573Z",
     "start_time": "2020-09-01T03:53:50.255924Z"
    }
   },
   "outputs": [],
   "source": [
    "class Solution(object):\n",
    "    def myAtoi(self, s):\n",
    "        \"\"\"\n",
    "        :type str: str\n",
    "        :rtype: int\n",
    "        \"\"\"\n",
    "        if len(s) == 0: return 0\n",
    "        sig = 1\n",
    "        ans = ''\n",
    "        INT_MAX=2**31-1\n",
    "        INT_MIN=-2**31\n",
    "        \n",
    "        i=0\n",
    "        n=len(s)\n",
    "        while i<n and s[i]==' ':\n",
    "            i += 1\n",
    "        if n==0 or i==n:\n",
    "            return 0\n",
    "        s = s[i:]\n",
    "        if s[0] == '-' or s[0] == '+':\n",
    "            print('cut')\n",
    "            sig = -1 if s[0] == '-' else 1\n",
    "            s = s[1:] if len(s) > 0 else ''\n",
    "            \n",
    "        for i in range(len(s)):\n",
    "\n",
    "            if '0' <= s[i] <= '9':\n",
    "                ans += s[i]\n",
    "            else:\n",
    "                break\n",
    "        if not ans:\n",
    "            return 0\n",
    "        elif sig*int(ans) < INT_MIN:\n",
    "            return INT_MIN\n",
    "        elif sig*int(ans) > INT_MAX:\n",
    "            return INT_MAX\n",
    "        else:\n",
    "             return sig*int(ans) "
   ]
  },
  {
   "cell_type": "code",
   "execution_count": 79,
   "metadata": {
    "ExecuteTime": {
     "end_time": "2020-09-01T03:53:50.686598Z",
     "start_time": "2020-09-01T03:53:50.681873Z"
    }
   },
   "outputs": [
    {
     "data": {
      "text/plain": [
       "42"
      ]
     },
     "execution_count": 79,
     "metadata": {},
     "output_type": "execute_result"
    }
   ],
   "source": [
    "s = '42'\n",
    "a = Solution()\n",
    "a.myAtoi(s)"
   ]
  },
  {
   "cell_type": "markdown",
   "metadata": {},
   "source": [
    "### 正则\n",
    "留个坑～"
   ]
  },
  {
   "cell_type": "markdown",
   "metadata": {},
   "source": [
    "## 17. 电话号码的字母组合"
   ]
  },
  {
   "cell_type": "markdown",
   "metadata": {},
   "source": [
    "### 回溯\n",
    "注意回溯里面有len(digits)个for循环的嵌套=>可以引申到不确定循环次数时使用回溯的思想"
   ]
  },
  {
   "cell_type": "code",
   "execution_count": 3,
   "metadata": {
    "ExecuteTime": {
     "end_time": "2020-09-02T02:26:31.524783Z",
     "start_time": "2020-09-02T02:26:31.516470Z"
    }
   },
   "outputs": [],
   "source": [
    "class Solution:\n",
    "    def letterCombinations(self, digits):\n",
    "        if not digits: return []\n",
    "\n",
    "        phone = {'2':['a','b','c'],\n",
    "                 '3':['d','e','f'],\n",
    "                 '4':['g','h','i'],\n",
    "                 '5':['j','k','l'],\n",
    "                 '6':['m','n','o'],\n",
    "                 '7':['p','q','r','s'],\n",
    "                 '8':['t','u','v'],\n",
    "                 '9':['w','x','y','z']}\n",
    "                \n",
    "        def backtrack(ans, nextd):\n",
    "            if len(nextd)==0:  # 终止条件\n",
    "                return res.append(ans)\n",
    "            else:\n",
    "                for i in phone[nextd[0]]: \n",
    "                    print(ans, i, ans+i)\n",
    "                    backtrack(ans+i, nextd[1:])\n",
    "                    print('❤️')\n",
    "                    \n",
    "        res = []\n",
    "        backtrack('',digits)\n",
    "        return res"
   ]
  },
  {
   "cell_type": "code",
   "execution_count": 4,
   "metadata": {
    "ExecuteTime": {
     "end_time": "2020-09-02T02:26:31.688534Z",
     "start_time": "2020-09-02T02:26:31.674602Z"
    },
    "collapsed": true
   },
   "outputs": [
    {
     "name": "stdout",
     "output_type": "stream",
     "text": [
      " a a\n",
      "a d ad\n",
      "❤️\n",
      "a e ae\n",
      "❤️\n",
      "a f af\n",
      "❤️\n",
      "❤️\n",
      " b b\n",
      "b d bd\n",
      "❤️\n",
      "b e be\n",
      "❤️\n",
      "b f bf\n",
      "❤️\n",
      "❤️\n",
      " c c\n",
      "c d cd\n",
      "❤️\n",
      "c e ce\n",
      "❤️\n",
      "c f cf\n",
      "❤️\n",
      "❤️\n"
     ]
    },
    {
     "data": {
      "text/plain": [
       "['ad', 'ae', 'af', 'bd', 'be', 'bf', 'cd', 'ce', 'cf']"
      ]
     },
     "execution_count": 4,
     "metadata": {},
     "output_type": "execute_result"
    }
   ],
   "source": [
    "digits = '23'\n",
    "a = Solution()\n",
    "a.letterCombinations(digits)"
   ]
  },
  {
   "cell_type": "markdown",
   "metadata": {},
   "source": [
    "## 22. 括号生成"
   ]
  },
  {
   "cell_type": "code",
   "execution_count": 49,
   "metadata": {
    "ExecuteTime": {
     "end_time": "2020-09-02T07:00:22.411933Z",
     "start_time": "2020-09-02T07:00:22.404376Z"
    }
   },
   "outputs": [],
   "source": [
    "class Solution(object):\n",
    "    def generateParenthesis(self, n):\n",
    "        \"\"\"\n",
    "        :type n: int\n",
    "        :rtype: List[str]\n",
    "        \"\"\"\n",
    "        res = []\n",
    "        if n <= 1:  # 终止条件\n",
    "            res = ['()']\n",
    "        else:\n",
    "            for i in self.generateParenthesis(n-1):\n",
    "                ans1 = '('+i+')'\n",
    "                ans2 = '()'+i\n",
    "                ans3 = i+'()'\n",
    "                res.append(ans1)\n",
    "                res.append(ans2)\n",
    "                res.append(ans3)\n",
    "        return list(set(res))"
   ]
  },
  {
   "cell_type": "code",
   "execution_count": 50,
   "metadata": {
    "ExecuteTime": {
     "end_time": "2020-09-02T07:00:22.668445Z",
     "start_time": "2020-09-02T07:00:22.661509Z"
    }
   },
   "outputs": [
    {
     "data": {
      "text/plain": [
       "['()(())', '((()))', '(())()', '()()()', '(()())']"
      ]
     },
     "execution_count": 50,
     "metadata": {},
     "output_type": "execute_result"
    }
   ],
   "source": [
    "n = 3\n",
    "a = Solution()\n",
    "a.generateParenthesis(n)"
   ]
  },
  {
   "cell_type": "markdown",
   "metadata": {},
   "source": [
    "## 49. 字母异位词分组"
   ]
  },
  {
   "cell_type": "markdown",
   "metadata": {},
   "source": [
    "### Hash+List\n",
    "1. 键key是不可变对象：tuple、str、int\n",
    "2. ord('t')-ord('s')\n",
    "3. dist的高级用法：get、setdefault、values.append()"
   ]
  },
  {
   "cell_type": "code",
   "execution_count": 37,
   "metadata": {
    "ExecuteTime": {
     "end_time": "2020-09-03T02:48:59.520173Z",
     "start_time": "2020-09-03T02:48:59.512530Z"
    }
   },
   "outputs": [],
   "source": [
    "class Solution(object):\n",
    "    def groupAnagrams(self, aList):\n",
    "        \"\"\"\n",
    "        :type strs: List[str]\n",
    "        :rtype: List[List[str]]\n",
    "        \"\"\"\n",
    "        aDict = {}\n",
    "        for s in aList:\n",
    "            aIdx = [0]* 26\n",
    "            for i in range(len(s)):\n",
    "                aIdx[ord(s[i]) - ord('a')] += 1\n",
    "            aIdx = tuple(aIdx) \n",
    "        #     aDict.setdefault(aIdx, s)\n",
    "            if not aDict.get(aIdx):\n",
    "                aDict[aIdx] = [s]\n",
    "            else:\n",
    "                aDict[aIdx].append(s)\n",
    "        return list(aDict.values())"
   ]
  },
  {
   "cell_type": "code",
   "execution_count": 38,
   "metadata": {
    "ExecuteTime": {
     "end_time": "2020-09-03T02:48:59.687464Z",
     "start_time": "2020-09-03T02:48:59.682050Z"
    }
   },
   "outputs": [
    {
     "data": {
      "text/plain": [
       "[['eat', 'tea', 'ate'], ['tan', 'nat'], ['bat']]"
      ]
     },
     "execution_count": 38,
     "metadata": {},
     "output_type": "execute_result"
    }
   ],
   "source": [
    "aList = [\"eat\", \"tea\", \"tan\", \"ate\", \"nat\", \"bat\"]\n",
    "a = Solution()\n",
    "a.groupAnagrams(aList)"
   ]
  },
  {
   "cell_type": "markdown",
   "metadata": {},
   "source": [
    "## 91. 解码方法\n"
   ]
  },
  {
   "cell_type": "markdown",
   "metadata": {},
   "source": [
    "### 动态规划\n",
    "抽象成带条件的爬楼梯问题"
   ]
  },
  {
   "cell_type": "code",
   "execution_count": 33,
   "metadata": {
    "ExecuteTime": {
     "end_time": "2020-09-09T14:18:04.473749Z",
     "start_time": "2020-09-09T14:18:04.463320Z"
    }
   },
   "outputs": [],
   "source": [
    "class Solution:\n",
    "    def numDecodings(self, s: str) -> int:\n",
    "        n = len(s)\n",
    "        if n==0: return 0\n",
    "        dp = [1,0]\n",
    "        dp[1] = 1 if s[0]!='0' else 0 \n",
    "        for i in range(1,n):\n",
    "            dp.append(0)\n",
    "            if s[i]!='0':\n",
    "                dp[i+1] += dp[i]\n",
    "            if s[i-1:i+1]>='10' and s[i-1:i+1]<='26':\n",
    "                dp[i+1] += dp[i-1]\n",
    "        \n",
    "        return dp[-1]\n"
   ]
  },
  {
   "cell_type": "markdown",
   "metadata": {},
   "source": [
    "### 单纯判断每一、二个字符是否符合的办法不可行"
   ]
  },
  {
   "cell_type": "code",
   "execution_count": 30,
   "metadata": {
    "ExecuteTime": {
     "end_time": "2020-09-09T14:01:43.472168Z",
     "start_time": "2020-09-09T14:01:43.465755Z"
    }
   },
   "outputs": [],
   "source": [
    "class Solution(object):\n",
    "    def numDecodings(self, s):\n",
    "        \"\"\"\n",
    "        :type s: str\n",
    "        :rtype: int\n",
    "        \"\"\"\n",
    "        add = 0\n",
    "        s = str(s)\n",
    "        for i in range(len(s)):\n",
    "            if s[i] < '1' or s[i] > '9':\n",
    "                add = 0\n",
    "                break\n",
    "            else:\n",
    "                add = 1a\n",
    "        for i in range(len(s)-1):\n",
    "            if s[i] <= '2':\n",
    "                if '1' <= s[i:i+2] <= '26':\n",
    "                    add += 1\n",
    "        return add"
   ]
  },
  {
   "cell_type": "code",
   "execution_count": 32,
   "metadata": {
    "ExecuteTime": {
     "end_time": "2020-09-09T14:01:50.587307Z",
     "start_time": "2020-09-09T14:01:50.581051Z"
    }
   },
   "outputs": [
    {
     "data": {
      "text/plain": [
       "1"
      ]
     },
     "execution_count": 32,
     "metadata": {},
     "output_type": "execute_result"
    }
   ],
   "source": [
    "s = '012'\n",
    "a = Solution()\n",
    "a.numDecodings(s)"
   ]
  },
  {
   "cell_type": "code",
   "execution_count": 19,
   "metadata": {
    "ExecuteTime": {
     "end_time": "2020-09-09T13:55:04.017887Z",
     "start_time": "2020-09-09T13:55:04.010396Z"
    }
   },
   "outputs": [
    {
     "data": {
      "text/plain": [
       "[2, 2, 6]"
      ]
     },
     "execution_count": 19,
     "metadata": {},
     "output_type": "execute_result"
    }
   ],
   "source": [
    "s = 226\n",
    "lista = []\n",
    "while s > 0:\n",
    "    i = s%10\n",
    "    s = s//10\n",
    "    lista.append(i)\n",
    "lista[::-1]"
   ]
  },
  {
   "cell_type": "code",
   "execution_count": 23,
   "metadata": {
    "ExecuteTime": {
     "end_time": "2020-09-09T13:55:55.602137Z",
     "start_time": "2020-09-09T13:55:55.596455Z"
    }
   },
   "outputs": [
    {
     "data": {
      "text/plain": [
       "False"
      ]
     },
     "execution_count": 23,
     "metadata": {},
     "output_type": "execute_result"
    }
   ],
   "source": [
    "s = 226\n",
    "str(s)[1] < '1'"
   ]
  },
  {
   "cell_type": "markdown",
   "metadata": {},
   "source": [
    "## 227. 基本计算器 II"
   ]
  },
  {
   "cell_type": "markdown",
   "metadata": {},
   "source": [
    "### 栈的应用\n",
    "1. 获取完整的数字\n",
    "2. 运算的优先级"
   ]
  },
  {
   "cell_type": "code",
   "execution_count": 62,
   "metadata": {
    "ExecuteTime": {
     "end_time": "2020-09-10T05:46:25.924820Z",
     "start_time": "2020-09-10T05:46:25.915218Z"
    }
   },
   "outputs": [],
   "source": [
    "class Solution(object):\n",
    "    def calculate(self, s):\n",
    "        \"\"\"\n",
    "        :type s: str\n",
    "        :rtype: int\n",
    "        \"\"\"\n",
    "        stack = []\n",
    "        sign = '+'\n",
    "        num = 0\n",
    "        for i in range(len(s)):\n",
    "            if '0' <= s[i] <= '9':\n",
    "                num = num*10+int(s[i])\n",
    "            if s[i] in '+-*/' or i == len(s)-1:  # 最后一个数？？？\n",
    "                if sign == '+':\n",
    "                    stack.append(int(num))\n",
    "                elif sign == '-':\n",
    "                    stack.append(int(-num))\n",
    "                elif sign == '*':\n",
    "                    stack.append(num*stack.pop())\n",
    "                else:\n",
    "                    stack.append(int(stack.pop() / num))  # -3//2是-2，应为-1（python2&3运算结果不同）\n",
    "                sign = s[i]\n",
    "#                 stack.append(num)\n",
    "                num = 0\n",
    "        return sum(stack)"
   ]
  },
  {
   "cell_type": "code",
   "execution_count": 63,
   "metadata": {
    "ExecuteTime": {
     "end_time": "2020-09-10T05:46:26.146499Z",
     "start_time": "2020-09-10T05:46:26.142587Z"
    }
   },
   "outputs": [
    {
     "data": {
      "text/plain": [
       "13"
      ]
     },
     "execution_count": 63,
     "metadata": {},
     "output_type": "execute_result"
    }
   ],
   "source": [
    "s = '14-3/2'\n",
    "a = Solution()\n",
    "a.calculate(s)"
   ]
  },
  {
   "cell_type": "markdown",
   "metadata": {},
   "source": [
    "## 10.正则表达式匹配"
   ]
  },
  {
   "cell_type": "markdown",
   "metadata": {},
   "source": [
    "### 回溯\n",
    "1. 匹配问题简化：只有字母的匹配=>字母和'.'=>字母、'.'和'*'\n",
    "2. 终止条件：每次判断p[1:]和s[1:]是否匹配，因此终止条件为len(p)和len(s)\n",
    "3. 回溯体：第一个字符是否匹配first_match，下一个字符是否匹配self.isMatch(s[1:], p[1:])\n"
   ]
  },
  {
   "cell_type": "markdown",
   "metadata": {},
   "source": [
    "考虑只有 '.' 的情况。这种情况会很简单：我们只需要从左到右依次判断 s[i] 和 p[i] 是否匹配\n"
   ]
  },
  {
   "cell_type": "code",
   "execution_count": 1,
   "metadata": {
    "ExecuteTime": {
     "end_time": "2020-09-13T05:20:42.078357Z",
     "start_time": "2020-09-13T05:20:42.073006Z"
    }
   },
   "outputs": [],
   "source": [
    "def isMatch(self,s:str, p:str) -> bool:\n",
    "    if not p: return not s # 边界条件\n",
    "\n",
    "    first_match = s and p[0] in {s[0],'.'} # 比较第一个字符是否匹配\n",
    "\n",
    "    return first_match and self.isMatch(s[1:], p[1:])\n"
   ]
  },
  {
   "cell_type": "markdown",
   "metadata": {},
   "source": [
    "有星号，它会出现在 p[1] 的位置，这时有两种情况：\n",
    "\n",
    "星号代表匹配 0 个前面的元素。如 '##' 和 a*##，这时我们直接忽略 p 的 a*，比较 ## 和 ##；\n",
    "星号代表匹配一个或多个前面的元素。如 aaab 和 a*b，这时我们将忽略 s 的第一个元素，比较 aab 和 a*b。\n",
    "以上任一情况忽略掉元素进行比较时，剩下的如果匹配，我们认为 s 和 p 是匹配的\n"
   ]
  },
  {
   "cell_type": "code",
   "execution_count": null,
   "metadata": {},
   "outputs": [],
   "source": [
    "class Solution:\n",
    "    def isMatch(self, s: str, p: str) -> bool:\n",
    "        if not p: return not s\n",
    "        # 第一个字母是否匹配\n",
    "        first_match = bool(s and p[0] in {s[0],'.'})\n",
    "        # 如果 p 第二个字母是 *\n",
    "        if len(p) >= 2 and p[1] == \"*\":\n",
    "            return self.isMatch(s, p[2:]) or \\\n",
    "            first_match and self.isMatch(s[1:], p)\n",
    "        else:\n",
    "            return first_match and self.isMatch(s[1:], p[1:])\n"
   ]
  },
  {
   "cell_type": "markdown",
   "metadata": {},
   "source": [
    "### 动态规划"
   ]
  },
  {
   "cell_type": "code",
   "execution_count": 2,
   "metadata": {
    "ExecuteTime": {
     "end_time": "2020-09-13T05:22:04.772276Z",
     "start_time": "2020-09-13T05:22:04.760425Z"
    }
   },
   "outputs": [],
   "source": [
    "class Solution:\n",
    "    def isMatch(self, s: str, p: str) -> bool:\n",
    "        # 边界条件，考虑 s 或 p 分别为空的情况\n",
    "        if not p: return not s\n",
    "        if not s and len(p) == 1: return False\n",
    "\n",
    "        m, n = len(s) + 1, len(p) + 1\n",
    "        dp = [[False for _ in range(n)] for _ in range(m)]\n",
    "        # 初始状态\n",
    "        dp[0][0] = True\n",
    "        dp[0][1] = False\n",
    "\n",
    "        for c in range(2, n):\n",
    "            j = c - 1\n",
    "            if p[j] == '*':\n",
    "                dp[0][c] = dp[0][c - 2]\n",
    "        \n",
    "        for r in range(1,m):\n",
    "            i = r - 1\n",
    "            for c in range(1, n):\n",
    "                j = c - 1\n",
    "                if s[i] == p[j] or p[j] == '.':\n",
    "                    dp[r][c] = dp[r - 1][c - 1]\n",
    "                elif p[j] == '*':       # ‘*’前面的字符匹配s[i] 或者为'.'\n",
    "                    if p[j - 1] == s[i] or p[j - 1] == '.':\n",
    "                        dp[r][c] = dp[r - 1][c] or dp[r][c - 2]\n",
    "                    else:                       # ‘*’匹配了0次前面的字符\n",
    "                        dp[r][c] = dp[r][c - 2] \n",
    "                else:\n",
    "                    dp[r][c] = False\n",
    "        return dp[m - 1][n - 1]\n"
   ]
  },
  {
   "cell_type": "code",
   "execution_count": null,
   "metadata": {},
   "outputs": [],
   "source": []
  },
  {
   "cell_type": "code",
   "execution_count": null,
   "metadata": {},
   "outputs": [],
   "source": []
  }
 ],
 "metadata": {
  "kernelspec": {
   "display_name": "Python 3",
   "language": "python",
   "name": "python3"
  },
  "language_info": {
   "codemirror_mode": {
    "name": "ipython",
    "version": 3
   },
   "file_extension": ".py",
   "mimetype": "text/x-python",
   "name": "python",
   "nbconvert_exporter": "python",
   "pygments_lexer": "ipython3",
   "version": "3.7.6"
  },
  "toc": {
   "base_numbering": 1,
   "nav_menu": {},
   "number_sections": true,
   "sideBar": true,
   "skip_h1_title": false,
   "title_cell": "Table of Contents",
   "title_sidebar": "Contents",
   "toc_cell": false,
   "toc_position": {
    "height": "calc(100% - 180px)",
    "left": "10px",
    "top": "150px",
    "width": "165px"
   },
   "toc_section_display": true,
   "toc_window_display": true
  },
  "varInspector": {
   "cols": {
    "lenName": 16,
    "lenType": 16,
    "lenVar": 40
   },
   "kernels_config": {
    "python": {
     "delete_cmd_postfix": "",
     "delete_cmd_prefix": "del ",
     "library": "var_list.py",
     "varRefreshCmd": "print(var_dic_list())"
    },
    "r": {
     "delete_cmd_postfix": ") ",
     "delete_cmd_prefix": "rm(",
     "library": "var_list.r",
     "varRefreshCmd": "cat(var_dic_list()) "
    }
   },
   "position": {
    "height": "260px",
    "left": "1106px",
    "right": "20px",
    "top": "120px",
    "width": "314px"
   },
   "types_to_exclude": [
    "module",
    "function",
    "builtin_function_or_method",
    "instance",
    "_Feature"
   ],
   "window_display": true
  }
 },
 "nbformat": 4,
 "nbformat_minor": 4
}
