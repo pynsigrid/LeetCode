{
 "cells": [
  {
   "cell_type": "markdown",
   "metadata": {
    "ExecuteTime": {
     "end_time": "2020-08-21T07:09:18.981838Z",
     "start_time": "2020-08-21T07:09:18.869608Z"
    }
   },
   "source": [
    "LeetCode_String\n",
    "\n",
    "start at:20200821"
   ]
  },
  {
   "cell_type": "markdown",
   "metadata": {},
   "source": [
    "## 有效的括号"
   ]
  },
  {
   "cell_type": "markdown",
   "metadata": {},
   "source": [
    "### 双指针\n",
    "该方法不对， '(([]){}'下发生错误"
   ]
  },
  {
   "cell_type": "code",
   "execution_count": 17,
   "metadata": {
    "ExecuteTime": {
     "end_time": "2020-08-21T07:29:45.446534Z",
     "start_time": "2020-08-21T07:29:45.440940Z"
    }
   },
   "outputs": [],
   "source": [
    "\n",
    "class Solution(object):\n",
    "    def isValid(self, s):\n",
    "        \"\"\"\n",
    "        :type s: str\n",
    "        :rtype: bool\n",
    "        \"\"\"\n",
    "        dicta = {'(':')',\n",
    "        '[':']',\n",
    "        '{':'}'}\n",
    "        left, right = 0, len(s)-1\n",
    "        try:\n",
    "            while left <= right:\n",
    "                if dicta[s[left]] == s[right]:\n",
    "                    left+=1\n",
    "                    right-=1\n",
    "                elif dicta[s[left]] == s[left+1]:\n",
    "                    left+=2\n",
    "                else:\n",
    "                    return False\n",
    "        except:\n",
    "            return False\n",
    "        \n",
    "        return True"
   ]
  },
  {
   "cell_type": "markdown",
   "metadata": {},
   "source": [
    "### 栈"
   ]
  },
  {
   "cell_type": "markdown",
   "metadata": {},
   "source": [
    "入栈：没有匹配的括号\n",
    "出栈：配对成功\n",
    "\n",
    "注意：\n",
    "1. 熟练字典dict的使用，如i in dict是dict的key\n",
    "2. 栈stack的基本操作，如pop和append"
   ]
  },
  {
   "cell_type": "code",
   "execution_count": 46,
   "metadata": {
    "ExecuteTime": {
     "end_time": "2020-08-21T08:01:01.968153Z",
     "start_time": "2020-08-21T08:01:01.962612Z"
    }
   },
   "outputs": [],
   "source": [
    "class Solution(object):\n",
    "    def isValid(self, s):\n",
    "        \"\"\"\n",
    "        :type s: str\n",
    "        :rtype: bool\n",
    "        \"\"\"\n",
    "        dicta = {')':'(',\n",
    "        ']':'[',\n",
    "        '}':'{'}\n",
    "        stack = []\n",
    "        for i in s:\n",
    "            if stack and i in dicta:\n",
    "                if dicta[i] == stack[-1]:\n",
    "#                 print(i, dicta[stack[-1]])\n",
    "                    stack.pop()\n",
    "                else:\n",
    "                    return False\n",
    "            else:\n",
    "                stack.append(i)\n",
    "        \n",
    "        return True if not stack else False"
   ]
  },
  {
   "cell_type": "code",
   "execution_count": 47,
   "metadata": {
    "ExecuteTime": {
     "end_time": "2020-08-21T08:01:02.499333Z",
     "start_time": "2020-08-21T08:01:02.495141Z"
    }
   },
   "outputs": [
    {
     "data": {
      "text/plain": [
       "True"
      ]
     },
     "execution_count": 47,
     "metadata": {},
     "output_type": "execute_result"
    }
   ],
   "source": [
    "dicta = {'(':')',\n",
    "        '[':']',\n",
    "        '{':'}'}\n",
    "s = '()[]{}'\n",
    "a = Solution()\n",
    "a.isValid(s)\n"
   ]
  },
  {
   "cell_type": "markdown",
   "metadata": {},
   "source": [
    "## 14. 最长公共前缀\n"
   ]
  },
  {
   "cell_type": "markdown",
   "metadata": {},
   "source": [
    "### 原理型\n",
    "$LCP(S1,S2...Sn)=LCP(LCP(LCP(S1,S2),S3)...Sn)$\n",
    "\n",
    "注意：python中str是不可变类型，不具有str.append()的方法"
   ]
  },
  {
   "cell_type": "code",
   "execution_count": 10,
   "metadata": {
    "ExecuteTime": {
     "end_time": "2020-08-23T02:12:10.419621Z",
     "start_time": "2020-08-23T02:12:10.413109Z"
    }
   },
   "outputs": [],
   "source": [
    "class Solution:\n",
    "    def longestCommonPrefix(self, strs):\n",
    "        if not strs: return ''\n",
    "        prefix = strs[0]\n",
    "        for i in range(1, len(strs)):\n",
    "            prefix = self.lcp(prefix, strs[i])\n",
    "        return prefix\n",
    "    \n",
    "    def lcp(self, s1, s2):\n",
    "#         ans = []\n",
    "        idx = 0\n",
    "        for i in range(min(len(s1), len(s2))):\n",
    "            if s1[i] == s2[i]:\n",
    "#                 ans.append(s1[i])\n",
    "                idx += 1\n",
    "            else:\n",
    "                break\n",
    "        return s1[:idx]"
   ]
  },
  {
   "cell_type": "markdown",
   "metadata": {},
   "source": [
    "### 技巧型1\n",
    "比较排序数组首尾两个字符串的最长公共前缀"
   ]
  },
  {
   "cell_type": "code",
   "execution_count": 12,
   "metadata": {
    "ExecuteTime": {
     "end_time": "2020-08-23T02:19:13.372440Z",
     "start_time": "2020-08-23T02:19:13.366637Z"
    }
   },
   "outputs": [],
   "source": [
    "class Solution:\n",
    "    def longestCommonPrefix(self, strs):\n",
    "        if not strs: return ''\n",
    "        strs.sort()\n",
    "        start, end = strs[0], strs[-1]\n",
    "        idx = 0\n",
    "        for i in range(min(len(start), len(end))):\n",
    "            if start[i] == end[i]:\n",
    "#                 ans.append(s1[i])\n",
    "                idx += 1\n",
    "            else:\n",
    "                break\n",
    "        return start[:idx]\n",
    "    "
   ]
  },
  {
   "cell_type": "markdown",
   "metadata": {},
   "source": [
    "### 技巧型2\n",
    "利用zip和set方式\n",
    "1. zip:将对象中对应的元素打包成一个个元组\n",
    "2. set:集合操作, 去除重复的元素=》当set的len==1时表示该项为公共前缀"
   ]
  },
  {
   "cell_type": "code",
   "execution_count": 14,
   "metadata": {
    "ExecuteTime": {
     "end_time": "2020-08-23T02:58:11.580636Z",
     "start_time": "2020-08-23T02:58:11.576378Z"
    }
   },
   "outputs": [],
   "source": [
    "class Solution:\n",
    "    def longestCommonPrefix(self, strs):\n",
    "        #时间复杂度O(mn),空间复杂度为O(1)\n",
    "        if not strs: return ''\n",
    "        result = ''\n",
    "        for temp in zip(*strs):\n",
    "            print(temp)\n",
    "            if len(set(temp)) == 1:\n",
    "                result += temp[0]\n",
    "            else:\n",
    "                break\n",
    "        return result\n"
   ]
  },
  {
   "cell_type": "code",
   "execution_count": 15,
   "metadata": {
    "ExecuteTime": {
     "end_time": "2020-08-23T02:58:11.846979Z",
     "start_time": "2020-08-23T02:58:11.839926Z"
    }
   },
   "outputs": [
    {
     "name": "stdout",
     "output_type": "stream",
     "text": [
      "('f', 'f', 'f')\n",
      "('l', 'l', 'l')\n",
      "('o', 'o', 'i')\n"
     ]
    },
    {
     "data": {
      "text/plain": [
       "'fl'"
      ]
     },
     "execution_count": 15,
     "metadata": {},
     "output_type": "execute_result"
    }
   ],
   "source": [
    "strs = [\"flower\",\"flow\",\"flight\"]\n",
    "a = Solution()\n",
    "a.longestCommonPrefix(strs)"
   ]
  },
  {
   "cell_type": "code",
   "execution_count": null,
   "metadata": {},
   "outputs": [],
   "source": []
  }
 ],
 "metadata": {
  "kernelspec": {
   "display_name": "Python 3",
   "language": "python",
   "name": "python3"
  },
  "language_info": {
   "codemirror_mode": {
    "name": "ipython",
    "version": 3
   },
   "file_extension": ".py",
   "mimetype": "text/x-python",
   "name": "python",
   "nbconvert_exporter": "python",
   "pygments_lexer": "ipython3",
   "version": "3.7.6"
  },
  "toc": {
   "base_numbering": 1,
   "nav_menu": {},
   "number_sections": true,
   "sideBar": true,
   "skip_h1_title": false,
   "title_cell": "Table of Contents",
   "title_sidebar": "Contents",
   "toc_cell": false,
   "toc_position": {},
   "toc_section_display": true,
   "toc_window_display": false
  },
  "varInspector": {
   "cols": {
    "lenName": 16,
    "lenType": 16,
    "lenVar": 40
   },
   "kernels_config": {
    "python": {
     "delete_cmd_postfix": "",
     "delete_cmd_prefix": "del ",
     "library": "var_list.py",
     "varRefreshCmd": "print(var_dic_list())"
    },
    "r": {
     "delete_cmd_postfix": ") ",
     "delete_cmd_prefix": "rm(",
     "library": "var_list.r",
     "varRefreshCmd": "cat(var_dic_list()) "
    }
   },
   "types_to_exclude": [
    "module",
    "function",
    "builtin_function_or_method",
    "instance",
    "_Feature"
   ],
   "window_display": false
  }
 },
 "nbformat": 4,
 "nbformat_minor": 4
}
