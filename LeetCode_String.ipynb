{
 "cells": [
  {
   "cell_type": "markdown",
   "metadata": {
    "ExecuteTime": {
     "end_time": "2020-08-21T07:09:18.981838Z",
     "start_time": "2020-08-21T07:09:18.869608Z"
    }
   },
   "source": [
    "LeetCode_String\n",
    "\n",
    "start at:20200821"
   ]
  },
  {
   "cell_type": "markdown",
   "metadata": {},
   "source": [
    "## 有效的括号"
   ]
  },
  {
   "cell_type": "markdown",
   "metadata": {},
   "source": [
    "### 双指针\n",
    "该方法不对， '(([]){}'下发生错误"
   ]
  },
  {
   "cell_type": "code",
   "execution_count": 17,
   "metadata": {
    "ExecuteTime": {
     "end_time": "2020-08-21T07:29:45.446534Z",
     "start_time": "2020-08-21T07:29:45.440940Z"
    }
   },
   "outputs": [],
   "source": [
    "\n",
    "class Solution(object):\n",
    "    def isValid(self, s):\n",
    "        \"\"\"\n",
    "        :type s: str\n",
    "        :rtype: bool\n",
    "        \"\"\"\n",
    "        dicta = {'(':')',\n",
    "        '[':']',\n",
    "        '{':'}'}\n",
    "        left, right = 0, len(s)-1\n",
    "        try:\n",
    "            while left <= right:\n",
    "                if dicta[s[left]] == s[right]:\n",
    "                    left+=1\n",
    "                    right-=1\n",
    "                elif dicta[s[left]] == s[left+1]:\n",
    "                    left+=2\n",
    "                else:\n",
    "                    return False\n",
    "        except:\n",
    "            return False\n",
    "        \n",
    "        return True"
   ]
  },
  {
   "cell_type": "markdown",
   "metadata": {},
   "source": [
    "### 栈"
   ]
  },
  {
   "cell_type": "markdown",
   "metadata": {},
   "source": [
    "入栈：没有匹配的括号\n",
    "出栈：配对成功\n",
    "\n",
    "注意：\n",
    "1. 熟练字典dict的使用，如i in dict是dict的key\n",
    "2. 栈stack的基本操作，如pop和append"
   ]
  },
  {
   "cell_type": "code",
   "execution_count": 46,
   "metadata": {
    "ExecuteTime": {
     "end_time": "2020-08-21T08:01:01.968153Z",
     "start_time": "2020-08-21T08:01:01.962612Z"
    }
   },
   "outputs": [],
   "source": [
    "class Solution(object):\n",
    "    def isValid(self, s):\n",
    "        \"\"\"\n",
    "        :type s: str\n",
    "        :rtype: bool\n",
    "        \"\"\"\n",
    "        dicta = {')':'(',\n",
    "        ']':'[',\n",
    "        '}':'{'}\n",
    "        stack = []\n",
    "        for i in s:\n",
    "            if stack and i in dicta:\n",
    "                if dicta[i] == stack[-1]:\n",
    "#                 print(i, dicta[stack[-1]])\n",
    "                    stack.pop()\n",
    "                else:\n",
    "                    return False\n",
    "            else:\n",
    "                stack.append(i)\n",
    "        \n",
    "        return True if not stack else False"
   ]
  },
  {
   "cell_type": "code",
   "execution_count": 47,
   "metadata": {
    "ExecuteTime": {
     "end_time": "2020-08-21T08:01:02.499333Z",
     "start_time": "2020-08-21T08:01:02.495141Z"
    }
   },
   "outputs": [
    {
     "data": {
      "text/plain": [
       "True"
      ]
     },
     "execution_count": 47,
     "metadata": {},
     "output_type": "execute_result"
    }
   ],
   "source": [
    "dicta = {'(':')',\n",
    "        '[':']',\n",
    "        '{':'}'}\n",
    "s = '()[]{}'\n",
    "a = Solution()\n",
    "a.isValid(s)\n"
   ]
  },
  {
   "cell_type": "markdown",
   "metadata": {},
   "source": [
    "## 14. 最长公共前缀\n"
   ]
  },
  {
   "cell_type": "markdown",
   "metadata": {},
   "source": [
    "### 原理型\n",
    "$LCP(S1,S2...Sn)=LCP(LCP(LCP(S1,S2),S3)...Sn)$\n",
    "\n",
    "注意：python中str是不可变类型，不具有str.append()的方法"
   ]
  },
  {
   "cell_type": "code",
   "execution_count": 10,
   "metadata": {
    "ExecuteTime": {
     "end_time": "2020-08-23T02:12:10.419621Z",
     "start_time": "2020-08-23T02:12:10.413109Z"
    }
   },
   "outputs": [],
   "source": [
    "class Solution:\n",
    "    def longestCommonPrefix(self, strs):\n",
    "        if not strs: return ''\n",
    "        prefix = strs[0]\n",
    "        for i in range(1, len(strs)):\n",
    "            prefix = self.lcp(prefix, strs[i])\n",
    "        return prefix\n",
    "    \n",
    "    def lcp(self, s1, s2):\n",
    "#         ans = []\n",
    "        idx = 0\n",
    "        for i in range(min(len(s1), len(s2))):\n",
    "            if s1[i] == s2[i]:\n",
    "#                 ans.append(s1[i])\n",
    "                idx += 1\n",
    "            else:\n",
    "                break\n",
    "        return s1[:idx]"
   ]
  },
  {
   "cell_type": "markdown",
   "metadata": {},
   "source": [
    "### 技巧型1\n",
    "比较排序数组首尾两个字符串的最长公共前缀"
   ]
  },
  {
   "cell_type": "code",
   "execution_count": 12,
   "metadata": {
    "ExecuteTime": {
     "end_time": "2020-08-23T02:19:13.372440Z",
     "start_time": "2020-08-23T02:19:13.366637Z"
    }
   },
   "outputs": [],
   "source": [
    "class Solution:\n",
    "    def longestCommonPrefix(self, strs):\n",
    "        if not strs: return ''\n",
    "        strs.sort()\n",
    "        start, end = strs[0], strs[-1]\n",
    "        idx = 0\n",
    "        for i in range(min(len(start), len(end))):\n",
    "            if start[i] == end[i]:\n",
    "#                 ans.append(s1[i])\n",
    "                idx += 1\n",
    "            else:\n",
    "                break\n",
    "        return start[:idx]\n",
    "    "
   ]
  },
  {
   "cell_type": "markdown",
   "metadata": {},
   "source": [
    "### 技巧型2\n",
    "利用zip和set方式\n",
    "1. zip:将对象中对应的元素打包成一个个元组\n",
    "2. set:集合操作, 去除重复的元素=》当set的len==1时表示该项为公共前缀"
   ]
  },
  {
   "cell_type": "code",
   "execution_count": 14,
   "metadata": {
    "ExecuteTime": {
     "end_time": "2020-08-23T02:58:11.580636Z",
     "start_time": "2020-08-23T02:58:11.576378Z"
    }
   },
   "outputs": [],
   "source": [
    "class Solution:\n",
    "    def longestCommonPrefix(self, strs):\n",
    "        #时间复杂度O(mn),空间复杂度为O(1)\n",
    "        if not strs: return ''\n",
    "        result = ''\n",
    "        for temp in zip(*strs):\n",
    "            print(temp)\n",
    "            if len(set(temp)) == 1:\n",
    "                result += temp[0]\n",
    "            else:\n",
    "                break\n",
    "        return result\n"
   ]
  },
  {
   "cell_type": "code",
   "execution_count": 15,
   "metadata": {
    "ExecuteTime": {
     "end_time": "2020-08-23T02:58:11.846979Z",
     "start_time": "2020-08-23T02:58:11.839926Z"
    }
   },
   "outputs": [
    {
     "name": "stdout",
     "output_type": "stream",
     "text": [
      "('f', 'f', 'f')\n",
      "('l', 'l', 'l')\n",
      "('o', 'o', 'i')\n"
     ]
    },
    {
     "data": {
      "text/plain": [
       "'fl'"
      ]
     },
     "execution_count": 15,
     "metadata": {},
     "output_type": "execute_result"
    }
   ],
   "source": [
    "strs = [\"flower\",\"flow\",\"flight\"]\n",
    "a = Solution()\n",
    "a.longestCommonPrefix(strs)"
   ]
  },
  {
   "cell_type": "markdown",
   "metadata": {},
   "source": [
    "## 28. 实现strStr()"
   ]
  },
  {
   "cell_type": "code",
   "execution_count": null,
   "metadata": {},
   "outputs": [],
   "source": []
  },
  {
   "cell_type": "markdown",
   "metadata": {},
   "source": [
    "### 滑窗\n",
    "1. \n",
    "2. 时间复杂度：$O((N-L)L)$"
   ]
  },
  {
   "cell_type": "code",
   "execution_count": 94,
   "metadata": {
    "ExecuteTime": {
     "end_time": "2020-08-23T07:42:33.708791Z",
     "start_time": "2020-08-23T07:42:33.703900Z"
    }
   },
   "outputs": [],
   "source": [
    "class Solution(object):\n",
    "    def strStr(self, haystack, needle):\n",
    "        \"\"\"\n",
    "        :type haystack: str\n",
    "        :type needle: str\n",
    "        :rtype: int\n",
    "        \"\"\"\n",
    "        if len(needle)==0: return 0\n",
    "        for i in range(len(haystack)-len(needle)+1):\n",
    "            if haystack[i:i+len(needle)] == needle:\n",
    "                return i\n",
    "        return -1"
   ]
  },
  {
   "cell_type": "markdown",
   "metadata": {},
   "source": [
    "### 双指针+回溯(sù)\n",
    "提交LeetCode时总在细节报错，实在debug不下去了。。。\n",
    "1. 注意遍历和回溯需要两个循环实现\n",
    "2. 时间复杂度：$O((N-L)L)$"
   ]
  },
  {
   "cell_type": "code",
   "execution_count": 142,
   "metadata": {
    "ExecuteTime": {
     "end_time": "2020-08-23T07:58:53.873498Z",
     "start_time": "2020-08-23T07:58:53.864123Z"
    }
   },
   "outputs": [],
   "source": [
    "class Solution(object):\n",
    "    def strStr(self, haystack, needle):\n",
    "        \"\"\"\n",
    "        :type haystack: str\n",
    "        :type needle: str\n",
    "        :rtype: int\n",
    "        \"\"\"\n",
    "        if len(needle)==0: return 0\n",
    "#         if len(haystack)==0 and len(needle)==0: return 0\n",
    "\n",
    "        p1, p2 = 0, 0\n",
    "        idx = 0\n",
    "        # 仅haystack第一位和stack相同时开始匹配\n",
    "        while p1<len(haystack) and p2<len(needle):\n",
    "            if haystack[p1] == needle[p2]:\n",
    "                idx = p1\n",
    "                for i in range(min(len(haystack), len(needle))):\n",
    "\n",
    "                    \n",
    "                    print('1', p1, p2, haystack[idx:p1+1])\n",
    "                    if haystack[idx:p1+1] == needle:\n",
    "                        return idx\n",
    "                    else:\n",
    "                        if haystack[p1] == needle[p2]:\n",
    "                            if p1<len(haystack)-1:\n",
    "                                p1 += 1\n",
    "                            if p2<len(needle)-1:\n",
    "                                p2 += 1 \n",
    "                        else:\n",
    "                            p1 = idx+1\n",
    "                            p2 = 0\n",
    "                            break\n",
    "                if haystack[idx:p1] == needle:\n",
    "                    return idx\n",
    "                \n",
    "            else:\n",
    "                if p1<len(haystack):\n",
    "                    p1 += 1 \n",
    "        return -1\n",
    "    "
   ]
  },
  {
   "cell_type": "code",
   "execution_count": 144,
   "metadata": {
    "ExecuteTime": {
     "end_time": "2020-08-23T07:59:47.841087Z",
     "start_time": "2020-08-23T07:59:47.831779Z"
    }
   },
   "outputs": [],
   "source": [
    "class Solution:\n",
    "    def strStr(self, haystack: str, needle: str) -> int:\n",
    "        L, n = len(needle), len(haystack)\n",
    "        if L == 0:\n",
    "            return 0\n",
    "\n",
    "        pn = 0\n",
    "        while pn < n - L + 1:\n",
    "            # find the position of the first needle character\n",
    "            # in the haystack string\n",
    "            while pn < n - L + 1 and haystack[pn] != needle[0]:\n",
    "                pn += 1\n",
    "            \n",
    "            # compute the max match string\n",
    "            curr_len = pL = 0\n",
    "            while pL < L and pn < n and haystack[pn] == needle[pL]:\n",
    "                pn += 1\n",
    "                pL += 1\n",
    "                curr_len += 1\n",
    "            \n",
    "            # if the whole needle string is found,\n",
    "            # return its start position\n",
    "            if curr_len == L:\n",
    "                return pn - L\n",
    "            \n",
    "            # otherwise, backtrack\n",
    "            pn = pn - curr_len + 1\n",
    "            \n",
    "        return -1"
   ]
  },
  {
   "cell_type": "code",
   "execution_count": 145,
   "metadata": {
    "ExecuteTime": {
     "end_time": "2020-08-23T07:59:48.070660Z",
     "start_time": "2020-08-23T07:59:48.065454Z"
    }
   },
   "outputs": [
    {
     "data": {
      "text/plain": [
       "-1"
      ]
     },
     "execution_count": 145,
     "metadata": {},
     "output_type": "execute_result"
    }
   ],
   "source": [
    "haystack = \"mississippi\"\n",
    "needle = \"issipi\"\n",
    "# haystack = 'aaaaa'\n",
    "# needle = 'bba'\n",
    "a = Solution()\n",
    "a.strStr(haystack, needle)"
   ]
  },
  {
   "cell_type": "markdown",
   "metadata": {},
   "source": [
    "### KMP\n",
    "字符串匹配通解\n",
    "留一个坑，之后填"
   ]
  },
  {
   "cell_type": "markdown",
   "metadata": {},
   "source": [
    "## 38. 外观数列"
   ]
  },
  {
   "cell_type": "markdown",
   "metadata": {},
   "source": [
    "由前一个情况递推后一个\n",
    "\n",
    "注意每个情况的统计策略\n",
    "\n",
    "注意：string是不可变类型。没有append，可以用+="
   ]
  },
  {
   "cell_type": "code",
   "execution_count": 51,
   "metadata": {
    "ExecuteTime": {
     "end_time": "2020-08-25T02:51:56.229241Z",
     "start_time": "2020-08-25T02:51:56.222232Z"
    }
   },
   "outputs": [],
   "source": [
    "class Solution(object):\n",
    "    def countAndSay(self, n: int) -> str:\n",
    "        \"\"\"\n",
    "        :type n: int\n",
    "        :rtype: str\n",
    "        \"\"\"    \n",
    "        def count_n(s):\n",
    "            ans = ''\n",
    "            i = 0\n",
    "            while i<len(s):\n",
    "                cnt = 1\n",
    "                while i<len(s)-1 and s[i]==s[i+1]:\n",
    "                    cnt += 1\n",
    "                    i += 1\n",
    "                ans += (f'{cnt}' + f'{s[i]}')\n",
    "                i += 1\n",
    "#                 print(i, ans)\n",
    "            return ans\n",
    "        \n",
    "        ans = '1'\n",
    "        for i in range(1, n):\n",
    "            ans = count_n(ans)\n",
    "        return ans"
   ]
  },
  {
   "cell_type": "code",
   "execution_count": 52,
   "metadata": {
    "ExecuteTime": {
     "end_time": "2020-08-25T02:51:56.408559Z",
     "start_time": "2020-08-25T02:51:56.402989Z"
    }
   },
   "outputs": [
    {
     "data": {
      "text/plain": [
       "'111221'"
      ]
     },
     "execution_count": 52,
     "metadata": {},
     "output_type": "execute_result"
    }
   ],
   "source": [
    "n = 5\n",
    "a = Solution()\n",
    "a.countAndSay(n)"
   ]
  },
  {
   "cell_type": "markdown",
   "metadata": {},
   "source": [
    "## 验证回文串\n"
   ]
  },
  {
   "cell_type": "markdown",
   "metadata": {},
   "source": [
    "### $s=s[::-1]$"
   ]
  },
  {
   "cell_type": "code",
   "execution_count": 43,
   "metadata": {
    "ExecuteTime": {
     "end_time": "2020-08-26T07:57:00.511870Z",
     "start_time": "2020-08-26T07:57:00.503730Z"
    }
   },
   "outputs": [],
   "source": [
    "class Solution:\n",
    "    def isPalindrome(self, s):\n",
    "        s_low = ''\n",
    "        for p in s:\n",
    "            if self.isTarget(p):\n",
    "                s_low += p.lower()\n",
    "            \n",
    "#         s_low = ''.join(p.lower() for p in s if isTarget(s))\n",
    "        return s_low == s_low[::-1]\n",
    "    \n",
    "    def isTarget(self, p):\n",
    "        return 'A'<=p<='Z' or 'a'<=p<='z' or '0'<=p<='9'\n",
    "    "
   ]
  },
  {
   "cell_type": "code",
   "execution_count": 44,
   "metadata": {
    "ExecuteTime": {
     "end_time": "2020-08-26T07:57:00.843648Z",
     "start_time": "2020-08-26T07:57:00.836658Z"
    },
    "scrolled": true
   },
   "outputs": [
    {
     "data": {
      "text/plain": [
       "True"
      ]
     },
     "execution_count": 44,
     "metadata": {},
     "output_type": "execute_result"
    }
   ],
   "source": [
    "s = \"A man, a plan, a canal: Panama\"\n",
    "a = Solution()\n",
    "a.isPalindrome(s)"
   ]
  },
  {
   "cell_type": "markdown",
   "metadata": {},
   "source": [
    "### 双指针"
   ]
  },
  {
   "cell_type": "code",
   "execution_count": null,
   "metadata": {},
   "outputs": [],
   "source": []
  }
 ],
 "metadata": {
  "kernelspec": {
   "display_name": "Python 3",
   "language": "python",
   "name": "python3"
  },
  "language_info": {
   "codemirror_mode": {
    "name": "ipython",
    "version": 3
   },
   "file_extension": ".py",
   "mimetype": "text/x-python",
   "name": "python",
   "nbconvert_exporter": "python",
   "pygments_lexer": "ipython3",
   "version": "3.7.6"
  },
  "toc": {
   "base_numbering": 1,
   "nav_menu": {},
   "number_sections": true,
   "sideBar": true,
   "skip_h1_title": false,
   "title_cell": "Table of Contents",
   "title_sidebar": "Contents",
   "toc_cell": false,
   "toc_position": {
    "height": "calc(100% - 180px)",
    "left": "10px",
    "top": "150px",
    "width": "165px"
   },
   "toc_section_display": true,
   "toc_window_display": true
  },
  "varInspector": {
   "cols": {
    "lenName": 16,
    "lenType": 16,
    "lenVar": 40
   },
   "kernels_config": {
    "python": {
     "delete_cmd_postfix": "",
     "delete_cmd_prefix": "del ",
     "library": "var_list.py",
     "varRefreshCmd": "print(var_dic_list())"
    },
    "r": {
     "delete_cmd_postfix": ") ",
     "delete_cmd_prefix": "rm(",
     "library": "var_list.r",
     "varRefreshCmd": "cat(var_dic_list()) "
    }
   },
   "types_to_exclude": [
    "module",
    "function",
    "builtin_function_or_method",
    "instance",
    "_Feature"
   ],
   "window_display": false
  }
 },
 "nbformat": 4,
 "nbformat_minor": 4
}
