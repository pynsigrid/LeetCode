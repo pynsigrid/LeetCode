{
 "cells": [
  {
   "cell_type": "markdown",
   "metadata": {
    "ExecuteTime": {
     "end_time": "2020-08-21T07:09:18.981838Z",
     "start_time": "2020-08-21T07:09:18.869608Z"
    }
   },
   "source": [
    "LeetCode_String\n",
    "\n",
    "start at:20200821"
   ]
  },
  {
   "cell_type": "markdown",
   "metadata": {},
   "source": [
    "### 双指针\n",
    "该方法不对， '(([]){}'下发生错误"
   ]
  },
  {
   "cell_type": "code",
   "execution_count": 17,
   "metadata": {
     "start_time": "2020-08-21T07:29:45.440940Z"
    }
   },
   "outputs": [],
   "source": [
    "\n",
    "class Solution(object):\n",
    "    def isValid(self, s):\n",
    "        \"\"\"\n",
    "        :type s: str\n",
    "        :rtype: bool\n",
    "        \"\"\"\n",
    "        dicta = {'(':')',\n",
    "        '[':']',\n",
    "        '{':'}'}\n",
    "        left, right = 0, len(s)-1\n",
    "        try:\n",
    "            while left <= right:\n",
    "                if dicta[s[left]] == s[right]:\n",
    "                    left+=1\n",
    "                    right-=1\n",
    "                elif dicta[s[left]] == s[left+1]:\n",
    "                    left+=2\n",
    "                else:\n",
    "                    return False\n",
    "        except:\n",
    "            return False\n",
    "        \n",
    "        return True"
   ]
  },
  {
   "cell_type": "markdown",
   "metadata": {},
   "source": [
    "### 栈"
   ]
  },
  {
   "cell_type": "markdown",
   "metadata": {},
   "source": [
    "入栈：没有匹配的括号\n",
    "出栈：配对成功\n",
    "\n",
    "注意：\n",
    "1. 熟练字典dict的使用，如i in dict是dict的key\n",
    "2. 栈stack的基本操作，如pop和append"
   ]
  },
  {
   "cell_type": "code",
   "execution_count": 46,
   "metadata": {
    "ExecuteTime": {
     "end_time": "2020-08-21T08:01:01.968153Z",
     "start_time": "2020-08-21T08:01:01.962612Z"
    }
   },
   "outputs": [],
   "source": [
    "class Solution(object):\n",
    "    def isValid(self, s):\n",
    "        \"\"\"\n",
    "        :type s: str\n",
    "        :rtype: bool\n",
    "        \"\"\"\n",
    "        dicta = {')':'(',\n",
    "        ']':'[',\n",
    "        '}':'{'}\n",
    "        stack = []\n",
    "        for i in s:\n",
    "            if stack and i in dicta:\n",
    "                if dicta[i] == stack[-1]:\n",
    "#                 print(i, dicta[stack[-1]])\n",
    "                    stack.pop()\n",
    "                else:\n",
    "                    return False\n",
    "            else:\n",
    "                stack.append(i)\n",
    "        \n",
    "        return True if not stack else False"
   ]
  },
  {
   "cell_type": "code",
   "execution_count": 47,
   "metadata": {
    "ExecuteTime": {
     "end_time": "2020-08-21T08:01:02.499333Z",
     "start_time": "2020-08-21T08:01:02.495141Z"
    }
   },
   "outputs": [
    {
     "data": {
      "text/plain": [
       "True"
      ]
     },
     "execution_count": 47,
     "metadata": {},
     "output_type": "execute_result"
    }
   ],
   "source": [
    "dicta = {'(':')',\n",
    "        '[':']',\n",
    "        '{':'}'}\n",
    "s = '()[]{}'\n",
    "a = Solution()\n",
    "a.isValid(s)\n"
   ]
  },
  {
   "cell_type": "code",
   "execution_count": null,
   "metadata": {},
   "outputs": [],
   "source": []
  }
 ],
 "metadata": {
  "kernelspec": {
   "display_name": "Python 3",
   "language": "python",
   "name": "python3"
  },
  "language_info": {
   "codemirror_mode": {
    "name": "ipython",
    "version": 3
   },
   "file_extension": ".py",
   "mimetype": "text/x-python",
   "name": "python",
   "nbconvert_exporter": "python",
   "pygments_lexer": "ipython3",
   "version": "3.7.6"
  },
  "toc": {
   "base_numbering": 1,
   "nav_menu": {},
   "number_sections": true,
   "sideBar": true,
   "skip_h1_title": false,
   "title_cell": "Table of Contents",
   "title_sidebar": "Contents",
   "toc_cell": false,
   "toc_position": {},
   "toc_section_display": true,
   "toc_window_display": false
  },
  "varInspector": {
   "cols": {
    "lenName": 16,
    "lenType": 16,
    "lenVar": 40
   },
   "kernels_config": {
    "python": {
     "delete_cmd_postfix": "",
     "delete_cmd_prefix": "del ",
     "library": "var_list.py",
     "varRefreshCmd": "print(var_dic_list())"
    },
    "r": {
     "delete_cmd_postfix": ") ",
     "delete_cmd_prefix": "rm(",
     "library": "var_list.r",
     "varRefreshCmd": "cat(var_dic_list()) "
    }
   },
   "types_to_exclude": [
    "module",
    "function",
    "builtin_function_or_method",
    "instance",
    "_Feature"
   ],
   "window_display": false
  }
 },
 "nbformat": 4,
 "nbformat_minor": 4
}
