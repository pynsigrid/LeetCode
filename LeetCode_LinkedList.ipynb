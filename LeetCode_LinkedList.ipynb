{
 "cells": [
  {
   "cell_type": "markdown",
   "metadata": {},
   "source": [
    "单链表生成"
   ]
  },
  {
   "cell_type": "code",
   "execution_count": 20,
   "metadata": {
    "ExecuteTime": {
     "end_time": "2020-09-27T13:23:59.887405Z",
     "start_time": "2020-09-27T13:23:59.861757Z"
    }
   },
   "outputs": [],
   "source": [
    "class SingleLinkList(object):\n",
    "    \"\"\"单链表\"\"\"\n",
    "\n",
    "    def __init__(self):\n",
    "        self._head = None\n",
    "\n",
    "    def is_empty(self):\n",
    "        \"\"\"判断链表是否为空\"\"\"\n",
    "        return self._head is None\n",
    "\n",
    "    def length(self):\n",
    "        \"\"\"链表长度\"\"\"\n",
    "        # 初始指针指向head\n",
    "        cur = self._head\n",
    "        count = 0\n",
    "        # 指针指向None 表示到达尾部\n",
    "        while cur is not None:\n",
    "            count += 1\n",
    "            # 指针下移\n",
    "            cur = cur.next\n",
    "        return count\n",
    "\n",
    "    def items(self):\n",
    "        \"\"\"遍历链表\"\"\"\n",
    "        # 获取head指针\n",
    "        cur = self._head\n",
    "        # 循环遍历\n",
    "        while cur is not None:\n",
    "            # 返回生成器\n",
    "            yield cur.val\n",
    "            # 指针下移\n",
    "            cur = cur.next\n",
    "\n",
    "    def add(self, item):\n",
    "        \"\"\"向链表头部添加元素\"\"\"\n",
    "        node = Node(item)\n",
    "        # 新结点指针指向原头部结点\n",
    "        node.next = self._head\n",
    "        # 头部结点指针修改为新结点\n",
    "        self._head = node\n",
    "\n",
    "    def append(self, item):\n",
    "        \"\"\"尾部添加元素\"\"\"\n",
    "        node = ListNode(item)\n",
    "        # 先判断是否为空链表\n",
    "        if self.is_empty():\n",
    "            # 空链表，_head 指向新结点\n",
    "            self._head = node\n",
    "        else:\n",
    "            # 不是空链表，则找到尾部，将尾部next结点指向新结点\n",
    "            cur = self._head\n",
    "            while cur.next is not None:\n",
    "                cur = cur.next  # ⚠️每次生成新链表后，_head都重新指向头部，因此需要遍历到链尾\n",
    "            cur.next = node\n",
    "\n",
    "    def insert(self, index, item):\n",
    "        \"\"\"指定位置插入元素\"\"\"\n",
    "        # 指定位置在第一个元素之前，在头部插入\n",
    "        if index <= 0:\n",
    "            self.add(item)\n",
    "        # 指定位置超过尾部，在尾部插入\n",
    "        elif index > (self.length() - 1):\n",
    "            self.append(item)\n",
    "        else:\n",
    "            # 创建元素结点\n",
    "            node = ListNode(item)\n",
    "            cur = self._head\n",
    "            # 循环到需要插入的位置\n",
    "            for i in range(index - 1):\n",
    "                cur = cur.next\n",
    "            node.next = cur.next\n",
    "            cur.next = node\n",
    "\n",
    "    def remove(self, item):\n",
    "        \"\"\"删除节点\"\"\"\n",
    "        cur = self._head\n",
    "        pre = None\n",
    "        while cur is not None:\n",
    "            # 找到指定元素\n",
    "            if cur.val == item:\n",
    "                # 如果第一个就是删除的节点\n",
    "                if not pre:\n",
    "                    # 将头指针指向头节点的后一个节点\n",
    "                    self._head = cur.next\n",
    "                else:\n",
    "                    # 将删除位置前一个节点的next指向删除位置的后一个节点\n",
    "                    pre.next = cur.next\n",
    "                return True\n",
    "            else:\n",
    "                # 继续按链表后移节点\n",
    "                pre = cur\n",
    "                cur = cur.next\n",
    "\n",
    "    def find(self, item):\n",
    "        \"\"\"查找元素是否存在\"\"\"\n",
    "        return item in self.items()"
   ]
  },
  {
   "cell_type": "code",
   "execution_count": 25,
   "metadata": {
    "ExecuteTime": {
     "end_time": "2020-09-27T13:25:16.581581Z",
     "start_time": "2020-09-27T13:25:16.570723Z"
    }
   },
   "outputs": [
    {
     "name": "stdout",
     "output_type": "stream",
     "text": [
      "3\n",
      "1\n",
      "4\n",
      "2\n",
      "5\n"
     ]
    }
   ],
   "source": [
    "l1 = SingleLinkList()\n",
    "for i in (3, 1, 4, 2, 5):\n",
    "#     l = ListNode(i)\n",
    "    l1.append(i)\n",
    "for i in l1.items():\n",
    "    print(i)"
   ]
  },
  {
   "cell_type": "markdown",
   "metadata": {},
   "source": [
    "## 141. 环形链表I"
   ]
  },
  {
   "cell_type": "code",
   "execution_count": null,
   "metadata": {},
   "outputs": [],
   "source": [
    "# Definition for singly-linked list.\n",
    "# class ListNode(object):\n",
    "#     def __init__(self, x):\n",
    "#         self.val = x\n",
    "#         self.next = None\n",
    "\n",
    "class Solution(object):\n",
    "    def hasCycle(self, head):\n",
    "        \"\"\"\n",
    "        :type head: ListNode\n",
    "        :rtype: bool\n",
    "        \"\"\"\n",
    "        if not head or not head.next:   #节点不存在或下一个节点不存在\n",
    "            return False\n",
    "            \n",
    "        slow = head\n",
    "        fast = head.next\n",
    "        \n",
    "        while fast and fast.next:\n",
    "            if slow == fast:\n",
    "                return True\n",
    "            slow = slow.next\n",
    "            fast = fast.next.next\n",
    "            \n",
    "        return False"
   ]
  },
  {
   "cell_type": "markdown",
   "metadata": {},
   "source": [
    "## 141. 环形链表II\n"
   ]
  },
  {
   "cell_type": "code",
   "execution_count": null,
   "metadata": {},
   "outputs": [],
   "source": [
    "class Solution(object):\n",
    "    def detectCycle(self, head):\n",
    "        slow, quick= head, head\n",
    "        while quick and quick.next:\n",
    "            slow = slow.next\n",
    "            quick = quick.next.next\n",
    "            if slow == quick:\n",
    "                quick = head\n",
    "                while slow != quick:\n",
    "                    slow = slow.next\n",
    "                    quick = quick.next\n",
    "                return slow\n",
    "        return None\n"
   ]
  },
  {
   "cell_type": "markdown",
   "metadata": {},
   "source": [
    "## 21. 合并两个有序链表"
   ]
  },
  {
   "cell_type": "markdown",
   "metadata": {},
   "source": [
    "### 递归\n",
    "1. 终止条件：if None： return another\n",
    "2. 合并实现：if l1<l2: l1+merge(l1[1:], l2)\n",
    "3. +的实现：l1.next = self.merge(l1.next, l2)\n",
    "\n",
    "⚠️不能开新空间，因为递归的函数调用只能传入l1和l2作为参数\n",
    "\n",
    "时间复杂度：$O(M+N)$\n",
    "\n",
    "空间复杂度：$O(M+N)$ 🍓递归占用的空间为栈深度"
   ]
  },
  {
   "cell_type": "code",
   "execution_count": 1,
   "metadata": {
    "ExecuteTime": {
     "end_time": "2020-09-27T12:56:26.176731Z",
     "start_time": "2020-09-27T12:56:26.163567Z"
    }
   },
   "outputs": [],
   "source": [
    "# Definition for singly-linked list.\n",
    "class ListNode(object):\n",
    "    def __init__(self, val=0, next=None):\n",
    "        self.val = val\n",
    "        self.next = next\n",
    "        \n",
    "        \n",
    "class Solution(object):\n",
    "    def mergeTwoLists(self, l1, l2):\n",
    "        \"\"\"\n",
    "        :type l1: ListNode\n",
    "        :type l2: ListNode\n",
    "        :rtype: ListNode\n",
    "        \"\"\"\n",
    "        if l1 is None:\n",
    "            return l2\n",
    "        if l2 is None:\n",
    "            return l1\n",
    "        if l1.val < l2.val:\n",
    "            l1.next = self.mergeTwoLists(l1.next, l2)\n",
    "            return l1\n",
    "        else:\n",
    "            l2.next = self.mergeTwoLists(l1, l2.next)\n",
    "            return l2\n",
    "            "
   ]
  },
  {
   "cell_type": "markdown",
   "metadata": {},
   "source": [
    "### 迭代"
   ]
  },
  {
   "cell_type": "markdown",
   "metadata": {},
   "source": [
    "1. 开新空间l用于连接l1和l2\n",
    "2. 🍓l_head在第一个结点插一个指针的方法\n",
    "\n",
    "时间复杂度：$O(M+N)$\n",
    "\n",
    "空间复杂度：$O(1)$"
   ]
  },
  {
   "cell_type": "code",
   "execution_count": 90,
   "metadata": {
    "ExecuteTime": {
     "end_time": "2020-09-27T14:14:22.676666Z",
     "start_time": "2020-09-27T14:14:22.665770Z"
    }
   },
   "outputs": [],
   "source": [
    "# Definition for singly-linked list.\n",
    "class ListNode(object):\n",
    "    def __init__(self, x):\n",
    "        self.val = x\n",
    "        self.next = None\n",
    "        \n",
    "        \n",
    "class Solution(object):\n",
    "    def mergeTwoLists(self, l1, l2):\n",
    "        \"\"\"\n",
    "        :type l1: ListNode\n",
    "        :type l2: ListNode\n",
    "        :rtype: ListNode\n",
    "        \"\"\"\n",
    "        l_head = ListNode(-1)  # 相当于在第一个结点插一个指针，返回该指针而不是l末尾的指针\n",
    "        l = l_head\n",
    "        while l1 and l2:\n",
    "            if l1.val < l2.val:\n",
    "                l.next = l1\n",
    "                l1 = l1.next\n",
    "            else:\n",
    "                l.next = l2\n",
    "                l2 = l2.next\n",
    "            l = l.next\n",
    "        l.next = l1 if l1 else l2\n",
    "        return l_head.next\n",
    "        "
   ]
  },
  {
   "cell_type": "code",
   "execution_count": 92,
   "metadata": {
    "ExecuteTime": {
     "end_time": "2020-09-27T14:14:32.312638Z",
     "start_time": "2020-09-27T14:14:32.297027Z"
    }
   },
   "outputs": [
    {
     "data": {
      "text/plain": [
       "1"
      ]
     },
     "execution_count": 92,
     "metadata": {},
     "output_type": "execute_result"
    }
   ],
   "source": [
    "l1, l2 = ListNode(1), ListNode(2)\n",
    "l3, l4 = ListNode(3), ListNode(4)\n",
    "l5, l6, l22= ListNode(10), ListNode(6), ListNode(8)\n",
    "# l1\n",
    "l4.next = l5\n",
    "l3.next = l4\n",
    "l1.next = l3\n",
    "# l2\n",
    "l6.next = l22\n",
    "l2.next = l6\n",
    "\n",
    "a = Solution()\n",
    "res = a.mergeTwoLists(l1, l2)\n",
    "res.val"
   ]
  },
  {
   "cell_type": "markdown",
   "metadata": {},
   "source": [
    "## 160. 相交链表"
   ]
  },
  {
   "cell_type": "code",
   "execution_count": 100,
   "metadata": {
    "ExecuteTime": {
     "end_time": "2020-09-27T14:16:52.690887Z",
     "start_time": "2020-09-27T14:16:52.682139Z"
    }
   },
   "outputs": [],
   "source": [
    "# Definition for singly-linked list.\n",
    "class ListNode(object):\n",
    "    def __init__(self, x):\n",
    "        self.val = x\n",
    "        self.next = None\n",
    "\n",
    "\n",
    "class Solution(object):\n",
    "    def getIntersectionNode(self, headA, headB):\n",
    "        \"\"\"\n",
    "        :type head1, head1: ListNode\n",
    "        :rtype: ListNode\n",
    "        \"\"\"\n",
    "        ha, hb = headA, headB\n",
    "        while ha != hb:\n",
    "            ha = ha.next if ha else headB\n",
    "            hb = hb.next if hb else headA\n",
    "        return ha\n"
   ]
  },
  {
   "cell_type": "code",
   "execution_count": 101,
   "metadata": {
    "ExecuteTime": {
     "end_time": "2020-09-27T14:16:53.073625Z",
     "start_time": "2020-09-27T14:16:53.060888Z"
    }
   },
   "outputs": [
    {
     "data": {
      "text/plain": [
       "4"
      ]
     },
     "execution_count": 101,
     "metadata": {},
     "output_type": "execute_result"
    }
   ],
   "source": [
    "l1, l2 = ListNode(3), ListNode(2)\n",
    "l3, l4 = ListNode(1), ListNode(4)\n",
    "l5, l6, l22= ListNode(6), ListNode(6), ListNode(4)\n",
    "# l1\n",
    "l4.next = l5\n",
    "l3.next = l4\n",
    "l1.next = l3\n",
    "# l2\n",
    "l2.next = l4\n",
    "\n",
    "a = Solution()\n",
    "res = a.getIntersectionNode(l1, l2)\n",
    "res.val"
   ]
  },
  {
   "cell_type": "code",
   "execution_count": null,
   "metadata": {},
   "outputs": [],
   "source": []
  }
 ],
 "metadata": {
  "kernelspec": {
   "display_name": "Python 3",
   "language": "python",
   "name": "python3"
  },
  "language_info": {
   "codemirror_mode": {
    "name": "ipython",
    "version": 3
   },
   "file_extension": ".py",
   "mimetype": "text/x-python",
   "name": "python",
   "nbconvert_exporter": "python",
   "pygments_lexer": "ipython3",
   "version": "3.7.6"
  },
  "toc": {
   "base_numbering": 1,
   "nav_menu": {},
   "number_sections": true,
   "sideBar": true,
   "skip_h1_title": false,
   "title_cell": "Table of Contents",
   "title_sidebar": "Contents",
   "toc_cell": false,
   "toc_position": {},
   "toc_section_display": true,
   "toc_window_display": true
  },
  "varInspector": {
   "cols": {
    "lenName": 16,
    "lenType": 16,
    "lenVar": 40
   },
   "kernels_config": {
    "python": {
     "delete_cmd_postfix": "",
     "delete_cmd_prefix": "del ",
     "library": "var_list.py",
     "varRefreshCmd": "print(var_dic_list())"
    },
    "r": {
     "delete_cmd_postfix": ") ",
     "delete_cmd_prefix": "rm(",
     "library": "var_list.r",
     "varRefreshCmd": "cat(var_dic_list()) "
    }
   },
   "types_to_exclude": [
    "module",
    "function",
    "builtin_function_or_method",
    "instance",
    "_Feature"
   ],
   "window_display": false
  }
 },
 "nbformat": 4,
 "nbformat_minor": 4
}
