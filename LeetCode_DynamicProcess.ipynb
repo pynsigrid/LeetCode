{
 "cells": [
  {
   "cell_type": "markdown",
   "metadata": {},
   "source": [
    "## 53. 最大子序和"
   ]
  },
  {
   "cell_type": "markdown",
   "metadata": {
    "ExecuteTime": {
     "end_time": "2020-12-20T12:37:26.327522Z",
     "start_time": "2020-12-20T12:37:26.322959Z"
    }
   },
   "source": [
    "输入: [-2,1,-3,4,-1,2,1,-5,4]\n",
    "    \n",
    "输出: 6\n",
    "\n",
    "解释: 连续子数组 [4,-1,2,1] 的和最大，为 6。"
   ]
  },
  {
   "cell_type": "code",
   "execution_count": 16,
   "metadata": {
    "ExecuteTime": {
     "end_time": "2020-12-20T12:50:46.064053Z",
     "start_time": "2020-12-20T12:50:46.057527Z"
    }
   },
   "outputs": [],
   "source": [
    "class Solution(object):\n",
    "    def maxSubArray(self, nums):\n",
    "        n = len(nums)\n",
    "        dp = [0 for _ in range(n)]\n",
    "        for i in range(n):\n",
    "            dp[i] = max(dp[i-1]+nums[i], nums[i])\n",
    "#             print(dp)\n",
    "        return max(dp)"
   ]
  },
  {
   "cell_type": "code",
   "execution_count": 17,
   "metadata": {
    "ExecuteTime": {
     "end_time": "2020-12-20T12:50:46.264597Z",
     "start_time": "2020-12-20T12:50:46.257286Z"
    }
   },
   "outputs": [
    {
     "data": {
      "text/plain": [
       "6"
      ]
     },
     "execution_count": 17,
     "metadata": {},
     "output_type": "execute_result"
    }
   ],
   "source": [
    "nums =  [-2,1,-3,4,-1,2,1,-5,4]\n",
    "a = Solution()\n",
    "a.maxSubArray(nums)"
   ]
  },
  {
   "cell_type": "markdown",
   "metadata": {},
   "source": [
    "## 70. 爬楼梯"
   ]
  },
  {
   "cell_type": "markdown",
   "metadata": {},
   "source": [
    "输入： 3\n",
    "\n",
    "输出： 3\n",
    "\n",
    "解释： 有三种方法可以爬到楼顶。\n",
    "\n",
    "1.  1 阶 + 1 阶 + 1 阶\n",
    "2.  1 阶 + 2 阶\n",
    "3.  2 阶 + 1 阶"
   ]
  },
  {
   "cell_type": "markdown",
   "metadata": {},
   "source": [
    "递归，但是超时了"
   ]
  },
  {
   "cell_type": "code",
   "execution_count": 26,
   "metadata": {
    "ExecuteTime": {
     "end_time": "2020-12-20T12:56:42.765895Z",
     "start_time": "2020-12-20T12:56:42.760205Z"
    }
   },
   "outputs": [],
   "source": [
    "class Solution(object):\n",
    "    def climbStairs(self, n):\n",
    "        if n == 1 or n == 0:  # 终止条件 \n",
    "            return 1\n",
    "        \n",
    "        return self.climbStairs(n-1)+self.climbStairs(n-2)"
   ]
  },
  {
   "cell_type": "markdown",
   "metadata": {},
   "source": [
    "动态规划，构造dp表\n",
    "1. 状态：构造dp表格表示第n阶台阶有dp[n]种走法\n",
    "2. 最优子状态：n的状态只于n-1和n-2时有关，dp[n] = f(dp[n-1], dp[n-2])\n",
    "3. 状态转移矩阵：易得，从dp[n-1]可以再走一步到dp[n]，从dp[n-2]可以再走两步到dp[n]，所以dp[n]的走法应该是二者走法的数值之和。dp[n] = dp[n-1]+dp[n-2]\n"
   ]
  },
  {
   "cell_type": "code",
   "execution_count": 43,
   "metadata": {
    "ExecuteTime": {
     "end_time": "2020-12-20T13:53:36.138894Z",
     "start_time": "2020-12-20T13:53:36.131882Z"
    }
   },
   "outputs": [],
   "source": [
    "class Solution(object):\n",
    "    def climbStairs(self, n):\n",
    "        dp = [0 for _ in range(n+1)]\n",
    "        dp[0], dp[1] = 1, 1 \n",
    "        for i in range(2, n+1):\n",
    "            dp[i] = dp[i-1]+dp[i-2]\n",
    "            print(dp)\n",
    "        return dp[-1]"
   ]
  },
  {
   "cell_type": "code",
   "execution_count": 44,
   "metadata": {
    "ExecuteTime": {
     "end_time": "2020-12-20T13:53:36.373227Z",
     "start_time": "2020-12-20T13:53:36.364733Z"
    }
   },
   "outputs": [
    {
     "name": "stdout",
     "output_type": "stream",
     "text": [
      "[1, 1, 2, 0]\n",
      "[1, 1, 2, 3]\n"
     ]
    },
    {
     "data": {
      "text/plain": [
       "3"
      ]
     },
     "execution_count": 44,
     "metadata": {},
     "output_type": "execute_result"
    }
   ],
   "source": [
    "a = Solution()\n",
    "a.climbStairs(3)"
   ]
  },
  {
   "cell_type": "markdown",
   "metadata": {},
   "source": [
    "## 198. 打家劫舍"
   ]
  },
  {
   "cell_type": "markdown",
   "metadata": {},
   "source": [
    "输入：[1,2,3,1]\n",
    "\n",
    "输出：4\n",
    "\n",
    "解释：偷窃 1 号房屋 (金额 = 1) ，然后偷窃 3 号房屋 (金额 = 3)。\n",
    "     偷窃到的最高金额 = 1 + 3 = 4 。"
   ]
  },
  {
   "cell_type": "markdown",
   "metadata": {},
   "source": [
    "动态规划：\n",
    "1. 子问题：\n",
    " f(k) = 偷 [0..k) 房间中的最大金额\n",
    "\n",
    "2. 转移方程：\n",
    "f(k) = max{ rob(k-1), nums[k-1] + rob(k-2)\n",
    "\n",
    "3. 边界：\n",
    "f(0) = 0\n",
    "f(1) = nums[0]\n",
    "\n",
    "⚠️n和n+1why？？？"
   ]
  },
  {
   "cell_type": "code",
   "execution_count": 79,
   "metadata": {
    "ExecuteTime": {
     "end_time": "2020-12-20T14:35:45.721861Z",
     "start_time": "2020-12-20T14:35:45.714717Z"
    }
   },
   "outputs": [],
   "source": [
    "class Solution(object):\n",
    "    def rob(self, nums):\n",
    "        n = len(nums)\n",
    "        dp = [0 for _ in range(n+1)]\n",
    "        dp[0] = 0\n",
    "        dp[1] = nums[0]\n",
    "        for i in range(2, n+1):\n",
    "            dp[i] = max(dp[i-1], dp[i-2]+nums[i-1])\n",
    "            \n",
    "        return max(dp)"
   ]
  },
  {
   "cell_type": "code",
   "execution_count": 78,
   "metadata": {
    "ExecuteTime": {
     "end_time": "2020-12-20T14:33:37.088007Z",
     "start_time": "2020-12-20T14:33:37.080664Z"
    }
   },
   "outputs": [
    {
     "data": {
      "text/plain": [
       "12"
      ]
     },
     "execution_count": 78,
     "metadata": {},
     "output_type": "execute_result"
    }
   ],
   "source": [
    "nums = [2,7,9,3,1]\n",
    "a = Solution()\n",
    "a.rob(nums)"
   ]
  },
  {
   "cell_type": "markdown",
   "metadata": {},
   "source": [
    "## 5. 最长回文子串"
   ]
  },
  {
   "cell_type": "markdown",
   "metadata": {},
   "source": [
    "输入: \"babad\"\n",
    "\n",
    "输出: \"bab\"\n",
    "\n",
    "注意: \"aba\" 也是一个有效答案。"
   ]
  },
  {
   "cell_type": "markdown",
   "metadata": {},
   "source": [
    "动态规划\n",
    "1. 状态：dp[left:right]\n",
    "2. 最优子解：dp[left-1:right+1] = g(dp[left:right])\n",
    "3. 状态转移方程：if s[left]==s[right]: left--;right++\n",
    "🍓🍓🍓：\n",
    "1. 关于中心字母的对称和关于中心线的对称\n",
    "2. return的是s[left+1:right]，因为如果left=0时会变成-1的索引"
   ]
  },
  {
   "cell_type": "code",
   "execution_count": 34,
   "metadata": {
    "ExecuteTime": {
     "end_time": "2020-12-22T12:00:51.325801Z",
     "start_time": "2020-12-22T12:00:51.315404Z"
    }
   },
   "outputs": [],
   "source": [
    "class Solution(object):\n",
    "    def longestPalindrome(self, s):\n",
    "        if s == s[::-1]: return s\n",
    "        res = s[:1]  # 不用从空字符串开始，因为‘a’也是回文\n",
    "        for i in range(len(s)):\n",
    "            palin_odd = self.spread(s, i, i)\n",
    "            palin_even = self.spread(s, i, i+1)  # 🍓🍓🍓\n",
    "#             print(palin_odd, palin_even, res)\n",
    "            res = max(palin_odd, palin_even, res, key=len)\n",
    "            \n",
    "        return res\n",
    "    \n",
    "    def spread(self, s, left, right):\n",
    "        p = ''\n",
    "        while left >= 0 and right < len(s) and s[left] == s[right]:  # 🍓🍓🍓left=0注意开头的情况\n",
    "            p = s[left:right+1]  # 🍓🍓🍓索引接下来会变\n",
    "            left -= 1  \n",
    "            right += 1\n",
    "            print(left, right, s[left:right+1], s[left+1:right])\n",
    "        return p\n",
    "#         return s[left+1:right]  # 等同"
   ]
  },
  {
   "cell_type": "code",
   "execution_count": 35,
   "metadata": {
    "ExecuteTime": {
     "end_time": "2020-12-22T12:00:51.669409Z",
     "start_time": "2020-12-22T12:00:51.662116Z"
    }
   },
   "outputs": [
    {
     "name": "stdout",
     "output_type": "stream",
     "text": [
      "-1 1  a\n",
      "0 2 aba b\n",
      "-1 3 g aba\n",
      "1 3 bag a\n",
      "2 4 ag g\n"
     ]
    },
    {
     "data": {
      "text/plain": [
       "'aba'"
      ]
     },
     "execution_count": 35,
     "metadata": {},
     "output_type": "execute_result"
    }
   ],
   "source": [
    "s = 'abag'\n",
    "a = Solution()\n",
    "a.longestPalindrome(s)"
   ]
  },
  {
   "cell_type": "code",
   "execution_count": null,
   "metadata": {},
   "outputs": [],
   "source": []
  },
  {
   "cell_type": "code",
   "execution_count": null,
   "metadata": {},
   "outputs": [],
   "source": []
  }
 ],
 "metadata": {
  "kernelspec": {
   "display_name": "Python 3",
   "language": "python",
   "name": "python3"
  },
  "language_info": {
   "codemirror_mode": {
    "name": "ipython",
    "version": 3
   },
   "file_extension": ".py",
   "mimetype": "text/x-python",
   "name": "python",
   "nbconvert_exporter": "python",
   "pygments_lexer": "ipython3",
   "version": "3.7.6"
  },
  "toc": {
   "base_numbering": 1,
   "nav_menu": {},
   "number_sections": true,
   "sideBar": true,
   "skip_h1_title": false,
   "title_cell": "Table of Contents",
   "title_sidebar": "Contents",
   "toc_cell": false,
   "toc_position": {},
   "toc_section_display": true,
   "toc_window_display": false
  },
  "varInspector": {
   "cols": {
    "lenName": 16,
    "lenType": 16,
    "lenVar": 40
   },
   "kernels_config": {
    "python": {
     "delete_cmd_postfix": "",
     "delete_cmd_prefix": "del ",
     "library": "var_list.py",
     "varRefreshCmd": "print(var_dic_list())"
    },
    "r": {
     "delete_cmd_postfix": ") ",
     "delete_cmd_prefix": "rm(",
     "library": "var_list.r",
     "varRefreshCmd": "cat(var_dic_list()) "
    }
   },
   "types_to_exclude": [
    "module",
    "function",
    "builtin_function_or_method",
    "instance",
    "_Feature"
   ],
   "window_display": false
  }
 },
 "nbformat": 4,
 "nbformat_minor": 4
}
