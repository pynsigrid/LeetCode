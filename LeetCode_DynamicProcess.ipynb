{
 "cells": [
  {
   "cell_type": "markdown",
   "metadata": {},
   "source": [
    "🍓🍓🍓dp的表格总是正推；状态转移方程总是反推"
   ]
  },
  {
   "cell_type": "markdown",
   "metadata": {},
   "source": [
    "## 53. 最大子序和"
   ]
  },
  {
   "cell_type": "markdown",
   "metadata": {
    "ExecuteTime": {
     "end_time": "2020-12-20T12:37:26.327522Z",
     "start_time": "2020-12-20T12:37:26.322959Z"
    }
   },
   "source": [
    "输入: [-2,1,-3,4,-1,2,1,-5,4]\n",
    "    \n",
    "输出: 6\n",
    "\n",
    "解释: 连续子数组 [4,-1,2,1] 的和最大，为 6。"
   ]
  },
  {
   "cell_type": "code",
   "execution_count": 16,
   "metadata": {
    "ExecuteTime": {
     "end_time": "2020-12-20T12:50:46.064053Z",
     "start_time": "2020-12-20T12:50:46.057527Z"
    }
   },
   "outputs": [],
   "source": [
    "class Solution(object):\n",
    "    def maxSubArray(self, nums):\n",
    "        n = len(nums)\n",
    "        dp = [0 for _ in range(n)]\n",
    "        for i in range(n):\n",
    "            dp[i] = max(dp[i-1]+nums[i], nums[i])\n",
    "#             print(dp)\n",
    "        return max(dp)"
   ]
  },
  {
   "cell_type": "code",
   "execution_count": 17,
   "metadata": {
    "ExecuteTime": {
     "end_time": "2020-12-20T12:50:46.264597Z",
     "start_time": "2020-12-20T12:50:46.257286Z"
    }
   },
   "outputs": [
    {
     "data": {
      "text/plain": [
       "6"
      ]
     },
     "execution_count": 17,
     "metadata": {},
     "output_type": "execute_result"
    }
   ],
   "source": [
    "nums =  [-2,1,-3,4,-1,2,1,-5,4]\n",
    "a = Solution()\n",
    "a.maxSubArray(nums)"
   ]
  },
  {
   "cell_type": "markdown",
   "metadata": {},
   "source": [
    "## 70. 爬楼梯"
   ]
  },
  {
   "cell_type": "markdown",
   "metadata": {},
   "source": [
    "输入： 3\n",
    "\n",
    "输出： 3\n",
    "\n",
    "解释： 有三种方法可以爬到楼顶。\n",
    "\n",
    "1.  1 阶 + 1 阶 + 1 阶\n",
    "2.  1 阶 + 2 阶\n",
    "3.  2 阶 + 1 阶"
   ]
  },
  {
   "cell_type": "markdown",
   "metadata": {},
   "source": [
    "递归，但是超时了"
   ]
  },
  {
   "cell_type": "code",
   "execution_count": 26,
   "metadata": {
    "ExecuteTime": {
     "end_time": "2020-12-20T12:56:42.765895Z",
     "start_time": "2020-12-20T12:56:42.760205Z"
    }
   },
   "outputs": [],
   "source": [
    "class Solution(object):\n",
    "    def climbStairs(self, n):\n",
    "        if n == 1 or n == 0:  # 终止条件 \n",
    "            return 1\n",
    "        \n",
    "        return self.climbStairs(n-1)+self.climbStairs(n-2)"
   ]
  },
  {
   "cell_type": "markdown",
   "metadata": {},
   "source": [
    "动态规划，构造dp表\n",
    "1. 状态：构造dp表格表示第n阶台阶有dp[n]种走法\n",
    "2. 最优子状态：n的状态只于n-1和n-2时有关，dp[n] = f(dp[n-1], dp[n-2])\n",
    "3. 状态转移矩阵：易得，从dp[n-1]可以再走一步到dp[n]，从dp[n-2]可以再走两步到dp[n]，所以dp[n]的走法应该是二者走法的数值之和。dp[n] = dp[n-1]+dp[n-2]\n"
   ]
  },
  {
   "cell_type": "code",
   "execution_count": 43,
   "metadata": {
    "ExecuteTime": {
     "end_time": "2020-12-20T13:53:36.138894Z",
     "start_time": "2020-12-20T13:53:36.131882Z"
    }
   },
   "outputs": [],
   "source": [
    "class Solution(object):\n",
    "    def climbStairs(self, n):\n",
    "        dp = [0 for _ in range(n+1)]\n",
    "        dp[0], dp[1] = 1, 1 \n",
    "        for i in range(2, n+1):\n",
    "            dp[i] = dp[i-1]+dp[i-2]\n",
    "            print(dp)\n",
    "        return dp[-1]"
   ]
  },
  {
   "cell_type": "code",
   "execution_count": 44,
   "metadata": {
    "ExecuteTime": {
     "end_time": "2020-12-20T13:53:36.373227Z",
     "start_time": "2020-12-20T13:53:36.364733Z"
    }
   },
   "outputs": [
    {
     "name": "stdout",
     "output_type": "stream",
     "text": [
      "[1, 1, 2, 0]\n",
      "[1, 1, 2, 3]\n"
     ]
    },
    {
     "data": {
      "text/plain": [
       "3"
      ]
     },
     "execution_count": 44,
     "metadata": {},
     "output_type": "execute_result"
    }
   ],
   "source": [
    "a = Solution()\n",
    "a.climbStairs(3)"
   ]
  },
  {
   "cell_type": "markdown",
   "metadata": {},
   "source": [
    "## 198. 打家劫舍"
   ]
  },
  {
   "cell_type": "markdown",
   "metadata": {},
   "source": [
    "输入：[1,2,3,1]\n",
    "\n",
    "输出：4\n",
    "\n",
    "解释：偷窃 1 号房屋 (金额 = 1) ，然后偷窃 3 号房屋 (金额 = 3)。\n",
    "     偷窃到的最高金额 = 1 + 3 = 4 。"
   ]
  },
  {
   "cell_type": "markdown",
   "metadata": {},
   "source": [
    "动态规划：\n",
    "1. 子问题：\n",
    " f(k) = 偷 [0..k) 房间中的最大金额\n",
    "\n",
    "2. 转移方程：\n",
    "f(k) = max{ rob(k-1), nums[k-1] + rob(k-2)\n",
    "\n",
    "3. 边界：\n",
    "f(0) = 0\n",
    "f(1) = nums[0]\n",
    "\n",
    "⚠️n和n+1why？？？"
   ]
  },
  {
   "cell_type": "code",
   "execution_count": 79,
   "metadata": {
    "ExecuteTime": {
     "end_time": "2020-12-20T14:35:45.721861Z",
     "start_time": "2020-12-20T14:35:45.714717Z"
    }
   },
   "outputs": [],
   "source": [
    "class Solution(object):\n",
    "    def rob(self, nums):\n",
    "        n = len(nums)\n",
    "        dp = [0 for _ in range(n+1)]\n",
    "        dp[0] = 0\n",
    "        dp[1] = nums[0]\n",
    "        for i in range(2, n+1):\n",
    "            dp[i] = max(dp[i-1], dp[i-2]+nums[i-1])\n",
    "            \n",
    "        return max(dp)"
   ]
  },
  {
   "cell_type": "code",
   "execution_count": 78,
   "metadata": {
    "ExecuteTime": {
     "end_time": "2020-12-20T14:33:37.088007Z",
     "start_time": "2020-12-20T14:33:37.080664Z"
    }
   },
   "outputs": [
    {
     "data": {
      "text/plain": [
       "12"
      ]
     },
     "execution_count": 78,
     "metadata": {},
     "output_type": "execute_result"
    }
   ],
   "source": [
    "nums = [2,7,9,3,1]\n",
    "a = Solution()\n",
    "a.rob(nums)"
   ]
  },
  {
   "cell_type": "markdown",
   "metadata": {},
   "source": [
    "## 5. 最长回文子串"
   ]
  },
  {
   "cell_type": "markdown",
   "metadata": {},
   "source": [
    "输入: \"babad\"\n",
    "\n",
    "输出: \"bab\"\n",
    "\n",
    "注意: \"aba\" 也是一个有效答案。"
   ]
  },
  {
   "cell_type": "markdown",
   "metadata": {},
   "source": [
    "动态规划\n",
    "1. 状态：dp[left:right]\n",
    "2. 最优子解：dp[left-1:right+1] = g(dp[left:right])\n",
    "3. 状态转移方程：if s[left]==s[right]: left--;right++\n",
    "🍓🍓🍓：\n",
    "1. 关于中心字母的对称和关于中心线的对称\n",
    "2. return的是s[left+1:right]，因为如果left=0时会变成-1的索引"
   ]
  },
  {
   "cell_type": "code",
   "execution_count": 34,
   "metadata": {
    "ExecuteTime": {
     "end_time": "2020-12-22T12:00:51.325801Z",
     "start_time": "2020-12-22T12:00:51.315404Z"
    }
   },
   "outputs": [],
   "source": [
    "class Solution(object):\n",
    "    def longestPalindrome(self, s):\n",
    "        if s == s[::-1]: return s\n",
    "        res = s[:1]  # 不用从空字符串开始，因为‘a’也是回文\n",
    "        for i in range(len(s)):\n",
    "            palin_odd = self.spread(s, i, i)\n",
    "            palin_even = self.spread(s, i, i+1)  # 🍓🍓🍓\n",
    "#             print(palin_odd, palin_even, res)\n",
    "            res = max(palin_odd, palin_even, res, key=len)\n",
    "            \n",
    "        return res\n",
    "    \n",
    "    def spread(self, s, left, right):\n",
    "        p = ''\n",
    "        while left >= 0 and right < len(s) and s[left] == s[right]:  # 🍓🍓🍓left=0注意开头的情况\n",
    "            p = s[left:right+1]  # 🍓🍓🍓索引接下来会变\n",
    "            left -= 1  \n",
    "            right += 1\n",
    "            print(left, right, s[left:right+1], s[left+1:right])\n",
    "        return p\n",
    "#         return s[left+1:right]  # 等同"
   ]
  },
  {
   "cell_type": "code",
   "execution_count": 35,
   "metadata": {
    "ExecuteTime": {
     "end_time": "2020-12-22T12:00:51.669409Z",
     "start_time": "2020-12-22T12:00:51.662116Z"
    }
   },
   "outputs": [
    {
     "name": "stdout",
     "output_type": "stream",
     "text": [
      "-1 1  a\n",
      "0 2 aba b\n",
      "-1 3 g aba\n",
      "1 3 bag a\n",
      "2 4 ag g\n"
     ]
    },
    {
     "data": {
      "text/plain": [
       "'aba'"
      ]
     },
     "execution_count": 35,
     "metadata": {},
     "output_type": "execute_result"
    }
   ],
   "source": [
    "s = 'abag'\n",
    "a = Solution()\n",
    "a.longestPalindrome(s)"
   ]
  },
  {
   "attachments": {
    "image.png": {
     "image/png": "[encoded data removed]"
    }
   },
   "cell_type": "markdown",
   "metadata": {},
   "source": [
    "## 62. 不同路径\n",
    "![image.png](attachment:image.png)\n",
    "输入：m = 3, n = 7\n",
    "\n",
    "输出：28\n",
    "\n",
    "解释：\n",
    "从左上角开始，总共有 28 条路径可以到达右下角。"
   ]
  },
  {
   "cell_type": "markdown",
   "metadata": {},
   "source": [
    "动态规划：\n",
    "1. 状态：dp[i][j]\n",
    "2. 最优子解：dp[i][j] = g(dp[i-1][j], dp[i][j-1])\n",
    "3. 状态转移方程：dp[i][j] = dp[i-1][j] + dp[i][j-1]\n",
    "4. 边界：第一列、第一行为1\n",
    "\n",
    "时间复杂度：$O(M\\times N)$\n",
    "\n",
    "空间复杂度：$O(M\\times N)$"
   ]
  },
  {
   "cell_type": "code",
   "execution_count": 39,
   "metadata": {
    "ExecuteTime": {
     "end_time": "2020-12-22T12:30:40.961259Z",
     "start_time": "2020-12-22T12:30:40.953388Z"
    }
   },
   "outputs": [],
   "source": [
    "class Solution(object):\n",
    "    def uniquePaths(self, m, n):\n",
    "        dp = [[1]*n ]+([[1]+[0]*(n-1)])*(m-1)\n",
    "        for i in range(1, m):\n",
    "            for j in range(1, n):\n",
    "                dp[i][j] = dp[i-1][j] + dp[i][j-1]\n",
    "        return dp[-1][-1]"
   ]
  },
  {
   "cell_type": "code",
   "execution_count": 43,
   "metadata": {
    "ExecuteTime": {
     "end_time": "2020-12-22T12:31:18.834889Z",
     "start_time": "2020-12-22T12:31:18.828349Z"
    }
   },
   "outputs": [
    {
     "data": {
      "text/plain": [
       "28"
      ]
     },
     "execution_count": 43,
     "metadata": {},
     "output_type": "execute_result"
    }
   ],
   "source": [
    "m = 3\n",
    "n = 7\n",
    "a = Solution()\n",
    "a.uniquePaths(m, n)"
   ]
  },
  {
   "cell_type": "markdown",
   "metadata": {},
   "source": [
    "## 279. 完全平方数\n",
    "输入: n = 13\n",
    "\n",
    "输出: 2\n",
    "\n",
    "解释: 13 = 4 + 9."
   ]
  },
  {
   "attachments": {
    "image.png": {
     "image/png": "[encoded data removed]"
    }
   },
   "cell_type": "markdown",
   "metadata": {},
   "source": [
    "动态规划：\n",
    "![image.png](attachment:image.png)\n",
    "1. 状态：dp[i]\n",
    "2. 最优子解：dp[i] = g(dp[i-K])\n",
    "3. 状态转移方程：dp[i] = dp[i-K] + 1\n",
    "4. 边界：dp[0] = 0\n",
    "\n",
    "时间复杂度：$O(N)$\n",
    "\n",
    "空间复杂度：$O(1)$"
   ]
  },
  {
   "cell_type": "code",
   "execution_count": 63,
   "metadata": {
    "ExecuteTime": {
     "end_time": "2020-12-23T08:24:48.106473Z",
     "start_time": "2020-12-23T08:24:48.095546Z"
    }
   },
   "outputs": [],
   "source": [
    "class Solution(object):\n",
    "    def numSquares(self, n):\n",
    "        \"\"\"\n",
    "        :type n: int\n",
    "        :rtype: int\n",
    "        \"\"\"\n",
    "        square_nums = [i**2 for i in range(0, int(math.sqrt(n))+1)]\n",
    "        dp = [float('inf')] * (n+1)\n",
    "        dp[0] = 0\n",
    "        \n",
    "        for i in range(1, n+1):\n",
    "            for square in square_nums:\n",
    "                if i < square:\n",
    "                    break\n",
    "                dp[i] = min(dp[i], dp[i-square] + 1)\n",
    "        \n",
    "        return dp[-1]"
   ]
  },
  {
   "cell_type": "markdown",
   "metadata": {},
   "source": [
    "🍓🍓🍓：此方法不行，因为“每次减去最大的一个平方数”的算法不一定是步骤最少的情况"
   ]
  },
  {
   "cell_type": "code",
   "execution_count": 62,
   "metadata": {
    "ExecuteTime": {
     "end_time": "2020-12-23T08:18:52.508706Z",
     "start_time": "2020-12-23T08:18:52.499293Z"
    }
   },
   "outputs": [
    {
     "name": "stdout",
     "output_type": "stream",
     "text": [
      "i = 2, res = 12\n",
      "i = 2, res = 3\n",
      "i = 1, res = 3\n",
      "2\n"
     ]
    }
   ],
   "source": [
    "import numpy as np\n",
    "n = 12\n",
    "sqrt = int(np.sqrt(n))\n",
    "dp = list()\n",
    "for i in range(1, sqrt+1):\n",
    "    dp.append(i*i)\n",
    "res = n\n",
    "i = sqrt-1\n",
    "cnt = 0\n",
    "while res >= 0 and i > 0:\n",
    "    print(f'i = {i}, res = {res}')\n",
    "\n",
    "    if res > dp[i]:\n",
    "        res -= dp[i]\n",
    "        cnt += 1\n",
    "        \n",
    "    else:\n",
    "        i -= 1\n",
    "print(cnt+1)    "
   ]
  },
  {
   "cell_type": "markdown",
   "metadata": {},
   "source": [
    "## 91. 解码方法\n",
    "输入：s = \"226\"\n",
    "\n",
    "输出：3\n",
    "\n",
    "解释：它可以解码为 \"BZ\" (2 26), \"VF\" (22 6), 或者 \"BBF\" (2 2 6) 。\n"
   ]
  },
  {
   "cell_type": "markdown",
   "metadata": {},
   "source": [
    "### 方法1"
   ]
  },
  {
   "cell_type": "code",
   "execution_count": 83,
   "metadata": {
    "ExecuteTime": {
     "end_time": "2020-12-25T02:35:00.196426Z",
     "start_time": "2020-12-25T02:35:00.188449Z"
    }
   },
   "outputs": [],
   "source": [
    "def numDecodings(self, s: str) -> int:\n",
    "    if s.startswith('0'):  # 开头有 ‘0’ 直接返回\n",
    "        return 0\n",
    "\n",
    "    n = len(s)\n",
    "    dp = [1] * (n+1)  # 重点是 dp[0], dp[1] = 1, 1\n",
    "\n",
    "    for i in range(2, n+1):\n",
    "        if s[i-1] == '0' and s[i-2] not in '12':  # 出现前导 ‘0’ 的情况，不能解码，直接返回\n",
    "            return 0\n",
    "        if s[i-2:i] in ['10', '20']:  # 只有组合在一起才能解码\n",
    "            dp[i] = dp[i-2]\n",
    "        elif '10' < s[i-2:i] <= '26': # 两种解码方式\n",
    "            dp[i] = dp[i-1] + dp[i-2]\n",
    "        else:                         # '01'到 ‘09’ 或 > '26'，只有单独才能解码\n",
    "            dp[i] = dp[i-1]\n",
    "    return dp[n]\n"
   ]
  },
  {
   "cell_type": "markdown",
   "metadata": {},
   "source": [
    "### 方法2\n",
    "判断两个状态：与上一个合并/不合并\n",
    "1. 状态:合并join[i]和不合并nojoin[i]\n",
    "2. 最优子解：$join[i] = g(join[i-1], nojoin[i])$, $nojoin[i] = g(join[i-1], nojoin[i])$\n",
    "3. 状态转移方程：如果s[i-1:i+1]在0～26之间：$join[i] = nojoin[i-1]$(保持不变)；\n",
    "\n",
    "如果s[i]不为0：$nojoin[i] = join[i-1] + nojoin[i]$（增加）\n",
    "4. 边界$join[0]=0, nojoin[0]=1$"
   ]
  },
  {
   "cell_type": "code",
   "execution_count": 84,
   "metadata": {
    "ExecuteTime": {
     "end_time": "2020-12-25T02:37:53.229967Z",
     "start_time": "2020-12-25T02:37:53.222245Z"
    }
   },
   "outputs": [],
   "source": [
    "class Solution:\n",
    "    def numDecodings(self, s):\n",
    "        n = len(s)\n",
    "        if s[0] == '0' or n == 0: return 0  # 🍓🍓🍓：注意‘01’的情况\n",
    "        dp = [[0, 0]for _ in range(n)]\n",
    "        dp[0][1] = 1\n",
    "        for i in range(1, n):\n",
    "            if s[i-1:i+1]>='10' and s[i-1:i+1]<='26':  # 合并\n",
    "                dp[i][0] = dp[i-1][1]\n",
    "#                 print('okk')\n",
    "            if s[i] != '0':\n",
    "                dp[i][1] = dp[i-1][0]+dp[i-1][1]  # 不合并\n",
    "#             print(s[i], dp)\n",
    "        return dp[-1][1]+dp[-1][0]"
   ]
  },
  {
   "cell_type": "code",
   "execution_count": 82,
   "metadata": {
    "ExecuteTime": {
     "end_time": "2020-12-25T02:20:17.793823Z",
     "start_time": "2020-12-25T02:20:17.788262Z"
    }
   },
   "outputs": [
    {
     "name": "stdout",
     "output_type": "stream",
     "text": [
      "okk\n",
      "2 [[0, 1], [1, 1], [0, 0], [0, 0], [0, 0], [0, 0]]\n",
      "okk\n",
      "1 [[0, 1], [1, 1], [1, 2], [0, 0], [0, 0], [0, 0]]\n",
      "okk\n",
      "0 [[0, 1], [1, 1], [1, 2], [2, 0], [0, 0], [0, 0]]\n",
      "3 [[0, 1], [1, 1], [1, 2], [2, 0], [0, 2], [0, 0]]\n",
      "4 [[0, 1], [1, 1], [1, 2], [2, 0], [0, 2], [0, 2]]\n"
     ]
    },
    {
     "data": {
      "text/plain": [
       "2"
      ]
     },
     "execution_count": 82,
     "metadata": {},
     "output_type": "execute_result"
    }
   ],
   "source": [
    "s = '121034'\n",
    "a = Solution()\n",
    "a.numDecodings(s)"
   ]
  },
  {
   "cell_type": "markdown",
   "metadata": {},
   "source": [
    "简化"
   ]
  },
  {
   "cell_type": "code",
   "execution_count": 77,
   "metadata": {
    "ExecuteTime": {
     "end_time": "2020-12-25T02:18:21.575534Z",
     "start_time": "2020-12-25T02:18:21.567576Z"
    }
   },
   "outputs": [],
   "source": [
    "class Solution:\n",
    "    def numDecodings(self, s):\n",
    "        n = len(s)\n",
    "        if n==0: return 0\n",
    "        dp = [1,0]\n",
    "        dp[1] = 1 if s[0]!='0' else 0 \n",
    "        for i in range(1,n):\n",
    "            dp.append(0)\n",
    "            if s[i]!='0':\n",
    "                dp[i+1] += dp[i]\n",
    "            if s[i-1:i+1]>='10' and s[i-1:i+1]<='26':\n",
    "                dp[i+1] += dp[i-1]\n",
    "        \n",
    "        return dp[-1]"
   ]
  },
  {
   "cell_type": "markdown",
   "metadata": {},
   "source": [
    "## 131. 分割回文串"
   ]
  },
  {
   "cell_type": "markdown",
   "metadata": {},
   "source": [
    "dp"
   ]
  },
  {
   "cell_type": "code",
   "execution_count": null,
   "metadata": {},
   "outputs": [],
   "source": [
    "class Solution:\n",
    "    def partition(self, s: str) -> List[List[str]]:\n",
    "        if s == \"\":\n",
    "            return []\n",
    "        ans = [[s[0]] ]\n",
    "        for i in range(1, len(s)):\n",
    "            curr = s[i]\n",
    "            newAns = []\n",
    "            for item in ans:\n",
    "                newAns.append(item + [curr])\n",
    "                if item[-1] == curr:\n",
    "                    newAns.append(item[0:-1] + [item[-1] + curr])\n",
    "                if len(item) >= 2 and item[-2] == curr:\n",
    "                    newAns.append(item[0:-2] + [item[-2] + item[-1] + curr])\n",
    "            ans = newAns \n",
    "        return ans\n",
    "\n",
    "作者：bei-ta-s\n",
    "链接：https://leetcode-cn.com/problems/palindrome-partitioning/solution/chao-jian-dan-yi-dong-de-dong-tai-gui-hua-fa-by-be/\n",
    "来源：力扣（LeetCode）\n",
    "著作权归作者所有。商业转载请联系作者获得授权，非商业转载请注明出处。"
   ]
  },
  {
   "cell_type": "markdown",
   "metadata": {},
   "source": [
    "递归"
   ]
  },
  {
   "cell_type": "code",
   "execution_count": null,
   "metadata": {},
   "outputs": [],
   "source": [
    "class Solution:\n",
    "    def partition(self, s: str) -> List[List[str]]:\n",
    "        if not s:\n",
    "            return [[]]\n",
    "        if len(s) == 1:\n",
    "            return [[s]]\n",
    "        ret = []\n",
    "        for i in range(1, len(s)+1):\n",
    "            if s[:i][::-1] == s[:i]:\n",
    "                ret += [[s[:i]]+j for j in self.partition(s[i:])]\n",
    "        return ret\n",
    "\n",
    "作者：ting-ting-28\n",
    "链接：https://leetcode-cn.com/problems/palindrome-partitioning/solution/python3-di-gui-jian-dan-yi-dong-by-ting-ting-28/\n",
    "来源：力扣（LeetCode）\n",
    "著作权归作者所有。商业转载请联系作者获得授权，非商业转载请注明出处。"
   ]
  },
  {
   "cell_type": "markdown",
   "metadata": {},
   "source": [
    "## 322. 零钱兑换\n",
    "步长可变的爬楼梯问题"
   ]
  },
  {
   "cell_type": "markdown",
   "metadata": {},
   "source": [
    "动态规划：\n",
    "1. 状态：dp[i]\n",
    "2. 最优子解：dp[i] = g(dp[i-C])\n",
    "3. 状态转移方程：dp[i] = min(dp[i], dp[i-K] + 1)\n",
    "4. 边界：dp[0] = 0\n",
    "\n",
    "时间复杂度：$O(N)$\n",
    "\n",
    "空间复杂度：$O(1)$"
   ]
  },
  {
   "cell_type": "code",
   "execution_count": 89,
   "metadata": {
    "ExecuteTime": {
     "end_time": "2020-12-27T03:15:03.197154Z",
     "start_time": "2020-12-27T03:15:03.189285Z"
    }
   },
   "outputs": [],
   "source": [
    "class Solution:\n",
    "    def coinChange(self, coins, amount):\n",
    "        dp = [float('inf')] * (amount + 1)\n",
    "        dp[0] = 0\n",
    "        \n",
    "        for coin in coins:\n",
    "            for x in range(coin, amount + 1):\n",
    "                dp[x] = min(dp[x], dp[x - coin] + 1)\n",
    "                print(coin, x, dp)\n",
    "        return dp[amount] if dp[amount] != float('inf') else -1 \n"
   ]
  },
  {
   "cell_type": "code",
   "execution_count": 90,
   "metadata": {
    "ExecuteTime": {
     "end_time": "2020-12-27T03:15:03.564655Z",
     "start_time": "2020-12-27T03:15:03.556845Z"
    }
   },
   "outputs": [
    {
     "name": "stdout",
     "output_type": "stream",
     "text": [
      "1 1 [0, 1, inf, inf, inf, inf, inf, inf, inf, inf, inf, inf]\n",
      "1 2 [0, 1, 2, inf, inf, inf, inf, inf, inf, inf, inf, inf]\n",
      "1 3 [0, 1, 2, 3, inf, inf, inf, inf, inf, inf, inf, inf]\n",
      "1 4 [0, 1, 2, 3, 4, inf, inf, inf, inf, inf, inf, inf]\n",
      "1 5 [0, 1, 2, 3, 4, 5, inf, inf, inf, inf, inf, inf]\n",
      "1 6 [0, 1, 2, 3, 4, 5, 6, inf, inf, inf, inf, inf]\n",
      "1 7 [0, 1, 2, 3, 4, 5, 6, 7, inf, inf, inf, inf]\n",
      "1 8 [0, 1, 2, 3, 4, 5, 6, 7, 8, inf, inf, inf]\n",
      "1 9 [0, 1, 2, 3, 4, 5, 6, 7, 8, 9, inf, inf]\n",
      "1 10 [0, 1, 2, 3, 4, 5, 6, 7, 8, 9, 10, inf]\n",
      "1 11 [0, 1, 2, 3, 4, 5, 6, 7, 8, 9, 10, 11]\n",
      "3 3 [0, 1, 2, 1, 4, 5, 6, 7, 8, 9, 10, 11]\n",
      "3 4 [0, 1, 2, 1, 2, 5, 6, 7, 8, 9, 10, 11]\n",
      "3 5 [0, 1, 2, 1, 2, 3, 6, 7, 8, 9, 10, 11]\n",
      "3 6 [0, 1, 2, 1, 2, 3, 2, 7, 8, 9, 10, 11]\n",
      "3 7 [0, 1, 2, 1, 2, 3, 2, 3, 8, 9, 10, 11]\n",
      "3 8 [0, 1, 2, 1, 2, 3, 2, 3, 4, 9, 10, 11]\n",
      "3 9 [0, 1, 2, 1, 2, 3, 2, 3, 4, 3, 10, 11]\n",
      "3 10 [0, 1, 2, 1, 2, 3, 2, 3, 4, 3, 4, 11]\n",
      "3 11 [0, 1, 2, 1, 2, 3, 2, 3, 4, 3, 4, 5]\n",
      "5 5 [0, 1, 2, 1, 2, 1, 2, 3, 4, 3, 4, 5]\n",
      "5 6 [0, 1, 2, 1, 2, 1, 2, 3, 4, 3, 4, 5]\n",
      "5 7 [0, 1, 2, 1, 2, 1, 2, 3, 4, 3, 4, 5]\n",
      "5 8 [0, 1, 2, 1, 2, 1, 2, 3, 2, 3, 4, 5]\n",
      "5 9 [0, 1, 2, 1, 2, 1, 2, 3, 2, 3, 4, 5]\n",
      "5 10 [0, 1, 2, 1, 2, 1, 2, 3, 2, 3, 2, 5]\n",
      "5 11 [0, 1, 2, 1, 2, 1, 2, 3, 2, 3, 2, 3]\n"
     ]
    },
    {
     "data": {
      "text/plain": [
       "3"
      ]
     },
     "execution_count": 90,
     "metadata": {},
     "output_type": "execute_result"
    }
   ],
   "source": [
    "coins = [1, 3, 5]\n",
    "amount = 11\n",
    "a = Solution()\n",
    "a.coinChange(coins, amount)"
   ]
  },
  {
   "cell_type": "code",
   "execution_count": null,
   "metadata": {},
   "outputs": [],
   "source": []
  }
 ],
 "metadata": {
  "kernelspec": {
   "display_name": "Python 3",
   "language": "python",
   "name": "python3"
  },
  "language_info": {
   "codemirror_mode": {
    "name": "ipython",
    "version": 3
   },
   "file_extension": ".py",
   "mimetype": "text/x-python",
   "name": "python",
   "nbconvert_exporter": "python",
   "pygments_lexer": "ipython3",
   "version": "3.7.6"
  },
  "toc": {
   "base_numbering": 1,
   "nav_menu": {},
   "number_sections": true,
   "sideBar": true,
   "skip_h1_title": false,
   "title_cell": "Table of Contents",
   "title_sidebar": "Contents",
   "toc_cell": false,
   "toc_position": {},
   "toc_section_display": true,
   "toc_window_display": false
  },
  "varInspector": {
   "cols": {
    "lenName": 16,
    "lenType": 16,
    "lenVar": 40
   },
   "kernels_config": {
    "python": {
     "delete_cmd_postfix": "",
     "delete_cmd_prefix": "del ",
     "library": "var_list.py",
     "varRefreshCmd": "print(var_dic_list())"
    },
    "r": {
     "delete_cmd_postfix": ") ",
     "delete_cmd_prefix": "rm(",
     "library": "var_list.r",
     "varRefreshCmd": "cat(var_dic_list()) "
    }
   },
   "types_to_exclude": [
    "module",
    "function",
    "builtin_function_or_method",
    "instance",
    "_Feature"
   ],
   "window_display": false
  }
 },
 "nbformat": 4,
 "nbformat_minor": 4
}
